{
 "cells": [
  {
   "cell_type": "markdown",
   "metadata": {},
   "source": [
    "**This notebook provides examples of how to train GCNNs on the training dataset and conduct hyperparameter optimization based on the loss on the validation set (function: run_sigopt_experiment).**\n",
    "\n",
    "Parameters:\n",
    "- struct_type: the structure representation to use (options: unrelaxed, relaxed, M3Gnet_relaxed)\n",
    "- model_type: the model architechture to use (options: CGCNN, e3nn, Painn)\n",
    "- gpu_num: the GPU to use\n",
    "- obs_budget: the budget of hyperparameter optimization\n",
    "- training_fraction: if not trained on the entire training set, the fraction of the training set to use\n",
    "- training_seed: if not trained on the entire training set, the random seed for selecting this fraction"
   ]
  },
  {
   "cell_type": "code",
   "execution_count": 1,
   "metadata": {},
   "outputs": [
    {
     "name": "stderr",
     "output_type": "stream",
     "text": [
      "/data/users/kritarth/.conda/envs/Perovskite_ML_Environment/lib/python3.10/site-packages/tqdm/auto.py:21: TqdmWarning: IProgress not found. Please update jupyter and ipywidgets. See https://ipywidgets.readthedocs.io/en/stable/user_install.html\n",
      "  from .autonotebook import tqdm as notebook_tqdm\n",
      "2025-06-23 22:24:06,235|ERROR|Failed to detect the name of this notebook, you can set it manually with the WANDB_NOTEBOOK_NAME environment variable to enable code saving.\n",
      "\u001b[34m\u001b[1mwandb\u001b[0m: Currently logged in as: \u001b[33mdkritarth\u001b[0m (\u001b[33mdkritarth-university-at-buffalo\u001b[0m). Use \u001b[1m`wandb login --relogin`\u001b[0m to force relogin\n"
     ]
    },
    {
     "data": {
      "text/plain": [
       "True"
      ]
     },
     "execution_count": 1,
     "metadata": {},
     "output_type": "execute_result"
    }
   ],
   "source": [
    "# from training.run_sigopt_experiment import run_sigopt_experiment\n",
    "from training.run_wandb_experiment import run_wandb_experiment\n",
    "import wandb\n",
    "wandb.login()"
   ]
  },
  {
   "cell_type": "markdown",
   "metadata": {},
   "source": [
    "# CGCNN"
   ]
  },
  {
   "cell_type": "code",
   "execution_count": 2,
   "metadata": {},
   "outputs": [
    {
     "name": "stdout",
     "output_type": "stream",
     "text": [
      "Loaded data\n",
      "Completed data processing\n",
      "Created wandb sweep configuration for 'dft_e_hull_htvs_data_unrelaxed_CGCNN_TrainingFraction0.125'\n",
      "Model type: CGCNN\n",
      "Structure type: unrelaxed\n",
      "Project name from config: perovskite-ordering-cgcnn-unrelaxed\n",
      "Using project name: perovskite-ordering-cgcnn-unrelaxed\n"
     ]
    },
    {
     "name": "stderr",
     "output_type": "stream",
     "text": [
      "2025-06-23 22:24:17,702|INFO|Starting sweep agent: entity=None, project=None, count=1\n"
     ]
    },
    {
     "name": "stdout",
     "output_type": "stream",
     "text": [
      "Create sweep with ID: hdb51ywq\n",
      "Sweep URL: https://wandb.ai/dkritarth-university-at-buffalo/perovskite-ordering-cgcnn-unrelaxed/sweeps/hdb51ywq\n",
      "Created wandb sweep with ID: hdb51ywq\n",
      "Project: perovskite-ordering-cgcnn-unrelaxed\n"
     ]
    },
    {
     "name": "stderr",
     "output_type": "stream",
     "text": [
      "\u001b[34m\u001b[1mwandb\u001b[0m: Agent Starting Run: g0xlg8ra with config:\n",
      "\u001b[34m\u001b[1mwandb\u001b[0m: \tMaxEpochs: 100\n",
      "\u001b[34m\u001b[1mwandb\u001b[0m: \tatom_fea_len: 159\n",
      "\u001b[34m\u001b[1mwandb\u001b[0m: \tbatch_size: 12\n",
      "\u001b[34m\u001b[1mwandb\u001b[0m: \th_fea_len: 84\n",
      "\u001b[34m\u001b[1mwandb\u001b[0m: \tlog_lr: -2\n",
      "\u001b[34m\u001b[1mwandb\u001b[0m: \tn_conv: 2\n",
      "\u001b[34m\u001b[1mwandb\u001b[0m: \tn_h: 2\n",
      "\u001b[34m\u001b[1mwandb\u001b[0m: \treduceLR_patience: 20\n",
      "2025-06-23 22:24:18,112|ERROR|Failed to detect the name of this notebook, you can set it manually with the WANDB_NOTEBOOK_NAME environment variable to enable code saving.\n"
     ]
    },
    {
     "data": {
      "text/html": [
       "wandb version 0.20.1 is available!  To upgrade, please run:\n",
       " $ pip install wandb --upgrade"
      ],
      "text/plain": [
       "<IPython.core.display.HTML object>"
      ]
     },
     "metadata": {},
     "output_type": "display_data"
    },
    {
     "data": {
      "text/html": [
       "Tracking run with wandb version 0.16.3"
      ],
      "text/plain": [
       "<IPython.core.display.HTML object>"
      ]
     },
     "metadata": {},
     "output_type": "display_data"
    },
    {
     "data": {
      "text/html": [
       "Run data is saved locally in <code>/data/users/kritarth/PerovskiteOrderingGCNNs/wandb/run-20250623_222418-g0xlg8ra</code>"
      ],
      "text/plain": [
       "<IPython.core.display.HTML object>"
      ]
     },
     "metadata": {},
     "output_type": "display_data"
    },
    {
     "data": {
      "text/html": [
       "Syncing run <strong><a href='https://wandb.ai/dkritarth-university-at-buffalo/perovskite-ordering-cgcnn-unrelaxed/runs/g0xlg8ra' target=\"_blank\">polar-sweep-1</a></strong> to <a href='https://wandb.ai/dkritarth-university-at-buffalo/perovskite-ordering-cgcnn-unrelaxed' target=\"_blank\">Weights & Biases</a> (<a href='https://wandb.me/run' target=\"_blank\">docs</a>)<br/>Sweep page: <a href='https://wandb.ai/dkritarth-university-at-buffalo/perovskite-ordering-cgcnn-unrelaxed/sweeps/hdb51ywq' target=\"_blank\">https://wandb.ai/dkritarth-university-at-buffalo/perovskite-ordering-cgcnn-unrelaxed/sweeps/hdb51ywq</a>"
      ],
      "text/plain": [
       "<IPython.core.display.HTML object>"
      ]
     },
     "metadata": {},
     "output_type": "display_data"
    },
    {
     "data": {
      "text/html": [
       " View project at <a href='https://wandb.ai/dkritarth-university-at-buffalo/perovskite-ordering-cgcnn-unrelaxed' target=\"_blank\">https://wandb.ai/dkritarth-university-at-buffalo/perovskite-ordering-cgcnn-unrelaxed</a>"
      ],
      "text/plain": [
       "<IPython.core.display.HTML object>"
      ]
     },
     "metadata": {},
     "output_type": "display_data"
    },
    {
     "data": {
      "text/html": [
       " View sweep at <a href='https://wandb.ai/dkritarth-university-at-buffalo/perovskite-ordering-cgcnn-unrelaxed/sweeps/hdb51ywq' target=\"_blank\">https://wandb.ai/dkritarth-university-at-buffalo/perovskite-ordering-cgcnn-unrelaxed/sweeps/hdb51ywq</a>"
      ],
      "text/plain": [
       "<IPython.core.display.HTML object>"
      ]
     },
     "metadata": {},
     "output_type": "display_data"
    },
    {
     "data": {
      "text/html": [
       " View run at <a href='https://wandb.ai/dkritarth-university-at-buffalo/perovskite-ordering-cgcnn-unrelaxed/runs/g0xlg8ra' target=\"_blank\">https://wandb.ai/dkritarth-university-at-buffalo/perovskite-ordering-cgcnn-unrelaxed/runs/g0xlg8ra</a>"
      ],
      "text/plain": [
       "<IPython.core.display.HTML object>"
      ]
     },
     "metadata": {},
     "output_type": "display_data"
    },
    {
     "name": "stderr",
     "output_type": "stream",
     "text": [
      "100%|██████████| 3111/3111 [00:00<00:00, 8211.60it/s]\n",
      "100%|██████████| 1277/1277 [00:00<00:00, 8553.90it/s]\n",
      "100%|██████████| 260/260 [00:48<00:00,  5.38it/s]\n",
      "100%|██████████| 260/260 [00:00<00:00, 370.70it/s]\n"
     ]
    },
    {
     "name": "stdout",
     "output_type": "stream",
     "text": [
      "   1 ,lr = 0.01000000  train loss = 0.08731523  val loss = 0.05784117  time = 00:00:00\n"
     ]
    },
    {
     "name": "stderr",
     "output_type": "stream",
     "text": [
      "100%|██████████| 260/260 [00:00<00:00, 441.59it/s]\n"
     ]
    },
    {
     "name": "stdout",
     "output_type": "stream",
     "text": [
      "   2 ,lr = 0.01000000  train loss = 0.07180852  val loss = 0.05023417  time = 00:00:00\n"
     ]
    },
    {
     "name": "stderr",
     "output_type": "stream",
     "text": [
      "100%|██████████| 260/260 [00:00<00:00, 429.11it/s]\n"
     ]
    },
    {
     "name": "stdout",
     "output_type": "stream",
     "text": [
      "   3 ,lr = 0.01000000  train loss = 0.07573870  val loss = 0.05757394  time = 00:00:00\n"
     ]
    },
    {
     "name": "stderr",
     "output_type": "stream",
     "text": [
      "100%|██████████| 260/260 [00:00<00:00, 388.00it/s]\n"
     ]
    },
    {
     "name": "stdout",
     "output_type": "stream",
     "text": [
      "   4 ,lr = 0.01000000  train loss = 0.06936277  val loss = 0.05090042  time = 00:00:00\n"
     ]
    },
    {
     "name": "stderr",
     "output_type": "stream",
     "text": [
      "100%|██████████| 260/260 [00:00<00:00, 413.00it/s]\n"
     ]
    },
    {
     "name": "stdout",
     "output_type": "stream",
     "text": [
      "   5 ,lr = 0.01000000  train loss = 0.06567913  val loss = 0.04913263  time = 00:00:00\n"
     ]
    },
    {
     "name": "stderr",
     "output_type": "stream",
     "text": [
      "100%|██████████| 260/260 [00:00<00:00, 448.75it/s]\n"
     ]
    },
    {
     "name": "stdout",
     "output_type": "stream",
     "text": [
      "   6 ,lr = 0.01000000  train loss = 0.06166226  val loss = 0.03897482  time = 00:00:00\n"
     ]
    },
    {
     "name": "stderr",
     "output_type": "stream",
     "text": [
      "100%|██████████| 260/260 [00:00<00:00, 373.50it/s]\n"
     ]
    },
    {
     "name": "stdout",
     "output_type": "stream",
     "text": [
      "   7 ,lr = 0.01000000  train loss = 0.07624701  val loss = 0.04493036  time = 00:00:00\n"
     ]
    },
    {
     "name": "stderr",
     "output_type": "stream",
     "text": [
      "100%|██████████| 260/260 [00:00<00:00, 416.38it/s]\n"
     ]
    },
    {
     "name": "stdout",
     "output_type": "stream",
     "text": [
      "   8 ,lr = 0.01000000  train loss = 0.05842775  val loss = 0.03879935  time = 00:00:00\n"
     ]
    },
    {
     "name": "stderr",
     "output_type": "stream",
     "text": [
      "100%|██████████| 260/260 [00:00<00:00, 436.34it/s]\n"
     ]
    },
    {
     "name": "stdout",
     "output_type": "stream",
     "text": [
      "   9 ,lr = 0.01000000  train loss = 0.05620241  val loss = 0.04207891  time = 00:00:00\n"
     ]
    },
    {
     "name": "stderr",
     "output_type": "stream",
     "text": [
      "100%|██████████| 260/260 [00:00<00:00, 361.52it/s]\n"
     ]
    },
    {
     "name": "stdout",
     "output_type": "stream",
     "text": [
      "  10 ,lr = 0.01000000  train loss = 0.05537333  val loss = 0.03811839  time = 00:00:00\n"
     ]
    },
    {
     "name": "stderr",
     "output_type": "stream",
     "text": [
      "100%|██████████| 260/260 [00:00<00:00, 418.59it/s]\n"
     ]
    },
    {
     "name": "stdout",
     "output_type": "stream",
     "text": [
      "  11 ,lr = 0.01000000  train loss = 0.06755497  val loss = 0.04326455  time = 00:00:00\n"
     ]
    },
    {
     "name": "stderr",
     "output_type": "stream",
     "text": [
      "100%|██████████| 260/260 [00:00<00:00, 395.48it/s]\n"
     ]
    },
    {
     "name": "stdout",
     "output_type": "stream",
     "text": [
      "  12 ,lr = 0.01000000  train loss = 0.05761096  val loss = 0.04439253  time = 00:00:00\n"
     ]
    },
    {
     "name": "stderr",
     "output_type": "stream",
     "text": [
      "100%|██████████| 260/260 [00:00<00:00, 389.49it/s]\n"
     ]
    },
    {
     "name": "stdout",
     "output_type": "stream",
     "text": [
      "  13 ,lr = 0.01000000  train loss = 0.05160126  val loss = 0.03714546  time = 00:00:00\n"
     ]
    },
    {
     "name": "stderr",
     "output_type": "stream",
     "text": [
      "100%|██████████| 260/260 [00:00<00:00, 420.44it/s]\n"
     ]
    },
    {
     "name": "stdout",
     "output_type": "stream",
     "text": [
      "  14 ,lr = 0.01000000  train loss = 0.05464504  val loss = 0.03655374  time = 00:00:00\n"
     ]
    },
    {
     "name": "stderr",
     "output_type": "stream",
     "text": [
      "100%|██████████| 260/260 [00:00<00:00, 418.07it/s]\n"
     ]
    },
    {
     "name": "stdout",
     "output_type": "stream",
     "text": [
      "  15 ,lr = 0.01000000  train loss = 0.05198823  val loss = 0.03670514  time = 00:00:00\n"
     ]
    },
    {
     "name": "stderr",
     "output_type": "stream",
     "text": [
      "100%|██████████| 260/260 [00:00<00:00, 403.44it/s]\n"
     ]
    },
    {
     "name": "stdout",
     "output_type": "stream",
     "text": [
      "  16 ,lr = 0.01000000  train loss = 0.05408202  val loss = 0.03715680  time = 00:00:00\n"
     ]
    },
    {
     "name": "stderr",
     "output_type": "stream",
     "text": [
      "100%|██████████| 260/260 [00:00<00:00, 407.79it/s]\n"
     ]
    },
    {
     "name": "stdout",
     "output_type": "stream",
     "text": [
      "  17 ,lr = 0.01000000  train loss = 0.04892979  val loss = 0.03627906  time = 00:00:00\n"
     ]
    },
    {
     "name": "stderr",
     "output_type": "stream",
     "text": [
      "100%|██████████| 260/260 [00:00<00:00, 417.84it/s]\n"
     ]
    },
    {
     "name": "stdout",
     "output_type": "stream",
     "text": [
      "  18 ,lr = 0.01000000  train loss = 0.04859702  val loss = 0.03740332  time = 00:00:00\n"
     ]
    },
    {
     "name": "stderr",
     "output_type": "stream",
     "text": [
      "100%|██████████| 260/260 [00:00<00:00, 418.74it/s]\n"
     ]
    },
    {
     "name": "stdout",
     "output_type": "stream",
     "text": [
      "  19 ,lr = 0.01000000  train loss = 0.04966947  val loss = 0.03985309  time = 00:00:00\n"
     ]
    },
    {
     "name": "stderr",
     "output_type": "stream",
     "text": [
      "100%|██████████| 260/260 [00:00<00:00, 435.51it/s]\n"
     ]
    },
    {
     "name": "stdout",
     "output_type": "stream",
     "text": [
      "  20 ,lr = 0.01000000  train loss = 0.05542030  val loss = 0.05373393  time = 00:00:00\n"
     ]
    },
    {
     "name": "stderr",
     "output_type": "stream",
     "text": [
      "100%|██████████| 260/260 [00:00<00:00, 352.25it/s]\n"
     ]
    },
    {
     "name": "stdout",
     "output_type": "stream",
     "text": [
      "  21 ,lr = 0.01000000  train loss = 0.04884244  val loss = 0.03991353  time = 00:00:00\n"
     ]
    },
    {
     "name": "stderr",
     "output_type": "stream",
     "text": [
      "100%|██████████| 260/260 [00:00<00:00, 384.07it/s]\n"
     ]
    },
    {
     "name": "stdout",
     "output_type": "stream",
     "text": [
      "  22 ,lr = 0.01000000  train loss = 0.04409940  val loss = 0.03651858  time = 00:00:00\n"
     ]
    },
    {
     "name": "stderr",
     "output_type": "stream",
     "text": [
      "100%|██████████| 260/260 [00:00<00:00, 385.74it/s]\n"
     ]
    },
    {
     "name": "stdout",
     "output_type": "stream",
     "text": [
      "  23 ,lr = 0.01000000  train loss = 0.04902490  val loss = 0.04426184  time = 00:00:00\n"
     ]
    },
    {
     "name": "stderr",
     "output_type": "stream",
     "text": [
      "100%|██████████| 260/260 [00:00<00:00, 442.86it/s]\n"
     ]
    },
    {
     "name": "stdout",
     "output_type": "stream",
     "text": [
      "  24 ,lr = 0.01000000  train loss = 0.04595590  val loss = 0.03710083  time = 00:00:00\n"
     ]
    },
    {
     "name": "stderr",
     "output_type": "stream",
     "text": [
      "100%|██████████| 260/260 [00:00<00:00, 437.12it/s]\n"
     ]
    },
    {
     "name": "stdout",
     "output_type": "stream",
     "text": [
      "  25 ,lr = 0.01000000  train loss = 0.04433174  val loss = 0.03756668  time = 00:00:00\n"
     ]
    },
    {
     "name": "stderr",
     "output_type": "stream",
     "text": [
      "100%|██████████| 260/260 [00:00<00:00, 362.10it/s]\n"
     ]
    },
    {
     "name": "stdout",
     "output_type": "stream",
     "text": [
      "  26 ,lr = 0.01000000  train loss = 0.04535902  val loss = 0.04099540  time = 00:00:00\n"
     ]
    },
    {
     "name": "stderr",
     "output_type": "stream",
     "text": [
      "100%|██████████| 260/260 [00:00<00:00, 422.12it/s]\n"
     ]
    },
    {
     "name": "stdout",
     "output_type": "stream",
     "text": [
      "  27 ,lr = 0.01000000  train loss = 0.04967897  val loss = 0.04807754  time = 00:00:00\n"
     ]
    },
    {
     "name": "stderr",
     "output_type": "stream",
     "text": [
      "100%|██████████| 260/260 [00:00<00:00, 397.37it/s]\n"
     ]
    },
    {
     "name": "stdout",
     "output_type": "stream",
     "text": [
      "  28 ,lr = 0.01000000  train loss = 0.04278240  val loss = 0.03682627  time = 00:00:00\n"
     ]
    },
    {
     "name": "stderr",
     "output_type": "stream",
     "text": [
      "100%|██████████| 260/260 [00:00<00:00, 395.12it/s]\n"
     ]
    },
    {
     "name": "stdout",
     "output_type": "stream",
     "text": [
      "  29 ,lr = 0.01000000  train loss = 0.04142183  val loss = 0.03584330  time = 00:00:00\n"
     ]
    },
    {
     "name": "stderr",
     "output_type": "stream",
     "text": [
      "100%|██████████| 260/260 [00:00<00:00, 417.03it/s]\n"
     ]
    },
    {
     "name": "stdout",
     "output_type": "stream",
     "text": [
      "  30 ,lr = 0.01000000  train loss = 0.04416494  val loss = 0.03717974  time = 00:00:00\n"
     ]
    },
    {
     "name": "stderr",
     "output_type": "stream",
     "text": [
      "100%|██████████| 260/260 [00:00<00:00, 338.30it/s]\n"
     ]
    },
    {
     "name": "stdout",
     "output_type": "stream",
     "text": [
      "  31 ,lr = 0.01000000  train loss = 0.04233866  val loss = 0.03656591  time = 00:00:00\n"
     ]
    },
    {
     "name": "stderr",
     "output_type": "stream",
     "text": [
      "100%|██████████| 260/260 [00:00<00:00, 447.75it/s]\n"
     ]
    },
    {
     "name": "stdout",
     "output_type": "stream",
     "text": [
      "  32 ,lr = 0.01000000  train loss = 0.04104923  val loss = 0.03810996  time = 00:00:00\n"
     ]
    },
    {
     "name": "stderr",
     "output_type": "stream",
     "text": [
      "100%|██████████| 260/260 [00:00<00:00, 380.83it/s]\n"
     ]
    },
    {
     "name": "stdout",
     "output_type": "stream",
     "text": [
      "  33 ,lr = 0.01000000  train loss = 0.04412893  val loss = 0.03638523  time = 00:00:00\n"
     ]
    },
    {
     "name": "stderr",
     "output_type": "stream",
     "text": [
      "100%|██████████| 260/260 [00:00<00:00, 396.38it/s]\n"
     ]
    },
    {
     "name": "stdout",
     "output_type": "stream",
     "text": [
      "  34 ,lr = 0.01000000  train loss = 0.04266602  val loss = 0.03902236  time = 00:00:00\n"
     ]
    },
    {
     "name": "stderr",
     "output_type": "stream",
     "text": [
      "100%|██████████| 260/260 [00:00<00:00, 431.74it/s]\n"
     ]
    },
    {
     "name": "stdout",
     "output_type": "stream",
     "text": [
      "  35 ,lr = 0.01000000  train loss = 0.03923218  val loss = 0.03631597  time = 00:00:00\n"
     ]
    },
    {
     "name": "stderr",
     "output_type": "stream",
     "text": [
      "100%|██████████| 260/260 [00:00<00:00, 376.65it/s]\n"
     ]
    },
    {
     "name": "stdout",
     "output_type": "stream",
     "text": [
      "  36 ,lr = 0.01000000  train loss = 0.03895198  val loss = 0.03477381  time = 00:00:00\n"
     ]
    },
    {
     "name": "stderr",
     "output_type": "stream",
     "text": [
      "100%|██████████| 260/260 [00:00<00:00, 397.68it/s]\n"
     ]
    },
    {
     "name": "stdout",
     "output_type": "stream",
     "text": [
      "  37 ,lr = 0.01000000  train loss = 0.04371273  val loss = 0.04735537  time = 00:00:00\n"
     ]
    },
    {
     "name": "stderr",
     "output_type": "stream",
     "text": [
      "100%|██████████| 260/260 [00:00<00:00, 392.84it/s]\n"
     ]
    },
    {
     "name": "stdout",
     "output_type": "stream",
     "text": [
      "  38 ,lr = 0.01000000  train loss = 0.03587836  val loss = 0.03364556  time = 00:00:00\n"
     ]
    },
    {
     "name": "stderr",
     "output_type": "stream",
     "text": [
      "100%|██████████| 260/260 [00:00<00:00, 410.03it/s]\n"
     ]
    },
    {
     "name": "stdout",
     "output_type": "stream",
     "text": [
      "  39 ,lr = 0.01000000  train loss = 0.03649554  val loss = 0.03358966  time = 00:00:00\n"
     ]
    },
    {
     "name": "stderr",
     "output_type": "stream",
     "text": [
      "100%|██████████| 260/260 [00:00<00:00, 435.27it/s]\n"
     ]
    },
    {
     "name": "stdout",
     "output_type": "stream",
     "text": [
      "  40 ,lr = 0.01000000  train loss = 0.03660328  val loss = 0.03408774  time = 00:00:00\n"
     ]
    },
    {
     "name": "stderr",
     "output_type": "stream",
     "text": [
      "100%|██████████| 260/260 [00:00<00:00, 444.36it/s]\n"
     ]
    },
    {
     "name": "stdout",
     "output_type": "stream",
     "text": [
      "  41 ,lr = 0.01000000  train loss = 0.03990885  val loss = 0.04038928  time = 00:00:00\n"
     ]
    },
    {
     "name": "stderr",
     "output_type": "stream",
     "text": [
      "100%|██████████| 260/260 [00:00<00:00, 441.65it/s]\n"
     ]
    },
    {
     "name": "stdout",
     "output_type": "stream",
     "text": [
      "  42 ,lr = 0.01000000  train loss = 0.03653233  val loss = 0.03444873  time = 00:00:00\n"
     ]
    },
    {
     "name": "stderr",
     "output_type": "stream",
     "text": [
      "100%|██████████| 260/260 [00:00<00:00, 398.48it/s]\n"
     ]
    },
    {
     "name": "stdout",
     "output_type": "stream",
     "text": [
      "  43 ,lr = 0.01000000  train loss = 0.03861371  val loss = 0.03913976  time = 00:00:00\n"
     ]
    },
    {
     "name": "stderr",
     "output_type": "stream",
     "text": [
      "100%|██████████| 260/260 [00:00<00:00, 362.72it/s]\n"
     ]
    },
    {
     "name": "stdout",
     "output_type": "stream",
     "text": [
      "  44 ,lr = 0.01000000  train loss = 0.03969558  val loss = 0.03671071  time = 00:00:00\n"
     ]
    },
    {
     "name": "stderr",
     "output_type": "stream",
     "text": [
      "100%|██████████| 260/260 [00:00<00:00, 390.19it/s]\n"
     ]
    },
    {
     "name": "stdout",
     "output_type": "stream",
     "text": [
      "  45 ,lr = 0.01000000  train loss = 0.03544945  val loss = 0.03360826  time = 00:00:00\n"
     ]
    },
    {
     "name": "stderr",
     "output_type": "stream",
     "text": [
      "100%|██████████| 260/260 [00:00<00:00, 399.89it/s]\n"
     ]
    },
    {
     "name": "stdout",
     "output_type": "stream",
     "text": [
      "  46 ,lr = 0.01000000  train loss = 0.03471705  val loss = 0.03424726  time = 00:00:00\n"
     ]
    },
    {
     "name": "stderr",
     "output_type": "stream",
     "text": [
      "100%|██████████| 260/260 [00:00<00:00, 427.76it/s]\n"
     ]
    },
    {
     "name": "stdout",
     "output_type": "stream",
     "text": [
      "  47 ,lr = 0.01000000  train loss = 0.03284023  val loss = 0.03356629  time = 00:00:00\n"
     ]
    },
    {
     "name": "stderr",
     "output_type": "stream",
     "text": [
      "100%|██████████| 260/260 [00:00<00:00, 418.78it/s]\n"
     ]
    },
    {
     "name": "stdout",
     "output_type": "stream",
     "text": [
      "  48 ,lr = 0.01000000  train loss = 0.03378754  val loss = 0.03687099  time = 00:00:00\n"
     ]
    },
    {
     "name": "stderr",
     "output_type": "stream",
     "text": [
      "100%|██████████| 260/260 [00:00<00:00, 323.93it/s]\n"
     ]
    },
    {
     "name": "stdout",
     "output_type": "stream",
     "text": [
      "  49 ,lr = 0.01000000  train loss = 0.03770686  val loss = 0.03594801  time = 00:00:00\n"
     ]
    },
    {
     "name": "stderr",
     "output_type": "stream",
     "text": [
      "100%|██████████| 260/260 [00:00<00:00, 404.86it/s]\n"
     ]
    },
    {
     "name": "stdout",
     "output_type": "stream",
     "text": [
      "  50 ,lr = 0.01000000  train loss = 0.03462212  val loss = 0.03478675  time = 00:00:00\n"
     ]
    },
    {
     "name": "stderr",
     "output_type": "stream",
     "text": [
      "100%|██████████| 260/260 [00:00<00:00, 389.33it/s]\n"
     ]
    },
    {
     "name": "stdout",
     "output_type": "stream",
     "text": [
      "  51 ,lr = 0.01000000  train loss = 0.04184542  val loss = 0.03786120  time = 00:00:00\n"
     ]
    },
    {
     "name": "stderr",
     "output_type": "stream",
     "text": [
      "100%|██████████| 260/260 [00:00<00:00, 380.70it/s]\n"
     ]
    },
    {
     "name": "stdout",
     "output_type": "stream",
     "text": [
      "  52 ,lr = 0.01000000  train loss = 0.03441949  val loss = 0.03884857  time = 00:00:00\n"
     ]
    },
    {
     "name": "stderr",
     "output_type": "stream",
     "text": [
      "100%|██████████| 260/260 [00:00<00:00, 376.30it/s]\n"
     ]
    },
    {
     "name": "stdout",
     "output_type": "stream",
     "text": [
      "  53 ,lr = 0.01000000  train loss = 0.03363031  val loss = 0.03472494  time = 00:00:00\n"
     ]
    },
    {
     "name": "stderr",
     "output_type": "stream",
     "text": [
      "100%|██████████| 260/260 [00:00<00:00, 428.16it/s]\n"
     ]
    },
    {
     "name": "stdout",
     "output_type": "stream",
     "text": [
      "  54 ,lr = 0.01000000  train loss = 0.03403207  val loss = 0.03788746  time = 00:00:00\n"
     ]
    },
    {
     "name": "stderr",
     "output_type": "stream",
     "text": [
      "100%|██████████| 260/260 [00:00<00:00, 448.53it/s]\n"
     ]
    },
    {
     "name": "stdout",
     "output_type": "stream",
     "text": [
      "  55 ,lr = 0.01000000  train loss = 0.03219162  val loss = 0.03365259  time = 00:00:00\n"
     ]
    },
    {
     "name": "stderr",
     "output_type": "stream",
     "text": [
      "100%|██████████| 260/260 [00:00<00:00, 407.77it/s]\n"
     ]
    },
    {
     "name": "stdout",
     "output_type": "stream",
     "text": [
      "  56 ,lr = 0.01000000  train loss = 0.03157701  val loss = 0.03586238  time = 00:00:00\n"
     ]
    },
    {
     "name": "stderr",
     "output_type": "stream",
     "text": [
      "100%|██████████| 260/260 [00:00<00:00, 429.83it/s]\n"
     ]
    },
    {
     "name": "stdout",
     "output_type": "stream",
     "text": [
      "  57 ,lr = 0.01000000  train loss = 0.03220086  val loss = 0.03490198  time = 00:00:00\n"
     ]
    },
    {
     "name": "stderr",
     "output_type": "stream",
     "text": [
      "100%|██████████| 260/260 [00:00<00:00, 419.16it/s]\n"
     ]
    },
    {
     "name": "stdout",
     "output_type": "stream",
     "text": [
      "  58 ,lr = 0.01000000  train loss = 0.03074511  val loss = 0.03475272  time = 00:00:00\n"
     ]
    },
    {
     "name": "stderr",
     "output_type": "stream",
     "text": [
      "100%|██████████| 260/260 [00:00<00:00, 402.68it/s]\n"
     ]
    },
    {
     "name": "stdout",
     "output_type": "stream",
     "text": [
      "  59 ,lr = 0.01000000  train loss = 0.02895791  val loss = 0.03296304  time = 00:00:00\n"
     ]
    },
    {
     "name": "stderr",
     "output_type": "stream",
     "text": [
      "100%|██████████| 260/260 [00:00<00:00, 373.12it/s]\n"
     ]
    },
    {
     "name": "stdout",
     "output_type": "stream",
     "text": [
      "  60 ,lr = 0.01000000  train loss = 0.03233448  val loss = 0.03574591  time = 00:00:00\n"
     ]
    },
    {
     "name": "stderr",
     "output_type": "stream",
     "text": [
      "100%|██████████| 260/260 [00:00<00:00, 445.11it/s]\n"
     ]
    },
    {
     "name": "stdout",
     "output_type": "stream",
     "text": [
      "  61 ,lr = 0.01000000  train loss = 0.03578688  val loss = 0.03879200  time = 00:00:00\n"
     ]
    },
    {
     "name": "stderr",
     "output_type": "stream",
     "text": [
      "100%|██████████| 260/260 [00:00<00:00, 386.21it/s]\n"
     ]
    },
    {
     "name": "stdout",
     "output_type": "stream",
     "text": [
      "  62 ,lr = 0.01000000  train loss = 0.03013452  val loss = 0.03376107  time = 00:00:00\n"
     ]
    },
    {
     "name": "stderr",
     "output_type": "stream",
     "text": [
      "100%|██████████| 260/260 [00:00<00:00, 438.83it/s]\n"
     ]
    },
    {
     "name": "stdout",
     "output_type": "stream",
     "text": [
      "  63 ,lr = 0.01000000  train loss = 0.03079254  val loss = 0.03435762  time = 00:00:00\n"
     ]
    },
    {
     "name": "stderr",
     "output_type": "stream",
     "text": [
      "100%|██████████| 260/260 [00:00<00:00, 417.59it/s]\n"
     ]
    },
    {
     "name": "stdout",
     "output_type": "stream",
     "text": [
      "  64 ,lr = 0.01000000  train loss = 0.02913796  val loss = 0.03422470  time = 00:00:00\n"
     ]
    },
    {
     "name": "stderr",
     "output_type": "stream",
     "text": [
      "100%|██████████| 260/260 [00:00<00:00, 433.82it/s]\n"
     ]
    },
    {
     "name": "stdout",
     "output_type": "stream",
     "text": [
      "  65 ,lr = 0.01000000  train loss = 0.02965170  val loss = 0.03548608  time = 00:00:00\n"
     ]
    },
    {
     "name": "stderr",
     "output_type": "stream",
     "text": [
      "100%|██████████| 260/260 [00:00<00:00, 412.79it/s]\n"
     ]
    },
    {
     "name": "stdout",
     "output_type": "stream",
     "text": [
      "  66 ,lr = 0.01000000  train loss = 0.03151070  val loss = 0.03640590  time = 00:00:00\n"
     ]
    },
    {
     "name": "stderr",
     "output_type": "stream",
     "text": [
      "100%|██████████| 260/260 [00:00<00:00, 444.41it/s]\n"
     ]
    },
    {
     "name": "stdout",
     "output_type": "stream",
     "text": [
      "  67 ,lr = 0.01000000  train loss = 0.03025081  val loss = 0.03467684  time = 00:00:00\n"
     ]
    },
    {
     "name": "stderr",
     "output_type": "stream",
     "text": [
      "100%|██████████| 260/260 [00:00<00:00, 391.92it/s]\n"
     ]
    },
    {
     "name": "stdout",
     "output_type": "stream",
     "text": [
      "  68 ,lr = 0.01000000  train loss = 0.04282720  val loss = 0.04478259  time = 00:00:00\n"
     ]
    },
    {
     "name": "stderr",
     "output_type": "stream",
     "text": [
      "100%|██████████| 260/260 [00:00<00:00, 351.97it/s]\n"
     ]
    },
    {
     "name": "stdout",
     "output_type": "stream",
     "text": [
      "  69 ,lr = 0.01000000  train loss = 0.03085714  val loss = 0.03411792  time = 00:00:00\n"
     ]
    },
    {
     "name": "stderr",
     "output_type": "stream",
     "text": [
      "100%|██████████| 260/260 [00:00<00:00, 393.54it/s]\n"
     ]
    },
    {
     "name": "stdout",
     "output_type": "stream",
     "text": [
      "  70 ,lr = 0.01000000  train loss = 0.03509859  val loss = 0.03573698  time = 00:00:00\n"
     ]
    },
    {
     "name": "stderr",
     "output_type": "stream",
     "text": [
      "100%|██████████| 260/260 [00:00<00:00, 409.86it/s]\n"
     ]
    },
    {
     "name": "stdout",
     "output_type": "stream",
     "text": [
      "  71 ,lr = 0.01000000  train loss = 0.03033150  val loss = 0.03458085  time = 00:00:00\n"
     ]
    },
    {
     "name": "stderr",
     "output_type": "stream",
     "text": [
      "100%|██████████| 260/260 [00:00<00:00, 418.33it/s]\n"
     ]
    },
    {
     "name": "stdout",
     "output_type": "stream",
     "text": [
      "  72 ,lr = 0.01000000  train loss = 0.03409540  val loss = 0.03857668  time = 00:00:00\n"
     ]
    },
    {
     "name": "stderr",
     "output_type": "stream",
     "text": [
      "100%|██████████| 260/260 [00:00<00:00, 368.61it/s]\n"
     ]
    },
    {
     "name": "stdout",
     "output_type": "stream",
     "text": [
      "  73 ,lr = 0.01000000  train loss = 0.02659442  val loss = 0.03282093  time = 00:00:00\n"
     ]
    },
    {
     "name": "stderr",
     "output_type": "stream",
     "text": [
      "100%|██████████| 260/260 [00:00<00:00, 356.37it/s]\n"
     ]
    },
    {
     "name": "stdout",
     "output_type": "stream",
     "text": [
      "  74 ,lr = 0.01000000  train loss = 0.03089374  val loss = 0.03755993  time = 00:00:00\n"
     ]
    },
    {
     "name": "stderr",
     "output_type": "stream",
     "text": [
      "100%|██████████| 260/260 [00:00<00:00, 347.82it/s]\n"
     ]
    },
    {
     "name": "stdout",
     "output_type": "stream",
     "text": [
      "  75 ,lr = 0.01000000  train loss = 0.02923083  val loss = 0.03384852  time = 00:00:00\n"
     ]
    },
    {
     "name": "stderr",
     "output_type": "stream",
     "text": [
      "100%|██████████| 260/260 [00:00<00:00, 448.12it/s]\n"
     ]
    },
    {
     "name": "stdout",
     "output_type": "stream",
     "text": [
      "  76 ,lr = 0.01000000  train loss = 0.03061190  val loss = 0.03283998  time = 00:00:00\n"
     ]
    },
    {
     "name": "stderr",
     "output_type": "stream",
     "text": [
      "100%|██████████| 260/260 [00:00<00:00, 415.52it/s]\n"
     ]
    },
    {
     "name": "stdout",
     "output_type": "stream",
     "text": [
      "  77 ,lr = 0.01000000  train loss = 0.03020991  val loss = 0.03504994  time = 00:00:00\n"
     ]
    },
    {
     "name": "stderr",
     "output_type": "stream",
     "text": [
      "100%|██████████| 260/260 [00:00<00:00, 369.63it/s]\n"
     ]
    },
    {
     "name": "stdout",
     "output_type": "stream",
     "text": [
      "  78 ,lr = 0.01000000  train loss = 0.03433064  val loss = 0.04138386  time = 00:00:00\n"
     ]
    },
    {
     "name": "stderr",
     "output_type": "stream",
     "text": [
      "100%|██████████| 260/260 [00:00<00:00, 358.87it/s]\n"
     ]
    },
    {
     "name": "stdout",
     "output_type": "stream",
     "text": [
      "  79 ,lr = 0.01000000  train loss = 0.02955646  val loss = 0.03353127  time = 00:00:00\n"
     ]
    },
    {
     "name": "stderr",
     "output_type": "stream",
     "text": [
      "100%|██████████| 260/260 [00:00<00:00, 424.26it/s]\n"
     ]
    },
    {
     "name": "stdout",
     "output_type": "stream",
     "text": [
      "  80 ,lr = 0.01000000  train loss = 0.02722255  val loss = 0.03441003  time = 00:00:00\n"
     ]
    },
    {
     "name": "stderr",
     "output_type": "stream",
     "text": [
      "100%|██████████| 260/260 [00:00<00:00, 406.06it/s]\n"
     ]
    },
    {
     "name": "stdout",
     "output_type": "stream",
     "text": [
      "  81 ,lr = 0.01000000  train loss = 0.03267626  val loss = 0.03502177  time = 00:00:00\n"
     ]
    },
    {
     "name": "stderr",
     "output_type": "stream",
     "text": [
      "100%|██████████| 260/260 [00:00<00:00, 319.30it/s]\n"
     ]
    },
    {
     "name": "stdout",
     "output_type": "stream",
     "text": [
      "  82 ,lr = 0.01000000  train loss = 0.02760353  val loss = 0.03270900  time = 00:00:00\n"
     ]
    },
    {
     "name": "stderr",
     "output_type": "stream",
     "text": [
      "100%|██████████| 260/260 [00:00<00:00, 383.42it/s]\n"
     ]
    },
    {
     "name": "stdout",
     "output_type": "stream",
     "text": [
      "  83 ,lr = 0.01000000  train loss = 0.03585152  val loss = 0.03676611  time = 00:00:00\n"
     ]
    },
    {
     "name": "stderr",
     "output_type": "stream",
     "text": [
      "100%|██████████| 260/260 [00:00<00:00, 381.65it/s]\n"
     ]
    },
    {
     "name": "stdout",
     "output_type": "stream",
     "text": [
      "  84 ,lr = 0.01000000  train loss = 0.03303925  val loss = 0.03735947  time = 00:00:00\n"
     ]
    },
    {
     "name": "stderr",
     "output_type": "stream",
     "text": [
      "100%|██████████| 260/260 [00:00<00:00, 377.06it/s]\n"
     ]
    },
    {
     "name": "stdout",
     "output_type": "stream",
     "text": [
      "  85 ,lr = 0.01000000  train loss = 0.02900463  val loss = 0.03428733  time = 00:00:00\n"
     ]
    },
    {
     "name": "stderr",
     "output_type": "stream",
     "text": [
      "100%|██████████| 260/260 [00:00<00:00, 403.68it/s]\n"
     ]
    },
    {
     "name": "stdout",
     "output_type": "stream",
     "text": [
      "  86 ,lr = 0.01000000  train loss = 0.03202765  val loss = 0.03907250  time = 00:00:00\n"
     ]
    },
    {
     "name": "stderr",
     "output_type": "stream",
     "text": [
      "100%|██████████| 260/260 [00:00<00:00, 435.18it/s]\n"
     ]
    },
    {
     "name": "stdout",
     "output_type": "stream",
     "text": [
      "  87 ,lr = 0.01000000  train loss = 0.02788069  val loss = 0.03308181  time = 00:00:00\n"
     ]
    },
    {
     "name": "stderr",
     "output_type": "stream",
     "text": [
      "100%|██████████| 260/260 [00:00<00:00, 437.98it/s]\n"
     ]
    },
    {
     "name": "stdout",
     "output_type": "stream",
     "text": [
      "  88 ,lr = 0.01000000  train loss = 0.03054688  val loss = 0.03511207  time = 00:00:00\n"
     ]
    },
    {
     "name": "stderr",
     "output_type": "stream",
     "text": [
      "100%|██████████| 260/260 [00:00<00:00, 394.19it/s]\n"
     ]
    },
    {
     "name": "stdout",
     "output_type": "stream",
     "text": [
      "  89 ,lr = 0.01000000  train loss = 0.02637393  val loss = 0.03303444  time = 00:00:00\n"
     ]
    },
    {
     "name": "stderr",
     "output_type": "stream",
     "text": [
      "100%|██████████| 260/260 [00:00<00:00, 409.74it/s]\n"
     ]
    },
    {
     "name": "stdout",
     "output_type": "stream",
     "text": [
      "  90 ,lr = 0.01000000  train loss = 0.02802428  val loss = 0.03387433  time = 00:00:00\n"
     ]
    },
    {
     "name": "stderr",
     "output_type": "stream",
     "text": [
      "100%|██████████| 260/260 [00:00<00:00, 383.76it/s]\n"
     ]
    },
    {
     "name": "stdout",
     "output_type": "stream",
     "text": [
      "  91 ,lr = 0.01000000  train loss = 0.02730516  val loss = 0.03590029  time = 00:00:00\n"
     ]
    },
    {
     "name": "stderr",
     "output_type": "stream",
     "text": [
      "100%|██████████| 260/260 [00:00<00:00, 310.44it/s]\n"
     ]
    },
    {
     "name": "stdout",
     "output_type": "stream",
     "text": [
      "  92 ,lr = 0.01000000  train loss = 0.02687549  val loss = 0.03425638  time = 00:00:00\n"
     ]
    },
    {
     "name": "stderr",
     "output_type": "stream",
     "text": [
      "100%|██████████| 260/260 [00:00<00:00, 423.23it/s]\n"
     ]
    },
    {
     "name": "stdout",
     "output_type": "stream",
     "text": [
      "  93 ,lr = 0.01000000  train loss = 0.02896821  val loss = 0.03504822  time = 00:00:00\n"
     ]
    },
    {
     "name": "stderr",
     "output_type": "stream",
     "text": [
      "100%|██████████| 260/260 [00:00<00:00, 418.87it/s]\n"
     ]
    },
    {
     "name": "stdout",
     "output_type": "stream",
     "text": [
      "  94 ,lr = 0.01000000  train loss = 0.02758189  val loss = 0.03236977  time = 00:00:00\n"
     ]
    },
    {
     "name": "stderr",
     "output_type": "stream",
     "text": [
      "100%|██████████| 260/260 [00:00<00:00, 412.55it/s]\n"
     ]
    },
    {
     "name": "stdout",
     "output_type": "stream",
     "text": [
      "  95 ,lr = 0.01000000  train loss = 0.02857601  val loss = 0.03622595  time = 00:00:00\n"
     ]
    },
    {
     "name": "stderr",
     "output_type": "stream",
     "text": [
      "100%|██████████| 260/260 [00:00<00:00, 428.34it/s]\n"
     ]
    },
    {
     "name": "stdout",
     "output_type": "stream",
     "text": [
      "  96 ,lr = 0.01000000  train loss = 0.02988880  val loss = 0.03589173  time = 00:00:00\n"
     ]
    },
    {
     "name": "stderr",
     "output_type": "stream",
     "text": [
      "100%|██████████| 260/260 [00:00<00:00, 371.95it/s]\n"
     ]
    },
    {
     "name": "stdout",
     "output_type": "stream",
     "text": [
      "  97 ,lr = 0.01000000  train loss = 0.03039973  val loss = 0.03597047  time = 00:00:00\n"
     ]
    },
    {
     "name": "stderr",
     "output_type": "stream",
     "text": [
      "100%|██████████| 260/260 [00:00<00:00, 416.82it/s]\n"
     ]
    },
    {
     "name": "stdout",
     "output_type": "stream",
     "text": [
      "  98 ,lr = 0.01000000  train loss = 0.02834639  val loss = 0.03229880  time = 00:00:00\n"
     ]
    },
    {
     "name": "stderr",
     "output_type": "stream",
     "text": [
      "100%|██████████| 260/260 [00:00<00:00, 424.71it/s]\n"
     ]
    },
    {
     "name": "stdout",
     "output_type": "stream",
     "text": [
      "  99 ,lr = 0.01000000  train loss = 0.02798456  val loss = 0.03146321  time = 00:00:00\n"
     ]
    },
    {
     "name": "stderr",
     "output_type": "stream",
     "text": [
      "100%|██████████| 260/260 [00:00<00:00, 428.60it/s]\n"
     ]
    },
    {
     "name": "stdout",
     "output_type": "stream",
     "text": [
      " 100 ,lr = 0.01000000  train loss = 0.02674775  val loss = 0.03343719  time = 00:00:00\n"
     ]
    },
    {
     "data": {
      "text/html": [
       "<style>\n",
       "    table.wandb td:nth-child(1) { padding: 0 10px; text-align: left ; width: auto;} td:nth-child(2) {text-align: left ; width: 100%}\n",
       "    .wandb-row { display: flex; flex-direction: row; flex-wrap: wrap; justify-content: flex-start; width: 100% }\n",
       "    .wandb-col { display: flex; flex-direction: column; flex-basis: 100%; flex: 1; padding: 10px; }\n",
       "    </style>\n",
       "<div class=\"wandb-row\"><div class=\"wandb-col\"><h3>Run history:</h3><br/><table class=\"wandb\"><tr><td>val_mae</td><td>▁</td></tr></table><br/></div><div class=\"wandb-col\"><h3>Run summary:</h3><br/><table class=\"wandb\"><tr><td>val_mae</td><td>0.03146</td></tr></table><br/></div></div>"
      ],
      "text/plain": [
       "<IPython.core.display.HTML object>"
      ]
     },
     "metadata": {},
     "output_type": "display_data"
    },
    {
     "data": {
      "text/html": [
       " View run <strong style=\"color:#cdcd00\">polar-sweep-1</strong> at: <a href='https://wandb.ai/dkritarth-university-at-buffalo/perovskite-ordering-cgcnn-unrelaxed/runs/g0xlg8ra' target=\"_blank\">https://wandb.ai/dkritarth-university-at-buffalo/perovskite-ordering-cgcnn-unrelaxed/runs/g0xlg8ra</a><br/>Synced 6 W&B file(s), 0 media file(s), 0 artifact file(s) and 0 other file(s)"
      ],
      "text/plain": [
       "<IPython.core.display.HTML object>"
      ]
     },
     "metadata": {},
     "output_type": "display_data"
    },
    {
     "data": {
      "text/html": [
       "Find logs at: <code>./wandb/run-20250623_222418-g0xlg8ra/logs</code>"
      ],
      "text/plain": [
       "<IPython.core.display.HTML object>"
      ]
     },
     "metadata": {},
     "output_type": "display_data"
    },
    {
     "name": "stdout",
     "output_type": "stream",
     "text": [
      "Completed wandb sweep with 1 observations\n"
     ]
    }
   ],
   "source": [
    "#run_sigopt_experiment\n",
    "run_wandb_experiment(\n",
    "    struct_type=\"unrelaxed\",\n",
    "    model_type=\"CGCNN\",\n",
    "    gpu_num=0,\n",
    "    obs_budget=1,\n",
    "    training_fraction=0.125,\n",
    "    training_seed=0\n",
    ")"
   ]
  },
  {
   "cell_type": "markdown",
   "metadata": {},
   "source": [
    "# e3nn"
   ]
  },
  {
   "cell_type": "code",
   "execution_count": 3,
   "metadata": {},
   "outputs": [
    {
     "name": "stdout",
     "output_type": "stream",
     "text": [
      "Loaded data\n",
      "Completed data processing\n",
      "Created wandb sweep configuration for 'dft_e_hull_htvs_data_relaxed_e3nn_TrainingFraction0.125'\n",
      "Model type: e3nn\n",
      "Structure type: relaxed\n",
      "Project name from config: perovskite-ordering-e3nn-relaxed\n",
      "Using project name: perovskite-ordering-e3nn-relaxed\n",
      "Create sweep with ID: dtd8m3s1\n",
      "Sweep URL: https://wandb.ai/dkritarth-university-at-buffalo/perovskite-ordering-e3nn-relaxed/sweeps/dtd8m3s1\n",
      "Created wandb sweep with ID: dtd8m3s1\n",
      "Project: perovskite-ordering-e3nn-relaxed\n"
     ]
    },
    {
     "name": "stderr",
     "output_type": "stream",
     "text": [
      "\u001b[34m\u001b[1mwandb\u001b[0m: Agent Starting Run: brn69lru with config:\n",
      "\u001b[34m\u001b[1mwandb\u001b[0m: \tMaxEpochs: 100\n",
      "\u001b[34m\u001b[1mwandb\u001b[0m: \tbatch_size: 12\n",
      "\u001b[34m\u001b[1mwandb\u001b[0m: \tlen_embedding_feature_vector: 64\n",
      "\u001b[34m\u001b[1mwandb\u001b[0m: \tlog_lr: -5\n",
      "\u001b[34m\u001b[1mwandb\u001b[0m: \tmultiplicity_irreps: 16\n",
      "\u001b[34m\u001b[1mwandb\u001b[0m: \tnum_conv: 3\n",
      "\u001b[34m\u001b[1mwandb\u001b[0m: \tnum_hidden_feature: 64\n",
      "\u001b[34m\u001b[1mwandb\u001b[0m: \tnum_hidden_layer: 0\n",
      "\u001b[34m\u001b[1mwandb\u001b[0m: \tnum_radial_neurons: 64\n",
      "\u001b[34m\u001b[1mwandb\u001b[0m: \tnum_radical_basis: 10\n",
      "\u001b[34m\u001b[1mwandb\u001b[0m: \treduceLR_patience: 22\n",
      "Failed to detect the name of this notebook, you can set it manually with the WANDB_NOTEBOOK_NAME environment variable to enable code saving.\n"
     ]
    },
    {
     "data": {
      "text/html": [
       "wandb version 0.20.1 is available!  To upgrade, please run:\n",
       " $ pip install wandb --upgrade"
      ],
      "text/plain": [
       "<IPython.core.display.HTML object>"
      ]
     },
     "metadata": {},
     "output_type": "display_data"
    },
    {
     "data": {
      "text/html": [
       "Tracking run with wandb version 0.16.3"
      ],
      "text/plain": [
       "<IPython.core.display.HTML object>"
      ]
     },
     "metadata": {},
     "output_type": "display_data"
    },
    {
     "data": {
      "text/html": [
       "Run data is saved locally in <code>/data/users/kritarth/PerovskiteOrderingGCNNs/wandb/run-20250623_222853-brn69lru</code>"
      ],
      "text/plain": [
       "<IPython.core.display.HTML object>"
      ]
     },
     "metadata": {},
     "output_type": "display_data"
    },
    {
     "data": {
      "text/html": [
       "Syncing run <strong><a href='https://wandb.ai/dkritarth-university-at-buffalo/perovskite-ordering-e3nn-relaxed/runs/brn69lru' target=\"_blank\">efficient-sweep-1</a></strong> to <a href='https://wandb.ai/dkritarth-university-at-buffalo/perovskite-ordering-e3nn-relaxed' target=\"_blank\">Weights & Biases</a> (<a href='https://wandb.me/run' target=\"_blank\">docs</a>)<br/>Sweep page: <a href='https://wandb.ai/dkritarth-university-at-buffalo/perovskite-ordering-e3nn-relaxed/sweeps/dtd8m3s1' target=\"_blank\">https://wandb.ai/dkritarth-university-at-buffalo/perovskite-ordering-e3nn-relaxed/sweeps/dtd8m3s1</a>"
      ],
      "text/plain": [
       "<IPython.core.display.HTML object>"
      ]
     },
     "metadata": {},
     "output_type": "display_data"
    },
    {
     "data": {
      "text/html": [
       " View project at <a href='https://wandb.ai/dkritarth-university-at-buffalo/perovskite-ordering-e3nn-relaxed' target=\"_blank\">https://wandb.ai/dkritarth-university-at-buffalo/perovskite-ordering-e3nn-relaxed</a>"
      ],
      "text/plain": [
       "<IPython.core.display.HTML object>"
      ]
     },
     "metadata": {},
     "output_type": "display_data"
    },
    {
     "data": {
      "text/html": [
       " View sweep at <a href='https://wandb.ai/dkritarth-university-at-buffalo/perovskite-ordering-e3nn-relaxed/sweeps/dtd8m3s1' target=\"_blank\">https://wandb.ai/dkritarth-university-at-buffalo/perovskite-ordering-e3nn-relaxed/sweeps/dtd8m3s1</a>"
      ],
      "text/plain": [
       "<IPython.core.display.HTML object>"
      ]
     },
     "metadata": {},
     "output_type": "display_data"
    },
    {
     "data": {
      "text/html": [
       " View run at <a href='https://wandb.ai/dkritarth-university-at-buffalo/perovskite-ordering-e3nn-relaxed/runs/brn69lru' target=\"_blank\">https://wandb.ai/dkritarth-university-at-buffalo/perovskite-ordering-e3nn-relaxed/runs/brn69lru</a>"
      ],
      "text/plain": [
       "<IPython.core.display.HTML object>"
      ]
     },
     "metadata": {},
     "output_type": "display_data"
    },
    {
     "name": "stderr",
     "output_type": "stream",
     "text": [
      "100%|██████████| 3111/3111 [00:00<00:00, 7252.05it/s]\n",
      "100%|██████████| 3111/3111 [00:49<00:00, 62.46it/s]\n",
      "100%|██████████| 3111/3111 [00:00<00:00, 8691.20it/s]\n",
      "100%|██████████| 3111/3111 [00:50<00:00, 61.82it/s]\n",
      "100%|██████████| 1277/1277 [00:00<00:00, 7371.49it/s]\n",
      "100%|██████████| 1277/1277 [00:21<00:00, 59.29it/s]\n",
      "/data/users/kritarth/.conda/envs/Perovskite_ML_Environment/lib/python3.10/site-packages/torch/jit/_check.py:181: UserWarning: The TorchScript type system doesn't support instance-level annotations on empty non-base types in `__init__`. Instead, either 1) use a type annotation in the class body, or 2) wrap the type in `torch.jit.Attribute`.\n",
      "  warnings.warn(\"The TorchScript type system doesn't support \"\n",
      "100%|██████████| 260/260 [00:04<00:00, 54.51it/s] \n"
     ]
    },
    {
     "name": "stdout",
     "output_type": "stream",
     "text": [
      "   1 ,lr = 0.00001000  train loss = 0.20083943  train direct = 0.10546274  train contrastive = 0.09537669  val loss = 0.10795774  val direct = 0.09254299  val contrastive = 0.01541475  time = 00:00:04\n"
     ]
    },
    {
     "name": "stderr",
     "output_type": "stream",
     "text": [
      "100%|██████████| 260/260 [00:03<00:00, 77.64it/s]\n"
     ]
    },
    {
     "name": "stdout",
     "output_type": "stream",
     "text": [
      "   2 ,lr = 0.00001000  train loss = 0.20082210  train direct = 0.10544541  train contrastive = 0.09537669  val loss = 0.10785381  val direct = 0.09243906  val contrastive = 0.01541475  time = 00:00:03\n"
     ]
    },
    {
     "name": "stderr",
     "output_type": "stream",
     "text": [
      "100%|██████████| 260/260 [00:03<00:00, 75.59it/s]\n"
     ]
    },
    {
     "name": "stdout",
     "output_type": "stream",
     "text": [
      "   3 ,lr = 0.00001000  train loss = 0.20080449  train direct = 0.10542780  train contrastive = 0.09537669  val loss = 0.10774849  val direct = 0.09233374  val contrastive = 0.01541475  time = 00:00:03\n"
     ]
    },
    {
     "name": "stderr",
     "output_type": "stream",
     "text": [
      "100%|██████████| 260/260 [00:03<00:00, 76.84it/s]\n"
     ]
    },
    {
     "name": "stdout",
     "output_type": "stream",
     "text": [
      "   4 ,lr = 0.00001000  train loss = 0.20078734  train direct = 0.10541065  train contrastive = 0.09537669  val loss = 0.10764541  val direct = 0.09223066  val contrastive = 0.01541475  time = 00:00:03\n"
     ]
    },
    {
     "name": "stderr",
     "output_type": "stream",
     "text": [
      "100%|██████████| 260/260 [00:03<00:00, 77.00it/s]\n"
     ]
    },
    {
     "name": "stdout",
     "output_type": "stream",
     "text": [
      "   5 ,lr = 0.00001000  train loss = 0.20076994  train direct = 0.10539325  train contrastive = 0.09537669  val loss = 0.10754016  val direct = 0.09212541  val contrastive = 0.01541475  time = 00:00:03\n"
     ]
    },
    {
     "name": "stderr",
     "output_type": "stream",
     "text": [
      "100%|██████████| 260/260 [00:03<00:00, 77.30it/s]\n"
     ]
    },
    {
     "name": "stdout",
     "output_type": "stream",
     "text": [
      "   6 ,lr = 0.00001000  train loss = 0.20075198  train direct = 0.10537530  train contrastive = 0.09537668  val loss = 0.10743110  val direct = 0.09201635  val contrastive = 0.01541475  time = 00:00:03\n"
     ]
    },
    {
     "name": "stderr",
     "output_type": "stream",
     "text": [
      "100%|██████████| 260/260 [00:03<00:00, 77.35it/s]\n"
     ]
    },
    {
     "name": "stdout",
     "output_type": "stream",
     "text": [
      "   7 ,lr = 0.00001000  train loss = 0.20073430  train direct = 0.10535764  train contrastive = 0.09537667  val loss = 0.10732349  val direct = 0.09190875  val contrastive = 0.01541475  time = 00:00:03\n"
     ]
    },
    {
     "name": "stderr",
     "output_type": "stream",
     "text": [
      "100%|██████████| 260/260 [00:03<00:00, 77.26it/s]\n"
     ]
    },
    {
     "name": "stdout",
     "output_type": "stream",
     "text": [
      "   8 ,lr = 0.00001000  train loss = 0.20071762  train direct = 0.10534097  train contrastive = 0.09537665  val loss = 0.10722060  val direct = 0.09180585  val contrastive = 0.01541475  time = 00:00:03\n"
     ]
    },
    {
     "name": "stderr",
     "output_type": "stream",
     "text": [
      "100%|██████████| 260/260 [00:03<00:00, 77.11it/s]\n"
     ]
    },
    {
     "name": "stdout",
     "output_type": "stream",
     "text": [
      "   9 ,lr = 0.00001000  train loss = 0.20070039  train direct = 0.10532378  train contrastive = 0.09537662  val loss = 0.10711450  val direct = 0.09169976  val contrastive = 0.01541475  time = 00:00:03\n"
     ]
    },
    {
     "name": "stderr",
     "output_type": "stream",
     "text": [
      "100%|██████████| 260/260 [00:03<00:00, 77.93it/s]\n"
     ]
    },
    {
     "name": "stdout",
     "output_type": "stream",
     "text": [
      "  10 ,lr = 0.00001000  train loss = 0.20068344  train direct = 0.10530689  train contrastive = 0.09537655  val loss = 0.10701043  val direct = 0.09159569  val contrastive = 0.01541474  time = 00:00:03\n"
     ]
    },
    {
     "name": "stderr",
     "output_type": "stream",
     "text": [
      "100%|██████████| 260/260 [00:03<00:00, 77.55it/s]\n"
     ]
    },
    {
     "name": "stdout",
     "output_type": "stream",
     "text": [
      "  11 ,lr = 0.00001000  train loss = 0.20066711  train direct = 0.10529069  train contrastive = 0.09537642  val loss = 0.10691061  val direct = 0.09149588  val contrastive = 0.01541473  time = 00:00:03\n"
     ]
    },
    {
     "name": "stderr",
     "output_type": "stream",
     "text": [
      "100%|██████████| 260/260 [00:03<00:00, 78.26it/s]\n"
     ]
    },
    {
     "name": "stdout",
     "output_type": "stream",
     "text": [
      "  12 ,lr = 0.00001000  train loss = 0.20065052  train direct = 0.10527434  train contrastive = 0.09537619  val loss = 0.10680981  val direct = 0.09139510  val contrastive = 0.01541471  time = 00:00:03\n"
     ]
    },
    {
     "name": "stderr",
     "output_type": "stream",
     "text": [
      "100%|██████████| 260/260 [00:03<00:00, 77.67it/s]\n"
     ]
    },
    {
     "name": "stdout",
     "output_type": "stream",
     "text": [
      "  13 ,lr = 0.00001000  train loss = 0.20063251  train direct = 0.10525680  train contrastive = 0.09537571  val loss = 0.10670322  val direct = 0.09128855  val contrastive = 0.01541467  time = 00:00:03\n"
     ]
    },
    {
     "name": "stderr",
     "output_type": "stream",
     "text": [
      "100%|██████████| 260/260 [00:03<00:00, 77.38it/s]\n"
     ]
    },
    {
     "name": "stdout",
     "output_type": "stream",
     "text": [
      "  14 ,lr = 0.00001000  train loss = 0.20061325  train direct = 0.10523849  train contrastive = 0.09537476  val loss = 0.10659430  val direct = 0.09117972  val contrastive = 0.01541459  time = 00:00:03\n"
     ]
    },
    {
     "name": "stderr",
     "output_type": "stream",
     "text": [
      "100%|██████████| 260/260 [00:03<00:00, 78.12it/s]\n"
     ]
    },
    {
     "name": "stdout",
     "output_type": "stream",
     "text": [
      "  15 ,lr = 0.00001000  train loss = 0.20059021  train direct = 0.10521747  train contrastive = 0.09537275  val loss = 0.10647395  val direct = 0.09105953  val contrastive = 0.01541442  time = 00:00:03\n"
     ]
    },
    {
     "name": "stderr",
     "output_type": "stream",
     "text": [
      "100%|██████████| 260/260 [00:03<00:00, 78.51it/s]\n"
     ]
    },
    {
     "name": "stdout",
     "output_type": "stream",
     "text": [
      "  16 ,lr = 0.00001000  train loss = 0.20056090  train direct = 0.10519214  train contrastive = 0.09536877  val loss = 0.10633852  val direct = 0.09092444  val contrastive = 0.01541408  time = 00:00:03\n"
     ]
    },
    {
     "name": "stderr",
     "output_type": "stream",
     "text": [
      "100%|██████████| 260/260 [00:03<00:00, 77.46it/s]\n"
     ]
    },
    {
     "name": "stdout",
     "output_type": "stream",
     "text": [
      "  17 ,lr = 0.00001000  train loss = 0.20051728  train direct = 0.10515730  train contrastive = 0.09535998  val loss = 0.10616737  val direct = 0.09075399  val contrastive = 0.01541338  time = 00:00:03\n"
     ]
    },
    {
     "name": "stderr",
     "output_type": "stream",
     "text": [
      "100%|██████████| 260/260 [00:03<00:00, 77.26it/s]\n"
     ]
    },
    {
     "name": "stdout",
     "output_type": "stream",
     "text": [
      "  18 ,lr = 0.00001000  train loss = 0.20043799  train direct = 0.10509878  train contrastive = 0.09533920  val loss = 0.10590156  val direct = 0.09048987  val contrastive = 0.01541169  time = 00:00:03\n"
     ]
    },
    {
     "name": "stderr",
     "output_type": "stream",
     "text": [
      "100%|██████████| 260/260 [00:03<00:00, 76.92it/s]\n"
     ]
    },
    {
     "name": "stdout",
     "output_type": "stream",
     "text": [
      "  19 ,lr = 0.00001000  train loss = 0.20028915  train direct = 0.10499573  train contrastive = 0.09529342  val loss = 0.10547157  val direct = 0.09006354  val contrastive = 0.01540803  time = 00:00:03\n"
     ]
    },
    {
     "name": "stderr",
     "output_type": "stream",
     "text": [
      "100%|██████████| 260/260 [00:03<00:00, 78.87it/s]\n"
     ]
    },
    {
     "name": "stdout",
     "output_type": "stream",
     "text": [
      "  20 ,lr = 0.00001000  train loss = 0.19996734  train direct = 0.10478351  train contrastive = 0.09518383  val loss = 0.10461118  val direct = 0.08921190  val contrastive = 0.01539927  time = 00:00:03\n"
     ]
    },
    {
     "name": "stderr",
     "output_type": "stream",
     "text": [
      "100%|██████████| 260/260 [00:03<00:00, 77.01it/s]\n"
     ]
    },
    {
     "name": "stdout",
     "output_type": "stream",
     "text": [
      "  21 ,lr = 0.00001000  train loss = 0.19920857  train direct = 0.10430160  train contrastive = 0.09490697  val loss = 0.10269866  val direct = 0.08732193  val contrastive = 0.01537672  time = 00:00:03\n"
     ]
    },
    {
     "name": "stderr",
     "output_type": "stream",
     "text": [
      "100%|██████████| 260/260 [00:03<00:00, 77.54it/s]\n"
     ]
    },
    {
     "name": "stdout",
     "output_type": "stream",
     "text": [
      "  22 ,lr = 0.00001000  train loss = 0.19767663  train direct = 0.10335712  train contrastive = 0.09431951  val loss = 0.09891004  val direct = 0.08358262  val contrastive = 0.01532742  time = 00:00:03\n"
     ]
    },
    {
     "name": "stderr",
     "output_type": "stream",
     "text": [
      "100%|██████████| 260/260 [00:03<00:00, 76.49it/s]\n"
     ]
    },
    {
     "name": "stdout",
     "output_type": "stream",
     "text": [
      "  23 ,lr = 0.00001000  train loss = 0.19451840  train direct = 0.10147881  train contrastive = 0.09303959  val loss = 0.09094420  val direct = 0.07572380  val contrastive = 0.01522041  time = 00:00:03\n"
     ]
    },
    {
     "name": "stderr",
     "output_type": "stream",
     "text": [
      "100%|██████████| 260/260 [00:03<00:00, 77.88it/s]\n"
     ]
    },
    {
     "name": "stdout",
     "output_type": "stream",
     "text": [
      "  24 ,lr = 0.00001000  train loss = 0.19010279  train direct = 0.09896765  train contrastive = 0.09113514  val loss = 0.07968739  val direct = 0.06462007  val contrastive = 0.01506732  time = 00:00:03\n"
     ]
    },
    {
     "name": "stderr",
     "output_type": "stream",
     "text": [
      "100%|██████████| 260/260 [00:03<00:00, 78.71it/s]\n"
     ]
    },
    {
     "name": "stdout",
     "output_type": "stream",
     "text": [
      "  25 ,lr = 0.00001000  train loss = 0.18656794  train direct = 0.09697117  train contrastive = 0.08959677  val loss = 0.07108522  val direct = 0.05612527  val contrastive = 0.01495996  time = 00:00:03\n"
     ]
    },
    {
     "name": "stderr",
     "output_type": "stream",
     "text": [
      "100%|██████████| 260/260 [00:03<00:00, 77.84it/s]\n"
     ]
    },
    {
     "name": "stdout",
     "output_type": "stream",
     "text": [
      "  26 ,lr = 0.00001000  train loss = 0.18453288  train direct = 0.09556886  train contrastive = 0.08896402  val loss = 0.06729999  val direct = 0.05236749  val contrastive = 0.01493250  time = 00:00:03\n"
     ]
    },
    {
     "name": "stderr",
     "output_type": "stream",
     "text": [
      "100%|██████████| 260/260 [00:03<00:00, 79.28it/s]\n"
     ]
    },
    {
     "name": "stdout",
     "output_type": "stream",
     "text": [
      "  27 ,lr = 0.00001000  train loss = 0.18340070  train direct = 0.09449497  train contrastive = 0.08890573  val loss = 0.06600446  val direct = 0.05105020  val contrastive = 0.01495426  time = 00:00:03\n"
     ]
    },
    {
     "name": "stderr",
     "output_type": "stream",
     "text": [
      "100%|██████████| 260/260 [00:03<00:00, 79.63it/s]\n"
     ]
    },
    {
     "name": "stdout",
     "output_type": "stream",
     "text": [
      "  28 ,lr = 0.00001000  train loss = 0.18268608  train direct = 0.09353836  train contrastive = 0.08914773  val loss = 0.06569120  val direct = 0.05069328  val contrastive = 0.01499792  time = 00:00:03\n"
     ]
    },
    {
     "name": "stderr",
     "output_type": "stream",
     "text": [
      "100%|██████████| 260/260 [00:03<00:00, 79.19it/s]\n"
     ]
    },
    {
     "name": "stdout",
     "output_type": "stream",
     "text": [
      "  29 ,lr = 0.00001000  train loss = 0.18214755  train direct = 0.09271948  train contrastive = 0.08942807  val loss = 0.06559247  val direct = 0.05055040  val contrastive = 0.01504207  time = 00:00:03\n"
     ]
    },
    {
     "name": "stderr",
     "output_type": "stream",
     "text": [
      "100%|██████████| 260/260 [00:03<00:00, 78.92it/s]\n"
     ]
    },
    {
     "name": "stdout",
     "output_type": "stream",
     "text": [
      "  30 ,lr = 0.00001000  train loss = 0.18156022  train direct = 0.09197097  train contrastive = 0.08958926  val loss = 0.06539414  val direct = 0.05031691  val contrastive = 0.01507723  time = 00:00:03\n"
     ]
    },
    {
     "name": "stderr",
     "output_type": "stream",
     "text": [
      "100%|██████████| 260/260 [00:03<00:00, 77.29it/s]\n"
     ]
    },
    {
     "name": "stdout",
     "output_type": "stream",
     "text": [
      "  31 ,lr = 0.00001000  train loss = 0.18130328  train direct = 0.09129567  train contrastive = 0.09000761  val loss = 0.06557182  val direct = 0.05044629  val contrastive = 0.01512553  time = 00:00:03\n"
     ]
    },
    {
     "name": "stderr",
     "output_type": "stream",
     "text": [
      "100%|██████████| 260/260 [00:03<00:00, 76.96it/s]\n"
     ]
    },
    {
     "name": "stdout",
     "output_type": "stream",
     "text": [
      "  32 ,lr = 0.00001000  train loss = 0.18100158  train direct = 0.09074849  train contrastive = 0.09025309  val loss = 0.06561800  val direct = 0.05045729  val contrastive = 0.01516072  time = 00:00:03\n"
     ]
    },
    {
     "name": "stderr",
     "output_type": "stream",
     "text": [
      "100%|██████████| 260/260 [00:03<00:00, 78.07it/s]\n"
     ]
    },
    {
     "name": "stdout",
     "output_type": "stream",
     "text": [
      "  33 ,lr = 0.00001000  train loss = 0.18082360  train direct = 0.09029030  train contrastive = 0.09053330  val loss = 0.06571475  val direct = 0.05051996  val contrastive = 0.01519479  time = 00:00:03\n"
     ]
    },
    {
     "name": "stderr",
     "output_type": "stream",
     "text": [
      "100%|██████████| 260/260 [00:03<00:00, 78.05it/s]\n"
     ]
    },
    {
     "name": "stdout",
     "output_type": "stream",
     "text": [
      "  34 ,lr = 0.00001000  train loss = 0.18048017  train direct = 0.08990169  train contrastive = 0.09057848  val loss = 0.06567906  val direct = 0.05046919  val contrastive = 0.01520987  time = 00:00:03\n"
     ]
    },
    {
     "name": "stderr",
     "output_type": "stream",
     "text": [
      "100%|██████████| 260/260 [00:03<00:00, 79.05it/s]\n"
     ]
    },
    {
     "name": "stdout",
     "output_type": "stream",
     "text": [
      "  35 ,lr = 0.00001000  train loss = 0.18021588  train direct = 0.08955871  train contrastive = 0.09065717  val loss = 0.06567362  val direct = 0.05045076  val contrastive = 0.01522285  time = 00:00:03\n"
     ]
    },
    {
     "name": "stderr",
     "output_type": "stream",
     "text": [
      "100%|██████████| 260/260 [00:03<00:00, 78.15it/s]\n"
     ]
    },
    {
     "name": "stdout",
     "output_type": "stream",
     "text": [
      "  36 ,lr = 0.00001000  train loss = 0.17996897  train direct = 0.08923268  train contrastive = 0.09073629  val loss = 0.06562703  val direct = 0.05039412  val contrastive = 0.01523291  time = 00:00:03\n"
     ]
    },
    {
     "name": "stderr",
     "output_type": "stream",
     "text": [
      "100%|██████████| 260/260 [00:03<00:00, 77.26it/s]\n"
     ]
    },
    {
     "name": "stdout",
     "output_type": "stream",
     "text": [
      "  37 ,lr = 0.00001000  train loss = 0.17949008  train direct = 0.08890093  train contrastive = 0.09058915  val loss = 0.06563001  val direct = 0.05039656  val contrastive = 0.01523345  time = 00:00:03\n"
     ]
    },
    {
     "name": "stderr",
     "output_type": "stream",
     "text": [
      "100%|██████████| 260/260 [00:03<00:00, 79.25it/s]\n"
     ]
    },
    {
     "name": "stdout",
     "output_type": "stream",
     "text": [
      "  38 ,lr = 0.00001000  train loss = 0.17924333  train direct = 0.08858702  train contrastive = 0.09065631  val loss = 0.06547771  val direct = 0.05024296  val contrastive = 0.01523475  time = 00:00:03\n"
     ]
    },
    {
     "name": "stderr",
     "output_type": "stream",
     "text": [
      "100%|██████████| 260/260 [00:03<00:00, 78.24it/s]\n"
     ]
    },
    {
     "name": "stdout",
     "output_type": "stream",
     "text": [
      "  39 ,lr = 0.00001000  train loss = 0.17904947  train direct = 0.08827115  train contrastive = 0.09077832  val loss = 0.06535144  val direct = 0.05011002  val contrastive = 0.01524142  time = 00:00:03\n"
     ]
    },
    {
     "name": "stderr",
     "output_type": "stream",
     "text": [
      "100%|██████████| 260/260 [00:03<00:00, 78.09it/s]\n"
     ]
    },
    {
     "name": "stdout",
     "output_type": "stream",
     "text": [
      "  40 ,lr = 0.00001000  train loss = 0.17843767  train direct = 0.08794128  train contrastive = 0.09049640  val loss = 0.06531864  val direct = 0.05009107  val contrastive = 0.01522757  time = 00:00:03\n"
     ]
    },
    {
     "name": "stderr",
     "output_type": "stream",
     "text": [
      "100%|██████████| 260/260 [00:03<00:00, 77.70it/s]\n"
     ]
    },
    {
     "name": "stdout",
     "output_type": "stream",
     "text": [
      "  41 ,lr = 0.00001000  train loss = 0.17802952  train direct = 0.08760269  train contrastive = 0.09042683  val loss = 0.06521859  val direct = 0.04999609  val contrastive = 0.01522251  time = 00:00:03\n"
     ]
    },
    {
     "name": "stderr",
     "output_type": "stream",
     "text": [
      "100%|██████████| 260/260 [00:03<00:00, 78.30it/s]\n"
     ]
    },
    {
     "name": "stdout",
     "output_type": "stream",
     "text": [
      "  42 ,lr = 0.00001000  train loss = 0.17769171  train direct = 0.08724567  train contrastive = 0.09044604  val loss = 0.06499218  val direct = 0.04977319  val contrastive = 0.01521899  time = 00:00:03\n"
     ]
    },
    {
     "name": "stderr",
     "output_type": "stream",
     "text": [
      "100%|██████████| 260/260 [00:03<00:00, 79.04it/s]\n"
     ]
    },
    {
     "name": "stdout",
     "output_type": "stream",
     "text": [
      "  43 ,lr = 0.00001000  train loss = 0.17739194  train direct = 0.08689536  train contrastive = 0.09049658  val loss = 0.06474938  val direct = 0.04953210  val contrastive = 0.01521728  time = 00:00:03\n"
     ]
    },
    {
     "name": "stderr",
     "output_type": "stream",
     "text": [
      "100%|██████████| 260/260 [00:03<00:00, 77.52it/s]\n"
     ]
    },
    {
     "name": "stdout",
     "output_type": "stream",
     "text": [
      "  44 ,lr = 0.00001000  train loss = 0.17690370  train direct = 0.08653590  train contrastive = 0.09036780  val loss = 0.06458753  val direct = 0.04937937  val contrastive = 0.01520816  time = 00:00:03\n"
     ]
    },
    {
     "name": "stderr",
     "output_type": "stream",
     "text": [
      "100%|██████████| 260/260 [00:03<00:00, 78.82it/s]\n"
     ]
    },
    {
     "name": "stdout",
     "output_type": "stream",
     "text": [
      "  45 ,lr = 0.00001000  train loss = 0.17665222  train direct = 0.08618635  train contrastive = 0.09046587  val loss = 0.06430940  val direct = 0.04909716  val contrastive = 0.01521224  time = 00:00:03\n"
     ]
    },
    {
     "name": "stderr",
     "output_type": "stream",
     "text": [
      "100%|██████████| 260/260 [00:03<00:00, 78.06it/s]\n"
     ]
    },
    {
     "name": "stdout",
     "output_type": "stream",
     "text": [
      "  46 ,lr = 0.00001000  train loss = 0.17594058  train direct = 0.08578216  train contrastive = 0.09015843  val loss = 0.06414406  val direct = 0.04894865  val contrastive = 0.01519540  time = 00:00:03\n"
     ]
    },
    {
     "name": "stderr",
     "output_type": "stream",
     "text": [
      "100%|██████████| 260/260 [00:03<00:00, 76.66it/s]\n"
     ]
    },
    {
     "name": "stdout",
     "output_type": "stream",
     "text": [
      "  47 ,lr = 0.00001000  train loss = 0.17514785  train direct = 0.08538626  train contrastive = 0.08976159  val loss = 0.06408270  val direct = 0.04890659  val contrastive = 0.01517611  time = 00:00:03\n"
     ]
    },
    {
     "name": "stderr",
     "output_type": "stream",
     "text": [
      "100%|██████████| 260/260 [00:03<00:00, 77.44it/s]\n"
     ]
    },
    {
     "name": "stdout",
     "output_type": "stream",
     "text": [
      "  48 ,lr = 0.00001000  train loss = 0.17491171  train direct = 0.08499897  train contrastive = 0.08991274  val loss = 0.06372053  val direct = 0.04853531  val contrastive = 0.01518522  time = 00:00:03\n"
     ]
    },
    {
     "name": "stderr",
     "output_type": "stream",
     "text": [
      "100%|██████████| 260/260 [00:03<00:00, 78.90it/s]\n"
     ]
    },
    {
     "name": "stdout",
     "output_type": "stream",
     "text": [
      "  49 ,lr = 0.00001000  train loss = 0.17371014  train direct = 0.08461527  train contrastive = 0.08909488  val loss = 0.06399851  val direct = 0.04885041  val contrastive = 0.01514810  time = 00:00:03\n"
     ]
    },
    {
     "name": "stderr",
     "output_type": "stream",
     "text": [
      "100%|██████████| 260/260 [00:03<00:00, 78.12it/s]\n"
     ]
    },
    {
     "name": "stdout",
     "output_type": "stream",
     "text": [
      "  50 ,lr = 0.00001000  train loss = 0.17345031  train direct = 0.08418848  train contrastive = 0.08926183  val loss = 0.06338738  val direct = 0.04823132  val contrastive = 0.01515605  time = 00:00:03\n"
     ]
    },
    {
     "name": "stderr",
     "output_type": "stream",
     "text": [
      "100%|██████████| 260/260 [00:03<00:00, 78.67it/s]\n"
     ]
    },
    {
     "name": "stdout",
     "output_type": "stream",
     "text": [
      "  51 ,lr = 0.00001000  train loss = 0.17246057  train direct = 0.08378500  train contrastive = 0.08867557  val loss = 0.06330539  val direct = 0.04817918  val contrastive = 0.01512621  time = 00:00:03\n"
     ]
    },
    {
     "name": "stderr",
     "output_type": "stream",
     "text": [
      "100%|██████████| 260/260 [00:03<00:00, 78.75it/s]\n"
     ]
    },
    {
     "name": "stdout",
     "output_type": "stream",
     "text": [
      "  52 ,lr = 0.00001000  train loss = 0.17186015  train direct = 0.08337653  train contrastive = 0.08848362  val loss = 0.06293692  val direct = 0.04781910  val contrastive = 0.01511782  time = 00:00:03\n"
     ]
    },
    {
     "name": "stderr",
     "output_type": "stream",
     "text": [
      "100%|██████████| 260/260 [00:03<00:00, 77.47it/s]\n"
     ]
    },
    {
     "name": "stdout",
     "output_type": "stream",
     "text": [
      "  53 ,lr = 0.00001000  train loss = 0.17145807  train direct = 0.08299867  train contrastive = 0.08845940  val loss = 0.06249179  val direct = 0.04736670  val contrastive = 0.01512509  time = 00:00:03\n"
     ]
    },
    {
     "name": "stderr",
     "output_type": "stream",
     "text": [
      "100%|██████████| 260/260 [00:03<00:00, 77.87it/s]\n"
     ]
    },
    {
     "name": "stdout",
     "output_type": "stream",
     "text": [
      "  54 ,lr = 0.00001000  train loss = 0.17044207  train direct = 0.08258596  train contrastive = 0.08785611  val loss = 0.06235312  val direct = 0.04725164  val contrastive = 0.01510148  time = 00:00:03\n"
     ]
    },
    {
     "name": "stderr",
     "output_type": "stream",
     "text": [
      "100%|██████████| 260/260 [00:03<00:00, 76.58it/s]\n"
     ]
    },
    {
     "name": "stdout",
     "output_type": "stream",
     "text": [
      "  55 ,lr = 0.00001000  train loss = 0.16936278  train direct = 0.08219521  train contrastive = 0.08716757  val loss = 0.06236772  val direct = 0.04728141  val contrastive = 0.01508631  time = 00:00:03\n"
     ]
    },
    {
     "name": "stderr",
     "output_type": "stream",
     "text": [
      "100%|██████████| 260/260 [00:03<00:00, 76.44it/s]\n"
     ]
    },
    {
     "name": "stdout",
     "output_type": "stream",
     "text": [
      "  56 ,lr = 0.00001000  train loss = 0.16846159  train direct = 0.08183356  train contrastive = 0.08662802  val loss = 0.06216867  val direct = 0.04709165  val contrastive = 0.01507702  time = 00:00:03\n"
     ]
    },
    {
     "name": "stderr",
     "output_type": "stream",
     "text": [
      "100%|██████████| 260/260 [00:03<00:00, 78.27it/s]\n"
     ]
    },
    {
     "name": "stdout",
     "output_type": "stream",
     "text": [
      "  57 ,lr = 0.00001000  train loss = 0.16836548  train direct = 0.08153713  train contrastive = 0.08682835  val loss = 0.06138948  val direct = 0.04630329  val contrastive = 0.01508619  time = 00:00:03\n"
     ]
    },
    {
     "name": "stderr",
     "output_type": "stream",
     "text": [
      "100%|██████████| 260/260 [00:03<00:00, 78.57it/s]\n"
     ]
    },
    {
     "name": "stdout",
     "output_type": "stream",
     "text": [
      "  58 ,lr = 0.00001000  train loss = 0.16753458  train direct = 0.08118812  train contrastive = 0.08634646  val loss = 0.06113268  val direct = 0.04605059  val contrastive = 0.01508209  time = 00:00:03\n"
     ]
    },
    {
     "name": "stderr",
     "output_type": "stream",
     "text": [
      "100%|██████████| 260/260 [00:03<00:00, 79.68it/s]\n"
     ]
    },
    {
     "name": "stdout",
     "output_type": "stream",
     "text": [
      "  59 ,lr = 0.00001000  train loss = 0.16627031  train direct = 0.08079520  train contrastive = 0.08547511  val loss = 0.06129177  val direct = 0.04622030  val contrastive = 0.01507146  time = 00:00:03\n"
     ]
    },
    {
     "name": "stderr",
     "output_type": "stream",
     "text": [
      "100%|██████████| 260/260 [00:03<00:00, 78.23it/s]\n"
     ]
    },
    {
     "name": "stdout",
     "output_type": "stream",
     "text": [
      "  60 ,lr = 0.00001000  train loss = 0.16560396  train direct = 0.08048237  train contrastive = 0.08512160  val loss = 0.06090073  val direct = 0.04583348  val contrastive = 0.01506725  time = 00:00:03\n"
     ]
    },
    {
     "name": "stderr",
     "output_type": "stream",
     "text": [
      "100%|██████████| 260/260 [00:03<00:00, 79.18it/s]\n"
     ]
    },
    {
     "name": "stdout",
     "output_type": "stream",
     "text": [
      "  61 ,lr = 0.00001000  train loss = 0.16443224  train direct = 0.08017880  train contrastive = 0.08425344  val loss = 0.06121739  val direct = 0.04615631  val contrastive = 0.01506108  time = 00:00:03\n"
     ]
    },
    {
     "name": "stderr",
     "output_type": "stream",
     "text": [
      "100%|██████████| 260/260 [00:03<00:00, 77.59it/s]\n"
     ]
    },
    {
     "name": "stdout",
     "output_type": "stream",
     "text": [
      "  62 ,lr = 0.00001000  train loss = 0.16334540  train direct = 0.07993833  train contrastive = 0.08340706  val loss = 0.06167075  val direct = 0.04661027  val contrastive = 0.01506048  time = 00:00:03\n"
     ]
    },
    {
     "name": "stderr",
     "output_type": "stream",
     "text": [
      "100%|██████████| 260/260 [00:03<00:00, 77.29it/s]\n"
     ]
    },
    {
     "name": "stdout",
     "output_type": "stream",
     "text": [
      "  63 ,lr = 0.00001000  train loss = 0.16315701  train direct = 0.07955405  train contrastive = 0.08360296  val loss = 0.06051519  val direct = 0.04543228  val contrastive = 0.01508291  time = 00:00:03\n"
     ]
    },
    {
     "name": "stderr",
     "output_type": "stream",
     "text": [
      "100%|██████████| 260/260 [00:03<00:00, 76.95it/s]\n"
     ]
    },
    {
     "name": "stdout",
     "output_type": "stream",
     "text": [
      "  64 ,lr = 0.00001000  train loss = 0.16250597  train direct = 0.07926891  train contrastive = 0.08323706  val loss = 0.06029093  val direct = 0.04519034  val contrastive = 0.01510059  time = 00:00:03\n"
     ]
    },
    {
     "name": "stderr",
     "output_type": "stream",
     "text": [
      "100%|██████████| 260/260 [00:03<00:00, 78.32it/s]\n"
     ]
    },
    {
     "name": "stdout",
     "output_type": "stream",
     "text": [
      "  65 ,lr = 0.00001000  train loss = 0.16145298  train direct = 0.07904973  train contrastive = 0.08240325  val loss = 0.06087139  val direct = 0.04575818  val contrastive = 0.01511321  time = 00:00:03\n"
     ]
    },
    {
     "name": "stderr",
     "output_type": "stream",
     "text": [
      "100%|██████████| 260/260 [00:03<00:00, 76.95it/s]\n"
     ]
    },
    {
     "name": "stdout",
     "output_type": "stream",
     "text": [
      "  66 ,lr = 0.00001000  train loss = 0.16138372  train direct = 0.07875009  train contrastive = 0.08263362  val loss = 0.06000194  val direct = 0.04486058  val contrastive = 0.01514136  time = 00:00:03\n"
     ]
    },
    {
     "name": "stderr",
     "output_type": "stream",
     "text": [
      "100%|██████████| 260/260 [00:03<00:00, 78.19it/s]\n"
     ]
    },
    {
     "name": "stdout",
     "output_type": "stream",
     "text": [
      "  67 ,lr = 0.00001000  train loss = 0.16067507  train direct = 0.07848679  train contrastive = 0.08218828  val loss = 0.06011267  val direct = 0.04494502  val contrastive = 0.01516765  time = 00:00:03\n"
     ]
    },
    {
     "name": "stderr",
     "output_type": "stream",
     "text": [
      "100%|██████████| 260/260 [00:03<00:00, 79.76it/s]\n"
     ]
    },
    {
     "name": "stdout",
     "output_type": "stream",
     "text": [
      "  68 ,lr = 0.00001000  train loss = 0.16001269  train direct = 0.07822276  train contrastive = 0.08178993  val loss = 0.06013225  val direct = 0.04493468  val contrastive = 0.01519757  time = 00:00:03\n"
     ]
    },
    {
     "name": "stderr",
     "output_type": "stream",
     "text": [
      "100%|██████████| 260/260 [00:03<00:00, 77.97it/s]\n"
     ]
    },
    {
     "name": "stdout",
     "output_type": "stream",
     "text": [
      "  69 ,lr = 0.00001000  train loss = 0.15949660  train direct = 0.07795670  train contrastive = 0.08153990  val loss = 0.06005645  val direct = 0.04482434  val contrastive = 0.01523211  time = 00:00:03\n"
     ]
    },
    {
     "name": "stderr",
     "output_type": "stream",
     "text": [
      "100%|██████████| 260/260 [00:03<00:00, 79.49it/s]\n"
     ]
    },
    {
     "name": "stdout",
     "output_type": "stream",
     "text": [
      "  70 ,lr = 0.00001000  train loss = 0.15951823  train direct = 0.07774243  train contrastive = 0.08177579  val loss = 0.05951687  val direct = 0.04424963  val contrastive = 0.01526724  time = 00:00:03\n"
     ]
    },
    {
     "name": "stderr",
     "output_type": "stream",
     "text": [
      "100%|██████████| 260/260 [00:03<00:00, 77.68it/s]\n"
     ]
    },
    {
     "name": "stdout",
     "output_type": "stream",
     "text": [
      "  71 ,lr = 0.00001000  train loss = 0.15853811  train direct = 0.07742489  train contrastive = 0.08111322  val loss = 0.05996396  val direct = 0.04466244  val contrastive = 0.01530152  time = 00:00:03\n"
     ]
    },
    {
     "name": "stderr",
     "output_type": "stream",
     "text": [
      "100%|██████████| 260/260 [00:03<00:00, 77.63it/s]\n"
     ]
    },
    {
     "name": "stdout",
     "output_type": "stream",
     "text": [
      "  72 ,lr = 0.00001000  train loss = 0.15779443  train direct = 0.07717254  train contrastive = 0.08062188  val loss = 0.06033819  val direct = 0.04500360  val contrastive = 0.01533459  time = 00:00:03\n"
     ]
    },
    {
     "name": "stderr",
     "output_type": "stream",
     "text": [
      "100%|██████████| 260/260 [00:03<00:00, 77.70it/s]\n"
     ]
    },
    {
     "name": "stdout",
     "output_type": "stream",
     "text": [
      "  73 ,lr = 0.00001000  train loss = 0.15764421  train direct = 0.07692016  train contrastive = 0.08072405  val loss = 0.05974878  val direct = 0.04439406  val contrastive = 0.01535472  time = 00:00:03\n"
     ]
    },
    {
     "name": "stderr",
     "output_type": "stream",
     "text": [
      "100%|██████████| 260/260 [00:03<00:00, 77.28it/s]\n"
     ]
    },
    {
     "name": "stdout",
     "output_type": "stream",
     "text": [
      "  74 ,lr = 0.00001000  train loss = 0.15676201  train direct = 0.07668557  train contrastive = 0.08007643  val loss = 0.06041688  val direct = 0.04503799  val contrastive = 0.01537889  time = 00:00:03\n"
     ]
    },
    {
     "name": "stderr",
     "output_type": "stream",
     "text": [
      "100%|██████████| 260/260 [00:03<00:00, 77.97it/s]\n"
     ]
    },
    {
     "name": "stdout",
     "output_type": "stream",
     "text": [
      "  75 ,lr = 0.00001000  train loss = 0.15644256  train direct = 0.07642103  train contrastive = 0.08002153  val loss = 0.06009046  val direct = 0.04469229  val contrastive = 0.01539817  time = 00:00:03\n"
     ]
    },
    {
     "name": "stderr",
     "output_type": "stream",
     "text": [
      "100%|██████████| 260/260 [00:03<00:00, 77.50it/s]\n"
     ]
    },
    {
     "name": "stdout",
     "output_type": "stream",
     "text": [
      "  76 ,lr = 0.00001000  train loss = 0.15623180  train direct = 0.07619199  train contrastive = 0.08003981  val loss = 0.05971777  val direct = 0.04429985  val contrastive = 0.01541792  time = 00:00:03\n"
     ]
    },
    {
     "name": "stderr",
     "output_type": "stream",
     "text": [
      "100%|██████████| 260/260 [00:03<00:00, 77.06it/s]\n"
     ]
    },
    {
     "name": "stdout",
     "output_type": "stream",
     "text": [
      "  77 ,lr = 0.00001000  train loss = 0.15600036  train direct = 0.07598675  train contrastive = 0.08001361  val loss = 0.05949928  val direct = 0.04406857  val contrastive = 0.01543072  time = 00:00:03\n"
     ]
    },
    {
     "name": "stderr",
     "output_type": "stream",
     "text": [
      "100%|██████████| 260/260 [00:03<00:00, 76.88it/s]\n"
     ]
    },
    {
     "name": "stdout",
     "output_type": "stream",
     "text": [
      "  78 ,lr = 0.00001000  train loss = 0.15488497  train direct = 0.07579093  train contrastive = 0.07909404  val loss = 0.06089017  val direct = 0.04541931  val contrastive = 0.01547086  time = 00:00:03\n"
     ]
    },
    {
     "name": "stderr",
     "output_type": "stream",
     "text": [
      "100%|██████████| 260/260 [00:03<00:00, 78.36it/s]\n"
     ]
    },
    {
     "name": "stdout",
     "output_type": "stream",
     "text": [
      "  79 ,lr = 0.00001000  train loss = 0.15446339  train direct = 0.07558991  train contrastive = 0.07887348  val loss = 0.06096881  val direct = 0.04549109  val contrastive = 0.01547771  time = 00:00:03\n"
     ]
    },
    {
     "name": "stderr",
     "output_type": "stream",
     "text": [
      "100%|██████████| 260/260 [00:03<00:00, 77.13it/s]\n"
     ]
    },
    {
     "name": "stdout",
     "output_type": "stream",
     "text": [
      "  80 ,lr = 0.00001000  train loss = 0.15428995  train direct = 0.07528761  train contrastive = 0.07900233  val loss = 0.06041100  val direct = 0.04491182  val contrastive = 0.01549919  time = 00:00:03\n"
     ]
    },
    {
     "name": "stderr",
     "output_type": "stream",
     "text": [
      "100%|██████████| 260/260 [00:03<00:00, 77.25it/s]\n"
     ]
    },
    {
     "name": "stdout",
     "output_type": "stream",
     "text": [
      "  81 ,lr = 0.00001000  train loss = 0.15417611  train direct = 0.07503717  train contrastive = 0.07913894  val loss = 0.05989088  val direct = 0.04437930  val contrastive = 0.01551157  time = 00:00:03\n"
     ]
    },
    {
     "name": "stderr",
     "output_type": "stream",
     "text": [
      "100%|██████████| 260/260 [00:03<00:00, 77.81it/s]\n"
     ]
    },
    {
     "name": "stdout",
     "output_type": "stream",
     "text": [
      "  82 ,lr = 0.00001000  train loss = 0.15407831  train direct = 0.07483195  train contrastive = 0.07924635  val loss = 0.05947530  val direct = 0.04395355  val contrastive = 0.01552175  time = 00:00:03\n"
     ]
    },
    {
     "name": "stderr",
     "output_type": "stream",
     "text": [
      "100%|██████████| 260/260 [00:03<00:00, 77.29it/s]\n"
     ]
    },
    {
     "name": "stdout",
     "output_type": "stream",
     "text": [
      "  83 ,lr = 0.00001000  train loss = 0.15325257  train direct = 0.07460592  train contrastive = 0.07864665  val loss = 0.06022597  val direct = 0.04468102  val contrastive = 0.01554494  time = 00:00:03\n"
     ]
    },
    {
     "name": "stderr",
     "output_type": "stream",
     "text": [
      "100%|██████████| 260/260 [00:03<00:00, 77.36it/s]\n"
     ]
    },
    {
     "name": "stdout",
     "output_type": "stream",
     "text": [
      "  84 ,lr = 0.00001000  train loss = 0.15284397  train direct = 0.07437957  train contrastive = 0.07846440  val loss = 0.06023272  val direct = 0.04467769  val contrastive = 0.01555504  time = 00:00:03\n"
     ]
    },
    {
     "name": "stderr",
     "output_type": "stream",
     "text": [
      "100%|██████████| 260/260 [00:03<00:00, 78.02it/s]\n"
     ]
    },
    {
     "name": "stdout",
     "output_type": "stream",
     "text": [
      "  85 ,lr = 0.00001000  train loss = 0.15271094  train direct = 0.07412841  train contrastive = 0.07858253  val loss = 0.05987644  val direct = 0.04430513  val contrastive = 0.01557131  time = 00:00:03\n"
     ]
    },
    {
     "name": "stderr",
     "output_type": "stream",
     "text": [
      "100%|██████████| 260/260 [00:03<00:00, 78.30it/s]\n"
     ]
    },
    {
     "name": "stdout",
     "output_type": "stream",
     "text": [
      "  86 ,lr = 0.00001000  train loss = 0.15254120  train direct = 0.07389538  train contrastive = 0.07864582  val loss = 0.05964323  val direct = 0.04405342  val contrastive = 0.01558981  time = 00:00:03\n"
     ]
    },
    {
     "name": "stderr",
     "output_type": "stream",
     "text": [
      "100%|██████████| 260/260 [00:03<00:00, 80.13it/s]\n"
     ]
    },
    {
     "name": "stdout",
     "output_type": "stream",
     "text": [
      "  87 ,lr = 0.00001000  train loss = 0.15229943  train direct = 0.07367683  train contrastive = 0.07862260  val loss = 0.05942308  val direct = 0.04383112  val contrastive = 0.01559196  time = 00:00:03\n"
     ]
    },
    {
     "name": "stderr",
     "output_type": "stream",
     "text": [
      "100%|██████████| 260/260 [00:03<00:00, 77.43it/s]\n"
     ]
    },
    {
     "name": "stdout",
     "output_type": "stream",
     "text": [
      "  88 ,lr = 0.00001000  train loss = 0.15201917  train direct = 0.07346854  train contrastive = 0.07855062  val loss = 0.05928026  val direct = 0.04368149  val contrastive = 0.01559877  time = 00:00:03\n"
     ]
    },
    {
     "name": "stderr",
     "output_type": "stream",
     "text": [
      "100%|██████████| 260/260 [00:03<00:00, 79.31it/s]\n"
     ]
    },
    {
     "name": "stdout",
     "output_type": "stream",
     "text": [
      "  89 ,lr = 0.00001000  train loss = 0.15137874  train direct = 0.07321173  train contrastive = 0.07816701  val loss = 0.05974888  val direct = 0.04412824  val contrastive = 0.01562065  time = 00:00:03\n"
     ]
    },
    {
     "name": "stderr",
     "output_type": "stream",
     "text": [
      "100%|██████████| 260/260 [00:03<00:00, 79.08it/s]\n"
     ]
    },
    {
     "name": "stdout",
     "output_type": "stream",
     "text": [
      "  90 ,lr = 0.00001000  train loss = 0.15137310  train direct = 0.07302321  train contrastive = 0.07834989  val loss = 0.05922265  val direct = 0.04360386  val contrastive = 0.01561879  time = 00:00:03\n"
     ]
    },
    {
     "name": "stderr",
     "output_type": "stream",
     "text": [
      "100%|██████████| 260/260 [00:03<00:00, 79.34it/s]\n"
     ]
    },
    {
     "name": "stdout",
     "output_type": "stream",
     "text": [
      "  91 ,lr = 0.00001000  train loss = 0.15064250  train direct = 0.07277848  train contrastive = 0.07786402  val loss = 0.05978186  val direct = 0.04414866  val contrastive = 0.01563320  time = 00:00:03\n"
     ]
    },
    {
     "name": "stderr",
     "output_type": "stream",
     "text": [
      "100%|██████████| 260/260 [00:03<00:00, 78.81it/s]\n"
     ]
    },
    {
     "name": "stdout",
     "output_type": "stream",
     "text": [
      "  92 ,lr = 0.00001000  train loss = 0.15019813  train direct = 0.07259425  train contrastive = 0.07760388  val loss = 0.06005844  val direct = 0.04442160  val contrastive = 0.01563684  time = 00:00:03\n"
     ]
    },
    {
     "name": "stderr",
     "output_type": "stream",
     "text": [
      "100%|██████████| 260/260 [00:03<00:00, 79.37it/s]\n"
     ]
    },
    {
     "name": "stdout",
     "output_type": "stream",
     "text": [
      "  93 ,lr = 0.00001000  train loss = 0.15045628  train direct = 0.07239666  train contrastive = 0.07805962  val loss = 0.05906860  val direct = 0.04344019  val contrastive = 0.01562841  time = 00:00:03\n"
     ]
    },
    {
     "name": "stderr",
     "output_type": "stream",
     "text": [
      "100%|██████████| 260/260 [00:03<00:00, 77.77it/s]\n"
     ]
    },
    {
     "name": "stdout",
     "output_type": "stream",
     "text": [
      "  94 ,lr = 0.00001000  train loss = 0.14982896  train direct = 0.07213335  train contrastive = 0.07769561  val loss = 0.05946351  val direct = 0.04382313  val contrastive = 0.01564038  time = 00:00:03\n"
     ]
    },
    {
     "name": "stderr",
     "output_type": "stream",
     "text": [
      "100%|██████████| 260/260 [00:03<00:00, 78.75it/s]\n"
     ]
    },
    {
     "name": "stdout",
     "output_type": "stream",
     "text": [
      "  95 ,lr = 0.00001000  train loss = 0.14955027  train direct = 0.07192213  train contrastive = 0.07762814  val loss = 0.05948338  val direct = 0.04382856  val contrastive = 0.01565482  time = 00:00:03\n"
     ]
    },
    {
     "name": "stderr",
     "output_type": "stream",
     "text": [
      "100%|██████████| 260/260 [00:03<00:00, 77.96it/s]\n"
     ]
    },
    {
     "name": "stdout",
     "output_type": "stream",
     "text": [
      "  96 ,lr = 0.00001000  train loss = 0.14924597  train direct = 0.07170089  train contrastive = 0.07754508  val loss = 0.05942781  val direct = 0.04377058  val contrastive = 0.01565722  time = 00:00:03\n"
     ]
    },
    {
     "name": "stderr",
     "output_type": "stream",
     "text": [
      "100%|██████████| 260/260 [00:03<00:00, 77.31it/s]\n"
     ]
    },
    {
     "name": "stdout",
     "output_type": "stream",
     "text": [
      "  97 ,lr = 0.00001000  train loss = 0.14890820  train direct = 0.07149144  train contrastive = 0.07741676  val loss = 0.05930931  val direct = 0.04366425  val contrastive = 0.01564505  time = 00:00:03\n"
     ]
    },
    {
     "name": "stderr",
     "output_type": "stream",
     "text": [
      "100%|██████████| 260/260 [00:03<00:00, 77.23it/s]\n"
     ]
    },
    {
     "name": "stdout",
     "output_type": "stream",
     "text": [
      "  98 ,lr = 0.00001000  train loss = 0.14858848  train direct = 0.07127770  train contrastive = 0.07731078  val loss = 0.05933016  val direct = 0.04368062  val contrastive = 0.01564954  time = 00:00:03\n"
     ]
    },
    {
     "name": "stderr",
     "output_type": "stream",
     "text": [
      "100%|██████████| 260/260 [00:03<00:00, 78.14it/s]\n"
     ]
    },
    {
     "name": "stdout",
     "output_type": "stream",
     "text": [
      "  99 ,lr = 0.00001000  train loss = 0.14839617  train direct = 0.07107314  train contrastive = 0.07732302  val loss = 0.05919132  val direct = 0.04353088  val contrastive = 0.01566044  time = 00:00:03\n"
     ]
    },
    {
     "name": "stderr",
     "output_type": "stream",
     "text": [
      "100%|██████████| 260/260 [00:03<00:00, 77.75it/s]\n"
     ]
    },
    {
     "name": "stdout",
     "output_type": "stream",
     "text": [
      " 100 ,lr = 0.00001000  train loss = 0.14794927  train direct = 0.07086881  train contrastive = 0.07708045  val loss = 0.05930062  val direct = 0.04365417  val contrastive = 0.01564646  time = 00:00:03\n"
     ]
    },
    {
     "data": {
      "text/html": [
       "<style>\n",
       "    table.wandb td:nth-child(1) { padding: 0 10px; text-align: left ; width: auto;} td:nth-child(2) {text-align: left ; width: 100%}\n",
       "    .wandb-row { display: flex; flex-direction: row; flex-wrap: wrap; justify-content: flex-start; width: 100% }\n",
       "    .wandb-col { display: flex; flex-direction: column; flex-basis: 100%; flex: 1; padding: 10px; }\n",
       "    </style>\n",
       "<div class=\"wandb-row\"><div class=\"wandb-col\"><h3>Run history:</h3><br/><table class=\"wandb\"><tr><td>val_mae</td><td>▁</td></tr></table><br/></div><div class=\"wandb-col\"><h3>Run summary:</h3><br/><table class=\"wandb\"><tr><td>val_mae</td><td>0.04344</td></tr></table><br/></div></div>"
      ],
      "text/plain": [
       "<IPython.core.display.HTML object>"
      ]
     },
     "metadata": {},
     "output_type": "display_data"
    },
    {
     "data": {
      "text/html": [
       " View run <strong style=\"color:#cdcd00\">efficient-sweep-1</strong> at: <a href='https://wandb.ai/dkritarth-university-at-buffalo/perovskite-ordering-e3nn-relaxed/runs/brn69lru' target=\"_blank\">https://wandb.ai/dkritarth-university-at-buffalo/perovskite-ordering-e3nn-relaxed/runs/brn69lru</a><br/>Synced 6 W&B file(s), 0 media file(s), 0 artifact file(s) and 0 other file(s)"
      ],
      "text/plain": [
       "<IPython.core.display.HTML object>"
      ]
     },
     "metadata": {},
     "output_type": "display_data"
    },
    {
     "data": {
      "text/html": [
       "Find logs at: <code>./wandb/run-20250623_222853-brn69lru/logs</code>"
      ],
      "text/plain": [
       "<IPython.core.display.HTML object>"
      ]
     },
     "metadata": {},
     "output_type": "display_data"
    },
    {
     "name": "stdout",
     "output_type": "stream",
     "text": [
      "Completed wandb sweep with 1 observations\n"
     ]
    }
   ],
   "source": [
    "#run_sigopt_experiment\n",
    "run_wandb_experiment(\n",
    "    struct_type=\"relaxed\",\n",
    "    model_type=\"e3nn\",\n",
    "    gpu_num=0,\n",
    "    obs_budget=1,\n",
    "    training_fraction=0.125,\n",
    "    training_seed=0\n",
    ")"
   ]
  },
  {
   "cell_type": "markdown",
   "metadata": {},
   "source": [
    "# Painn"
   ]
  },
  {
   "cell_type": "code",
   "execution_count": 4,
   "metadata": {},
   "outputs": [
    {
     "name": "stdout",
     "output_type": "stream",
     "text": [
      "Loaded data\n",
      "Completed data processing\n",
      "Created wandb sweep configuration for 'dft_e_hull_htvs_data_unrelaxed_Painn_TrainingFraction0.125'\n",
      "Model type: Painn\n",
      "Structure type: unrelaxed\n",
      "Project name from config: perovskite-ordering-painn-unrelaxed\n",
      "Using project name: perovskite-ordering-painn-unrelaxed\n",
      "Create sweep with ID: rof269e2\n",
      "Sweep URL: https://wandb.ai/dkritarth-university-at-buffalo/perovskite-ordering-painn-unrelaxed/sweeps/rof269e2\n",
      "Created wandb sweep with ID: rof269e2\n",
      "Project: perovskite-ordering-painn-unrelaxed\n"
     ]
    },
    {
     "name": "stderr",
     "output_type": "stream",
     "text": [
      "\u001b[34m\u001b[1mwandb\u001b[0m: Agent Starting Run: m86ed9i9 with config:\n",
      "\u001b[34m\u001b[1mwandb\u001b[0m: \tMaxEpochs: 100\n",
      "\u001b[34m\u001b[1mwandb\u001b[0m: \tactivation: ReLU\n",
      "\u001b[34m\u001b[1mwandb\u001b[0m: \tbatch_size: 4\n",
      "\u001b[34m\u001b[1mwandb\u001b[0m: \tlog2_feat_dim: 5\n",
      "\u001b[34m\u001b[1mwandb\u001b[0m: \tlog_lr: -3\n",
      "\u001b[34m\u001b[1mwandb\u001b[0m: \tnum_conv: 1\n",
      "\u001b[34m\u001b[1mwandb\u001b[0m: \treduceLR_patience: 22\n",
      "Failed to detect the name of this notebook, you can set it manually with the WANDB_NOTEBOOK_NAME environment variable to enable code saving.\n"
     ]
    },
    {
     "data": {
      "text/html": [
       "wandb version 0.20.1 is available!  To upgrade, please run:\n",
       " $ pip install wandb --upgrade"
      ],
      "text/plain": [
       "<IPython.core.display.HTML object>"
      ]
     },
     "metadata": {},
     "output_type": "display_data"
    },
    {
     "data": {
      "text/html": [
       "Tracking run with wandb version 0.16.3"
      ],
      "text/plain": [
       "<IPython.core.display.HTML object>"
      ]
     },
     "metadata": {},
     "output_type": "display_data"
    },
    {
     "data": {
      "text/html": [
       "Run data is saved locally in <code>/data/users/kritarth/PerovskiteOrderingGCNNs/wandb/run-20250623_225823-m86ed9i9</code>"
      ],
      "text/plain": [
       "<IPython.core.display.HTML object>"
      ]
     },
     "metadata": {},
     "output_type": "display_data"
    },
    {
     "data": {
      "text/html": [
       "Syncing run <strong><a href='https://wandb.ai/dkritarth-university-at-buffalo/perovskite-ordering-painn-unrelaxed/runs/m86ed9i9' target=\"_blank\">fanciful-sweep-1</a></strong> to <a href='https://wandb.ai/dkritarth-university-at-buffalo/perovskite-ordering-painn-unrelaxed' target=\"_blank\">Weights & Biases</a> (<a href='https://wandb.me/run' target=\"_blank\">docs</a>)<br/>Sweep page: <a href='https://wandb.ai/dkritarth-university-at-buffalo/perovskite-ordering-painn-unrelaxed/sweeps/rof269e2' target=\"_blank\">https://wandb.ai/dkritarth-university-at-buffalo/perovskite-ordering-painn-unrelaxed/sweeps/rof269e2</a>"
      ],
      "text/plain": [
       "<IPython.core.display.HTML object>"
      ]
     },
     "metadata": {},
     "output_type": "display_data"
    },
    {
     "data": {
      "text/html": [
       " View project at <a href='https://wandb.ai/dkritarth-university-at-buffalo/perovskite-ordering-painn-unrelaxed' target=\"_blank\">https://wandb.ai/dkritarth-university-at-buffalo/perovskite-ordering-painn-unrelaxed</a>"
      ],
      "text/plain": [
       "<IPython.core.display.HTML object>"
      ]
     },
     "metadata": {},
     "output_type": "display_data"
    },
    {
     "data": {
      "text/html": [
       " View sweep at <a href='https://wandb.ai/dkritarth-university-at-buffalo/perovskite-ordering-painn-unrelaxed/sweeps/rof269e2' target=\"_blank\">https://wandb.ai/dkritarth-university-at-buffalo/perovskite-ordering-painn-unrelaxed/sweeps/rof269e2</a>"
      ],
      "text/plain": [
       "<IPython.core.display.HTML object>"
      ]
     },
     "metadata": {},
     "output_type": "display_data"
    },
    {
     "data": {
      "text/html": [
       " View run at <a href='https://wandb.ai/dkritarth-university-at-buffalo/perovskite-ordering-painn-unrelaxed/runs/m86ed9i9' target=\"_blank\">https://wandb.ai/dkritarth-university-at-buffalo/perovskite-ordering-painn-unrelaxed/runs/m86ed9i9</a>"
      ],
      "text/plain": [
       "<IPython.core.display.HTML object>"
      ]
     },
     "metadata": {},
     "output_type": "display_data"
    },
    {
     "name": "stderr",
     "output_type": "stream",
     "text": [
      "100%|██████████| 3111/3111 [00:00<00:00, 8376.88it/s]\n",
      "100%|██████████| 3111/3111 [00:52<00:00, 59.21it/s]\n",
      "100%|██████████| 3111/3111 [00:00<00:00, 26619.83it/s]\n",
      "100%|██████████| 1277/1277 [00:00<00:00, 8553.78it/s]\n",
      "100%|██████████| 1277/1277 [00:21<00:00, 59.31it/s]\n",
      "100%|██████████| 1277/1277 [00:00<00:00, 26255.91it/s]\n"
     ]
    },
    {
     "name": "stdout",
     "output_type": "stream",
     "text": [
      " Time | Epoch | Learning rate | Train loss | Validation loss | MAE_dft_e_hull | GPU Memory (MB)\n"
     ]
    },
    {
     "name": "stderr",
     "output_type": "stream",
     "text": [
      "100%|█████████▉| 777/778 [00:02<00:00, 302.26it/s]\n"
     ]
    },
    {
     "name": "stdout",
     "output_type": "stream",
     "text": [
      "59:45 |     1 |     1.000e-03 |     0.2772 |          0.2049 |         0.2049 |             419\n"
     ]
    },
    {
     "name": "stderr",
     "output_type": "stream",
     "text": [
      "100%|█████████▉| 777/778 [00:02<00:00, 295.31it/s]\n"
     ]
    },
    {
     "name": "stdout",
     "output_type": "stream",
     "text": [
      "59:49 |     2 |     1.000e-03 |     0.1323 |          0.0918 |         0.0918 |             419\n"
     ]
    },
    {
     "name": "stderr",
     "output_type": "stream",
     "text": [
      "100%|█████████▉| 777/778 [00:02<00:00, 294.72it/s]\n"
     ]
    },
    {
     "name": "stdout",
     "output_type": "stream",
     "text": [
      "59:54 |     3 |     1.000e-03 |     0.1217 |          0.0624 |         0.0624 |             419\n"
     ]
    },
    {
     "name": "stderr",
     "output_type": "stream",
     "text": [
      "100%|█████████▉| 777/778 [00:02<00:00, 303.22it/s]\n"
     ]
    },
    {
     "name": "stdout",
     "output_type": "stream",
     "text": [
      "59:59 |     4 |     1.000e-03 |     0.1329 |          0.0830 |         0.0830 |             419\n"
     ]
    },
    {
     "name": "stderr",
     "output_type": "stream",
     "text": [
      "100%|█████████▉| 777/778 [00:02<00:00, 302.25it/s]\n"
     ]
    },
    {
     "name": "stdout",
     "output_type": "stream",
     "text": [
      "00:03 |     5 |     1.000e-03 |     0.1164 |          0.0670 |         0.0670 |             419\n"
     ]
    },
    {
     "name": "stderr",
     "output_type": "stream",
     "text": [
      "100%|█████████▉| 777/778 [00:02<00:00, 297.50it/s]\n"
     ]
    },
    {
     "name": "stdout",
     "output_type": "stream",
     "text": [
      "00:08 |     6 |     1.000e-03 |     0.1056 |          0.0718 |         0.0718 |             419\n"
     ]
    },
    {
     "name": "stderr",
     "output_type": "stream",
     "text": [
      "100%|█████████▉| 777/778 [00:02<00:00, 302.57it/s]\n"
     ]
    },
    {
     "name": "stdout",
     "output_type": "stream",
     "text": [
      "00:12 |     7 |     1.000e-03 |     0.1061 |          0.1012 |         0.1012 |             419\n"
     ]
    },
    {
     "name": "stderr",
     "output_type": "stream",
     "text": [
      "100%|█████████▉| 777/778 [00:02<00:00, 297.32it/s]\n"
     ]
    },
    {
     "name": "stdout",
     "output_type": "stream",
     "text": [
      "00:17 |     8 |     1.000e-03 |     0.1056 |          0.1276 |         0.1276 |             419\n"
     ]
    },
    {
     "name": "stderr",
     "output_type": "stream",
     "text": [
      "100%|█████████▉| 777/778 [00:02<00:00, 296.13it/s]\n"
     ]
    },
    {
     "name": "stdout",
     "output_type": "stream",
     "text": [
      "00:21 |     9 |     1.000e-03 |     0.1057 |          0.0521 |         0.0521 |             419\n"
     ]
    },
    {
     "name": "stderr",
     "output_type": "stream",
     "text": [
      "100%|█████████▉| 777/778 [00:02<00:00, 291.85it/s]\n"
     ]
    },
    {
     "name": "stdout",
     "output_type": "stream",
     "text": [
      "00:26 |    10 |     1.000e-03 |     0.0961 |          0.0892 |         0.0892 |             419\n"
     ]
    },
    {
     "name": "stderr",
     "output_type": "stream",
     "text": [
      "100%|█████████▉| 777/778 [00:02<00:00, 300.05it/s]\n"
     ]
    },
    {
     "name": "stdout",
     "output_type": "stream",
     "text": [
      "00:31 |    11 |     1.000e-03 |     0.0965 |          0.0601 |         0.0601 |             419\n"
     ]
    },
    {
     "name": "stderr",
     "output_type": "stream",
     "text": [
      "100%|█████████▉| 777/778 [00:02<00:00, 287.29it/s]\n"
     ]
    },
    {
     "name": "stdout",
     "output_type": "stream",
     "text": [
      "00:35 |    12 |     1.000e-03 |     0.0982 |          0.0719 |         0.0719 |             419\n"
     ]
    },
    {
     "name": "stderr",
     "output_type": "stream",
     "text": [
      "100%|█████████▉| 777/778 [00:02<00:00, 294.22it/s]\n"
     ]
    },
    {
     "name": "stdout",
     "output_type": "stream",
     "text": [
      "00:40 |    13 |     1.000e-03 |     0.0935 |          0.1194 |         0.1194 |             419\n"
     ]
    },
    {
     "name": "stderr",
     "output_type": "stream",
     "text": [
      "100%|█████████▉| 777/778 [00:02<00:00, 299.22it/s]\n"
     ]
    },
    {
     "name": "stdout",
     "output_type": "stream",
     "text": [
      "00:44 |    14 |     1.000e-03 |     0.0945 |          0.0539 |         0.0539 |             419\n"
     ]
    },
    {
     "name": "stderr",
     "output_type": "stream",
     "text": [
      "100%|█████████▉| 777/778 [00:02<00:00, 303.76it/s]\n"
     ]
    },
    {
     "name": "stdout",
     "output_type": "stream",
     "text": [
      "00:49 |    15 |     1.000e-03 |     0.0885 |          0.0564 |         0.0564 |             419\n"
     ]
    },
    {
     "name": "stderr",
     "output_type": "stream",
     "text": [
      "100%|█████████▉| 777/778 [00:02<00:00, 297.43it/s]\n"
     ]
    },
    {
     "name": "stdout",
     "output_type": "stream",
     "text": [
      "00:53 |    16 |     1.000e-03 |     0.0942 |          0.0512 |         0.0512 |             419\n"
     ]
    },
    {
     "name": "stderr",
     "output_type": "stream",
     "text": [
      "100%|█████████▉| 777/778 [00:02<00:00, 289.17it/s]\n"
     ]
    },
    {
     "name": "stdout",
     "output_type": "stream",
     "text": [
      "00:58 |    17 |     1.000e-03 |     0.0898 |          0.0538 |         0.0538 |             419\n"
     ]
    },
    {
     "name": "stderr",
     "output_type": "stream",
     "text": [
      "100%|█████████▉| 777/778 [00:02<00:00, 306.54it/s]\n"
     ]
    },
    {
     "name": "stdout",
     "output_type": "stream",
     "text": [
      "01:03 |    18 |     1.000e-03 |     0.0921 |          0.0456 |         0.0456 |             419\n"
     ]
    },
    {
     "name": "stderr",
     "output_type": "stream",
     "text": [
      "100%|█████████▉| 777/778 [00:02<00:00, 296.63it/s]\n"
     ]
    },
    {
     "name": "stdout",
     "output_type": "stream",
     "text": [
      "01:07 |    19 |     1.000e-03 |     0.0822 |          0.0627 |         0.0627 |             419\n"
     ]
    },
    {
     "name": "stderr",
     "output_type": "stream",
     "text": [
      "100%|█████████▉| 777/778 [00:02<00:00, 299.68it/s]\n"
     ]
    },
    {
     "name": "stdout",
     "output_type": "stream",
     "text": [
      "01:12 |    20 |     1.000e-03 |     0.0902 |          0.0488 |         0.0488 |             419\n"
     ]
    },
    {
     "name": "stderr",
     "output_type": "stream",
     "text": [
      "100%|█████████▉| 777/778 [00:02<00:00, 306.59it/s]\n"
     ]
    },
    {
     "name": "stdout",
     "output_type": "stream",
     "text": [
      "01:16 |    21 |     1.000e-03 |     0.0797 |          0.0934 |         0.0934 |             419\n"
     ]
    },
    {
     "name": "stderr",
     "output_type": "stream",
     "text": [
      "100%|█████████▉| 777/778 [00:02<00:00, 292.94it/s]\n"
     ]
    },
    {
     "name": "stdout",
     "output_type": "stream",
     "text": [
      "01:21 |    22 |     1.000e-03 |     0.0838 |          0.0554 |         0.0554 |             419\n"
     ]
    },
    {
     "name": "stderr",
     "output_type": "stream",
     "text": [
      "100%|█████████▉| 777/778 [00:02<00:00, 298.66it/s]\n"
     ]
    },
    {
     "name": "stdout",
     "output_type": "stream",
     "text": [
      "01:25 |    23 |     1.000e-03 |     0.0815 |          0.0924 |         0.0924 |             419\n"
     ]
    },
    {
     "name": "stderr",
     "output_type": "stream",
     "text": [
      "100%|█████████▉| 777/778 [00:02<00:00, 297.41it/s]\n"
     ]
    },
    {
     "name": "stdout",
     "output_type": "stream",
     "text": [
      "01:30 |    24 |     1.000e-03 |     0.0801 |          0.0759 |         0.0759 |             419\n"
     ]
    },
    {
     "name": "stderr",
     "output_type": "stream",
     "text": [
      "100%|█████████▉| 777/778 [00:02<00:00, 305.50it/s]\n"
     ]
    },
    {
     "name": "stdout",
     "output_type": "stream",
     "text": [
      "01:35 |    25 |     1.000e-03 |     0.0810 |          0.1080 |         0.1080 |             419\n"
     ]
    },
    {
     "name": "stderr",
     "output_type": "stream",
     "text": [
      "100%|█████████▉| 777/778 [00:02<00:00, 296.47it/s]\n"
     ]
    },
    {
     "name": "stdout",
     "output_type": "stream",
     "text": [
      "01:39 |    26 |     1.000e-03 |     0.0827 |          0.0925 |         0.0925 |             419\n"
     ]
    },
    {
     "name": "stderr",
     "output_type": "stream",
     "text": [
      "100%|█████████▉| 777/778 [00:02<00:00, 302.00it/s]\n"
     ]
    },
    {
     "name": "stdout",
     "output_type": "stream",
     "text": [
      "01:44 |    27 |     1.000e-03 |     0.0842 |          0.1209 |         0.1209 |             419\n"
     ]
    },
    {
     "name": "stderr",
     "output_type": "stream",
     "text": [
      "100%|█████████▉| 777/778 [00:02<00:00, 299.55it/s]\n"
     ]
    },
    {
     "name": "stdout",
     "output_type": "stream",
     "text": [
      "01:48 |    28 |     1.000e-03 |     0.0751 |          0.0566 |         0.0566 |             419\n"
     ]
    },
    {
     "name": "stderr",
     "output_type": "stream",
     "text": [
      "100%|█████████▉| 777/778 [00:02<00:00, 296.66it/s]\n"
     ]
    },
    {
     "name": "stdout",
     "output_type": "stream",
     "text": [
      "01:53 |    29 |     1.000e-03 |     0.0750 |          0.0847 |         0.0847 |             419\n"
     ]
    },
    {
     "name": "stderr",
     "output_type": "stream",
     "text": [
      "100%|█████████▉| 777/778 [00:02<00:00, 288.25it/s]\n"
     ]
    },
    {
     "name": "stdout",
     "output_type": "stream",
     "text": [
      "01:58 |    30 |     1.000e-03 |     0.0748 |          0.0480 |         0.0480 |             419\n"
     ]
    },
    {
     "name": "stderr",
     "output_type": "stream",
     "text": [
      "100%|█████████▉| 777/778 [00:02<00:00, 302.71it/s]\n"
     ]
    },
    {
     "name": "stdout",
     "output_type": "stream",
     "text": [
      "02:02 |    31 |     1.000e-03 |     0.0762 |          0.0450 |         0.0450 |             419\n"
     ]
    },
    {
     "name": "stderr",
     "output_type": "stream",
     "text": [
      "100%|█████████▉| 777/778 [00:02<00:00, 303.23it/s]\n"
     ]
    },
    {
     "name": "stdout",
     "output_type": "stream",
     "text": [
      "02:07 |    32 |     1.000e-03 |     0.0778 |          0.0727 |         0.0727 |             419\n"
     ]
    },
    {
     "name": "stderr",
     "output_type": "stream",
     "text": [
      "100%|█████████▉| 777/778 [00:02<00:00, 299.10it/s]\n"
     ]
    },
    {
     "name": "stdout",
     "output_type": "stream",
     "text": [
      "02:11 |    33 |     1.000e-03 |     0.0743 |          0.0440 |         0.0440 |             419\n"
     ]
    },
    {
     "name": "stderr",
     "output_type": "stream",
     "text": [
      "100%|█████████▉| 777/778 [00:02<00:00, 297.73it/s]\n"
     ]
    },
    {
     "name": "stdout",
     "output_type": "stream",
     "text": [
      "02:16 |    34 |     1.000e-03 |     0.0761 |          0.0717 |         0.0717 |             419\n"
     ]
    },
    {
     "name": "stderr",
     "output_type": "stream",
     "text": [
      "100%|█████████▉| 777/778 [00:02<00:00, 299.08it/s]\n"
     ]
    },
    {
     "name": "stdout",
     "output_type": "stream",
     "text": [
      "02:20 |    35 |     1.000e-03 |     0.0741 |          0.0769 |         0.0769 |             419\n"
     ]
    },
    {
     "name": "stderr",
     "output_type": "stream",
     "text": [
      "100%|█████████▉| 777/778 [00:02<00:00, 289.54it/s]\n"
     ]
    },
    {
     "name": "stdout",
     "output_type": "stream",
     "text": [
      "02:25 |    36 |     1.000e-03 |     0.0730 |          0.0451 |         0.0451 |             419\n"
     ]
    },
    {
     "name": "stderr",
     "output_type": "stream",
     "text": [
      "100%|█████████▉| 777/778 [00:02<00:00, 299.50it/s]\n"
     ]
    },
    {
     "name": "stdout",
     "output_type": "stream",
     "text": [
      "02:30 |    37 |     1.000e-03 |     0.0736 |          0.1198 |         0.1198 |             419\n"
     ]
    },
    {
     "name": "stderr",
     "output_type": "stream",
     "text": [
      "100%|█████████▉| 777/778 [00:02<00:00, 299.52it/s]\n"
     ]
    },
    {
     "name": "stdout",
     "output_type": "stream",
     "text": [
      "02:34 |    38 |     1.000e-03 |     0.0716 |          0.0685 |         0.0685 |             419\n"
     ]
    },
    {
     "name": "stderr",
     "output_type": "stream",
     "text": [
      "100%|█████████▉| 777/778 [00:02<00:00, 301.22it/s]\n"
     ]
    },
    {
     "name": "stdout",
     "output_type": "stream",
     "text": [
      "02:39 |    39 |     1.000e-03 |     0.0706 |          0.0477 |         0.0477 |             419\n"
     ]
    },
    {
     "name": "stderr",
     "output_type": "stream",
     "text": [
      "100%|█████████▉| 777/778 [00:02<00:00, 299.59it/s]\n"
     ]
    },
    {
     "name": "stdout",
     "output_type": "stream",
     "text": [
      "02:43 |    40 |     1.000e-03 |     0.0730 |          0.0452 |         0.0452 |             419\n"
     ]
    },
    {
     "name": "stderr",
     "output_type": "stream",
     "text": [
      "100%|█████████▉| 777/778 [00:02<00:00, 301.86it/s]\n"
     ]
    },
    {
     "name": "stdout",
     "output_type": "stream",
     "text": [
      "02:48 |    41 |     1.000e-03 |     0.0725 |          0.0428 |         0.0428 |             419\n"
     ]
    },
    {
     "name": "stderr",
     "output_type": "stream",
     "text": [
      "100%|█████████▉| 777/778 [00:02<00:00, 290.27it/s]\n"
     ]
    },
    {
     "name": "stdout",
     "output_type": "stream",
     "text": [
      "02:53 |    42 |     1.000e-03 |     0.0711 |          0.0561 |         0.0561 |             419\n"
     ]
    },
    {
     "name": "stderr",
     "output_type": "stream",
     "text": [
      "100%|█████████▉| 777/778 [00:02<00:00, 303.01it/s]\n"
     ]
    },
    {
     "name": "stdout",
     "output_type": "stream",
     "text": [
      "02:57 |    43 |     1.000e-03 |     0.0699 |          0.0395 |         0.0395 |             419\n"
     ]
    },
    {
     "name": "stderr",
     "output_type": "stream",
     "text": [
      "100%|█████████▉| 777/778 [00:02<00:00, 298.49it/s]\n"
     ]
    },
    {
     "name": "stdout",
     "output_type": "stream",
     "text": [
      "03:02 |    44 |     1.000e-03 |     0.0689 |          0.0521 |         0.0521 |             419\n"
     ]
    },
    {
     "name": "stderr",
     "output_type": "stream",
     "text": [
      "100%|█████████▉| 777/778 [00:02<00:00, 286.19it/s]\n"
     ]
    },
    {
     "name": "stdout",
     "output_type": "stream",
     "text": [
      "03:06 |    45 |     1.000e-03 |     0.0697 |          0.0450 |         0.0450 |             419\n"
     ]
    },
    {
     "name": "stderr",
     "output_type": "stream",
     "text": [
      "100%|█████████▉| 777/778 [00:02<00:00, 300.91it/s]\n"
     ]
    },
    {
     "name": "stdout",
     "output_type": "stream",
     "text": [
      "03:11 |    46 |     1.000e-03 |     0.0666 |          0.1138 |         0.1138 |             419\n"
     ]
    },
    {
     "name": "stderr",
     "output_type": "stream",
     "text": [
      "100%|█████████▉| 777/778 [00:02<00:00, 296.07it/s]\n"
     ]
    },
    {
     "name": "stdout",
     "output_type": "stream",
     "text": [
      "03:16 |    47 |     1.000e-03 |     0.0695 |          0.1025 |         0.1025 |             419\n"
     ]
    },
    {
     "name": "stderr",
     "output_type": "stream",
     "text": [
      "100%|█████████▉| 777/778 [00:02<00:00, 295.36it/s]\n"
     ]
    },
    {
     "name": "stdout",
     "output_type": "stream",
     "text": [
      "03:20 |    48 |     1.000e-03 |     0.0696 |          0.0497 |         0.0497 |             419\n"
     ]
    },
    {
     "name": "stderr",
     "output_type": "stream",
     "text": [
      "100%|█████████▉| 777/778 [00:02<00:00, 295.71it/s]\n"
     ]
    },
    {
     "name": "stdout",
     "output_type": "stream",
     "text": [
      "03:25 |    49 |     1.000e-03 |     0.0706 |          0.1044 |         0.1044 |             419\n"
     ]
    },
    {
     "name": "stderr",
     "output_type": "stream",
     "text": [
      "100%|█████████▉| 777/778 [00:02<00:00, 296.04it/s]\n"
     ]
    },
    {
     "name": "stdout",
     "output_type": "stream",
     "text": [
      "03:29 |    50 |     1.000e-03 |     0.0676 |          0.0466 |         0.0466 |             419\n"
     ]
    },
    {
     "name": "stderr",
     "output_type": "stream",
     "text": [
      "100%|█████████▉| 777/778 [00:02<00:00, 292.07it/s]\n"
     ]
    },
    {
     "name": "stdout",
     "output_type": "stream",
     "text": [
      "03:34 |    51 |     1.000e-03 |     0.0693 |          0.0445 |         0.0445 |             419\n"
     ]
    },
    {
     "name": "stderr",
     "output_type": "stream",
     "text": [
      "100%|█████████▉| 777/778 [00:02<00:00, 292.70it/s]\n"
     ]
    },
    {
     "name": "stdout",
     "output_type": "stream",
     "text": [
      "03:39 |    52 |     1.000e-03 |     0.0668 |          0.0448 |         0.0448 |             419\n"
     ]
    },
    {
     "name": "stderr",
     "output_type": "stream",
     "text": [
      "100%|█████████▉| 777/778 [00:02<00:00, 302.47it/s]\n"
     ]
    },
    {
     "name": "stdout",
     "output_type": "stream",
     "text": [
      "03:43 |    53 |     1.000e-03 |     0.0709 |          0.1038 |         0.1038 |             419\n"
     ]
    },
    {
     "name": "stderr",
     "output_type": "stream",
     "text": [
      "100%|█████████▉| 777/778 [00:02<00:00, 295.99it/s]\n"
     ]
    },
    {
     "name": "stdout",
     "output_type": "stream",
     "text": [
      "03:48 |    54 |     1.000e-03 |     0.0702 |          0.0962 |         0.0962 |             419\n"
     ]
    },
    {
     "name": "stderr",
     "output_type": "stream",
     "text": [
      "100%|█████████▉| 777/778 [00:02<00:00, 292.29it/s]\n"
     ]
    },
    {
     "name": "stdout",
     "output_type": "stream",
     "text": [
      "03:52 |    55 |     1.000e-03 |     0.0666 |          0.0422 |         0.0422 |             419\n"
     ]
    },
    {
     "name": "stderr",
     "output_type": "stream",
     "text": [
      "100%|█████████▉| 777/778 [00:02<00:00, 303.68it/s]\n"
     ]
    },
    {
     "name": "stdout",
     "output_type": "stream",
     "text": [
      "03:57 |    56 |     1.000e-03 |     0.0656 |          0.0452 |         0.0452 |             419\n"
     ]
    },
    {
     "name": "stderr",
     "output_type": "stream",
     "text": [
      "100%|█████████▉| 777/778 [00:02<00:00, 302.87it/s]\n"
     ]
    },
    {
     "name": "stdout",
     "output_type": "stream",
     "text": [
      "04:01 |    57 |     1.000e-03 |     0.0646 |          0.0447 |         0.0447 |             419\n"
     ]
    },
    {
     "name": "stderr",
     "output_type": "stream",
     "text": [
      "100%|█████████▉| 777/778 [00:02<00:00, 294.32it/s]\n"
     ]
    },
    {
     "name": "stdout",
     "output_type": "stream",
     "text": [
      "04:06 |    58 |     1.000e-03 |     0.0653 |          0.0474 |         0.0474 |             419\n"
     ]
    },
    {
     "name": "stderr",
     "output_type": "stream",
     "text": [
      "100%|█████████▉| 777/778 [00:02<00:00, 291.66it/s]\n"
     ]
    },
    {
     "name": "stdout",
     "output_type": "stream",
     "text": [
      "04:11 |    59 |     1.000e-03 |     0.0655 |          0.0525 |         0.0525 |             419\n"
     ]
    },
    {
     "name": "stderr",
     "output_type": "stream",
     "text": [
      "100%|█████████▉| 777/778 [00:02<00:00, 287.04it/s]\n"
     ]
    },
    {
     "name": "stdout",
     "output_type": "stream",
     "text": [
      "04:15 |    60 |     1.000e-03 |     0.0655 |          0.0406 |         0.0406 |             419\n"
     ]
    },
    {
     "name": "stderr",
     "output_type": "stream",
     "text": [
      "100%|█████████▉| 777/778 [00:02<00:00, 299.06it/s]\n"
     ]
    },
    {
     "name": "stdout",
     "output_type": "stream",
     "text": [
      "04:20 |    61 |     1.000e-03 |     0.0679 |          0.0483 |         0.0483 |             419\n"
     ]
    },
    {
     "name": "stderr",
     "output_type": "stream",
     "text": [
      "100%|█████████▉| 777/778 [00:02<00:00, 299.44it/s]\n"
     ]
    },
    {
     "name": "stdout",
     "output_type": "stream",
     "text": [
      "04:24 |    62 |     1.000e-03 |     0.0624 |          0.0930 |         0.0930 |             419\n"
     ]
    },
    {
     "name": "stderr",
     "output_type": "stream",
     "text": [
      "100%|█████████▉| 777/778 [00:02<00:00, 301.34it/s]\n"
     ]
    },
    {
     "name": "stdout",
     "output_type": "stream",
     "text": [
      "04:29 |    63 |     1.000e-03 |     0.0653 |          0.0521 |         0.0521 |             419\n"
     ]
    },
    {
     "name": "stderr",
     "output_type": "stream",
     "text": [
      "100%|█████████▉| 777/778 [00:02<00:00, 299.08it/s]\n"
     ]
    },
    {
     "name": "stdout",
     "output_type": "stream",
     "text": [
      "04:34 |    64 |     1.000e-03 |     0.0623 |          0.0477 |         0.0477 |             419\n"
     ]
    },
    {
     "name": "stderr",
     "output_type": "stream",
     "text": [
      "100%|█████████▉| 777/778 [00:02<00:00, 295.20it/s]\n"
     ]
    },
    {
     "name": "stdout",
     "output_type": "stream",
     "text": [
      "04:38 |    65 |     1.000e-03 |     0.0641 |          0.0668 |         0.0668 |             419\n"
     ]
    },
    {
     "name": "stderr",
     "output_type": "stream",
     "text": [
      "100%|█████████▉| 777/778 [00:02<00:00, 297.64it/s]\n"
     ]
    },
    {
     "name": "stdout",
     "output_type": "stream",
     "text": [
      "04:43 |    66 |     1.000e-03 |     0.0657 |          0.0781 |         0.0781 |             419\n"
     ]
    },
    {
     "name": "stderr",
     "output_type": "stream",
     "text": [
      "100%|█████████▉| 777/778 [00:02<00:00, 301.69it/s]\n"
     ]
    },
    {
     "name": "stdout",
     "output_type": "stream",
     "text": [
      "04:47 |    67 |     5.000e-04 |     0.0558 |          0.0412 |         0.0412 |             419\n"
     ]
    },
    {
     "name": "stderr",
     "output_type": "stream",
     "text": [
      "100%|█████████▉| 777/778 [00:02<00:00, 282.94it/s]\n"
     ]
    },
    {
     "name": "stdout",
     "output_type": "stream",
     "text": [
      "04:52 |    68 |     5.000e-04 |     0.0530 |          0.0426 |         0.0426 |             419\n"
     ]
    },
    {
     "name": "stderr",
     "output_type": "stream",
     "text": [
      "100%|█████████▉| 777/778 [00:02<00:00, 296.67it/s]\n"
     ]
    },
    {
     "name": "stdout",
     "output_type": "stream",
     "text": [
      "04:57 |    69 |     5.000e-04 |     0.0511 |          0.0372 |         0.0372 |             419\n"
     ]
    },
    {
     "name": "stderr",
     "output_type": "stream",
     "text": [
      "100%|█████████▉| 777/778 [00:02<00:00, 297.71it/s]\n"
     ]
    },
    {
     "name": "stdout",
     "output_type": "stream",
     "text": [
      "05:01 |    70 |     5.000e-04 |     0.0510 |          0.0350 |         0.0350 |             419\n"
     ]
    },
    {
     "name": "stderr",
     "output_type": "stream",
     "text": [
      "100%|█████████▉| 777/778 [00:02<00:00, 305.50it/s]\n"
     ]
    },
    {
     "name": "stdout",
     "output_type": "stream",
     "text": [
      "05:06 |    71 |     5.000e-04 |     0.0512 |          0.0619 |         0.0619 |             419\n"
     ]
    },
    {
     "name": "stderr",
     "output_type": "stream",
     "text": [
      "100%|█████████▉| 777/778 [00:02<00:00, 297.55it/s]\n"
     ]
    },
    {
     "name": "stdout",
     "output_type": "stream",
     "text": [
      "05:10 |    72 |     5.000e-04 |     0.0504 |          0.0372 |         0.0372 |             419\n"
     ]
    },
    {
     "name": "stderr",
     "output_type": "stream",
     "text": [
      "100%|█████████▉| 777/778 [00:02<00:00, 297.68it/s]\n"
     ]
    },
    {
     "name": "stdout",
     "output_type": "stream",
     "text": [
      "05:15 |    73 |     5.000e-04 |     0.0492 |          0.0479 |         0.0479 |             419\n"
     ]
    },
    {
     "name": "stderr",
     "output_type": "stream",
     "text": [
      "100%|█████████▉| 777/778 [00:02<00:00, 299.69it/s]\n"
     ]
    },
    {
     "name": "stdout",
     "output_type": "stream",
     "text": [
      "05:19 |    74 |     5.000e-04 |     0.0507 |          0.0433 |         0.0433 |             419\n"
     ]
    },
    {
     "name": "stderr",
     "output_type": "stream",
     "text": [
      "100%|█████████▉| 777/778 [00:02<00:00, 297.72it/s]\n"
     ]
    },
    {
     "name": "stdout",
     "output_type": "stream",
     "text": [
      "05:24 |    75 |     5.000e-04 |     0.0502 |          0.0556 |         0.0556 |             419\n"
     ]
    },
    {
     "name": "stderr",
     "output_type": "stream",
     "text": [
      "100%|█████████▉| 777/778 [00:02<00:00, 286.21it/s]\n"
     ]
    },
    {
     "name": "stdout",
     "output_type": "stream",
     "text": [
      "05:29 |    76 |     5.000e-04 |     0.0497 |          0.0423 |         0.0423 |             419\n"
     ]
    },
    {
     "name": "stderr",
     "output_type": "stream",
     "text": [
      "100%|█████████▉| 777/778 [00:02<00:00, 299.59it/s]\n"
     ]
    },
    {
     "name": "stdout",
     "output_type": "stream",
     "text": [
      "05:33 |    77 |     5.000e-04 |     0.0494 |          0.0439 |         0.0439 |             419\n"
     ]
    },
    {
     "name": "stderr",
     "output_type": "stream",
     "text": [
      "100%|█████████▉| 777/778 [00:02<00:00, 290.04it/s]\n"
     ]
    },
    {
     "name": "stdout",
     "output_type": "stream",
     "text": [
      "05:38 |    78 |     5.000e-04 |     0.0506 |          0.0369 |         0.0369 |             419\n"
     ]
    },
    {
     "name": "stderr",
     "output_type": "stream",
     "text": [
      "100%|█████████▉| 777/778 [00:02<00:00, 294.60it/s]\n"
     ]
    },
    {
     "name": "stdout",
     "output_type": "stream",
     "text": [
      "05:42 |    79 |     5.000e-04 |     0.0513 |          0.0695 |         0.0695 |             419\n"
     ]
    },
    {
     "name": "stderr",
     "output_type": "stream",
     "text": [
      "100%|█████████▉| 777/778 [00:02<00:00, 290.59it/s]\n"
     ]
    },
    {
     "name": "stdout",
     "output_type": "stream",
     "text": [
      "05:47 |    80 |     5.000e-04 |     0.0487 |          0.0421 |         0.0421 |             419\n"
     ]
    },
    {
     "name": "stderr",
     "output_type": "stream",
     "text": [
      "100%|█████████▉| 777/778 [00:02<00:00, 302.90it/s]\n"
     ]
    },
    {
     "name": "stdout",
     "output_type": "stream",
     "text": [
      "05:52 |    81 |     5.000e-04 |     0.0484 |          0.0487 |         0.0487 |             419\n"
     ]
    },
    {
     "name": "stderr",
     "output_type": "stream",
     "text": [
      "100%|█████████▉| 777/778 [00:02<00:00, 297.07it/s]\n"
     ]
    },
    {
     "name": "stdout",
     "output_type": "stream",
     "text": [
      "05:56 |    82 |     5.000e-04 |     0.0479 |          0.0439 |         0.0439 |             419\n"
     ]
    },
    {
     "name": "stderr",
     "output_type": "stream",
     "text": [
      "100%|█████████▉| 777/778 [00:02<00:00, 299.24it/s]\n"
     ]
    },
    {
     "name": "stdout",
     "output_type": "stream",
     "text": [
      "06:01 |    83 |     5.000e-04 |     0.0499 |          0.0409 |         0.0409 |             419\n"
     ]
    },
    {
     "name": "stderr",
     "output_type": "stream",
     "text": [
      "100%|█████████▉| 777/778 [00:02<00:00, 305.21it/s]\n"
     ]
    },
    {
     "name": "stdout",
     "output_type": "stream",
     "text": [
      "06:05 |    84 |     5.000e-04 |     0.0495 |          0.0527 |         0.0527 |             419\n"
     ]
    },
    {
     "name": "stderr",
     "output_type": "stream",
     "text": [
      "100%|█████████▉| 777/778 [00:02<00:00, 298.68it/s]\n"
     ]
    },
    {
     "name": "stdout",
     "output_type": "stream",
     "text": [
      "06:10 |    85 |     5.000e-04 |     0.0492 |          0.0414 |         0.0414 |             419\n"
     ]
    },
    {
     "name": "stderr",
     "output_type": "stream",
     "text": [
      "100%|█████████▉| 777/778 [00:02<00:00, 300.85it/s]\n"
     ]
    },
    {
     "name": "stdout",
     "output_type": "stream",
     "text": [
      "06:15 |    86 |     5.000e-04 |     0.0489 |          0.0425 |         0.0425 |             419\n"
     ]
    },
    {
     "name": "stderr",
     "output_type": "stream",
     "text": [
      "100%|█████████▉| 777/778 [00:02<00:00, 290.07it/s]\n"
     ]
    },
    {
     "name": "stdout",
     "output_type": "stream",
     "text": [
      "06:19 |    87 |     5.000e-04 |     0.0476 |          0.0608 |         0.0608 |             419\n"
     ]
    },
    {
     "name": "stderr",
     "output_type": "stream",
     "text": [
      "100%|█████████▉| 777/778 [00:02<00:00, 300.29it/s]\n"
     ]
    },
    {
     "name": "stdout",
     "output_type": "stream",
     "text": [
      "06:24 |    88 |     5.000e-04 |     0.0495 |          0.0430 |         0.0430 |             419\n"
     ]
    },
    {
     "name": "stderr",
     "output_type": "stream",
     "text": [
      "100%|█████████▉| 777/778 [00:02<00:00, 297.26it/s]\n"
     ]
    },
    {
     "name": "stdout",
     "output_type": "stream",
     "text": [
      "06:28 |    89 |     5.000e-04 |     0.0497 |          0.0493 |         0.0493 |             419\n"
     ]
    },
    {
     "name": "stderr",
     "output_type": "stream",
     "text": [
      "100%|█████████▉| 777/778 [00:02<00:00, 295.57it/s]\n"
     ]
    },
    {
     "name": "stdout",
     "output_type": "stream",
     "text": [
      "06:33 |    90 |     5.000e-04 |     0.0479 |          0.0423 |         0.0423 |             419\n"
     ]
    },
    {
     "name": "stderr",
     "output_type": "stream",
     "text": [
      "100%|█████████▉| 777/778 [00:02<00:00, 300.06it/s]\n"
     ]
    },
    {
     "name": "stdout",
     "output_type": "stream",
     "text": [
      "06:37 |    91 |     5.000e-04 |     0.0479 |          0.0380 |         0.0380 |             419\n"
     ]
    },
    {
     "name": "stderr",
     "output_type": "stream",
     "text": [
      "100%|█████████▉| 777/778 [00:02<00:00, 299.06it/s]\n"
     ]
    },
    {
     "name": "stdout",
     "output_type": "stream",
     "text": [
      "06:42 |    92 |     5.000e-04 |     0.0491 |          0.0354 |         0.0354 |             419\n"
     ]
    },
    {
     "name": "stderr",
     "output_type": "stream",
     "text": [
      "100%|█████████▉| 777/778 [00:02<00:00, 303.94it/s]\n"
     ]
    },
    {
     "name": "stdout",
     "output_type": "stream",
     "text": [
      "06:47 |    93 |     5.000e-04 |     0.0474 |          0.0363 |         0.0363 |             419\n"
     ]
    },
    {
     "name": "stderr",
     "output_type": "stream",
     "text": [
      "100%|█████████▉| 777/778 [00:02<00:00, 298.59it/s]\n"
     ]
    },
    {
     "name": "stdout",
     "output_type": "stream",
     "text": [
      "06:51 |    94 |     2.500e-04 |     0.0414 |          0.0332 |         0.0332 |             419\n"
     ]
    },
    {
     "name": "stderr",
     "output_type": "stream",
     "text": [
      "100%|█████████▉| 777/778 [00:02<00:00, 299.16it/s]\n"
     ]
    },
    {
     "name": "stdout",
     "output_type": "stream",
     "text": [
      "06:56 |    95 |     2.500e-04 |     0.0408 |          0.0359 |         0.0359 |             419\n"
     ]
    },
    {
     "name": "stderr",
     "output_type": "stream",
     "text": [
      "100%|█████████▉| 777/778 [00:02<00:00, 295.64it/s]\n"
     ]
    },
    {
     "name": "stdout",
     "output_type": "stream",
     "text": [
      "07:00 |    96 |     2.500e-04 |     0.0403 |          0.0381 |         0.0381 |             419\n"
     ]
    },
    {
     "name": "stderr",
     "output_type": "stream",
     "text": [
      "100%|█████████▉| 777/778 [00:02<00:00, 296.79it/s]\n"
     ]
    },
    {
     "name": "stdout",
     "output_type": "stream",
     "text": [
      "07:05 |    97 |     2.500e-04 |     0.0410 |          0.0340 |         0.0340 |             419\n"
     ]
    },
    {
     "name": "stderr",
     "output_type": "stream",
     "text": [
      "100%|█████████▉| 777/778 [00:02<00:00, 302.78it/s]\n"
     ]
    },
    {
     "name": "stdout",
     "output_type": "stream",
     "text": [
      "07:09 |    98 |     2.500e-04 |     0.0397 |          0.0407 |         0.0407 |             419\n"
     ]
    },
    {
     "name": "stderr",
     "output_type": "stream",
     "text": [
      "100%|█████████▉| 777/778 [00:02<00:00, 283.43it/s]\n"
     ]
    },
    {
     "name": "stdout",
     "output_type": "stream",
     "text": [
      "07:14 |    99 |     2.500e-04 |     0.0402 |          0.0360 |         0.0360 |             419\n"
     ]
    },
    {
     "name": "stderr",
     "output_type": "stream",
     "text": [
      "100%|█████████▉| 777/778 [00:02<00:00, 298.81it/s]\n"
     ]
    },
    {
     "name": "stdout",
     "output_type": "stream",
     "text": [
      "07:19 |   100 |     2.500e-04 |     0.0397 |          0.0350 |         0.0350 |             419\n"
     ]
    },
    {
     "name": "stderr",
     "output_type": "stream",
     "text": [
      "100%|██████████| 1277/1277 [00:01<00:00, 678.82it/s]\n"
     ]
    },
    {
     "data": {
      "text/html": [
       "<style>\n",
       "    table.wandb td:nth-child(1) { padding: 0 10px; text-align: left ; width: auto;} td:nth-child(2) {text-align: left ; width: 100%}\n",
       "    .wandb-row { display: flex; flex-direction: row; flex-wrap: wrap; justify-content: flex-start; width: 100% }\n",
       "    .wandb-col { display: flex; flex-direction: column; flex-basis: 100%; flex: 1; padding: 10px; }\n",
       "    </style>\n",
       "<div class=\"wandb-row\"><div class=\"wandb-col\"><h3>Run history:</h3><br/><table class=\"wandb\"><tr><td>val_mae</td><td>▁</td></tr></table><br/></div><div class=\"wandb-col\"><h3>Run summary:</h3><br/><table class=\"wandb\"><tr><td>val_mae</td><td>0.0332</td></tr></table><br/></div></div>"
      ],
      "text/plain": [
       "<IPython.core.display.HTML object>"
      ]
     },
     "metadata": {},
     "output_type": "display_data"
    },
    {
     "data": {
      "text/html": [
       " View run <strong style=\"color:#cdcd00\">fanciful-sweep-1</strong> at: <a href='https://wandb.ai/dkritarth-university-at-buffalo/perovskite-ordering-painn-unrelaxed/runs/m86ed9i9' target=\"_blank\">https://wandb.ai/dkritarth-university-at-buffalo/perovskite-ordering-painn-unrelaxed/runs/m86ed9i9</a><br/>Synced 6 W&B file(s), 0 media file(s), 0 artifact file(s) and 0 other file(s)"
      ],
      "text/plain": [
       "<IPython.core.display.HTML object>"
      ]
     },
     "metadata": {},
     "output_type": "display_data"
    },
    {
     "data": {
      "text/html": [
       "Find logs at: <code>./wandb/run-20250623_225823-m86ed9i9/logs</code>"
      ],
      "text/plain": [
       "<IPython.core.display.HTML object>"
      ]
     },
     "metadata": {},
     "output_type": "display_data"
    },
    {
     "name": "stdout",
     "output_type": "stream",
     "text": [
      "Completed wandb sweep with 1 observations\n"
     ]
    }
   ],
   "source": [
    "#run_sigopt_experiment\n",
    "run_wandb_experiment(\n",
    "    struct_type=\"unrelaxed\",\n",
    "    model_type=\"Painn\",\n",
    "    gpu_num=0,\n",
    "    obs_budget=1,\n",
    "    training_fraction=0.125,\n",
    "    training_seed=0\n",
    ")"
   ]
  }
 ],
 "metadata": {
  "kernelspec": {
   "display_name": "Perovskite_ML_Environment",
   "language": "python",
   "name": "python3"
  },
  "language_info": {
   "codemirror_mode": {
    "name": "ipython",
    "version": 3
   },
   "file_extension": ".py",
   "mimetype": "text/x-python",
   "name": "python",
   "nbconvert_exporter": "python",
   "pygments_lexer": "ipython3",
   "version": "3.10.11"
  }
 },
 "nbformat": 4,
 "nbformat_minor": 2
}
