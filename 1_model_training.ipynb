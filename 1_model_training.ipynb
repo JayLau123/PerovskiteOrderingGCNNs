{
 "cells": [
  {
   "cell_type": "markdown",
   "metadata": {},
   "source": [
    "**This notebook provides examples of how to train GCNNs on the training dataset and conduct hyperparameter optimization based on the loss on the validation set (function: run_sigopt_experiment).**\n",
    "\n",
    "Parameters:\n",
    "- struct_type: the structure representation to use (options: unrelaxed, relaxed, M3Gnet_relaxed)\n",
    "- model_type: the model architechture to use (options: CGCNN, e3nn, Painn)\n",
    "- gpu_num: the GPU to use\n",
    "- obs_budget: the budget of hyperparameter optimization\n",
    "- training_fraction: if not trained on the entire training set, the fraction of the training set to use\n",
    "- training_seed: if not trained on the entire training set, the random seed for selecting this fraction"
   ]
  },
  {
   "cell_type": "code",
   "execution_count": 1,
   "metadata": {},
   "outputs": [
    {
     "name": "stderr",
     "output_type": "stream",
     "text": [
      "/home/jypeng/miniconda3/envs/Perovskite_ML_Environment/lib/python3.10/site-packages/tqdm/auto.py:21: TqdmWarning: IProgress not found. Please update jupyter and ipywidgets. See https://ipywidgets.readthedocs.io/en/stable/user_install.html\n",
      "  from .autonotebook import tqdm as notebook_tqdm\n"
     ]
    }
   ],
   "source": [
    "from training.run_sigopt_experiment import run_sigopt_experiment"
   ]
  },
  {
   "cell_type": "markdown",
   "metadata": {},
   "source": [
    "# CGCNN"
   ]
  },
  {
   "cell_type": "code",
   "execution_count": 2,
   "metadata": {},
   "outputs": [
    {
     "name": "stdout",
     "output_type": "stream",
     "text": [
      "Loaded data\n",
      "Completed data processing\n",
      "Created a new SigOpt experiment 'dft_e_hull_htvs_data_unrelaxed_CGCNN_TrainingFraction0.125' with ID: -1\n",
      "\n",
      "========================\n",
      "Sigopt experiment count # 0\n"
     ]
    },
    {
     "name": "stderr",
     "output_type": "stream",
     "text": [
      "100%|██████████| 3111/3111 [00:00<00:00, 4061.14it/s]\n",
      "100%|██████████| 1277/1277 [00:00<00:00, 4015.27it/s]\n",
      "100%|██████████| 195/195 [01:27<00:00,  2.23it/s]\n",
      "100%|██████████| 195/195 [00:03<00:00, 49.63it/s]\n"
     ]
    },
    {
     "name": "stdout",
     "output_type": "stream",
     "text": [
      "   1 ,lr = 0.01000000  train loss = 0.09100981  val loss = 0.06160971  time = 00:00:03\n"
     ]
    },
    {
     "name": "stderr",
     "output_type": "stream",
     "text": [
      "100%|██████████| 195/195 [00:03<00:00, 61.78it/s]\n"
     ]
    },
    {
     "name": "stdout",
     "output_type": "stream",
     "text": [
      "   2 ,lr = 0.01000000  train loss = 0.08354681  val loss = 0.05826523  time = 00:00:03\n"
     ]
    },
    {
     "name": "stderr",
     "output_type": "stream",
     "text": [
      "100%|██████████| 195/195 [00:03<00:00, 62.93it/s]\n"
     ]
    },
    {
     "name": "stdout",
     "output_type": "stream",
     "text": [
      "   3 ,lr = 0.01000000  train loss = 0.08223083  val loss = 0.06014130  time = 00:00:03\n"
     ]
    },
    {
     "name": "stderr",
     "output_type": "stream",
     "text": [
      "100%|██████████| 195/195 [00:02<00:00, 68.35it/s]\n"
     ]
    },
    {
     "name": "stdout",
     "output_type": "stream",
     "text": [
      "   4 ,lr = 0.01000000  train loss = 0.07199455  val loss = 0.05124867  time = 00:00:02\n"
     ]
    },
    {
     "name": "stderr",
     "output_type": "stream",
     "text": [
      "100%|██████████| 195/195 [00:02<00:00, 74.96it/s]\n"
     ]
    },
    {
     "name": "stdout",
     "output_type": "stream",
     "text": [
      "   5 ,lr = 0.01000000  train loss = 0.07089716  val loss = 0.05095908  time = 00:00:02\n"
     ]
    },
    {
     "name": "stderr",
     "output_type": "stream",
     "text": [
      "100%|██████████| 195/195 [00:01<00:00, 107.86it/s]\n"
     ]
    },
    {
     "name": "stdout",
     "output_type": "stream",
     "text": [
      "   6 ,lr = 0.01000000  train loss = 0.06914457  val loss = 0.04403434  time = 00:00:01\n"
     ]
    },
    {
     "name": "stderr",
     "output_type": "stream",
     "text": [
      "100%|██████████| 195/195 [00:02<00:00, 65.38it/s]\n"
     ]
    },
    {
     "name": "stdout",
     "output_type": "stream",
     "text": [
      "   7 ,lr = 0.01000000  train loss = 0.06277563  val loss = 0.04066524  time = 00:00:02\n"
     ]
    },
    {
     "name": "stderr",
     "output_type": "stream",
     "text": [
      "100%|██████████| 195/195 [00:02<00:00, 71.81it/s]\n"
     ]
    },
    {
     "name": "stdout",
     "output_type": "stream",
     "text": [
      "   8 ,lr = 0.01000000  train loss = 0.06690902  val loss = 0.04554880  time = 00:00:02\n"
     ]
    },
    {
     "name": "stderr",
     "output_type": "stream",
     "text": [
      "100%|██████████| 195/195 [00:03<00:00, 63.95it/s]\n"
     ]
    },
    {
     "name": "stdout",
     "output_type": "stream",
     "text": [
      "   9 ,lr = 0.01000000  train loss = 0.07001052  val loss = 0.05439880  time = 00:00:03\n"
     ]
    },
    {
     "name": "stderr",
     "output_type": "stream",
     "text": [
      "100%|██████████| 195/195 [00:03<00:00, 61.87it/s]\n"
     ]
    },
    {
     "name": "stdout",
     "output_type": "stream",
     "text": [
      "  10 ,lr = 0.01000000  train loss = 0.05968874  val loss = 0.03942553  time = 00:00:03\n"
     ]
    },
    {
     "name": "stderr",
     "output_type": "stream",
     "text": [
      "100%|██████████| 195/195 [00:03<00:00, 64.89it/s]\n"
     ]
    },
    {
     "name": "stdout",
     "output_type": "stream",
     "text": [
      "  11 ,lr = 0.01000000  train loss = 0.06096443  val loss = 0.04406626  time = 00:00:03\n"
     ]
    },
    {
     "name": "stderr",
     "output_type": "stream",
     "text": [
      "100%|██████████| 195/195 [00:02<00:00, 97.04it/s] \n"
     ]
    },
    {
     "name": "stdout",
     "output_type": "stream",
     "text": [
      "  12 ,lr = 0.01000000  train loss = 0.06294592  val loss = 0.04200955  time = 00:00:02\n"
     ]
    },
    {
     "name": "stderr",
     "output_type": "stream",
     "text": [
      "100%|██████████| 195/195 [00:03<00:00, 63.97it/s]\n"
     ]
    },
    {
     "name": "stdout",
     "output_type": "stream",
     "text": [
      "  13 ,lr = 0.01000000  train loss = 0.05560484  val loss = 0.04155989  time = 00:00:03\n"
     ]
    },
    {
     "name": "stderr",
     "output_type": "stream",
     "text": [
      "100%|██████████| 195/195 [00:01<00:00, 109.32it/s]\n"
     ]
    },
    {
     "name": "stdout",
     "output_type": "stream",
     "text": [
      "  14 ,lr = 0.01000000  train loss = 0.05787132  val loss = 0.04015072  time = 00:00:01\n"
     ]
    },
    {
     "name": "stderr",
     "output_type": "stream",
     "text": [
      "100%|██████████| 195/195 [00:02<00:00, 76.69it/s]\n"
     ]
    },
    {
     "name": "stdout",
     "output_type": "stream",
     "text": [
      "  15 ,lr = 0.01000000  train loss = 0.05392019  val loss = 0.03905497  time = 00:00:02\n"
     ]
    },
    {
     "name": "stderr",
     "output_type": "stream",
     "text": [
      "100%|██████████| 195/195 [00:03<00:00, 61.09it/s]\n"
     ]
    },
    {
     "name": "stdout",
     "output_type": "stream",
     "text": [
      "  16 ,lr = 0.01000000  train loss = 0.05667886  val loss = 0.03755547  time = 00:00:03\n"
     ]
    },
    {
     "name": "stderr",
     "output_type": "stream",
     "text": [
      "100%|██████████| 195/195 [00:03<00:00, 62.66it/s]\n"
     ]
    },
    {
     "name": "stdout",
     "output_type": "stream",
     "text": [
      "  17 ,lr = 0.01000000  train loss = 0.05656039  val loss = 0.04245436  time = 00:00:03\n"
     ]
    },
    {
     "name": "stderr",
     "output_type": "stream",
     "text": [
      "100%|██████████| 195/195 [00:03<00:00, 64.21it/s]\n"
     ]
    },
    {
     "name": "stdout",
     "output_type": "stream",
     "text": [
      "  18 ,lr = 0.01000000  train loss = 0.05257026  val loss = 0.03796828  time = 00:00:03\n"
     ]
    },
    {
     "name": "stderr",
     "output_type": "stream",
     "text": [
      "100%|██████████| 195/195 [00:03<00:00, 64.37it/s]\n"
     ]
    },
    {
     "name": "stdout",
     "output_type": "stream",
     "text": [
      "  19 ,lr = 0.01000000  train loss = 0.05302976  val loss = 0.04072475  time = 00:00:03\n"
     ]
    },
    {
     "name": "stderr",
     "output_type": "stream",
     "text": [
      "100%|██████████| 195/195 [00:02<00:00, 77.20it/s]\n"
     ]
    },
    {
     "name": "stdout",
     "output_type": "stream",
     "text": [
      "  20 ,lr = 0.01000000  train loss = 0.05306649  val loss = 0.03667270  time = 00:00:02\n"
     ]
    },
    {
     "name": "stderr",
     "output_type": "stream",
     "text": [
      "100%|██████████| 195/195 [00:03<00:00, 63.46it/s]\n"
     ]
    },
    {
     "name": "stdout",
     "output_type": "stream",
     "text": [
      "  21 ,lr = 0.01000000  train loss = 0.05996473  val loss = 0.04278676  time = 00:00:03\n"
     ]
    },
    {
     "name": "stderr",
     "output_type": "stream",
     "text": [
      "100%|██████████| 195/195 [00:02<00:00, 90.07it/s] \n"
     ]
    },
    {
     "name": "stdout",
     "output_type": "stream",
     "text": [
      "  22 ,lr = 0.01000000  train loss = 0.04894591  val loss = 0.04107077  time = 00:00:02\n"
     ]
    },
    {
     "name": "stderr",
     "output_type": "stream",
     "text": [
      "100%|██████████| 195/195 [00:01<00:00, 100.31it/s]\n"
     ]
    },
    {
     "name": "stdout",
     "output_type": "stream",
     "text": [
      "  23 ,lr = 0.01000000  train loss = 0.04909821  val loss = 0.03608161  time = 00:00:01\n"
     ]
    },
    {
     "name": "stderr",
     "output_type": "stream",
     "text": [
      "100%|██████████| 195/195 [00:03<00:00, 61.88it/s]\n"
     ]
    },
    {
     "name": "stdout",
     "output_type": "stream",
     "text": [
      "  24 ,lr = 0.01000000  train loss = 0.04890470  val loss = 0.03667562  time = 00:00:03\n"
     ]
    },
    {
     "name": "stderr",
     "output_type": "stream",
     "text": [
      "100%|██████████| 195/195 [00:03<00:00, 63.44it/s]\n"
     ]
    },
    {
     "name": "stdout",
     "output_type": "stream",
     "text": [
      "  25 ,lr = 0.01000000  train loss = 0.04802670  val loss = 0.03687475  time = 00:00:03\n"
     ]
    },
    {
     "name": "stderr",
     "output_type": "stream",
     "text": [
      "100%|██████████| 195/195 [00:03<00:00, 64.05it/s]\n"
     ]
    },
    {
     "name": "stdout",
     "output_type": "stream",
     "text": [
      "  26 ,lr = 0.01000000  train loss = 0.04789492  val loss = 0.03922155  time = 00:00:03\n"
     ]
    },
    {
     "name": "stderr",
     "output_type": "stream",
     "text": [
      "100%|██████████| 195/195 [00:01<00:00, 109.31it/s]\n"
     ]
    },
    {
     "name": "stdout",
     "output_type": "stream",
     "text": [
      "  27 ,lr = 0.01000000  train loss = 0.04716998  val loss = 0.03673557  time = 00:00:01\n"
     ]
    },
    {
     "name": "stderr",
     "output_type": "stream",
     "text": [
      "100%|██████████| 195/195 [00:03<00:00, 62.64it/s]\n"
     ]
    },
    {
     "name": "stdout",
     "output_type": "stream",
     "text": [
      "  28 ,lr = 0.01000000  train loss = 0.04673539  val loss = 0.03491289  time = 00:00:03\n"
     ]
    },
    {
     "name": "stderr",
     "output_type": "stream",
     "text": [
      "100%|██████████| 195/195 [00:01<00:00, 109.04it/s]\n"
     ]
    },
    {
     "name": "stdout",
     "output_type": "stream",
     "text": [
      "  29 ,lr = 0.01000000  train loss = 0.05683018  val loss = 0.03818038  time = 00:00:01\n"
     ]
    },
    {
     "name": "stderr",
     "output_type": "stream",
     "text": [
      "100%|██████████| 195/195 [00:02<00:00, 67.05it/s]\n"
     ]
    },
    {
     "name": "stdout",
     "output_type": "stream",
     "text": [
      "  30 ,lr = 0.01000000  train loss = 0.04824687  val loss = 0.03819862  time = 00:00:02\n"
     ]
    },
    {
     "name": "stderr",
     "output_type": "stream",
     "text": [
      "100%|██████████| 195/195 [00:01<00:00, 108.85it/s]\n"
     ]
    },
    {
     "name": "stdout",
     "output_type": "stream",
     "text": [
      "  31 ,lr = 0.01000000  train loss = 0.04302762  val loss = 0.03456296  time = 00:00:01\n"
     ]
    },
    {
     "name": "stderr",
     "output_type": "stream",
     "text": [
      "100%|██████████| 195/195 [00:02<00:00, 71.23it/s]\n"
     ]
    },
    {
     "name": "stdout",
     "output_type": "stream",
     "text": [
      "  32 ,lr = 0.01000000  train loss = 0.04438302  val loss = 0.04192851  time = 00:00:02\n"
     ]
    },
    {
     "name": "stderr",
     "output_type": "stream",
     "text": [
      "100%|██████████| 195/195 [00:02<00:00, 71.78it/s]\n"
     ]
    },
    {
     "name": "stdout",
     "output_type": "stream",
     "text": [
      "  33 ,lr = 0.01000000  train loss = 0.04409979  val loss = 0.03652191  time = 00:00:02\n"
     ]
    },
    {
     "name": "stderr",
     "output_type": "stream",
     "text": [
      "100%|██████████| 195/195 [00:03<00:00, 63.08it/s]\n"
     ]
    },
    {
     "name": "stdout",
     "output_type": "stream",
     "text": [
      "  34 ,lr = 0.01000000  train loss = 0.04486739  val loss = 0.04265552  time = 00:00:03\n"
     ]
    },
    {
     "name": "stderr",
     "output_type": "stream",
     "text": [
      "100%|██████████| 195/195 [00:03<00:00, 63.77it/s]\n"
     ]
    },
    {
     "name": "stdout",
     "output_type": "stream",
     "text": [
      "  35 ,lr = 0.01000000  train loss = 0.04338529  val loss = 0.03942679  time = 00:00:03\n"
     ]
    },
    {
     "name": "stderr",
     "output_type": "stream",
     "text": [
      "100%|██████████| 195/195 [00:01<00:00, 107.15it/s]\n"
     ]
    },
    {
     "name": "stdout",
     "output_type": "stream",
     "text": [
      "  36 ,lr = 0.01000000  train loss = 0.03882404  val loss = 0.03495416  time = 00:00:01\n"
     ]
    },
    {
     "name": "stderr",
     "output_type": "stream",
     "text": [
      "100%|██████████| 195/195 [00:01<00:00, 106.91it/s]\n"
     ]
    },
    {
     "name": "stdout",
     "output_type": "stream",
     "text": [
      "  37 ,lr = 0.01000000  train loss = 0.04119018  val loss = 0.03983769  time = 00:00:01\n"
     ]
    },
    {
     "name": "stderr",
     "output_type": "stream",
     "text": [
      "100%|██████████| 195/195 [00:01<00:00, 107.19it/s]\n"
     ]
    },
    {
     "name": "stdout",
     "output_type": "stream",
     "text": [
      "  38 ,lr = 0.01000000  train loss = 0.03971689  val loss = 0.03580381  time = 00:00:01\n"
     ]
    },
    {
     "name": "stderr",
     "output_type": "stream",
     "text": [
      "100%|██████████| 195/195 [00:01<00:00, 106.84it/s]\n"
     ]
    },
    {
     "name": "stdout",
     "output_type": "stream",
     "text": [
      "  39 ,lr = 0.01000000  train loss = 0.03990696  val loss = 0.03684724  time = 00:00:01\n"
     ]
    },
    {
     "name": "stderr",
     "output_type": "stream",
     "text": [
      "100%|██████████| 195/195 [00:01<00:00, 107.09it/s]\n"
     ]
    },
    {
     "name": "stdout",
     "output_type": "stream",
     "text": [
      "  40 ,lr = 0.01000000  train loss = 0.04368226  val loss = 0.03513674  time = 00:00:01\n"
     ]
    },
    {
     "name": "stderr",
     "output_type": "stream",
     "text": [
      "100%|██████████| 195/195 [00:02<00:00, 83.11it/s] \n"
     ]
    },
    {
     "name": "stdout",
     "output_type": "stream",
     "text": [
      "  41 ,lr = 0.01000000  train loss = 0.03729443  val loss = 0.03817043  time = 00:00:02\n"
     ]
    },
    {
     "name": "stderr",
     "output_type": "stream",
     "text": [
      "100%|██████████| 195/195 [00:02<00:00, 70.00it/s]\n"
     ]
    },
    {
     "name": "stdout",
     "output_type": "stream",
     "text": [
      "  42 ,lr = 0.01000000  train loss = 0.03720866  val loss = 0.03532047  time = 00:00:02\n"
     ]
    },
    {
     "name": "stderr",
     "output_type": "stream",
     "text": [
      "100%|██████████| 195/195 [00:02<00:00, 68.53it/s]\n"
     ]
    },
    {
     "name": "stdout",
     "output_type": "stream",
     "text": [
      "  43 ,lr = 0.00500000  train loss = 0.03377083  val loss = 0.03615438  time = 00:00:02\n"
     ]
    },
    {
     "name": "stderr",
     "output_type": "stream",
     "text": [
      "100%|██████████| 195/195 [00:03<00:00, 63.24it/s]\n"
     ]
    },
    {
     "name": "stdout",
     "output_type": "stream",
     "text": [
      "  44 ,lr = 0.00500000  train loss = 0.03276740  val loss = 0.03511563  time = 00:00:03\n"
     ]
    },
    {
     "name": "stderr",
     "output_type": "stream",
     "text": [
      "100%|██████████| 195/195 [00:03<00:00, 63.08it/s]\n"
     ]
    },
    {
     "name": "stdout",
     "output_type": "stream",
     "text": [
      "  45 ,lr = 0.00500000  train loss = 0.03363553  val loss = 0.03691468  time = 00:00:03\n"
     ]
    },
    {
     "name": "stderr",
     "output_type": "stream",
     "text": [
      "100%|██████████| 195/195 [00:02<00:00, 70.56it/s]\n"
     ]
    },
    {
     "name": "stdout",
     "output_type": "stream",
     "text": [
      "  46 ,lr = 0.00500000  train loss = 0.03230334  val loss = 0.03519569  time = 00:00:02\n"
     ]
    },
    {
     "name": "stderr",
     "output_type": "stream",
     "text": [
      "100%|██████████| 195/195 [00:03<00:00, 63.32it/s]\n"
     ]
    },
    {
     "name": "stdout",
     "output_type": "stream",
     "text": [
      "  47 ,lr = 0.00500000  train loss = 0.03482652  val loss = 0.03837012  time = 00:00:03\n"
     ]
    },
    {
     "name": "stderr",
     "output_type": "stream",
     "text": [
      "100%|██████████| 195/195 [00:02<00:00, 84.28it/s] \n"
     ]
    },
    {
     "name": "stdout",
     "output_type": "stream",
     "text": [
      "  48 ,lr = 0.00500000  train loss = 0.03090687  val loss = 0.03439677  time = 00:00:02\n"
     ]
    },
    {
     "name": "stderr",
     "output_type": "stream",
     "text": [
      "100%|██████████| 195/195 [00:02<00:00, 68.23it/s]\n"
     ]
    },
    {
     "name": "stdout",
     "output_type": "stream",
     "text": [
      "  49 ,lr = 0.00500000  train loss = 0.03040389  val loss = 0.03465654  time = 00:00:02\n"
     ]
    },
    {
     "name": "stderr",
     "output_type": "stream",
     "text": [
      "100%|██████████| 195/195 [00:02<00:00, 67.14it/s]\n"
     ]
    },
    {
     "name": "stdout",
     "output_type": "stream",
     "text": [
      "  50 ,lr = 0.00500000  train loss = 0.03212551  val loss = 0.03522871  time = 00:00:02\n"
     ]
    },
    {
     "name": "stderr",
     "output_type": "stream",
     "text": [
      "100%|██████████| 195/195 [00:02<00:00, 69.56it/s]\n"
     ]
    },
    {
     "name": "stdout",
     "output_type": "stream",
     "text": [
      "  51 ,lr = 0.00500000  train loss = 0.03109990  val loss = 0.03399318  time = 00:00:02\n"
     ]
    },
    {
     "name": "stderr",
     "output_type": "stream",
     "text": [
      "100%|██████████| 195/195 [00:02<00:00, 68.75it/s]\n"
     ]
    },
    {
     "name": "stdout",
     "output_type": "stream",
     "text": [
      "  52 ,lr = 0.00500000  train loss = 0.03113509  val loss = 0.03298646  time = 00:00:02\n"
     ]
    },
    {
     "name": "stderr",
     "output_type": "stream",
     "text": [
      "100%|██████████| 195/195 [00:02<00:00, 69.51it/s]\n"
     ]
    },
    {
     "name": "stdout",
     "output_type": "stream",
     "text": [
      "  53 ,lr = 0.00500000  train loss = 0.03128385  val loss = 0.03597398  time = 00:00:02\n"
     ]
    },
    {
     "name": "stderr",
     "output_type": "stream",
     "text": [
      "100%|██████████| 195/195 [00:02<00:00, 69.80it/s]\n"
     ]
    },
    {
     "name": "stdout",
     "output_type": "stream",
     "text": [
      "  54 ,lr = 0.00500000  train loss = 0.02901326  val loss = 0.03469129  time = 00:00:02\n"
     ]
    },
    {
     "name": "stderr",
     "output_type": "stream",
     "text": [
      "100%|██████████| 195/195 [00:02<00:00, 71.68it/s]\n"
     ]
    },
    {
     "name": "stdout",
     "output_type": "stream",
     "text": [
      "  55 ,lr = 0.00500000  train loss = 0.02951159  val loss = 0.03394461  time = 00:00:02\n"
     ]
    },
    {
     "name": "stderr",
     "output_type": "stream",
     "text": [
      "100%|██████████| 195/195 [00:03<00:00, 61.96it/s]\n"
     ]
    },
    {
     "name": "stdout",
     "output_type": "stream",
     "text": [
      "  56 ,lr = 0.00500000  train loss = 0.02887004  val loss = 0.03364762  time = 00:00:03\n"
     ]
    },
    {
     "name": "stderr",
     "output_type": "stream",
     "text": [
      "100%|██████████| 195/195 [00:03<00:00, 63.92it/s]\n"
     ]
    },
    {
     "name": "stdout",
     "output_type": "stream",
     "text": [
      "  57 ,lr = 0.00500000  train loss = 0.03401653  val loss = 0.04228944  time = 00:00:03\n"
     ]
    },
    {
     "name": "stderr",
     "output_type": "stream",
     "text": [
      "100%|██████████| 195/195 [00:03<00:00, 60.86it/s]\n"
     ]
    },
    {
     "name": "stdout",
     "output_type": "stream",
     "text": [
      "  58 ,lr = 0.00500000  train loss = 0.03045870  val loss = 0.04000233  time = 00:00:03\n"
     ]
    },
    {
     "name": "stderr",
     "output_type": "stream",
     "text": [
      "100%|██████████| 195/195 [00:03<00:00, 62.44it/s]\n"
     ]
    },
    {
     "name": "stdout",
     "output_type": "stream",
     "text": [
      "  59 ,lr = 0.00500000  train loss = 0.02753231  val loss = 0.03350501  time = 00:00:03\n"
     ]
    },
    {
     "name": "stderr",
     "output_type": "stream",
     "text": [
      "100%|██████████| 195/195 [00:03<00:00, 61.53it/s]\n"
     ]
    },
    {
     "name": "stdout",
     "output_type": "stream",
     "text": [
      "  60 ,lr = 0.00500000  train loss = 0.02790735  val loss = 0.03528757  time = 00:00:03\n"
     ]
    },
    {
     "name": "stderr",
     "output_type": "stream",
     "text": [
      "100%|██████████| 195/195 [00:03<00:00, 61.11it/s]\n"
     ]
    },
    {
     "name": "stdout",
     "output_type": "stream",
     "text": [
      "  61 ,lr = 0.00500000  train loss = 0.03080730  val loss = 0.03792844  time = 00:00:03\n"
     ]
    },
    {
     "name": "stderr",
     "output_type": "stream",
     "text": [
      "100%|██████████| 195/195 [00:03<00:00, 59.33it/s]\n"
     ]
    },
    {
     "name": "stdout",
     "output_type": "stream",
     "text": [
      "  62 ,lr = 0.00500000  train loss = 0.02724979  val loss = 0.03411659  time = 00:00:03\n"
     ]
    },
    {
     "name": "stderr",
     "output_type": "stream",
     "text": [
      "100%|██████████| 195/195 [00:03<00:00, 63.28it/s]\n"
     ]
    },
    {
     "name": "stdout",
     "output_type": "stream",
     "text": [
      "  63 ,lr = 0.00500000  train loss = 0.02889012  val loss = 0.03571699  time = 00:00:03\n"
     ]
    },
    {
     "name": "stderr",
     "output_type": "stream",
     "text": [
      "100%|██████████| 195/195 [00:03<00:00, 64.55it/s]\n"
     ]
    },
    {
     "name": "stdout",
     "output_type": "stream",
     "text": [
      "  64 ,lr = 0.00250000  train loss = 0.02331634  val loss = 0.03395619  time = 00:00:03\n"
     ]
    },
    {
     "name": "stderr",
     "output_type": "stream",
     "text": [
      "100%|██████████| 195/195 [00:02<00:00, 73.57it/s]\n"
     ]
    },
    {
     "name": "stdout",
     "output_type": "stream",
     "text": [
      "  65 ,lr = 0.00250000  train loss = 0.02514826  val loss = 0.03361798  time = 00:00:02\n"
     ]
    },
    {
     "name": "stderr",
     "output_type": "stream",
     "text": [
      "100%|██████████| 195/195 [00:03<00:00, 60.47it/s]\n"
     ]
    },
    {
     "name": "stdout",
     "output_type": "stream",
     "text": [
      "  66 ,lr = 0.00250000  train loss = 0.02256950  val loss = 0.03331009  time = 00:00:03\n"
     ]
    },
    {
     "name": "stderr",
     "output_type": "stream",
     "text": [
      "100%|██████████| 195/195 [00:02<00:00, 67.48it/s]\n"
     ]
    },
    {
     "name": "stdout",
     "output_type": "stream",
     "text": [
      "  67 ,lr = 0.00250000  train loss = 0.02514748  val loss = 0.03441681  time = 00:00:02\n"
     ]
    },
    {
     "name": "stderr",
     "output_type": "stream",
     "text": [
      "100%|██████████| 195/195 [00:03<00:00, 64.22it/s]\n"
     ]
    },
    {
     "name": "stdout",
     "output_type": "stream",
     "text": [
      "  68 ,lr = 0.00250000  train loss = 0.02191391  val loss = 0.03350366  time = 00:00:03\n"
     ]
    },
    {
     "name": "stderr",
     "output_type": "stream",
     "text": [
      "100%|██████████| 195/195 [00:01<00:00, 109.99it/s]\n"
     ]
    },
    {
     "name": "stdout",
     "output_type": "stream",
     "text": [
      "  69 ,lr = 0.00250000  train loss = 0.02282376  val loss = 0.03355118  time = 00:00:01\n"
     ]
    },
    {
     "name": "stderr",
     "output_type": "stream",
     "text": [
      "100%|██████████| 195/195 [00:02<00:00, 79.86it/s] \n"
     ]
    },
    {
     "name": "stdout",
     "output_type": "stream",
     "text": [
      "  70 ,lr = 0.00250000  train loss = 0.02216918  val loss = 0.03306928  time = 00:00:02\n"
     ]
    },
    {
     "name": "stderr",
     "output_type": "stream",
     "text": [
      "100%|██████████| 195/195 [00:02<00:00, 70.41it/s]\n"
     ]
    },
    {
     "name": "stdout",
     "output_type": "stream",
     "text": [
      "  71 ,lr = 0.00250000  train loss = 0.02253425  val loss = 0.03366566  time = 00:00:02\n"
     ]
    },
    {
     "name": "stderr",
     "output_type": "stream",
     "text": [
      "100%|██████████| 195/195 [00:03<00:00, 63.48it/s]\n"
     ]
    },
    {
     "name": "stdout",
     "output_type": "stream",
     "text": [
      "  72 ,lr = 0.00250000  train loss = 0.02209847  val loss = 0.03475370  time = 00:00:03\n"
     ]
    },
    {
     "name": "stderr",
     "output_type": "stream",
     "text": [
      "100%|██████████| 195/195 [00:02<00:00, 91.16it/s] \n"
     ]
    },
    {
     "name": "stdout",
     "output_type": "stream",
     "text": [
      "  73 ,lr = 0.00250000  train loss = 0.02196997  val loss = 0.03373715  time = 00:00:02\n"
     ]
    },
    {
     "name": "stderr",
     "output_type": "stream",
     "text": [
      "100%|██████████| 195/195 [00:03<00:00, 63.83it/s]\n"
     ]
    },
    {
     "name": "stdout",
     "output_type": "stream",
     "text": [
      "  74 ,lr = 0.00250000  train loss = 0.02344299  val loss = 0.03535161  time = 00:00:03\n"
     ]
    },
    {
     "name": "stderr",
     "output_type": "stream",
     "text": [
      "100%|██████████| 195/195 [00:02<00:00, 65.61it/s]\n"
     ]
    },
    {
     "name": "stdout",
     "output_type": "stream",
     "text": [
      "  75 ,lr = 0.00125000  train loss = 0.02042084  val loss = 0.03345256  time = 00:00:02\n"
     ]
    },
    {
     "name": "stderr",
     "output_type": "stream",
     "text": [
      "100%|██████████| 195/195 [00:02<00:00, 84.07it/s] \n"
     ]
    },
    {
     "name": "stdout",
     "output_type": "stream",
     "text": [
      "  76 ,lr = 0.00125000  train loss = 0.02098455  val loss = 0.03366041  time = 00:00:02\n"
     ]
    },
    {
     "name": "stderr",
     "output_type": "stream",
     "text": [
      "100%|██████████| 195/195 [00:03<00:00, 63.23it/s]\n"
     ]
    },
    {
     "name": "stdout",
     "output_type": "stream",
     "text": [
      "  77 ,lr = 0.00125000  train loss = 0.01959141  val loss = 0.03408087  time = 00:00:03\n"
     ]
    },
    {
     "name": "stderr",
     "output_type": "stream",
     "text": [
      "100%|██████████| 195/195 [00:03<00:00, 64.13it/s]\n"
     ]
    },
    {
     "name": "stdout",
     "output_type": "stream",
     "text": [
      "  78 ,lr = 0.00125000  train loss = 0.01960881  val loss = 0.03334111  time = 00:00:03\n"
     ]
    },
    {
     "name": "stderr",
     "output_type": "stream",
     "text": [
      "100%|██████████| 195/195 [00:02<00:00, 67.52it/s]\n"
     ]
    },
    {
     "name": "stdout",
     "output_type": "stream",
     "text": [
      "  79 ,lr = 0.00125000  train loss = 0.02011162  val loss = 0.03494822  time = 00:00:02\n"
     ]
    },
    {
     "name": "stderr",
     "output_type": "stream",
     "text": [
      "100%|██████████| 195/195 [00:02<00:00, 67.24it/s]\n"
     ]
    },
    {
     "name": "stdout",
     "output_type": "stream",
     "text": [
      "  80 ,lr = 0.00125000  train loss = 0.02019030  val loss = 0.03354450  time = 00:00:02\n"
     ]
    },
    {
     "name": "stderr",
     "output_type": "stream",
     "text": [
      "100%|██████████| 195/195 [00:03<00:00, 62.09it/s]\n"
     ]
    },
    {
     "name": "stdout",
     "output_type": "stream",
     "text": [
      "  81 ,lr = 0.00125000  train loss = 0.01960733  val loss = 0.03243919  time = 00:00:03\n"
     ]
    },
    {
     "name": "stderr",
     "output_type": "stream",
     "text": [
      "100%|██████████| 195/195 [00:03<00:00, 62.14it/s]\n"
     ]
    },
    {
     "name": "stdout",
     "output_type": "stream",
     "text": [
      "  82 ,lr = 0.00125000  train loss = 0.01886626  val loss = 0.03326006  time = 00:00:03\n"
     ]
    },
    {
     "name": "stderr",
     "output_type": "stream",
     "text": [
      "100%|██████████| 195/195 [00:03<00:00, 64.41it/s]\n"
     ]
    },
    {
     "name": "stdout",
     "output_type": "stream",
     "text": [
      "  83 ,lr = 0.00125000  train loss = 0.01869509  val loss = 0.03380158  time = 00:00:03\n"
     ]
    },
    {
     "name": "stderr",
     "output_type": "stream",
     "text": [
      "100%|██████████| 195/195 [00:02<00:00, 88.65it/s] \n"
     ]
    },
    {
     "name": "stdout",
     "output_type": "stream",
     "text": [
      "  84 ,lr = 0.00125000  train loss = 0.01910332  val loss = 0.03368090  time = 00:00:02\n"
     ]
    },
    {
     "name": "stderr",
     "output_type": "stream",
     "text": [
      "100%|██████████| 195/195 [00:03<00:00, 63.71it/s]\n"
     ]
    },
    {
     "name": "stdout",
     "output_type": "stream",
     "text": [
      "  85 ,lr = 0.00125000  train loss = 0.01824543  val loss = 0.03284850  time = 00:00:03\n"
     ]
    },
    {
     "name": "stderr",
     "output_type": "stream",
     "text": [
      "100%|██████████| 195/195 [00:01<00:00, 106.90it/s]\n"
     ]
    },
    {
     "name": "stdout",
     "output_type": "stream",
     "text": [
      "  86 ,lr = 0.00125000  train loss = 0.01926084  val loss = 0.03516888  time = 00:00:01\n"
     ]
    },
    {
     "name": "stderr",
     "output_type": "stream",
     "text": [
      "100%|██████████| 195/195 [00:02<00:00, 78.01it/s]\n"
     ]
    },
    {
     "name": "stdout",
     "output_type": "stream",
     "text": [
      "  87 ,lr = 0.00125000  train loss = 0.01893521  val loss = 0.03527939  time = 00:00:02\n"
     ]
    },
    {
     "name": "stderr",
     "output_type": "stream",
     "text": [
      "100%|██████████| 195/195 [00:03<00:00, 64.72it/s]\n"
     ]
    },
    {
     "name": "stdout",
     "output_type": "stream",
     "text": [
      "  88 ,lr = 0.00125000  train loss = 0.01936104  val loss = 0.03587195  time = 00:00:03\n"
     ]
    },
    {
     "name": "stderr",
     "output_type": "stream",
     "text": [
      "100%|██████████| 195/195 [00:02<00:00, 78.01it/s]\n"
     ]
    },
    {
     "name": "stdout",
     "output_type": "stream",
     "text": [
      "  89 ,lr = 0.00125000  train loss = 0.01876448  val loss = 0.03338435  time = 00:00:02\n"
     ]
    },
    {
     "name": "stderr",
     "output_type": "stream",
     "text": [
      "100%|██████████| 195/195 [00:01<00:00, 108.99it/s]\n"
     ]
    },
    {
     "name": "stdout",
     "output_type": "stream",
     "text": [
      "  90 ,lr = 0.00125000  train loss = 0.01877647  val loss = 0.03403526  time = 00:00:01\n"
     ]
    },
    {
     "name": "stderr",
     "output_type": "stream",
     "text": [
      "100%|██████████| 195/195 [00:01<00:00, 97.82it/s] \n"
     ]
    },
    {
     "name": "stdout",
     "output_type": "stream",
     "text": [
      "  91 ,lr = 0.00125000  train loss = 0.01864740  val loss = 0.03533371  time = 00:00:01\n"
     ]
    },
    {
     "name": "stderr",
     "output_type": "stream",
     "text": [
      "100%|██████████| 195/195 [00:02<00:00, 90.39it/s] \n"
     ]
    },
    {
     "name": "stdout",
     "output_type": "stream",
     "text": [
      "  92 ,lr = 0.00125000  train loss = 0.01807523  val loss = 0.03382507  time = 00:00:02\n"
     ]
    },
    {
     "name": "stderr",
     "output_type": "stream",
     "text": [
      "100%|██████████| 195/195 [00:01<00:00, 110.29it/s]\n"
     ]
    },
    {
     "name": "stdout",
     "output_type": "stream",
     "text": [
      "  93 ,lr = 0.00062500  train loss = 0.01778761  val loss = 0.03359216  time = 00:00:01\n"
     ]
    },
    {
     "name": "stderr",
     "output_type": "stream",
     "text": [
      "100%|██████████| 195/195 [00:02<00:00, 80.45it/s]\n"
     ]
    },
    {
     "name": "stdout",
     "output_type": "stream",
     "text": [
      "  94 ,lr = 0.00062500  train loss = 0.01700186  val loss = 0.03296003  time = 00:00:02\n"
     ]
    },
    {
     "name": "stderr",
     "output_type": "stream",
     "text": [
      "100%|██████████| 195/195 [00:03<00:00, 61.30it/s]\n"
     ]
    },
    {
     "name": "stdout",
     "output_type": "stream",
     "text": [
      "  95 ,lr = 0.00062500  train loss = 0.01744936  val loss = 0.03388682  time = 00:00:03\n"
     ]
    },
    {
     "name": "stderr",
     "output_type": "stream",
     "text": [
      "100%|██████████| 195/195 [00:03<00:00, 61.71it/s]\n"
     ]
    },
    {
     "name": "stdout",
     "output_type": "stream",
     "text": [
      "  96 ,lr = 0.00062500  train loss = 0.01793555  val loss = 0.03328793  time = 00:00:03\n"
     ]
    },
    {
     "name": "stderr",
     "output_type": "stream",
     "text": [
      "100%|██████████| 195/195 [00:03<00:00, 61.54it/s]\n"
     ]
    },
    {
     "name": "stdout",
     "output_type": "stream",
     "text": [
      "  97 ,lr = 0.00062500  train loss = 0.01683213  val loss = 0.03290544  time = 00:00:03\n"
     ]
    },
    {
     "name": "stderr",
     "output_type": "stream",
     "text": [
      "100%|██████████| 195/195 [00:03<00:00, 62.20it/s]\n"
     ]
    },
    {
     "name": "stdout",
     "output_type": "stream",
     "text": [
      "  98 ,lr = 0.00062500  train loss = 0.01694322  val loss = 0.03264285  time = 00:00:03\n"
     ]
    },
    {
     "name": "stderr",
     "output_type": "stream",
     "text": [
      "100%|██████████| 195/195 [00:02<00:00, 66.35it/s]\n"
     ]
    },
    {
     "name": "stdout",
     "output_type": "stream",
     "text": [
      "  99 ,lr = 0.00062500  train loss = 0.01769435  val loss = 0.03346590  time = 00:00:02\n"
     ]
    },
    {
     "name": "stderr",
     "output_type": "stream",
     "text": [
      "100%|██████████| 195/195 [00:03<00:00, 62.95it/s]\n"
     ]
    },
    {
     "name": "stdout",
     "output_type": "stream",
     "text": [
      " 100 ,lr = 0.00062500  train loss = 0.01719536  val loss = 0.03326612  time = 00:00:03\n"
     ]
    }
   ],
   "source": [
    "run_sigopt_experiment(\n",
    "    struct_type=\"unrelaxed\",\n",
    "    model_type=\"CGCNN\",\n",
    "    gpu_num=0,\n",
    "    obs_budget=1,\n",
    "    training_fraction=0.125,\n",
    "    training_seed=0\n",
    ")"
   ]
  },
  {
   "cell_type": "markdown",
   "metadata": {},
   "source": [
    "# e3nn"
   ]
  },
  {
   "cell_type": "code",
   "execution_count": 3,
   "metadata": {},
   "outputs": [
    {
     "name": "stdout",
     "output_type": "stream",
     "text": [
      "Loaded data\n",
      "Completed data processing\n",
      "Created a new SigOpt experiment 'dft_e_hull_htvs_data_relaxed_e3nn_TrainingFraction0.125' with ID: -1\n",
      "\n",
      "========================\n",
      "Sigopt experiment count # 0\n"
     ]
    },
    {
     "name": "stderr",
     "output_type": "stream",
     "text": [
      "100%|██████████| 3111/3111 [00:00<00:00, 3507.88it/s]\n",
      "100%|██████████| 3111/3111 [05:01<00:00, 10.31it/s]\n",
      "100%|██████████| 3111/3111 [00:00<00:00, 4177.78it/s]\n",
      "100%|██████████| 3111/3111 [05:16<00:00,  9.84it/s]\n",
      "100%|██████████| 1277/1277 [00:00<00:00, 3387.29it/s]\n",
      "100%|██████████| 1277/1277 [02:03<00:00, 10.32it/s]\n",
      "/home/jypeng/miniconda3/envs/Perovskite_ML_Environment/lib/python3.10/site-packages/torch/jit/_check.py:181\n",
      "\tUserWarning: The TorchScript type system doesn't support instance-level annotations on empty non-base types in `__init__`. Instead, either 1) use a type annotation in the class body, or 2) wrap the type in `torch.jit.Attribute`.\n",
      "100%|██████████| 346/346 [00:29<00:00, 11.68it/s]\n"
     ]
    },
    {
     "name": "stdout",
     "output_type": "stream",
     "text": [
      "   1 ,lr = 0.00001000  train loss = 0.20019469  train direct = 0.10481800  train contrastive = 0.09537669  val loss = 0.10370195  val direct = 0.08828720  val contrastive = 0.01541475  time = 00:00:29\n"
     ]
    },
    {
     "name": "stderr",
     "output_type": "stream",
     "text": [
      "100%|██████████| 346/346 [00:30<00:00, 11.26it/s]\n"
     ]
    },
    {
     "name": "stdout",
     "output_type": "stream",
     "text": [
      "   2 ,lr = 0.00001000  train loss = 0.20009153  train direct = 0.10471484  train contrastive = 0.09537669  val loss = 0.10290478  val direct = 0.08749003  val contrastive = 0.01541475  time = 00:00:30\n"
     ]
    },
    {
     "name": "stderr",
     "output_type": "stream",
     "text": [
      "100%|██████████| 346/346 [00:30<00:00, 11.18it/s]\n"
     ]
    },
    {
     "name": "stdout",
     "output_type": "stream",
     "text": [
      "   3 ,lr = 0.00001000  train loss = 0.19999629  train direct = 0.10461960  train contrastive = 0.09537669  val loss = 0.10213348  val direct = 0.08671873  val contrastive = 0.01541475  time = 00:00:30\n"
     ]
    },
    {
     "name": "stderr",
     "output_type": "stream",
     "text": [
      "100%|██████████| 346/346 [00:26<00:00, 13.09it/s]\n"
     ]
    },
    {
     "name": "stdout",
     "output_type": "stream",
     "text": [
      "   4 ,lr = 0.00001000  train loss = 0.19991930  train direct = 0.10454262  train contrastive = 0.09537669  val loss = 0.10146201  val direct = 0.08604726  val contrastive = 0.01541475  time = 00:00:26\n"
     ]
    },
    {
     "name": "stderr",
     "output_type": "stream",
     "text": [
      "100%|██████████| 346/346 [00:29<00:00, 11.85it/s]\n"
     ]
    },
    {
     "name": "stdout",
     "output_type": "stream",
     "text": [
      "   5 ,lr = 0.00001000  train loss = 0.19985521  train direct = 0.10447852  train contrastive = 0.09537669  val loss = 0.10083772  val direct = 0.08542297  val contrastive = 0.01541475  time = 00:00:29\n"
     ]
    },
    {
     "name": "stderr",
     "output_type": "stream",
     "text": [
      "100%|██████████| 346/346 [00:29<00:00, 11.86it/s]\n"
     ]
    },
    {
     "name": "stdout",
     "output_type": "stream",
     "text": [
      "   6 ,lr = 0.00001000  train loss = 0.19980281  train direct = 0.10442612  train contrastive = 0.09537669  val loss = 0.10029952  val direct = 0.08488477  val contrastive = 0.01541475  time = 00:00:29\n"
     ]
    },
    {
     "name": "stderr",
     "output_type": "stream",
     "text": [
      "100%|██████████| 346/346 [00:29<00:00, 11.90it/s]\n"
     ]
    },
    {
     "name": "stdout",
     "output_type": "stream",
     "text": [
      "   7 ,lr = 0.00001000  train loss = 0.19975324  train direct = 0.10437656  train contrastive = 0.09537669  val loss = 0.09975430  val direct = 0.08433955  val contrastive = 0.01541475  time = 00:00:29\n"
     ]
    },
    {
     "name": "stderr",
     "output_type": "stream",
     "text": [
      "100%|██████████| 346/346 [00:28<00:00, 12.32it/s]\n"
     ]
    },
    {
     "name": "stdout",
     "output_type": "stream",
     "text": [
      "   8 ,lr = 0.00001000  train loss = 0.19971255  train direct = 0.10433586  train contrastive = 0.09537669  val loss = 0.09925879  val direct = 0.08384404  val contrastive = 0.01541475  time = 00:00:28\n"
     ]
    },
    {
     "name": "stderr",
     "output_type": "stream",
     "text": [
      "100%|██████████| 346/346 [00:29<00:00, 11.67it/s]\n"
     ]
    },
    {
     "name": "stdout",
     "output_type": "stream",
     "text": [
      "   9 ,lr = 0.00001000  train loss = 0.19967711  train direct = 0.10430042  train contrastive = 0.09537669  val loss = 0.09879257  val direct = 0.08337783  val contrastive = 0.01541475  time = 00:00:29\n"
     ]
    },
    {
     "name": "stderr",
     "output_type": "stream",
     "text": [
      "100%|██████████| 346/346 [00:29<00:00, 11.82it/s]\n"
     ]
    },
    {
     "name": "stdout",
     "output_type": "stream",
     "text": [
      "  10 ,lr = 0.00001000  train loss = 0.19964846  train direct = 0.10427177  train contrastive = 0.09537669  val loss = 0.09838589  val direct = 0.08297114  val contrastive = 0.01541475  time = 00:00:29\n"
     ]
    },
    {
     "name": "stderr",
     "output_type": "stream",
     "text": [
      "100%|██████████| 346/346 [00:26<00:00, 13.16it/s]\n"
     ]
    },
    {
     "name": "stdout",
     "output_type": "stream",
     "text": [
      "  11 ,lr = 0.00001000  train loss = 0.19962692  train direct = 0.10425023  train contrastive = 0.09537669  val loss = 0.09804003  val direct = 0.08262528  val contrastive = 0.01541475  time = 00:00:26\n"
     ]
    },
    {
     "name": "stderr",
     "output_type": "stream",
     "text": [
      "100%|██████████| 346/346 [00:28<00:00, 11.96it/s]\n"
     ]
    },
    {
     "name": "stdout",
     "output_type": "stream",
     "text": [
      "  12 ,lr = 0.00001000  train loss = 0.19960876  train direct = 0.10423208  train contrastive = 0.09537669  val loss = 0.09770044  val direct = 0.08228569  val contrastive = 0.01541475  time = 00:00:28\n"
     ]
    },
    {
     "name": "stderr",
     "output_type": "stream",
     "text": [
      "100%|██████████| 346/346 [00:30<00:00, 11.31it/s]\n"
     ]
    },
    {
     "name": "stdout",
     "output_type": "stream",
     "text": [
      "  13 ,lr = 0.00001000  train loss = 0.19959670  train direct = 0.10422001  train contrastive = 0.09537669  val loss = 0.09745513  val direct = 0.08204038  val contrastive = 0.01541475  time = 00:00:30\n"
     ]
    },
    {
     "name": "stderr",
     "output_type": "stream",
     "text": [
      "100%|██████████| 346/346 [00:23<00:00, 14.77it/s]\n"
     ]
    },
    {
     "name": "stdout",
     "output_type": "stream",
     "text": [
      "  14 ,lr = 0.00001000  train loss = 0.19958291  train direct = 0.10420622  train contrastive = 0.09537669  val loss = 0.09716330  val direct = 0.08174855  val contrastive = 0.01541475  time = 00:00:23\n"
     ]
    },
    {
     "name": "stderr",
     "output_type": "stream",
     "text": [
      "100%|██████████| 346/346 [00:31<00:00, 11.00it/s]\n"
     ]
    },
    {
     "name": "stdout",
     "output_type": "stream",
     "text": [
      "  15 ,lr = 0.00001000  train loss = 0.19957167  train direct = 0.10419498  train contrastive = 0.09537669  val loss = 0.09692190  val direct = 0.08150715  val contrastive = 0.01541475  time = 00:00:31\n"
     ]
    },
    {
     "name": "stderr",
     "output_type": "stream",
     "text": [
      "100%|██████████| 346/346 [00:25<00:00, 13.67it/s]\n"
     ]
    },
    {
     "name": "stdout",
     "output_type": "stream",
     "text": [
      "  16 ,lr = 0.00001000  train loss = 0.19955958  train direct = 0.10418290  train contrastive = 0.09537669  val loss = 0.09665288  val direct = 0.08123813  val contrastive = 0.01541475  time = 00:00:25\n"
     ]
    },
    {
     "name": "stderr",
     "output_type": "stream",
     "text": [
      "100%|██████████| 346/346 [00:31<00:00, 11.00it/s]\n"
     ]
    },
    {
     "name": "stdout",
     "output_type": "stream",
     "text": [
      "  17 ,lr = 0.00001000  train loss = 0.19955068  train direct = 0.10417400  train contrastive = 0.09537669  val loss = 0.09642890  val direct = 0.08101415  val contrastive = 0.01541475  time = 00:00:31\n"
     ]
    },
    {
     "name": "stderr",
     "output_type": "stream",
     "text": [
      "100%|██████████| 346/346 [00:31<00:00, 11.13it/s]\n"
     ]
    },
    {
     "name": "stdout",
     "output_type": "stream",
     "text": [
      "  18 ,lr = 0.00001000  train loss = 0.19954406  train direct = 0.10416737  train contrastive = 0.09537669  val loss = 0.09624701  val direct = 0.08083226  val contrastive = 0.01541475  time = 00:00:31\n"
     ]
    },
    {
     "name": "stderr",
     "output_type": "stream",
     "text": [
      "100%|██████████| 346/346 [00:28<00:00, 12.27it/s]\n"
     ]
    },
    {
     "name": "stdout",
     "output_type": "stream",
     "text": [
      "  19 ,lr = 0.00001000  train loss = 0.19953770  train direct = 0.10416101  train contrastive = 0.09537669  val loss = 0.09606859  val direct = 0.08065384  val contrastive = 0.01541475  time = 00:00:28\n"
     ]
    },
    {
     "name": "stderr",
     "output_type": "stream",
     "text": [
      "100%|██████████| 346/346 [00:27<00:00, 12.43it/s]\n"
     ]
    },
    {
     "name": "stdout",
     "output_type": "stream",
     "text": [
      "  20 ,lr = 0.00001000  train loss = 0.19953211  train direct = 0.10415542  train contrastive = 0.09537669  val loss = 0.09589441  val direct = 0.08047966  val contrastive = 0.01541475  time = 00:00:27\n"
     ]
    },
    {
     "name": "stderr",
     "output_type": "stream",
     "text": [
      "100%|██████████| 346/346 [00:26<00:00, 13.23it/s]\n"
     ]
    },
    {
     "name": "stdout",
     "output_type": "stream",
     "text": [
      "  21 ,lr = 0.00001000  train loss = 0.19952793  train direct = 0.10415124  train contrastive = 0.09537669  val loss = 0.09575254  val direct = 0.08033779  val contrastive = 0.01541475  time = 00:00:26\n"
     ]
    },
    {
     "name": "stderr",
     "output_type": "stream",
     "text": [
      "100%|██████████| 346/346 [00:26<00:00, 12.88it/s]\n"
     ]
    },
    {
     "name": "stdout",
     "output_type": "stream",
     "text": [
      "  22 ,lr = 0.00001000  train loss = 0.19952400  train direct = 0.10414731  train contrastive = 0.09537669  val loss = 0.09560198  val direct = 0.08018723  val contrastive = 0.01541475  time = 00:00:26\n"
     ]
    },
    {
     "name": "stderr",
     "output_type": "stream",
     "text": [
      "100%|██████████| 346/346 [00:27<00:00, 12.41it/s]\n"
     ]
    },
    {
     "name": "stdout",
     "output_type": "stream",
     "text": [
      "  23 ,lr = 0.00001000  train loss = 0.19952001  train direct = 0.10414332  train contrastive = 0.09537669  val loss = 0.09544874  val direct = 0.08003399  val contrastive = 0.01541475  time = 00:00:27\n"
     ]
    },
    {
     "name": "stderr",
     "output_type": "stream",
     "text": [
      "100%|██████████| 346/346 [00:25<00:00, 13.34it/s]\n"
     ]
    },
    {
     "name": "stdout",
     "output_type": "stream",
     "text": [
      "  24 ,lr = 0.00001000  train loss = 0.19951606  train direct = 0.10413937  train contrastive = 0.09537669  val loss = 0.09529322  val direct = 0.07987847  val contrastive = 0.01541475  time = 00:00:25\n"
     ]
    },
    {
     "name": "stderr",
     "output_type": "stream",
     "text": [
      "100%|██████████| 346/346 [00:24<00:00, 14.03it/s]\n"
     ]
    },
    {
     "name": "stdout",
     "output_type": "stream",
     "text": [
      "  25 ,lr = 0.00001000  train loss = 0.19951344  train direct = 0.10413675  train contrastive = 0.09537669  val loss = 0.09518471  val direct = 0.07976996  val contrastive = 0.01541475  time = 00:00:24\n"
     ]
    },
    {
     "name": "stderr",
     "output_type": "stream",
     "text": [
      "100%|██████████| 346/346 [00:27<00:00, 12.68it/s]\n"
     ]
    },
    {
     "name": "stdout",
     "output_type": "stream",
     "text": [
      "  26 ,lr = 0.00001000  train loss = 0.19951013  train direct = 0.10413344  train contrastive = 0.09537669  val loss = 0.09504549  val direct = 0.07963075  val contrastive = 0.01541475  time = 00:00:27\n"
     ]
    },
    {
     "name": "stderr",
     "output_type": "stream",
     "text": [
      "100%|██████████| 346/346 [00:30<00:00, 11.30it/s]\n"
     ]
    },
    {
     "name": "stdout",
     "output_type": "stream",
     "text": [
      "  27 ,lr = 0.00001000  train loss = 0.19950813  train direct = 0.10413144  train contrastive = 0.09537669  val loss = 0.09495775  val direct = 0.07954300  val contrastive = 0.01541475  time = 00:00:30\n"
     ]
    },
    {
     "name": "stderr",
     "output_type": "stream",
     "text": [
      "100%|██████████| 346/346 [00:30<00:00, 11.38it/s]\n"
     ]
    },
    {
     "name": "stdout",
     "output_type": "stream",
     "text": [
      "  28 ,lr = 0.00001000  train loss = 0.19950519  train direct = 0.10412850  train contrastive = 0.09537669  val loss = 0.09480300  val direct = 0.07938825  val contrastive = 0.01541475  time = 00:00:30\n"
     ]
    },
    {
     "name": "stderr",
     "output_type": "stream",
     "text": [
      "100%|██████████| 346/346 [00:28<00:00, 12.23it/s]\n"
     ]
    },
    {
     "name": "stdout",
     "output_type": "stream",
     "text": [
      "  29 ,lr = 0.00001000  train loss = 0.19950436  train direct = 0.10412767  train contrastive = 0.09537669  val loss = 0.09475237  val direct = 0.07933762  val contrastive = 0.01541475  time = 00:00:28\n"
     ]
    },
    {
     "name": "stderr",
     "output_type": "stream",
     "text": [
      "100%|██████████| 346/346 [00:31<00:00, 11.15it/s]\n"
     ]
    },
    {
     "name": "stdout",
     "output_type": "stream",
     "text": [
      "  30 ,lr = 0.00001000  train loss = 0.19950302  train direct = 0.10412634  train contrastive = 0.09537669  val loss = 0.09467038  val direct = 0.07925563  val contrastive = 0.01541475  time = 00:00:31\n"
     ]
    },
    {
     "name": "stderr",
     "output_type": "stream",
     "text": [
      "100%|██████████| 346/346 [00:30<00:00, 11.52it/s]\n"
     ]
    },
    {
     "name": "stdout",
     "output_type": "stream",
     "text": [
      "  31 ,lr = 0.00001000  train loss = 0.19950196  train direct = 0.10412527  train contrastive = 0.09537669  val loss = 0.09460080  val direct = 0.07918606  val contrastive = 0.01541475  time = 00:00:30\n"
     ]
    },
    {
     "name": "stderr",
     "output_type": "stream",
     "text": [
      "100%|██████████| 346/346 [00:28<00:00, 12.16it/s]\n"
     ]
    },
    {
     "name": "stdout",
     "output_type": "stream",
     "text": [
      "  32 ,lr = 0.00001000  train loss = 0.19950013  train direct = 0.10412344  train contrastive = 0.09537669  val loss = 0.09448199  val direct = 0.07906724  val contrastive = 0.01541475  time = 00:00:28\n"
     ]
    },
    {
     "name": "stderr",
     "output_type": "stream",
     "text": [
      "100%|██████████| 346/346 [00:28<00:00, 11.96it/s]\n"
     ]
    },
    {
     "name": "stdout",
     "output_type": "stream",
     "text": [
      "  33 ,lr = 0.00001000  train loss = 0.19949915  train direct = 0.10412246  train contrastive = 0.09537669  val loss = 0.09441127  val direct = 0.07899652  val contrastive = 0.01541475  time = 00:00:28\n"
     ]
    },
    {
     "name": "stderr",
     "output_type": "stream",
     "text": [
      "100%|██████████| 346/346 [00:29<00:00, 11.82it/s]\n"
     ]
    },
    {
     "name": "stdout",
     "output_type": "stream",
     "text": [
      "  34 ,lr = 0.00001000  train loss = 0.19949845  train direct = 0.10412177  train contrastive = 0.09537669  val loss = 0.09435958  val direct = 0.07894483  val contrastive = 0.01541475  time = 00:00:29\n"
     ]
    },
    {
     "name": "stderr",
     "output_type": "stream",
     "text": [
      "100%|██████████| 346/346 [00:28<00:00, 11.98it/s]\n"
     ]
    },
    {
     "name": "stdout",
     "output_type": "stream",
     "text": [
      "  35 ,lr = 0.00001000  train loss = 0.19949717  train direct = 0.10412048  train contrastive = 0.09537669  val loss = 0.09426426  val direct = 0.07884951  val contrastive = 0.01541475  time = 00:00:28\n"
     ]
    },
    {
     "name": "stderr",
     "output_type": "stream",
     "text": [
      "100%|██████████| 346/346 [00:27<00:00, 12.54it/s]\n"
     ]
    },
    {
     "name": "stdout",
     "output_type": "stream",
     "text": [
      "  36 ,lr = 0.00001000  train loss = 0.19949628  train direct = 0.10411959  train contrastive = 0.09537669  val loss = 0.09419303  val direct = 0.07877828  val contrastive = 0.01541475  time = 00:00:27\n"
     ]
    },
    {
     "name": "stderr",
     "output_type": "stream",
     "text": [
      "100%|██████████| 346/346 [00:29<00:00, 11.74it/s]\n"
     ]
    },
    {
     "name": "stdout",
     "output_type": "stream",
     "text": [
      "  37 ,lr = 0.00001000  train loss = 0.19949587  train direct = 0.10411918  train contrastive = 0.09537669  val loss = 0.09416012  val direct = 0.07874537  val contrastive = 0.01541475  time = 00:00:29\n"
     ]
    },
    {
     "name": "stderr",
     "output_type": "stream",
     "text": [
      "100%|██████████| 346/346 [00:29<00:00, 11.86it/s]\n"
     ]
    },
    {
     "name": "stdout",
     "output_type": "stream",
     "text": [
      "  38 ,lr = 0.00001000  train loss = 0.19949520  train direct = 0.10411851  train contrastive = 0.09537669  val loss = 0.09409711  val direct = 0.07868236  val contrastive = 0.01541475  time = 00:00:29\n"
     ]
    },
    {
     "name": "stderr",
     "output_type": "stream",
     "text": [
      "100%|██████████| 346/346 [00:31<00:00, 11.12it/s]\n"
     ]
    },
    {
     "name": "stdout",
     "output_type": "stream",
     "text": [
      "  39 ,lr = 0.00001000  train loss = 0.19949471  train direct = 0.10411802  train contrastive = 0.09537669  val loss = 0.09404804  val direct = 0.07863329  val contrastive = 0.01541475  time = 00:00:31\n"
     ]
    },
    {
     "name": "stderr",
     "output_type": "stream",
     "text": [
      "100%|██████████| 346/346 [00:30<00:00, 11.50it/s]\n"
     ]
    },
    {
     "name": "stdout",
     "output_type": "stream",
     "text": [
      "  40 ,lr = 0.00001000  train loss = 0.19949446  train direct = 0.10411777  train contrastive = 0.09537669  val loss = 0.09402213  val direct = 0.07860738  val contrastive = 0.01541475  time = 00:00:30\n"
     ]
    },
    {
     "name": "stderr",
     "output_type": "stream",
     "text": [
      "100%|██████████| 346/346 [00:30<00:00, 11.29it/s]\n"
     ]
    },
    {
     "name": "stdout",
     "output_type": "stream",
     "text": [
      "  41 ,lr = 0.00001000  train loss = 0.19949399  train direct = 0.10411730  train contrastive = 0.09537669  val loss = 0.09397068  val direct = 0.07855593  val contrastive = 0.01541475  time = 00:00:30\n"
     ]
    },
    {
     "name": "stderr",
     "output_type": "stream",
     "text": [
      "100%|██████████| 346/346 [00:29<00:00, 11.56it/s]\n"
     ]
    },
    {
     "name": "stdout",
     "output_type": "stream",
     "text": [
      "  42 ,lr = 0.00001000  train loss = 0.19949368  train direct = 0.10411700  train contrastive = 0.09537669  val loss = 0.09393122  val direct = 0.07851647  val contrastive = 0.01541475  time = 00:00:29\n"
     ]
    },
    {
     "name": "stderr",
     "output_type": "stream",
     "text": [
      "100%|██████████| 346/346 [00:27<00:00, 12.44it/s]\n"
     ]
    },
    {
     "name": "stdout",
     "output_type": "stream",
     "text": [
      "  43 ,lr = 0.00001000  train loss = 0.19949337  train direct = 0.10411668  train contrastive = 0.09537669  val loss = 0.09388940  val direct = 0.07847465  val contrastive = 0.01541475  time = 00:00:27\n"
     ]
    },
    {
     "name": "stderr",
     "output_type": "stream",
     "text": [
      "100%|██████████| 346/346 [00:30<00:00, 11.19it/s]\n"
     ]
    },
    {
     "name": "stdout",
     "output_type": "stream",
     "text": [
      "  44 ,lr = 0.00001000  train loss = 0.19949314  train direct = 0.10411646  train contrastive = 0.09537669  val loss = 0.09386033  val direct = 0.07844558  val contrastive = 0.01541475  time = 00:00:30\n"
     ]
    },
    {
     "name": "stderr",
     "output_type": "stream",
     "text": [
      "100%|██████████| 346/346 [00:30<00:00, 11.31it/s]\n"
     ]
    },
    {
     "name": "stdout",
     "output_type": "stream",
     "text": [
      "  45 ,lr = 0.00001000  train loss = 0.19949269  train direct = 0.10411600  train contrastive = 0.09537669  val loss = 0.09379236  val direct = 0.07837761  val contrastive = 0.01541475  time = 00:00:30\n"
     ]
    },
    {
     "name": "stderr",
     "output_type": "stream",
     "text": [
      "100%|██████████| 346/346 [00:30<00:00, 11.32it/s]\n"
     ]
    },
    {
     "name": "stdout",
     "output_type": "stream",
     "text": [
      "  46 ,lr = 0.00001000  train loss = 0.19949268  train direct = 0.10411599  train contrastive = 0.09537669  val loss = 0.09379023  val direct = 0.07837548  val contrastive = 0.01541475  time = 00:00:30\n"
     ]
    },
    {
     "name": "stderr",
     "output_type": "stream",
     "text": [
      "100%|██████████| 346/346 [00:30<00:00, 11.42it/s]\n"
     ]
    },
    {
     "name": "stdout",
     "output_type": "stream",
     "text": [
      "  47 ,lr = 0.00001000  train loss = 0.19949231  train direct = 0.10411562  train contrastive = 0.09537669  val loss = 0.09372356  val direct = 0.07830881  val contrastive = 0.01541475  time = 00:00:30\n"
     ]
    },
    {
     "name": "stderr",
     "output_type": "stream",
     "text": [
      "100%|██████████| 346/346 [00:31<00:00, 10.97it/s]\n"
     ]
    },
    {
     "name": "stdout",
     "output_type": "stream",
     "text": [
      "  48 ,lr = 0.00001000  train loss = 0.19949225  train direct = 0.10411557  train contrastive = 0.09537669  val loss = 0.09371393  val direct = 0.07829918  val contrastive = 0.01541475  time = 00:00:31\n"
     ]
    },
    {
     "name": "stderr",
     "output_type": "stream",
     "text": [
      "100%|██████████| 346/346 [00:30<00:00, 11.28it/s]\n"
     ]
    },
    {
     "name": "stdout",
     "output_type": "stream",
     "text": [
      "  49 ,lr = 0.00001000  train loss = 0.19949201  train direct = 0.10411532  train contrastive = 0.09537669  val loss = 0.09366825  val direct = 0.07825350  val contrastive = 0.01541475  time = 00:00:30\n"
     ]
    },
    {
     "name": "stderr",
     "output_type": "stream",
     "text": [
      "100%|██████████| 346/346 [00:30<00:00, 11.39it/s]\n"
     ]
    },
    {
     "name": "stdout",
     "output_type": "stream",
     "text": [
      "  50 ,lr = 0.00001000  train loss = 0.19949193  train direct = 0.10411524  train contrastive = 0.09537669  val loss = 0.09365012  val direct = 0.07823537  val contrastive = 0.01541475  time = 00:00:30\n"
     ]
    },
    {
     "name": "stderr",
     "output_type": "stream",
     "text": [
      "100%|██████████| 346/346 [00:30<00:00, 11.35it/s]\n"
     ]
    },
    {
     "name": "stdout",
     "output_type": "stream",
     "text": [
      "  51 ,lr = 0.00001000  train loss = 0.19949187  train direct = 0.10411518  train contrastive = 0.09537669  val loss = 0.09363650  val direct = 0.07822175  val contrastive = 0.01541475  time = 00:00:30\n"
     ]
    },
    {
     "name": "stderr",
     "output_type": "stream",
     "text": [
      "100%|██████████| 346/346 [00:30<00:00, 11.52it/s]\n"
     ]
    },
    {
     "name": "stdout",
     "output_type": "stream",
     "text": [
      "  52 ,lr = 0.00001000  train loss = 0.19949182  train direct = 0.10411514  train contrastive = 0.09537669  val loss = 0.09362757  val direct = 0.07821282  val contrastive = 0.01541475  time = 00:00:30\n"
     ]
    },
    {
     "name": "stderr",
     "output_type": "stream",
     "text": [
      "100%|██████████| 346/346 [00:31<00:00, 10.96it/s]\n"
     ]
    },
    {
     "name": "stdout",
     "output_type": "stream",
     "text": [
      "  53 ,lr = 0.00001000  train loss = 0.19949151  train direct = 0.10411482  train contrastive = 0.09537669  val loss = 0.09355824  val direct = 0.07814349  val contrastive = 0.01541475  time = 00:00:31\n"
     ]
    },
    {
     "name": "stderr",
     "output_type": "stream",
     "text": [
      "100%|██████████| 346/346 [00:30<00:00, 11.26it/s]\n"
     ]
    },
    {
     "name": "stdout",
     "output_type": "stream",
     "text": [
      "  54 ,lr = 0.00001000  train loss = 0.19949175  train direct = 0.10411506  train contrastive = 0.09537669  val loss = 0.09361081  val direct = 0.07819607  val contrastive = 0.01541475  time = 00:00:30\n"
     ]
    },
    {
     "name": "stderr",
     "output_type": "stream",
     "text": [
      "100%|██████████| 346/346 [00:28<00:00, 12.12it/s]\n"
     ]
    },
    {
     "name": "stdout",
     "output_type": "stream",
     "text": [
      "  55 ,lr = 0.00001000  train loss = 0.19949143  train direct = 0.10411474  train contrastive = 0.09537669  val loss = 0.09354212  val direct = 0.07812737  val contrastive = 0.01541475  time = 00:00:28\n"
     ]
    },
    {
     "name": "stderr",
     "output_type": "stream",
     "text": [
      "100%|██████████| 346/346 [00:31<00:00, 10.90it/s]\n"
     ]
    },
    {
     "name": "stdout",
     "output_type": "stream",
     "text": [
      "  56 ,lr = 0.00001000  train loss = 0.19949131  train direct = 0.10411462  train contrastive = 0.09537669  val loss = 0.09351549  val direct = 0.07810074  val contrastive = 0.01541475  time = 00:00:31\n"
     ]
    },
    {
     "name": "stderr",
     "output_type": "stream",
     "text": [
      "100%|██████████| 346/346 [00:31<00:00, 11.09it/s]\n"
     ]
    },
    {
     "name": "stdout",
     "output_type": "stream",
     "text": [
      "  57 ,lr = 0.00001000  train loss = 0.19949124  train direct = 0.10411455  train contrastive = 0.09537669  val loss = 0.09349951  val direct = 0.07808476  val contrastive = 0.01541475  time = 00:00:31\n"
     ]
    },
    {
     "name": "stderr",
     "output_type": "stream",
     "text": [
      "100%|██████████| 346/346 [00:31<00:00, 10.87it/s]\n"
     ]
    },
    {
     "name": "stdout",
     "output_type": "stream",
     "text": [
      "  58 ,lr = 0.00001000  train loss = 0.19949118  train direct = 0.10411449  train contrastive = 0.09537669  val loss = 0.09348585  val direct = 0.07807110  val contrastive = 0.01541475  time = 00:00:31\n"
     ]
    },
    {
     "name": "stderr",
     "output_type": "stream",
     "text": [
      "100%|██████████| 346/346 [00:29<00:00, 11.68it/s]\n"
     ]
    },
    {
     "name": "stdout",
     "output_type": "stream",
     "text": [
      "  59 ,lr = 0.00001000  train loss = 0.19949109  train direct = 0.10411440  train contrastive = 0.09537669  val loss = 0.09346120  val direct = 0.07804645  val contrastive = 0.01541475  time = 00:00:29\n"
     ]
    },
    {
     "name": "stderr",
     "output_type": "stream",
     "text": [
      "100%|██████████| 346/346 [00:28<00:00, 11.97it/s]\n"
     ]
    },
    {
     "name": "stdout",
     "output_type": "stream",
     "text": [
      "  60 ,lr = 0.00001000  train loss = 0.19949100  train direct = 0.10411431  train contrastive = 0.09537669  val loss = 0.09343635  val direct = 0.07802160  val contrastive = 0.01541475  time = 00:00:28\n"
     ]
    },
    {
     "name": "stderr",
     "output_type": "stream",
     "text": [
      "100%|██████████| 346/346 [00:27<00:00, 12.68it/s]\n"
     ]
    },
    {
     "name": "stdout",
     "output_type": "stream",
     "text": [
      "  61 ,lr = 0.00001000  train loss = 0.19949102  train direct = 0.10411434  train contrastive = 0.09537669  val loss = 0.09344290  val direct = 0.07802815  val contrastive = 0.01541475  time = 00:00:27\n"
     ]
    },
    {
     "name": "stderr",
     "output_type": "stream",
     "text": [
      "100%|██████████| 346/346 [00:30<00:00, 11.21it/s]\n"
     ]
    },
    {
     "name": "stdout",
     "output_type": "stream",
     "text": [
      "  62 ,lr = 0.00001000  train loss = 0.19949093  train direct = 0.10411424  train contrastive = 0.09537669  val loss = 0.09340970  val direct = 0.07799495  val contrastive = 0.01541475  time = 00:00:30\n"
     ]
    },
    {
     "name": "stderr",
     "output_type": "stream",
     "text": [
      "100%|██████████| 346/346 [00:28<00:00, 12.23it/s]\n"
     ]
    },
    {
     "name": "stdout",
     "output_type": "stream",
     "text": [
      "  63 ,lr = 0.00001000  train loss = 0.19949091  train direct = 0.10411422  train contrastive = 0.09537669  val loss = 0.09340323  val direct = 0.07798848  val contrastive = 0.01541475  time = 00:00:28\n"
     ]
    },
    {
     "name": "stderr",
     "output_type": "stream",
     "text": [
      "100%|██████████| 346/346 [00:31<00:00, 10.82it/s]\n"
     ]
    },
    {
     "name": "stdout",
     "output_type": "stream",
     "text": [
      "  64 ,lr = 0.00001000  train loss = 0.19949086  train direct = 0.10411418  train contrastive = 0.09537669  val loss = 0.09338510  val direct = 0.07797035  val contrastive = 0.01541475  time = 00:00:31\n"
     ]
    },
    {
     "name": "stderr",
     "output_type": "stream",
     "text": [
      "100%|██████████| 346/346 [00:30<00:00, 11.44it/s]\n"
     ]
    },
    {
     "name": "stdout",
     "output_type": "stream",
     "text": [
      "  65 ,lr = 0.00001000  train loss = 0.19949085  train direct = 0.10411416  train contrastive = 0.09537669  val loss = 0.09338164  val direct = 0.07796689  val contrastive = 0.01541475  time = 00:00:30\n"
     ]
    },
    {
     "name": "stderr",
     "output_type": "stream",
     "text": [
      "100%|██████████| 346/346 [00:31<00:00, 11.12it/s]\n"
     ]
    },
    {
     "name": "stdout",
     "output_type": "stream",
     "text": [
      "  66 ,lr = 0.00001000  train loss = 0.19949086  train direct = 0.10411418  train contrastive = 0.09537669  val loss = 0.09338902  val direct = 0.07797427  val contrastive = 0.01541475  time = 00:00:31\n"
     ]
    },
    {
     "name": "stderr",
     "output_type": "stream",
     "text": [
      "100%|██████████| 346/346 [00:30<00:00, 11.50it/s]\n"
     ]
    },
    {
     "name": "stdout",
     "output_type": "stream",
     "text": [
      "  67 ,lr = 0.00001000  train loss = 0.19949074  train direct = 0.10411406  train contrastive = 0.09537669  val loss = 0.09334493  val direct = 0.07793018  val contrastive = 0.01541475  time = 00:00:30\n"
     ]
    },
    {
     "name": "stderr",
     "output_type": "stream",
     "text": [
      "100%|██████████| 346/346 [00:30<00:00, 11.51it/s]\n"
     ]
    },
    {
     "name": "stdout",
     "output_type": "stream",
     "text": [
      "  68 ,lr = 0.00001000  train loss = 0.19949077  train direct = 0.10411409  train contrastive = 0.09537668  val loss = 0.09336165  val direct = 0.07794690  val contrastive = 0.01541475  time = 00:00:30\n"
     ]
    },
    {
     "name": "stderr",
     "output_type": "stream",
     "text": [
      "100%|██████████| 346/346 [00:29<00:00, 11.61it/s]\n"
     ]
    },
    {
     "name": "stdout",
     "output_type": "stream",
     "text": [
      "  69 ,lr = 0.00001000  train loss = 0.19949063  train direct = 0.10411394  train contrastive = 0.09537668  val loss = 0.09330821  val direct = 0.07789346  val contrastive = 0.01541475  time = 00:00:29\n"
     ]
    },
    {
     "name": "stderr",
     "output_type": "stream",
     "text": [
      "100%|██████████| 346/346 [00:29<00:00, 11.87it/s]\n"
     ]
    },
    {
     "name": "stdout",
     "output_type": "stream",
     "text": [
      "  70 ,lr = 0.00001000  train loss = 0.19949059  train direct = 0.10411391  train contrastive = 0.09537668  val loss = 0.09330611  val direct = 0.07789136  val contrastive = 0.01541475  time = 00:00:29\n"
     ]
    },
    {
     "name": "stderr",
     "output_type": "stream",
     "text": [
      "100%|██████████| 346/346 [00:31<00:00, 10.95it/s]\n"
     ]
    },
    {
     "name": "stdout",
     "output_type": "stream",
     "text": [
      "  71 ,lr = 0.00001000  train loss = 0.19949056  train direct = 0.10411388  train contrastive = 0.09537668  val loss = 0.09331511  val direct = 0.07790037  val contrastive = 0.01541475  time = 00:00:31\n"
     ]
    },
    {
     "name": "stderr",
     "output_type": "stream",
     "text": [
      "100%|██████████| 346/346 [00:28<00:00, 12.34it/s]\n"
     ]
    },
    {
     "name": "stdout",
     "output_type": "stream",
     "text": [
      "  72 ,lr = 0.00001000  train loss = 0.19949043  train direct = 0.10411376  train contrastive = 0.09537667  val loss = 0.09327756  val direct = 0.07786281  val contrastive = 0.01541475  time = 00:00:28\n"
     ]
    },
    {
     "name": "stderr",
     "output_type": "stream",
     "text": [
      "100%|██████████| 346/346 [00:28<00:00, 12.17it/s]\n"
     ]
    },
    {
     "name": "stdout",
     "output_type": "stream",
     "text": [
      "  73 ,lr = 0.00001000  train loss = 0.19949029  train direct = 0.10411363  train contrastive = 0.09537666  val loss = 0.09326370  val direct = 0.07784895  val contrastive = 0.01541475  time = 00:00:28\n"
     ]
    },
    {
     "name": "stderr",
     "output_type": "stream",
     "text": [
      "100%|██████████| 346/346 [00:29<00:00, 11.67it/s]\n"
     ]
    },
    {
     "name": "stdout",
     "output_type": "stream",
     "text": [
      "  74 ,lr = 0.00001000  train loss = 0.19949011  train direct = 0.10411347  train contrastive = 0.09537664  val loss = 0.09327038  val direct = 0.07785563  val contrastive = 0.01541475  time = 00:00:29\n"
     ]
    },
    {
     "name": "stderr",
     "output_type": "stream",
     "text": [
      "100%|██████████| 346/346 [00:30<00:00, 11.47it/s]\n"
     ]
    },
    {
     "name": "stdout",
     "output_type": "stream",
     "text": [
      "  75 ,lr = 0.00001000  train loss = 0.19948975  train direct = 0.10411315  train contrastive = 0.09537661  val loss = 0.09325145  val direct = 0.07783670  val contrastive = 0.01541475  time = 00:00:30\n"
     ]
    },
    {
     "name": "stderr",
     "output_type": "stream",
     "text": [
      "100%|██████████| 346/346 [00:29<00:00, 11.74it/s]\n"
     ]
    },
    {
     "name": "stdout",
     "output_type": "stream",
     "text": [
      "  76 ,lr = 0.00001000  train loss = 0.19948927  train direct = 0.10411273  train contrastive = 0.09537655  val loss = 0.09328226  val direct = 0.07786751  val contrastive = 0.01541475  time = 00:00:29\n"
     ]
    },
    {
     "name": "stderr",
     "output_type": "stream",
     "text": [
      "100%|██████████| 346/346 [00:29<00:00, 11.91it/s]\n"
     ]
    },
    {
     "name": "stdout",
     "output_type": "stream",
     "text": [
      "  77 ,lr = 0.00001000  train loss = 0.19948831  train direct = 0.10411188  train contrastive = 0.09537644  val loss = 0.09324693  val direct = 0.07783218  val contrastive = 0.01541475  time = 00:00:29\n"
     ]
    },
    {
     "name": "stderr",
     "output_type": "stream",
     "text": [
      "100%|██████████| 346/346 [00:30<00:00, 11.39it/s]\n"
     ]
    },
    {
     "name": "stdout",
     "output_type": "stream",
     "text": [
      "  78 ,lr = 0.00001000  train loss = 0.19948667  train direct = 0.10411045  train contrastive = 0.09537622  val loss = 0.09325318  val direct = 0.07783842  val contrastive = 0.01541476  time = 00:00:30\n"
     ]
    },
    {
     "name": "stderr",
     "output_type": "stream",
     "text": [
      "100%|██████████| 346/346 [00:28<00:00, 12.20it/s]\n"
     ]
    },
    {
     "name": "stdout",
     "output_type": "stream",
     "text": [
      "  79 ,lr = 0.00001000  train loss = 0.19948336  train direct = 0.10410759  train contrastive = 0.09537577  val loss = 0.09320950  val direct = 0.07779472  val contrastive = 0.01541477  time = 00:00:28\n"
     ]
    },
    {
     "name": "stderr",
     "output_type": "stream",
     "text": [
      "100%|██████████| 346/346 [00:30<00:00, 11.30it/s]\n"
     ]
    },
    {
     "name": "stdout",
     "output_type": "stream",
     "text": [
      "  80 ,lr = 0.00001000  train loss = 0.19947650  train direct = 0.10410176  train contrastive = 0.09537474  val loss = 0.09318791  val direct = 0.07777311  val contrastive = 0.01541481  time = 00:00:30\n"
     ]
    },
    {
     "name": "stderr",
     "output_type": "stream",
     "text": [
      "100%|██████████| 346/346 [00:30<00:00, 11.31it/s]\n"
     ]
    },
    {
     "name": "stdout",
     "output_type": "stream",
     "text": [
      "  81 ,lr = 0.00001000  train loss = 0.19946016  train direct = 0.10408816  train contrastive = 0.09537199  val loss = 0.09315771  val direct = 0.07774280  val contrastive = 0.01541491  time = 00:00:30\n"
     ]
    },
    {
     "name": "stderr",
     "output_type": "stream",
     "text": [
      "100%|██████████| 346/346 [00:30<00:00, 11.51it/s]\n"
     ]
    },
    {
     "name": "stdout",
     "output_type": "stream",
     "text": [
      "  82 ,lr = 0.00001000  train loss = 0.19941587  train direct = 0.10405196  train contrastive = 0.09536391  val loss = 0.09301158  val direct = 0.07759645  val contrastive = 0.01541513  time = 00:00:30\n"
     ]
    },
    {
     "name": "stderr",
     "output_type": "stream",
     "text": [
      "100%|██████████| 346/346 [00:31<00:00, 10.88it/s]\n"
     ]
    },
    {
     "name": "stdout",
     "output_type": "stream",
     "text": [
      "  83 ,lr = 0.00001000  train loss = 0.19927699  train direct = 0.10394120  train contrastive = 0.09533579  val loss = 0.09267254  val direct = 0.07725717  val contrastive = 0.01541537  time = 00:00:31\n"
     ]
    },
    {
     "name": "stderr",
     "output_type": "stream",
     "text": [
      "100%|██████████| 346/346 [00:31<00:00, 10.87it/s]\n"
     ]
    },
    {
     "name": "stdout",
     "output_type": "stream",
     "text": [
      "  84 ,lr = 0.00001000  train loss = 0.19885469  train direct = 0.10361485  train contrastive = 0.09523985  val loss = 0.09165394  val direct = 0.07623720  val contrastive = 0.01541674  time = 00:00:31\n"
     ]
    },
    {
     "name": "stderr",
     "output_type": "stream",
     "text": [
      "100%|██████████| 346/346 [00:30<00:00, 11.27it/s]\n"
     ]
    },
    {
     "name": "stdout",
     "output_type": "stream",
     "text": [
      "  85 ,lr = 0.00001000  train loss = 0.19756357  train direct = 0.10264004  train contrastive = 0.09492353  val loss = 0.08851573  val direct = 0.07307113  val contrastive = 0.01544460  time = 00:00:30\n"
     ]
    },
    {
     "name": "stderr",
     "output_type": "stream",
     "text": [
      "100%|██████████| 346/346 [00:29<00:00, 11.55it/s]\n"
     ]
    },
    {
     "name": "stdout",
     "output_type": "stream",
     "text": [
      "  86 ,lr = 0.00001000  train loss = 0.19310408  train direct = 0.09940750  train contrastive = 0.09369658  val loss = 0.07801066  val direct = 0.06237792  val contrastive = 0.01563274  time = 00:00:29\n"
     ]
    },
    {
     "name": "stderr",
     "output_type": "stream",
     "text": [
      "100%|██████████| 346/346 [00:26<00:00, 13.11it/s]\n"
     ]
    },
    {
     "name": "stdout",
     "output_type": "stream",
     "text": [
      "  87 ,lr = 0.00001000  train loss = 0.18906133  train direct = 0.09677506  train contrastive = 0.09228626  val loss = 0.06950501  val direct = 0.05352347  val contrastive = 0.01598154  time = 00:00:26\n"
     ]
    },
    {
     "name": "stderr",
     "output_type": "stream",
     "text": [
      "100%|██████████| 346/346 [00:26<00:00, 12.89it/s]\n"
     ]
    },
    {
     "name": "stdout",
     "output_type": "stream",
     "text": [
      "  88 ,lr = 0.00001000  train loss = 0.18800924  train direct = 0.09597875  train contrastive = 0.09203049  val loss = 0.06866771  val direct = 0.05261027  val contrastive = 0.01605744  time = 00:00:26\n"
     ]
    },
    {
     "name": "stderr",
     "output_type": "stream",
     "text": [
      "100%|██████████| 346/346 [00:26<00:00, 13.23it/s]\n"
     ]
    },
    {
     "name": "stdout",
     "output_type": "stream",
     "text": [
      "  89 ,lr = 0.00001000  train loss = 0.18738837  train direct = 0.09536380  train contrastive = 0.09202457  val loss = 0.06854834  val direct = 0.05254107  val contrastive = 0.01600726  time = 00:00:26\n"
     ]
    },
    {
     "name": "stderr",
     "output_type": "stream",
     "text": [
      "100%|██████████| 346/346 [00:27<00:00, 12.78it/s]\n"
     ]
    },
    {
     "name": "stdout",
     "output_type": "stream",
     "text": [
      "  90 ,lr = 0.00001000  train loss = 0.18668342  train direct = 0.09482492  train contrastive = 0.09185851  val loss = 0.06835482  val direct = 0.05238671  val contrastive = 0.01596812  time = 00:00:27\n"
     ]
    },
    {
     "name": "stderr",
     "output_type": "stream",
     "text": [
      "100%|██████████| 346/346 [00:28<00:00, 12.12it/s]\n"
     ]
    },
    {
     "name": "stdout",
     "output_type": "stream",
     "text": [
      "  91 ,lr = 0.00001000  train loss = 0.18592634  train direct = 0.09432410  train contrastive = 0.09160224  val loss = 0.06816640  val direct = 0.05224216  val contrastive = 0.01592424  time = 00:00:28\n"
     ]
    },
    {
     "name": "stderr",
     "output_type": "stream",
     "text": [
      "100%|██████████| 346/346 [00:27<00:00, 12.43it/s]\n"
     ]
    },
    {
     "name": "stdout",
     "output_type": "stream",
     "text": [
      "  92 ,lr = 0.00001000  train loss = 0.18524583  train direct = 0.09384455  train contrastive = 0.09140127  val loss = 0.06799421  val direct = 0.05212673  val contrastive = 0.01586749  time = 00:00:27\n"
     ]
    },
    {
     "name": "stderr",
     "output_type": "stream",
     "text": [
      "100%|██████████| 346/346 [00:27<00:00, 12.59it/s]\n"
     ]
    },
    {
     "name": "stdout",
     "output_type": "stream",
     "text": [
      "  93 ,lr = 0.00001000  train loss = 0.18453566  train direct = 0.09338363  train contrastive = 0.09115203  val loss = 0.06786023  val direct = 0.05203948  val contrastive = 0.01582075  time = 00:00:27\n"
     ]
    },
    {
     "name": "stderr",
     "output_type": "stream",
     "text": [
      "100%|██████████| 346/346 [00:26<00:00, 12.88it/s]\n"
     ]
    },
    {
     "name": "stdout",
     "output_type": "stream",
     "text": [
      "  94 ,lr = 0.00001000  train loss = 0.18399800  train direct = 0.09294096  train contrastive = 0.09105704  val loss = 0.06762142  val direct = 0.05188301  val contrastive = 0.01573841  time = 00:00:26\n"
     ]
    },
    {
     "name": "stderr",
     "output_type": "stream",
     "text": [
      "100%|██████████| 346/346 [00:27<00:00, 12.62it/s]\n"
     ]
    },
    {
     "name": "stdout",
     "output_type": "stream",
     "text": [
      "  95 ,lr = 0.00001000  train loss = 0.18318852  train direct = 0.09246729  train contrastive = 0.09072123  val loss = 0.06746439  val direct = 0.05177846  val contrastive = 0.01568593  time = 00:00:27\n"
     ]
    },
    {
     "name": "stderr",
     "output_type": "stream",
     "text": [
      "100%|██████████| 346/346 [00:31<00:00, 11.11it/s]\n"
     ]
    },
    {
     "name": "stdout",
     "output_type": "stream",
     "text": [
      "  96 ,lr = 0.00001000  train loss = 0.18258098  train direct = 0.09203060  train contrastive = 0.09055038  val loss = 0.06723238  val direct = 0.05161390  val contrastive = 0.01561848  time = 00:00:31\n"
     ]
    },
    {
     "name": "stderr",
     "output_type": "stream",
     "text": [
      "100%|██████████| 346/346 [00:28<00:00, 11.97it/s]\n"
     ]
    },
    {
     "name": "stdout",
     "output_type": "stream",
     "text": [
      "  97 ,lr = 0.00001000  train loss = 0.18175330  train direct = 0.09159422  train contrastive = 0.09015908  val loss = 0.06718093  val direct = 0.05160872  val contrastive = 0.01557221  time = 00:00:28\n"
     ]
    },
    {
     "name": "stderr",
     "output_type": "stream",
     "text": [
      "100%|██████████| 346/346 [00:27<00:00, 12.47it/s]\n"
     ]
    },
    {
     "name": "stdout",
     "output_type": "stream",
     "text": [
      "  98 ,lr = 0.00001000  train loss = 0.18115529  train direct = 0.09115509  train contrastive = 0.09000020  val loss = 0.06690830  val direct = 0.05140594  val contrastive = 0.01550235  time = 00:00:27\n"
     ]
    },
    {
     "name": "stderr",
     "output_type": "stream",
     "text": [
      "100%|██████████| 346/346 [00:27<00:00, 12.68it/s]\n"
     ]
    },
    {
     "name": "stdout",
     "output_type": "stream",
     "text": [
      "  99 ,lr = 0.00001000  train loss = 0.18043591  train direct = 0.09072644  train contrastive = 0.08970947  val loss = 0.06676775  val direct = 0.05132220  val contrastive = 0.01544555  time = 00:00:27\n"
     ]
    },
    {
     "name": "stderr",
     "output_type": "stream",
     "text": [
      "100%|██████████| 346/346 [00:26<00:00, 13.07it/s]\n"
     ]
    },
    {
     "name": "stdout",
     "output_type": "stream",
     "text": [
      " 100 ,lr = 0.00001000  train loss = 0.17970263  train direct = 0.09028236  train contrastive = 0.08942027  val loss = 0.06651579  val direct = 0.05113519  val contrastive = 0.01538060  time = 00:00:26\n"
     ]
    }
   ],
   "source": [
    "run_sigopt_experiment(\n",
    "    struct_type=\"relaxed\",\n",
    "    model_type=\"e3nn\",\n",
    "    gpu_num=0,\n",
    "    obs_budget=1,\n",
    "    training_fraction=0.125,\n",
    "    training_seed=0\n",
    ")"
   ]
  },
  {
   "cell_type": "markdown",
   "metadata": {},
   "source": [
    "# Painn"
   ]
  },
  {
   "cell_type": "code",
   "execution_count": 4,
   "metadata": {},
   "outputs": [
    {
     "name": "stdout",
     "output_type": "stream",
     "text": [
      "Loaded data\n",
      "Completed data processing\n",
      "Created a new SigOpt experiment 'dft_e_hull_htvs_data_unrelaxed_Painn_TrainingFraction0.125' with ID: -1\n",
      "\n",
      "========================\n",
      "Sigopt experiment count # 0\n"
     ]
    },
    {
     "name": "stderr",
     "output_type": "stream",
     "text": [
      "100%|██████████| 3111/3111 [00:00<00:00, 3688.12it/s]\n",
      "100%|██████████| 3111/3111 [05:19<00:00,  9.75it/s]\n",
      "100%|██████████| 3111/3111 [00:00<00:00, 12536.72it/s]\n",
      "100%|██████████| 1277/1277 [00:00<00:00, 3878.43it/s]\n",
      "100%|██████████| 1277/1277 [02:14<00:00,  9.50it/s]\n",
      "100%|██████████| 1277/1277 [00:00<00:00, 9189.39it/s]\n"
     ]
    },
    {
     "name": "stdout",
     "output_type": "stream",
     "text": [
      " Time | Epoch | Learning rate | Train loss | Validation loss | MAE_dft_e_hull | GPU Memory (MB)\n"
     ]
    },
    {
     "name": "stderr",
     "output_type": "stream",
     "text": [
      " 99%|█████████▉| 194/195 [00:18<00:00, 10.22it/s]\n"
     ]
    },
    {
     "name": "stdout",
     "output_type": "stream",
     "text": [
      "38:15 |     1 |     1.000e-04 |     0.3612 |          0.1723 |         0.1723 |            2465\n"
     ]
    },
    {
     "name": "stderr",
     "output_type": "stream",
     "text": [
      " 99%|█████████▉| 194/195 [00:14<00:00, 13.41it/s]\n"
     ]
    },
    {
     "name": "stdout",
     "output_type": "stream",
     "text": [
      "38:39 |     2 |     1.000e-04 |     0.1134 |          0.0957 |         0.0957 |            2465\n"
     ]
    },
    {
     "name": "stderr",
     "output_type": "stream",
     "text": [
      " 99%|█████████▉| 194/195 [00:12<00:00, 15.74it/s]\n"
     ]
    },
    {
     "name": "stdout",
     "output_type": "stream",
     "text": [
      "39:00 |     3 |     1.000e-04 |     0.1011 |          0.0579 |         0.0579 |            2465\n"
     ]
    },
    {
     "name": "stderr",
     "output_type": "stream",
     "text": [
      " 99%|█████████▉| 194/195 [00:12<00:00, 15.82it/s]\n"
     ]
    },
    {
     "name": "stdout",
     "output_type": "stream",
     "text": [
      "39:21 |     4 |     1.000e-04 |     0.0964 |          0.0537 |         0.0537 |            2465\n"
     ]
    },
    {
     "name": "stderr",
     "output_type": "stream",
     "text": [
      " 99%|█████████▉| 194/195 [00:12<00:00, 15.72it/s]\n"
     ]
    },
    {
     "name": "stdout",
     "output_type": "stream",
     "text": [
      "39:42 |     5 |     1.000e-04 |     0.1071 |          0.0509 |         0.0509 |            2465\n"
     ]
    },
    {
     "name": "stderr",
     "output_type": "stream",
     "text": [
      " 99%|█████████▉| 194/195 [00:12<00:00, 15.80it/s]\n"
     ]
    },
    {
     "name": "stdout",
     "output_type": "stream",
     "text": [
      "40:04 |     6 |     1.000e-04 |     0.0964 |          0.0493 |         0.0493 |            2465\n"
     ]
    },
    {
     "name": "stderr",
     "output_type": "stream",
     "text": [
      " 99%|█████████▉| 194/195 [00:12<00:00, 15.79it/s]\n"
     ]
    },
    {
     "name": "stdout",
     "output_type": "stream",
     "text": [
      "40:25 |     7 |     1.000e-04 |     0.0892 |          0.0706 |         0.0706 |            2465\n"
     ]
    },
    {
     "name": "stderr",
     "output_type": "stream",
     "text": [
      " 99%|█████████▉| 194/195 [00:12<00:00, 15.83it/s]\n"
     ]
    },
    {
     "name": "stdout",
     "output_type": "stream",
     "text": [
      "40:46 |     8 |     1.000e-04 |     0.0874 |          0.1219 |         0.1219 |            2465\n"
     ]
    },
    {
     "name": "stderr",
     "output_type": "stream",
     "text": [
      " 99%|█████████▉| 194/195 [00:12<00:00, 15.78it/s]\n"
     ]
    },
    {
     "name": "stdout",
     "output_type": "stream",
     "text": [
      "41:08 |     9 |     1.000e-04 |     0.0892 |          0.0575 |         0.0575 |            2465\n"
     ]
    },
    {
     "name": "stderr",
     "output_type": "stream",
     "text": [
      " 99%|█████████▉| 194/195 [00:12<00:00, 15.63it/s]\n"
     ]
    },
    {
     "name": "stdout",
     "output_type": "stream",
     "text": [
      "41:29 |    10 |     1.000e-04 |     0.0831 |          0.0924 |         0.0924 |            2465\n"
     ]
    },
    {
     "name": "stderr",
     "output_type": "stream",
     "text": [
      " 99%|█████████▉| 194/195 [00:12<00:00, 15.61it/s]\n"
     ]
    },
    {
     "name": "stdout",
     "output_type": "stream",
     "text": [
      "41:51 |    11 |     1.000e-04 |     0.0837 |          0.1025 |         0.1025 |            2465\n"
     ]
    },
    {
     "name": "stderr",
     "output_type": "stream",
     "text": [
      " 99%|█████████▉| 194/195 [00:12<00:00, 15.74it/s]\n"
     ]
    },
    {
     "name": "stdout",
     "output_type": "stream",
     "text": [
      "42:12 |    12 |     1.000e-04 |     0.0830 |          0.0645 |         0.0645 |            2465\n"
     ]
    },
    {
     "name": "stderr",
     "output_type": "stream",
     "text": [
      " 99%|█████████▉| 194/195 [00:12<00:00, 15.57it/s]\n"
     ]
    },
    {
     "name": "stdout",
     "output_type": "stream",
     "text": [
      "42:44 |    13 |     1.000e-04 |     0.0820 |          0.0553 |         0.0553 |            2465\n"
     ]
    },
    {
     "name": "stderr",
     "output_type": "stream",
     "text": [
      " 99%|█████████▉| 194/195 [00:19<00:00, 10.10it/s]\n"
     ]
    },
    {
     "name": "stdout",
     "output_type": "stream",
     "text": [
      "43:25 |    14 |     1.000e-04 |     0.0783 |          0.0463 |         0.0463 |            2465\n"
     ]
    },
    {
     "name": "stderr",
     "output_type": "stream",
     "text": [
      " 99%|█████████▉| 194/195 [00:20<00:00,  9.57it/s]\n"
     ]
    },
    {
     "name": "stdout",
     "output_type": "stream",
     "text": [
      "44:07 |    15 |     1.000e-04 |     0.0772 |          0.0516 |         0.0516 |            2465\n"
     ]
    },
    {
     "name": "stderr",
     "output_type": "stream",
     "text": [
      " 99%|█████████▉| 194/195 [00:17<00:00, 11.05it/s]\n"
     ]
    },
    {
     "name": "stdout",
     "output_type": "stream",
     "text": [
      "44:34 |    16 |     1.000e-04 |     0.0762 |          0.0583 |         0.0583 |            2465\n"
     ]
    },
    {
     "name": "stderr",
     "output_type": "stream",
     "text": [
      " 99%|█████████▉| 194/195 [00:12<00:00, 15.69it/s]\n"
     ]
    },
    {
     "name": "stdout",
     "output_type": "stream",
     "text": [
      "44:55 |    17 |     1.000e-04 |     0.0791 |          0.0664 |         0.0664 |            2465\n"
     ]
    },
    {
     "name": "stderr",
     "output_type": "stream",
     "text": [
      " 99%|█████████▉| 194/195 [00:12<00:00, 15.77it/s]\n"
     ]
    },
    {
     "name": "stdout",
     "output_type": "stream",
     "text": [
      "45:16 |    18 |     1.000e-04 |     0.0763 |          0.0636 |         0.0636 |            2465\n"
     ]
    },
    {
     "name": "stderr",
     "output_type": "stream",
     "text": [
      " 99%|█████████▉| 194/195 [00:12<00:00, 15.77it/s]\n"
     ]
    },
    {
     "name": "stdout",
     "output_type": "stream",
     "text": [
      "45:37 |    19 |     1.000e-04 |     0.0789 |          0.1211 |         0.1211 |            2465\n"
     ]
    },
    {
     "name": "stderr",
     "output_type": "stream",
     "text": [
      " 99%|█████████▉| 194/195 [00:12<00:00, 15.83it/s]\n"
     ]
    },
    {
     "name": "stdout",
     "output_type": "stream",
     "text": [
      "45:58 |    20 |     1.000e-04 |     0.0771 |          0.0489 |         0.0489 |            2465\n"
     ]
    },
    {
     "name": "stderr",
     "output_type": "stream",
     "text": [
      " 99%|█████████▉| 194/195 [00:12<00:00, 15.79it/s]\n"
     ]
    },
    {
     "name": "stdout",
     "output_type": "stream",
     "text": [
      "46:19 |    21 |     1.000e-04 |     0.0747 |          0.0630 |         0.0630 |            2465\n"
     ]
    },
    {
     "name": "stderr",
     "output_type": "stream",
     "text": [
      " 99%|█████████▉| 194/195 [00:12<00:00, 15.75it/s]\n"
     ]
    },
    {
     "name": "stdout",
     "output_type": "stream",
     "text": [
      "46:40 |    22 |     1.000e-04 |     0.0687 |          0.0611 |         0.0611 |            2465\n"
     ]
    },
    {
     "name": "stderr",
     "output_type": "stream",
     "text": [
      " 99%|█████████▉| 194/195 [00:12<00:00, 15.80it/s]\n"
     ]
    },
    {
     "name": "stdout",
     "output_type": "stream",
     "text": [
      "47:01 |    23 |     1.000e-04 |     0.0736 |          0.0416 |         0.0416 |            2465\n"
     ]
    },
    {
     "name": "stderr",
     "output_type": "stream",
     "text": [
      " 99%|█████████▉| 194/195 [00:12<00:00, 15.80it/s]\n"
     ]
    },
    {
     "name": "stdout",
     "output_type": "stream",
     "text": [
      "47:23 |    24 |     1.000e-04 |     0.0714 |          0.0357 |         0.0357 |            2465\n"
     ]
    },
    {
     "name": "stderr",
     "output_type": "stream",
     "text": [
      " 99%|█████████▉| 194/195 [00:17<00:00, 11.02it/s]\n"
     ]
    },
    {
     "name": "stdout",
     "output_type": "stream",
     "text": [
      "48:05 |    25 |     1.000e-04 |     0.0711 |          0.0410 |         0.0410 |            2465\n"
     ]
    },
    {
     "name": "stderr",
     "output_type": "stream",
     "text": [
      " 99%|█████████▉| 194/195 [00:15<00:00, 12.30it/s]\n"
     ]
    },
    {
     "name": "stdout",
     "output_type": "stream",
     "text": [
      "48:45 |    26 |     1.000e-04 |     0.0687 |          0.0500 |         0.0500 |            2465\n"
     ]
    },
    {
     "name": "stderr",
     "output_type": "stream",
     "text": [
      " 99%|█████████▉| 194/195 [00:17<00:00, 11.11it/s]\n"
     ]
    },
    {
     "name": "stdout",
     "output_type": "stream",
     "text": [
      "49:42 |    27 |     1.000e-04 |     0.0677 |          0.0434 |         0.0434 |            2465\n"
     ]
    },
    {
     "name": "stderr",
     "output_type": "stream",
     "text": [
      " 99%|█████████▉| 194/195 [00:23<00:00,  8.25it/s]\n"
     ]
    },
    {
     "name": "stdout",
     "output_type": "stream",
     "text": [
      "50:48 |    28 |     1.000e-04 |     0.0653 |          0.0348 |         0.0348 |            2465\n"
     ]
    },
    {
     "name": "stderr",
     "output_type": "stream",
     "text": [
      " 99%|█████████▉| 194/195 [00:22<00:00,  8.68it/s]\n"
     ]
    },
    {
     "name": "stdout",
     "output_type": "stream",
     "text": [
      "51:38 |    29 |     1.000e-04 |     0.0648 |          0.0368 |         0.0368 |            2465\n"
     ]
    },
    {
     "name": "stderr",
     "output_type": "stream",
     "text": [
      " 99%|█████████▉| 194/195 [00:14<00:00, 13.15it/s]\n"
     ]
    },
    {
     "name": "stdout",
     "output_type": "stream",
     "text": [
      "52:18 |    30 |     1.000e-04 |     0.0698 |          0.0507 |         0.0507 |            2465\n"
     ]
    },
    {
     "name": "stderr",
     "output_type": "stream",
     "text": [
      " 99%|█████████▉| 194/195 [00:16<00:00, 11.97it/s]\n"
     ]
    },
    {
     "name": "stdout",
     "output_type": "stream",
     "text": [
      "52:58 |    31 |     1.000e-04 |     0.0638 |          0.0373 |         0.0373 |            2465\n"
     ]
    },
    {
     "name": "stderr",
     "output_type": "stream",
     "text": [
      " 99%|█████████▉| 194/195 [00:16<00:00, 11.93it/s]\n"
     ]
    },
    {
     "name": "stdout",
     "output_type": "stream",
     "text": [
      "53:38 |    32 |     1.000e-04 |     0.0619 |          0.0495 |         0.0495 |            2465\n"
     ]
    },
    {
     "name": "stderr",
     "output_type": "stream",
     "text": [
      " 99%|█████████▉| 194/195 [00:15<00:00, 12.19it/s]\n"
     ]
    },
    {
     "name": "stdout",
     "output_type": "stream",
     "text": [
      "54:19 |    33 |     1.000e-04 |     0.0627 |          0.0373 |         0.0373 |            2465\n"
     ]
    },
    {
     "name": "stderr",
     "output_type": "stream",
     "text": [
      " 99%|█████████▉| 194/195 [00:14<00:00, 13.43it/s]\n"
     ]
    },
    {
     "name": "stdout",
     "output_type": "stream",
     "text": [
      "54:56 |    34 |     1.000e-04 |     0.0599 |          0.0389 |         0.0389 |            2465\n"
     ]
    },
    {
     "name": "stderr",
     "output_type": "stream",
     "text": [
      " 99%|█████████▉| 194/195 [00:14<00:00, 13.24it/s]\n"
     ]
    },
    {
     "name": "stdout",
     "output_type": "stream",
     "text": [
      "55:34 |    35 |     1.000e-04 |     0.0659 |          0.0714 |         0.0714 |            2465\n"
     ]
    },
    {
     "name": "stderr",
     "output_type": "stream",
     "text": [
      " 99%|█████████▉| 194/195 [00:15<00:00, 12.69it/s]\n"
     ]
    },
    {
     "name": "stdout",
     "output_type": "stream",
     "text": [
      "56:13 |    36 |     1.000e-04 |     0.0626 |          0.0327 |         0.0327 |            2465\n"
     ]
    },
    {
     "name": "stderr",
     "output_type": "stream",
     "text": [
      " 99%|█████████▉| 194/195 [00:16<00:00, 11.84it/s]\n"
     ]
    },
    {
     "name": "stdout",
     "output_type": "stream",
     "text": [
      "56:53 |    37 |     1.000e-04 |     0.0612 |          0.0466 |         0.0466 |            2465\n"
     ]
    },
    {
     "name": "stderr",
     "output_type": "stream",
     "text": [
      " 99%|█████████▉| 194/195 [00:12<00:00, 14.95it/s]\n"
     ]
    },
    {
     "name": "stdout",
     "output_type": "stream",
     "text": [
      "57:15 |    38 |     1.000e-04 |     0.0596 |          0.0481 |         0.0481 |            2465\n"
     ]
    },
    {
     "name": "stderr",
     "output_type": "stream",
     "text": [
      " 99%|█████████▉| 194/195 [00:12<00:00, 15.80it/s]\n"
     ]
    },
    {
     "name": "stdout",
     "output_type": "stream",
     "text": [
      "57:36 |    39 |     1.000e-04 |     0.0612 |          0.0361 |         0.0361 |            2465\n"
     ]
    },
    {
     "name": "stderr",
     "output_type": "stream",
     "text": [
      " 99%|█████████▉| 194/195 [00:12<00:00, 15.85it/s]\n"
     ]
    },
    {
     "name": "stdout",
     "output_type": "stream",
     "text": [
      "57:57 |    40 |     1.000e-04 |     0.0611 |          0.0398 |         0.0398 |            2465\n"
     ]
    },
    {
     "name": "stderr",
     "output_type": "stream",
     "text": [
      " 99%|█████████▉| 194/195 [00:12<00:00, 15.84it/s]\n"
     ]
    },
    {
     "name": "stdout",
     "output_type": "stream",
     "text": [
      "58:18 |    41 |     1.000e-04 |     0.0575 |          0.0357 |         0.0357 |            2465\n"
     ]
    },
    {
     "name": "stderr",
     "output_type": "stream",
     "text": [
      " 99%|█████████▉| 194/195 [00:12<00:00, 15.99it/s]\n"
     ]
    },
    {
     "name": "stdout",
     "output_type": "stream",
     "text": [
      "58:39 |    42 |     1.000e-04 |     0.0587 |          0.0362 |         0.0362 |            2465\n"
     ]
    },
    {
     "name": "stderr",
     "output_type": "stream",
     "text": [
      " 99%|█████████▉| 194/195 [00:12<00:00, 15.65it/s]\n"
     ]
    },
    {
     "name": "stdout",
     "output_type": "stream",
     "text": [
      "59:00 |    43 |     1.000e-04 |     0.0594 |          0.0432 |         0.0432 |            2465\n"
     ]
    },
    {
     "name": "stderr",
     "output_type": "stream",
     "text": [
      " 99%|█████████▉| 194/195 [00:12<00:00, 15.79it/s]\n"
     ]
    },
    {
     "name": "stdout",
     "output_type": "stream",
     "text": [
      "59:21 |    44 |     1.000e-04 |     0.0620 |          0.0601 |         0.0601 |            2465\n"
     ]
    },
    {
     "name": "stderr",
     "output_type": "stream",
     "text": [
      " 99%|█████████▉| 194/195 [00:12<00:00, 15.80it/s]\n"
     ]
    },
    {
     "name": "stdout",
     "output_type": "stream",
     "text": [
      "59:42 |    45 |     1.000e-04 |     0.0581 |          0.0394 |         0.0394 |            2465\n"
     ]
    },
    {
     "name": "stderr",
     "output_type": "stream",
     "text": [
      " 99%|█████████▉| 194/195 [00:12<00:00, 15.78it/s]\n"
     ]
    },
    {
     "name": "stdout",
     "output_type": "stream",
     "text": [
      "00:03 |    46 |     1.000e-04 |     0.0600 |          0.0475 |         0.0475 |            2465\n"
     ]
    },
    {
     "name": "stderr",
     "output_type": "stream",
     "text": [
      " 99%|█████████▉| 194/195 [00:12<00:00, 15.89it/s]\n"
     ]
    },
    {
     "name": "stdout",
     "output_type": "stream",
     "text": [
      "00:25 |    47 |     1.000e-04 |     0.0581 |          0.0412 |         0.0412 |            2465\n"
     ]
    },
    {
     "name": "stderr",
     "output_type": "stream",
     "text": [
      " 99%|█████████▉| 194/195 [00:12<00:00, 15.78it/s]\n"
     ]
    },
    {
     "name": "stdout",
     "output_type": "stream",
     "text": [
      "00:46 |    48 |     5.000e-05 |     0.0513 |          0.0344 |         0.0344 |            2465\n"
     ]
    },
    {
     "name": "stderr",
     "output_type": "stream",
     "text": [
      " 99%|█████████▉| 194/195 [00:12<00:00, 15.83it/s]\n"
     ]
    },
    {
     "name": "stdout",
     "output_type": "stream",
     "text": [
      "01:07 |    49 |     5.000e-05 |     0.0491 |          0.0355 |         0.0355 |            2465\n"
     ]
    },
    {
     "name": "stderr",
     "output_type": "stream",
     "text": [
      " 99%|█████████▉| 194/195 [00:12<00:00, 15.79it/s]\n"
     ]
    },
    {
     "name": "stdout",
     "output_type": "stream",
     "text": [
      "01:28 |    50 |     5.000e-05 |     0.0500 |          0.0451 |         0.0451 |            2465\n"
     ]
    },
    {
     "name": "stderr",
     "output_type": "stream",
     "text": [
      " 99%|█████████▉| 194/195 [00:12<00:00, 15.75it/s]\n"
     ]
    },
    {
     "name": "stdout",
     "output_type": "stream",
     "text": [
      "01:49 |    51 |     5.000e-05 |     0.0498 |          0.0352 |         0.0352 |            2465\n"
     ]
    },
    {
     "name": "stderr",
     "output_type": "stream",
     "text": [
      " 99%|█████████▉| 194/195 [00:12<00:00, 15.73it/s]\n"
     ]
    },
    {
     "name": "stdout",
     "output_type": "stream",
     "text": [
      "02:10 |    52 |     5.000e-05 |     0.0492 |          0.0436 |         0.0436 |            2465\n"
     ]
    },
    {
     "name": "stderr",
     "output_type": "stream",
     "text": [
      " 99%|█████████▉| 194/195 [00:12<00:00, 15.94it/s]\n"
     ]
    },
    {
     "name": "stdout",
     "output_type": "stream",
     "text": [
      "02:31 |    53 |     5.000e-05 |     0.0508 |          0.0380 |         0.0380 |            2465\n"
     ]
    },
    {
     "name": "stderr",
     "output_type": "stream",
     "text": [
      " 99%|█████████▉| 194/195 [00:12<00:00, 15.77it/s]\n"
     ]
    },
    {
     "name": "stdout",
     "output_type": "stream",
     "text": [
      "02:52 |    54 |     5.000e-05 |     0.0489 |          0.0342 |         0.0342 |            2465\n"
     ]
    },
    {
     "name": "stderr",
     "output_type": "stream",
     "text": [
      " 99%|█████████▉| 194/195 [00:12<00:00, 15.85it/s]\n"
     ]
    },
    {
     "name": "stdout",
     "output_type": "stream",
     "text": [
      "03:13 |    55 |     5.000e-05 |     0.0479 |          0.0337 |         0.0337 |            2465\n"
     ]
    },
    {
     "name": "stderr",
     "output_type": "stream",
     "text": [
      " 99%|█████████▉| 194/195 [00:12<00:00, 15.91it/s]\n"
     ]
    },
    {
     "name": "stdout",
     "output_type": "stream",
     "text": [
      "03:33 |    56 |     5.000e-05 |     0.0484 |          0.0320 |         0.0320 |            2465\n"
     ]
    },
    {
     "name": "stderr",
     "output_type": "stream",
     "text": [
      " 99%|█████████▉| 194/195 [00:11<00:00, 16.37it/s]\n"
     ]
    },
    {
     "name": "stdout",
     "output_type": "stream",
     "text": [
      "03:54 |    57 |     5.000e-05 |     0.0482 |          0.0345 |         0.0345 |            2465\n"
     ]
    },
    {
     "name": "stderr",
     "output_type": "stream",
     "text": [
      " 99%|█████████▉| 194/195 [00:12<00:00, 15.72it/s]\n"
     ]
    },
    {
     "name": "stdout",
     "output_type": "stream",
     "text": [
      "04:16 |    58 |     5.000e-05 |     0.0482 |          0.0369 |         0.0369 |            2465\n"
     ]
    },
    {
     "name": "stderr",
     "output_type": "stream",
     "text": [
      " 99%|█████████▉| 194/195 [00:12<00:00, 15.74it/s]\n"
     ]
    },
    {
     "name": "stdout",
     "output_type": "stream",
     "text": [
      "04:37 |    59 |     5.000e-05 |     0.0478 |          0.0351 |         0.0351 |            2465\n"
     ]
    },
    {
     "name": "stderr",
     "output_type": "stream",
     "text": [
      " 99%|█████████▉| 194/195 [00:12<00:00, 15.68it/s]\n"
     ]
    },
    {
     "name": "stdout",
     "output_type": "stream",
     "text": [
      "04:58 |    60 |     5.000e-05 |     0.0490 |          0.0443 |         0.0443 |            2465\n"
     ]
    },
    {
     "name": "stderr",
     "output_type": "stream",
     "text": [
      " 99%|█████████▉| 194/195 [00:12<00:00, 15.91it/s]\n"
     ]
    },
    {
     "name": "stdout",
     "output_type": "stream",
     "text": [
      "05:19 |    61 |     5.000e-05 |     0.0494 |          0.0469 |         0.0469 |            2465\n"
     ]
    },
    {
     "name": "stderr",
     "output_type": "stream",
     "text": [
      " 99%|█████████▉| 194/195 [00:12<00:00, 15.82it/s]\n"
     ]
    },
    {
     "name": "stdout",
     "output_type": "stream",
     "text": [
      "05:40 |    62 |     5.000e-05 |     0.0479 |          0.0343 |         0.0343 |            2465\n"
     ]
    },
    {
     "name": "stderr",
     "output_type": "stream",
     "text": [
      " 99%|█████████▉| 194/195 [00:12<00:00, 15.75it/s]\n"
     ]
    },
    {
     "name": "stdout",
     "output_type": "stream",
     "text": [
      "06:01 |    63 |     5.000e-05 |     0.0476 |          0.0380 |         0.0380 |            2465\n"
     ]
    },
    {
     "name": "stderr",
     "output_type": "stream",
     "text": [
      " 99%|█████████▉| 194/195 [00:12<00:00, 15.83it/s]\n"
     ]
    },
    {
     "name": "stdout",
     "output_type": "stream",
     "text": [
      "06:22 |    64 |     5.000e-05 |     0.0500 |          0.0364 |         0.0364 |            2465\n"
     ]
    },
    {
     "name": "stderr",
     "output_type": "stream",
     "text": [
      " 99%|█████████▉| 194/195 [00:12<00:00, 15.76it/s]\n"
     ]
    },
    {
     "name": "stdout",
     "output_type": "stream",
     "text": [
      "06:43 |    65 |     5.000e-05 |     0.0462 |          0.0344 |         0.0344 |            2465\n"
     ]
    },
    {
     "name": "stderr",
     "output_type": "stream",
     "text": [
      " 99%|█████████▉| 194/195 [00:12<00:00, 15.82it/s]\n"
     ]
    },
    {
     "name": "stdout",
     "output_type": "stream",
     "text": [
      "07:04 |    66 |     5.000e-05 |     0.0476 |          0.0347 |         0.0347 |            2465\n"
     ]
    },
    {
     "name": "stderr",
     "output_type": "stream",
     "text": [
      " 99%|█████████▉| 194/195 [00:12<00:00, 15.70it/s]\n"
     ]
    },
    {
     "name": "stdout",
     "output_type": "stream",
     "text": [
      "07:25 |    67 |     5.000e-05 |     0.0471 |          0.0342 |         0.0342 |            2465\n"
     ]
    },
    {
     "name": "stderr",
     "output_type": "stream",
     "text": [
      " 99%|█████████▉| 194/195 [00:12<00:00, 15.70it/s]\n"
     ]
    },
    {
     "name": "stdout",
     "output_type": "stream",
     "text": [
      "07:46 |    68 |     2.500e-05 |     0.0421 |          0.0346 |         0.0346 |            2465\n"
     ]
    },
    {
     "name": "stderr",
     "output_type": "stream",
     "text": [
      " 99%|█████████▉| 194/195 [00:12<00:00, 15.78it/s]\n"
     ]
    },
    {
     "name": "stdout",
     "output_type": "stream",
     "text": [
      "08:07 |    69 |     2.500e-05 |     0.0414 |          0.0332 |         0.0332 |            2465\n"
     ]
    },
    {
     "name": "stderr",
     "output_type": "stream",
     "text": [
      " 99%|█████████▉| 194/195 [00:12<00:00, 15.75it/s]\n"
     ]
    },
    {
     "name": "stdout",
     "output_type": "stream",
     "text": [
      "08:28 |    70 |     2.500e-05 |     0.0416 |          0.0345 |         0.0345 |            2465\n"
     ]
    },
    {
     "name": "stderr",
     "output_type": "stream",
     "text": [
      " 99%|█████████▉| 194/195 [00:12<00:00, 15.74it/s]\n"
     ]
    },
    {
     "name": "stdout",
     "output_type": "stream",
     "text": [
      "08:50 |    71 |     2.500e-05 |     0.0422 |          0.0328 |         0.0328 |            2465\n"
     ]
    },
    {
     "name": "stderr",
     "output_type": "stream",
     "text": [
      " 99%|█████████▉| 194/195 [00:12<00:00, 15.81it/s]\n"
     ]
    },
    {
     "name": "stdout",
     "output_type": "stream",
     "text": [
      "09:11 |    72 |     2.500e-05 |     0.0414 |          0.0331 |         0.0331 |            2465\n"
     ]
    },
    {
     "name": "stderr",
     "output_type": "stream",
     "text": [
      " 99%|█████████▉| 194/195 [00:12<00:00, 15.78it/s]\n"
     ]
    },
    {
     "name": "stdout",
     "output_type": "stream",
     "text": [
      "09:32 |    73 |     2.500e-05 |     0.0413 |          0.0338 |         0.0338 |            2465\n"
     ]
    },
    {
     "name": "stderr",
     "output_type": "stream",
     "text": [
      " 99%|█████████▉| 194/195 [00:12<00:00, 15.69it/s]\n"
     ]
    },
    {
     "name": "stdout",
     "output_type": "stream",
     "text": [
      "09:53 |    74 |     2.500e-05 |     0.0410 |          0.0335 |         0.0335 |            2465\n"
     ]
    },
    {
     "name": "stderr",
     "output_type": "stream",
     "text": [
      " 99%|█████████▉| 194/195 [00:12<00:00, 15.69it/s]\n"
     ]
    },
    {
     "name": "stdout",
     "output_type": "stream",
     "text": [
      "10:14 |    75 |     2.500e-05 |     0.0425 |          0.0353 |         0.0353 |            2465\n"
     ]
    },
    {
     "name": "stderr",
     "output_type": "stream",
     "text": [
      " 99%|█████████▉| 194/195 [00:12<00:00, 15.95it/s]\n"
     ]
    },
    {
     "name": "stdout",
     "output_type": "stream",
     "text": [
      "10:36 |    76 |     2.500e-05 |     0.0418 |          0.0336 |         0.0336 |            2465\n"
     ]
    },
    {
     "name": "stderr",
     "output_type": "stream",
     "text": [
      " 99%|█████████▉| 194/195 [00:12<00:00, 15.72it/s]\n"
     ]
    },
    {
     "name": "stdout",
     "output_type": "stream",
     "text": [
      "10:57 |    77 |     2.500e-05 |     0.0411 |          0.0456 |         0.0456 |            2465\n"
     ]
    },
    {
     "name": "stderr",
     "output_type": "stream",
     "text": [
      " 99%|█████████▉| 194/195 [00:12<00:00, 15.85it/s]\n"
     ]
    },
    {
     "name": "stdout",
     "output_type": "stream",
     "text": [
      "11:18 |    78 |     2.500e-05 |     0.0426 |          0.0367 |         0.0367 |            2465\n"
     ]
    },
    {
     "name": "stderr",
     "output_type": "stream",
     "text": [
      " 99%|█████████▉| 194/195 [00:12<00:00, 15.82it/s]\n"
     ]
    },
    {
     "name": "stdout",
     "output_type": "stream",
     "text": [
      "11:39 |    79 |     1.250e-05 |     0.0393 |          0.0341 |         0.0341 |            2465\n"
     ]
    },
    {
     "name": "stderr",
     "output_type": "stream",
     "text": [
      " 99%|█████████▉| 194/195 [00:12<00:00, 15.74it/s]\n"
     ]
    },
    {
     "name": "stdout",
     "output_type": "stream",
     "text": [
      "12:00 |    80 |     1.250e-05 |     0.0387 |          0.0325 |         0.0325 |            2465\n"
     ]
    },
    {
     "name": "stderr",
     "output_type": "stream",
     "text": [
      " 99%|█████████▉| 194/195 [00:12<00:00, 15.85it/s]\n"
     ]
    },
    {
     "name": "stdout",
     "output_type": "stream",
     "text": [
      "12:31 |    81 |     1.250e-05 |     0.0384 |          0.0330 |         0.0330 |            2465\n"
     ]
    },
    {
     "name": "stderr",
     "output_type": "stream",
     "text": [
      " 99%|█████████▉| 194/195 [00:15<00:00, 12.59it/s]\n"
     ]
    },
    {
     "name": "stdout",
     "output_type": "stream",
     "text": [
      "13:10 |    82 |     1.250e-05 |     0.0387 |          0.0327 |         0.0327 |            2465\n"
     ]
    },
    {
     "name": "stderr",
     "output_type": "stream",
     "text": [
      " 99%|█████████▉| 194/195 [00:16<00:00, 12.09it/s]\n"
     ]
    },
    {
     "name": "stdout",
     "output_type": "stream",
     "text": [
      "13:50 |    83 |     1.250e-05 |     0.0383 |          0.0335 |         0.0335 |            2465\n"
     ]
    },
    {
     "name": "stderr",
     "output_type": "stream",
     "text": [
      " 99%|█████████▉| 194/195 [00:15<00:00, 12.56it/s]\n"
     ]
    },
    {
     "name": "stdout",
     "output_type": "stream",
     "text": [
      "14:29 |    84 |     1.250e-05 |     0.0377 |          0.0324 |         0.0324 |            2465\n"
     ]
    },
    {
     "name": "stderr",
     "output_type": "stream",
     "text": [
      " 99%|█████████▉| 194/195 [00:15<00:00, 12.58it/s]\n"
     ]
    },
    {
     "name": "stdout",
     "output_type": "stream",
     "text": [
      "15:09 |    85 |     1.250e-05 |     0.0381 |          0.0331 |         0.0331 |            2465\n"
     ]
    },
    {
     "name": "stderr",
     "output_type": "stream",
     "text": [
      " 99%|█████████▉| 194/195 [00:16<00:00, 11.81it/s]\n"
     ]
    },
    {
     "name": "stdout",
     "output_type": "stream",
     "text": [
      "15:49 |    86 |     1.250e-05 |     0.0384 |          0.0332 |         0.0332 |            2465\n"
     ]
    },
    {
     "name": "stderr",
     "output_type": "stream",
     "text": [
      " 99%|█████████▉| 194/195 [00:15<00:00, 12.88it/s]\n"
     ]
    },
    {
     "name": "stdout",
     "output_type": "stream",
     "text": [
      "16:28 |    87 |     1.250e-05 |     0.0383 |          0.0323 |         0.0323 |            2465\n"
     ]
    },
    {
     "name": "stderr",
     "output_type": "stream",
     "text": [
      " 99%|█████████▉| 194/195 [00:15<00:00, 12.80it/s]\n"
     ]
    },
    {
     "name": "stdout",
     "output_type": "stream",
     "text": [
      "17:07 |    88 |     1.250e-05 |     0.0379 |          0.0330 |         0.0330 |            2465\n"
     ]
    },
    {
     "name": "stderr",
     "output_type": "stream",
     "text": [
      " 99%|█████████▉| 194/195 [00:14<00:00, 13.16it/s]\n"
     ]
    },
    {
     "name": "stdout",
     "output_type": "stream",
     "text": [
      "17:46 |    89 |     1.250e-05 |     0.0376 |          0.0336 |         0.0336 |            2465\n"
     ]
    },
    {
     "name": "stderr",
     "output_type": "stream",
     "text": [
      " 99%|█████████▉| 194/195 [00:15<00:00, 12.31it/s]\n"
     ]
    },
    {
     "name": "stdout",
     "output_type": "stream",
     "text": [
      "18:25 |    90 |     6.250e-06 |     0.0367 |          0.0337 |         0.0337 |            2465\n"
     ]
    },
    {
     "name": "stderr",
     "output_type": "stream",
     "text": [
      " 99%|█████████▉| 194/195 [00:15<00:00, 12.27it/s]\n"
     ]
    },
    {
     "name": "stdout",
     "output_type": "stream",
     "text": [
      "19:04 |    91 |     6.250e-06 |     0.0366 |          0.0322 |         0.0322 |            2465\n"
     ]
    },
    {
     "name": "stderr",
     "output_type": "stream",
     "text": [
      " 99%|█████████▉| 194/195 [00:15<00:00, 12.47it/s]\n"
     ]
    },
    {
     "name": "stdout",
     "output_type": "stream",
     "text": [
      "19:42 |    92 |     6.250e-06 |     0.0364 |          0.0322 |         0.0322 |            2465\n"
     ]
    },
    {
     "name": "stderr",
     "output_type": "stream",
     "text": [
      " 99%|█████████▉| 194/195 [00:15<00:00, 12.23it/s]\n"
     ]
    },
    {
     "name": "stdout",
     "output_type": "stream",
     "text": [
      "20:22 |    93 |     6.250e-06 |     0.0363 |          0.0324 |         0.0324 |            2465\n"
     ]
    },
    {
     "name": "stderr",
     "output_type": "stream",
     "text": [
      " 99%|█████████▉| 194/195 [00:15<00:00, 12.82it/s]\n"
     ]
    },
    {
     "name": "stdout",
     "output_type": "stream",
     "text": [
      "21:01 |    94 |     6.250e-06 |     0.0363 |          0.0326 |         0.0326 |            2465\n"
     ]
    },
    {
     "name": "stderr",
     "output_type": "stream",
     "text": [
      " 99%|█████████▉| 194/195 [00:15<00:00, 12.53it/s]\n"
     ]
    },
    {
     "name": "stdout",
     "output_type": "stream",
     "text": [
      "21:35 |    95 |     6.250e-06 |     0.0363 |          0.0321 |         0.0321 |            2465\n"
     ]
    },
    {
     "name": "stderr",
     "output_type": "stream",
     "text": [
      " 99%|█████████▉| 194/195 [00:12<00:00, 15.95it/s]\n"
     ]
    },
    {
     "name": "stdout",
     "output_type": "stream",
     "text": [
      "21:56 |    96 |     6.250e-06 |     0.0363 |          0.0326 |         0.0326 |            2465\n"
     ]
    },
    {
     "name": "stderr",
     "output_type": "stream",
     "text": [
      " 99%|█████████▉| 194/195 [00:12<00:00, 16.05it/s]\n"
     ]
    },
    {
     "name": "stdout",
     "output_type": "stream",
     "text": [
      "22:17 |    97 |     6.250e-06 |     0.0362 |          0.0331 |         0.0331 |            2465\n"
     ]
    },
    {
     "name": "stderr",
     "output_type": "stream",
     "text": [
      " 99%|█████████▉| 194/195 [00:12<00:00, 15.74it/s]\n"
     ]
    },
    {
     "name": "stdout",
     "output_type": "stream",
     "text": [
      "22:37 |    98 |     6.250e-06 |     0.0360 |          0.0334 |         0.0334 |            2465\n"
     ]
    },
    {
     "name": "stderr",
     "output_type": "stream",
     "text": [
      " 99%|█████████▉| 194/195 [00:12<00:00, 16.01it/s]\n"
     ]
    },
    {
     "name": "stdout",
     "output_type": "stream",
     "text": [
      "23:07 |    99 |     6.250e-06 |     0.0363 |          0.0324 |         0.0324 |            2465\n"
     ]
    },
    {
     "name": "stderr",
     "output_type": "stream",
     "text": [
      " 99%|█████████▉| 194/195 [00:15<00:00, 12.16it/s]\n"
     ]
    },
    {
     "name": "stdout",
     "output_type": "stream",
     "text": [
      "23:47 |   100 |     6.250e-06 |     0.0360 |          0.0323 |         0.0323 |            2465\n"
     ]
    },
    {
     "name": "stderr",
     "output_type": "stream",
     "text": [
      "100%|██████████| 1277/1277 [00:23<00:00, 54.13it/s]\n"
     ]
    }
   ],
   "source": [
    "run_sigopt_experiment(\n",
    "    struct_type=\"unrelaxed\",\n",
    "    model_type=\"Painn\",\n",
    "    gpu_num=0,\n",
    "    obs_budget=1,\n",
    "    training_fraction=0.125,\n",
    "    training_seed=0\n",
    ")"
   ]
  },
  {
   "cell_type": "code",
   "execution_count": null,
   "metadata": {},
   "outputs": [],
   "source": []
  },
  {
   "cell_type": "code",
   "execution_count": null,
   "metadata": {},
   "outputs": [],
   "source": []
  },
  {
   "cell_type": "code",
   "execution_count": null,
   "metadata": {},
   "outputs": [],
   "source": []
  }
 ],
 "metadata": {
  "kernelspec": {
   "display_name": "Perovskite_ML_Environment",
   "language": "python",
   "name": "python3"
  },
  "language_info": {
   "codemirror_mode": {
    "name": "ipython",
    "version": 3
   },
   "file_extension": ".py",
   "mimetype": "text/x-python",
   "name": "python",
   "nbconvert_exporter": "python",
   "pygments_lexer": "ipython3",
   "version": "3.10.11"
  }
 },
 "nbformat": 4,
 "nbformat_minor": 2
}
