{
 "cells": [
  {
   "cell_type": "code",
   "execution_count": 1,
   "metadata": {},
   "outputs": [
    {
     "name": "stderr",
     "output_type": "stream",
     "text": [
      "/home/jypeng/miniconda3/envs/Perovskite_ML_Environment/lib/python3.10/site-packages/tqdm/auto.py:21: TqdmWarning: IProgress not found. Please update jupyter and ipywidgets. See https://ipywidgets.readthedocs.io/en/stable/user_install.html\n",
      "  from .autonotebook import tqdm as notebook_tqdm\n"
     ]
    }
   ],
   "source": [
    "from inference.test_model_prediction import *"
   ]
  },
  {
   "cell_type": "code",
   "execution_count": null,
   "metadata": {
    "scrolled": true
   },
   "outputs": [
    {
     "name": "stdout",
     "output_type": "stream",
     "text": [
      "Loaded data\n",
      "Completed data processing\n"
     ]
    },
    {
     "name": "stderr",
     "output_type": "stream",
     "text": [
      "100%|██████████| 6276/6276 [00:01<00:00, 3584.22it/s]\n",
      " 35%|███▍      | 2185/6276 [01:05<02:06, 32.38it/s]"
     ]
    }
   ],
   "source": [
    "gpu_num=0\n",
    "target_prop=\"per_site_p_band\"\n",
    "\n",
    "model_params = {\n",
    "    \"data\":\"data_per_site/\",\n",
    "    \"struct_type\": \"unrelaxed\",\n",
    "    \"interpolation\": False,\n",
    "    \"model_type\": \"e3nn\",\n",
    "    \"contrastive_weight\":1.0,\n",
    "    \"training_fraction\":1.0\n",
    "}\n",
    "\n",
    "\n",
    "\n",
    "get_all_model_predictions(model_params, gpu_num, target_prop)"
   ]
  },
  {
   "cell_type": "code",
   "execution_count": null,
   "metadata": {},
   "outputs": [],
   "source": [
    "gpu_num=0\n",
    "target_prop=\"per_site_p_band\"\n",
    "\n",
    "model_params = {\n",
    "    \"data\":\"data_per_site/\",\n",
    "    \"struct_type\": \"unrelaxed\",\n",
    "    \"interpolation\": False,\n",
    "    \"model_type\": \"CGCNN\",\n",
    "    \"contrastive_weight\":1.0,\n",
    "    \"training_fraction\":1.0\n",
    "}\n",
    "\n",
    "\n",
    "\n",
    "get_all_model_predictions(model_params, gpu_num, target_prop)"
   ]
  },
  {
   "cell_type": "code",
   "execution_count": null,
   "metadata": {},
   "outputs": [],
   "source": []
  }
 ],
 "metadata": {
  "kernelspec": {
   "display_name": "Perovskite_ML_Environment",
   "language": "python",
   "name": "perovskite_ml_environment"
  },
  "language_info": {
   "codemirror_mode": {
    "name": "ipython",
    "version": 3
   },
   "file_extension": ".py",
   "mimetype": "text/x-python",
   "name": "python",
   "nbconvert_exporter": "python",
   "pygments_lexer": "ipython3",
   "version": "3.10.11"
  }
 },
 "nbformat": 4,
 "nbformat_minor": 2
}
