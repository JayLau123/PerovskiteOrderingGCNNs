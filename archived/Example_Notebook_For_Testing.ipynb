{
 "cells": [
  {
   "cell_type": "code",
   "execution_count": 1,
   "id": "f388f90e",
   "metadata": {},
   "outputs": [
    {
     "name": "stdout",
     "output_type": "stream",
     "text": [
      "/home/jkdamewo\n"
     ]
    }
   ],
   "source": [
    "cd"
   ]
  },
  {
   "cell_type": "code",
   "execution_count": 2,
   "id": "dffb68f9",
   "metadata": {},
   "outputs": [
    {
     "name": "stdout",
     "output_type": "stream",
     "text": [
      "/home/jkdamewo/perovskites/ML_Ordering_Github/PerovskiteOrderingGCNNs\n"
     ]
    }
   ],
   "source": [
    "cd perovskites/ML_Ordering_Github/PerovskiteOrderingGCNNs/"
   ]
  },
  {
   "cell_type": "code",
   "execution_count": 3,
   "id": "3d48e839",
   "metadata": {},
   "outputs": [],
   "source": [
    "import pandas as pd"
   ]
  },
  {
   "cell_type": "code",
   "execution_count": 4,
   "id": "c5fe0a66",
   "metadata": {},
   "outputs": [],
   "source": [
    "training = pd.read_json(\"data/training_set.json\")\n",
    "data = training[:100]"
   ]
  },
  {
   "cell_type": "code",
   "execution_count": 5,
   "id": "de602efc",
   "metadata": {},
   "outputs": [
    {
     "name": "stderr",
     "output_type": "stream",
     "text": [
      "/home/jkdamewo/miniconda3/envs/Perovskite_ML_Environment/lib/python3.10/site-packages/tqdm/auto.py:21: TqdmWarning: IProgress not found. Please update jupyter and ipywidgets. See https://ipywidgets.readthedocs.io/en/stable/user_install.html\n",
      "  from .autonotebook import tqdm as notebook_tqdm\n"
     ]
    }
   ],
   "source": [
    "from processing.utils import filter_data_by_properties,select_structures"
   ]
  },
  {
   "cell_type": "code",
   "execution_count": 6,
   "id": "c6d5ec5c",
   "metadata": {},
   "outputs": [],
   "source": [
    "data = filter_data_by_properties(data,\"dft_e_hull\")"
   ]
  },
  {
   "cell_type": "code",
   "execution_count": 7,
   "id": "ca459924",
   "metadata": {},
   "outputs": [],
   "source": [
    "data_unrelaxed = select_structures(data,\"unrelaxed\")"
   ]
  },
  {
   "cell_type": "code",
   "execution_count": 8,
   "id": "3364aec9",
   "metadata": {},
   "outputs": [],
   "source": [
    "data_relaxed = select_structures(data,\"relaxed\")"
   ]
  },
  {
   "cell_type": "code",
   "execution_count": 9,
   "id": "12c7584c",
   "metadata": {},
   "outputs": [],
   "source": [
    "from processing.interpolation.Interpolation import *"
   ]
  },
  {
   "cell_type": "code",
   "execution_count": 10,
   "id": "f4f531f1",
   "metadata": {},
   "outputs": [],
   "source": [
    "data_unrelaxed = apply_interpolation(data_unrelaxed,\"dft_e_hull\")"
   ]
  },
  {
   "cell_type": "code",
   "execution_count": 11,
   "id": "c719a77c",
   "metadata": {},
   "outputs": [
    {
     "data": {
      "text/html": [
       "<div>\n",
       "<style scoped>\n",
       "    .dataframe tbody tr th:only-of-type {\n",
       "        vertical-align: middle;\n",
       "    }\n",
       "\n",
       "    .dataframe tbody tr th {\n",
       "        vertical-align: top;\n",
       "    }\n",
       "\n",
       "    .dataframe thead th {\n",
       "        text-align: right;\n",
       "    }\n",
       "</style>\n",
       "<table border=\"1\" class=\"dataframe\">\n",
       "  <thead>\n",
       "    <tr style=\"text-align: right;\">\n",
       "      <th></th>\n",
       "      <th>formula</th>\n",
       "      <th>framework</th>\n",
       "      <th>composition</th>\n",
       "      <th>n_atoms_unrelaxed</th>\n",
       "      <th>n_atoms_opt</th>\n",
       "      <th>unrelaxed_cryst_id</th>\n",
       "      <th>unrelaxed_struct</th>\n",
       "      <th>opt_cryst_id</th>\n",
       "      <th>opt_struct</th>\n",
       "      <th>es_job_id</th>\n",
       "      <th>dft_energy</th>\n",
       "      <th>dft_energy_per_atom</th>\n",
       "      <th>dft_e_hull</th>\n",
       "      <th>bandgap</th>\n",
       "      <th>Op_band_center</th>\n",
       "      <th>structure</th>\n",
       "      <th>dft_e_hull_interp</th>\n",
       "      <th>dft_e_hull_diff</th>\n",
       "    </tr>\n",
       "  </thead>\n",
       "  <tbody>\n",
       "    <tr>\n",
       "      <th>0</th>\n",
       "      <td>Ba1Ca7Co4Ni4O24</td>\n",
       "      <td>Ba0.125Ca0.875Co0.500Ni0.500O3</td>\n",
       "      <td>{'sites': {'A': ['Ca', 'Ba'], 'B': ['Ni', 'Co'...</td>\n",
       "      <td>40</td>\n",
       "      <td>40</td>\n",
       "      <td>222996264</td>\n",
       "      <td>{'@module': 'pymatgen.core.structure', '@class...</td>\n",
       "      <td>253605952</td>\n",
       "      <td>{'@module': 'pymatgen.core.structure', '@class...</td>\n",
       "      <td>73347615</td>\n",
       "      <td>-224.385261</td>\n",
       "      <td>-5.609632</td>\n",
       "      <td>0.203860</td>\n",
       "      <td>0.0</td>\n",
       "      <td>-1.601020</td>\n",
       "      <td>[[8.e-06 8.e-06 8.e-06] Ba, [2.000008 2.000008...</td>\n",
       "      <td>0.179466</td>\n",
       "      <td>0.024393</td>\n",
       "    </tr>\n",
       "    <tr>\n",
       "      <th>1</th>\n",
       "      <td>Ba1Ca7Co4Ni4O24</td>\n",
       "      <td>Ba0.125Ca0.875Co0.500Ni0.500O3</td>\n",
       "      <td>{'sites': {'A': ['Ca', 'Ba'], 'B': ['Ni', 'Co'...</td>\n",
       "      <td>40</td>\n",
       "      <td>40</td>\n",
       "      <td>222996266</td>\n",
       "      <td>{'@module': 'pymatgen.core.structure', '@class...</td>\n",
       "      <td>253416559</td>\n",
       "      <td>{'@module': 'pymatgen.core.structure', '@class...</td>\n",
       "      <td>73269340</td>\n",
       "      <td>-224.684450</td>\n",
       "      <td>-5.617111</td>\n",
       "      <td>0.196380</td>\n",
       "      <td>0.0</td>\n",
       "      <td>-1.491753</td>\n",
       "      <td>[[0. 0. 0.] Ba, [2. 2. 2.] Co, [2. 2. 0.] O, [...</td>\n",
       "      <td>0.179466</td>\n",
       "      <td>0.016914</td>\n",
       "    </tr>\n",
       "    <tr>\n",
       "      <th>2</th>\n",
       "      <td>Ba1Ca7Co4Ni4O24</td>\n",
       "      <td>Ba0.125Ca0.875Co0.500Ni0.500O3</td>\n",
       "      <td>{'sites': {'A': ['Ca', 'Ba'], 'B': ['Ni', 'Co'...</td>\n",
       "      <td>40</td>\n",
       "      <td>40</td>\n",
       "      <td>222996268</td>\n",
       "      <td>{'@module': 'pymatgen.core.structure', '@class...</td>\n",
       "      <td>253605948</td>\n",
       "      <td>{'@module': 'pymatgen.core.structure', '@class...</td>\n",
       "      <td>73347612</td>\n",
       "      <td>-223.010442</td>\n",
       "      <td>-5.575261</td>\n",
       "      <td>0.238230</td>\n",
       "      <td>0.0</td>\n",
       "      <td>-1.629313</td>\n",
       "      <td>[[8.e-06 8.e-06 8.e-06] Ba, [2.000008 2.000008...</td>\n",
       "      <td>0.179466</td>\n",
       "      <td>0.058764</td>\n",
       "    </tr>\n",
       "    <tr>\n",
       "      <th>3</th>\n",
       "      <td>Ba1Ca7Co4Ni4O24</td>\n",
       "      <td>Ba0.125Ca0.875Co0.500Ni0.500O3</td>\n",
       "      <td>{'sites': {'A': ['Ca', 'Ba'], 'B': ['Ni', 'Co'...</td>\n",
       "      <td>40</td>\n",
       "      <td>40</td>\n",
       "      <td>222996265</td>\n",
       "      <td>{'@module': 'pymatgen.core.structure', '@class...</td>\n",
       "      <td>252541128</td>\n",
       "      <td>{'@module': 'pymatgen.core.structure', '@class...</td>\n",
       "      <td>72945680</td>\n",
       "      <td>-224.844699</td>\n",
       "      <td>-5.621117</td>\n",
       "      <td>0.192374</td>\n",
       "      <td>0.0</td>\n",
       "      <td>-1.511426</td>\n",
       "      <td>[[8.e-06 8.e-06 8.e-06] Ba, [2.000008 2.000008...</td>\n",
       "      <td>0.179466</td>\n",
       "      <td>0.012907</td>\n",
       "    </tr>\n",
       "    <tr>\n",
       "      <th>4</th>\n",
       "      <td>Ba1Ca7Co4Ni4O24</td>\n",
       "      <td>Ba0.125Ca0.875Co0.500Ni0.500O3</td>\n",
       "      <td>{'sites': {'A': ['Ca', 'Ba'], 'B': ['Ni', 'Co'...</td>\n",
       "      <td>40</td>\n",
       "      <td>40</td>\n",
       "      <td>222996267</td>\n",
       "      <td>{'@module': 'pymatgen.core.structure', '@class...</td>\n",
       "      <td>252299215</td>\n",
       "      <td>{'@module': 'pymatgen.core.structure', '@class...</td>\n",
       "      <td>72945179</td>\n",
       "      <td>-223.832115</td>\n",
       "      <td>-5.595803</td>\n",
       "      <td>0.217688</td>\n",
       "      <td>0.0</td>\n",
       "      <td>-1.592880</td>\n",
       "      <td>[[8.e-06 8.e-06 8.e-06] Ba, [2.000008 2.000008...</td>\n",
       "      <td>0.179466</td>\n",
       "      <td>0.038222</td>\n",
       "    </tr>\n",
       "    <tr>\n",
       "      <th>...</th>\n",
       "      <td>...</td>\n",
       "      <td>...</td>\n",
       "      <td>...</td>\n",
       "      <td>...</td>\n",
       "      <td>...</td>\n",
       "      <td>...</td>\n",
       "      <td>...</td>\n",
       "      <td>...</td>\n",
       "      <td>...</td>\n",
       "      <td>...</td>\n",
       "      <td>...</td>\n",
       "      <td>...</td>\n",
       "      <td>...</td>\n",
       "      <td>...</td>\n",
       "      <td>...</td>\n",
       "      <td>...</td>\n",
       "      <td>...</td>\n",
       "      <td>...</td>\n",
       "    </tr>\n",
       "    <tr>\n",
       "      <th>95</th>\n",
       "      <td>Ba4Cr8O24Sr4</td>\n",
       "      <td>Ba0.500Sr0.500CrO3</td>\n",
       "      <td>{'sites': {'A': ['Sr', 'Ba'], 'B': ['Cr'], 'X'...</td>\n",
       "      <td>40</td>\n",
       "      <td>40</td>\n",
       "      <td>222997876</td>\n",
       "      <td>{'@module': 'pymatgen.core.structure', '@class...</td>\n",
       "      <td>253687270</td>\n",
       "      <td>{'@module': 'pymatgen.core.structure', '@class...</td>\n",
       "      <td>73427302</td>\n",
       "      <td>-276.461492</td>\n",
       "      <td>-6.911537</td>\n",
       "      <td>0.182492</td>\n",
       "      <td>0.0</td>\n",
       "      <td>-1.636075</td>\n",
       "      <td>[[8.000000e-06 4.000008e+00 4.000008e+00] Ba, ...</td>\n",
       "      <td>0.172690</td>\n",
       "      <td>0.009802</td>\n",
       "    </tr>\n",
       "    <tr>\n",
       "      <th>96</th>\n",
       "      <td>Ba4Cr8O24Sr4</td>\n",
       "      <td>Ba0.500Sr0.500CrO3</td>\n",
       "      <td>{'sites': {'A': ['Sr', 'Ba'], 'B': ['Cr'], 'X'...</td>\n",
       "      <td>40</td>\n",
       "      <td>40</td>\n",
       "      <td>222997877</td>\n",
       "      <td>{'@module': 'pymatgen.core.structure', '@class...</td>\n",
       "      <td>255170334</td>\n",
       "      <td>{'@module': 'pymatgen.core.structure', '@class...</td>\n",
       "      <td>73684251</td>\n",
       "      <td>-276.245323</td>\n",
       "      <td>-6.906133</td>\n",
       "      <td>0.187896</td>\n",
       "      <td>0.0</td>\n",
       "      <td>-1.628772</td>\n",
       "      <td>[[8.000000e-06 4.000008e+00 8.000000e-06] Ba, ...</td>\n",
       "      <td>0.172690</td>\n",
       "      <td>0.015206</td>\n",
       "    </tr>\n",
       "    <tr>\n",
       "      <th>97</th>\n",
       "      <td>Ba4Cr8O24Sr4</td>\n",
       "      <td>Ba0.500Sr0.500CrO3</td>\n",
       "      <td>{'sites': {'A': ['Sr', 'Ba'], 'B': ['Cr'], 'X'...</td>\n",
       "      <td>40</td>\n",
       "      <td>40</td>\n",
       "      <td>222997878</td>\n",
       "      <td>{'@module': 'pymatgen.core.structure', '@class...</td>\n",
       "      <td>260754108</td>\n",
       "      <td>{'@module': 'pymatgen.core.structure', '@class...</td>\n",
       "      <td>76280767</td>\n",
       "      <td>-276.010013</td>\n",
       "      <td>-6.900250</td>\n",
       "      <td>0.193779</td>\n",
       "      <td>0.0</td>\n",
       "      <td>-1.671498</td>\n",
       "      <td>[[8.000000e-06 8.000000e-06 4.000008e+00] Ba, ...</td>\n",
       "      <td>0.172690</td>\n",
       "      <td>0.021089</td>\n",
       "    </tr>\n",
       "    <tr>\n",
       "      <th>98</th>\n",
       "      <td>Ba4Cr8O24Sr4</td>\n",
       "      <td>Ba0.500Sr0.500CrO3</td>\n",
       "      <td>{'sites': {'A': ['Sr', 'Ba'], 'B': ['Cr'], 'X'...</td>\n",
       "      <td>40</td>\n",
       "      <td>40</td>\n",
       "      <td>222997875</td>\n",
       "      <td>{'@module': 'pymatgen.core.structure', '@class...</td>\n",
       "      <td>251427771</td>\n",
       "      <td>{'@module': 'pymatgen.core.structure', '@class...</td>\n",
       "      <td>72249775</td>\n",
       "      <td>-276.538920</td>\n",
       "      <td>-6.913473</td>\n",
       "      <td>0.180556</td>\n",
       "      <td>0.0</td>\n",
       "      <td>-1.625791</td>\n",
       "      <td>[[8.000000e-06 4.000008e+00 4.000008e+00] Ba, ...</td>\n",
       "      <td>0.172690</td>\n",
       "      <td>0.007866</td>\n",
       "    </tr>\n",
       "    <tr>\n",
       "      <th>99</th>\n",
       "      <td>Ba4Cr8O24Sr4</td>\n",
       "      <td>Ba0.500Sr0.500CrO3</td>\n",
       "      <td>{'sites': {'A': ['Sr', 'Ba'], 'B': ['Cr'], 'X'...</td>\n",
       "      <td>40</td>\n",
       "      <td>40</td>\n",
       "      <td>222997873</td>\n",
       "      <td>{'@module': 'pymatgen.core.structure', '@class...</td>\n",
       "      <td>253687210</td>\n",
       "      <td>{'@module': 'pymatgen.core.structure', '@class...</td>\n",
       "      <td>73427300</td>\n",
       "      <td>-276.199835</td>\n",
       "      <td>-6.904996</td>\n",
       "      <td>0.189033</td>\n",
       "      <td>0.0</td>\n",
       "      <td>-1.656046</td>\n",
       "      <td>[[0. 0. 0.] Ba, [2. 2. 2.] Cr, [2. 2. 0.] O, [...</td>\n",
       "      <td>0.172690</td>\n",
       "      <td>0.016343</td>\n",
       "    </tr>\n",
       "  </tbody>\n",
       "</table>\n",
       "<p>100 rows × 18 columns</p>\n",
       "</div>"
      ],
      "text/plain": [
       "            formula                       framework  \\\n",
       "0   Ba1Ca7Co4Ni4O24  Ba0.125Ca0.875Co0.500Ni0.500O3   \n",
       "1   Ba1Ca7Co4Ni4O24  Ba0.125Ca0.875Co0.500Ni0.500O3   \n",
       "2   Ba1Ca7Co4Ni4O24  Ba0.125Ca0.875Co0.500Ni0.500O3   \n",
       "3   Ba1Ca7Co4Ni4O24  Ba0.125Ca0.875Co0.500Ni0.500O3   \n",
       "4   Ba1Ca7Co4Ni4O24  Ba0.125Ca0.875Co0.500Ni0.500O3   \n",
       "..              ...                             ...   \n",
       "95     Ba4Cr8O24Sr4              Ba0.500Sr0.500CrO3   \n",
       "96     Ba4Cr8O24Sr4              Ba0.500Sr0.500CrO3   \n",
       "97     Ba4Cr8O24Sr4              Ba0.500Sr0.500CrO3   \n",
       "98     Ba4Cr8O24Sr4              Ba0.500Sr0.500CrO3   \n",
       "99     Ba4Cr8O24Sr4              Ba0.500Sr0.500CrO3   \n",
       "\n",
       "                                          composition  n_atoms_unrelaxed  \\\n",
       "0   {'sites': {'A': ['Ca', 'Ba'], 'B': ['Ni', 'Co'...                 40   \n",
       "1   {'sites': {'A': ['Ca', 'Ba'], 'B': ['Ni', 'Co'...                 40   \n",
       "2   {'sites': {'A': ['Ca', 'Ba'], 'B': ['Ni', 'Co'...                 40   \n",
       "3   {'sites': {'A': ['Ca', 'Ba'], 'B': ['Ni', 'Co'...                 40   \n",
       "4   {'sites': {'A': ['Ca', 'Ba'], 'B': ['Ni', 'Co'...                 40   \n",
       "..                                                ...                ...   \n",
       "95  {'sites': {'A': ['Sr', 'Ba'], 'B': ['Cr'], 'X'...                 40   \n",
       "96  {'sites': {'A': ['Sr', 'Ba'], 'B': ['Cr'], 'X'...                 40   \n",
       "97  {'sites': {'A': ['Sr', 'Ba'], 'B': ['Cr'], 'X'...                 40   \n",
       "98  {'sites': {'A': ['Sr', 'Ba'], 'B': ['Cr'], 'X'...                 40   \n",
       "99  {'sites': {'A': ['Sr', 'Ba'], 'B': ['Cr'], 'X'...                 40   \n",
       "\n",
       "    n_atoms_opt  unrelaxed_cryst_id  \\\n",
       "0            40           222996264   \n",
       "1            40           222996266   \n",
       "2            40           222996268   \n",
       "3            40           222996265   \n",
       "4            40           222996267   \n",
       "..          ...                 ...   \n",
       "95           40           222997876   \n",
       "96           40           222997877   \n",
       "97           40           222997878   \n",
       "98           40           222997875   \n",
       "99           40           222997873   \n",
       "\n",
       "                                     unrelaxed_struct  opt_cryst_id  \\\n",
       "0   {'@module': 'pymatgen.core.structure', '@class...     253605952   \n",
       "1   {'@module': 'pymatgen.core.structure', '@class...     253416559   \n",
       "2   {'@module': 'pymatgen.core.structure', '@class...     253605948   \n",
       "3   {'@module': 'pymatgen.core.structure', '@class...     252541128   \n",
       "4   {'@module': 'pymatgen.core.structure', '@class...     252299215   \n",
       "..                                                ...           ...   \n",
       "95  {'@module': 'pymatgen.core.structure', '@class...     253687270   \n",
       "96  {'@module': 'pymatgen.core.structure', '@class...     255170334   \n",
       "97  {'@module': 'pymatgen.core.structure', '@class...     260754108   \n",
       "98  {'@module': 'pymatgen.core.structure', '@class...     251427771   \n",
       "99  {'@module': 'pymatgen.core.structure', '@class...     253687210   \n",
       "\n",
       "                                           opt_struct  es_job_id  dft_energy  \\\n",
       "0   {'@module': 'pymatgen.core.structure', '@class...   73347615 -224.385261   \n",
       "1   {'@module': 'pymatgen.core.structure', '@class...   73269340 -224.684450   \n",
       "2   {'@module': 'pymatgen.core.structure', '@class...   73347612 -223.010442   \n",
       "3   {'@module': 'pymatgen.core.structure', '@class...   72945680 -224.844699   \n",
       "4   {'@module': 'pymatgen.core.structure', '@class...   72945179 -223.832115   \n",
       "..                                                ...        ...         ...   \n",
       "95  {'@module': 'pymatgen.core.structure', '@class...   73427302 -276.461492   \n",
       "96  {'@module': 'pymatgen.core.structure', '@class...   73684251 -276.245323   \n",
       "97  {'@module': 'pymatgen.core.structure', '@class...   76280767 -276.010013   \n",
       "98  {'@module': 'pymatgen.core.structure', '@class...   72249775 -276.538920   \n",
       "99  {'@module': 'pymatgen.core.structure', '@class...   73427300 -276.199835   \n",
       "\n",
       "    dft_energy_per_atom  dft_e_hull  bandgap  Op_band_center  \\\n",
       "0             -5.609632    0.203860      0.0       -1.601020   \n",
       "1             -5.617111    0.196380      0.0       -1.491753   \n",
       "2             -5.575261    0.238230      0.0       -1.629313   \n",
       "3             -5.621117    0.192374      0.0       -1.511426   \n",
       "4             -5.595803    0.217688      0.0       -1.592880   \n",
       "..                  ...         ...      ...             ...   \n",
       "95            -6.911537    0.182492      0.0       -1.636075   \n",
       "96            -6.906133    0.187896      0.0       -1.628772   \n",
       "97            -6.900250    0.193779      0.0       -1.671498   \n",
       "98            -6.913473    0.180556      0.0       -1.625791   \n",
       "99            -6.904996    0.189033      0.0       -1.656046   \n",
       "\n",
       "                                            structure  dft_e_hull_interp  \\\n",
       "0   [[8.e-06 8.e-06 8.e-06] Ba, [2.000008 2.000008...           0.179466   \n",
       "1   [[0. 0. 0.] Ba, [2. 2. 2.] Co, [2. 2. 0.] O, [...           0.179466   \n",
       "2   [[8.e-06 8.e-06 8.e-06] Ba, [2.000008 2.000008...           0.179466   \n",
       "3   [[8.e-06 8.e-06 8.e-06] Ba, [2.000008 2.000008...           0.179466   \n",
       "4   [[8.e-06 8.e-06 8.e-06] Ba, [2.000008 2.000008...           0.179466   \n",
       "..                                                ...                ...   \n",
       "95  [[8.000000e-06 4.000008e+00 4.000008e+00] Ba, ...           0.172690   \n",
       "96  [[8.000000e-06 4.000008e+00 8.000000e-06] Ba, ...           0.172690   \n",
       "97  [[8.000000e-06 8.000000e-06 4.000008e+00] Ba, ...           0.172690   \n",
       "98  [[8.000000e-06 4.000008e+00 4.000008e+00] Ba, ...           0.172690   \n",
       "99  [[0. 0. 0.] Ba, [2. 2. 2.] Cr, [2. 2. 0.] O, [...           0.172690   \n",
       "\n",
       "    dft_e_hull_diff  \n",
       "0          0.024393  \n",
       "1          0.016914  \n",
       "2          0.058764  \n",
       "3          0.012907  \n",
       "4          0.038222  \n",
       "..              ...  \n",
       "95         0.009802  \n",
       "96         0.015206  \n",
       "97         0.021089  \n",
       "98         0.007866  \n",
       "99         0.016343  \n",
       "\n",
       "[100 rows x 18 columns]"
      ]
     },
     "execution_count": 11,
     "metadata": {},
     "output_type": "execute_result"
    }
   ],
   "source": [
    "data_unrelaxed"
   ]
  },
  {
   "cell_type": "code",
   "execution_count": 12,
   "id": "dd6c9b6f",
   "metadata": {},
   "outputs": [],
   "source": [
    "from processing.dataloader.dataloader import get_dataloader\n",
    "from processing.create_model.create_model import create_model\n",
    "from training.hyperparameters.default import get_default_cgcnn_hyperparameters, get_default_painn_hyperparameters, get_default_e3nn_hyperparameters\n",
    "from training.model_training.trainer import trainer"
   ]
  },
  {
   "cell_type": "code",
   "execution_count": 13,
   "id": "43dd2e5c",
   "metadata": {},
   "outputs": [
    {
     "name": "stderr",
     "output_type": "stream",
     "text": [
      "100%|██████████| 1000/1000 [00:00<00:00, 2935.13it/s]\n",
      "100%|██████████| 250/250 [00:36<00:00,  6.82it/s]\n"
     ]
    }
   ],
   "source": [
    "train_loader = get_dataloader(data_unrelaxed,\"dft_e_hull\",\"CGCNN\",4)\n",
    "model, Normalizer = create_model(\"CGCNN\",train_loader)"
   ]
  },
  {
   "cell_type": "code",
   "execution_count": 14,
   "id": "1d09374a",
   "metadata": {},
   "outputs": [
    {
     "name": "stdout",
     "output_type": "stream",
     "text": [
      "{'MaxEpochs': 100, 'log_lr': -3, 'reduceLR_patience': 10, 'atom_fea_len': 64, 'n_conv': 3, 'h_fea_len': 128, 'n_h': 1}\n"
     ]
    },
    {
     "name": "stderr",
     "output_type": "stream",
     "text": [
      "100%|██████████| 250/250 [00:02<00:00, 104.33it/s]\n"
     ]
    },
    {
     "name": "stdout",
     "output_type": "stream",
     "text": [
      "   1 ,lr = 0.00100000  train loss = 0.05749340  val loss = 0.05749340  time = 00:00:02\n"
     ]
    },
    {
     "name": "stderr",
     "output_type": "stream",
     "text": [
      "100%|██████████| 250/250 [00:01<00:00, 144.36it/s]\n"
     ]
    },
    {
     "name": "stdout",
     "output_type": "stream",
     "text": [
      "   2 ,lr = 0.00100000  train loss = 0.05831523  val loss = 0.05831523  time = 00:00:01\n"
     ]
    },
    {
     "name": "stderr",
     "output_type": "stream",
     "text": [
      "100%|██████████| 250/250 [00:01<00:00, 144.05it/s]\n"
     ]
    },
    {
     "name": "stdout",
     "output_type": "stream",
     "text": [
      "   3 ,lr = 0.00100000  train loss = 0.03972421  val loss = 0.03972421  time = 00:00:01\n"
     ]
    },
    {
     "name": "stderr",
     "output_type": "stream",
     "text": [
      "100%|██████████| 250/250 [00:01<00:00, 144.72it/s]\n"
     ]
    },
    {
     "name": "stdout",
     "output_type": "stream",
     "text": [
      "   4 ,lr = 0.00100000  train loss = 0.06489042  val loss = 0.06489042  time = 00:00:01\n"
     ]
    },
    {
     "name": "stderr",
     "output_type": "stream",
     "text": [
      "100%|██████████| 250/250 [00:01<00:00, 152.65it/s]\n"
     ]
    },
    {
     "name": "stdout",
     "output_type": "stream",
     "text": [
      "   5 ,lr = 0.00100000  train loss = 0.05718478  val loss = 0.05718478  time = 00:00:01\n"
     ]
    }
   ],
   "source": [
    "hyperparameters = get_default_cgcnn_hyperparameters()\n",
    "\n",
    "print(hyperparameters)\n",
    "best_model, loss_fn = trainer(model,Normalizer,'CGCNN',train_loader,train_loader,hyperparameters,\"saved_models/CGCNN/Scrap\",0)"
   ]
  },
  {
   "cell_type": "code",
   "execution_count": 13,
   "id": "53c526ba",
   "metadata": {},
   "outputs": [
    {
     "name": "stderr",
     "output_type": "stream",
     "text": [
      "100%|██████████| 100/100 [00:00<00:00, 2315.06it/s]\n",
      "100%|██████████| 100/100 [00:05<00:00, 19.03it/s]\n",
      "100%|██████████| 100/100 [00:00<00:00, 7658.03it/s]\n"
     ]
    }
   ],
   "source": [
    "train_loader = get_dataloader(data_unrelaxed,\"dft_e_hull\",\"Painn\",4)\n",
    "model, Normalizer = create_model(\"Painn\",train_loader)"
   ]
  },
  {
   "cell_type": "code",
   "execution_count": 14,
   "id": "f94218cd",
   "metadata": {},
   "outputs": [
    {
     "name": "stdout",
     "output_type": "stream",
     "text": [
      " Time | Epoch | Learning rate | Train loss | Validation loss | MAE_dft_e_hull_diff | GPU Memory (MB)\n"
     ]
    },
    {
     "name": "stderr",
     "output_type": "stream",
     "text": [
      " 96%|█████████▌| 24/25 [00:01<00:00, 21.33it/s]\n"
     ]
    },
    {
     "name": "stdout",
     "output_type": "stream",
     "text": [
      "14:04 |     1 |     1.000e-03 |     0.2432 |          0.0986 |              0.0986 |             127\n"
     ]
    },
    {
     "name": "stderr",
     "output_type": "stream",
     "text": [
      " 96%|█████████▌| 24/25 [00:00<00:00, 48.92it/s]\n"
     ]
    },
    {
     "name": "stdout",
     "output_type": "stream",
     "text": [
      "14:05 |     2 |     1.000e-03 |     0.0632 |          0.1233 |              0.1233 |             127\n"
     ]
    },
    {
     "name": "stderr",
     "output_type": "stream",
     "text": [
      " 96%|█████████▌| 24/25 [00:00<00:00, 48.98it/s]\n"
     ]
    },
    {
     "name": "stdout",
     "output_type": "stream",
     "text": [
      "14:05 |     3 |     1.000e-03 |     0.0493 |          0.1094 |              0.1094 |             127\n"
     ]
    },
    {
     "name": "stderr",
     "output_type": "stream",
     "text": [
      " 96%|█████████▌| 24/25 [00:00<00:00, 48.90it/s]\n"
     ]
    },
    {
     "ename": "KeyboardInterrupt",
     "evalue": "",
     "output_type": "error",
     "traceback": [
      "\u001b[0;31m---------------------------------------------------------------------------\u001b[0m",
      "\u001b[0;31mKeyboardInterrupt\u001b[0m                         Traceback (most recent call last)",
      "Cell \u001b[0;32mIn[14], line 2\u001b[0m\n\u001b[1;32m      1\u001b[0m hyperparameters \u001b[38;5;241m=\u001b[39m get_default_painn_hyperparameters()\n\u001b[0;32m----> 2\u001b[0m best_model, loss_fn \u001b[38;5;241m=\u001b[39m \u001b[43mtrainer\u001b[49m\u001b[43m(\u001b[49m\u001b[43mmodel\u001b[49m\u001b[43m,\u001b[49m\u001b[43mNormalizer\u001b[49m\u001b[43m,\u001b[49m\u001b[38;5;124;43m'\u001b[39;49m\u001b[38;5;124;43mPainn\u001b[39;49m\u001b[38;5;124;43m'\u001b[39;49m\u001b[43m,\u001b[49m\u001b[43mtrain_loader\u001b[49m\u001b[43m,\u001b[49m\u001b[43mtrain_loader\u001b[49m\u001b[43m,\u001b[49m\u001b[43mhyperparameters\u001b[49m\u001b[43m,\u001b[49m\u001b[38;5;124;43m\"\u001b[39;49m\u001b[38;5;124;43msaved_models/Painn/Scrap\u001b[39;49m\u001b[38;5;124;43m\"\u001b[39;49m\u001b[43m,\u001b[49m\u001b[38;5;241;43m0\u001b[39;49m\u001b[43m)\u001b[49m\n",
      "File \u001b[0;32m~/perovskites/ML_Ordering_Github/PerovskiteOrderingGCNNs/training/model_training/trainer.py:25\u001b[0m, in \u001b[0;36mtrainer\u001b[0;34m(model, normalizer, model_type, train_loader, val_loader, hyperparameters, OUTDIR, gpu_num, train_eval_loader)\u001b[0m\n\u001b[1;32m     22\u001b[0m     loss_fn \u001b[38;5;241m=\u001b[39m torch\u001b[38;5;241m.\u001b[39mnn\u001b[38;5;241m.\u001b[39mL1Loss()\n\u001b[1;32m     24\u001b[0m \u001b[38;5;28;01mif\u001b[39;00m model_type \u001b[38;5;241m==\u001b[39m \u001b[38;5;124m\"\u001b[39m\u001b[38;5;124mPainn\u001b[39m\u001b[38;5;124m\"\u001b[39m:\n\u001b[0;32m---> 25\u001b[0m     best_model \u001b[38;5;241m=\u001b[39m \u001b[43mtrain_painn\u001b[49m\u001b[43m(\u001b[49m\u001b[43mmodel\u001b[49m\u001b[43m,\u001b[49m\u001b[43mtrain_loader\u001b[49m\u001b[43m,\u001b[49m\u001b[43mval_loader\u001b[49m\u001b[43m,\u001b[49m\u001b[43mhyperparameters\u001b[49m\u001b[43m,\u001b[49m\u001b[43mOUTDIR\u001b[49m\u001b[43m,\u001b[49m\u001b[43mgpu_num\u001b[49m\u001b[43m)\u001b[49m\n\u001b[1;32m     26\u001b[0m \u001b[38;5;28;01melse\u001b[39;00m:\n\u001b[1;32m     27\u001b[0m     best_model \u001b[38;5;241m=\u001b[39m train_CGCNN_e3nn(model,normalizer,model_type,loss_fn,contrastive_loss,train_loader,val_loader,hyperparameters,OUTDIR,gpu_num,train_eval_loader)\n",
      "File \u001b[0;32m~/perovskites/ML_Ordering_Github/PerovskiteOrderingGCNNs/training/model_training/trainer.py:78\u001b[0m, in \u001b[0;36mtrain_painn\u001b[0;34m(model, train_loader, val_loader, hyperparameters, OUTDIR, gpu_num)\u001b[0m\n\u001b[1;32m     45\u001b[0m train_hooks \u001b[38;5;241m=\u001b[39m [\n\u001b[1;32m     46\u001b[0m     hooks\u001b[38;5;241m.\u001b[39mMaxEpochHook(num_epochs),\n\u001b[1;32m     47\u001b[0m     hooks\u001b[38;5;241m.\u001b[39mCSVHook(\n\u001b[0;32m   (...)\u001b[0m\n\u001b[1;32m     63\u001b[0m         stop_after_min\u001b[38;5;241m=\u001b[39m\u001b[38;5;28;01mTrue\u001b[39;00m)\n\u001b[1;32m     64\u001b[0m ]\n\u001b[1;32m     66\u001b[0m T \u001b[38;5;241m=\u001b[39m Trainer(\n\u001b[1;32m     67\u001b[0m     model_path\u001b[38;5;241m=\u001b[39mOUTDIR, \n\u001b[1;32m     68\u001b[0m     model\u001b[38;5;241m=\u001b[39mmodel, \n\u001b[0;32m   (...)\u001b[0m\n\u001b[1;32m     75\u001b[0m     mini_batches\u001b[38;5;241m=\u001b[39m\u001b[38;5;241m1\u001b[39m\n\u001b[1;32m     76\u001b[0m )\n\u001b[0;32m---> 78\u001b[0m \u001b[43mT\u001b[49m\u001b[38;5;241;43m.\u001b[39;49m\u001b[43mtrain\u001b[49m\u001b[43m(\u001b[49m\u001b[43mdevice\u001b[49m\u001b[38;5;241;43m=\u001b[39;49m\u001b[43mgpu_num\u001b[49m\u001b[43m,\u001b[49m\u001b[43m \u001b[49m\u001b[43mn_epochs\u001b[49m\u001b[38;5;241;43m=\u001b[39;49m\u001b[43mnum_epochs\u001b[49m\u001b[43m)\u001b[49m\n\u001b[1;32m     80\u001b[0m \u001b[38;5;28;01mreturn\u001b[39;00m T\u001b[38;5;241m.\u001b[39mget_best_model()\n",
      "File \u001b[0;32m~/perovskites/ML_Ordering_Github/PerovskiteOrderingGCNNs/models/PerovskiteOrderingGCNNs_painn/nff/train/trainer.py:450\u001b[0m, in \u001b[0;36mTrainer.train\u001b[0;34m(self, device, n_epochs)\u001b[0m\n\u001b[1;32m    448\u001b[0m \u001b[38;5;66;03m# validation\u001b[39;00m\n\u001b[1;32m    449\u001b[0m \u001b[38;5;28;01mif\u001b[39;00m (\u001b[38;5;28mself\u001b[39m\u001b[38;5;241m.\u001b[39mepoch \u001b[38;5;241m%\u001b[39m \u001b[38;5;28mself\u001b[39m\u001b[38;5;241m.\u001b[39mvalidation_interval \u001b[38;5;241m==\u001b[39m \u001b[38;5;241m0\u001b[39m \u001b[38;5;129;01mor\u001b[39;00m \u001b[38;5;28mself\u001b[39m\u001b[38;5;241m.\u001b[39m_stop):\n\u001b[0;32m--> 450\u001b[0m     \u001b[38;5;28;43mself\u001b[39;49m\u001b[38;5;241;43m.\u001b[39;49m\u001b[43mvalidate\u001b[49m\u001b[43m(\u001b[49m\u001b[43mdevice\u001b[49m\u001b[43m)\u001b[49m\n\u001b[1;32m    452\u001b[0m \u001b[38;5;28;01mfor\u001b[39;00m hook \u001b[38;5;129;01min\u001b[39;00m \u001b[38;5;28mself\u001b[39m\u001b[38;5;241m.\u001b[39mhooks:\n\u001b[1;32m    453\u001b[0m     hook\u001b[38;5;241m.\u001b[39mon_epoch_end(\u001b[38;5;28mself\u001b[39m)\n",
      "File \u001b[0;32m~/perovskites/ML_Ordering_Github/PerovskiteOrderingGCNNs/models/PerovskiteOrderingGCNNs_painn/nff/train/trainer.py:627\u001b[0m, in \u001b[0;36mTrainer.validate\u001b[0;34m(self, device, test)\u001b[0m\n\u001b[1;32m    624\u001b[0m     vsize \u001b[38;5;241m=\u001b[39m val_batch[\u001b[38;5;124m'\u001b[39m\u001b[38;5;124mnxyz\u001b[39m\u001b[38;5;124m'\u001b[39m]\u001b[38;5;241m.\u001b[39msize(\u001b[38;5;241m0\u001b[39m)\n\u001b[1;32m    626\u001b[0m n_val \u001b[38;5;241m+\u001b[39m\u001b[38;5;241m=\u001b[39m vsize\n\u001b[0;32m--> 627\u001b[0m val_batch, results, _, use_device \u001b[38;5;241m=\u001b[39m \u001b[38;5;28;43mself\u001b[39;49m\u001b[38;5;241;43m.\u001b[39;49m\u001b[43mcall_and_loss\u001b[49m\u001b[43m(\u001b[49m\n\u001b[1;32m    628\u001b[0m \u001b[43m    \u001b[49m\u001b[43mbatch\u001b[49m\u001b[38;5;241;43m=\u001b[39;49m\u001b[43mval_batch\u001b[49m\u001b[43m,\u001b[49m\n\u001b[1;32m    629\u001b[0m \u001b[43m    \u001b[49m\u001b[43mdevice\u001b[49m\u001b[38;5;241;43m=\u001b[39;49m\u001b[43mdevice\u001b[49m\u001b[43m,\u001b[49m\n\u001b[1;32m    630\u001b[0m \u001b[43m    \u001b[49m\u001b[43mcalc_loss\u001b[49m\u001b[38;5;241;43m=\u001b[39;49m\u001b[38;5;28;43;01mFalse\u001b[39;49;00m\u001b[43m)\u001b[49m\n\u001b[1;32m    632\u001b[0m \u001b[38;5;66;03m# detach from the graph\u001b[39;00m\n\u001b[1;32m    633\u001b[0m results \u001b[38;5;241m=\u001b[39m batch_to(batch_detach(results), use_device)\n",
      "File \u001b[0;32m~/perovskites/ML_Ordering_Github/PerovskiteOrderingGCNNs/models/PerovskiteOrderingGCNNs_painn/nff/train/trainer.py:340\u001b[0m, in \u001b[0;36mTrainer.call_and_loss\u001b[0;34m(self, batch, device, calc_loss)\u001b[0m\n\u001b[1;32m    338\u001b[0m \u001b[38;5;28;01mif\u001b[39;00m use_device \u001b[38;5;241m!=\u001b[39m device:\n\u001b[1;32m    339\u001b[0m     \u001b[38;5;28mself\u001b[39m\u001b[38;5;241m.\u001b[39mto(use_device)\n\u001b[0;32m--> 340\u001b[0m results \u001b[38;5;241m=\u001b[39m \u001b[38;5;28;43mself\u001b[39;49m\u001b[38;5;241;43m.\u001b[39;49m\u001b[43mcall_model\u001b[49m\u001b[43m(\u001b[49m\u001b[43mbatch\u001b[49m\u001b[43m,\u001b[49m\u001b[43m \u001b[49m\u001b[43mtrain\u001b[49m\u001b[38;5;241;43m=\u001b[39;49m\u001b[38;5;28;43;01mTrue\u001b[39;49;00m\u001b[43m)\u001b[49m\n\u001b[1;32m    341\u001b[0m \u001b[38;5;28;01mif\u001b[39;00m calc_loss:\n\u001b[1;32m    342\u001b[0m     mini_loss \u001b[38;5;241m=\u001b[39m \u001b[38;5;28mself\u001b[39m\u001b[38;5;241m.\u001b[39mget_loss(batch, results)\n",
      "File \u001b[0;32m~/perovskites/ML_Ordering_Github/PerovskiteOrderingGCNNs/models/PerovskiteOrderingGCNNs_painn/nff/train/trainer.py:198\u001b[0m, in \u001b[0;36mTrainer.call_model\u001b[0;34m(self, batch, train)\u001b[0m\n\u001b[1;32m    195\u001b[0m \u001b[38;5;28;01melse\u001b[39;00m:\n\u001b[1;32m    196\u001b[0m     model \u001b[38;5;241m=\u001b[39m \u001b[38;5;28mself\u001b[39m\u001b[38;5;241m.\u001b[39m_model\n\u001b[0;32m--> 198\u001b[0m \u001b[38;5;28;01mreturn\u001b[39;00m \u001b[43mmodel\u001b[49m\u001b[43m(\u001b[49m\u001b[43mbatch\u001b[49m\u001b[43m,\u001b[49m\u001b[43m \u001b[49m\u001b[38;5;241;43m*\u001b[39;49m\u001b[38;5;241;43m*\u001b[39;49m\u001b[38;5;28;43mself\u001b[39;49m\u001b[38;5;241;43m.\u001b[39;49m\u001b[43mmodel_kwargs\u001b[49m\u001b[43m)\u001b[49m\n",
      "File \u001b[0;32m~/miniconda3/envs/Perovskite_ML_Environment/lib/python3.10/site-packages/torch/nn/modules/module.py:1194\u001b[0m, in \u001b[0;36mModule._call_impl\u001b[0;34m(self, *input, **kwargs)\u001b[0m\n\u001b[1;32m   1190\u001b[0m \u001b[38;5;66;03m# If we don't have any hooks, we want to skip the rest of the logic in\u001b[39;00m\n\u001b[1;32m   1191\u001b[0m \u001b[38;5;66;03m# this function, and just call forward.\u001b[39;00m\n\u001b[1;32m   1192\u001b[0m \u001b[38;5;28;01mif\u001b[39;00m \u001b[38;5;129;01mnot\u001b[39;00m (\u001b[38;5;28mself\u001b[39m\u001b[38;5;241m.\u001b[39m_backward_hooks \u001b[38;5;129;01mor\u001b[39;00m \u001b[38;5;28mself\u001b[39m\u001b[38;5;241m.\u001b[39m_forward_hooks \u001b[38;5;129;01mor\u001b[39;00m \u001b[38;5;28mself\u001b[39m\u001b[38;5;241m.\u001b[39m_forward_pre_hooks \u001b[38;5;129;01mor\u001b[39;00m _global_backward_hooks\n\u001b[1;32m   1193\u001b[0m         \u001b[38;5;129;01mor\u001b[39;00m _global_forward_hooks \u001b[38;5;129;01mor\u001b[39;00m _global_forward_pre_hooks):\n\u001b[0;32m-> 1194\u001b[0m     \u001b[38;5;28;01mreturn\u001b[39;00m \u001b[43mforward_call\u001b[49m\u001b[43m(\u001b[49m\u001b[38;5;241;43m*\u001b[39;49m\u001b[38;5;28;43minput\u001b[39;49m\u001b[43m,\u001b[49m\u001b[43m \u001b[49m\u001b[38;5;241;43m*\u001b[39;49m\u001b[38;5;241;43m*\u001b[39;49m\u001b[43mkwargs\u001b[49m\u001b[43m)\u001b[49m\n\u001b[1;32m   1195\u001b[0m \u001b[38;5;66;03m# Do not call functions when jit is used\u001b[39;00m\n\u001b[1;32m   1196\u001b[0m full_backward_hooks, non_full_backward_hooks \u001b[38;5;241m=\u001b[39m [], []\n",
      "File \u001b[0;32m~/perovskites/ML_Ordering_Github/PerovskiteOrderingGCNNs/models/PerovskiteOrderingGCNNs_painn/nff/nn/models/painn.py:290\u001b[0m, in \u001b[0;36mPainn.forward\u001b[0;34m(self, batch, xyz, requires_stress, inference, **kwargs)\u001b[0m\n\u001b[1;32m    276\u001b[0m \u001b[38;5;28;01mdef\u001b[39;00m \u001b[38;5;21mforward\u001b[39m(\u001b[38;5;28mself\u001b[39m,\n\u001b[1;32m    277\u001b[0m             batch,\n\u001b[1;32m    278\u001b[0m             xyz\u001b[38;5;241m=\u001b[39m\u001b[38;5;28;01mNone\u001b[39;00m,\n\u001b[1;32m    279\u001b[0m             requires_stress\u001b[38;5;241m=\u001b[39m\u001b[38;5;28;01mFalse\u001b[39;00m,\n\u001b[1;32m    280\u001b[0m             inference\u001b[38;5;241m=\u001b[39m\u001b[38;5;28;01mFalse\u001b[39;00m,\n\u001b[1;32m    281\u001b[0m             \u001b[38;5;241m*\u001b[39m\u001b[38;5;241m*\u001b[39mkwargs):\n\u001b[1;32m    282\u001b[0m \u001b[38;5;250m    \u001b[39m\u001b[38;5;124;03m\"\"\"\u001b[39;00m\n\u001b[1;32m    283\u001b[0m \u001b[38;5;124;03m    Call the model\u001b[39;00m\n\u001b[1;32m    284\u001b[0m \u001b[38;5;124;03m    Args:\u001b[39;00m\n\u001b[0;32m   (...)\u001b[0m\n\u001b[1;32m    287\u001b[0m \u001b[38;5;124;03m        results (dict): dictionary of predictions\u001b[39;00m\n\u001b[1;32m    288\u001b[0m \u001b[38;5;124;03m    \"\"\"\u001b[39;00m\n\u001b[0;32m--> 290\u001b[0m     results, _ \u001b[38;5;241m=\u001b[39m \u001b[38;5;28;43mself\u001b[39;49m\u001b[38;5;241;43m.\u001b[39;49m\u001b[43mrun\u001b[49m\u001b[43m(\u001b[49m\u001b[43mbatch\u001b[49m\u001b[38;5;241;43m=\u001b[39;49m\u001b[43mbatch\u001b[49m\u001b[43m,\u001b[49m\n\u001b[1;32m    291\u001b[0m \u001b[43m                          \u001b[49m\u001b[43mxyz\u001b[49m\u001b[38;5;241;43m=\u001b[39;49m\u001b[43mxyz\u001b[49m\u001b[43m,\u001b[49m\n\u001b[1;32m    292\u001b[0m \u001b[43m                          \u001b[49m\u001b[43mrequires_stress\u001b[49m\u001b[38;5;241;43m=\u001b[39;49m\u001b[43mrequires_stress\u001b[49m\u001b[43m,\u001b[49m\n\u001b[1;32m    293\u001b[0m \u001b[43m                          \u001b[49m\u001b[43minference\u001b[49m\u001b[38;5;241;43m=\u001b[39;49m\u001b[43minference\u001b[49m\u001b[43m)\u001b[49m\n\u001b[1;32m    295\u001b[0m     \u001b[38;5;28;01mreturn\u001b[39;00m results\n",
      "File \u001b[0;32m~/perovskites/ML_Ordering_Github/PerovskiteOrderingGCNNs/models/PerovskiteOrderingGCNNs_painn/nff/nn/models/painn.py:254\u001b[0m, in \u001b[0;36mPainn.run\u001b[0;34m(self, batch, xyz, requires_stress, inference)\u001b[0m\n\u001b[1;32m    248\u001b[0m \u001b[38;5;28;01mdef\u001b[39;00m \u001b[38;5;21mrun\u001b[39m(\u001b[38;5;28mself\u001b[39m,\n\u001b[1;32m    249\u001b[0m         batch,\n\u001b[1;32m    250\u001b[0m         xyz\u001b[38;5;241m=\u001b[39m\u001b[38;5;28;01mNone\u001b[39;00m,\n\u001b[1;32m    251\u001b[0m         requires_stress\u001b[38;5;241m=\u001b[39m\u001b[38;5;28;01mFalse\u001b[39;00m,\n\u001b[1;32m    252\u001b[0m         inference\u001b[38;5;241m=\u001b[39m\u001b[38;5;28;01mFalse\u001b[39;00m):\n\u001b[0;32m--> 254\u001b[0m     atomwise_out, xyz, r_ij, nbrs \u001b[38;5;241m=\u001b[39m \u001b[38;5;28;43mself\u001b[39;49m\u001b[38;5;241;43m.\u001b[39;49m\u001b[43matomwise\u001b[49m\u001b[43m(\u001b[49m\u001b[43mbatch\u001b[49m\u001b[38;5;241;43m=\u001b[39;49m\u001b[43mbatch\u001b[49m\u001b[43m,\u001b[49m\n\u001b[1;32m    255\u001b[0m \u001b[43m                                                  \u001b[49m\u001b[43mxyz\u001b[49m\u001b[38;5;241;43m=\u001b[39;49m\u001b[43mxyz\u001b[49m\u001b[43m)\u001b[49m\n\u001b[1;32m    257\u001b[0m     \u001b[38;5;28;01mif\u001b[39;00m \u001b[38;5;28mgetattr\u001b[39m(\u001b[38;5;28mself\u001b[39m, \u001b[38;5;124m\"\u001b[39m\u001b[38;5;124mexcl_vol\u001b[39m\u001b[38;5;124m\"\u001b[39m, \u001b[38;5;28;01mNone\u001b[39;00m):\n\u001b[1;32m    258\u001b[0m         \u001b[38;5;66;03m# Excluded Volume interactions\u001b[39;00m\n\u001b[1;32m    259\u001b[0m         r_ex \u001b[38;5;241m=\u001b[39m \u001b[38;5;28mself\u001b[39m\u001b[38;5;241m.\u001b[39mV_ex(r_ij, nbrs, xyz)\n",
      "File \u001b[0;32m~/perovskites/ML_Ordering_Github/PerovskiteOrderingGCNNs/models/PerovskiteOrderingGCNNs_painn/nff/nn/models/painn.py:162\u001b[0m, in \u001b[0;36mPainn.atomwise\u001b[0;34m(self, batch, xyz)\u001b[0m\n\u001b[1;32m    159\u001b[0m s_i \u001b[38;5;241m=\u001b[39m s_i \u001b[38;5;241m+\u001b[39m ds_message\n\u001b[1;32m    160\u001b[0m v_i \u001b[38;5;241m=\u001b[39m v_i \u001b[38;5;241m+\u001b[39m dv_message\n\u001b[0;32m--> 162\u001b[0m ds_update, dv_update \u001b[38;5;241m=\u001b[39m \u001b[43mupdate_block\u001b[49m\u001b[43m(\u001b[49m\u001b[43ms_i\u001b[49m\u001b[38;5;241;43m=\u001b[39;49m\u001b[43ms_i\u001b[49m\u001b[43m,\u001b[49m\n\u001b[1;32m    163\u001b[0m \u001b[43m                                    \u001b[49m\u001b[43mv_i\u001b[49m\u001b[38;5;241;43m=\u001b[39;49m\u001b[43mv_i\u001b[49m\u001b[43m)\u001b[49m\n\u001b[1;32m    165\u001b[0m s_i \u001b[38;5;241m=\u001b[39m s_i \u001b[38;5;241m+\u001b[39m ds_update\n\u001b[1;32m    166\u001b[0m v_i \u001b[38;5;241m=\u001b[39m v_i \u001b[38;5;241m+\u001b[39m dv_update\n",
      "File \u001b[0;32m~/miniconda3/envs/Perovskite_ML_Environment/lib/python3.10/site-packages/torch/nn/modules/module.py:1194\u001b[0m, in \u001b[0;36mModule._call_impl\u001b[0;34m(self, *input, **kwargs)\u001b[0m\n\u001b[1;32m   1190\u001b[0m \u001b[38;5;66;03m# If we don't have any hooks, we want to skip the rest of the logic in\u001b[39;00m\n\u001b[1;32m   1191\u001b[0m \u001b[38;5;66;03m# this function, and just call forward.\u001b[39;00m\n\u001b[1;32m   1192\u001b[0m \u001b[38;5;28;01mif\u001b[39;00m \u001b[38;5;129;01mnot\u001b[39;00m (\u001b[38;5;28mself\u001b[39m\u001b[38;5;241m.\u001b[39m_backward_hooks \u001b[38;5;129;01mor\u001b[39;00m \u001b[38;5;28mself\u001b[39m\u001b[38;5;241m.\u001b[39m_forward_hooks \u001b[38;5;129;01mor\u001b[39;00m \u001b[38;5;28mself\u001b[39m\u001b[38;5;241m.\u001b[39m_forward_pre_hooks \u001b[38;5;129;01mor\u001b[39;00m _global_backward_hooks\n\u001b[1;32m   1193\u001b[0m         \u001b[38;5;129;01mor\u001b[39;00m _global_forward_hooks \u001b[38;5;129;01mor\u001b[39;00m _global_forward_pre_hooks):\n\u001b[0;32m-> 1194\u001b[0m     \u001b[38;5;28;01mreturn\u001b[39;00m \u001b[43mforward_call\u001b[49m\u001b[43m(\u001b[49m\u001b[38;5;241;43m*\u001b[39;49m\u001b[38;5;28;43minput\u001b[39;49m\u001b[43m,\u001b[49m\u001b[43m \u001b[49m\u001b[38;5;241;43m*\u001b[39;49m\u001b[38;5;241;43m*\u001b[39;49m\u001b[43mkwargs\u001b[49m\u001b[43m)\u001b[49m\n\u001b[1;32m   1195\u001b[0m \u001b[38;5;66;03m# Do not call functions when jit is used\u001b[39;00m\n\u001b[1;32m   1196\u001b[0m full_backward_hooks, non_full_backward_hooks \u001b[38;5;241m=\u001b[39m [], []\n",
      "File \u001b[0;32m~/perovskites/ML_Ordering_Github/PerovskiteOrderingGCNNs/models/PerovskiteOrderingGCNNs_painn/nff/nn/modules/painn.py:303\u001b[0m, in \u001b[0;36mUpdateBlock.forward\u001b[0;34m(self, s_i, v_i)\u001b[0m\n\u001b[1;32m    300\u001b[0m num_feats \u001b[38;5;241m=\u001b[39m v_i\u001b[38;5;241m.\u001b[39mshape[\u001b[38;5;241m1\u001b[39m]\n\u001b[1;32m    301\u001b[0m u_v \u001b[38;5;241m=\u001b[39m (\u001b[38;5;28mself\u001b[39m\u001b[38;5;241m.\u001b[39mu_mat(v_tranpose)\u001b[38;5;241m.\u001b[39mreshape(\u001b[38;5;241m-\u001b[39m\u001b[38;5;241m1\u001b[39m, \u001b[38;5;241m3\u001b[39m, num_feats)\n\u001b[1;32m    302\u001b[0m        \u001b[38;5;241m.\u001b[39mtranspose(\u001b[38;5;241m1\u001b[39m, \u001b[38;5;241m2\u001b[39m))\n\u001b[0;32m--> 303\u001b[0m v_v \u001b[38;5;241m=\u001b[39m (\u001b[38;5;28;43mself\u001b[39;49m\u001b[38;5;241;43m.\u001b[39;49m\u001b[43mv_mat\u001b[49m\u001b[43m(\u001b[49m\u001b[43mv_tranpose\u001b[49m\u001b[43m)\u001b[49m\u001b[38;5;241m.\u001b[39mreshape(\u001b[38;5;241m-\u001b[39m\u001b[38;5;241m1\u001b[39m, \u001b[38;5;241m3\u001b[39m, num_feats)\n\u001b[1;32m    304\u001b[0m        \u001b[38;5;241m.\u001b[39mtranspose(\u001b[38;5;241m1\u001b[39m, \u001b[38;5;241m2\u001b[39m))\n\u001b[1;32m    306\u001b[0m v_v_norm \u001b[38;5;241m=\u001b[39m norm(v_v)\n\u001b[1;32m    307\u001b[0m s_stack \u001b[38;5;241m=\u001b[39m torch\u001b[38;5;241m.\u001b[39mcat([s_i, v_v_norm], dim\u001b[38;5;241m=\u001b[39m\u001b[38;5;241m-\u001b[39m\u001b[38;5;241m1\u001b[39m)\n",
      "File \u001b[0;32m~/miniconda3/envs/Perovskite_ML_Environment/lib/python3.10/site-packages/torch/nn/modules/module.py:1194\u001b[0m, in \u001b[0;36mModule._call_impl\u001b[0;34m(self, *input, **kwargs)\u001b[0m\n\u001b[1;32m   1190\u001b[0m \u001b[38;5;66;03m# If we don't have any hooks, we want to skip the rest of the logic in\u001b[39;00m\n\u001b[1;32m   1191\u001b[0m \u001b[38;5;66;03m# this function, and just call forward.\u001b[39;00m\n\u001b[1;32m   1192\u001b[0m \u001b[38;5;28;01mif\u001b[39;00m \u001b[38;5;129;01mnot\u001b[39;00m (\u001b[38;5;28mself\u001b[39m\u001b[38;5;241m.\u001b[39m_backward_hooks \u001b[38;5;129;01mor\u001b[39;00m \u001b[38;5;28mself\u001b[39m\u001b[38;5;241m.\u001b[39m_forward_hooks \u001b[38;5;129;01mor\u001b[39;00m \u001b[38;5;28mself\u001b[39m\u001b[38;5;241m.\u001b[39m_forward_pre_hooks \u001b[38;5;129;01mor\u001b[39;00m _global_backward_hooks\n\u001b[1;32m   1193\u001b[0m         \u001b[38;5;129;01mor\u001b[39;00m _global_forward_hooks \u001b[38;5;129;01mor\u001b[39;00m _global_forward_pre_hooks):\n\u001b[0;32m-> 1194\u001b[0m     \u001b[38;5;28;01mreturn\u001b[39;00m \u001b[43mforward_call\u001b[49m\u001b[43m(\u001b[49m\u001b[38;5;241;43m*\u001b[39;49m\u001b[38;5;28;43minput\u001b[39;49m\u001b[43m,\u001b[49m\u001b[43m \u001b[49m\u001b[38;5;241;43m*\u001b[39;49m\u001b[38;5;241;43m*\u001b[39;49m\u001b[43mkwargs\u001b[49m\u001b[43m)\u001b[49m\n\u001b[1;32m   1195\u001b[0m \u001b[38;5;66;03m# Do not call functions when jit is used\u001b[39;00m\n\u001b[1;32m   1196\u001b[0m full_backward_hooks, non_full_backward_hooks \u001b[38;5;241m=\u001b[39m [], []\n",
      "File \u001b[0;32m~/perovskites/ML_Ordering_Github/PerovskiteOrderingGCNNs/models/PerovskiteOrderingGCNNs_painn/nff/nn/layers.py:137\u001b[0m, in \u001b[0;36mDense.forward\u001b[0;34m(self, inputs)\u001b[0m\n\u001b[1;32m    129\u001b[0m \u001b[38;5;250m\u001b[39m\u001b[38;5;124;03m\"\"\"\u001b[39;00m\n\u001b[1;32m    130\u001b[0m \u001b[38;5;124;03mArgs:\u001b[39;00m\n\u001b[1;32m    131\u001b[0m \u001b[38;5;124;03m    inputs (dict of torch.Tensor): SchNetPack format dictionary of input tensors.\u001b[39;00m\n\u001b[0;32m   (...)\u001b[0m\n\u001b[1;32m    134\u001b[0m \u001b[38;5;124;03m    torch.Tensor: Output of the dense layer.\u001b[39;00m\n\u001b[1;32m    135\u001b[0m \u001b[38;5;124;03m\"\"\"\u001b[39;00m\n\u001b[1;32m    136\u001b[0m \u001b[38;5;28mself\u001b[39m\u001b[38;5;241m.\u001b[39mto(inputs\u001b[38;5;241m.\u001b[39mdevice)\n\u001b[0;32m--> 137\u001b[0m y \u001b[38;5;241m=\u001b[39m \u001b[38;5;28;43msuper\u001b[39;49m\u001b[43m(\u001b[49m\u001b[43m)\u001b[49m\u001b[38;5;241m.\u001b[39mforward(inputs)\n\u001b[1;32m    139\u001b[0m \u001b[38;5;66;03m# kept for compatibility with earlier versions of nff\u001b[39;00m\n\u001b[1;32m    140\u001b[0m \u001b[38;5;28;01mif\u001b[39;00m \u001b[38;5;28mhasattr\u001b[39m(\u001b[38;5;28mself\u001b[39m, \u001b[38;5;124m\"\u001b[39m\u001b[38;5;124mdropout\u001b[39m\u001b[38;5;124m\"\u001b[39m):\n",
      "\u001b[0;31mKeyboardInterrupt\u001b[0m: "
     ]
    }
   ],
   "source": [
    "hyperparameters = get_default_painn_hyperparameters()\n",
    "best_model, loss_fn = trainer(model,Normalizer,'Painn',train_loader,train_loader,hyperparameters,\"saved_models/Painn/Scrap\",0)\n"
   ]
  },
  {
   "cell_type": "code",
   "execution_count": 17,
   "id": "354e4fe2",
   "metadata": {},
   "outputs": [
    {
     "name": "stderr",
     "output_type": "stream",
     "text": [
      "100%|██████████| 1000/1000 [00:00<00:00, 4311.06it/s]\n",
      "100%|██████████| 1000/1000 [00:48<00:00, 20.65it/s]\n",
      "/home/jkdamewo/miniconda3/envs/Perovskite_ML_Environment/lib/python3.10/site-packages/torch/jit/_check.py:181: UserWarning: The TorchScript type system doesn't support instance-level annotations on empty non-base types in `__init__`. Instead, either 1) use a type annotation in the class body, or 2) wrap the type in `torch.jit.Attribute`.\n",
      "  warnings.warn(\"The TorchScript type system doesn't support \"\n"
     ]
    }
   ],
   "source": [
    "train_loader = get_dataloader(data_unrelaxed,\"dft_e_hull\",\"e3nn\",4)\n",
    "model, Normalizer = create_model(\"e3nn\",train_loader)"
   ]
  },
  {
   "cell_type": "code",
   "execution_count": 18,
   "id": "a8140450",
   "metadata": {},
   "outputs": [
    {
     "name": "stdout",
     "output_type": "stream",
     "text": [
      "{'MaxEpochs': 100, 'log_lr': -3, 'reduceLR_patience': 10, 'len_embedding_feature_vector': 64, 'num_hidden_feature': 128, 'num_hidden_layer': 2, 'multiplicity_irreps': 32, 'num_conv': 3, 'num_radical_basis': 10, 'num_radial_neurons': 100}\n"
     ]
    },
    {
     "name": "stderr",
     "output_type": "stream",
     "text": [
      "100%|██████████| 250/250 [00:13<00:00, 18.96it/s]\n"
     ]
    },
    {
     "ename": "NameError",
     "evalue": "name 'train_eval_loader' is not defined",
     "output_type": "error",
     "traceback": [
      "\u001b[0;31m---------------------------------------------------------------------------\u001b[0m",
      "\u001b[0;31mNameError\u001b[0m                                 Traceback (most recent call last)",
      "Cell \u001b[0;32mIn[18], line 3\u001b[0m\n\u001b[1;32m      1\u001b[0m hyperparameters \u001b[38;5;241m=\u001b[39m get_default_e3nn_hyperparameters()\n\u001b[1;32m      2\u001b[0m \u001b[38;5;28mprint\u001b[39m(hyperparameters)\n\u001b[0;32m----> 3\u001b[0m best_model, loss_fn \u001b[38;5;241m=\u001b[39m \u001b[43mtrainer\u001b[49m\u001b[43m(\u001b[49m\u001b[43mmodel\u001b[49m\u001b[43m,\u001b[49m\u001b[43mNormalizer\u001b[49m\u001b[43m,\u001b[49m\u001b[38;5;124;43m'\u001b[39;49m\u001b[38;5;124;43me3nn\u001b[39;49m\u001b[38;5;124;43m'\u001b[39;49m\u001b[43m,\u001b[49m\u001b[43mtrain_loader\u001b[49m\u001b[43m,\u001b[49m\u001b[43mtrain_loader\u001b[49m\u001b[43m,\u001b[49m\u001b[43mhyperparameters\u001b[49m\u001b[43m,\u001b[49m\u001b[38;5;124;43m\"\u001b[39;49m\u001b[38;5;124;43msaved_models/e3nn/Scrap\u001b[39;49m\u001b[38;5;124;43m\"\u001b[39;49m\u001b[43m,\u001b[49m\u001b[38;5;241;43m0\u001b[39;49m\u001b[43m)\u001b[49m\n",
      "File \u001b[0;32m~/perovskites/ML_Ordering_Github/PerovskiteOrderingGCNNs/training/model_training/trainer.py:27\u001b[0m, in \u001b[0;36mtrainer\u001b[0;34m(model, normalizer, model_type, train_loader, val_loader, hyperparameters, OUTDIR, gpu_num)\u001b[0m\n\u001b[1;32m     25\u001b[0m     best_model \u001b[38;5;241m=\u001b[39m train_painn(model,train_loader,val_loader,hyperparameters,OUTDIR,gpu_num)\n\u001b[1;32m     26\u001b[0m \u001b[38;5;28;01melse\u001b[39;00m:\n\u001b[0;32m---> 27\u001b[0m     best_model \u001b[38;5;241m=\u001b[39m \u001b[43mtrain_CGCNN_e3nn\u001b[49m\u001b[43m(\u001b[49m\u001b[43mmodel\u001b[49m\u001b[43m,\u001b[49m\u001b[43mnormalizer\u001b[49m\u001b[43m,\u001b[49m\u001b[43mmodel_type\u001b[49m\u001b[43m,\u001b[49m\u001b[43mloss_fn\u001b[49m\u001b[43m,\u001b[49m\u001b[43mcontrastive_loss\u001b[49m\u001b[43m,\u001b[49m\u001b[43mtrain_loader\u001b[49m\u001b[43m,\u001b[49m\u001b[43mval_loader\u001b[49m\u001b[43m,\u001b[49m\u001b[43mhyperparameters\u001b[49m\u001b[43m,\u001b[49m\u001b[43mOUTDIR\u001b[49m\u001b[43m,\u001b[49m\u001b[43mgpu_num\u001b[49m\u001b[43m)\u001b[49m\n\u001b[1;32m     29\u001b[0m \u001b[38;5;28;01mreturn\u001b[39;00m best_model, loss_fn\n",
      "File \u001b[0;32m~/perovskites/ML_Ordering_Github/PerovskiteOrderingGCNNs/training/model_training/trainer.py:143\u001b[0m, in \u001b[0;36mtrain_CGCNN_e3nn\u001b[0;34m(model, normalizer, model_type, loss_fn, contrastive_loss, train_loader, val_loader, hyperparameters, OUTDIR, gpu_num, training_eval_loader)\u001b[0m\n\u001b[1;32m    141\u001b[0m model\u001b[38;5;241m.\u001b[39meval()\n\u001b[1;32m    142\u001b[0m \u001b[38;5;28;01mif\u001b[39;00m model_type \u001b[38;5;241m==\u001b[39m \u001b[38;5;124m\"\u001b[39m\u001b[38;5;124me3nn\u001b[39m\u001b[38;5;124m\"\u001b[39m:\n\u001b[0;32m--> 143\u001b[0m     predictions, targets, train_avg_loss \u001b[38;5;241m=\u001b[39m evaluate_model(model, normalizer, model_type, \u001b[43mtrain_eval_loader\u001b[49m, contrastive_loss, gpu_num)\n\u001b[1;32m    144\u001b[0m     predictions, targets, valid_avg_loss \u001b[38;5;241m=\u001b[39m evaluate_model(model, normalizer, model_type, val_loader, contrastive_loss, gpu_num)\n\u001b[1;32m    146\u001b[0m \u001b[38;5;28;01melse\u001b[39;00m:\n",
      "\u001b[0;31mNameError\u001b[0m: name 'train_eval_loader' is not defined"
     ]
    }
   ],
   "source": [
    "hyperparameters = get_default_e3nn_hyperparameters()\n",
    "print(hyperparameters)\n",
    "best_model, loss_fn = trainer(model,Normalizer,'e3nn',train_loader,train_loader,hyperparameters,\"saved_models/e3nn/Scrap\",0)"
   ]
  },
  {
   "cell_type": "code",
   "execution_count": null,
   "id": "300725c6",
   "metadata": {},
   "outputs": [],
   "source": [
    "train_loader = get_dataloader(data_unrelaxed,\"dft_e_hull\",\"e3nn_contrastive\",4)\n",
    "model, Normalizer = create_model(\"e3nn_contrastive\",train_loader)"
   ]
  },
  {
   "cell_type": "code",
   "execution_count": null,
   "id": "defa8607",
   "metadata": {},
   "outputs": [],
   "source": [
    "hyperparameters = get_default_e3nn_hyperparameters()\n",
    "print(hyperparameters)\n",
    "best_model, loss_fn = trainer(model,Normalizer,'e3nn_contrastive',train_loader,train_loader,hyperparameters,\"saved_models/e3nn_contrastive/Scrap\",0)"
   ]
  },
  {
   "cell_type": "code",
   "execution_count": 30,
   "id": "690da6a1",
   "metadata": {},
   "outputs": [
    {
     "name": "stderr",
     "output_type": "stream",
     "text": [
      "100%|██████████| 62/62 [00:00<00:00, 489.00it/s]"
     ]
    },
    {
     "name": "stdout",
     "output_type": "stream",
     "text": [
      "DataCompBatch(x=[880, 92], edge_index=[2, 44880], pos=[880, 3], lattice=[22, 3, 3], symbol=[22], comp=[22], z=[880, 92], edge_shift=[44880, 3], edge_vec=[44880, 3], edge_len=[22], target=[22, 1], idx=[22, 1], batch=[880], ptr=[23])\n",
      "['La4Mn8O24Sr4', 'La4Mn8O24Sr4', 'La4Mn8O24Sr4', 'La4Mn8O24Sr4', 'La4Mn8O24Sr4', 'Mg5Mn4O24Sr3Ta4', 'Mg5Mn4O24Sr3Ta4', 'Mg5Mn4O24Sr3Ta4', 'Mg5Mn4O24Sr3Ta4', 'Mg5Mn4O24Sr3Ta4', 'Mg5Mn4O24Sr3Ta4', 'Co4Mn4O24Pr8', 'Co4Mn4O24Pr8', 'Co4Mn4O24Pr8', 'Co4Mn4O24Pr8', 'Co4Mn4O24Pr8', 'Co4Fe4La2O24Sr6', 'Co4Fe4La2O24Sr6', 'Co4Fe4La2O24Sr6', 'Co4Fe4La2O24Sr6', 'Co4Fe4La2O24Sr6', 'Co4Fe4La2O24Sr6']\n"
     ]
    },
    {
     "name": "stderr",
     "output_type": "stream",
     "text": [
      "\n"
     ]
    }
   ],
   "source": [
    "#### Looking at contrastive dataloader\n",
    "from tqdm import tqdm\n",
    "\n",
    "batch_num = 7\n",
    "\n",
    "for j, d in tqdm(enumerate(train_loader), total=len(train_loader)):\n",
    "    \n",
    "    if j == 4:\n",
    "        \n",
    "        print(d)\n",
    "        print(d.comp)\n"
   ]
  },
  {
   "cell_type": "code",
   "execution_count": 13,
   "id": "b3ec1288",
   "metadata": {},
   "outputs": [],
   "source": [
    "from step_2_run_sigopt_experiment import sigopt_evaluate_model\n",
    "from training.model_training.trainer import trainer\n",
    "from processing.dataloader.dataloader import get_dataloader\n"
   ]
  },
  {
   "cell_type": "code",
   "execution_count": 14,
   "id": "4b2eabe6",
   "metadata": {},
   "outputs": [],
   "source": [
    "import shutil\n",
    "import os\n",
    "## processed\n",
    "\n"
   ]
  },
  {
   "cell_type": "code",
   "execution_count": 20,
   "id": "257320eb",
   "metadata": {},
   "outputs": [],
   "source": [
    "def test_record_keeping(model_type):\n",
    "    \n",
    "    target_prop = \"dft_e_hull\"\n",
    "    interpolation = True\n",
    "    is_relaxed = False\n",
    "    \n",
    "    if \"CGCNN\" in model_type:\n",
    "        hyperparameters = get_default_cgcnn_hyperparameters()\n",
    "    elif \"Painn\" in model_type:\n",
    "        hyperparameters = get_default_painn_hyperparameters()\n",
    "    else:\n",
    "        hyperparameters = get_default_e3nn_hyperparameters()\n",
    "        \n",
    "    hyperparameters[\"batch_size\"] = 1\n",
    "    hyperparameters[\"batch_size\"] = 1\n",
    "    \n",
    "    training_data = pd.read_json('data/training_set.json')\n",
    "    validation_data = pd.read_json('data/validation_set.json')\n",
    "    edge_data = pd.read_json('data/edge_dataset.json')\n",
    "\n",
    "    print(\"Loaded data\")\n",
    "\n",
    "    if not interpolation:\n",
    "        training_data = pd.concat((training_data,edge_data))\n",
    "\n",
    "    data = [training_data[:50], validation_data[:50]]\n",
    "    processed_data = []\n",
    "\n",
    "    for dataset in data:\n",
    "        dataset = filter_data_by_properties(dataset,target_prop)\n",
    "\n",
    "        if is_relaxed:\n",
    "            dataset = select_structures(dataset,\"relaxed\")\n",
    "        else:\n",
    "            dataset = select_structures(dataset,\"unrelaxed\")\n",
    "\n",
    "        if interpolation:\n",
    "            dataset = apply_interpolation(dataset,target_prop)\n",
    "\n",
    "        processed_data.append(dataset)\n",
    "    \n",
    "    device = \"cuda:\" + str(1)\n",
    "    \n",
    "    train_data = processed_data[0]\n",
    "    validation_data = processed_data[1]\n",
    "\n",
    "    train_loader = get_dataloader(train_data,target_prop,model_type,hyperparameters[\"batch_size\"],interpolation)\n",
    "    train_eval_loader = None\n",
    "\n",
    "    if \"e3nn\" in model_type:\n",
    "        train_eval_loader = get_dataloader(train_data,target_prop,\"e3nn_contrastive\",1,interpolation)\n",
    "        val_loader = get_dataloader(validation_data,target_prop,\"e3nn_contrastive\",1,interpolation)\n",
    "    else:\n",
    "        val_loader = get_dataloader(validation_data,target_prop,model_type,1,interpolation)\n",
    "    \n",
    "    \n",
    "    model, normalizer = create_model(model_type,train_loader)\n",
    "    \n",
    "    model_tmp_dir = './saved_models/'+ model_type + '/' + \"SCRAP_TMP\"\n",
    "    if os.path.exists(model_tmp_dir):\n",
    "        shutil.rmtree(model_tmp_dir)\n",
    "    os.makedirs(model_tmp_dir) \n",
    "\n",
    "    best_model,loss_fn = trainer(model,normalizer,model_type,train_loader,val_loader,hyperparameters,model_tmp_dir,1,train_eval_loader)\n",
    "    \n",
    "    \n",
    "    model_save_dir = './saved_models/'+ model_type + '/' + \"SCRAP_STORE\"\n",
    "    model_tmp_dir = './saved_models/'+ model_type + '/' + \"SCRAP_TMP\"\n",
    "\n",
    "    if not os.path.exists(model_save_dir):\n",
    "        os.makedirs(model_save_dir)\n",
    "\n",
    "            ### Copy contents of tmp file\n",
    "    possible_file_names = [\"best_model\", \"best_model.pth.tar\", \"best_model.torch\",\n",
    "                            \"final_model.torch\",\"final_model\",\"final_model.pth.tar\",\n",
    "                            \"log_human_read.csv\",\"checkpoints/checkpoint-100.pth.tar\"]\n",
    "    for file_name in possible_file_names:\n",
    "        if os.path.isfile(model_tmp_dir + \"/\" + file_name):\n",
    "            if file_name == \"checkpoints/checkpoint-100.pth.tar\":\n",
    "                shutil.move(model_tmp_dir + \"/\" + file_name, model_save_dir + \"/\" + \"checkpoint-100.pth.tar\")\n",
    "            else:\n",
    "                shutil.move(model_tmp_dir + \"/\" + file_name, model_save_dir + \"/\" + file_name)\n",
    "\n",
    "            ### Empty tmp file\n",
    "    shutil.rmtree(model_tmp_dir)\n"
   ]
  },
  {
   "cell_type": "code",
   "execution_count": 16,
   "id": "0a14ece1",
   "metadata": {},
   "outputs": [
    {
     "name": "stdout",
     "output_type": "stream",
     "text": [
      "Loaded data\n"
     ]
    },
    {
     "name": "stderr",
     "output_type": "stream",
     "text": [
      "100%|██████████| 500/500 [00:00<00:00, 3055.83it/s]\n",
      "100%|██████████| 1185/1185 [00:00<00:00, 3289.72it/s]\n",
      "100%|██████████| 500/500 [00:16<00:00, 29.64it/s]\n",
      "100%|██████████| 500/500 [00:06<00:00, 78.10it/s]\n"
     ]
    },
    {
     "name": "stdout",
     "output_type": "stream",
     "text": [
      "   1 ,lr = 0.00100000  train loss = 0.04910847  val loss = 0.06779332  time = 00:00:06\n"
     ]
    },
    {
     "name": "stderr",
     "output_type": "stream",
     "text": [
      "100%|██████████| 500/500 [00:05<00:00, 87.00it/s]\n"
     ]
    },
    {
     "name": "stdout",
     "output_type": "stream",
     "text": [
      "   2 ,lr = 0.00100000  train loss = 0.05066375  val loss = 0.06608985  time = 00:00:05\n"
     ]
    },
    {
     "name": "stderr",
     "output_type": "stream",
     "text": [
      "100%|██████████| 500/500 [00:05<00:00, 85.39it/s]\n"
     ]
    },
    {
     "name": "stdout",
     "output_type": "stream",
     "text": [
      "   3 ,lr = 0.00100000  train loss = 0.07198797  val loss = 0.08498857  time = 00:00:05\n"
     ]
    },
    {
     "name": "stderr",
     "output_type": "stream",
     "text": [
      "100%|██████████| 500/500 [00:05<00:00, 87.38it/s]\n"
     ]
    },
    {
     "name": "stdout",
     "output_type": "stream",
     "text": [
      "   4 ,lr = 0.00100000  train loss = 0.07430193  val loss = 0.08423319  time = 00:00:05\n"
     ]
    },
    {
     "name": "stderr",
     "output_type": "stream",
     "text": [
      "100%|██████████| 500/500 [00:05<00:00, 86.70it/s]\n"
     ]
    },
    {
     "name": "stdout",
     "output_type": "stream",
     "text": [
      "   5 ,lr = 0.00100000  train loss = 0.16036915  val loss = 0.17840010  time = 00:00:05\n"
     ]
    }
   ],
   "source": [
    "test_record_keeping(\"CGCNN\")"
   ]
  },
  {
   "cell_type": "code",
   "execution_count": 21,
   "id": "6219c73b",
   "metadata": {},
   "outputs": [
    {
     "name": "stdout",
     "output_type": "stream",
     "text": [
      "Loaded data\n"
     ]
    },
    {
     "name": "stderr",
     "output_type": "stream",
     "text": [
      "100%|██████████| 50/50 [00:00<00:00, 1462.16it/s]\n",
      "100%|██████████| 50/50 [00:02<00:00, 20.32it/s]\n",
      "100%|██████████| 50/50 [00:00<00:00, 7511.29it/s]\n",
      "100%|██████████| 50/50 [00:00<00:00, 2049.88it/s]\n",
      "100%|██████████| 50/50 [00:02<00:00, 24.48it/s]\n",
      "100%|██████████| 50/50 [00:00<00:00, 9515.64it/s]"
     ]
    },
    {
     "name": "stdout",
     "output_type": "stream",
     "text": [
      " Time | Epoch | Learning rate | Train loss | Validation loss | MAE_dft_e_hull_diff | GPU Memory (MB)\n"
     ]
    },
    {
     "name": "stderr",
     "output_type": "stream",
     "text": [
      "\n",
      " 98%|█████████▊| 49/50 [00:00<00:00, 49.32it/s]\n"
     ]
    },
    {
     "name": "stdout",
     "output_type": "stream",
     "text": [
      "24:19 |     1 |     1.000e-03 |     0.2135 |          0.0567 |              0.0567 |               0\n"
     ]
    },
    {
     "name": "stderr",
     "output_type": "stream",
     "text": [
      " 98%|█████████▊| 49/50 [00:00<00:00, 49.73it/s]\n"
     ]
    },
    {
     "name": "stdout",
     "output_type": "stream",
     "text": [
      "24:21 |     2 |     1.000e-03 |     0.1063 |          0.0825 |              0.0825 |               0\n"
     ]
    },
    {
     "name": "stderr",
     "output_type": "stream",
     "text": [
      " 98%|█████████▊| 49/50 [00:00<00:00, 49.37it/s]\n"
     ]
    },
    {
     "name": "stdout",
     "output_type": "stream",
     "text": [
      "24:22 |     3 |     1.000e-03 |     0.0753 |          0.1102 |              0.1102 |               0\n"
     ]
    },
    {
     "name": "stderr",
     "output_type": "stream",
     "text": [
      " 98%|█████████▊| 49/50 [00:00<00:00, 49.50it/s]\n"
     ]
    },
    {
     "name": "stdout",
     "output_type": "stream",
     "text": [
      "24:23 |     4 |     1.000e-03 |     0.0838 |          0.0657 |              0.0657 |               0\n"
     ]
    },
    {
     "name": "stderr",
     "output_type": "stream",
     "text": [
      " 98%|█████████▊| 49/50 [00:00<00:00, 49.27it/s]\n"
     ]
    },
    {
     "name": "stdout",
     "output_type": "stream",
     "text": [
      "24:25 |     5 |     1.000e-03 |     0.0794 |          0.1193 |              0.1193 |               0\n"
     ]
    },
    {
     "name": "stderr",
     "output_type": "stream",
     "text": [
      " 98%|█████████▊| 49/50 [00:00<00:00, 49.24it/s]\n"
     ]
    },
    {
     "name": "stdout",
     "output_type": "stream",
     "text": [
      "24:26 |     6 |     1.000e-03 |     0.0770 |          0.0817 |              0.0817 |               0\n"
     ]
    },
    {
     "name": "stderr",
     "output_type": "stream",
     "text": [
      " 98%|█████████▊| 49/50 [00:00<00:00, 49.36it/s]\n"
     ]
    },
    {
     "name": "stdout",
     "output_type": "stream",
     "text": [
      "24:28 |     7 |     1.000e-03 |     0.0631 |          0.0623 |              0.0623 |               0\n"
     ]
    },
    {
     "name": "stderr",
     "output_type": "stream",
     "text": [
      " 98%|█████████▊| 49/50 [00:00<00:00, 49.49it/s]\n"
     ]
    },
    {
     "name": "stdout",
     "output_type": "stream",
     "text": [
      "24:29 |     8 |     1.000e-03 |     0.0544 |          0.0817 |              0.0817 |               0\n"
     ]
    },
    {
     "name": "stderr",
     "output_type": "stream",
     "text": [
      " 98%|█████████▊| 49/50 [00:00<00:00, 49.54it/s]\n"
     ]
    },
    {
     "name": "stdout",
     "output_type": "stream",
     "text": [
      "24:30 |     9 |     1.000e-03 |     0.0537 |          0.0502 |              0.0502 |               0\n"
     ]
    },
    {
     "name": "stderr",
     "output_type": "stream",
     "text": [
      " 98%|█████████▊| 49/50 [00:00<00:00, 49.45it/s]\n"
     ]
    },
    {
     "name": "stdout",
     "output_type": "stream",
     "text": [
      "24:32 |    10 |     1.000e-03 |     0.0428 |          0.0876 |              0.0876 |               0\n"
     ]
    },
    {
     "name": "stderr",
     "output_type": "stream",
     "text": [
      " 98%|█████████▊| 49/50 [00:00<00:00, 49.46it/s]\n"
     ]
    },
    {
     "name": "stdout",
     "output_type": "stream",
     "text": [
      "24:33 |    11 |     1.000e-03 |     0.0501 |          0.0489 |              0.0489 |               0\n"
     ]
    },
    {
     "name": "stderr",
     "output_type": "stream",
     "text": [
      " 98%|█████████▊| 49/50 [00:00<00:00, 49.49it/s]\n"
     ]
    },
    {
     "name": "stdout",
     "output_type": "stream",
     "text": [
      "24:35 |    12 |     1.000e-03 |     0.0492 |          0.0616 |              0.0616 |               0\n"
     ]
    },
    {
     "name": "stderr",
     "output_type": "stream",
     "text": [
      " 98%|█████████▊| 49/50 [00:00<00:00, 49.54it/s]\n"
     ]
    },
    {
     "name": "stdout",
     "output_type": "stream",
     "text": [
      "24:36 |    13 |     1.000e-03 |     0.0459 |          0.0660 |              0.0660 |               0\n"
     ]
    },
    {
     "name": "stderr",
     "output_type": "stream",
     "text": [
      " 98%|█████████▊| 49/50 [00:00<00:00, 49.55it/s]\n"
     ]
    },
    {
     "name": "stdout",
     "output_type": "stream",
     "text": [
      "24:38 |    14 |     1.000e-03 |     0.0452 |          0.0939 |              0.0939 |               0\n"
     ]
    },
    {
     "name": "stderr",
     "output_type": "stream",
     "text": [
      " 98%|█████████▊| 49/50 [00:00<00:00, 49.20it/s]\n"
     ]
    },
    {
     "name": "stdout",
     "output_type": "stream",
     "text": [
      "24:39 |    15 |     1.000e-03 |     0.0474 |          0.1085 |              0.1085 |               0\n"
     ]
    },
    {
     "name": "stderr",
     "output_type": "stream",
     "text": [
      " 98%|█████████▊| 49/50 [00:00<00:00, 49.39it/s]\n"
     ]
    },
    {
     "name": "stdout",
     "output_type": "stream",
     "text": [
      "24:40 |    16 |     1.000e-03 |     0.0494 |          0.0722 |              0.0722 |               0\n"
     ]
    },
    {
     "name": "stderr",
     "output_type": "stream",
     "text": [
      " 98%|█████████▊| 49/50 [00:00<00:00, 49.45it/s]\n"
     ]
    },
    {
     "name": "stdout",
     "output_type": "stream",
     "text": [
      "24:42 |    17 |     1.000e-03 |     0.0529 |          0.0839 |              0.0839 |               0\n"
     ]
    },
    {
     "name": "stderr",
     "output_type": "stream",
     "text": [
      " 98%|█████████▊| 49/50 [00:01<00:00, 46.66it/s]\n"
     ]
    },
    {
     "name": "stdout",
     "output_type": "stream",
     "text": [
      "24:43 |    18 |     1.000e-03 |     0.0402 |          0.0788 |              0.0788 |               0\n"
     ]
    },
    {
     "name": "stderr",
     "output_type": "stream",
     "text": [
      " 98%|█████████▊| 49/50 [00:00<00:00, 49.60it/s]\n"
     ]
    },
    {
     "name": "stdout",
     "output_type": "stream",
     "text": [
      "24:45 |    19 |     1.000e-03 |     0.0394 |          0.0930 |              0.0930 |               0\n"
     ]
    },
    {
     "name": "stderr",
     "output_type": "stream",
     "text": [
      " 98%|█████████▊| 49/50 [00:00<00:00, 49.72it/s]\n"
     ]
    },
    {
     "name": "stdout",
     "output_type": "stream",
     "text": [
      "24:46 |    20 |     1.000e-03 |     0.0404 |          0.0691 |              0.0691 |               0\n"
     ]
    },
    {
     "name": "stderr",
     "output_type": "stream",
     "text": [
      " 98%|█████████▊| 49/50 [00:00<00:00, 49.41it/s]\n"
     ]
    },
    {
     "name": "stdout",
     "output_type": "stream",
     "text": [
      "24:48 |    21 |     1.000e-03 |     0.0312 |          0.0486 |              0.0486 |               0\n"
     ]
    },
    {
     "name": "stderr",
     "output_type": "stream",
     "text": [
      " 98%|█████████▊| 49/50 [00:00<00:00, 49.82it/s]\n"
     ]
    },
    {
     "name": "stdout",
     "output_type": "stream",
     "text": [
      "24:49 |    22 |     1.000e-03 |     0.0326 |          0.0696 |              0.0696 |               0\n"
     ]
    },
    {
     "name": "stderr",
     "output_type": "stream",
     "text": [
      " 98%|█████████▊| 49/50 [00:00<00:00, 49.69it/s]\n"
     ]
    },
    {
     "name": "stdout",
     "output_type": "stream",
     "text": [
      "24:50 |    23 |     1.000e-03 |     0.0535 |          0.1385 |              0.1385 |               0\n"
     ]
    },
    {
     "name": "stderr",
     "output_type": "stream",
     "text": [
      " 98%|█████████▊| 49/50 [00:00<00:00, 49.55it/s]\n"
     ]
    },
    {
     "name": "stdout",
     "output_type": "stream",
     "text": [
      "24:52 |    24 |     1.000e-03 |     0.0543 |          0.0527 |              0.0527 |               0\n"
     ]
    },
    {
     "name": "stderr",
     "output_type": "stream",
     "text": [
      " 98%|█████████▊| 49/50 [00:00<00:00, 49.76it/s]\n"
     ]
    },
    {
     "name": "stdout",
     "output_type": "stream",
     "text": [
      "24:53 |    25 |     1.000e-03 |     0.0388 |          0.1064 |              0.1064 |               0\n"
     ]
    },
    {
     "name": "stderr",
     "output_type": "stream",
     "text": [
      " 98%|█████████▊| 49/50 [00:00<00:00, 49.58it/s]\n"
     ]
    },
    {
     "name": "stdout",
     "output_type": "stream",
     "text": [
      "24:55 |    26 |     1.000e-03 |     0.0371 |          0.0580 |              0.0580 |               0\n"
     ]
    },
    {
     "name": "stderr",
     "output_type": "stream",
     "text": [
      " 98%|█████████▊| 49/50 [00:00<00:00, 49.62it/s]\n"
     ]
    },
    {
     "name": "stdout",
     "output_type": "stream",
     "text": [
      "24:56 |    27 |     1.000e-03 |     0.0322 |          0.0470 |              0.0470 |               0\n"
     ]
    },
    {
     "name": "stderr",
     "output_type": "stream",
     "text": [
      " 98%|█████████▊| 49/50 [00:00<00:00, 49.63it/s]\n"
     ]
    },
    {
     "name": "stdout",
     "output_type": "stream",
     "text": [
      "24:57 |    28 |     1.000e-03 |     0.0354 |          0.0617 |              0.0617 |               0\n"
     ]
    },
    {
     "name": "stderr",
     "output_type": "stream",
     "text": [
      " 98%|█████████▊| 49/50 [00:00<00:00, 49.53it/s]\n"
     ]
    },
    {
     "name": "stdout",
     "output_type": "stream",
     "text": [
      "24:59 |    29 |     1.000e-03 |     0.0290 |          0.0518 |              0.0518 |               0\n"
     ]
    },
    {
     "name": "stderr",
     "output_type": "stream",
     "text": [
      " 98%|█████████▊| 49/50 [00:00<00:00, 49.70it/s]\n"
     ]
    },
    {
     "name": "stdout",
     "output_type": "stream",
     "text": [
      "25:00 |    30 |     1.000e-03 |     0.0366 |          0.0965 |              0.0965 |               0\n"
     ]
    },
    {
     "name": "stderr",
     "output_type": "stream",
     "text": [
      " 98%|█████████▊| 49/50 [00:00<00:00, 49.62it/s]\n"
     ]
    },
    {
     "name": "stdout",
     "output_type": "stream",
     "text": [
      "25:02 |    31 |     1.000e-03 |     0.0339 |          0.0715 |              0.0715 |               0\n"
     ]
    },
    {
     "name": "stderr",
     "output_type": "stream",
     "text": [
      " 98%|█████████▊| 49/50 [00:00<00:00, 49.64it/s]\n"
     ]
    },
    {
     "name": "stdout",
     "output_type": "stream",
     "text": [
      "25:03 |    32 |     1.000e-03 |     0.0310 |          0.0647 |              0.0647 |               0\n"
     ]
    },
    {
     "name": "stderr",
     "output_type": "stream",
     "text": [
      " 98%|█████████▊| 49/50 [00:00<00:00, 49.62it/s]\n"
     ]
    },
    {
     "name": "stdout",
     "output_type": "stream",
     "text": [
      "25:04 |    33 |     1.000e-03 |     0.0404 |          0.0629 |              0.0629 |               0\n"
     ]
    },
    {
     "name": "stderr",
     "output_type": "stream",
     "text": [
      " 98%|█████████▊| 49/50 [00:00<00:00, 49.77it/s]\n"
     ]
    },
    {
     "name": "stdout",
     "output_type": "stream",
     "text": [
      "25:06 |    34 |     1.000e-03 |     0.0341 |          0.0599 |              0.0599 |               0\n"
     ]
    },
    {
     "name": "stderr",
     "output_type": "stream",
     "text": [
      " 98%|█████████▊| 49/50 [00:00<00:00, 49.56it/s]\n"
     ]
    },
    {
     "name": "stdout",
     "output_type": "stream",
     "text": [
      "25:07 |    35 |     1.000e-03 |     0.0258 |          0.0641 |              0.0641 |               0\n"
     ]
    },
    {
     "name": "stderr",
     "output_type": "stream",
     "text": [
      " 98%|█████████▊| 49/50 [00:00<00:00, 49.11it/s]\n"
     ]
    },
    {
     "name": "stdout",
     "output_type": "stream",
     "text": [
      "25:09 |    36 |     1.000e-03 |     0.0326 |          0.0697 |              0.0697 |               0\n"
     ]
    },
    {
     "name": "stderr",
     "output_type": "stream",
     "text": [
      " 98%|█████████▊| 49/50 [00:00<00:00, 49.04it/s]\n"
     ]
    },
    {
     "name": "stdout",
     "output_type": "stream",
     "text": [
      "25:10 |    37 |     1.000e-03 |     0.0338 |          0.0652 |              0.0652 |               0\n"
     ]
    },
    {
     "name": "stderr",
     "output_type": "stream",
     "text": [
      " 98%|█████████▊| 49/50 [00:00<00:00, 49.55it/s]\n"
     ]
    },
    {
     "name": "stdout",
     "output_type": "stream",
     "text": [
      "25:12 |    38 |     1.000e-03 |     0.0253 |          0.0735 |              0.0735 |               0\n"
     ]
    },
    {
     "name": "stderr",
     "output_type": "stream",
     "text": [
      " 98%|█████████▊| 49/50 [00:00<00:00, 49.66it/s]\n"
     ]
    },
    {
     "name": "stdout",
     "output_type": "stream",
     "text": [
      "25:13 |    39 |     5.000e-04 |     0.0236 |          0.0755 |              0.0755 |               0\n"
     ]
    },
    {
     "name": "stderr",
     "output_type": "stream",
     "text": [
      " 98%|█████████▊| 49/50 [00:00<00:00, 49.71it/s]\n"
     ]
    },
    {
     "name": "stdout",
     "output_type": "stream",
     "text": [
      "25:14 |    40 |     5.000e-04 |     0.0248 |          0.0642 |              0.0642 |               0\n"
     ]
    },
    {
     "name": "stderr",
     "output_type": "stream",
     "text": [
      " 98%|█████████▊| 49/50 [00:00<00:00, 49.58it/s]\n"
     ]
    },
    {
     "name": "stdout",
     "output_type": "stream",
     "text": [
      "25:16 |    41 |     5.000e-04 |     0.0273 |          0.0606 |              0.0606 |               0\n"
     ]
    },
    {
     "name": "stderr",
     "output_type": "stream",
     "text": [
      " 98%|█████████▊| 49/50 [00:00<00:00, 49.78it/s]\n"
     ]
    },
    {
     "name": "stdout",
     "output_type": "stream",
     "text": [
      "25:17 |    42 |     5.000e-04 |     0.0227 |          0.0741 |              0.0741 |               0\n"
     ]
    },
    {
     "name": "stderr",
     "output_type": "stream",
     "text": [
      " 98%|█████████▊| 49/50 [00:00<00:00, 49.66it/s]\n"
     ]
    },
    {
     "name": "stdout",
     "output_type": "stream",
     "text": [
      "25:19 |    43 |     5.000e-04 |     0.0265 |          0.0636 |              0.0636 |               0\n"
     ]
    },
    {
     "name": "stderr",
     "output_type": "stream",
     "text": [
      " 98%|█████████▊| 49/50 [00:00<00:00, 49.79it/s]\n"
     ]
    },
    {
     "name": "stdout",
     "output_type": "stream",
     "text": [
      "25:20 |    44 |     5.000e-04 |     0.0194 |          0.0535 |              0.0535 |               0\n"
     ]
    },
    {
     "name": "stderr",
     "output_type": "stream",
     "text": [
      " 98%|█████████▊| 49/50 [00:00<00:00, 49.62it/s]\n"
     ]
    },
    {
     "name": "stdout",
     "output_type": "stream",
     "text": [
      "25:21 |    45 |     5.000e-04 |     0.0224 |          0.0663 |              0.0663 |               0\n"
     ]
    },
    {
     "name": "stderr",
     "output_type": "stream",
     "text": [
      " 98%|█████████▊| 49/50 [00:00<00:00, 49.67it/s]\n"
     ]
    },
    {
     "name": "stdout",
     "output_type": "stream",
     "text": [
      "25:23 |    46 |     5.000e-04 |     0.0201 |          0.0595 |              0.0595 |               0\n"
     ]
    },
    {
     "name": "stderr",
     "output_type": "stream",
     "text": [
      " 98%|█████████▊| 49/50 [00:00<00:00, 49.75it/s]\n"
     ]
    },
    {
     "name": "stdout",
     "output_type": "stream",
     "text": [
      "25:24 |    47 |     5.000e-04 |     0.0181 |          0.0666 |              0.0666 |               0\n"
     ]
    },
    {
     "name": "stderr",
     "output_type": "stream",
     "text": [
      " 98%|█████████▊| 49/50 [00:00<00:00, 49.69it/s]\n"
     ]
    },
    {
     "name": "stdout",
     "output_type": "stream",
     "text": [
      "25:26 |    48 |     5.000e-04 |     0.0165 |          0.0449 |              0.0449 |               0\n"
     ]
    },
    {
     "name": "stderr",
     "output_type": "stream",
     "text": [
      " 98%|█████████▊| 49/50 [00:00<00:00, 49.48it/s]\n"
     ]
    },
    {
     "name": "stdout",
     "output_type": "stream",
     "text": [
      "25:27 |    49 |     5.000e-04 |     0.0234 |          0.0638 |              0.0638 |               0\n"
     ]
    },
    {
     "name": "stderr",
     "output_type": "stream",
     "text": [
      " 98%|█████████▊| 49/50 [00:00<00:00, 49.61it/s]\n"
     ]
    },
    {
     "name": "stdout",
     "output_type": "stream",
     "text": [
      "25:28 |    50 |     5.000e-04 |     0.0218 |          0.0560 |              0.0560 |               0\n"
     ]
    },
    {
     "name": "stderr",
     "output_type": "stream",
     "text": [
      " 98%|█████████▊| 49/50 [00:00<00:00, 49.64it/s]\n"
     ]
    },
    {
     "name": "stdout",
     "output_type": "stream",
     "text": [
      "25:30 |    51 |     5.000e-04 |     0.0196 |          0.0688 |              0.0688 |               0\n"
     ]
    },
    {
     "name": "stderr",
     "output_type": "stream",
     "text": [
      " 98%|█████████▊| 49/50 [00:00<00:00, 49.49it/s]\n"
     ]
    },
    {
     "name": "stdout",
     "output_type": "stream",
     "text": [
      "25:31 |    52 |     5.000e-04 |     0.0318 |          0.0630 |              0.0630 |               0\n"
     ]
    },
    {
     "name": "stderr",
     "output_type": "stream",
     "text": [
      " 98%|█████████▊| 49/50 [00:00<00:00, 49.88it/s]\n"
     ]
    },
    {
     "name": "stdout",
     "output_type": "stream",
     "text": [
      "25:33 |    53 |     5.000e-04 |     0.0274 |          0.0553 |              0.0553 |               0\n"
     ]
    },
    {
     "name": "stderr",
     "output_type": "stream",
     "text": [
      " 98%|█████████▊| 49/50 [00:00<00:00, 49.68it/s]\n"
     ]
    },
    {
     "name": "stdout",
     "output_type": "stream",
     "text": [
      "25:34 |    54 |     5.000e-04 |     0.0299 |          0.0517 |              0.0517 |               0\n"
     ]
    },
    {
     "name": "stderr",
     "output_type": "stream",
     "text": [
      " 98%|█████████▊| 49/50 [00:00<00:00, 49.56it/s]\n"
     ]
    },
    {
     "name": "stdout",
     "output_type": "stream",
     "text": [
      "25:36 |    55 |     5.000e-04 |     0.0246 |          0.0526 |              0.0526 |               0\n"
     ]
    },
    {
     "name": "stderr",
     "output_type": "stream",
     "text": [
      " 98%|█████████▊| 49/50 [00:00<00:00, 49.61it/s]\n"
     ]
    },
    {
     "name": "stdout",
     "output_type": "stream",
     "text": [
      "25:37 |    56 |     5.000e-04 |     0.0199 |          0.0584 |              0.0584 |               0\n"
     ]
    },
    {
     "name": "stderr",
     "output_type": "stream",
     "text": [
      " 98%|█████████▊| 49/50 [00:00<00:00, 49.58it/s]\n"
     ]
    },
    {
     "name": "stdout",
     "output_type": "stream",
     "text": [
      "25:38 |    57 |     5.000e-04 |     0.0184 |          0.0507 |              0.0507 |               0\n"
     ]
    },
    {
     "name": "stderr",
     "output_type": "stream",
     "text": [
      " 98%|█████████▊| 49/50 [00:00<00:00, 49.40it/s]\n"
     ]
    },
    {
     "name": "stdout",
     "output_type": "stream",
     "text": [
      "25:40 |    58 |     5.000e-04 |     0.0165 |          0.0573 |              0.0573 |               0\n"
     ]
    },
    {
     "name": "stderr",
     "output_type": "stream",
     "text": [
      " 98%|█████████▊| 49/50 [00:00<00:00, 49.59it/s]\n"
     ]
    },
    {
     "name": "stdout",
     "output_type": "stream",
     "text": [
      "25:41 |    59 |     5.000e-04 |     0.0192 |          0.0548 |              0.0548 |               0\n"
     ]
    },
    {
     "name": "stderr",
     "output_type": "stream",
     "text": [
      " 98%|█████████▊| 49/50 [00:00<00:00, 49.25it/s]\n"
     ]
    },
    {
     "name": "stdout",
     "output_type": "stream",
     "text": [
      "25:43 |    60 |     2.500e-04 |     0.0183 |          0.0567 |              0.0567 |               0\n"
     ]
    },
    {
     "name": "stderr",
     "output_type": "stream",
     "text": [
      " 98%|█████████▊| 49/50 [00:00<00:00, 49.47it/s]\n"
     ]
    },
    {
     "name": "stdout",
     "output_type": "stream",
     "text": [
      "25:44 |    61 |     2.500e-04 |     0.0145 |          0.0536 |              0.0536 |               0\n"
     ]
    },
    {
     "name": "stderr",
     "output_type": "stream",
     "text": [
      " 98%|█████████▊| 49/50 [00:00<00:00, 49.43it/s]\n"
     ]
    },
    {
     "name": "stdout",
     "output_type": "stream",
     "text": [
      "25:45 |    62 |     2.500e-04 |     0.0142 |          0.0549 |              0.0549 |               0\n"
     ]
    },
    {
     "name": "stderr",
     "output_type": "stream",
     "text": [
      " 98%|█████████▊| 49/50 [00:00<00:00, 49.41it/s]\n"
     ]
    },
    {
     "name": "stdout",
     "output_type": "stream",
     "text": [
      "25:47 |    63 |     2.500e-04 |     0.0148 |          0.0553 |              0.0553 |               0\n"
     ]
    },
    {
     "name": "stderr",
     "output_type": "stream",
     "text": [
      " 98%|█████████▊| 49/50 [00:00<00:00, 49.32it/s]\n"
     ]
    },
    {
     "name": "stdout",
     "output_type": "stream",
     "text": [
      "25:48 |    64 |     2.500e-04 |     0.0168 |          0.0657 |              0.0657 |               0\n"
     ]
    },
    {
     "name": "stderr",
     "output_type": "stream",
     "text": [
      " 98%|█████████▊| 49/50 [00:00<00:00, 49.64it/s]\n"
     ]
    },
    {
     "name": "stdout",
     "output_type": "stream",
     "text": [
      "25:50 |    65 |     2.500e-04 |     0.0137 |          0.0518 |              0.0518 |               0\n"
     ]
    },
    {
     "name": "stderr",
     "output_type": "stream",
     "text": [
      " 98%|█████████▊| 49/50 [00:00<00:00, 49.73it/s]\n"
     ]
    },
    {
     "name": "stdout",
     "output_type": "stream",
     "text": [
      "25:51 |    66 |     2.500e-04 |     0.0130 |          0.0532 |              0.0532 |               0\n"
     ]
    },
    {
     "name": "stderr",
     "output_type": "stream",
     "text": [
      " 98%|█████████▊| 49/50 [00:00<00:00, 49.50it/s]\n"
     ]
    },
    {
     "name": "stdout",
     "output_type": "stream",
     "text": [
      "25:52 |    67 |     2.500e-04 |     0.0127 |          0.0558 |              0.0558 |               0\n"
     ]
    },
    {
     "name": "stderr",
     "output_type": "stream",
     "text": [
      " 98%|█████████▊| 49/50 [00:00<00:00, 49.59it/s]\n"
     ]
    },
    {
     "name": "stdout",
     "output_type": "stream",
     "text": [
      "25:54 |    68 |     2.500e-04 |     0.0140 |          0.0573 |              0.0573 |               0\n"
     ]
    },
    {
     "name": "stderr",
     "output_type": "stream",
     "text": [
      " 98%|█████████▊| 49/50 [00:00<00:00, 49.41it/s]\n"
     ]
    },
    {
     "name": "stdout",
     "output_type": "stream",
     "text": [
      "25:55 |    69 |     2.500e-04 |     0.0134 |          0.0533 |              0.0533 |               0\n"
     ]
    },
    {
     "name": "stderr",
     "output_type": "stream",
     "text": [
      " 98%|█████████▊| 49/50 [00:00<00:00, 49.56it/s]\n"
     ]
    },
    {
     "name": "stdout",
     "output_type": "stream",
     "text": [
      "25:57 |    70 |     2.500e-04 |     0.0127 |          0.0536 |              0.0536 |               0\n"
     ]
    },
    {
     "name": "stderr",
     "output_type": "stream",
     "text": [
      " 98%|█████████▊| 49/50 [00:00<00:00, 49.35it/s]\n"
     ]
    },
    {
     "name": "stdout",
     "output_type": "stream",
     "text": [
      "25:58 |    71 |     1.250e-04 |     0.0117 |          0.0551 |              0.0551 |               0\n"
     ]
    },
    {
     "name": "stderr",
     "output_type": "stream",
     "text": [
      " 98%|█████████▊| 49/50 [00:00<00:00, 49.42it/s]\n"
     ]
    },
    {
     "name": "stdout",
     "output_type": "stream",
     "text": [
      "26:00 |    72 |     1.250e-04 |     0.0117 |          0.0537 |              0.0537 |               0\n"
     ]
    },
    {
     "name": "stderr",
     "output_type": "stream",
     "text": [
      " 98%|█████████▊| 49/50 [00:00<00:00, 49.44it/s]\n"
     ]
    },
    {
     "name": "stdout",
     "output_type": "stream",
     "text": [
      "26:01 |    73 |     1.250e-04 |     0.0112 |          0.0541 |              0.0541 |               0\n"
     ]
    },
    {
     "name": "stderr",
     "output_type": "stream",
     "text": [
      " 98%|█████████▊| 49/50 [00:00<00:00, 49.41it/s]\n"
     ]
    },
    {
     "name": "stdout",
     "output_type": "stream",
     "text": [
      "26:02 |    74 |     1.250e-04 |     0.0104 |          0.0534 |              0.0534 |               0\n"
     ]
    },
    {
     "name": "stderr",
     "output_type": "stream",
     "text": [
      " 98%|█████████▊| 49/50 [00:01<00:00, 46.66it/s]\n"
     ]
    },
    {
     "name": "stdout",
     "output_type": "stream",
     "text": [
      "26:04 |    75 |     1.250e-04 |     0.0108 |          0.0583 |              0.0583 |               0\n"
     ]
    },
    {
     "name": "stderr",
     "output_type": "stream",
     "text": [
      " 98%|█████████▊| 49/50 [00:01<00:00, 46.82it/s]\n"
     ]
    },
    {
     "name": "stdout",
     "output_type": "stream",
     "text": [
      "26:05 |    76 |     1.250e-04 |     0.0134 |          0.0546 |              0.0546 |               0\n"
     ]
    },
    {
     "name": "stderr",
     "output_type": "stream",
     "text": [
      " 98%|█████████▊| 49/50 [00:01<00:00, 46.82it/s]\n"
     ]
    },
    {
     "name": "stdout",
     "output_type": "stream",
     "text": [
      "26:07 |    77 |     1.250e-04 |     0.0111 |          0.0537 |              0.0537 |               0\n"
     ]
    },
    {
     "name": "stderr",
     "output_type": "stream",
     "text": [
      " 98%|█████████▊| 49/50 [00:01<00:00, 46.75it/s]\n"
     ]
    },
    {
     "name": "stdout",
     "output_type": "stream",
     "text": [
      "26:08 |    78 |     1.250e-04 |     0.0102 |          0.0524 |              0.0524 |               0\n"
     ]
    },
    {
     "name": "stderr",
     "output_type": "stream",
     "text": [
      " 98%|█████████▊| 49/50 [00:01<00:00, 46.85it/s]\n"
     ]
    },
    {
     "name": "stdout",
     "output_type": "stream",
     "text": [
      "26:10 |    79 |     1.250e-04 |     0.0118 |          0.0568 |              0.0568 |               0\n"
     ]
    },
    {
     "name": "stderr",
     "output_type": "stream",
     "text": [
      " 98%|█████████▊| 49/50 [00:01<00:00, 46.37it/s]\n"
     ]
    },
    {
     "name": "stdout",
     "output_type": "stream",
     "text": [
      "26:11 |    80 |     1.250e-04 |     0.0112 |          0.0513 |              0.0513 |               0\n"
     ]
    },
    {
     "name": "stderr",
     "output_type": "stream",
     "text": [
      " 98%|█████████▊| 49/50 [00:00<00:00, 49.50it/s]\n"
     ]
    },
    {
     "name": "stdout",
     "output_type": "stream",
     "text": [
      "26:13 |    81 |     1.250e-04 |     0.0110 |          0.0563 |              0.0563 |               0\n"
     ]
    },
    {
     "name": "stderr",
     "output_type": "stream",
     "text": [
      " 98%|█████████▊| 49/50 [00:00<00:00, 49.48it/s]\n"
     ]
    },
    {
     "name": "stdout",
     "output_type": "stream",
     "text": [
      "26:14 |    82 |     6.250e-05 |     0.0102 |          0.0546 |              0.0546 |               0\n"
     ]
    },
    {
     "name": "stderr",
     "output_type": "stream",
     "text": [
      " 98%|█████████▊| 49/50 [00:00<00:00, 49.48it/s]\n"
     ]
    },
    {
     "name": "stdout",
     "output_type": "stream",
     "text": [
      "26:15 |    83 |     6.250e-05 |     0.0103 |          0.0527 |              0.0527 |               0\n"
     ]
    },
    {
     "name": "stderr",
     "output_type": "stream",
     "text": [
      " 98%|█████████▊| 49/50 [00:00<00:00, 49.53it/s]\n"
     ]
    },
    {
     "name": "stdout",
     "output_type": "stream",
     "text": [
      "26:17 |    84 |     6.250e-05 |     0.0097 |          0.0528 |              0.0528 |               0\n"
     ]
    },
    {
     "name": "stderr",
     "output_type": "stream",
     "text": [
      " 98%|█████████▊| 49/50 [00:01<00:00, 47.31it/s]\n"
     ]
    },
    {
     "name": "stdout",
     "output_type": "stream",
     "text": [
      "26:18 |    85 |     6.250e-05 |     0.0096 |          0.0509 |              0.0509 |               0\n"
     ]
    },
    {
     "name": "stderr",
     "output_type": "stream",
     "text": [
      " 98%|█████████▊| 49/50 [00:01<00:00, 46.85it/s]\n"
     ]
    },
    {
     "name": "stdout",
     "output_type": "stream",
     "text": [
      "26:20 |    86 |     6.250e-05 |     0.0092 |          0.0546 |              0.0546 |               0\n"
     ]
    },
    {
     "name": "stderr",
     "output_type": "stream",
     "text": [
      " 98%|█████████▊| 49/50 [00:01<00:00, 47.03it/s]\n"
     ]
    },
    {
     "name": "stdout",
     "output_type": "stream",
     "text": [
      "26:21 |    87 |     6.250e-05 |     0.0097 |          0.0561 |              0.0561 |               0\n"
     ]
    },
    {
     "name": "stderr",
     "output_type": "stream",
     "text": [
      " 98%|█████████▊| 49/50 [00:01<00:00, 46.85it/s]\n"
     ]
    },
    {
     "name": "stdout",
     "output_type": "stream",
     "text": [
      "26:23 |    88 |     6.250e-05 |     0.0098 |          0.0533 |              0.0533 |               0\n"
     ]
    },
    {
     "name": "stderr",
     "output_type": "stream",
     "text": [
      " 98%|█████████▊| 49/50 [00:01<00:00, 46.56it/s]\n"
     ]
    },
    {
     "name": "stdout",
     "output_type": "stream",
     "text": [
      "26:24 |    89 |     6.250e-05 |     0.0095 |          0.0537 |              0.0537 |               0\n"
     ]
    },
    {
     "name": "stderr",
     "output_type": "stream",
     "text": [
      " 98%|█████████▊| 49/50 [00:01<00:00, 46.97it/s]\n"
     ]
    },
    {
     "name": "stdout",
     "output_type": "stream",
     "text": [
      "26:26 |    90 |     6.250e-05 |     0.0094 |          0.0558 |              0.0558 |               0\n"
     ]
    },
    {
     "name": "stderr",
     "output_type": "stream",
     "text": [
      " 98%|█████████▊| 49/50 [00:01<00:00, 46.78it/s]\n"
     ]
    },
    {
     "name": "stdout",
     "output_type": "stream",
     "text": [
      "26:27 |    91 |     6.250e-05 |     0.0108 |          0.0530 |              0.0530 |               0\n"
     ]
    },
    {
     "name": "stderr",
     "output_type": "stream",
     "text": [
      " 98%|█████████▊| 49/50 [00:01<00:00, 46.92it/s]\n"
     ]
    },
    {
     "name": "stdout",
     "output_type": "stream",
     "text": [
      "26:29 |    92 |     6.250e-05 |     0.0099 |          0.0511 |              0.0511 |               0\n"
     ]
    },
    {
     "name": "stderr",
     "output_type": "stream",
     "text": [
      " 98%|█████████▊| 49/50 [00:01<00:00, 46.86it/s]\n"
     ]
    },
    {
     "name": "stdout",
     "output_type": "stream",
     "text": [
      "26:30 |    93 |     3.125e-05 |     0.0096 |          0.0529 |              0.0529 |               0\n"
     ]
    },
    {
     "name": "stderr",
     "output_type": "stream",
     "text": [
      " 98%|█████████▊| 49/50 [00:01<00:00, 46.92it/s]\n"
     ]
    },
    {
     "name": "stdout",
     "output_type": "stream",
     "text": [
      "26:31 |    94 |     3.125e-05 |     0.0087 |          0.0533 |              0.0533 |               0\n"
     ]
    },
    {
     "name": "stderr",
     "output_type": "stream",
     "text": [
      " 98%|█████████▊| 49/50 [00:01<00:00, 47.00it/s]\n"
     ]
    },
    {
     "name": "stdout",
     "output_type": "stream",
     "text": [
      "26:33 |    95 |     3.125e-05 |     0.0086 |          0.0534 |              0.0534 |               0\n"
     ]
    },
    {
     "name": "stderr",
     "output_type": "stream",
     "text": [
      " 98%|█████████▊| 49/50 [00:01<00:00, 47.20it/s]\n"
     ]
    },
    {
     "name": "stdout",
     "output_type": "stream",
     "text": [
      "26:34 |    96 |     3.125e-05 |     0.0092 |          0.0526 |              0.0526 |               0\n"
     ]
    },
    {
     "name": "stderr",
     "output_type": "stream",
     "text": [
      " 98%|█████████▊| 49/50 [00:01<00:00, 46.88it/s]\n"
     ]
    },
    {
     "name": "stdout",
     "output_type": "stream",
     "text": [
      "26:36 |    97 |     3.125e-05 |     0.0088 |          0.0527 |              0.0527 |               0\n"
     ]
    },
    {
     "name": "stderr",
     "output_type": "stream",
     "text": [
      " 98%|█████████▊| 49/50 [00:00<00:00, 49.62it/s]\n"
     ]
    },
    {
     "name": "stdout",
     "output_type": "stream",
     "text": [
      "26:37 |    98 |     3.125e-05 |     0.0091 |          0.0533 |              0.0533 |               0\n"
     ]
    },
    {
     "name": "stderr",
     "output_type": "stream",
     "text": [
      " 98%|█████████▊| 49/50 [00:00<00:00, 49.61it/s]\n"
     ]
    },
    {
     "name": "stdout",
     "output_type": "stream",
     "text": [
      "26:39 |    99 |     3.125e-05 |     0.0087 |          0.0530 |              0.0530 |               0\n"
     ]
    },
    {
     "name": "stderr",
     "output_type": "stream",
     "text": [
      " 98%|█████████▊| 49/50 [00:00<00:00, 49.61it/s]\n"
     ]
    },
    {
     "name": "stdout",
     "output_type": "stream",
     "text": [
      "26:40 |   100 |     3.125e-05 |     0.0087 |          0.0525 |              0.0525 |               0\n"
     ]
    }
   ],
   "source": [
    "test_record_keeping(\"Painn\")"
   ]
  },
  {
   "cell_type": "code",
   "execution_count": 18,
   "id": "0e58d8ff",
   "metadata": {},
   "outputs": [
    {
     "name": "stdout",
     "output_type": "stream",
     "text": [
      "Loaded data\n"
     ]
    },
    {
     "name": "stderr",
     "output_type": "stream",
     "text": [
      "100%|██████████| 500/500 [00:00<00:00, 3266.69it/s]\n",
      "100%|██████████| 500/500 [00:23<00:00, 21.64it/s]\n",
      "100%|██████████| 500/500 [00:00<00:00, 2770.34it/s]\n",
      "100%|██████████| 500/500 [00:24<00:00, 20.42it/s]\n",
      "100%|██████████| 1185/1185 [00:00<00:00, 2881.71it/s]\n",
      "100%|██████████| 1185/1185 [01:05<00:00, 17.99it/s]\n",
      "/home/jkdamewo/miniconda3/envs/Perovskite_ML_Environment/lib/python3.10/site-packages/torch/jit/_check.py:181: UserWarning: The TorchScript type system doesn't support instance-level annotations on empty non-base types in `__init__`. Instead, either 1) use a type annotation in the class body, or 2) wrap the type in `torch.jit.Attribute`.\n",
      "  warnings.warn(\"The TorchScript type system doesn't support \"\n",
      "100%|██████████| 500/500 [00:23<00:00, 21.08it/s]\n"
     ]
    },
    {
     "name": "stdout",
     "output_type": "stream",
     "text": [
      "   1 ,lr = 0.00100000  train loss = 0.07311104  train direct = 0.04332428  train contrastive = 0.02978676  val loss = 0.09324449  val direct = 0.06256350  val contrastive = 0.03068099  time = 00:00:23\n"
     ]
    },
    {
     "name": "stderr",
     "output_type": "stream",
     "text": [
      "100%|██████████| 500/500 [00:21<00:00, 22.94it/s]\n"
     ]
    },
    {
     "name": "stdout",
     "output_type": "stream",
     "text": [
      "   2 ,lr = 0.00100000  train loss = 0.06698523  train direct = 0.03749883  train contrastive = 0.02948639  val loss = 0.09385279  val direct = 0.06363297  val contrastive = 0.03021982  time = 00:00:21\n"
     ]
    },
    {
     "name": "stderr",
     "output_type": "stream",
     "text": [
      "100%|██████████| 500/500 [00:22<00:00, 22.19it/s]\n"
     ]
    },
    {
     "name": "stdout",
     "output_type": "stream",
     "text": [
      "   3 ,lr = 0.00100000  train loss = 0.06174816  train direct = 0.03252794  train contrastive = 0.02922023  val loss = 0.08986946  val direct = 0.05955268  val contrastive = 0.03031678  time = 00:00:22\n"
     ]
    },
    {
     "name": "stderr",
     "output_type": "stream",
     "text": [
      "100%|██████████| 500/500 [00:21<00:00, 23.46it/s]\n"
     ]
    },
    {
     "name": "stdout",
     "output_type": "stream",
     "text": [
      "   4 ,lr = 0.00100000  train loss = 0.07353920  train direct = 0.04397673  train contrastive = 0.02956248  val loss = 0.10943054  val direct = 0.07748248  val contrastive = 0.03194806  time = 00:00:21\n"
     ]
    },
    {
     "name": "stderr",
     "output_type": "stream",
     "text": [
      "100%|██████████| 500/500 [00:21<00:00, 23.25it/s]\n"
     ]
    },
    {
     "name": "stdout",
     "output_type": "stream",
     "text": [
      "   5 ,lr = 0.00100000  train loss = 0.05449331  train direct = 0.02612719  train contrastive = 0.02836612  val loss = 0.09121312  val direct = 0.05982665  val contrastive = 0.03138648  time = 00:00:21\n"
     ]
    }
   ],
   "source": [
    "test_record_keeping(\"e3nn\")"
   ]
  },
  {
   "cell_type": "code",
   "execution_count": 16,
   "id": "0ecfc371",
   "metadata": {},
   "outputs": [
    {
     "name": "stdout",
     "output_type": "stream",
     "text": [
      "Loaded data\n"
     ]
    },
    {
     "name": "stderr",
     "output_type": "stream",
     "text": [
      "100%|██████████| 500/500 [00:00<00:00, 3156.29it/s]\n",
      "100%|██████████| 500/500 [00:26<00:00, 18.84it/s]\n",
      "100%|██████████| 500/500 [00:00<00:00, 2711.61it/s]\n",
      "100%|██████████| 500/500 [00:25<00:00, 19.27it/s]\n",
      "100%|██████████| 1185/1185 [00:00<00:00, 2825.09it/s]\n",
      "100%|██████████| 1185/1185 [00:59<00:00, 19.78it/s]\n",
      "/home/jkdamewo/miniconda3/envs/Perovskite_ML_Environment/lib/python3.10/site-packages/torch/jit/_check.py:181: UserWarning: The TorchScript type system doesn't support instance-level annotations on empty non-base types in `__init__`. Instead, either 1) use a type annotation in the class body, or 2) wrap the type in `torch.jit.Attribute`.\n",
      "  warnings.warn(\"The TorchScript type system doesn't support \"\n",
      "100%|██████████| 126/126 [00:09<00:00, 13.80it/s]\n"
     ]
    },
    {
     "name": "stdout",
     "output_type": "stream",
     "text": [
      "   1 ,lr = 0.00100000  train loss = 0.08404814  train direct = 0.05435642  train contrastive = 0.02969172  val loss = 0.09275868  val direct = 0.06205160  val contrastive = 0.03070708  time = 00:00:09\n"
     ]
    },
    {
     "name": "stderr",
     "output_type": "stream",
     "text": [
      "100%|██████████| 126/126 [00:05<00:00, 21.93it/s]\n"
     ]
    },
    {
     "name": "stdout",
     "output_type": "stream",
     "text": [
      "   2 ,lr = 0.00100000  train loss = 0.08364611  train direct = 0.05395381  train contrastive = 0.02969229  val loss = 0.09317638  val direct = 0.06246925  val contrastive = 0.03070714  time = 00:00:05\n"
     ]
    },
    {
     "name": "stderr",
     "output_type": "stream",
     "text": [
      "100%|██████████| 126/126 [00:05<00:00, 23.31it/s]\n"
     ]
    },
    {
     "name": "stdout",
     "output_type": "stream",
     "text": [
      "   3 ,lr = 0.00100000  train loss = 0.08009098  train direct = 0.05037699  train contrastive = 0.02971399  val loss = 0.09485106  val direct = 0.06413345  val contrastive = 0.03071761  time = 00:00:05\n"
     ]
    },
    {
     "name": "stderr",
     "output_type": "stream",
     "text": [
      "100%|██████████| 126/126 [00:05<00:00, 22.61it/s]\n"
     ]
    },
    {
     "name": "stdout",
     "output_type": "stream",
     "text": [
      "   4 ,lr = 0.00100000  train loss = 0.06952732  train direct = 0.03985248  train contrastive = 0.02967484  val loss = 0.09079413  val direct = 0.06034437  val contrastive = 0.03044977  time = 00:00:05\n"
     ]
    },
    {
     "name": "stderr",
     "output_type": "stream",
     "text": [
      "100%|██████████| 126/126 [00:05<00:00, 22.88it/s]\n"
     ]
    },
    {
     "name": "stdout",
     "output_type": "stream",
     "text": [
      "   5 ,lr = 0.00100000  train loss = 0.06435698  train direct = 0.03498004  train contrastive = 0.02937694  val loss = 0.08974641  val direct = 0.05923727  val contrastive = 0.03050914  time = 00:00:05\n"
     ]
    }
   ],
   "source": [
    "test_record_keeping(\"e3nn_contrastive\")"
   ]
  },
  {
   "cell_type": "code",
   "execution_count": null,
   "id": "d0e62c77",
   "metadata": {},
   "outputs": [],
   "source": []
  }
 ],
 "metadata": {
  "kernelspec": {
   "display_name": "Perovskite ML",
   "language": "python",
   "name": "perovskite_ml_environment"
  },
  "language_info": {
   "codemirror_mode": {
    "name": "ipython",
    "version": 3
   },
   "file_extension": ".py",
   "mimetype": "text/x-python",
   "name": "python",
   "nbconvert_exporter": "python",
   "pygments_lexer": "ipython3",
   "version": "3.10.11"
  }
 },
 "nbformat": 4,
 "nbformat_minor": 5
}
