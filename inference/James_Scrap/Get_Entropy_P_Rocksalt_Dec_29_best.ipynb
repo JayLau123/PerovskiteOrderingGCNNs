{
 "cells": [
  {
   "cell_type": "code",
   "execution_count": 1,
   "id": "4ba2b88d",
   "metadata": {},
   "outputs": [],
   "source": [
    "import pandas as pd\n",
    "import matplotlib.pyplot as plt\n",
    "import numpy as np"
   ]
  },
  {
   "cell_type": "code",
   "execution_count": 4,
   "id": "c8e1a6b0",
   "metadata": {},
   "outputs": [],
   "source": [
    "held_out_B_data = pd.read_json(\"../../best_models/e3nn/dft_e_hull_htvs_data_unrelaxed_e3nn/837627/best_0/holdout_set_B_sites_predictions.json\")\n",
    "held_out_B_data_CGCNN = pd.read_json(\"../../best_models/CGCNN/dft_e_hull_htvs_data_unrelaxed_CGCNN/837611/best_0/holdout_set_B_sites_predictions.json\")\n"
   ]
  },
  {
   "cell_type": "code",
   "execution_count": 5,
   "id": "3e09a424",
   "metadata": {},
   "outputs": [
    {
     "data": {
      "text/html": [
       "<div>\n",
       "<style scoped>\n",
       "    .dataframe tbody tr th:only-of-type {\n",
       "        vertical-align: middle;\n",
       "    }\n",
       "\n",
       "    .dataframe tbody tr th {\n",
       "        vertical-align: top;\n",
       "    }\n",
       "\n",
       "    .dataframe thead th {\n",
       "        text-align: right;\n",
       "    }\n",
       "</style>\n",
       "<table border=\"1\" class=\"dataframe\">\n",
       "  <thead>\n",
       "    <tr style=\"text-align: right;\">\n",
       "      <th></th>\n",
       "      <th>formula</th>\n",
       "      <th>framework</th>\n",
       "      <th>composition</th>\n",
       "      <th>n_atoms_unrelaxed</th>\n",
       "      <th>n_atoms_opt</th>\n",
       "      <th>unrelaxed_cryst_id</th>\n",
       "      <th>unrelaxed_struct</th>\n",
       "      <th>opt_cryst_id</th>\n",
       "      <th>opt_struct</th>\n",
       "      <th>es_job_id</th>\n",
       "      <th>dft_energy</th>\n",
       "      <th>dft_energy_per_atom</th>\n",
       "      <th>dft_e_hull</th>\n",
       "      <th>Op_band_center</th>\n",
       "      <th>M3Gnet_relaxed_struct</th>\n",
       "      <th>M3Gnet_relaxed_energy</th>\n",
       "      <th>M3Gnet_relaxed_energy_per_atom</th>\n",
       "      <th>idx</th>\n",
       "      <th>predicted_dft_e_hull</th>\n",
       "    </tr>\n",
       "  </thead>\n",
       "  <tbody>\n",
       "    <tr>\n",
       "      <th>0</th>\n",
       "      <td>Ca8Fe4Mn4O24</td>\n",
       "      <td>CaFe0.500Mn0.500O3</td>\n",
       "      <td>{'sites': {'A': ['Ca'], 'B': ['Mn', 'Fe'], 'X'...</td>\n",
       "      <td>40</td>\n",
       "      <td>40</td>\n",
       "      <td>222998128</td>\n",
       "      <td>{'@module': 'pymatgen.core.structure', '@class...</td>\n",
       "      <td>423959398</td>\n",
       "      <td>{'@module': 'pymatgen.core.structure', '@class...</td>\n",
       "      <td>123103556</td>\n",
       "      <td>-265.489796</td>\n",
       "      <td>-6.637245</td>\n",
       "      <td>0.074200</td>\n",
       "      <td>-1.389153</td>\n",
       "      <td>{'@module': 'pymatgen.core.structure', '@class...</td>\n",
       "      <td>-266.711243</td>\n",
       "      <td>-6.667781</td>\n",
       "      <td>0</td>\n",
       "      <td>0.077370</td>\n",
       "    </tr>\n",
       "    <tr>\n",
       "      <th>1</th>\n",
       "      <td>Ca8Fe4Mn4O24</td>\n",
       "      <td>CaFe0.500Mn0.500O3</td>\n",
       "      <td>{'sites': {'A': ['Ca'], 'B': ['Mn', 'Fe'], 'X'...</td>\n",
       "      <td>40</td>\n",
       "      <td>40</td>\n",
       "      <td>222998125</td>\n",
       "      <td>{'@module': 'pymatgen.core.structure', '@class...</td>\n",
       "      <td>421466237</td>\n",
       "      <td>{'@module': 'pymatgen.core.structure', '@class...</td>\n",
       "      <td>122979400</td>\n",
       "      <td>-265.627054</td>\n",
       "      <td>-6.640676</td>\n",
       "      <td>0.070768</td>\n",
       "      <td>-1.420044</td>\n",
       "      <td>{'@module': 'pymatgen.core.structure', '@class...</td>\n",
       "      <td>-266.456848</td>\n",
       "      <td>-6.661421</td>\n",
       "      <td>1</td>\n",
       "      <td>0.076950</td>\n",
       "    </tr>\n",
       "    <tr>\n",
       "      <th>2</th>\n",
       "      <td>Ca8Fe4Mn4O24</td>\n",
       "      <td>CaFe0.500Mn0.500O3</td>\n",
       "      <td>{'sites': {'A': ['Ca'], 'B': ['Mn', 'Fe'], 'X'...</td>\n",
       "      <td>40</td>\n",
       "      <td>40</td>\n",
       "      <td>222998126</td>\n",
       "      <td>{'@module': 'pymatgen.core.structure', '@class...</td>\n",
       "      <td>421466235</td>\n",
       "      <td>{'@module': 'pymatgen.core.structure', '@class...</td>\n",
       "      <td>122979657</td>\n",
       "      <td>-265.542706</td>\n",
       "      <td>-6.638568</td>\n",
       "      <td>0.072877</td>\n",
       "      <td>-1.424778</td>\n",
       "      <td>{'@module': 'pymatgen.core.structure', '@class...</td>\n",
       "      <td>-266.213867</td>\n",
       "      <td>-6.655347</td>\n",
       "      <td>2</td>\n",
       "      <td>0.076547</td>\n",
       "    </tr>\n",
       "    <tr>\n",
       "      <th>3</th>\n",
       "      <td>Ca8Fe4Mn4O24</td>\n",
       "      <td>CaFe0.500Mn0.500O3</td>\n",
       "      <td>{'sites': {'A': ['Ca'], 'B': ['Mn', 'Fe'], 'X'...</td>\n",
       "      <td>40</td>\n",
       "      <td>40</td>\n",
       "      <td>222998127</td>\n",
       "      <td>{'@module': 'pymatgen.core.structure', '@class...</td>\n",
       "      <td>421466263</td>\n",
       "      <td>{'@module': 'pymatgen.core.structure', '@class...</td>\n",
       "      <td>122979417</td>\n",
       "      <td>-265.631202</td>\n",
       "      <td>-6.640780</td>\n",
       "      <td>0.070665</td>\n",
       "      <td>-1.404994</td>\n",
       "      <td>{'@module': 'pymatgen.core.structure', '@class...</td>\n",
       "      <td>-264.671021</td>\n",
       "      <td>-6.616776</td>\n",
       "      <td>3</td>\n",
       "      <td>0.077123</td>\n",
       "    </tr>\n",
       "    <tr>\n",
       "      <th>4</th>\n",
       "      <td>Ca8Fe4Mn4O24</td>\n",
       "      <td>CaFe0.500Mn0.500O3</td>\n",
       "      <td>{'sites': {'A': ['Ca'], 'B': ['Mn', 'Fe'], 'X'...</td>\n",
       "      <td>40</td>\n",
       "      <td>40</td>\n",
       "      <td>222998129</td>\n",
       "      <td>{'@module': 'pymatgen.core.structure', '@class...</td>\n",
       "      <td>421466289</td>\n",
       "      <td>{'@module': 'pymatgen.core.structure', '@class...</td>\n",
       "      <td>122979438</td>\n",
       "      <td>-265.628562</td>\n",
       "      <td>-6.640714</td>\n",
       "      <td>0.070731</td>\n",
       "      <td>-1.381979</td>\n",
       "      <td>{'@module': 'pymatgen.core.structure', '@class...</td>\n",
       "      <td>-266.308624</td>\n",
       "      <td>-6.657716</td>\n",
       "      <td>4</td>\n",
       "      <td>0.077057</td>\n",
       "    </tr>\n",
       "    <tr>\n",
       "      <th>...</th>\n",
       "      <td>...</td>\n",
       "      <td>...</td>\n",
       "      <td>...</td>\n",
       "      <td>...</td>\n",
       "      <td>...</td>\n",
       "      <td>...</td>\n",
       "      <td>...</td>\n",
       "      <td>...</td>\n",
       "      <td>...</td>\n",
       "      <td>...</td>\n",
       "      <td>...</td>\n",
       "      <td>...</td>\n",
       "      <td>...</td>\n",
       "      <td>...</td>\n",
       "      <td>...</td>\n",
       "      <td>...</td>\n",
       "      <td>...</td>\n",
       "      <td>...</td>\n",
       "      <td>...</td>\n",
       "    </tr>\n",
       "    <tr>\n",
       "      <th>595</th>\n",
       "      <td>Mn4Ni4O24Tb8</td>\n",
       "      <td>TbMn0.500Ni0.500O3</td>\n",
       "      <td>{'sites': {'A': ['Tb'], 'B': ['Ni', 'Mn'], 'X'...</td>\n",
       "      <td>40</td>\n",
       "      <td>40</td>\n",
       "      <td>272062436</td>\n",
       "      <td>{'@module': 'pymatgen.core.structure', '@class...</td>\n",
       "      <td>421446419</td>\n",
       "      <td>{'@module': 'pymatgen.core.structure', '@class...</td>\n",
       "      <td>122979607</td>\n",
       "      <td>-291.947011</td>\n",
       "      <td>-7.298675</td>\n",
       "      <td>0.083433</td>\n",
       "      <td>-1.855526</td>\n",
       "      <td>{'@module': 'pymatgen.core.structure', '@class...</td>\n",
       "      <td>-289.953644</td>\n",
       "      <td>-7.248841</td>\n",
       "      <td>595</td>\n",
       "      <td>0.100901</td>\n",
       "    </tr>\n",
       "    <tr>\n",
       "      <th>596</th>\n",
       "      <td>Mn4Ni4O24Tb8</td>\n",
       "      <td>TbMn0.500Ni0.500O3</td>\n",
       "      <td>{'sites': {'A': ['Tb'], 'B': ['Ni', 'Mn'], 'X'...</td>\n",
       "      <td>40</td>\n",
       "      <td>40</td>\n",
       "      <td>272062439</td>\n",
       "      <td>{'@module': 'pymatgen.core.structure', '@class...</td>\n",
       "      <td>421459053</td>\n",
       "      <td>{'@module': 'pymatgen.core.structure', '@class...</td>\n",
       "      <td>122979241</td>\n",
       "      <td>-293.275698</td>\n",
       "      <td>-7.331892</td>\n",
       "      <td>0.050215</td>\n",
       "      <td>-1.358484</td>\n",
       "      <td>{'@module': 'pymatgen.core.structure', '@class...</td>\n",
       "      <td>-290.115479</td>\n",
       "      <td>-7.252887</td>\n",
       "      <td>596</td>\n",
       "      <td>0.078920</td>\n",
       "    </tr>\n",
       "    <tr>\n",
       "      <th>597</th>\n",
       "      <td>Mn4Ni4O24Tb8</td>\n",
       "      <td>TbMn0.500Ni0.500O3</td>\n",
       "      <td>{'sites': {'A': ['Tb'], 'B': ['Ni', 'Mn'], 'X'...</td>\n",
       "      <td>40</td>\n",
       "      <td>40</td>\n",
       "      <td>272062435</td>\n",
       "      <td>{'@module': 'pymatgen.core.structure', '@class...</td>\n",
       "      <td>421464614</td>\n",
       "      <td>{'@module': 'pymatgen.core.structure', '@class...</td>\n",
       "      <td>122979281</td>\n",
       "      <td>-291.822920</td>\n",
       "      <td>-7.295573</td>\n",
       "      <td>0.086535</td>\n",
       "      <td>-1.938487</td>\n",
       "      <td>{'@module': 'pymatgen.core.structure', '@class...</td>\n",
       "      <td>-291.638702</td>\n",
       "      <td>-7.290968</td>\n",
       "      <td>597</td>\n",
       "      <td>0.100350</td>\n",
       "    </tr>\n",
       "    <tr>\n",
       "      <th>598</th>\n",
       "      <td>Mn4Ni4O24Tb8</td>\n",
       "      <td>TbMn0.500Ni0.500O3</td>\n",
       "      <td>{'sites': {'A': ['Tb'], 'B': ['Ni', 'Mn'], 'X'...</td>\n",
       "      <td>40</td>\n",
       "      <td>40</td>\n",
       "      <td>272062438</td>\n",
       "      <td>{'@module': 'pymatgen.core.structure', '@class...</td>\n",
       "      <td>421446230</td>\n",
       "      <td>{'@module': 'pymatgen.core.structure', '@class...</td>\n",
       "      <td>122979130</td>\n",
       "      <td>-292.317225</td>\n",
       "      <td>-7.307931</td>\n",
       "      <td>0.074177</td>\n",
       "      <td>-1.890348</td>\n",
       "      <td>{'@module': 'pymatgen.core.structure', '@class...</td>\n",
       "      <td>-292.125397</td>\n",
       "      <td>-7.303135</td>\n",
       "      <td>598</td>\n",
       "      <td>0.089636</td>\n",
       "    </tr>\n",
       "    <tr>\n",
       "      <th>599</th>\n",
       "      <td>Mn4Ni4O24Tb8</td>\n",
       "      <td>TbMn0.500Ni0.500O3</td>\n",
       "      <td>{'sites': {'A': ['Tb'], 'B': ['Ni', 'Mn'], 'X'...</td>\n",
       "      <td>40</td>\n",
       "      <td>40</td>\n",
       "      <td>272062434</td>\n",
       "      <td>{'@module': 'pymatgen.core.structure', '@class...</td>\n",
       "      <td>421466265</td>\n",
       "      <td>{'@module': 'pymatgen.core.structure', '@class...</td>\n",
       "      <td>122979419</td>\n",
       "      <td>-291.589413</td>\n",
       "      <td>-7.289735</td>\n",
       "      <td>0.092373</td>\n",
       "      <td>-1.874410</td>\n",
       "      <td>{'@module': 'pymatgen.core.structure', '@class...</td>\n",
       "      <td>-291.543457</td>\n",
       "      <td>-7.288586</td>\n",
       "      <td>599</td>\n",
       "      <td>0.110649</td>\n",
       "    </tr>\n",
       "  </tbody>\n",
       "</table>\n",
       "<p>600 rows × 19 columns</p>\n",
       "</div>"
      ],
      "text/plain": [
       "          formula           framework  \\\n",
       "0    Ca8Fe4Mn4O24  CaFe0.500Mn0.500O3   \n",
       "1    Ca8Fe4Mn4O24  CaFe0.500Mn0.500O3   \n",
       "2    Ca8Fe4Mn4O24  CaFe0.500Mn0.500O3   \n",
       "3    Ca8Fe4Mn4O24  CaFe0.500Mn0.500O3   \n",
       "4    Ca8Fe4Mn4O24  CaFe0.500Mn0.500O3   \n",
       "..            ...                 ...   \n",
       "595  Mn4Ni4O24Tb8  TbMn0.500Ni0.500O3   \n",
       "596  Mn4Ni4O24Tb8  TbMn0.500Ni0.500O3   \n",
       "597  Mn4Ni4O24Tb8  TbMn0.500Ni0.500O3   \n",
       "598  Mn4Ni4O24Tb8  TbMn0.500Ni0.500O3   \n",
       "599  Mn4Ni4O24Tb8  TbMn0.500Ni0.500O3   \n",
       "\n",
       "                                           composition  n_atoms_unrelaxed  \\\n",
       "0    {'sites': {'A': ['Ca'], 'B': ['Mn', 'Fe'], 'X'...                 40   \n",
       "1    {'sites': {'A': ['Ca'], 'B': ['Mn', 'Fe'], 'X'...                 40   \n",
       "2    {'sites': {'A': ['Ca'], 'B': ['Mn', 'Fe'], 'X'...                 40   \n",
       "3    {'sites': {'A': ['Ca'], 'B': ['Mn', 'Fe'], 'X'...                 40   \n",
       "4    {'sites': {'A': ['Ca'], 'B': ['Mn', 'Fe'], 'X'...                 40   \n",
       "..                                                 ...                ...   \n",
       "595  {'sites': {'A': ['Tb'], 'B': ['Ni', 'Mn'], 'X'...                 40   \n",
       "596  {'sites': {'A': ['Tb'], 'B': ['Ni', 'Mn'], 'X'...                 40   \n",
       "597  {'sites': {'A': ['Tb'], 'B': ['Ni', 'Mn'], 'X'...                 40   \n",
       "598  {'sites': {'A': ['Tb'], 'B': ['Ni', 'Mn'], 'X'...                 40   \n",
       "599  {'sites': {'A': ['Tb'], 'B': ['Ni', 'Mn'], 'X'...                 40   \n",
       "\n",
       "     n_atoms_opt  unrelaxed_cryst_id  \\\n",
       "0             40           222998128   \n",
       "1             40           222998125   \n",
       "2             40           222998126   \n",
       "3             40           222998127   \n",
       "4             40           222998129   \n",
       "..           ...                 ...   \n",
       "595           40           272062436   \n",
       "596           40           272062439   \n",
       "597           40           272062435   \n",
       "598           40           272062438   \n",
       "599           40           272062434   \n",
       "\n",
       "                                      unrelaxed_struct  opt_cryst_id  \\\n",
       "0    {'@module': 'pymatgen.core.structure', '@class...     423959398   \n",
       "1    {'@module': 'pymatgen.core.structure', '@class...     421466237   \n",
       "2    {'@module': 'pymatgen.core.structure', '@class...     421466235   \n",
       "3    {'@module': 'pymatgen.core.structure', '@class...     421466263   \n",
       "4    {'@module': 'pymatgen.core.structure', '@class...     421466289   \n",
       "..                                                 ...           ...   \n",
       "595  {'@module': 'pymatgen.core.structure', '@class...     421446419   \n",
       "596  {'@module': 'pymatgen.core.structure', '@class...     421459053   \n",
       "597  {'@module': 'pymatgen.core.structure', '@class...     421464614   \n",
       "598  {'@module': 'pymatgen.core.structure', '@class...     421446230   \n",
       "599  {'@module': 'pymatgen.core.structure', '@class...     421466265   \n",
       "\n",
       "                                            opt_struct  es_job_id  dft_energy  \\\n",
       "0    {'@module': 'pymatgen.core.structure', '@class...  123103556 -265.489796   \n",
       "1    {'@module': 'pymatgen.core.structure', '@class...  122979400 -265.627054   \n",
       "2    {'@module': 'pymatgen.core.structure', '@class...  122979657 -265.542706   \n",
       "3    {'@module': 'pymatgen.core.structure', '@class...  122979417 -265.631202   \n",
       "4    {'@module': 'pymatgen.core.structure', '@class...  122979438 -265.628562   \n",
       "..                                                 ...        ...         ...   \n",
       "595  {'@module': 'pymatgen.core.structure', '@class...  122979607 -291.947011   \n",
       "596  {'@module': 'pymatgen.core.structure', '@class...  122979241 -293.275698   \n",
       "597  {'@module': 'pymatgen.core.structure', '@class...  122979281 -291.822920   \n",
       "598  {'@module': 'pymatgen.core.structure', '@class...  122979130 -292.317225   \n",
       "599  {'@module': 'pymatgen.core.structure', '@class...  122979419 -291.589413   \n",
       "\n",
       "     dft_energy_per_atom  dft_e_hull  Op_band_center  \\\n",
       "0              -6.637245    0.074200       -1.389153   \n",
       "1              -6.640676    0.070768       -1.420044   \n",
       "2              -6.638568    0.072877       -1.424778   \n",
       "3              -6.640780    0.070665       -1.404994   \n",
       "4              -6.640714    0.070731       -1.381979   \n",
       "..                   ...         ...             ...   \n",
       "595            -7.298675    0.083433       -1.855526   \n",
       "596            -7.331892    0.050215       -1.358484   \n",
       "597            -7.295573    0.086535       -1.938487   \n",
       "598            -7.307931    0.074177       -1.890348   \n",
       "599            -7.289735    0.092373       -1.874410   \n",
       "\n",
       "                                 M3Gnet_relaxed_struct  M3Gnet_relaxed_energy  \\\n",
       "0    {'@module': 'pymatgen.core.structure', '@class...            -266.711243   \n",
       "1    {'@module': 'pymatgen.core.structure', '@class...            -266.456848   \n",
       "2    {'@module': 'pymatgen.core.structure', '@class...            -266.213867   \n",
       "3    {'@module': 'pymatgen.core.structure', '@class...            -264.671021   \n",
       "4    {'@module': 'pymatgen.core.structure', '@class...            -266.308624   \n",
       "..                                                 ...                    ...   \n",
       "595  {'@module': 'pymatgen.core.structure', '@class...            -289.953644   \n",
       "596  {'@module': 'pymatgen.core.structure', '@class...            -290.115479   \n",
       "597  {'@module': 'pymatgen.core.structure', '@class...            -291.638702   \n",
       "598  {'@module': 'pymatgen.core.structure', '@class...            -292.125397   \n",
       "599  {'@module': 'pymatgen.core.structure', '@class...            -291.543457   \n",
       "\n",
       "     M3Gnet_relaxed_energy_per_atom  idx  predicted_dft_e_hull  \n",
       "0                         -6.667781    0              0.077370  \n",
       "1                         -6.661421    1              0.076950  \n",
       "2                         -6.655347    2              0.076547  \n",
       "3                         -6.616776    3              0.077123  \n",
       "4                         -6.657716    4              0.077057  \n",
       "..                              ...  ...                   ...  \n",
       "595                       -7.248841  595              0.100901  \n",
       "596                       -7.252887  596              0.078920  \n",
       "597                       -7.290968  597              0.100350  \n",
       "598                       -7.303135  598              0.089636  \n",
       "599                       -7.288586  599              0.110649  \n",
       "\n",
       "[600 rows x 19 columns]"
      ]
     },
     "execution_count": 5,
     "metadata": {},
     "output_type": "execute_result"
    }
   ],
   "source": [
    "held_out_B_data"
   ]
  },
  {
   "cell_type": "code",
   "execution_count": null,
   "id": "99ed5ff9",
   "metadata": {},
   "outputs": [],
   "source": []
  },
  {
   "cell_type": "code",
   "execution_count": 6,
   "id": "7c0a50cb",
   "metadata": {},
   "outputs": [],
   "source": [
    "held_out_B_data[\"e3nn_val\"] = held_out_B_data.predicted_dft_e_hull\n",
    "held_out_B_data[\"CGCNN_val\"] = held_out_B_data_CGCNN.predicted_dft_e_hull"
   ]
  },
  {
   "cell_type": "code",
   "execution_count": 7,
   "id": "f7aa58c9",
   "metadata": {},
   "outputs": [],
   "source": [
    "import json \n",
    "   \n",
    "# Opening JSON file \n",
    "f = open('ABBO3_degeneracy.json',) \n",
    "   \n",
    "# returns JSON object as  \n",
    "# a dictionary \n",
    "degen = json.load(f) \n",
    "   \n",
    "f.close() "
   ]
  },
  {
   "cell_type": "code",
   "execution_count": 8,
   "id": "7f87118a",
   "metadata": {},
   "outputs": [],
   "source": [
    "degen = np.asarray(list(degen['A8_B(4:4)_O24'].values()))"
   ]
  },
  {
   "cell_type": "code",
   "execution_count": 9,
   "id": "77511b64",
   "metadata": {},
   "outputs": [
    {
     "data": {
      "text/plain": [
       "array([ 6,  8, 24, 24,  6,  2])"
      ]
     },
     "execution_count": 9,
     "metadata": {},
     "output_type": "execute_result"
    }
   ],
   "source": [
    "degen"
   ]
  },
  {
   "cell_type": "code",
   "execution_count": 10,
   "id": "7aa54052",
   "metadata": {},
   "outputs": [],
   "source": [
    "formula_to_entropy_dft = {}\n",
    "formula_to_entropy_CGCNN = {}\n",
    "formula_to_entropy_e3nn = {}\n",
    "formula_to_entropy_m3gnet = {}\n",
    "\n",
    "\n",
    "formula_to_Prs_dft = {}\n",
    "formula_to_Prs_CGCNN = {}\n",
    "formula_to_Prs_e3nn = {}\n",
    "formula_to_Prs_m3gnet = {}\n",
    "\n",
    "formulas = set(held_out_B_data.formula)"
   ]
  },
  {
   "cell_type": "code",
   "execution_count": 11,
   "id": "6ecd38e2",
   "metadata": {},
   "outputs": [],
   "source": [
    "T = 1300\n",
    "kb = 0.0000861733326\n",
    "\n",
    "\n",
    "def get_Prs(data,formula,energies):\n",
    "    data_form = data[data.formula==formula].copy()\n",
    "    data_form_sorted = data_form.sort_values(by=[\"unrelaxed_cryst_id\"],axis=0)\n",
    "    energies = np.asarray(data_form_sorted[energies])*40.0\n",
    "    energies -= energies.min()\n",
    "    probs = np.exp(-energies/(kb*T))*degen\n",
    "    probs = probs / probs.sum()\n",
    "    \n",
    "    return probs[-1]\n",
    "    \n",
    "    \n",
    "    \n",
    "def get_entropy(data,formula,energies):\n",
    "    \n",
    "    data_form = data[data.formula==formula].copy()\n",
    "    data_form_sorted = data_form.sort_values(by=[\"unrelaxed_cryst_id\"],axis=0)\n",
    "    energies = np.asarray(data_form_sorted[energies])*40.0\n",
    "    energies -= energies.min()\n",
    "    Bolzmann_terms = np.exp(-energies/(kb*T))\n",
    "    weighted_probs = Bolzmann_terms*degen / np.sum(Bolzmann_terms*degen)\n",
    "    \n",
    "    entropy = 0\n",
    "    entropy_norm = 0\n",
    "    \n",
    "    Z = np.sum(Bolzmann_terms*degen)\n",
    "    \n",
    "    uniform_Bolzmann_terms = np.ones(Bolzmann_terms.shape)\n",
    "    uniform_Z = np.sum(degen*uniform_Bolzmann_terms)\n",
    "    uniform_weighted_probs = uniform_Bolzmann_terms*degen / uniform_Z\n",
    "\n",
    "    for i in range(Bolzmann_terms.shape[0]):\n",
    "        entropy += weighted_probs[i]*np.log(Bolzmann_terms[i]/Z)\n",
    "        \n",
    "        entropy_norm += uniform_weighted_probs[i]*np.log(uniform_Bolzmann_terms[i]/uniform_Z)\n",
    "\n",
    "    return entropy/entropy_norm"
   ]
  },
  {
   "cell_type": "code",
   "execution_count": null,
   "id": "28854d27",
   "metadata": {},
   "outputs": [],
   "source": []
  },
  {
   "cell_type": "code",
   "execution_count": 12,
   "id": "9d897bc9",
   "metadata": {},
   "outputs": [],
   "source": [
    "for formula in formulas:\n",
    "    formula_to_entropy_dft[formula] = get_entropy(held_out_B_data.copy(),formula,\"dft_e_hull\")\n",
    "    formula_to_entropy_CGCNN[formula] = get_entropy(held_out_B_data.copy(),formula,\"CGCNN_val\")\n",
    "    formula_to_entropy_e3nn[formula] = get_entropy(held_out_B_data.copy(),formula,\"e3nn_val\")\n",
    "    formula_to_entropy_m3gnet[formula] = get_entropy(held_out_B_data.copy(),formula,\"M3Gnet_relaxed_energy_per_atom\")\n",
    "    formula_to_Prs_dft[formula]  = get_Prs(held_out_B_data.copy(),formula,\"dft_e_hull\")\n",
    "    formula_to_Prs_CGCNN[formula] = get_Prs(held_out_B_data.copy(),formula,\"CGCNN_val\")\n",
    "    formula_to_Prs_e3nn[formula] = get_Prs(held_out_B_data.copy(),formula,\"e3nn_val\")\n",
    "    formula_to_Prs_m3gnet[formula] = get_Prs(held_out_B_data.copy(),formula,\"M3Gnet_relaxed_energy_per_atom\")\n"
   ]
  },
  {
   "cell_type": "code",
   "execution_count": 13,
   "id": "cf01f3ac",
   "metadata": {},
   "outputs": [],
   "source": [
    "entropy_dft = list(formula_to_entropy_dft.values())\n",
    "entropy_CGCNN = list(formula_to_entropy_CGCNN.values())\n",
    "entropy_e3nn = list(formula_to_entropy_e3nn.values())\n",
    "entropy_m3gnet = list(formula_to_entropy_m3gnet.values())\n",
    "\n",
    "Prs_dft = list(formula_to_Prs_dft.values())\n",
    "Prs_CGCNN = list(formula_to_Prs_CGCNN.values())\n",
    "Prs_e3nn = list(formula_to_Prs_e3nn.values())\n",
    "Prs_m3gnet = list(formula_to_Prs_m3gnet.values())\n"
   ]
  },
  {
   "cell_type": "code",
   "execution_count": 14,
   "id": "7850d943",
   "metadata": {},
   "outputs": [],
   "source": [
    "import matplotlib.pyplot as plt"
   ]
  },
  {
   "cell_type": "code",
   "execution_count": 15,
   "id": "cc88c236",
   "metadata": {},
   "outputs": [
    {
     "data": {
      "text/plain": [
       "<matplotlib.collections.PathCollection at 0x7feb87ec50a0>"
      ]
     },
     "execution_count": 15,
     "metadata": {},
     "output_type": "execute_result"
    },
    {
     "data": {
      "image/png": "[encoded data removed]",
      "text/plain": [
       "<Figure size 432x288 with 1 Axes>"
      ]
     },
     "metadata": {
      "needs_background": "light"
     },
     "output_type": "display_data"
    }
   ],
   "source": [
    "plt.scatter(entropy_dft,entropy_CGCNN,alpha=0.2)"
   ]
  },
  {
   "cell_type": "code",
   "execution_count": 16,
   "id": "09106f6d",
   "metadata": {},
   "outputs": [
    {
     "data": {
      "text/plain": [
       "array([[1.       , 0.4586404],\n",
       "       [0.4586404, 1.       ]])"
      ]
     },
     "execution_count": 16,
     "metadata": {},
     "output_type": "execute_result"
    }
   ],
   "source": [
    "np.corrcoef(entropy_dft,entropy_CGCNN)"
   ]
  },
  {
   "cell_type": "code",
   "execution_count": 17,
   "id": "6eae8dbb",
   "metadata": {},
   "outputs": [
    {
     "data": {
      "text/plain": [
       "0.16315121970519145"
      ]
     },
     "execution_count": 17,
     "metadata": {},
     "output_type": "execute_result"
    }
   ],
   "source": [
    "min(entropy_dft)"
   ]
  },
  {
   "cell_type": "code",
   "execution_count": null,
   "id": "e914375d",
   "metadata": {},
   "outputs": [],
   "source": []
  },
  {
   "cell_type": "code",
   "execution_count": 18,
   "id": "e939a6bb",
   "metadata": {},
   "outputs": [
    {
     "data": {
      "text/plain": [
       "<matplotlib.collections.PathCollection at 0x7feb93a341c0>"
      ]
     },
     "execution_count": 18,
     "metadata": {},
     "output_type": "execute_result"
    },
    {
     "data": {
      "image/png": "[encoded data removed]",
      "text/plain": [
       "<Figure size 432x288 with 1 Axes>"
      ]
     },
     "metadata": {
      "needs_background": "light"
     },
     "output_type": "display_data"
    }
   ],
   "source": [
    "plt.scatter(entropy_dft,entropy_e3nn,alpha=0.2)"
   ]
  },
  {
   "cell_type": "code",
   "execution_count": 19,
   "id": "dbdeeecb",
   "metadata": {},
   "outputs": [
    {
     "data": {
      "text/plain": [
       "array([[1.       , 0.3757819],\n",
       "       [0.3757819, 1.       ]])"
      ]
     },
     "execution_count": 19,
     "metadata": {},
     "output_type": "execute_result"
    }
   ],
   "source": [
    "np.corrcoef(entropy_dft,entropy_e3nn)"
   ]
  },
  {
   "cell_type": "code",
   "execution_count": 20,
   "id": "9dd58ba1",
   "metadata": {},
   "outputs": [
    {
     "data": {
      "text/plain": [
       "<matplotlib.collections.PathCollection at 0x7feb9399abe0>"
      ]
     },
     "execution_count": 20,
     "metadata": {},
     "output_type": "execute_result"
    },
    {
     "data": {
      "image/png": "[encoded data removed]",
      "text/plain": [
       "<Figure size 432x288 with 1 Axes>"
      ]
     },
     "metadata": {
      "needs_background": "light"
     },
     "output_type": "display_data"
    }
   ],
   "source": [
    "plt.scatter(entropy_dft,entropy_m3gnet,alpha=0.2)"
   ]
  },
  {
   "cell_type": "code",
   "execution_count": 21,
   "id": "af8eb7d5",
   "metadata": {},
   "outputs": [
    {
     "data": {
      "text/plain": [
       "array([[1.      , 0.635142],\n",
       "       [0.635142, 1.      ]])"
      ]
     },
     "execution_count": 21,
     "metadata": {},
     "output_type": "execute_result"
    }
   ],
   "source": [
    "np.corrcoef(entropy_dft,entropy_m3gnet)"
   ]
  },
  {
   "cell_type": "code",
   "execution_count": 22,
   "id": "7a740ba7",
   "metadata": {},
   "outputs": [],
   "source": [
    "from sklearn import metrics"
   ]
  },
  {
   "cell_type": "code",
   "execution_count": 23,
   "id": "f74b3c83",
   "metadata": {},
   "outputs": [
    {
     "data": {
      "text/plain": [
       "-1.2432846419331378"
      ]
     },
     "execution_count": 23,
     "metadata": {},
     "output_type": "execute_result"
    }
   ],
   "source": [
    "metrics.r2_score(entropy_dft,entropy_CGCNN)"
   ]
  },
  {
   "cell_type": "code",
   "execution_count": 24,
   "id": "80c34b3c",
   "metadata": {},
   "outputs": [
    {
     "data": {
      "text/plain": [
       "-0.17098043064880342"
      ]
     },
     "execution_count": 24,
     "metadata": {},
     "output_type": "execute_result"
    }
   ],
   "source": [
    "metrics.r2_score(entropy_dft,entropy_e3nn)"
   ]
  },
  {
   "cell_type": "code",
   "execution_count": 25,
   "id": "0b6a5b1d",
   "metadata": {},
   "outputs": [
    {
     "data": {
      "text/plain": [
       "0.3202707427123447"
      ]
     },
     "execution_count": 25,
     "metadata": {},
     "output_type": "execute_result"
    }
   ],
   "source": [
    "metrics.r2_score(entropy_dft,entropy_m3gnet)"
   ]
  },
  {
   "cell_type": "code",
   "execution_count": 26,
   "id": "05302416",
   "metadata": {},
   "outputs": [
    {
     "name": "stdout",
     "output_type": "stream",
     "text": [
      "100\n"
     ]
    }
   ],
   "source": [
    "print(len(entropy_dft))"
   ]
  },
  {
   "cell_type": "code",
   "execution_count": 27,
   "id": "b9765d66",
   "metadata": {},
   "outputs": [
    {
     "data": {
      "text/plain": [
       "<matplotlib.collections.PathCollection at 0x7feb853feac0>"
      ]
     },
     "execution_count": 27,
     "metadata": {},
     "output_type": "execute_result"
    },
    {
     "data": {
      "image/png": "[encoded data removed]",
      "text/plain": [
       "<Figure size 432x288 with 1 Axes>"
      ]
     },
     "metadata": {
      "needs_background": "light"
     },
     "output_type": "display_data"
    }
   ],
   "source": [
    "plt.scatter(Prs_dft,Prs_CGCNN,alpha=0.2)"
   ]
  },
  {
   "cell_type": "code",
   "execution_count": 28,
   "id": "26074a48",
   "metadata": {},
   "outputs": [
    {
     "data": {
      "text/plain": [
       "<matplotlib.collections.PathCollection at 0x7feb8536c340>"
      ]
     },
     "execution_count": 28,
     "metadata": {},
     "output_type": "execute_result"
    },
    {
     "data": {
      "image/png": "[encoded data removed]",
      "text/plain": [
       "<Figure size 432x288 with 1 Axes>"
      ]
     },
     "metadata": {
      "needs_background": "light"
     },
     "output_type": "display_data"
    }
   ],
   "source": [
    "plt.scatter(Prs_dft,Prs_e3nn,alpha=0.2)"
   ]
  },
  {
   "cell_type": "code",
   "execution_count": 29,
   "id": "2163a036",
   "metadata": {},
   "outputs": [
    {
     "data": {
      "text/plain": [
       "<matplotlib.collections.PathCollection at 0x7feb85350460>"
      ]
     },
     "execution_count": 29,
     "metadata": {},
     "output_type": "execute_result"
    },
    {
     "data": {
      "image/png": "[encoded data removed]",
      "text/plain": [
       "<Figure size 432x288 with 1 Axes>"
      ]
     },
     "metadata": {
      "needs_background": "light"
     },
     "output_type": "display_data"
    }
   ],
   "source": [
    "plt.scatter(Prs_dft,Prs_m3gnet,alpha=0.2)"
   ]
  },
  {
   "cell_type": "code",
   "execution_count": 30,
   "id": "ce8b85aa",
   "metadata": {},
   "outputs": [
    {
     "data": {
      "text/plain": [
       "-0.43925121019629754"
      ]
     },
     "execution_count": 30,
     "metadata": {},
     "output_type": "execute_result"
    }
   ],
   "source": [
    "metrics.r2_score(Prs_dft,Prs_CGCNN)"
   ]
  },
  {
   "cell_type": "code",
   "execution_count": 31,
   "id": "c6767674",
   "metadata": {},
   "outputs": [
    {
     "data": {
      "text/plain": [
       "-0.11742839832938734"
      ]
     },
     "execution_count": 31,
     "metadata": {},
     "output_type": "execute_result"
    }
   ],
   "source": [
    "metrics.r2_score(Prs_dft,Prs_e3nn)"
   ]
  },
  {
   "cell_type": "code",
   "execution_count": 32,
   "id": "ce699f64",
   "metadata": {},
   "outputs": [
    {
     "data": {
      "text/plain": [
       "0.2663014785523642"
      ]
     },
     "execution_count": 32,
     "metadata": {},
     "output_type": "execute_result"
    }
   ],
   "source": [
    "metrics.r2_score(Prs_dft,Prs_m3gnet)"
   ]
  },
  {
   "cell_type": "code",
   "execution_count": 33,
   "id": "74115898",
   "metadata": {},
   "outputs": [
    {
     "data": {
      "text/plain": [
       "<matplotlib.collections.PathCollection at 0x7feb852b1790>"
      ]
     },
     "execution_count": 33,
     "metadata": {},
     "output_type": "execute_result"
    },
    {
     "data": {
      "image/png": "[encoded data removed]",
      "text/plain": [
       "<Figure size 432x288 with 1 Axes>"
      ]
     },
     "metadata": {
      "needs_background": "light"
     },
     "output_type": "display_data"
    }
   ],
   "source": [
    "plt.scatter(entropy_dft,Prs_dft,alpha=0.8)"
   ]
  },
  {
   "cell_type": "code",
   "execution_count": 34,
   "id": "dc355950",
   "metadata": {},
   "outputs": [
    {
     "data": {
      "text/plain": [
       "100"
      ]
     },
     "execution_count": 34,
     "metadata": {},
     "output_type": "execute_result"
    }
   ],
   "source": [
    "len(entropy_dft)"
   ]
  },
  {
   "cell_type": "code",
   "execution_count": 35,
   "id": "c289fc83",
   "metadata": {},
   "outputs": [],
   "source": [
    "import json\n",
    "\n",
    "with open('entropy_CGCNN_held_out_best.json', 'w') as fp:\n",
    "    json.dump(formula_to_entropy_CGCNN, fp)\n",
    "    \n",
    "with open('entropy_e3nn_held_out_best.json', 'w') as fp:\n",
    "    json.dump(formula_to_entropy_e3nn, fp)\n",
    "\n",
    "    \n",
    "with open('Prs_CGCNN_held_out_best.json', 'w') as fp:\n",
    "    json.dump(formula_to_Prs_CGCNN, fp)\n",
    "    \n",
    "with open('Prs_e3nn_held_out_best.json', 'w') as fp:\n",
    "    json.dump(formula_to_Prs_e3nn, fp)\n",
    "    \n"
   ]
  },
  {
   "cell_type": "code",
   "execution_count": null,
   "id": "316b2fcf",
   "metadata": {},
   "outputs": [],
   "source": []
  }
 ],
 "metadata": {
  "kernelspec": {
   "display_name": "Python (htvs)",
   "language": "python",
   "name": "htvs"
  },
  "language_info": {
   "codemirror_mode": {
    "name": "ipython",
    "version": 3
   },
   "file_extension": ".py",
   "mimetype": "text/x-python",
   "name": "python",
   "nbconvert_exporter": "python",
   "pygments_lexer": "ipython3",
   "version": "3.9.12"
  }
 },
 "nbformat": 4,
 "nbformat_minor": 5
}
