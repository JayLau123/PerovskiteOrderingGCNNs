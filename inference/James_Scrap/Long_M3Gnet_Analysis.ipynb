{
 "cells": [
  {
   "cell_type": "code",
   "execution_count": 15,
   "id": "4dbbf1ac",
   "metadata": {},
   "outputs": [],
   "source": [
    "import pandas as pd\n",
    "import matplotlib.pyplot as plt\n",
    "import os\n",
    "import pickle\n",
    "import numpy as np\n",
    "from sklearn import metrics"
   ]
  },
  {
   "cell_type": "code",
   "execution_count": 2,
   "id": "c6684c66",
   "metadata": {},
   "outputs": [],
   "source": [
    "test_set = pd.read_json(\"../../data/test_set.json\")\n",
    "ternary_set = pd.read_json(\"../../data/holdout_set_B_sites.json\")"
   ]
  },
  {
   "cell_type": "code",
   "execution_count": 3,
   "id": "8b7ee71f",
   "metadata": {},
   "outputs": [],
   "source": [
    "M3Gnet_long_training_June = \"training_opt_unrelaxed_names_long\"\n",
    "M3Gnet_long_validation_June = \"validation_opt_unrelaxed_names_long\"\n",
    "M3Gnet_long_test_June = \"test_opt_unrelaxed_names_long_Nov_14\"\n",
    "M3Gnet_long_ternary_June = \"test_ternary_opt_unrelaxed_names_long_Nov_14\""
   ]
  },
  {
   "cell_type": "code",
   "execution_count": 4,
   "id": "1dd4dd4d",
   "metadata": {},
   "outputs": [
    {
     "name": "stdout",
     "output_type": "stream",
     "text": [
      "0\n"
     ]
    }
   ],
   "source": [
    "count=0\n",
    "for subdir, dirs, files in os.walk(\"training_opt_unrelaxed_names_long/\"):\n",
    "    count=+1\n",
    "print(count)"
   ]
  },
  {
   "cell_type": "code",
   "execution_count": 6,
   "id": "2e98d53d",
   "metadata": {},
   "outputs": [],
   "source": [
    "test_long_m3gnet_energy = []\n",
    "missed=0\n",
    "for i in range(len(test_set)):\n",
    "    curr_row = test_set.iloc[i]\n",
    "    unrelaxed_id = curr_row.unrelaxed_cryst_id\n",
    "    \n",
    "    M3Gnet_directories = [M3Gnet_long_training_June,M3Gnet_long_validation_June,M3Gnet_long_test_June,M3Gnet_long_ternary_June]\n",
    "\n",
    "    filename = \"M3Gnet_traj\" + str(unrelaxed_id)\n",
    "    \n",
    "    data = None\n",
    "    found_data = False\n",
    "    for directory in M3Gnet_directories:\n",
    "        path = \"Long_M3Gnet_data/\"+directory + \"/\"\n",
    "        for subdir, dirs, files in os.walk(path):\n",
    "            for file in files:\n",
    "                #print(file)\n",
    "                #print(file[11:20])\n",
    "                if str(unrelaxed_id) == file[11:20]:\n",
    "                        ### load file\n",
    "                    f = open(path+file, 'rb')\n",
    "                    data_tmp = pickle.load(f)\n",
    "                    f.close()\n",
    "                    data=True\n",
    "\n",
    "    if data == None:\n",
    "        print(\"Did not Find M3Gnet\")\n",
    "        missed+=1\n",
    "            \n",
    "    else:\n",
    "        #print(\"here\")\n",
    "        test_long_m3gnet_energy.append(data_tmp[\"energy\"][-1])\n",
    "    \n",
    "\n",
    "\n",
    "test_set[\"Long_M3gnet_energy\"] = test_long_m3gnet_energy"
   ]
  },
  {
   "cell_type": "code",
   "execution_count": 9,
   "id": "eb697b95",
   "metadata": {},
   "outputs": [],
   "source": [
    "ternary_long_m3gnet_energy = []\n",
    "missed=0\n",
    "for i in range(len(ternary_set)):\n",
    "    curr_row = ternary_set.iloc[i]\n",
    "    unrelaxed_id = curr_row.unrelaxed_cryst_id\n",
    "    \n",
    "    M3Gnet_directories = [M3Gnet_long_training_June,M3Gnet_long_validation_June,M3Gnet_long_test_June,M3Gnet_long_ternary_June]\n",
    "\n",
    "    filename = \"M3Gnet_traj\" + str(unrelaxed_id)\n",
    "    \n",
    "    data = None\n",
    "    found_data = False\n",
    "    for directory in M3Gnet_directories:\n",
    "        path = \"Long_M3Gnet_data/\"+directory + \"/\"\n",
    "        for subdir, dirs, files in os.walk(path):\n",
    "            for file in files:\n",
    "                #print(file)\n",
    "                #print(file[11:20])\n",
    "                if str(unrelaxed_id) == file[11:20]:\n",
    "                        ### load file\n",
    "                    f = open(path+file, 'rb')\n",
    "                    data_tmp = pickle.load(f)\n",
    "                    f.close()\n",
    "                    data=True\n",
    "\n",
    "    if data == None:\n",
    "        print(\"Did not Find M3Gnet\")\n",
    "        missed+=1\n",
    "            \n",
    "    else:\n",
    "        #print(\"here\")\n",
    "        ternary_long_m3gnet_energy.append(data_tmp[\"energy\"][-1])\n",
    "    \n",
    "\n",
    "\n",
    "ternary_set[\"Long_M3gnet_energy\"] = ternary_long_m3gnet_energy"
   ]
  },
  {
   "cell_type": "code",
   "execution_count": 13,
   "id": "70b7556a",
   "metadata": {},
   "outputs": [],
   "source": [
    "def get_M3GNet(dataframe):\n",
    "    predicted = dataframe.Long_M3gnet_energy / 40.0\n",
    "    dft = dataframe.dft_energy_per_atom\n",
    "    \n",
    "    print(np.mean(np.abs(dft-predicted)))\n",
    "    print(metrics.r2_score(dft,predicted))"
   ]
  },
  {
   "cell_type": "code",
   "execution_count": 16,
   "id": "bf66b39f",
   "metadata": {},
   "outputs": [
    {
     "name": "stdout",
     "output_type": "stream",
     "text": [
      "0.03475407765416136\n",
      "0.9976230745022194\n"
     ]
    }
   ],
   "source": [
    "get_M3GNet(test_set)"
   ]
  },
  {
   "cell_type": "code",
   "execution_count": 17,
   "id": "a437a769",
   "metadata": {},
   "outputs": [
    {
     "name": "stdout",
     "output_type": "stream",
     "text": [
      "0.025916565490026043\n",
      "0.997162885920168\n"
     ]
    }
   ],
   "source": [
    "get_M3GNet(ternary_set)"
   ]
  },
  {
   "cell_type": "code",
   "execution_count": null,
   "id": "50f9e207",
   "metadata": {},
   "outputs": [],
   "source": []
  }
 ],
 "metadata": {
  "kernelspec": {
   "display_name": "Python (htvs)",
   "language": "python",
   "name": "htvs"
  },
  "language_info": {
   "codemirror_mode": {
    "name": "ipython",
    "version": 3
   },
   "file_extension": ".py",
   "mimetype": "text/x-python",
   "name": "python",
   "nbconvert_exporter": "python",
   "pygments_lexer": "ipython3",
   "version": "3.9.12"
  }
 },
 "nbformat": 4,
 "nbformat_minor": 5
}
