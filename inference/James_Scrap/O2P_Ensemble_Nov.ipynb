{
 "cells": [
  {
   "cell_type": "code",
   "execution_count": 1,
   "id": "5f0c45f7",
   "metadata": {},
   "outputs": [],
   "source": [
    "import pandas as pd\n",
    "import matplotlib.pyplot as plt\n",
    "import numpy as np"
   ]
  },
  {
   "cell_type": "code",
   "execution_count": 2,
   "id": "a4fe7f27",
   "metadata": {},
   "outputs": [],
   "source": [
    "e3nn_ensemble_energies = np.load(\"e3nn_mean_pred.npy\")\n",
    "CGCNN_ensemble_energies = np.load(\"CGCNN_mean_pred.npy\")\n",
    "chgnet_energies = np.load(\"chgnet_per_atom_ternary.npy\")"
   ]
  },
  {
   "cell_type": "code",
   "execution_count": null,
   "id": "20d1d416",
   "metadata": {},
   "outputs": [],
   "source": []
  },
  {
   "cell_type": "code",
   "execution_count": 3,
   "id": "55924331",
   "metadata": {},
   "outputs": [],
   "source": [
    "ehull_data_held_out_B = pd.read_json(\"../../best_models/e3nn/dft_e_hull_htvs_data_unrelaxed_e3nn/837627/best_0/holdout_set_B_sites_predictions.json\")\n",
    "\n",
    "O2P_data_held_out_B = pd.read_json(\"../../best_models/e3nn/per_site_p_band_data_per_site_unrelaxed_e3nn/1021456/best_0/holdout_set_B_sites_predictions.json\")\n"
   ]
  },
  {
   "cell_type": "code",
   "execution_count": 4,
   "id": "d388110b",
   "metadata": {},
   "outputs": [
    {
     "data": {
      "text/html": [
       "<div>\n",
       "<style scoped>\n",
       "    .dataframe tbody tr th:only-of-type {\n",
       "        vertical-align: middle;\n",
       "    }\n",
       "\n",
       "    .dataframe tbody tr th {\n",
       "        vertical-align: top;\n",
       "    }\n",
       "\n",
       "    .dataframe thead th {\n",
       "        text-align: right;\n",
       "    }\n",
       "</style>\n",
       "<table border=\"1\" class=\"dataframe\">\n",
       "  <thead>\n",
       "    <tr style=\"text-align: right;\">\n",
       "      <th></th>\n",
       "      <th>formula</th>\n",
       "      <th>framework</th>\n",
       "      <th>composition</th>\n",
       "      <th>n_atoms_unrelaxed</th>\n",
       "      <th>n_atoms_opt</th>\n",
       "      <th>unrelaxed_cryst_id</th>\n",
       "      <th>unrelaxed_struct</th>\n",
       "      <th>opt_cryst_id</th>\n",
       "      <th>opt_struct</th>\n",
       "      <th>es_job_id</th>\n",
       "      <th>dft_energy</th>\n",
       "      <th>dft_energy_per_atom</th>\n",
       "      <th>dft_e_hull</th>\n",
       "      <th>Op_band_center</th>\n",
       "      <th>M3Gnet_relaxed_struct</th>\n",
       "      <th>M3Gnet_relaxed_energy</th>\n",
       "      <th>M3Gnet_relaxed_energy_per_atom</th>\n",
       "      <th>per_site_p_band</th>\n",
       "      <th>idx</th>\n",
       "      <th>predicted_per_site_p_band</th>\n",
       "    </tr>\n",
       "  </thead>\n",
       "  <tbody>\n",
       "    <tr>\n",
       "      <th>0</th>\n",
       "      <td>Ca8Fe4Mn4O24</td>\n",
       "      <td>CaFe0.500Mn0.500O3</td>\n",
       "      <td>{'sites': {'A': ['Ca'], 'B': ['Mn', 'Fe'], 'X'...</td>\n",
       "      <td>40</td>\n",
       "      <td>40</td>\n",
       "      <td>222998128</td>\n",
       "      <td>{'@module': 'pymatgen.core.structure', '@class...</td>\n",
       "      <td>423959398</td>\n",
       "      <td>{'@module': 'pymatgen.core.structure', '@class...</td>\n",
       "      <td>123103556</td>\n",
       "      <td>-265.489796</td>\n",
       "      <td>-6.637245</td>\n",
       "      <td>0.074200</td>\n",
       "      <td>-1.389153</td>\n",
       "      <td>{'@module': 'pymatgen.core.structure', '@class...</td>\n",
       "      <td>-266.711243</td>\n",
       "      <td>-6.667781</td>\n",
       "      <td>[-17.5017442981, -16.4627914489, -1.4650019505...</td>\n",
       "      <td>0</td>\n",
       "      <td>[-17.3751678467, -16.4413585663, -1.5515427589...</td>\n",
       "    </tr>\n",
       "    <tr>\n",
       "      <th>1</th>\n",
       "      <td>Ca8Fe4Mn4O24</td>\n",
       "      <td>CaFe0.500Mn0.500O3</td>\n",
       "      <td>{'sites': {'A': ['Ca'], 'B': ['Mn', 'Fe'], 'X'...</td>\n",
       "      <td>40</td>\n",
       "      <td>40</td>\n",
       "      <td>222998125</td>\n",
       "      <td>{'@module': 'pymatgen.core.structure', '@class...</td>\n",
       "      <td>421466237</td>\n",
       "      <td>{'@module': 'pymatgen.core.structure', '@class...</td>\n",
       "      <td>122979400</td>\n",
       "      <td>-265.627054</td>\n",
       "      <td>-6.640676</td>\n",
       "      <td>0.070768</td>\n",
       "      <td>-1.420044</td>\n",
       "      <td>{'@module': 'pymatgen.core.structure', '@class...</td>\n",
       "      <td>-266.456848</td>\n",
       "      <td>-6.661421</td>\n",
       "      <td>[-17.5196675694, -16.4714246517, -1.5223693442...</td>\n",
       "      <td>1</td>\n",
       "      <td>[-17.410905838, -16.410326004, -1.5399699211, ...</td>\n",
       "    </tr>\n",
       "    <tr>\n",
       "      <th>2</th>\n",
       "      <td>Ca8Fe4Mn4O24</td>\n",
       "      <td>CaFe0.500Mn0.500O3</td>\n",
       "      <td>{'sites': {'A': ['Ca'], 'B': ['Mn', 'Fe'], 'X'...</td>\n",
       "      <td>40</td>\n",
       "      <td>40</td>\n",
       "      <td>222998126</td>\n",
       "      <td>{'@module': 'pymatgen.core.structure', '@class...</td>\n",
       "      <td>421466235</td>\n",
       "      <td>{'@module': 'pymatgen.core.structure', '@class...</td>\n",
       "      <td>122979657</td>\n",
       "      <td>-265.542706</td>\n",
       "      <td>-6.638568</td>\n",
       "      <td>0.072877</td>\n",
       "      <td>-1.424778</td>\n",
       "      <td>{'@module': 'pymatgen.core.structure', '@class...</td>\n",
       "      <td>-266.213867</td>\n",
       "      <td>-6.655347</td>\n",
       "      <td>[-17.5508654976, -16.4683612571, -1.513343257,...</td>\n",
       "      <td>2</td>\n",
       "      <td>[-17.4290904999, -16.4203643799, -1.5438275337...</td>\n",
       "    </tr>\n",
       "    <tr>\n",
       "      <th>3</th>\n",
       "      <td>Ca8Fe4Mn4O24</td>\n",
       "      <td>CaFe0.500Mn0.500O3</td>\n",
       "      <td>{'sites': {'A': ['Ca'], 'B': ['Mn', 'Fe'], 'X'...</td>\n",
       "      <td>40</td>\n",
       "      <td>40</td>\n",
       "      <td>222998127</td>\n",
       "      <td>{'@module': 'pymatgen.core.structure', '@class...</td>\n",
       "      <td>421466263</td>\n",
       "      <td>{'@module': 'pymatgen.core.structure', '@class...</td>\n",
       "      <td>122979417</td>\n",
       "      <td>-265.631202</td>\n",
       "      <td>-6.640780</td>\n",
       "      <td>0.070665</td>\n",
       "      <td>-1.404994</td>\n",
       "      <td>{'@module': 'pymatgen.core.structure', '@class...</td>\n",
       "      <td>-264.671021</td>\n",
       "      <td>-6.616776</td>\n",
       "      <td>[-17.496564219, -16.4438265053, -1.4971727612,...</td>\n",
       "      <td>3</td>\n",
       "      <td>[-17.3572921753, -16.3713817596, -1.525686264,...</td>\n",
       "    </tr>\n",
       "    <tr>\n",
       "      <th>4</th>\n",
       "      <td>Ca8Fe4Mn4O24</td>\n",
       "      <td>CaFe0.500Mn0.500O3</td>\n",
       "      <td>{'sites': {'A': ['Ca'], 'B': ['Mn', 'Fe'], 'X'...</td>\n",
       "      <td>40</td>\n",
       "      <td>40</td>\n",
       "      <td>222998129</td>\n",
       "      <td>{'@module': 'pymatgen.core.structure', '@class...</td>\n",
       "      <td>421466289</td>\n",
       "      <td>{'@module': 'pymatgen.core.structure', '@class...</td>\n",
       "      <td>122979438</td>\n",
       "      <td>-265.628562</td>\n",
       "      <td>-6.640714</td>\n",
       "      <td>0.070731</td>\n",
       "      <td>-1.381979</td>\n",
       "      <td>{'@module': 'pymatgen.core.structure', '@class...</td>\n",
       "      <td>-266.308624</td>\n",
       "      <td>-6.657716</td>\n",
       "      <td>[-17.4797529417, -16.4231884613, -1.4775876991...</td>\n",
       "      <td>4</td>\n",
       "      <td>[-17.2924022675, -16.3576927185, -1.6476016045...</td>\n",
       "    </tr>\n",
       "    <tr>\n",
       "      <th>...</th>\n",
       "      <td>...</td>\n",
       "      <td>...</td>\n",
       "      <td>...</td>\n",
       "      <td>...</td>\n",
       "      <td>...</td>\n",
       "      <td>...</td>\n",
       "      <td>...</td>\n",
       "      <td>...</td>\n",
       "      <td>...</td>\n",
       "      <td>...</td>\n",
       "      <td>...</td>\n",
       "      <td>...</td>\n",
       "      <td>...</td>\n",
       "      <td>...</td>\n",
       "      <td>...</td>\n",
       "      <td>...</td>\n",
       "      <td>...</td>\n",
       "      <td>...</td>\n",
       "      <td>...</td>\n",
       "      <td>...</td>\n",
       "    </tr>\n",
       "    <tr>\n",
       "      <th>595</th>\n",
       "      <td>Mn4Ni4O24Tb8</td>\n",
       "      <td>TbMn0.500Ni0.500O3</td>\n",
       "      <td>{'sites': {'A': ['Tb'], 'B': ['Ni', 'Mn'], 'X'...</td>\n",
       "      <td>40</td>\n",
       "      <td>40</td>\n",
       "      <td>272062436</td>\n",
       "      <td>{'@module': 'pymatgen.core.structure', '@class...</td>\n",
       "      <td>421446419</td>\n",
       "      <td>{'@module': 'pymatgen.core.structure', '@class...</td>\n",
       "      <td>122979607</td>\n",
       "      <td>-291.947011</td>\n",
       "      <td>-7.298675</td>\n",
       "      <td>0.083433</td>\n",
       "      <td>-1.855526</td>\n",
       "      <td>{'@module': 'pymatgen.core.structure', '@class...</td>\n",
       "      <td>-289.953644</td>\n",
       "      <td>-7.248841</td>\n",
       "      <td>[-14.9030627055, -17.2428913671, -2.1136579444...</td>\n",
       "      <td>595</td>\n",
       "      <td>[-15.1510353088, -17.3952999115, -2.2667446136...</td>\n",
       "    </tr>\n",
       "    <tr>\n",
       "      <th>596</th>\n",
       "      <td>Mn4Ni4O24Tb8</td>\n",
       "      <td>TbMn0.500Ni0.500O3</td>\n",
       "      <td>{'sites': {'A': ['Tb'], 'B': ['Ni', 'Mn'], 'X'...</td>\n",
       "      <td>40</td>\n",
       "      <td>40</td>\n",
       "      <td>272062439</td>\n",
       "      <td>{'@module': 'pymatgen.core.structure', '@class...</td>\n",
       "      <td>421459053</td>\n",
       "      <td>{'@module': 'pymatgen.core.structure', '@class...</td>\n",
       "      <td>122979241</td>\n",
       "      <td>-293.275698</td>\n",
       "      <td>-7.331892</td>\n",
       "      <td>0.050215</td>\n",
       "      <td>-1.358484</td>\n",
       "      <td>{'@module': 'pymatgen.core.structure', '@class...</td>\n",
       "      <td>-290.115479</td>\n",
       "      <td>-7.252887</td>\n",
       "      <td>[-14.4681623699, -16.6271803383, -1.4699370683...</td>\n",
       "      <td>596</td>\n",
       "      <td>[-14.9512577057, -16.9154510498, -1.8188428879...</td>\n",
       "    </tr>\n",
       "    <tr>\n",
       "      <th>597</th>\n",
       "      <td>Mn4Ni4O24Tb8</td>\n",
       "      <td>TbMn0.500Ni0.500O3</td>\n",
       "      <td>{'sites': {'A': ['Tb'], 'B': ['Ni', 'Mn'], 'X'...</td>\n",
       "      <td>40</td>\n",
       "      <td>40</td>\n",
       "      <td>272062435</td>\n",
       "      <td>{'@module': 'pymatgen.core.structure', '@class...</td>\n",
       "      <td>421464614</td>\n",
       "      <td>{'@module': 'pymatgen.core.structure', '@class...</td>\n",
       "      <td>122979281</td>\n",
       "      <td>-291.822920</td>\n",
       "      <td>-7.295573</td>\n",
       "      <td>0.086535</td>\n",
       "      <td>-1.938487</td>\n",
       "      <td>{'@module': 'pymatgen.core.structure', '@class...</td>\n",
       "      <td>-291.638702</td>\n",
       "      <td>-7.290968</td>\n",
       "      <td>[-15.1919984736, -17.3414149806, -2.1357504293...</td>\n",
       "      <td>597</td>\n",
       "      <td>[-15.1679897308, -17.5232391357, -2.2620053291...</td>\n",
       "    </tr>\n",
       "    <tr>\n",
       "      <th>598</th>\n",
       "      <td>Mn4Ni4O24Tb8</td>\n",
       "      <td>TbMn0.500Ni0.500O3</td>\n",
       "      <td>{'sites': {'A': ['Tb'], 'B': ['Ni', 'Mn'], 'X'...</td>\n",
       "      <td>40</td>\n",
       "      <td>40</td>\n",
       "      <td>272062438</td>\n",
       "      <td>{'@module': 'pymatgen.core.structure', '@class...</td>\n",
       "      <td>421446230</td>\n",
       "      <td>{'@module': 'pymatgen.core.structure', '@class...</td>\n",
       "      <td>122979130</td>\n",
       "      <td>-292.317225</td>\n",
       "      <td>-7.307931</td>\n",
       "      <td>0.074177</td>\n",
       "      <td>-1.890348</td>\n",
       "      <td>{'@module': 'pymatgen.core.structure', '@class...</td>\n",
       "      <td>-292.125397</td>\n",
       "      <td>-7.303135</td>\n",
       "      <td>[-14.9964240251, -17.156090994, -2.3905035914,...</td>\n",
       "      <td>598</td>\n",
       "      <td>[-15.0665187836, -17.1973285675, -2.3495535851...</td>\n",
       "    </tr>\n",
       "    <tr>\n",
       "      <th>599</th>\n",
       "      <td>Mn4Ni4O24Tb8</td>\n",
       "      <td>TbMn0.500Ni0.500O3</td>\n",
       "      <td>{'sites': {'A': ['Tb'], 'B': ['Ni', 'Mn'], 'X'...</td>\n",
       "      <td>40</td>\n",
       "      <td>40</td>\n",
       "      <td>272062434</td>\n",
       "      <td>{'@module': 'pymatgen.core.structure', '@class...</td>\n",
       "      <td>421466265</td>\n",
       "      <td>{'@module': 'pymatgen.core.structure', '@class...</td>\n",
       "      <td>122979419</td>\n",
       "      <td>-291.589413</td>\n",
       "      <td>-7.289735</td>\n",
       "      <td>0.092373</td>\n",
       "      <td>-1.874410</td>\n",
       "      <td>{'@module': 'pymatgen.core.structure', '@class...</td>\n",
       "      <td>-291.543457</td>\n",
       "      <td>-7.288586</td>\n",
       "      <td>[-15.0256942909, -17.2348769737, -2.1349433885...</td>\n",
       "      <td>599</td>\n",
       "      <td>[-15.2292690277, -17.406873703, -2.2691917419,...</td>\n",
       "    </tr>\n",
       "  </tbody>\n",
       "</table>\n",
       "<p>600 rows × 20 columns</p>\n",
       "</div>"
      ],
      "text/plain": [
       "          formula           framework  \\\n",
       "0    Ca8Fe4Mn4O24  CaFe0.500Mn0.500O3   \n",
       "1    Ca8Fe4Mn4O24  CaFe0.500Mn0.500O3   \n",
       "2    Ca8Fe4Mn4O24  CaFe0.500Mn0.500O3   \n",
       "3    Ca8Fe4Mn4O24  CaFe0.500Mn0.500O3   \n",
       "4    Ca8Fe4Mn4O24  CaFe0.500Mn0.500O3   \n",
       "..            ...                 ...   \n",
       "595  Mn4Ni4O24Tb8  TbMn0.500Ni0.500O3   \n",
       "596  Mn4Ni4O24Tb8  TbMn0.500Ni0.500O3   \n",
       "597  Mn4Ni4O24Tb8  TbMn0.500Ni0.500O3   \n",
       "598  Mn4Ni4O24Tb8  TbMn0.500Ni0.500O3   \n",
       "599  Mn4Ni4O24Tb8  TbMn0.500Ni0.500O3   \n",
       "\n",
       "                                           composition  n_atoms_unrelaxed  \\\n",
       "0    {'sites': {'A': ['Ca'], 'B': ['Mn', 'Fe'], 'X'...                 40   \n",
       "1    {'sites': {'A': ['Ca'], 'B': ['Mn', 'Fe'], 'X'...                 40   \n",
       "2    {'sites': {'A': ['Ca'], 'B': ['Mn', 'Fe'], 'X'...                 40   \n",
       "3    {'sites': {'A': ['Ca'], 'B': ['Mn', 'Fe'], 'X'...                 40   \n",
       "4    {'sites': {'A': ['Ca'], 'B': ['Mn', 'Fe'], 'X'...                 40   \n",
       "..                                                 ...                ...   \n",
       "595  {'sites': {'A': ['Tb'], 'B': ['Ni', 'Mn'], 'X'...                 40   \n",
       "596  {'sites': {'A': ['Tb'], 'B': ['Ni', 'Mn'], 'X'...                 40   \n",
       "597  {'sites': {'A': ['Tb'], 'B': ['Ni', 'Mn'], 'X'...                 40   \n",
       "598  {'sites': {'A': ['Tb'], 'B': ['Ni', 'Mn'], 'X'...                 40   \n",
       "599  {'sites': {'A': ['Tb'], 'B': ['Ni', 'Mn'], 'X'...                 40   \n",
       "\n",
       "     n_atoms_opt  unrelaxed_cryst_id  \\\n",
       "0             40           222998128   \n",
       "1             40           222998125   \n",
       "2             40           222998126   \n",
       "3             40           222998127   \n",
       "4             40           222998129   \n",
       "..           ...                 ...   \n",
       "595           40           272062436   \n",
       "596           40           272062439   \n",
       "597           40           272062435   \n",
       "598           40           272062438   \n",
       "599           40           272062434   \n",
       "\n",
       "                                      unrelaxed_struct  opt_cryst_id  \\\n",
       "0    {'@module': 'pymatgen.core.structure', '@class...     423959398   \n",
       "1    {'@module': 'pymatgen.core.structure', '@class...     421466237   \n",
       "2    {'@module': 'pymatgen.core.structure', '@class...     421466235   \n",
       "3    {'@module': 'pymatgen.core.structure', '@class...     421466263   \n",
       "4    {'@module': 'pymatgen.core.structure', '@class...     421466289   \n",
       "..                                                 ...           ...   \n",
       "595  {'@module': 'pymatgen.core.structure', '@class...     421446419   \n",
       "596  {'@module': 'pymatgen.core.structure', '@class...     421459053   \n",
       "597  {'@module': 'pymatgen.core.structure', '@class...     421464614   \n",
       "598  {'@module': 'pymatgen.core.structure', '@class...     421446230   \n",
       "599  {'@module': 'pymatgen.core.structure', '@class...     421466265   \n",
       "\n",
       "                                            opt_struct  es_job_id  dft_energy  \\\n",
       "0    {'@module': 'pymatgen.core.structure', '@class...  123103556 -265.489796   \n",
       "1    {'@module': 'pymatgen.core.structure', '@class...  122979400 -265.627054   \n",
       "2    {'@module': 'pymatgen.core.structure', '@class...  122979657 -265.542706   \n",
       "3    {'@module': 'pymatgen.core.structure', '@class...  122979417 -265.631202   \n",
       "4    {'@module': 'pymatgen.core.structure', '@class...  122979438 -265.628562   \n",
       "..                                                 ...        ...         ...   \n",
       "595  {'@module': 'pymatgen.core.structure', '@class...  122979607 -291.947011   \n",
       "596  {'@module': 'pymatgen.core.structure', '@class...  122979241 -293.275698   \n",
       "597  {'@module': 'pymatgen.core.structure', '@class...  122979281 -291.822920   \n",
       "598  {'@module': 'pymatgen.core.structure', '@class...  122979130 -292.317225   \n",
       "599  {'@module': 'pymatgen.core.structure', '@class...  122979419 -291.589413   \n",
       "\n",
       "     dft_energy_per_atom  dft_e_hull  Op_band_center  \\\n",
       "0              -6.637245    0.074200       -1.389153   \n",
       "1              -6.640676    0.070768       -1.420044   \n",
       "2              -6.638568    0.072877       -1.424778   \n",
       "3              -6.640780    0.070665       -1.404994   \n",
       "4              -6.640714    0.070731       -1.381979   \n",
       "..                   ...         ...             ...   \n",
       "595            -7.298675    0.083433       -1.855526   \n",
       "596            -7.331892    0.050215       -1.358484   \n",
       "597            -7.295573    0.086535       -1.938487   \n",
       "598            -7.307931    0.074177       -1.890348   \n",
       "599            -7.289735    0.092373       -1.874410   \n",
       "\n",
       "                                 M3Gnet_relaxed_struct  M3Gnet_relaxed_energy  \\\n",
       "0    {'@module': 'pymatgen.core.structure', '@class...            -266.711243   \n",
       "1    {'@module': 'pymatgen.core.structure', '@class...            -266.456848   \n",
       "2    {'@module': 'pymatgen.core.structure', '@class...            -266.213867   \n",
       "3    {'@module': 'pymatgen.core.structure', '@class...            -264.671021   \n",
       "4    {'@module': 'pymatgen.core.structure', '@class...            -266.308624   \n",
       "..                                                 ...                    ...   \n",
       "595  {'@module': 'pymatgen.core.structure', '@class...            -289.953644   \n",
       "596  {'@module': 'pymatgen.core.structure', '@class...            -290.115479   \n",
       "597  {'@module': 'pymatgen.core.structure', '@class...            -291.638702   \n",
       "598  {'@module': 'pymatgen.core.structure', '@class...            -292.125397   \n",
       "599  {'@module': 'pymatgen.core.structure', '@class...            -291.543457   \n",
       "\n",
       "     M3Gnet_relaxed_energy_per_atom  \\\n",
       "0                         -6.667781   \n",
       "1                         -6.661421   \n",
       "2                         -6.655347   \n",
       "3                         -6.616776   \n",
       "4                         -6.657716   \n",
       "..                              ...   \n",
       "595                       -7.248841   \n",
       "596                       -7.252887   \n",
       "597                       -7.290968   \n",
       "598                       -7.303135   \n",
       "599                       -7.288586   \n",
       "\n",
       "                                       per_site_p_band  idx  \\\n",
       "0    [-17.5017442981, -16.4627914489, -1.4650019505...    0   \n",
       "1    [-17.5196675694, -16.4714246517, -1.5223693442...    1   \n",
       "2    [-17.5508654976, -16.4683612571, -1.513343257,...    2   \n",
       "3    [-17.496564219, -16.4438265053, -1.4971727612,...    3   \n",
       "4    [-17.4797529417, -16.4231884613, -1.4775876991...    4   \n",
       "..                                                 ...  ...   \n",
       "595  [-14.9030627055, -17.2428913671, -2.1136579444...  595   \n",
       "596  [-14.4681623699, -16.6271803383, -1.4699370683...  596   \n",
       "597  [-15.1919984736, -17.3414149806, -2.1357504293...  597   \n",
       "598  [-14.9964240251, -17.156090994, -2.3905035914,...  598   \n",
       "599  [-15.0256942909, -17.2348769737, -2.1349433885...  599   \n",
       "\n",
       "                             predicted_per_site_p_band  \n",
       "0    [-17.3751678467, -16.4413585663, -1.5515427589...  \n",
       "1    [-17.410905838, -16.410326004, -1.5399699211, ...  \n",
       "2    [-17.4290904999, -16.4203643799, -1.5438275337...  \n",
       "3    [-17.3572921753, -16.3713817596, -1.525686264,...  \n",
       "4    [-17.2924022675, -16.3576927185, -1.6476016045...  \n",
       "..                                                 ...  \n",
       "595  [-15.1510353088, -17.3952999115, -2.2667446136...  \n",
       "596  [-14.9512577057, -16.9154510498, -1.8188428879...  \n",
       "597  [-15.1679897308, -17.5232391357, -2.2620053291...  \n",
       "598  [-15.0665187836, -17.1973285675, -2.3495535851...  \n",
       "599  [-15.2292690277, -17.406873703, -2.2691917419,...  \n",
       "\n",
       "[600 rows x 20 columns]"
      ]
     },
     "execution_count": 4,
     "metadata": {},
     "output_type": "execute_result"
    }
   ],
   "source": [
    "O2P_data_held_out_B"
   ]
  },
  {
   "cell_type": "code",
   "execution_count": 5,
   "id": "2511814a",
   "metadata": {},
   "outputs": [],
   "source": [
    "ehull_data_held_out_B[\"e3nn_ensemble\"] = e3nn_ensemble_energies\n",
    "ehull_data_held_out_B[\"CGCNN_ensemble\"] = CGCNN_ensemble_energies\n",
    "ehull_data_held_out_B[\"CHGNET\"] = chgnet_energies"
   ]
  },
  {
   "cell_type": "code",
   "execution_count": 6,
   "id": "a84b0d36",
   "metadata": {},
   "outputs": [],
   "source": [
    "import json\n",
    "\n",
    "path = \"\"\n",
    "\n",
    "with open(path+'entropy_dft_held_out.json', 'r') as fp:\n",
    "    formula_to_entropy_dft = json.load(fp)\n",
    "    \n",
    "with open(path+'entropy_CGCNN_held_out.json', 'r') as fp:\n",
    "    formula_to_entropy_CGCNN = json.load(fp)\n",
    "    \n",
    "with open(path+'entropy_e3nn_held_out.json', 'r') as fp:\n",
    "    formula_to_entropy_e3nn = json.load(fp)\n",
    "    \n",
    "with open(path+'Prs_dft_held_out.json', 'r') as fp:\n",
    "    formula_to_Prs_dft = json.load(fp)\n",
    "    \n",
    "with open(path+'Prs_CGCNN_held_out.json', 'r') as fp:\n",
    "    formula_to_Prs_CGCNN = json.load(fp)\n",
    "    \n",
    "with open(path+'Prs_e3nn_held_out.json', 'r') as fp:\n",
    "    formula_to_Prs_e3nn = json.load(fp)"
   ]
  },
  {
   "cell_type": "code",
   "execution_count": 7,
   "id": "3bb93b0e",
   "metadata": {},
   "outputs": [],
   "source": [
    "import json\n",
    "\n",
    "# Opening JSON file\n",
    "f = open('ABBO3_degeneracy.json',)\n",
    "   \n",
    "# returns JSON object as \n",
    "# a dictionary\n",
    "data = json.load(f)\n",
    "\n",
    "   \n",
    "# Closing file\n",
    "f.close()\n",
    "\n",
    "degen = np.asarray(list(data['A8_B(4:4)_O24'].values()))"
   ]
  },
  {
   "cell_type": "code",
   "execution_count": 8,
   "id": "5f9ee61b",
   "metadata": {},
   "outputs": [
    {
     "name": "stderr",
     "output_type": "stream",
     "text": [
      "/home/jypeng/miniconda3/envs/Perovskite_ML_Environment/lib/python3.10/site-packages/tqdm/auto.py:21: TqdmWarning: IProgress not found. Please update jupyter and ipywidgets. See https://ipywidgets.readthedocs.io/en/stable/user_install.html\n",
      "  from .autonotebook import tqdm as notebook_tqdm\n"
     ]
    }
   ],
   "source": [
    "from pymatgen.core import Structure\n",
    "def add_Op_dft_and_predicted(dataframe):\n",
    "    \n",
    "    ML_values = []\n",
    "    dft_values = []\n",
    "    \n",
    "    for i in range(len(dataframe)):\n",
    "        curr_ML = []\n",
    "        curr_dft = []\n",
    "        \n",
    "        curr_struct = Structure.from_dict(dataframe.iloc[i].unrelaxed_struct)\n",
    "        \n",
    "        for j in range(len(curr_struct)):\n",
    "            if str(curr_struct.species[j])==\"O\":\n",
    "                curr_ML.append(dataframe.iloc[i].predicted_per_site_p_band[j])\n",
    "                curr_dft.append(dataframe.iloc[i].per_site_p_band[j])\n",
    "        \n",
    "        ML_values.append(np.asarray(curr_ML))\n",
    "        dft_values.append(np.asarray(curr_dft))\n",
    "        \n",
    "        \n",
    "    \n",
    "    \n",
    "    #ML_values = np.asarray(ML_values)\n",
    "    #dft_values = np.asarray(dft_values)\n",
    "    \n",
    "    dataframe[\"predicted_Op_band\"] = ML_values\n",
    "    dataframe[\"per_site_Op_band\"] = dft_values\n",
    "    return dataframe"
   ]
  },
  {
   "cell_type": "code",
   "execution_count": 9,
   "id": "0ba8a67e",
   "metadata": {},
   "outputs": [],
   "source": [
    "O2P_data_held_out_B = add_Op_dft_and_predicted(O2P_data_held_out_B)\n"
   ]
  },
  {
   "cell_type": "code",
   "execution_count": 10,
   "id": "b3c748eb",
   "metadata": {},
   "outputs": [],
   "source": [
    "def get_weighted_distribution(O2Ps,curr_energies):\n",
    "    #print(O2Ps)\n",
    "    \n",
    "    O2Ps = np.stack(list(O2Ps), axis=0)\n",
    "    kbT = 1300*0.0000861733\n",
    "    \n",
    "    \n",
    "    curr_energies = np.asarray(curr_energies)\n",
    "    curr_energies -= curr_energies.min()\n",
    "    weights = np.exp(-(curr_energies*40.0)/kbT)*degen\n",
    "    weights /= np.sum(weights)\n",
    "    all_weights = []\n",
    "    for i in range(len(weights)):\n",
    "        all_weights.append(np.ones(24)*weights[i])\n",
    "    \n",
    "    \n",
    "    all_weights = np.asarray(all_weights)\n",
    "    O2P_vals = O2Ps.ravel()\n",
    "    flat_weights = all_weights.flatten()\n",
    "    \n",
    "    \n",
    "    bins = np.linspace(-5.0,0.5,50)\n",
    "    \n",
    "\n",
    "    \n",
    "    val,bins,_ = plt.hist(O2P_vals,bins=bins,weights=flat_weights,density=True)\n",
    "    \n",
    "    return val"
   ]
  },
  {
   "cell_type": "code",
   "execution_count": 17,
   "id": "757ad3bc",
   "metadata": {},
   "outputs": [],
   "source": [
    "def get_weighted_O2p_distributions(dataframe,energies,only_rocksalt=False):\n",
    "    \n",
    "    \n",
    "    formula_to_O2Ps = {}\n",
    "    \n",
    "\n",
    "    dataframe[\"curr_energies\"]=energies\n",
    "    \n",
    "    \n",
    "    for curr_formula in dataframe.formula:\n",
    "        dataframe_filt = dataframe[dataframe.formula == curr_formula]\n",
    "        dataframe_filt = dataframe_filt.sort_values(by=['unrelaxed_cryst_id'])\n",
    "        \n",
    "        O2Ps = dataframe_filt[\"per_site_Op_band\"]\n",
    "        \n",
    "        curr_energies = np.asarray(dataframe_filt[\"curr_energies\"].copy())\n",
    "        if only_rocksalt==True:\n",
    "            curr_energies+=20.0\n",
    "            curr_energies[-1]=0.0\n",
    "        \n",
    "        formula_to_O2Ps[curr_formula] = get_weighted_distribution(O2Ps,curr_energies)\n",
    "    \n",
    "    return formula_to_O2Ps\n",
    "    \n",
    "    "
   ]
  },
  {
   "cell_type": "code",
   "execution_count": null,
   "id": "1c82cdea",
   "metadata": {},
   "outputs": [],
   "source": [
    "formula_to_dft_distributions = get_weighted_O2p_distributions(O2P_data_held_out_B,ehull_data_held_out_B.dft_e_hull)\n",
    "formula_to_uniform_distributions = get_weighted_O2p_distributions(O2P_data_held_out_B,np.ones(600))\n",
    "formula_to_rocksalt_distributions = get_weighted_O2p_distributions(O2P_data_held_out_B,ehull_data_held_out_B.dft_e_hull,only_rocksalt=True)\n",
    "formula_to_CGCNN_distributions = get_weighted_O2p_distributions(O2P_data_held_out_B,ehull_data_held_out_B.CGCNN_ensemble)\n",
    "formula_to_e3nn_distributions = get_weighted_O2p_distributions(O2P_data_held_out_B,ehull_data_held_out_B.e3nn_ensemble)\n",
    "formula_to_m3gnet_distributions = get_weighted_O2p_distributions(O2P_data_held_out_B,ehull_data_held_out_B.M3Gnet_relaxed_energy_per_atom)\n",
    "formula_to_chgnet_distributions = get_weighted_O2p_distributions(O2P_data_held_out_B,ehull_data_held_out_B.CHGNET)"
   ]
  },
  {
   "cell_type": "code",
   "execution_count": null,
   "id": "b3f85d73",
   "metadata": {},
   "outputs": [],
   "source": [
    "dft_all = []\n",
    "uniform_all = []\n",
    "rocksalt_all = []\n",
    "CGCNN_all = []\n",
    "e3nn_all = []\n",
    "m3gnet_all = []\n",
    "chgnet_all  = []\n",
    "\n",
    "for curr_formula in formula_to_entropy_dft:\n",
    "    dft_all.append(formula_to_dft_distributions[curr_formula])\n",
    "    uniform_all.append(formula_to_uniform_distributions[curr_formula])\n",
    "    rocksalt_all.append(formula_to_rocksalt_distributions[curr_formula])\n",
    "    CGCNN_all.append(formula_to_CGCNN_distributions[curr_formula])\n",
    "    e3nn_all.append(formula_to_e3nn_distributions[curr_formula])\n",
    "    m3gnet_all.append(formula_to_m3gnet_distributions[curr_formula])\n",
    "    chgnet_all.append(formula_to_chgnet_distributions[curr_formula])"
   ]
  },
  {
   "cell_type": "code",
   "execution_count": null,
   "id": "fb6b4340",
   "metadata": {},
   "outputs": [],
   "source": [
    "##### Partition Accuracy\n",
    "\n",
    "dft_low_entropy = []\n",
    "uniform_low_entropy = []\n",
    "rocksalt_low_entropy = []\n",
    "CGCNN_low_entropy = []\n",
    "e3nn_low_entropy = []\n",
    "\n",
    "dft_high_entropy = []\n",
    "uniform_high_entropy = []\n",
    "rocksalt_high_entropy = []\n",
    "CGCNN_high_entropy = []\n",
    "e3nn_high_entropy = []\n",
    "\n",
    "dft_low_Prs = []\n",
    "uniform_low_Prs = []\n",
    "rocksalt_low_Prs = []\n",
    "CGCNN_low_Prs = []\n",
    "e3nn_low_Prs = []\n",
    "\n",
    "dft_high_Prs = []\n",
    "uniform_high_Prs = []\n",
    "rocksalt_high_Prs = []\n",
    "CGCNN_high_Prs = []\n",
    "e3nn_high_Prs = []\n",
    "\n",
    "for curr_formula in formula_to_entropy_dft:\n",
    "    \n",
    "    if formula_to_entropy_dft[curr_formula] < 0.5:\n",
    "        dft_low_entropy.append(formula_to_dft_distributions[curr_formula])\n",
    "        uniform_low_entropy.append(formula_to_uniform_distributions[curr_formula])\n",
    "        rocksalt_low_entropy.append(formula_to_rocksalt_distributions[curr_formula])\n",
    "        CGCNN_low_entropy.append(formula_to_CGCNN_distributions[curr_formula])\n",
    "        e3nn_low_entropy.append(formula_to_e3nn_distributions[curr_formula])\n",
    "        \n",
    "    else:\n",
    "        dft_high_entropy.append(formula_to_dft_distributions[curr_formula])\n",
    "        uniform_high_entropy.append(formula_to_uniform_distributions[curr_formula])\n",
    "        rocksalt_high_entropy.append(formula_to_rocksalt_distributions[curr_formula])\n",
    "        CGCNN_high_entropy.append(formula_to_CGCNN_distributions[curr_formula])\n",
    "        e3nn_high_entropy.append(formula_to_e3nn_distributions[curr_formula])\n",
    "        \n",
    "    if formula_to_Prs_dft[curr_formula] < 0.05:\n",
    "        \n",
    "        dft_low_Prs.append(formula_to_dft_distributions[curr_formula])\n",
    "        uniform_low_Prs.append(formula_to_uniform_distributions[curr_formula])\n",
    "        rocksalt_low_Prs.append(formula_to_rocksalt_distributions[curr_formula])\n",
    "        CGCNN_low_Prs.append(formula_to_CGCNN_distributions[curr_formula])\n",
    "        e3nn_low_Prs.append(formula_to_e3nn_distributions[curr_formula])\n",
    "        \n",
    "    else:\n",
    "        \n",
    "        dft_high_Prs.append(formula_to_dft_distributions[curr_formula])\n",
    "        uniform_high_Prs.append(formula_to_uniform_distributions[curr_formula])\n",
    "        rocksalt_high_Prs.append(formula_to_rocksalt_distributions[curr_formula])\n",
    "        CGCNN_high_Prs.append(formula_to_CGCNN_distributions[curr_formula])\n",
    "        e3nn_high_Prs.append(formula_to_e3nn_distributions[curr_formula])\n",
    "\n"
   ]
  },
  {
   "cell_type": "code",
   "execution_count": 14,
   "id": "46e03d49",
   "metadata": {},
   "outputs": [],
   "source": [
    "from scipy.stats import wasserstein_distance\n",
    "\n",
    "def get_w_dists(list_a,list_b):\n",
    "    \n",
    "    dists = []\n",
    "    \n",
    "    for i in range(len(list_a)):\n",
    "        dists.append(wasserstein_distance(list_a[i],list_b[i]))\n",
    "        \n",
    "    return np.asarray(dists)"
   ]
  },
  {
   "cell_type": "code",
   "execution_count": null,
   "id": "db66a419",
   "metadata": {},
   "outputs": [],
   "source": [
    "#### Compute W distances \n",
    "\n",
    "\n",
    "uniform_w_dist_all = get_w_dists(dft_all,uniform_all)\n",
    "rocksalt_w_dist_all = get_w_dists(dft_all,rocksalt_all)\n",
    "CGCNN_w_dist_all = get_w_dists(dft_all,CGCNN_all)\n",
    "e3nn_w_dist_all = get_w_dists(dft_all,e3nn_all)\n",
    "\n",
    "uniform_w_dist_low_entropy = get_w_dists(dft_low_entropy,uniform_low_entropy)\n",
    "rocksalt_w_dist_low_entropy = get_w_dists(dft_low_entropy,rocksalt_low_entropy)\n",
    "CGCNN_w_dist_low_entropy = get_w_dists(dft_low_entropy,CGCNN_low_entropy)\n",
    "e3nn_w_dist_low_entropy = get_w_dists(dft_low_entropy,e3nn_low_entropy)\n",
    "\n",
    "uniform_w_dist_high_entropy = get_w_dists(dft_high_entropy,uniform_high_entropy)\n",
    "rocksalt_w_dist_high_entropy = get_w_dists(dft_high_entropy,rocksalt_high_entropy)\n",
    "CGCNN_w_dist_high_entropy = get_w_dists(dft_high_entropy,CGCNN_high_entropy)\n",
    "e3nn_w_dist_high_entropy = get_w_dists(dft_high_entropy,e3nn_high_entropy)\n",
    "\n",
    "uniform_w_dist_low_Prs = get_w_dists(dft_low_Prs,uniform_low_Prs)\n",
    "rocksalt_w_dist_low_Prs = get_w_dists(dft_low_Prs,rocksalt_low_Prs)\n",
    "CGCNN_w_dist_low_Prs = get_w_dists(dft_low_Prs,CGCNN_low_Prs)\n",
    "e3nn_w_dist_low_Prs = get_w_dists(dft_low_Prs,e3nn_low_Prs)\n",
    "\n",
    "uniform_w_dist_high_Prs = get_w_dists(dft_high_Prs,uniform_high_Prs)\n",
    "rocksalt_w_dist_high_Prs = get_w_dists(dft_high_Prs,rocksalt_high_Prs)\n",
    "CGCNN_w_dist_high_Prs = get_w_dists(dft_high_Prs,CGCNN_high_Prs)\n",
    "e3nn_w_dist_high_Prs = get_w_dists(dft_high_Prs,e3nn_high_Prs)"
   ]
  },
  {
   "cell_type": "code",
   "execution_count": null,
   "id": "e9172fca",
   "metadata": {},
   "outputs": [],
   "source": [
    "print(uniform_w_dist_all.mean())"
   ]
  },
  {
   "cell_type": "code",
   "execution_count": null,
   "id": "026e8e21",
   "metadata": {},
   "outputs": [],
   "source": [
    "print(rocksalt_w_dist_all.mean())"
   ]
  },
  {
   "cell_type": "code",
   "execution_count": null,
   "id": "cbd93b10",
   "metadata": {},
   "outputs": [],
   "source": [
    "print(CGCNN_w_dist_all.mean())"
   ]
  },
  {
   "cell_type": "code",
   "execution_count": null,
   "id": "cab02d54",
   "metadata": {},
   "outputs": [],
   "source": [
    "print(e3nn_w_dist_all.mean())"
   ]
  },
  {
   "cell_type": "code",
   "execution_count": null,
   "id": "a0ddf24f",
   "metadata": {},
   "outputs": [],
   "source": []
  },
  {
   "cell_type": "code",
   "execution_count": null,
   "id": "5307bc1d",
   "metadata": {},
   "outputs": [],
   "source": [
    "print(uniform_w_dist_high_entropy.mean())"
   ]
  },
  {
   "cell_type": "code",
   "execution_count": null,
   "id": "2f99d07b",
   "metadata": {},
   "outputs": [],
   "source": [
    "print(rocksalt_w_dist_high_entropy.mean())"
   ]
  },
  {
   "cell_type": "code",
   "execution_count": null,
   "id": "994616b7",
   "metadata": {},
   "outputs": [],
   "source": [
    "print(CGCNN_w_dist_high_entropy.mean())"
   ]
  },
  {
   "cell_type": "code",
   "execution_count": null,
   "id": "093c8baf",
   "metadata": {},
   "outputs": [],
   "source": [
    "print(e3nn_w_dist_high_entropy.mean())"
   ]
  },
  {
   "cell_type": "code",
   "execution_count": null,
   "id": "afc72b87",
   "metadata": {},
   "outputs": [],
   "source": []
  },
  {
   "cell_type": "code",
   "execution_count": null,
   "id": "bd67aadd",
   "metadata": {},
   "outputs": [],
   "source": [
    "print(uniform_w_dist_low_entropy.mean())"
   ]
  },
  {
   "cell_type": "code",
   "execution_count": null,
   "id": "815b692d",
   "metadata": {},
   "outputs": [],
   "source": [
    "print(rocksalt_w_dist_low_entropy.mean())"
   ]
  },
  {
   "cell_type": "code",
   "execution_count": null,
   "id": "da459ea6",
   "metadata": {},
   "outputs": [],
   "source": [
    "print(CGCNN_w_dist_low_entropy.mean())"
   ]
  },
  {
   "cell_type": "code",
   "execution_count": null,
   "id": "1da54baf",
   "metadata": {},
   "outputs": [],
   "source": [
    "print(e3nn_w_dist_low_entropy.mean())"
   ]
  },
  {
   "cell_type": "code",
   "execution_count": null,
   "id": "7c7192c6",
   "metadata": {},
   "outputs": [],
   "source": []
  },
  {
   "cell_type": "code",
   "execution_count": null,
   "id": "83dc1ab0",
   "metadata": {},
   "outputs": [],
   "source": [
    "print(uniform_w_dist_high_Prs.mean())"
   ]
  },
  {
   "cell_type": "code",
   "execution_count": null,
   "id": "a924aa19",
   "metadata": {},
   "outputs": [],
   "source": [
    "print(rocksalt_w_dist_high_Prs.mean())"
   ]
  },
  {
   "cell_type": "code",
   "execution_count": null,
   "id": "6b33127a",
   "metadata": {},
   "outputs": [],
   "source": [
    "print(CGCNN_w_dist_high_Prs.mean())"
   ]
  },
  {
   "cell_type": "code",
   "execution_count": null,
   "id": "cb9383e7",
   "metadata": {},
   "outputs": [],
   "source": [
    "print(e3nn_w_dist_high_Prs.mean())"
   ]
  },
  {
   "cell_type": "code",
   "execution_count": null,
   "id": "53896a16",
   "metadata": {},
   "outputs": [],
   "source": []
  },
  {
   "cell_type": "code",
   "execution_count": null,
   "id": "4b5dacd4",
   "metadata": {},
   "outputs": [],
   "source": [
    "print(uniform_w_dist_low_Prs.mean())"
   ]
  },
  {
   "cell_type": "code",
   "execution_count": null,
   "id": "b65a769e",
   "metadata": {},
   "outputs": [],
   "source": [
    "print(rocksalt_w_dist_low_Prs.mean())"
   ]
  },
  {
   "cell_type": "code",
   "execution_count": null,
   "id": "479f46c6",
   "metadata": {},
   "outputs": [],
   "source": [
    "print(CGCNN_w_dist_low_Prs.mean())"
   ]
  },
  {
   "cell_type": "code",
   "execution_count": null,
   "id": "590ced8a",
   "metadata": {},
   "outputs": [],
   "source": [
    "print(e3nn_w_dist_low_Prs.mean())"
   ]
  },
  {
   "cell_type": "code",
   "execution_count": null,
   "id": "fd14fb6e",
   "metadata": {},
   "outputs": [],
   "source": [
    "import matplotlib.pyplot as plt"
   ]
  },
  {
   "cell_type": "code",
   "execution_count": null,
   "id": "ae7de2de",
   "metadata": {},
   "outputs": [],
   "source": [
    "plt.hist(rocksalt_w_dist_low_Prs)\n",
    "plt.hist(e3nn_w_dist_low_Prs)"
   ]
  },
  {
   "cell_type": "code",
   "execution_count": null,
   "id": "16a7c1e7",
   "metadata": {},
   "outputs": [],
   "source": [
    "plt.scatter(rocksalt_w_dist_low_Prs,e3nn_w_dist_low_Prs)"
   ]
  },
  {
   "cell_type": "code",
   "execution_count": 33,
   "id": "f04fd0b9",
   "metadata": {},
   "outputs": [],
   "source": [
    "def get_errors_entropy_cutoff_increasing(dft_ref,model,cutoff):\n",
    "    \n",
    "    model_stored = []\n",
    "    dft_stored = []\n",
    "\n",
    "    for curr_formula in dft_ref:\n",
    "    \n",
    "        if formula_to_entropy_dft[curr_formula] > cutoff:\n",
    "            model_stored.append(model[curr_formula])\n",
    "            dft_stored.append(dft_ref[curr_formula])\n",
    "            \n",
    "    print(len(model_stored))\n",
    "    \n",
    "    w_dists = get_w_dists(model_stored,dft_stored)\n",
    "    return w_dists.mean(),w_dists.std()"
   ]
  },
  {
   "cell_type": "code",
   "execution_count": 34,
   "id": "876242fb",
   "metadata": {},
   "outputs": [],
   "source": [
    "def get_errors_entropy_cutoff_decreasing(dft_ref,model,cutoff):\n",
    "    \n",
    "    model_stored = []\n",
    "    dft_stored = []\n",
    "\n",
    "    for curr_formula in dft_ref:\n",
    "    \n",
    "        if formula_to_entropy_dft[curr_formula] < cutoff:\n",
    "            model_stored.append(model[curr_formula])\n",
    "            dft_stored.append(dft_ref[curr_formula])\n",
    "            \n",
    "    print(len(model_stored))\n",
    "    \n",
    "    w_dists = get_w_dists(model_stored,dft_stored)\n",
    "    return w_dists.mean(),w_dists.std()"
   ]
  },
  {
   "cell_type": "code",
   "execution_count": 40,
   "id": "457d7db1",
   "metadata": {},
   "outputs": [],
   "source": [
    "def get_error_change_with_entropy(dft_ref,model):\n",
    "    \n",
    "    errors_inc = []\n",
    "    std_inc = []\n",
    "    \n",
    "    errors_dec = []\n",
    "    std_dec = []\n",
    "    \n",
    "    cutoff_inc = [0.0,0.2,0.4,0.6,0.8]\n",
    "    cutoff_dec = [0.2,0.4,0.6,0.8,1.0]\n",
    "    \n",
    "    for i in range(len(cutoff_inc)):\n",
    "        mean,std = get_errors_entropy_cutoff_increasing(dft_ref,model,cutoff_inc[i])\n",
    "        errors_inc.append(mean)\n",
    "        std_inc.append(std)\n",
    "        mean,std = get_errors_entropy_cutoff_decreasing(dft_ref,model,cutoff_dec[i])\n",
    "        errors_dec.append(mean)\n",
    "        std_dec.append(std)\n",
    "    return np.asarray(errors_inc),np.asarray(std_inc),np.asarray(errors_dec),np.asarray(std_dec)"
   ]
  },
  {
   "cell_type": "code",
   "execution_count": 41,
   "id": "3df2b031",
   "metadata": {},
   "outputs": [
    {
     "name": "stdout",
     "output_type": "stream",
     "text": [
      "100\n",
      "45\n",
      "55\n",
      "59\n",
      "41\n",
      "68\n",
      "32\n",
      "79\n",
      "21\n",
      "100\n",
      "100\n",
      "45\n",
      "55\n",
      "59\n",
      "41\n",
      "68\n",
      "32\n",
      "79\n",
      "21\n",
      "100\n",
      "100\n",
      "45\n",
      "55\n",
      "59\n",
      "41\n",
      "68\n",
      "32\n",
      "79\n",
      "21\n",
      "100\n",
      "100\n",
      "45\n",
      "55\n",
      "59\n",
      "41\n",
      "68\n",
      "32\n",
      "79\n",
      "21\n",
      "100\n",
      "100\n",
      "45\n",
      "55\n",
      "59\n",
      "41\n",
      "68\n",
      "32\n",
      "79\n",
      "21\n",
      "100\n",
      "100\n",
      "45\n",
      "55\n",
      "59\n",
      "41\n",
      "68\n",
      "32\n",
      "79\n",
      "21\n",
      "100\n"
     ]
    }
   ],
   "source": [
    "error_inc_uniform,std_inc_uniform,error_dec_uniform,std_dec_uniform = get_error_change_with_entropy(formula_to_dft_distributions,formula_to_uniform_distributions)\n",
    "error_inc_rocksalt,std_inc_rocksalt,error_dec_rocksalt,std_dec_rocksalt = get_error_change_with_entropy(formula_to_dft_distributions,formula_to_rocksalt_distributions)\n",
    "error_inc_CGCNN,std_inc_CGCNN,error_dec_CGCNN,std_dec_CGCNN = get_error_change_with_entropy(formula_to_dft_distributions,formula_to_CGCNN_distributions)\n",
    "error_inc_e3nn,std_inc_e3nn,error_dec_e3nn,std_dec_e3nn = get_error_change_with_entropy(formula_to_dft_distributions,formula_to_e3nn_distributions)\n",
    "error_inc_m3gnet,std_inc_m3gnet,error_dec_m3gnet,std_dec_m3gnet = get_error_change_with_entropy(formula_to_dft_distributions,formula_to_m3gnet_distributions)\n",
    "error_inc_chgnet,std_inc_chgnet,error_dec_chgnet,std_dec_chgnet = get_error_change_with_entropy(formula_to_dft_distributions,formula_to_chgnet_distributions)"
   ]
  },
  {
   "cell_type": "code",
   "execution_count": 42,
   "id": "da20cde3",
   "metadata": {},
   "outputs": [],
   "source": [
    "cutoffs_inc = [0.0,0.2,0.4,0.6,0.8]\n",
    "cutoffs_dec = [0.2,0.4,0.6,0.8,1.0]"
   ]
  },
  {
   "cell_type": "code",
   "execution_count": 51,
   "id": "c9163c79",
   "metadata": {},
   "outputs": [
    {
     "data": {
      "text/plain": [
       "array([0.09895958, 0.08188901, 0.05497469, 0.03062896, 0.01232821])"
      ]
     },
     "execution_count": 51,
     "metadata": {},
     "output_type": "execute_result"
    }
   ],
   "source": [
    "std_inc_uniform"
   ]
  },
  {
   "cell_type": "code",
   "execution_count": 82,
   "id": "01dc6664",
   "metadata": {},
   "outputs": [
    {
     "data": {
      "text/plain": [
       "(0.0, 0.25)"
      ]
     },
     "execution_count": 82,
     "metadata": {},
     "output_type": "execute_result"
    },
    {
     "data": {
      "image/png": "[encoded data removed]",
      "text/plain": [
       "<Figure size 640x480 with 1 Axes>"
      ]
     },
     "metadata": {},
     "output_type": "display_data"
    }
   ],
   "source": [
    "plt.plot(cutoffs_inc,error_inc_uniform,label=\"Uniform\",color=\"black\")\n",
    "plt.plot(cutoffs_inc,error_inc_CGCNN,label=\"CGCNN\",color=\"blue\")\n",
    "plt.plot(cutoffs_inc,error_inc_e3nn,label=\"e3nn\",color=\"green\")\n",
    "plt.plot(cutoffs_inc,error_inc_rocksalt,label=\"rocksalt\",color=\"grey\")\n",
    "plt.plot(cutoffs_inc,error_inc_m3gnet,label=\"m3gnet\",color=\"red\")\n",
    "plt.plot(cutoffs_inc,error_inc_chgnet,label=\"chgnet\",color=\"orange\")\n",
    "\n",
    "plt.scatter(cutoffs_inc,error_inc_uniform,label=\"Uniform\",s=50,color=\"black\")\n",
    "#plt.errorbar(cutoffs_inc,error_inc_uniform, yerr=std_inc_uniform, fmt=\"o\")\n",
    "\n",
    "plt.scatter(cutoffs_inc,error_inc_CGCNN,label=\"CGCNN\",marker=\"s\",s=50,color=\"blue\")\n",
    "#plt.errorbar(cutoffs_inc,error_inc_CGCNN, yerr=std_inc_CGCNN, fmt=\"o\")\n",
    "\n",
    "plt.scatter(cutoffs_inc,error_inc_e3nn,label=\"e3nn\",marker=\"s\",s=50,color=\"green\")\n",
    "#plt.errorbar(cutoffs_inc,error_inc_e3nn, yerr=std_inc_e3nn, fmt=\"o\")\n",
    "\n",
    "plt.scatter(cutoffs_inc,error_inc_rocksalt,label=\"rocksalt\",s=50,color=\"grey\")\n",
    "#plt.errorbar(cutoffs_inc,error_inc_rocksalt, yerr=std_inc_rocksalt, fmt=\"o\")\n",
    "\n",
    "plt.scatter(cutoffs_inc,error_inc_m3gnet,label=\"m3gnet\",s=50,marker=\"^\",color=\"red\")\n",
    "#plt.errorbar(cutoffs_inc,error_inc_m3gnet, yerr=std_inc_m3gnet, fmt=\"o\")\n",
    "\n",
    "plt.scatter(cutoffs_inc,error_inc_chgnet,label=\"chgnet\",s=50,marker=\"^\",color=\"orange\")\n",
    "#plt.errorbar(cutoffs_inc,error_inc_chgnet, yerr=std_inc_chgnet, fmt=\"o\")\n",
    "\n",
    "plt.ylabel(\"Average Wasserstein Distance\",fontsize=16)\n",
    "plt.xlabel(\"Minimum Configurational Entropy\",fontsize=16)\n",
    "\n",
    "plt.xticks([0.0,0.2,0.4,0.6,0.8],fontsize=16)\n",
    "plt.yticks([0.0,0.05,0.1,0.15,0.2,0.25],fontsize=16)\n",
    "\n",
    "plt.ylim(0.0,0.25)\n",
    "#plt.legend(bbox_to_anchor=(1.05, 1))"
   ]
  },
  {
   "cell_type": "code",
   "execution_count": 84,
   "id": "a8eb2457",
   "metadata": {},
   "outputs": [
    {
     "data": {
      "text/plain": [
       "(0.0, 0.25)"
      ]
     },
     "execution_count": 84,
     "metadata": {},
     "output_type": "execute_result"
    },
    {
     "data": {
      "image/png": "[encoded data removed]",
      "text/plain": [
       "<Figure size 640x480 with 1 Axes>"
      ]
     },
     "metadata": {},
     "output_type": "display_data"
    }
   ],
   "source": [
    "plt.plot(cutoffs_dec,error_dec_uniform,label=\"Uniform\",color=\"black\")\n",
    "plt.plot(cutoffs_dec,error_dec_CGCNN,label=\"CGCNN\",color=\"blue\")\n",
    "plt.plot(cutoffs_dec,error_dec_e3nn,label=\"e3nn\",color=\"green\")\n",
    "plt.plot(cutoffs_dec,error_dec_rocksalt,label=\"rocksalt\",color=\"grey\")\n",
    "plt.plot(cutoffs_dec,error_dec_m3gnet,label=\"m3gnet\",color=\"red\")\n",
    "plt.plot(cutoffs_dec,error_dec_chgnet,label=\"chgnet\",color=\"orange\")\n",
    "\n",
    "plt.scatter(cutoffs_dec,error_dec_uniform,label=\"Uniform\",s=50,color=\"black\")\n",
    "#plt.errorbar(cutoffs_inc,error_inc_uniform, yerr=std_inc_uniform, fmt=\"o\")\n",
    "\n",
    "plt.scatter(cutoffs_dec,error_dec_CGCNN,label=\"CGCNN\",marker=\"s\",s=50,color=\"blue\")\n",
    "#plt.errorbar(cutoffs_inc,error_inc_CGCNN, yerr=std_inc_CGCNN, fmt=\"o\")\n",
    "\n",
    "plt.scatter(cutoffs_dec,error_dec_e3nn,label=\"e3nn\",marker=\"s\",s=50,color=\"green\")\n",
    "#plt.errorbar(cutoffs_inc,error_inc_e3nn, yerr=std_inc_e3nn, fmt=\"o\")\n",
    "\n",
    "plt.scatter(cutoffs_dec,error_dec_rocksalt,label=\"rocksalt\",s=50,color=\"grey\")\n",
    "#plt.errorbar(cutoffs_inc,error_inc_rocksalt, yerr=std_inc_rocksalt, fmt=\"o\")\n",
    "\n",
    "plt.scatter(cutoffs_dec,error_dec_m3gnet,label=\"m3gnet\",s=50,marker=\"^\",color=\"red\")\n",
    "#plt.errorbar(cutoffs_inc,error_inc_m3gnet, yerr=std_inc_m3gnet, fmt=\"o\")\n",
    "\n",
    "plt.scatter(cutoffs_dec,error_dec_chgnet,label=\"chgnet\",s=50,marker=\"^\",color=\"orange\")\n",
    "#plt.errorbar(cutoffs_inc,error_inc_chgnet, yerr=std_inc_chgnet, fmt=\"o\")\n",
    "\n",
    "plt.ylabel(\"Average Wasserstein Distance\",fontsize=16)\n",
    "plt.xlabel(\"Maximum Configurational Entropy\",fontsize=16)\n",
    "\n",
    "plt.xticks([0.2,0.4,0.6,0.8,1.0],fontsize=16)\n",
    "plt.yticks([0.0,0.05,0.1,0.15,0.2,0.25],fontsize=16)\n",
    "\n",
    "plt.ylim(0.0,0.25)\n",
    "#plt.legend(bbox_to_anchor=(1.05, 1))"
   ]
  },
  {
   "cell_type": "code",
   "execution_count": 97,
   "id": "7b3fbe43",
   "metadata": {},
   "outputs": [
    {
     "data": {
      "image/png": "[encoded data removed]",
      "text/plain": [
       "<Figure size 640x480 with 1 Axes>"
      ]
     },
     "metadata": {},
     "output_type": "display_data"
    }
   ],
   "source": [
    "plt.plot(cutoffs_dec,error_dec_uniform,label=\"Uniform\",color=\"black\",linewidth=3)\n",
    "plt.plot(cutoffs_dec,error_dec_rocksalt,label=\"rocksalt\",color=\"grey\",linewidth=3)\n",
    "plt.plot(cutoffs_dec,error_dec_CGCNN,label=\"CGCNN\",color=\"blue\",linewidth=3)\n",
    "plt.plot(cutoffs_dec,error_dec_e3nn,label=\"e3nn\",color=\"green\",linewidth=3)\n",
    "plt.plot(cutoffs_dec,error_dec_m3gnet,label=\"m3gnet\",color=\"red\",linewidth=3)\n",
    "plt.plot(cutoffs_dec,error_dec_chgnet,label=\"chgnet\",color=\"orange\",linewidth=3)\n",
    "\n",
    "plt.legend(bbox_to_anchor=(1.05, 1))\n",
    "plt.savefig(\"legend_test_1.pdf\",bbox_inches=\"tight\")\n"
   ]
  },
  {
   "cell_type": "code",
   "execution_count": 95,
   "id": "8d15f84a",
   "metadata": {},
   "outputs": [
    {
     "data": {
      "text/plain": [
       "<matplotlib.legend.Legend at 0x7f4ac5dcbdf0>"
      ]
     },
     "execution_count": 95,
     "metadata": {},
     "output_type": "execute_result"
    },
    {
     "data": {
      "image/png": "[encoded data removed]",
      "text/plain": [
       "<Figure size 640x480 with 1 Axes>"
      ]
     },
     "metadata": {},
     "output_type": "display_data"
    }
   ],
   "source": [
    "plt.scatter(cutoffs_dec,error_dec_rocksalt,label=\"Heuristic\",s=50,color=\"black\")\n",
    "\n",
    "plt.scatter(cutoffs_dec,error_dec_m3gnet,label=\"NNIP\",s=50,marker=\"^\",color=\"black\")\n",
    "\n",
    "plt.scatter(cutoffs_dec,error_dec_chgnet,label=\"GNN\",s=50,marker=\"s\",color=\"black\")\n",
    "\n",
    "plt.legend(bbox_to_anchor=(1.05, 1))"
   ]
  },
  {
   "cell_type": "code",
   "execution_count": 65,
   "id": "d592ec20",
   "metadata": {},
   "outputs": [
    {
     "data": {
      "text/plain": [
       "<matplotlib.legend.Legend at 0x7f4ac6d4a3b0>"
      ]
     },
     "execution_count": 65,
     "metadata": {},
     "output_type": "execute_result"
    },
    {
     "data": {
      "image/png": "[encoded data removed]",
      "text/plain": [
       "<Figure size 640x480 with 1 Axes>"
      ]
     },
     "metadata": {},
     "output_type": "display_data"
    }
   ],
   "source": [
    "plt.plot(cutoffs_dec,error_dec_uniform,label=\"Uniform\")\n",
    "plt.plot(cutoffs_dec,error_dec_CGCNN,label=\"CGCNN\",linestyle=\"dashed\")\n",
    "plt.plot(cutoffs_dec,error_dec_e3nn,label=\"e3nn\",linestyle=\"dashed\")\n",
    "plt.plot(cutoffs_dec,error_dec_rocksalt,label=\"rocksalt\")\n",
    "plt.plot(cutoffs_dec,error_dec_m3gnet,label=\"m3gnet\")\n",
    "plt.plot(cutoffs_dec,error_dec_chgnet,label=\"chgnet\")\n",
    "\n",
    "plt.scatter(cutoffs_dec,error_dec_uniform,label=\"Uniform\")\n",
    "plt.scatter(cutoffs_dec,error_dec_CGCNN,label=\"CGCNN\")\n",
    "plt.scatter(cutoffs_dec,error_dec_e3nn,label=\"e3nn\")\n",
    "plt.scatter(cutoffs_dec,error_dec_rocksalt,label=\"rocksalt\")\n",
    "plt.scatter(cutoffs_dec,error_dec_m3gnet,label=\"m3gnet\")\n",
    "plt.scatter(cutoffs_dec,error_dec_chgnet,label=\"chgnet\")\n",
    "\n",
    "plt.legend()"
   ]
  },
  {
   "cell_type": "code",
   "execution_count": null,
   "id": "0e607ca2",
   "metadata": {},
   "outputs": [],
   "source": []
  }
 ],
 "metadata": {
  "kernelspec": {
   "display_name": "Perovskite_ML_Environment",
   "language": "python",
   "name": "perovskite_ml_environment"
  },
  "language_info": {
   "codemirror_mode": {
    "name": "ipython",
    "version": 3
   },
   "file_extension": ".py",
   "mimetype": "text/x-python",
   "name": "python",
   "nbconvert_exporter": "python",
   "pygments_lexer": "ipython3",
   "version": "3.10.11"
  }
 },
 "nbformat": 4,
 "nbformat_minor": 5
}
