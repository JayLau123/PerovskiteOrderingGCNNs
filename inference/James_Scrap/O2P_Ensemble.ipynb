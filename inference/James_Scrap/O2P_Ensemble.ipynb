{
 "cells": [
  {
   "cell_type": "code",
   "execution_count": 1,
   "id": "5f0c45f7",
   "metadata": {},
   "outputs": [],
   "source": [
    "import pandas as pd\n",
    "import matplotlib.pyplot as plt"
   ]
  },
  {
   "cell_type": "code",
   "execution_count": 2,
   "id": "55924331",
   "metadata": {},
   "outputs": [],
   "source": [
    "ehull_e3nn_unrelaxed_held_B_0 = pd.read_json(\"../../best_models/e3nn/dft_e_hull_htvs_data_unrelaxed_e3nn/837627/best_0/holdout_set_B_sites_predictions.json\")\n",
    "ehull_CGCNN_unrelaxed_held_B_0 = pd.read_json(\"../../best_models/CGCNN/dft_e_hull_htvs_data_unrelaxed_CGCNN/837611/best_0/holdout_set_B_sites_predictions.json\")\n",
    "\n",
    "\n",
    "O2P_e3nn_unrelaxed_held_B_0 = pd.read_json(\"../../best_models/e3nn/per_site_p_band_data_per_site_unrelaxed_e3nn/1021456/best_0/holdout_set_B_sites_predictions.json\")\n",
    "O2P_CGCNN_unrelaxed_held_B_0 = pd.read_json(\"../../best_models/CGCNN/per_site_p_band_data_per_site_unrelaxed_CGCNN/1021459/best_0/holdout_set_B_sites_predictions.json\")\n",
    "\n"
   ]
  },
  {
   "cell_type": "code",
   "execution_count": 3,
   "id": "ba541fde",
   "metadata": {},
   "outputs": [
    {
     "data": {
      "text/html": [
       "<div>\n",
       "<style scoped>\n",
       "    .dataframe tbody tr th:only-of-type {\n",
       "        vertical-align: middle;\n",
       "    }\n",
       "\n",
       "    .dataframe tbody tr th {\n",
       "        vertical-align: top;\n",
       "    }\n",
       "\n",
       "    .dataframe thead th {\n",
       "        text-align: right;\n",
       "    }\n",
       "</style>\n",
       "<table border=\"1\" class=\"dataframe\">\n",
       "  <thead>\n",
       "    <tr style=\"text-align: right;\">\n",
       "      <th></th>\n",
       "      <th>formula</th>\n",
       "      <th>framework</th>\n",
       "      <th>composition</th>\n",
       "      <th>n_atoms_unrelaxed</th>\n",
       "      <th>n_atoms_opt</th>\n",
       "      <th>unrelaxed_cryst_id</th>\n",
       "      <th>unrelaxed_struct</th>\n",
       "      <th>opt_cryst_id</th>\n",
       "      <th>opt_struct</th>\n",
       "      <th>es_job_id</th>\n",
       "      <th>dft_energy</th>\n",
       "      <th>dft_energy_per_atom</th>\n",
       "      <th>dft_e_hull</th>\n",
       "      <th>Op_band_center</th>\n",
       "      <th>M3Gnet_relaxed_struct</th>\n",
       "      <th>M3Gnet_relaxed_energy</th>\n",
       "      <th>M3Gnet_relaxed_energy_per_atom</th>\n",
       "      <th>per_site_p_band</th>\n",
       "      <th>idx</th>\n",
       "      <th>predicted_per_site_p_band</th>\n",
       "    </tr>\n",
       "  </thead>\n",
       "  <tbody>\n",
       "    <tr>\n",
       "      <th>0</th>\n",
       "      <td>Ca8Fe4Mn4O24</td>\n",
       "      <td>CaFe0.500Mn0.500O3</td>\n",
       "      <td>{'sites': {'A': ['Ca'], 'B': ['Mn', 'Fe'], 'X'...</td>\n",
       "      <td>40</td>\n",
       "      <td>40</td>\n",
       "      <td>222998128</td>\n",
       "      <td>{'@module': 'pymatgen.core.structure', '@class...</td>\n",
       "      <td>423959398</td>\n",
       "      <td>{'@module': 'pymatgen.core.structure', '@class...</td>\n",
       "      <td>123103556</td>\n",
       "      <td>-265.489796</td>\n",
       "      <td>-6.637245</td>\n",
       "      <td>0.074200</td>\n",
       "      <td>-1.389153</td>\n",
       "      <td>{'@module': 'pymatgen.core.structure', '@class...</td>\n",
       "      <td>-266.711243</td>\n",
       "      <td>-6.667781</td>\n",
       "      <td>[-17.5017442981, -16.4627914489, -1.4650019505...</td>\n",
       "      <td>0</td>\n",
       "      <td>[-17.3751678467, -16.4413585663, -1.5515427589...</td>\n",
       "    </tr>\n",
       "    <tr>\n",
       "      <th>1</th>\n",
       "      <td>Ca8Fe4Mn4O24</td>\n",
       "      <td>CaFe0.500Mn0.500O3</td>\n",
       "      <td>{'sites': {'A': ['Ca'], 'B': ['Mn', 'Fe'], 'X'...</td>\n",
       "      <td>40</td>\n",
       "      <td>40</td>\n",
       "      <td>222998125</td>\n",
       "      <td>{'@module': 'pymatgen.core.structure', '@class...</td>\n",
       "      <td>421466237</td>\n",
       "      <td>{'@module': 'pymatgen.core.structure', '@class...</td>\n",
       "      <td>122979400</td>\n",
       "      <td>-265.627054</td>\n",
       "      <td>-6.640676</td>\n",
       "      <td>0.070768</td>\n",
       "      <td>-1.420044</td>\n",
       "      <td>{'@module': 'pymatgen.core.structure', '@class...</td>\n",
       "      <td>-266.456848</td>\n",
       "      <td>-6.661421</td>\n",
       "      <td>[-17.5196675694, -16.4714246517, -1.5223693442...</td>\n",
       "      <td>1</td>\n",
       "      <td>[-17.410905838, -16.410326004, -1.5399699211, ...</td>\n",
       "    </tr>\n",
       "    <tr>\n",
       "      <th>2</th>\n",
       "      <td>Ca8Fe4Mn4O24</td>\n",
       "      <td>CaFe0.500Mn0.500O3</td>\n",
       "      <td>{'sites': {'A': ['Ca'], 'B': ['Mn', 'Fe'], 'X'...</td>\n",
       "      <td>40</td>\n",
       "      <td>40</td>\n",
       "      <td>222998126</td>\n",
       "      <td>{'@module': 'pymatgen.core.structure', '@class...</td>\n",
       "      <td>421466235</td>\n",
       "      <td>{'@module': 'pymatgen.core.structure', '@class...</td>\n",
       "      <td>122979657</td>\n",
       "      <td>-265.542706</td>\n",
       "      <td>-6.638568</td>\n",
       "      <td>0.072877</td>\n",
       "      <td>-1.424778</td>\n",
       "      <td>{'@module': 'pymatgen.core.structure', '@class...</td>\n",
       "      <td>-266.213867</td>\n",
       "      <td>-6.655347</td>\n",
       "      <td>[-17.5508654976, -16.4683612571, -1.513343257,...</td>\n",
       "      <td>2</td>\n",
       "      <td>[-17.4290904999, -16.4203643799, -1.5438275337...</td>\n",
       "    </tr>\n",
       "    <tr>\n",
       "      <th>3</th>\n",
       "      <td>Ca8Fe4Mn4O24</td>\n",
       "      <td>CaFe0.500Mn0.500O3</td>\n",
       "      <td>{'sites': {'A': ['Ca'], 'B': ['Mn', 'Fe'], 'X'...</td>\n",
       "      <td>40</td>\n",
       "      <td>40</td>\n",
       "      <td>222998127</td>\n",
       "      <td>{'@module': 'pymatgen.core.structure', '@class...</td>\n",
       "      <td>421466263</td>\n",
       "      <td>{'@module': 'pymatgen.core.structure', '@class...</td>\n",
       "      <td>122979417</td>\n",
       "      <td>-265.631202</td>\n",
       "      <td>-6.640780</td>\n",
       "      <td>0.070665</td>\n",
       "      <td>-1.404994</td>\n",
       "      <td>{'@module': 'pymatgen.core.structure', '@class...</td>\n",
       "      <td>-264.671021</td>\n",
       "      <td>-6.616776</td>\n",
       "      <td>[-17.496564219, -16.4438265053, -1.4971727612,...</td>\n",
       "      <td>3</td>\n",
       "      <td>[-17.3572921753, -16.3713817596, -1.525686264,...</td>\n",
       "    </tr>\n",
       "    <tr>\n",
       "      <th>4</th>\n",
       "      <td>Ca8Fe4Mn4O24</td>\n",
       "      <td>CaFe0.500Mn0.500O3</td>\n",
       "      <td>{'sites': {'A': ['Ca'], 'B': ['Mn', 'Fe'], 'X'...</td>\n",
       "      <td>40</td>\n",
       "      <td>40</td>\n",
       "      <td>222998129</td>\n",
       "      <td>{'@module': 'pymatgen.core.structure', '@class...</td>\n",
       "      <td>421466289</td>\n",
       "      <td>{'@module': 'pymatgen.core.structure', '@class...</td>\n",
       "      <td>122979438</td>\n",
       "      <td>-265.628562</td>\n",
       "      <td>-6.640714</td>\n",
       "      <td>0.070731</td>\n",
       "      <td>-1.381979</td>\n",
       "      <td>{'@module': 'pymatgen.core.structure', '@class...</td>\n",
       "      <td>-266.308624</td>\n",
       "      <td>-6.657716</td>\n",
       "      <td>[-17.4797529417, -16.4231884613, -1.4775876991...</td>\n",
       "      <td>4</td>\n",
       "      <td>[-17.2924022675, -16.3576927185, -1.6476016045...</td>\n",
       "    </tr>\n",
       "    <tr>\n",
       "      <th>...</th>\n",
       "      <td>...</td>\n",
       "      <td>...</td>\n",
       "      <td>...</td>\n",
       "      <td>...</td>\n",
       "      <td>...</td>\n",
       "      <td>...</td>\n",
       "      <td>...</td>\n",
       "      <td>...</td>\n",
       "      <td>...</td>\n",
       "      <td>...</td>\n",
       "      <td>...</td>\n",
       "      <td>...</td>\n",
       "      <td>...</td>\n",
       "      <td>...</td>\n",
       "      <td>...</td>\n",
       "      <td>...</td>\n",
       "      <td>...</td>\n",
       "      <td>...</td>\n",
       "      <td>...</td>\n",
       "      <td>...</td>\n",
       "    </tr>\n",
       "    <tr>\n",
       "      <th>595</th>\n",
       "      <td>Mn4Ni4O24Tb8</td>\n",
       "      <td>TbMn0.500Ni0.500O3</td>\n",
       "      <td>{'sites': {'A': ['Tb'], 'B': ['Ni', 'Mn'], 'X'...</td>\n",
       "      <td>40</td>\n",
       "      <td>40</td>\n",
       "      <td>272062436</td>\n",
       "      <td>{'@module': 'pymatgen.core.structure', '@class...</td>\n",
       "      <td>421446419</td>\n",
       "      <td>{'@module': 'pymatgen.core.structure', '@class...</td>\n",
       "      <td>122979607</td>\n",
       "      <td>-291.947011</td>\n",
       "      <td>-7.298675</td>\n",
       "      <td>0.083433</td>\n",
       "      <td>-1.855526</td>\n",
       "      <td>{'@module': 'pymatgen.core.structure', '@class...</td>\n",
       "      <td>-289.953644</td>\n",
       "      <td>-7.248841</td>\n",
       "      <td>[-14.9030627055, -17.2428913671, -2.1136579444...</td>\n",
       "      <td>595</td>\n",
       "      <td>[-15.1510353088, -17.3952999115, -2.2667446136...</td>\n",
       "    </tr>\n",
       "    <tr>\n",
       "      <th>596</th>\n",
       "      <td>Mn4Ni4O24Tb8</td>\n",
       "      <td>TbMn0.500Ni0.500O3</td>\n",
       "      <td>{'sites': {'A': ['Tb'], 'B': ['Ni', 'Mn'], 'X'...</td>\n",
       "      <td>40</td>\n",
       "      <td>40</td>\n",
       "      <td>272062439</td>\n",
       "      <td>{'@module': 'pymatgen.core.structure', '@class...</td>\n",
       "      <td>421459053</td>\n",
       "      <td>{'@module': 'pymatgen.core.structure', '@class...</td>\n",
       "      <td>122979241</td>\n",
       "      <td>-293.275698</td>\n",
       "      <td>-7.331892</td>\n",
       "      <td>0.050215</td>\n",
       "      <td>-1.358484</td>\n",
       "      <td>{'@module': 'pymatgen.core.structure', '@class...</td>\n",
       "      <td>-290.115479</td>\n",
       "      <td>-7.252887</td>\n",
       "      <td>[-14.4681623699, -16.6271803383, -1.4699370683...</td>\n",
       "      <td>596</td>\n",
       "      <td>[-14.9512577057, -16.9154510498, -1.8188428879...</td>\n",
       "    </tr>\n",
       "    <tr>\n",
       "      <th>597</th>\n",
       "      <td>Mn4Ni4O24Tb8</td>\n",
       "      <td>TbMn0.500Ni0.500O3</td>\n",
       "      <td>{'sites': {'A': ['Tb'], 'B': ['Ni', 'Mn'], 'X'...</td>\n",
       "      <td>40</td>\n",
       "      <td>40</td>\n",
       "      <td>272062435</td>\n",
       "      <td>{'@module': 'pymatgen.core.structure', '@class...</td>\n",
       "      <td>421464614</td>\n",
       "      <td>{'@module': 'pymatgen.core.structure', '@class...</td>\n",
       "      <td>122979281</td>\n",
       "      <td>-291.822920</td>\n",
       "      <td>-7.295573</td>\n",
       "      <td>0.086535</td>\n",
       "      <td>-1.938487</td>\n",
       "      <td>{'@module': 'pymatgen.core.structure', '@class...</td>\n",
       "      <td>-291.638702</td>\n",
       "      <td>-7.290968</td>\n",
       "      <td>[-15.1919984736, -17.3414149806, -2.1357504293...</td>\n",
       "      <td>597</td>\n",
       "      <td>[-15.1679897308, -17.5232391357, -2.2620053291...</td>\n",
       "    </tr>\n",
       "    <tr>\n",
       "      <th>598</th>\n",
       "      <td>Mn4Ni4O24Tb8</td>\n",
       "      <td>TbMn0.500Ni0.500O3</td>\n",
       "      <td>{'sites': {'A': ['Tb'], 'B': ['Ni', 'Mn'], 'X'...</td>\n",
       "      <td>40</td>\n",
       "      <td>40</td>\n",
       "      <td>272062438</td>\n",
       "      <td>{'@module': 'pymatgen.core.structure', '@class...</td>\n",
       "      <td>421446230</td>\n",
       "      <td>{'@module': 'pymatgen.core.structure', '@class...</td>\n",
       "      <td>122979130</td>\n",
       "      <td>-292.317225</td>\n",
       "      <td>-7.307931</td>\n",
       "      <td>0.074177</td>\n",
       "      <td>-1.890348</td>\n",
       "      <td>{'@module': 'pymatgen.core.structure', '@class...</td>\n",
       "      <td>-292.125397</td>\n",
       "      <td>-7.303135</td>\n",
       "      <td>[-14.9964240251, -17.156090994, -2.3905035914,...</td>\n",
       "      <td>598</td>\n",
       "      <td>[-15.0665187836, -17.1973285675, -2.3495535851...</td>\n",
       "    </tr>\n",
       "    <tr>\n",
       "      <th>599</th>\n",
       "      <td>Mn4Ni4O24Tb8</td>\n",
       "      <td>TbMn0.500Ni0.500O3</td>\n",
       "      <td>{'sites': {'A': ['Tb'], 'B': ['Ni', 'Mn'], 'X'...</td>\n",
       "      <td>40</td>\n",
       "      <td>40</td>\n",
       "      <td>272062434</td>\n",
       "      <td>{'@module': 'pymatgen.core.structure', '@class...</td>\n",
       "      <td>421466265</td>\n",
       "      <td>{'@module': 'pymatgen.core.structure', '@class...</td>\n",
       "      <td>122979419</td>\n",
       "      <td>-291.589413</td>\n",
       "      <td>-7.289735</td>\n",
       "      <td>0.092373</td>\n",
       "      <td>-1.874410</td>\n",
       "      <td>{'@module': 'pymatgen.core.structure', '@class...</td>\n",
       "      <td>-291.543457</td>\n",
       "      <td>-7.288586</td>\n",
       "      <td>[-15.0256942909, -17.2348769737, -2.1349433885...</td>\n",
       "      <td>599</td>\n",
       "      <td>[-15.2292690277, -17.406873703, -2.2691917419,...</td>\n",
       "    </tr>\n",
       "  </tbody>\n",
       "</table>\n",
       "<p>600 rows × 20 columns</p>\n",
       "</div>"
      ],
      "text/plain": [
       "          formula           framework  \\\n",
       "0    Ca8Fe4Mn4O24  CaFe0.500Mn0.500O3   \n",
       "1    Ca8Fe4Mn4O24  CaFe0.500Mn0.500O3   \n",
       "2    Ca8Fe4Mn4O24  CaFe0.500Mn0.500O3   \n",
       "3    Ca8Fe4Mn4O24  CaFe0.500Mn0.500O3   \n",
       "4    Ca8Fe4Mn4O24  CaFe0.500Mn0.500O3   \n",
       "..            ...                 ...   \n",
       "595  Mn4Ni4O24Tb8  TbMn0.500Ni0.500O3   \n",
       "596  Mn4Ni4O24Tb8  TbMn0.500Ni0.500O3   \n",
       "597  Mn4Ni4O24Tb8  TbMn0.500Ni0.500O3   \n",
       "598  Mn4Ni4O24Tb8  TbMn0.500Ni0.500O3   \n",
       "599  Mn4Ni4O24Tb8  TbMn0.500Ni0.500O3   \n",
       "\n",
       "                                           composition  n_atoms_unrelaxed  \\\n",
       "0    {'sites': {'A': ['Ca'], 'B': ['Mn', 'Fe'], 'X'...                 40   \n",
       "1    {'sites': {'A': ['Ca'], 'B': ['Mn', 'Fe'], 'X'...                 40   \n",
       "2    {'sites': {'A': ['Ca'], 'B': ['Mn', 'Fe'], 'X'...                 40   \n",
       "3    {'sites': {'A': ['Ca'], 'B': ['Mn', 'Fe'], 'X'...                 40   \n",
       "4    {'sites': {'A': ['Ca'], 'B': ['Mn', 'Fe'], 'X'...                 40   \n",
       "..                                                 ...                ...   \n",
       "595  {'sites': {'A': ['Tb'], 'B': ['Ni', 'Mn'], 'X'...                 40   \n",
       "596  {'sites': {'A': ['Tb'], 'B': ['Ni', 'Mn'], 'X'...                 40   \n",
       "597  {'sites': {'A': ['Tb'], 'B': ['Ni', 'Mn'], 'X'...                 40   \n",
       "598  {'sites': {'A': ['Tb'], 'B': ['Ni', 'Mn'], 'X'...                 40   \n",
       "599  {'sites': {'A': ['Tb'], 'B': ['Ni', 'Mn'], 'X'...                 40   \n",
       "\n",
       "     n_atoms_opt  unrelaxed_cryst_id  \\\n",
       "0             40           222998128   \n",
       "1             40           222998125   \n",
       "2             40           222998126   \n",
       "3             40           222998127   \n",
       "4             40           222998129   \n",
       "..           ...                 ...   \n",
       "595           40           272062436   \n",
       "596           40           272062439   \n",
       "597           40           272062435   \n",
       "598           40           272062438   \n",
       "599           40           272062434   \n",
       "\n",
       "                                      unrelaxed_struct  opt_cryst_id  \\\n",
       "0    {'@module': 'pymatgen.core.structure', '@class...     423959398   \n",
       "1    {'@module': 'pymatgen.core.structure', '@class...     421466237   \n",
       "2    {'@module': 'pymatgen.core.structure', '@class...     421466235   \n",
       "3    {'@module': 'pymatgen.core.structure', '@class...     421466263   \n",
       "4    {'@module': 'pymatgen.core.structure', '@class...     421466289   \n",
       "..                                                 ...           ...   \n",
       "595  {'@module': 'pymatgen.core.structure', '@class...     421446419   \n",
       "596  {'@module': 'pymatgen.core.structure', '@class...     421459053   \n",
       "597  {'@module': 'pymatgen.core.structure', '@class...     421464614   \n",
       "598  {'@module': 'pymatgen.core.structure', '@class...     421446230   \n",
       "599  {'@module': 'pymatgen.core.structure', '@class...     421466265   \n",
       "\n",
       "                                            opt_struct  es_job_id  dft_energy  \\\n",
       "0    {'@module': 'pymatgen.core.structure', '@class...  123103556 -265.489796   \n",
       "1    {'@module': 'pymatgen.core.structure', '@class...  122979400 -265.627054   \n",
       "2    {'@module': 'pymatgen.core.structure', '@class...  122979657 -265.542706   \n",
       "3    {'@module': 'pymatgen.core.structure', '@class...  122979417 -265.631202   \n",
       "4    {'@module': 'pymatgen.core.structure', '@class...  122979438 -265.628562   \n",
       "..                                                 ...        ...         ...   \n",
       "595  {'@module': 'pymatgen.core.structure', '@class...  122979607 -291.947011   \n",
       "596  {'@module': 'pymatgen.core.structure', '@class...  122979241 -293.275698   \n",
       "597  {'@module': 'pymatgen.core.structure', '@class...  122979281 -291.822920   \n",
       "598  {'@module': 'pymatgen.core.structure', '@class...  122979130 -292.317225   \n",
       "599  {'@module': 'pymatgen.core.structure', '@class...  122979419 -291.589413   \n",
       "\n",
       "     dft_energy_per_atom  dft_e_hull  Op_band_center  \\\n",
       "0              -6.637245    0.074200       -1.389153   \n",
       "1              -6.640676    0.070768       -1.420044   \n",
       "2              -6.638568    0.072877       -1.424778   \n",
       "3              -6.640780    0.070665       -1.404994   \n",
       "4              -6.640714    0.070731       -1.381979   \n",
       "..                   ...         ...             ...   \n",
       "595            -7.298675    0.083433       -1.855526   \n",
       "596            -7.331892    0.050215       -1.358484   \n",
       "597            -7.295573    0.086535       -1.938487   \n",
       "598            -7.307931    0.074177       -1.890348   \n",
       "599            -7.289735    0.092373       -1.874410   \n",
       "\n",
       "                                 M3Gnet_relaxed_struct  M3Gnet_relaxed_energy  \\\n",
       "0    {'@module': 'pymatgen.core.structure', '@class...            -266.711243   \n",
       "1    {'@module': 'pymatgen.core.structure', '@class...            -266.456848   \n",
       "2    {'@module': 'pymatgen.core.structure', '@class...            -266.213867   \n",
       "3    {'@module': 'pymatgen.core.structure', '@class...            -264.671021   \n",
       "4    {'@module': 'pymatgen.core.structure', '@class...            -266.308624   \n",
       "..                                                 ...                    ...   \n",
       "595  {'@module': 'pymatgen.core.structure', '@class...            -289.953644   \n",
       "596  {'@module': 'pymatgen.core.structure', '@class...            -290.115479   \n",
       "597  {'@module': 'pymatgen.core.structure', '@class...            -291.638702   \n",
       "598  {'@module': 'pymatgen.core.structure', '@class...            -292.125397   \n",
       "599  {'@module': 'pymatgen.core.structure', '@class...            -291.543457   \n",
       "\n",
       "     M3Gnet_relaxed_energy_per_atom  \\\n",
       "0                         -6.667781   \n",
       "1                         -6.661421   \n",
       "2                         -6.655347   \n",
       "3                         -6.616776   \n",
       "4                         -6.657716   \n",
       "..                              ...   \n",
       "595                       -7.248841   \n",
       "596                       -7.252887   \n",
       "597                       -7.290968   \n",
       "598                       -7.303135   \n",
       "599                       -7.288586   \n",
       "\n",
       "                                       per_site_p_band  idx  \\\n",
       "0    [-17.5017442981, -16.4627914489, -1.4650019505...    0   \n",
       "1    [-17.5196675694, -16.4714246517, -1.5223693442...    1   \n",
       "2    [-17.5508654976, -16.4683612571, -1.513343257,...    2   \n",
       "3    [-17.496564219, -16.4438265053, -1.4971727612,...    3   \n",
       "4    [-17.4797529417, -16.4231884613, -1.4775876991...    4   \n",
       "..                                                 ...  ...   \n",
       "595  [-14.9030627055, -17.2428913671, -2.1136579444...  595   \n",
       "596  [-14.4681623699, -16.6271803383, -1.4699370683...  596   \n",
       "597  [-15.1919984736, -17.3414149806, -2.1357504293...  597   \n",
       "598  [-14.9964240251, -17.156090994, -2.3905035914,...  598   \n",
       "599  [-15.0256942909, -17.2348769737, -2.1349433885...  599   \n",
       "\n",
       "                             predicted_per_site_p_band  \n",
       "0    [-17.3751678467, -16.4413585663, -1.5515427589...  \n",
       "1    [-17.410905838, -16.410326004, -1.5399699211, ...  \n",
       "2    [-17.4290904999, -16.4203643799, -1.5438275337...  \n",
       "3    [-17.3572921753, -16.3713817596, -1.525686264,...  \n",
       "4    [-17.2924022675, -16.3576927185, -1.6476016045...  \n",
       "..                                                 ...  \n",
       "595  [-15.1510353088, -17.3952999115, -2.2667446136...  \n",
       "596  [-14.9512577057, -16.9154510498, -1.8188428879...  \n",
       "597  [-15.1679897308, -17.5232391357, -2.2620053291...  \n",
       "598  [-15.0665187836, -17.1973285675, -2.3495535851...  \n",
       "599  [-15.2292690277, -17.406873703, -2.2691917419,...  \n",
       "\n",
       "[600 rows x 20 columns]"
      ]
     },
     "execution_count": 3,
     "metadata": {},
     "output_type": "execute_result"
    }
   ],
   "source": [
    "O2P_e3nn_unrelaxed_held_B_0"
   ]
  },
  {
   "cell_type": "code",
   "execution_count": 4,
   "id": "92727502",
   "metadata": {},
   "outputs": [],
   "source": [
    "import numpy as np"
   ]
  },
  {
   "cell_type": "code",
   "execution_count": 5,
   "id": "de969a05",
   "metadata": {},
   "outputs": [
    {
     "data": {
      "text/html": [
       "<div>\n",
       "<style scoped>\n",
       "    .dataframe tbody tr th:only-of-type {\n",
       "        vertical-align: middle;\n",
       "    }\n",
       "\n",
       "    .dataframe tbody tr th {\n",
       "        vertical-align: top;\n",
       "    }\n",
       "\n",
       "    .dataframe thead th {\n",
       "        text-align: right;\n",
       "    }\n",
       "</style>\n",
       "<table border=\"1\" class=\"dataframe\">\n",
       "  <thead>\n",
       "    <tr style=\"text-align: right;\">\n",
       "      <th></th>\n",
       "      <th>formula</th>\n",
       "      <th>framework</th>\n",
       "      <th>composition</th>\n",
       "      <th>n_atoms_unrelaxed</th>\n",
       "      <th>n_atoms_opt</th>\n",
       "      <th>unrelaxed_cryst_id</th>\n",
       "      <th>unrelaxed_struct</th>\n",
       "      <th>opt_cryst_id</th>\n",
       "      <th>opt_struct</th>\n",
       "      <th>es_job_id</th>\n",
       "      <th>dft_energy</th>\n",
       "      <th>dft_energy_per_atom</th>\n",
       "      <th>dft_e_hull</th>\n",
       "      <th>Op_band_center</th>\n",
       "      <th>M3Gnet_relaxed_struct</th>\n",
       "      <th>M3Gnet_relaxed_energy</th>\n",
       "      <th>M3Gnet_relaxed_energy_per_atom</th>\n",
       "      <th>idx</th>\n",
       "      <th>predicted_dft_e_hull</th>\n",
       "    </tr>\n",
       "  </thead>\n",
       "  <tbody>\n",
       "    <tr>\n",
       "      <th>0</th>\n",
       "      <td>Ba2Cr4Mn4O24Pr6</td>\n",
       "      <td>Ba0.250Pr0.750Cr0.500Mn0.500O3</td>\n",
       "      <td>{'sites': {'A': ['Ba', 'Pr'], 'B': ['Cr', 'Mn'...</td>\n",
       "      <td>40</td>\n",
       "      <td>40</td>\n",
       "      <td>200879856</td>\n",
       "      <td>{'@module': 'pymatgen.core.structure', '@class...</td>\n",
       "      <td>419905109</td>\n",
       "      <td>{'@module': 'pymatgen.core.structure', '@class...</td>\n",
       "      <td>122894567</td>\n",
       "      <td>-308.596056</td>\n",
       "      <td>-7.714901</td>\n",
       "      <td>0.089063</td>\n",
       "      <td>-2.242520</td>\n",
       "      <td>{'@module': 'pymatgen.core.structure', '@class...</td>\n",
       "      <td>-309.184143</td>\n",
       "      <td>-7.729604</td>\n",
       "      <td>0</td>\n",
       "      <td>0.087419</td>\n",
       "    </tr>\n",
       "    <tr>\n",
       "      <th>1</th>\n",
       "      <td>Ba2Cr4Mn4O24Pr6</td>\n",
       "      <td>Ba0.250Pr0.750Cr0.500Mn0.500O3</td>\n",
       "      <td>{'sites': {'A': ['Ba', 'Pr'], 'B': ['Cr', 'Mn'...</td>\n",
       "      <td>40</td>\n",
       "      <td>40</td>\n",
       "      <td>201883019</td>\n",
       "      <td>{'@module': 'pymatgen.core.structure', '@class...</td>\n",
       "      <td>423959303</td>\n",
       "      <td>{'@module': 'pymatgen.core.structure', '@class...</td>\n",
       "      <td>123103478</td>\n",
       "      <td>-309.312393</td>\n",
       "      <td>-7.732810</td>\n",
       "      <td>0.071154</td>\n",
       "      <td>-2.087915</td>\n",
       "      <td>{'@module': 'pymatgen.core.structure', '@class...</td>\n",
       "      <td>-309.746582</td>\n",
       "      <td>-7.743665</td>\n",
       "      <td>1</td>\n",
       "      <td>0.074756</td>\n",
       "    </tr>\n",
       "    <tr>\n",
       "      <th>2</th>\n",
       "      <td>Ba2Fe4Ni4O24Pr6</td>\n",
       "      <td>Ba0.250Pr0.750Fe0.500Ni0.500O3</td>\n",
       "      <td>{'sites': {'A': ['Pr', 'Ba'], 'B': ['Fe', 'Ni'...</td>\n",
       "      <td>40</td>\n",
       "      <td>40</td>\n",
       "      <td>222996848</td>\n",
       "      <td>{'@module': 'pymatgen.core.structure', '@class...</td>\n",
       "      <td>419905248</td>\n",
       "      <td>{'@module': 'pymatgen.core.structure', '@class...</td>\n",
       "      <td>122894599</td>\n",
       "      <td>-266.957499</td>\n",
       "      <td>-6.673937</td>\n",
       "      <td>0.081011</td>\n",
       "      <td>-1.430620</td>\n",
       "      <td>{'@module': 'pymatgen.core.structure', '@class...</td>\n",
       "      <td>-267.800110</td>\n",
       "      <td>-6.695003</td>\n",
       "      <td>2</td>\n",
       "      <td>0.095661</td>\n",
       "    </tr>\n",
       "    <tr>\n",
       "      <th>3</th>\n",
       "      <td>Ba2Fe4Ni4O24Pr6</td>\n",
       "      <td>Ba0.250Pr0.750Fe0.500Ni0.500O3</td>\n",
       "      <td>{'sites': {'A': ['Pr', 'Ba'], 'B': ['Fe', 'Ni'...</td>\n",
       "      <td>40</td>\n",
       "      <td>40</td>\n",
       "      <td>222996849</td>\n",
       "      <td>{'@module': 'pymatgen.core.structure', '@class...</td>\n",
       "      <td>420168914</td>\n",
       "      <td>{'@module': 'pymatgen.core.structure', '@class...</td>\n",
       "      <td>122914674</td>\n",
       "      <td>-266.598455</td>\n",
       "      <td>-6.664961</td>\n",
       "      <td>0.089987</td>\n",
       "      <td>-1.425103</td>\n",
       "      <td>{'@module': 'pymatgen.core.structure', '@class...</td>\n",
       "      <td>-268.465729</td>\n",
       "      <td>-6.711643</td>\n",
       "      <td>3</td>\n",
       "      <td>0.084270</td>\n",
       "    </tr>\n",
       "    <tr>\n",
       "      <th>4</th>\n",
       "      <td>Ba3Ca5Co1Ni7O24</td>\n",
       "      <td>Ba0.375Ca0.625Co0.125Ni0.875O3</td>\n",
       "      <td>{'sites': {'A': ['Ba', 'Ca'], 'B': ['Co', 'Ni'...</td>\n",
       "      <td>40</td>\n",
       "      <td>40</td>\n",
       "      <td>222996910</td>\n",
       "      <td>{'@module': 'pymatgen.core.structure', '@class...</td>\n",
       "      <td>419905120</td>\n",
       "      <td>{'@module': 'pymatgen.core.structure', '@class...</td>\n",
       "      <td>122894577</td>\n",
       "      <td>-212.382680</td>\n",
       "      <td>-5.309567</td>\n",
       "      <td>0.270616</td>\n",
       "      <td>-1.417654</td>\n",
       "      <td>{'@module': 'pymatgen.core.structure', '@class...</td>\n",
       "      <td>-214.583847</td>\n",
       "      <td>-5.364596</td>\n",
       "      <td>4</td>\n",
       "      <td>0.269292</td>\n",
       "    </tr>\n",
       "    <tr>\n",
       "      <th>...</th>\n",
       "      <td>...</td>\n",
       "      <td>...</td>\n",
       "      <td>...</td>\n",
       "      <td>...</td>\n",
       "      <td>...</td>\n",
       "      <td>...</td>\n",
       "      <td>...</td>\n",
       "      <td>...</td>\n",
       "      <td>...</td>\n",
       "      <td>...</td>\n",
       "      <td>...</td>\n",
       "      <td>...</td>\n",
       "      <td>...</td>\n",
       "      <td>...</td>\n",
       "      <td>...</td>\n",
       "      <td>...</td>\n",
       "      <td>...</td>\n",
       "      <td>...</td>\n",
       "      <td>...</td>\n",
       "    </tr>\n",
       "    <tr>\n",
       "      <th>1256</th>\n",
       "      <td>Cu4Mn4O24Y8</td>\n",
       "      <td>YCu0.500Mn0.500O3</td>\n",
       "      <td>{'sites': {'A': ['Y'], 'B': ['Cu', 'Mn'], 'X':...</td>\n",
       "      <td>40</td>\n",
       "      <td>40</td>\n",
       "      <td>272062453</td>\n",
       "      <td>{'@module': 'pymatgen.core.structure', '@class...</td>\n",
       "      <td>421466164</td>\n",
       "      <td>{'@module': 'pymatgen.core.structure', '@class...</td>\n",
       "      <td>122979645</td>\n",
       "      <td>-307.787699</td>\n",
       "      <td>-7.694692</td>\n",
       "      <td>0.086401</td>\n",
       "      <td>-2.161081</td>\n",
       "      <td>{'@module': 'pymatgen.core.structure', '@class...</td>\n",
       "      <td>-307.923126</td>\n",
       "      <td>-7.698078</td>\n",
       "      <td>1256</td>\n",
       "      <td>0.114688</td>\n",
       "    </tr>\n",
       "    <tr>\n",
       "      <th>1257</th>\n",
       "      <td>Cu4Mn4O24Y8</td>\n",
       "      <td>YCu0.500Mn0.500O3</td>\n",
       "      <td>{'sites': {'A': ['Y'], 'B': ['Cu', 'Mn'], 'X':...</td>\n",
       "      <td>40</td>\n",
       "      <td>40</td>\n",
       "      <td>272062454</td>\n",
       "      <td>{'@module': 'pymatgen.core.structure', '@class...</td>\n",
       "      <td>421562098</td>\n",
       "      <td>{'@module': 'pymatgen.core.structure', '@class...</td>\n",
       "      <td>122988181</td>\n",
       "      <td>-307.783492</td>\n",
       "      <td>-7.694587</td>\n",
       "      <td>0.086506</td>\n",
       "      <td>-2.268117</td>\n",
       "      <td>{'@module': 'pymatgen.core.structure', '@class...</td>\n",
       "      <td>-307.324310</td>\n",
       "      <td>-7.683108</td>\n",
       "      <td>1257</td>\n",
       "      <td>0.103299</td>\n",
       "    </tr>\n",
       "    <tr>\n",
       "      <th>1258</th>\n",
       "      <td>Cu4Mn4O24Y8</td>\n",
       "      <td>YCu0.500Mn0.500O3</td>\n",
       "      <td>{'sites': {'A': ['Y'], 'B': ['Cu', 'Mn'], 'X':...</td>\n",
       "      <td>40</td>\n",
       "      <td>40</td>\n",
       "      <td>272062455</td>\n",
       "      <td>{'@module': 'pymatgen.core.structure', '@class...</td>\n",
       "      <td>421466146</td>\n",
       "      <td>{'@module': 'pymatgen.core.structure', '@class...</td>\n",
       "      <td>122979642</td>\n",
       "      <td>-307.786145</td>\n",
       "      <td>-7.694654</td>\n",
       "      <td>0.086440</td>\n",
       "      <td>-2.347069</td>\n",
       "      <td>{'@module': 'pymatgen.core.structure', '@class...</td>\n",
       "      <td>-308.308380</td>\n",
       "      <td>-7.707710</td>\n",
       "      <td>1258</td>\n",
       "      <td>0.105145</td>\n",
       "    </tr>\n",
       "    <tr>\n",
       "      <th>1259</th>\n",
       "      <td>Cu4Mn4O24Y8</td>\n",
       "      <td>YCu0.500Mn0.500O3</td>\n",
       "      <td>{'sites': {'A': ['Y'], 'B': ['Cu', 'Mn'], 'X':...</td>\n",
       "      <td>40</td>\n",
       "      <td>40</td>\n",
       "      <td>272062457</td>\n",
       "      <td>{'@module': 'pymatgen.core.structure', '@class...</td>\n",
       "      <td>421446133</td>\n",
       "      <td>{'@module': 'pymatgen.core.structure', '@class...</td>\n",
       "      <td>122979075</td>\n",
       "      <td>-307.668685</td>\n",
       "      <td>-7.691717</td>\n",
       "      <td>0.089376</td>\n",
       "      <td>-2.071618</td>\n",
       "      <td>{'@module': 'pymatgen.core.structure', '@class...</td>\n",
       "      <td>-307.293976</td>\n",
       "      <td>-7.682349</td>\n",
       "      <td>1259</td>\n",
       "      <td>0.113349</td>\n",
       "    </tr>\n",
       "    <tr>\n",
       "      <th>1260</th>\n",
       "      <td>Cu4Mn4O24Y8</td>\n",
       "      <td>YCu0.500Mn0.500O3</td>\n",
       "      <td>{'sites': {'A': ['Y'], 'B': ['Cu', 'Mn'], 'X':...</td>\n",
       "      <td>40</td>\n",
       "      <td>40</td>\n",
       "      <td>272062456</td>\n",
       "      <td>{'@module': 'pymatgen.core.structure', '@class...</td>\n",
       "      <td>421448171</td>\n",
       "      <td>{'@module': 'pymatgen.core.structure', '@class...</td>\n",
       "      <td>122979218</td>\n",
       "      <td>-308.019858</td>\n",
       "      <td>-7.700496</td>\n",
       "      <td>0.080597</td>\n",
       "      <td>-2.173099</td>\n",
       "      <td>{'@module': 'pymatgen.core.structure', '@class...</td>\n",
       "      <td>-307.090546</td>\n",
       "      <td>-7.677264</td>\n",
       "      <td>1260</td>\n",
       "      <td>0.092946</td>\n",
       "    </tr>\n",
       "  </tbody>\n",
       "</table>\n",
       "<p>1261 rows × 19 columns</p>\n",
       "</div>"
      ],
      "text/plain": [
       "              formula                       framework  \\\n",
       "0     Ba2Cr4Mn4O24Pr6  Ba0.250Pr0.750Cr0.500Mn0.500O3   \n",
       "1     Ba2Cr4Mn4O24Pr6  Ba0.250Pr0.750Cr0.500Mn0.500O3   \n",
       "2     Ba2Fe4Ni4O24Pr6  Ba0.250Pr0.750Fe0.500Ni0.500O3   \n",
       "3     Ba2Fe4Ni4O24Pr6  Ba0.250Pr0.750Fe0.500Ni0.500O3   \n",
       "4     Ba3Ca5Co1Ni7O24  Ba0.375Ca0.625Co0.125Ni0.875O3   \n",
       "...               ...                             ...   \n",
       "1256      Cu4Mn4O24Y8               YCu0.500Mn0.500O3   \n",
       "1257      Cu4Mn4O24Y8               YCu0.500Mn0.500O3   \n",
       "1258      Cu4Mn4O24Y8               YCu0.500Mn0.500O3   \n",
       "1259      Cu4Mn4O24Y8               YCu0.500Mn0.500O3   \n",
       "1260      Cu4Mn4O24Y8               YCu0.500Mn0.500O3   \n",
       "\n",
       "                                            composition  n_atoms_unrelaxed  \\\n",
       "0     {'sites': {'A': ['Ba', 'Pr'], 'B': ['Cr', 'Mn'...                 40   \n",
       "1     {'sites': {'A': ['Ba', 'Pr'], 'B': ['Cr', 'Mn'...                 40   \n",
       "2     {'sites': {'A': ['Pr', 'Ba'], 'B': ['Fe', 'Ni'...                 40   \n",
       "3     {'sites': {'A': ['Pr', 'Ba'], 'B': ['Fe', 'Ni'...                 40   \n",
       "4     {'sites': {'A': ['Ba', 'Ca'], 'B': ['Co', 'Ni'...                 40   \n",
       "...                                                 ...                ...   \n",
       "1256  {'sites': {'A': ['Y'], 'B': ['Cu', 'Mn'], 'X':...                 40   \n",
       "1257  {'sites': {'A': ['Y'], 'B': ['Cu', 'Mn'], 'X':...                 40   \n",
       "1258  {'sites': {'A': ['Y'], 'B': ['Cu', 'Mn'], 'X':...                 40   \n",
       "1259  {'sites': {'A': ['Y'], 'B': ['Cu', 'Mn'], 'X':...                 40   \n",
       "1260  {'sites': {'A': ['Y'], 'B': ['Cu', 'Mn'], 'X':...                 40   \n",
       "\n",
       "      n_atoms_opt  unrelaxed_cryst_id  \\\n",
       "0              40           200879856   \n",
       "1              40           201883019   \n",
       "2              40           222996848   \n",
       "3              40           222996849   \n",
       "4              40           222996910   \n",
       "...           ...                 ...   \n",
       "1256           40           272062453   \n",
       "1257           40           272062454   \n",
       "1258           40           272062455   \n",
       "1259           40           272062457   \n",
       "1260           40           272062456   \n",
       "\n",
       "                                       unrelaxed_struct  opt_cryst_id  \\\n",
       "0     {'@module': 'pymatgen.core.structure', '@class...     419905109   \n",
       "1     {'@module': 'pymatgen.core.structure', '@class...     423959303   \n",
       "2     {'@module': 'pymatgen.core.structure', '@class...     419905248   \n",
       "3     {'@module': 'pymatgen.core.structure', '@class...     420168914   \n",
       "4     {'@module': 'pymatgen.core.structure', '@class...     419905120   \n",
       "...                                                 ...           ...   \n",
       "1256  {'@module': 'pymatgen.core.structure', '@class...     421466164   \n",
       "1257  {'@module': 'pymatgen.core.structure', '@class...     421562098   \n",
       "1258  {'@module': 'pymatgen.core.structure', '@class...     421466146   \n",
       "1259  {'@module': 'pymatgen.core.structure', '@class...     421446133   \n",
       "1260  {'@module': 'pymatgen.core.structure', '@class...     421448171   \n",
       "\n",
       "                                             opt_struct  es_job_id  \\\n",
       "0     {'@module': 'pymatgen.core.structure', '@class...  122894567   \n",
       "1     {'@module': 'pymatgen.core.structure', '@class...  123103478   \n",
       "2     {'@module': 'pymatgen.core.structure', '@class...  122894599   \n",
       "3     {'@module': 'pymatgen.core.structure', '@class...  122914674   \n",
       "4     {'@module': 'pymatgen.core.structure', '@class...  122894577   \n",
       "...                                                 ...        ...   \n",
       "1256  {'@module': 'pymatgen.core.structure', '@class...  122979645   \n",
       "1257  {'@module': 'pymatgen.core.structure', '@class...  122988181   \n",
       "1258  {'@module': 'pymatgen.core.structure', '@class...  122979642   \n",
       "1259  {'@module': 'pymatgen.core.structure', '@class...  122979075   \n",
       "1260  {'@module': 'pymatgen.core.structure', '@class...  122979218   \n",
       "\n",
       "      dft_energy  dft_energy_per_atom  dft_e_hull  Op_band_center  \\\n",
       "0    -308.596056            -7.714901    0.089063       -2.242520   \n",
       "1    -309.312393            -7.732810    0.071154       -2.087915   \n",
       "2    -266.957499            -6.673937    0.081011       -1.430620   \n",
       "3    -266.598455            -6.664961    0.089987       -1.425103   \n",
       "4    -212.382680            -5.309567    0.270616       -1.417654   \n",
       "...          ...                  ...         ...             ...   \n",
       "1256 -307.787699            -7.694692    0.086401       -2.161081   \n",
       "1257 -307.783492            -7.694587    0.086506       -2.268117   \n",
       "1258 -307.786145            -7.694654    0.086440       -2.347069   \n",
       "1259 -307.668685            -7.691717    0.089376       -2.071618   \n",
       "1260 -308.019858            -7.700496    0.080597       -2.173099   \n",
       "\n",
       "                                  M3Gnet_relaxed_struct  \\\n",
       "0     {'@module': 'pymatgen.core.structure', '@class...   \n",
       "1     {'@module': 'pymatgen.core.structure', '@class...   \n",
       "2     {'@module': 'pymatgen.core.structure', '@class...   \n",
       "3     {'@module': 'pymatgen.core.structure', '@class...   \n",
       "4     {'@module': 'pymatgen.core.structure', '@class...   \n",
       "...                                                 ...   \n",
       "1256  {'@module': 'pymatgen.core.structure', '@class...   \n",
       "1257  {'@module': 'pymatgen.core.structure', '@class...   \n",
       "1258  {'@module': 'pymatgen.core.structure', '@class...   \n",
       "1259  {'@module': 'pymatgen.core.structure', '@class...   \n",
       "1260  {'@module': 'pymatgen.core.structure', '@class...   \n",
       "\n",
       "      M3Gnet_relaxed_energy  M3Gnet_relaxed_energy_per_atom   idx  \\\n",
       "0               -309.184143                       -7.729604     0   \n",
       "1               -309.746582                       -7.743665     1   \n",
       "2               -267.800110                       -6.695003     2   \n",
       "3               -268.465729                       -6.711643     3   \n",
       "4               -214.583847                       -5.364596     4   \n",
       "...                     ...                             ...   ...   \n",
       "1256            -307.923126                       -7.698078  1256   \n",
       "1257            -307.324310                       -7.683108  1257   \n",
       "1258            -308.308380                       -7.707710  1258   \n",
       "1259            -307.293976                       -7.682349  1259   \n",
       "1260            -307.090546                       -7.677264  1260   \n",
       "\n",
       "      predicted_dft_e_hull  \n",
       "0                 0.087419  \n",
       "1                 0.074756  \n",
       "2                 0.095661  \n",
       "3                 0.084270  \n",
       "4                 0.269292  \n",
       "...                    ...  \n",
       "1256              0.114688  \n",
       "1257              0.103299  \n",
       "1258              0.105145  \n",
       "1259              0.113349  \n",
       "1260              0.092946  \n",
       "\n",
       "[1261 rows x 19 columns]"
      ]
     },
     "execution_count": 5,
     "metadata": {},
     "output_type": "execute_result"
    }
   ],
   "source": [
    "ehull_e3nn_unrelaxed_test_0"
   ]
  },
  {
   "cell_type": "code",
   "execution_count": 6,
   "id": "5f76b7d0",
   "metadata": {},
   "outputs": [
    {
     "name": "stdout",
     "output_type": "stream",
     "text": [
      "0.01857600081340206\n",
      "0.021477936697938144\n"
     ]
    }
   ],
   "source": [
    "########### TEST Energy\n",
    "\n",
    "print(np.mean(np.abs(ehull_e3nn_unrelaxed_test_0.predicted_dft_e_hull-ehull_e3nn_unrelaxed_test_0.dft_e_hull)))\n",
    "\n",
    "\n",
    "print(np.mean(np.abs(ehull_CGCNN_unrelaxed_test_0.predicted_dft_e_hull-ehull_CGCNN_unrelaxed_test_0.dft_e_hull)))"
   ]
  },
  {
   "cell_type": "code",
   "execution_count": 7,
   "id": "e2072d79",
   "metadata": {},
   "outputs": [
    {
     "name": "stdout",
     "output_type": "stream",
     "text": [
      "0.018010098232381706\n",
      "0.020723977314591597\n"
     ]
    }
   ],
   "source": [
    "########### Ensemble TEST Energy\n",
    "\n",
    "e3nn_energy_ensemble = (ehull_e3nn_unrelaxed_test_0.predicted_dft_e_hull+ehull_e3nn_unrelaxed_test_1.predicted_dft_e_hull+ehull_e3nn_unrelaxed_test_2.predicted_dft_e_hull)/3.0\n",
    "CGCNN_energy_ensemble = (ehull_CGCNN_unrelaxed_test_0.predicted_dft_e_hull+ehull_CGCNN_unrelaxed_test_1.predicted_dft_e_hull+ehull_CGCNN_unrelaxed_test_2.predicted_dft_e_hull)/3.0\n",
    "\n",
    "print(np.mean(np.abs(e3nn_energy_ensemble-ehull_e3nn_unrelaxed_test_0.dft_e_hull)))\n",
    "\n",
    "\n",
    "print(np.mean(np.abs(CGCNN_energy_ensemble-ehull_CGCNN_unrelaxed_test_0.dft_e_hull)))"
   ]
  },
  {
   "cell_type": "code",
   "execution_count": 8,
   "id": "524f53fa",
   "metadata": {},
   "outputs": [],
   "source": [
    "def p_band_to_numpy(dataframe):\n",
    "    \n",
    "    ML_values = []\n",
    "    dft_values = []\n",
    "    \n",
    "    for i in range(len(dataframe)):\n",
    "        curr_ML = np.asarray(dataframe.iloc[i].predicted_per_site_p_band)\n",
    "        curr_dft = np.asarray(dataframe.iloc[i].per_site_p_band)\n",
    "        \n",
    "        \n",
    "        ML_values.append(curr_ML)\n",
    "        dft_values.append(curr_dft)\n",
    "    \n",
    "    \n",
    "    #ML_values = np.asarray(ML_values)\n",
    "    #dft_values = np.asarray(dft_values)\n",
    "    \n",
    "    dataframe[\"predicted_per_site_p_band\"] = ML_values\n",
    "    dataframe[\"per_site_p_band\"] = dft_values\n",
    "    return dataframe\n",
    "\n"
   ]
  },
  {
   "cell_type": "code",
   "execution_count": 9,
   "id": "a05fca22",
   "metadata": {},
   "outputs": [],
   "source": [
    "O2P_e3nn_unrelaxed_held_B_0 = p_band_to_numpy(O2P_e3nn_unrelaxed_held_B_0)\n",
    "O2P_CGCNN_unrelaxed_held_B_0 = p_band_to_numpy(O2P_CGCNN_unrelaxed_held_B_0)\n",
    "\n",
    "O2P_e3nn_unrelaxed_held_B_1 = p_band_to_numpy(O2P_e3nn_unrelaxed_held_B_1)\n",
    "O2P_CGCNN_unrelaxed_held_B_1 = p_band_to_numpy(O2P_CGCNN_unrelaxed_held_B_1)\n",
    "\n",
    "O2P_e3nn_unrelaxed_held_B_2 = p_band_to_numpy(O2P_e3nn_unrelaxed_held_B_2)\n",
    "O2P_CGCNN_unrelaxed_held_B_2 = p_band_to_numpy(O2P_CGCNN_unrelaxed_held_B_2)\n",
    "\n",
    "O2P_e3nn_unrelaxed_test_0 = p_band_to_numpy(O2P_e3nn_unrelaxed_test_0)\n",
    "O2P_CGCNN_unrelaxed_test_0 = p_band_to_numpy(O2P_CGCNN_unrelaxed_test_0)\n",
    "\n",
    "O2P_e3nn_unrelaxed_test_1 = p_band_to_numpy(O2P_e3nn_unrelaxed_test_1)\n",
    "O2P_CGCNN_unrelaxed_test_1 = p_band_to_numpy(O2P_CGCNN_unrelaxed_test_1 )\n",
    "\n",
    "O2P_e3nn_unrelaxed_test_2 = p_band_to_numpy(O2P_e3nn_unrelaxed_test_2)\n",
    "O2P_CGCNN_unrelaxed_test_2 = p_band_to_numpy(O2P_CGCNN_unrelaxed_test_2)\n"
   ]
  },
  {
   "cell_type": "code",
   "execution_count": 10,
   "id": "840503ff",
   "metadata": {},
   "outputs": [],
   "source": [
    "def get_dist_error(arr1,arr2):\n",
    "    mat1 = np.asarray(np.mean(np.abs(arr1-arr2)))\n",
    "    \n",
    "    return np.mean(np.abs(mat1))\n",
    "    \n",
    "    "
   ]
  },
  {
   "cell_type": "code",
   "execution_count": 11,
   "id": "7d59165f",
   "metadata": {},
   "outputs": [
    {
     "name": "stdout",
     "output_type": "stream",
     "text": [
      "0.32769589616806105\n",
      "0.33335087114255557\n"
     ]
    }
   ],
   "source": [
    "########### TEST P band\n",
    "\n",
    "print(get_dist_error(O2P_e3nn_unrelaxed_test_0.predicted_per_site_p_band,O2P_e3nn_unrelaxed_test_0.per_site_p_band))\n",
    "\n",
    "\n",
    "print(get_dist_error(O2P_CGCNN_unrelaxed_test_0.predicted_per_site_p_band,O2P_CGCNN_unrelaxed_test_0.per_site_p_band))"
   ]
  },
  {
   "cell_type": "code",
   "execution_count": 12,
   "id": "1fa1d887",
   "metadata": {},
   "outputs": [
    {
     "name": "stdout",
     "output_type": "stream",
     "text": [
      "0.3044723744370103\n",
      "0.3290555562943135\n"
     ]
    }
   ],
   "source": [
    "########### Ensemble TEST P band\n",
    "\n",
    "O2P_e3nn_ensemble = (O2P_e3nn_unrelaxed_test_0.predicted_per_site_p_band+O2P_e3nn_unrelaxed_test_1.predicted_per_site_p_band+O2P_e3nn_unrelaxed_test_2.predicted_per_site_p_band)/3.0\n",
    "O2P_CGCNN_ensemble = (O2P_CGCNN_unrelaxed_test_0.predicted_per_site_p_band+O2P_CGCNN_unrelaxed_test_1.predicted_per_site_p_band+O2P_CGCNN_unrelaxed_test_2.predicted_per_site_p_band)/3.0\n",
    "\n",
    "\n",
    "print(get_dist_error(O2P_e3nn_ensemble,O2P_e3nn_unrelaxed_test_0.per_site_p_band))\n",
    "\n",
    "\n",
    "print(get_dist_error(O2P_CGCNN_ensemble,O2P_CGCNN_unrelaxed_test_0.per_site_p_band))"
   ]
  },
  {
   "cell_type": "code",
   "execution_count": 13,
   "id": "bae68df6",
   "metadata": {},
   "outputs": [
    {
     "name": "stderr",
     "output_type": "stream",
     "text": [
      "/home/jypeng/miniconda3/envs/Perovskite_ML_Environment/lib/python3.10/site-packages/tqdm/auto.py:21: TqdmWarning: IProgress not found. Please update jupyter and ipywidgets. See https://ipywidgets.readthedocs.io/en/stable/user_install.html\n",
      "  from .autonotebook import tqdm as notebook_tqdm\n"
     ]
    }
   ],
   "source": [
    "from pymatgen.core import Structure\n",
    "def add_Op_dft_and_predicted(dataframe):\n",
    "    \n",
    "    ML_values = []\n",
    "    dft_values = []\n",
    "    \n",
    "    for i in range(len(dataframe)):\n",
    "        curr_ML = []\n",
    "        curr_dft = []\n",
    "        \n",
    "        curr_struct = Structure.from_dict(dataframe.iloc[i].unrelaxed_struct)\n",
    "        \n",
    "        for j in range(len(curr_struct)):\n",
    "            if str(curr_struct.species[j])==\"O\":\n",
    "                curr_ML.append(dataframe.iloc[i].predicted_per_site_p_band[j])\n",
    "                curr_dft.append(dataframe.iloc[i].per_site_p_band[j])\n",
    "        \n",
    "        ML_values.append(np.asarray(curr_ML))\n",
    "        dft_values.append(np.asarray(curr_dft))\n",
    "        \n",
    "        \n",
    "    \n",
    "    \n",
    "    #ML_values = np.asarray(ML_values)\n",
    "    #dft_values = np.asarray(dft_values)\n",
    "    \n",
    "    dataframe[\"predicted_Op_band\"] = ML_values\n",
    "    dataframe[\"per_site_Op_band\"] = dft_values\n",
    "    return dataframe"
   ]
  },
  {
   "cell_type": "code",
   "execution_count": 14,
   "id": "11c783a8",
   "metadata": {},
   "outputs": [],
   "source": [
    "O2P_e3nn_unrelaxed_held_B_0 = add_Op_dft_and_predicted(O2P_e3nn_unrelaxed_held_B_0)\n",
    "O2P_CGCNN_unrelaxed_held_B_0 = add_Op_dft_and_predicted(O2P_CGCNN_unrelaxed_held_B_0)\n",
    "\n",
    "O2P_e3nn_unrelaxed_held_B_1 = add_Op_dft_and_predicted(O2P_e3nn_unrelaxed_held_B_1)\n",
    "O2P_CGCNN_unrelaxed_held_B_1 = add_Op_dft_and_predicted(O2P_CGCNN_unrelaxed_held_B_1)\n",
    "\n",
    "O2P_e3nn_unrelaxed_held_B_2 = add_Op_dft_and_predicted(O2P_e3nn_unrelaxed_held_B_2)\n",
    "O2P_CGCNN_unrelaxed_held_B_2 = add_Op_dft_and_predicted(O2P_CGCNN_unrelaxed_held_B_2)\n",
    "\n",
    "O2P_e3nn_unrelaxed_test_0 = add_Op_dft_and_predicted(O2P_e3nn_unrelaxed_test_0)\n",
    "O2P_CGCNN_unrelaxed_test_0 = add_Op_dft_and_predicted(O2P_CGCNN_unrelaxed_test_0)\n",
    "\n",
    "O2P_e3nn_unrelaxed_test_1 = add_Op_dft_and_predicted(O2P_e3nn_unrelaxed_test_1)\n",
    "O2P_CGCNN_unrelaxed_test_1 = add_Op_dft_and_predicted(O2P_CGCNN_unrelaxed_test_1 )\n",
    "\n",
    "O2P_e3nn_unrelaxed_test_2 = add_Op_dft_and_predicted(O2P_e3nn_unrelaxed_test_2)\n",
    "O2P_CGCNN_unrelaxed_test_2 = add_Op_dft_and_predicted(O2P_CGCNN_unrelaxed_test_2)\n"
   ]
  },
  {
   "cell_type": "code",
   "execution_count": 15,
   "id": "383ca7dd",
   "metadata": {},
   "outputs": [],
   "source": [
    "#print(Structure.from_dict(O2P_e3nn_unrelaxed_test_0.opt_struct[0]))\n",
    "\n",
    "#print(O2P_e3nn_unrelaxed_test_0.per_site_p_band[0])\n",
    "#print(O2P_e3nn_unrelaxed_test_0.per_site_Op_band[0])"
   ]
  },
  {
   "cell_type": "code",
   "execution_count": 16,
   "id": "9811d2a7",
   "metadata": {},
   "outputs": [
    {
     "data": {
      "text/plain": [
       "array([-2.16408587, -2.15206099, -2.30997467, -2.16408587, -2.27252245,\n",
       "       -2.28441238, -2.29696369, -2.2549181 , -2.30997467, -2.29696369,\n",
       "       -2.24185038, -2.28441238, -2.30377531, -2.21336555, -2.29269314,\n",
       "       -2.30377531, -2.29696083, -2.30136299, -2.27867079, -2.32211685,\n",
       "       -2.29269314, -2.27867079, -2.3224864 , -2.30136299])"
      ]
     },
     "execution_count": 16,
     "metadata": {},
     "output_type": "execute_result"
    }
   ],
   "source": [
    "O2P_e3nn_unrelaxed_test_0.predicted_Op_band[0]"
   ]
  },
  {
   "cell_type": "code",
   "execution_count": 17,
   "id": "b6d523d7",
   "metadata": {},
   "outputs": [
    {
     "name": "stdout",
     "output_type": "stream",
     "text": [
      "0.3008972639017149\n",
      "0.3126672051525113\n"
     ]
    }
   ],
   "source": [
    "########### TEST OP band\n",
    "\n",
    "print(get_dist_error(O2P_e3nn_unrelaxed_test_0.predicted_Op_band,O2P_e3nn_unrelaxed_test_0.per_site_Op_band))\n",
    "\n",
    "\n",
    "print(get_dist_error(O2P_CGCNN_unrelaxed_test_0.predicted_Op_band,O2P_CGCNN_unrelaxed_test_0.per_site_Op_band))\n"
   ]
  },
  {
   "cell_type": "code",
   "execution_count": 18,
   "id": "2abc738b",
   "metadata": {},
   "outputs": [
    {
     "name": "stdout",
     "output_type": "stream",
     "text": [
      "0.28114219770535614\n",
      "0.30702856167174875\n"
     ]
    }
   ],
   "source": [
    "########### Emsemble TEST OP band\n",
    "\n",
    "\n",
    "O2P_e3nn_ensemble = (O2P_e3nn_unrelaxed_test_0.predicted_Op_band+O2P_e3nn_unrelaxed_test_1.predicted_Op_band+O2P_e3nn_unrelaxed_test_2.predicted_Op_band)/3.0\n",
    "O2P_CGCNN_ensemble = (O2P_CGCNN_unrelaxed_test_0.predicted_Op_band+O2P_CGCNN_unrelaxed_test_1.predicted_Op_band+O2P_CGCNN_unrelaxed_test_2.predicted_Op_band)/3.0\n",
    "\n",
    "\n",
    "print(get_dist_error(O2P_e3nn_ensemble,O2P_e3nn_unrelaxed_test_0.per_site_Op_band))\n",
    "\n",
    "\n",
    "print(get_dist_error(O2P_CGCNN_ensemble,O2P_CGCNN_unrelaxed_test_0.per_site_Op_band))\n"
   ]
  },
  {
   "cell_type": "code",
   "execution_count": 19,
   "id": "eb74f221",
   "metadata": {},
   "outputs": [],
   "source": [
    "###########################################"
   ]
  },
  {
   "cell_type": "code",
   "execution_count": 20,
   "id": "997b9953",
   "metadata": {},
   "outputs": [],
   "source": [
    "e3nn_energy_ensemble = (ehull_e3nn_unrelaxed_held_B_0.predicted_dft_e_hull+ehull_e3nn_unrelaxed_held_B_1.predicted_dft_e_hull+ehull_e3nn_unrelaxed_held_B_2.predicted_dft_e_hull)/3.0\n",
    "CGCNN_energy_ensemble = (ehull_CGCNN_unrelaxed_held_B_0.predicted_dft_e_hull+ehull_CGCNN_unrelaxed_held_B_1.predicted_dft_e_hull+ehull_CGCNN_unrelaxed_held_B_2.predicted_dft_e_hull)/3.0\n",
    "\n",
    "O2P_e3nn_ensemble = (O2P_e3nn_unrelaxed_held_B_0.predicted_Op_band+O2P_e3nn_unrelaxed_held_B_1.predicted_Op_band+O2P_e3nn_unrelaxed_held_B_2.predicted_Op_band)/3.0\n",
    "O2P_CGCNN_ensemble = (O2P_CGCNN_unrelaxed_held_B_0.predicted_Op_band+O2P_CGCNN_unrelaxed_held_B_1.predicted_Op_band+O2P_CGCNN_unrelaxed_held_B_2.predicted_Op_band)/3.0\n"
   ]
  },
  {
   "cell_type": "code",
   "execution_count": 21,
   "id": "9a60fd63",
   "metadata": {},
   "outputs": [],
   "source": [
    "ehull_e3nn_unrelaxed_held_B_0[\"ensemble_pred\"] = e3nn_energy_ensemble\n",
    "ehull_CGCNN_unrelaxed_held_B_0[\"ensemble_pred\"] = CGCNN_energy_ensemble\n",
    "\n",
    "O2P_e3nn_unrelaxed_held_B_0[\"ensemble_pred\"] = O2P_e3nn_ensemble\n",
    "O2P_CGCNN_unrelaxed_held_B_0[\"ensemble_pred\"] = O2P_CGCNN_ensemble"
   ]
  },
  {
   "cell_type": "code",
   "execution_count": 22,
   "id": "6ba89007",
   "metadata": {},
   "outputs": [
    {
     "name": "stdout",
     "output_type": "stream",
     "text": [
      "0.018218892508\n",
      "0.014817929522666666\n"
     ]
    }
   ],
   "source": [
    "########### E rel to GS\n",
    "\n",
    "e3nn_best_pred = ehull_e3nn_unrelaxed_held_B_0.predicted_dft_e_hull\n",
    "CGCNN_best_pred = ehull_CGCNN_unrelaxed_held_B_0.predicted_dft_e_hull\n",
    "\n",
    "\n",
    "dft_min_val = {}\n",
    "e3nn_min_val = {}\n",
    "CGCNN_min_val = {}\n",
    "\n",
    "for i in range(len(ehull_e3nn_unrelaxed_held_B_0)):\n",
    "    curr_formula = ehull_e3nn_unrelaxed_held_B_0.iloc[i].formula\n",
    "    if curr_formula in e3nn_min_val:\n",
    "        if e3nn_best_pred[i] < e3nn_min_val[curr_formula]:\n",
    "            e3nn_min_val[curr_formula] = e3nn_best_pred[i]\n",
    "    else:\n",
    "        e3nn_min_val[curr_formula] = e3nn_best_pred[i]\n",
    "        \n",
    "for i in range(len(ehull_CGCNN_unrelaxed_held_B_0)):\n",
    "    curr_formula = ehull_CGCNN_unrelaxed_held_B_0.iloc[i].formula\n",
    "    if curr_formula in CGCNN_min_val:\n",
    "        if CGCNN_best_pred[i] < CGCNN_min_val[curr_formula]:\n",
    "            CGCNN_min_val[curr_formula] = CGCNN_best_pred[i]\n",
    "    else:\n",
    "        CGCNN_min_val[curr_formula] = CGCNN_best_pred[i]\n",
    "        \n",
    "for i in range(len(ehull_CGCNN_unrelaxed_held_B_0)):\n",
    "    curr_formula = ehull_CGCNN_unrelaxed_held_B_0.iloc[i].formula\n",
    "    if curr_formula in dft_min_val:\n",
    "        if ehull_CGCNN_unrelaxed_held_B_0.iloc[i].dft_e_hull < dft_min_val[curr_formula]:\n",
    "            dft_min_val[curr_formula] = ehull_CGCNN_unrelaxed_held_B_0.iloc[i].dft_e_hull\n",
    "    else:\n",
    "        dft_min_val[curr_formula] = ehull_CGCNN_unrelaxed_held_B_0.iloc[i].dft_e_hull\n",
    "        \n",
    "        \n",
    "dft_diffs = []\n",
    "CGCNN_diffs = []\n",
    "e3nn_diffs = []\n",
    "\n",
    "for i in range(len(ehull_e3nn_unrelaxed_held_B_0)):\n",
    "    curr_formula = ehull_e3nn_unrelaxed_held_B_0.iloc[i].formula\n",
    "    #gs_ref = ehull_e3nn_unrelaxed_held_B.iloc[dft_min_val[curr_formula][0]].predicted_dft_e_hull\n",
    "    \n",
    "    curr_val = e3nn_best_pred[i] - e3nn_min_val[curr_formula]\n",
    "    e3nn_diffs.append(curr_val)\n",
    "    \n",
    "for i in range(len(ehull_CGCNN_unrelaxed_held_B_0)):\n",
    "    curr_formula = ehull_CGCNN_unrelaxed_held_B_0.iloc[i].formula\n",
    "    #gs_ref = ehull_CGCNN_unrelaxed_held_B.iloc[dft_min_val[curr_formula][0]].predicted_dft_e_hull\n",
    "    curr_val = CGCNN_best_pred[i] - CGCNN_min_val[curr_formula]\n",
    "    CGCNN_diffs.append(curr_val)\n",
    "    \n",
    "for i in range(len(ehull_CGCNN_unrelaxed_held_B_0)):\n",
    "    curr_formula = ehull_CGCNN_unrelaxed_held_B_0.iloc[i].formula\n",
    "    curr_val = ehull_CGCNN_unrelaxed_held_B_0.iloc[i].dft_e_hull - dft_min_val[curr_formula]\n",
    "    dft_diffs.append(curr_val)\n",
    "    \n",
    "    \n",
    "    \n",
    "dft_diffs = np.asarray(dft_diffs)\n",
    "CGCNN_diffs = np.asarray(CGCNN_diffs)\n",
    "e3nn_diffs = np.asarray(e3nn_diffs)\n",
    "\n",
    "print(np.mean(np.abs(dft_diffs-CGCNN_diffs)))\n",
    "\n",
    "print(np.mean(np.abs(dft_diffs-e3nn_diffs)))   \n",
    "\n"
   ]
  },
  {
   "cell_type": "code",
   "execution_count": 23,
   "id": "8b860ac8",
   "metadata": {},
   "outputs": [
    {
     "name": "stdout",
     "output_type": "stream",
     "text": [
      "0.018800804512333336\n",
      "0.014106530182277777\n"
     ]
    }
   ],
   "source": [
    "########### E rel to GS Ensemble\n",
    "\n",
    "e3nn_mean_pred = (ehull_e3nn_unrelaxed_held_B_0.predicted_dft_e_hull+ehull_e3nn_unrelaxed_held_B_1.predicted_dft_e_hull+ehull_e3nn_unrelaxed_held_B_2.predicted_dft_e_hull)/3.0\n",
    "CGCNN_mean_pred = (ehull_CGCNN_unrelaxed_held_B_0.predicted_dft_e_hull+ehull_CGCNN_unrelaxed_held_B_1.predicted_dft_e_hull+ehull_CGCNN_unrelaxed_held_B_2.predicted_dft_e_hull)/3.0\n",
    "\n",
    "dft_min_val = {}\n",
    "e3nn_min_val = {}\n",
    "CGCNN_min_val = {}\n",
    "\n",
    "for i in range(len(ehull_e3nn_unrelaxed_held_B_0)):\n",
    "    curr_formula = ehull_e3nn_unrelaxed_held_B_0.iloc[i].formula\n",
    "    if curr_formula in e3nn_min_val:\n",
    "        if e3nn_mean_pred[i] < e3nn_min_val[curr_formula]:\n",
    "            e3nn_min_val[curr_formula] = e3nn_mean_pred[i]\n",
    "    else:\n",
    "        e3nn_min_val[curr_formula] = e3nn_mean_pred[i]\n",
    "        \n",
    "for i in range(len(ehull_CGCNN_unrelaxed_held_B_0)):\n",
    "    curr_formula = ehull_CGCNN_unrelaxed_held_B_0.iloc[i].formula\n",
    "    if curr_formula in CGCNN_min_val:\n",
    "        if CGCNN_mean_pred[i] < CGCNN_min_val[curr_formula]:\n",
    "            CGCNN_min_val[curr_formula] = CGCNN_mean_pred[i]\n",
    "    else:\n",
    "        CGCNN_min_val[curr_formula] = CGCNN_mean_pred[i]\n",
    "        \n",
    "for i in range(len(ehull_CGCNN_unrelaxed_held_B_0)):\n",
    "    curr_formula = ehull_CGCNN_unrelaxed_held_B_0.iloc[i].formula\n",
    "    if curr_formula in dft_min_val:\n",
    "        if ehull_CGCNN_unrelaxed_held_B_0.iloc[i].dft_e_hull < dft_min_val[curr_formula]:\n",
    "            dft_min_val[curr_formula] = ehull_CGCNN_unrelaxed_held_B_0.iloc[i].dft_e_hull\n",
    "    else:\n",
    "        dft_min_val[curr_formula] = ehull_CGCNN_unrelaxed_held_B_0.iloc[i].dft_e_hull\n",
    "        \n",
    "        \n",
    "dft_diffs = []\n",
    "CGCNN_diffs = []\n",
    "e3nn_diffs = []\n",
    "\n",
    "for i in range(len(ehull_e3nn_unrelaxed_held_B_0)):\n",
    "    curr_formula = ehull_e3nn_unrelaxed_held_B_0.iloc[i].formula\n",
    "    #gs_ref = ehull_e3nn_unrelaxed_held_B.iloc[dft_min_val[curr_formula][0]].predicted_dft_e_hull\n",
    "    \n",
    "    curr_val = e3nn_mean_pred[i] - e3nn_min_val[curr_formula]\n",
    "    e3nn_diffs.append(curr_val)\n",
    "    \n",
    "for i in range(len(ehull_CGCNN_unrelaxed_held_B_0)):\n",
    "    curr_formula = ehull_CGCNN_unrelaxed_held_B_0.iloc[i].formula\n",
    "    #gs_ref = ehull_CGCNN_unrelaxed_held_B.iloc[dft_min_val[curr_formula][0]].predicted_dft_e_hull\n",
    "    curr_val = CGCNN_mean_pred[i] - CGCNN_min_val[curr_formula]\n",
    "    CGCNN_diffs.append(curr_val)\n",
    "    \n",
    "for i in range(len(ehull_CGCNN_unrelaxed_held_B_0)):\n",
    "    curr_formula = ehull_CGCNN_unrelaxed_held_B_0.iloc[i].formula\n",
    "    curr_val = ehull_CGCNN_unrelaxed_held_B_0.iloc[i].dft_e_hull - dft_min_val[curr_formula]\n",
    "    dft_diffs.append(curr_val)\n",
    "    \n",
    "    \n",
    "    \n",
    "dft_diffs = np.asarray(dft_diffs)\n",
    "CGCNN_diffs = np.asarray(CGCNN_diffs)\n",
    "e3nn_diffs = np.asarray(e3nn_diffs)\n",
    "\n",
    "print(np.mean(np.abs(dft_diffs-CGCNN_diffs)))\n",
    "\n",
    "print(np.mean(np.abs(dft_diffs-e3nn_diffs)))"
   ]
  },
  {
   "cell_type": "code",
   "execution_count": 24,
   "id": "9c210230",
   "metadata": {},
   "outputs": [
    {
     "data": {
      "text/plain": [
       "0.017886520696388894"
      ]
     },
     "execution_count": 24,
     "metadata": {},
     "output_type": "execute_result"
    }
   ],
   "source": [
    "np.mean(np.abs(ehull_e3nn_unrelaxed_held_B_0.ensemble_pred-ehull_e3nn_unrelaxed_held_B_0.dft_e_hull))"
   ]
  },
  {
   "cell_type": "code",
   "execution_count": 25,
   "id": "c83bbf98",
   "metadata": {},
   "outputs": [
    {
     "data": {
      "text/plain": [
       "0.018696398123666667"
      ]
     },
     "execution_count": 25,
     "metadata": {},
     "output_type": "execute_result"
    }
   ],
   "source": [
    "np.mean(np.abs(ehull_e3nn_unrelaxed_held_B_0.predicted_dft_e_hull-ehull_e3nn_unrelaxed_held_B_0.dft_e_hull))"
   ]
  },
  {
   "cell_type": "code",
   "execution_count": 26,
   "id": "bdb6890f",
   "metadata": {},
   "outputs": [
    {
     "data": {
      "text/plain": [
       "0.022096734531666665"
      ]
     },
     "execution_count": 26,
     "metadata": {},
     "output_type": "execute_result"
    }
   ],
   "source": [
    "np.mean(np.abs(ehull_CGCNN_unrelaxed_held_B_0.ensemble_pred-ehull_e3nn_unrelaxed_held_B_0.dft_e_hull))"
   ]
  },
  {
   "cell_type": "code",
   "execution_count": 27,
   "id": "26f4ae4e",
   "metadata": {},
   "outputs": [
    {
     "data": {
      "text/plain": [
       "0.020926006945333333"
      ]
     },
     "execution_count": 27,
     "metadata": {},
     "output_type": "execute_result"
    }
   ],
   "source": [
    "np.mean(np.abs(ehull_CGCNN_unrelaxed_held_B_0.predicted_dft_e_hull-ehull_e3nn_unrelaxed_held_B_0.dft_e_hull))"
   ]
  },
  {
   "cell_type": "code",
   "execution_count": 28,
   "id": "f0dda6f7",
   "metadata": {},
   "outputs": [],
   "source": [
    "import json\n",
    "\n",
    "# Opening JSON file\n",
    "f = open('ABBO3_degeneracy.json',)\n",
    "   \n",
    "# returns JSON object as \n",
    "# a dictionary\n",
    "data = json.load(f)\n",
    "\n",
    "   \n",
    "# Closing file\n",
    "f.close()\n",
    "\n",
    "degen = np.asarray(list(data['A8_B(4:4)_O24'].values()))"
   ]
  },
  {
   "cell_type": "code",
   "execution_count": 29,
   "id": "34978c15",
   "metadata": {},
   "outputs": [],
   "source": [
    "def get_weighted_distribution(O2Ps,energies,just_min=False):\n",
    "    #print(O2Ps)\n",
    "    \n",
    "    O2Ps = np.stack(list(O2Ps), axis=0)\n",
    "    if just_min == False:\n",
    "        kbT = 1300*0.0000861733\n",
    "    else:\n",
    "        kbT = 100*0.0000861733\n",
    "    \n",
    "    \n",
    "    energies = np.asarray(energies)\n",
    "    energies -= energies.min()\n",
    "    weights = np.exp(-(energies*40.0)/kbT)*degen\n",
    "    weights /= np.sum(weights)\n",
    "    all_weights = []\n",
    "    for i in range(len(weights)):\n",
    "        all_weights.append(np.ones(24)*weights[i])\n",
    "    \n",
    "    \n",
    "    all_weights = np.asarray(all_weights)\n",
    "    O2P_vals = O2Ps.ravel()\n",
    "    flat_weights = all_weights.flatten()\n",
    "    \n",
    "    \n",
    "    #print(flat_weights.shape)\n",
    "    #print(O2P_vals.shape)\n",
    "    \n",
    "    bins = np.linspace(-5.0,0.5,50)\n",
    "    \n",
    "    val,bins,_ = plt.hist(O2P_vals,bins=bins,weights=flat_weights,density=True)\n",
    "    \n",
    "    return val"
   ]
  },
  {
   "cell_type": "code",
   "execution_count": 30,
   "id": "03945c6e",
   "metadata": {},
   "outputs": [],
   "source": [
    "bins = np.linspace(-5.0,0.5,50)\n",
    "bins_mid = []\n",
    "for i in range(1,len(bins)):\n",
    "    bins_mid.append((bins[i-1]+bins[i])/2.0)\n",
    "bins_mid = np.asarray(bins_mid)"
   ]
  },
  {
   "cell_type": "code",
   "execution_count": 31,
   "id": "9c2f8dee",
   "metadata": {},
   "outputs": [
    {
     "data": {
      "image/png": "[encoded data removed]",
      "text/plain": [
       "<Figure size 640x480 with 1 Axes>"
      ]
     },
     "metadata": {},
     "output_type": "display_data"
    }
   ],
   "source": [
    "dft_distributions = []\n",
    "\n",
    "uniform_distributions = []\n",
    "\n",
    "\n",
    "e3nn_dft_distributions = []\n",
    "e3nn_ensemble_dft_distributions = []\n",
    "\n",
    "e3nn_e3nn_distributions = []\n",
    "e3nn_ensemble_e3nn_distributions = []\n",
    "\n",
    "e3nn_e3nn_ensemble_distributions = []\n",
    "e3nn_ensemble_e3nn_ensemble_distributions = []\n",
    "\n",
    "CGCNN_dft_distributions = []\n",
    "CGCNN_ensemble_dft_distributions = []\n",
    "\n",
    "CGCNN_CGCNN_distributions = []\n",
    "CGCNN_ensemble_CGCNN_distributions = []\n",
    "\n",
    "CGCNN_CGCNN_ensemble_distributions = []\n",
    "CGCNN_ensemble_CGCNN_ensemble_distributions = []\n",
    "\n",
    "\n",
    "formulas = list(set(ehull_e3nn_unrelaxed_held_B_0.formula))\n",
    "\n",
    "for i in range(len(formulas)):\n",
    "    curr_formula = formulas[i]\n",
    "    \n",
    "    B_sites_filt_energy_e3nn = ehull_e3nn_unrelaxed_held_B_0[ehull_e3nn_unrelaxed_held_B_0.formula == curr_formula]\n",
    "    B_sites_filt_energy_CGCNN = ehull_CGCNN_unrelaxed_held_B_0[ehull_CGCNN_unrelaxed_held_B_0.formula == curr_formula]\n",
    "    \n",
    "    B_sites_filt_O2P_e3nn = O2P_e3nn_unrelaxed_held_B_0[O2P_e3nn_unrelaxed_held_B_0.formula == curr_formula]\n",
    "    B_sites_filt_O2P_CGCNN = O2P_CGCNN_unrelaxed_held_B_0[O2P_CGCNN_unrelaxed_held_B_0.formula == curr_formula]\n",
    "    \n",
    "    #print(B_sites_filt_energy_e3nn)\n",
    "    \n",
    "    #print(\"HERE\")\n",
    "    #print(B_sites_filt_O2P_e3nn)\n",
    "    #print(\"HERE\")\n",
    "    #print(B_sites_filt_O2P_e3nn)\n",
    "    #print(\"HERE\")\n",
    "    #print(B_sites_filt_O2P_CGCNN)\n",
    "    #print(\"HERE\")\n",
    "    \n",
    "    B_sites_filt_energy_e3nn = B_sites_filt_energy_e3nn.sort_values(by=['unrelaxed_cryst_id'])\n",
    "    B_sites_filt_energy_CGCNN = B_sites_filt_energy_CGCNN.sort_values(by=['unrelaxed_cryst_id'])\n",
    "    B_sites_filt_O2P_e3nn = B_sites_filt_O2P_e3nn.sort_values(by=['unrelaxed_cryst_id'])\n",
    "    B_sites_filt_O2P_CGCNN = B_sites_filt_O2P_CGCNN.sort_values(by=['unrelaxed_cryst_id'])\n",
    "    \n",
    "    #O2Ps = B_sites_filt.O2P_dist\n",
    "    #e3nn_energies = B_sites_filt.e3nn_energy\n",
    "    #CGCNN_energies = B_sites_filt.CGCNN_energy\n",
    "    #m3gnet_energies = B_sites_filt.m3Gnet_energy\n",
    "    #dft_energies = B_sites_filt.dft_e_hull\n",
    "    \n",
    "    \n",
    "    #dft_distribution = get_weighted_distribution(O2Ps,dft_energies)\n",
    "    #CGCNN_distribution = get_weighted_distribution(O2Ps,CGCNN_energies)\n",
    "    #e3nn_distribution = get_weighted_distribution(O2Ps,e3nn_energies)\n",
    "    #m3gnet_distribution = get_weighted_distribution(O2Ps,m3gnet_energies)\n",
    "    #uniform_distribution = get_weighted_distribution(O2Ps,np.ones(6))\n",
    "    \n",
    "    dft_distribution = get_weighted_distribution(B_sites_filt_O2P_e3nn.per_site_Op_band,B_sites_filt_energy_e3nn.dft_e_hull)\n",
    "    uniform_distribution = get_weighted_distribution(B_sites_filt_O2P_e3nn.per_site_Op_band,np.ones(6))\n",
    "    \n",
    "    e3nn_dft_distribution = get_weighted_distribution(B_sites_filt_O2P_e3nn.per_site_Op_band,B_sites_filt_energy_e3nn.predicted_dft_e_hull)\n",
    "    e3nn_ensemble_dft_distribution = get_weighted_distribution(B_sites_filt_O2P_e3nn.per_site_Op_band,B_sites_filt_energy_e3nn.ensemble_pred)\n",
    "    e3nn_e3nn_distribution = get_weighted_distribution(B_sites_filt_O2P_e3nn.predicted_Op_band,B_sites_filt_energy_e3nn.predicted_dft_e_hull)\n",
    "    e3nn_ensemble_e3nn_distribution = get_weighted_distribution(B_sites_filt_O2P_e3nn.predicted_Op_band,B_sites_filt_energy_e3nn.ensemble_pred)\n",
    "    e3nn_e3nn_ensemble_distribution = get_weighted_distribution(B_sites_filt_O2P_e3nn.ensemble_pred,B_sites_filt_energy_e3nn.predicted_dft_e_hull)\n",
    "    e3nn_ensemble_e3nn_ensemble_distribution = get_weighted_distribution(B_sites_filt_O2P_e3nn.ensemble_pred,B_sites_filt_energy_e3nn.ensemble_pred)\n",
    "    \n",
    "    CGCNN_dft_distribution = get_weighted_distribution(B_sites_filt_O2P_e3nn.per_site_Op_band,B_sites_filt_energy_CGCNN.predicted_dft_e_hull)\n",
    "    CGCNN_ensemble_dft_distribution = get_weighted_distribution(B_sites_filt_O2P_e3nn.per_site_Op_band,B_sites_filt_energy_CGCNN.ensemble_pred)\n",
    "    CGCNN_CGCNN_distribution = get_weighted_distribution(B_sites_filt_O2P_CGCNN.predicted_Op_band,B_sites_filt_energy_CGCNN.predicted_dft_e_hull)\n",
    "    CGCNN_ensemble_CGCNN_distribution = get_weighted_distribution(B_sites_filt_O2P_CGCNN.predicted_Op_band,B_sites_filt_energy_CGCNN.ensemble_pred)\n",
    "    CGCNN_CGCNN_ensemble_distribution = get_weighted_distribution(B_sites_filt_O2P_CGCNN.ensemble_pred,B_sites_filt_energy_CGCNN.predicted_dft_e_hull)\n",
    "    CGCNN_ensemble_CGCNN_ensemble_distribution = get_weighted_distribution(B_sites_filt_O2P_CGCNN.ensemble_pred,B_sites_filt_energy_CGCNN.ensemble_pred)\n",
    "    \n",
    "    dft_distributions.append(dft_distribution)\n",
    "    uniform_distributions.append(uniform_distribution)\n",
    "\n",
    "    e3nn_dft_distributions.append(e3nn_dft_distribution)\n",
    "    e3nn_ensemble_dft_distributions.append(e3nn_ensemble_dft_distribution)\n",
    "    e3nn_e3nn_distributions.append(e3nn_e3nn_distribution)\n",
    "    e3nn_ensemble_e3nn_distributions.append(e3nn_ensemble_e3nn_distribution)\n",
    "    e3nn_e3nn_ensemble_distributions.append(e3nn_e3nn_ensemble_distribution)\n",
    "    e3nn_ensemble_e3nn_ensemble_distributions.append(e3nn_ensemble_e3nn_ensemble_distribution)\n",
    "\n",
    "    CGCNN_dft_distributions.append(CGCNN_dft_distribution)\n",
    "    CGCNN_ensemble_dft_distributions.append(CGCNN_ensemble_dft_distribution)\n",
    "    CGCNN_CGCNN_distributions.append(CGCNN_CGCNN_distribution)\n",
    "    CGCNN_ensemble_CGCNN_distributions.append(CGCNN_ensemble_CGCNN_distribution)\n",
    "    CGCNN_CGCNN_ensemble_distributions.append(CGCNN_CGCNN_ensemble_distribution)\n",
    "    CGCNN_ensemble_CGCNN_ensemble_distributions.append(CGCNN_ensemble_CGCNN_ensemble_distribution)\n",
    "    "
   ]
  },
  {
   "cell_type": "code",
   "execution_count": 32,
   "id": "eaa97b27",
   "metadata": {},
   "outputs": [],
   "source": [
    "dft_distributions = np.stack(dft_distributions,axis=0)\n",
    "uniform_distributions = np.stack(uniform_distributions,axis=0)\n",
    "\n",
    "e3nn_dft_distributions = np.stack(e3nn_dft_distributions,axis=0)\n",
    "e3nn_ensemble_dft_distributions = np.stack(e3nn_ensemble_dft_distributions,axis=0)\n",
    "e3nn_e3nn_distributions = np.stack(e3nn_e3nn_distributions,axis=0)\n",
    "e3nn_ensemble_e3nn_distributions = np.stack(e3nn_ensemble_e3nn_distributions,axis=0)\n",
    "e3nn_e3nn_ensemble_distributions = np.stack(e3nn_e3nn_ensemble_distributions,axis=0)\n",
    "e3nn_ensemble_e3nn_ensemble_distributions = np.stack(e3nn_ensemble_e3nn_ensemble_distributions,axis=0)\n",
    "\n",
    "\n",
    "CGCNN_dft_distributions = np.stack(CGCNN_dft_distributions,axis=0)\n",
    "CGCNN_ensemble_dft_distributions = np.stack(CGCNN_ensemble_dft_distributions,axis=0)\n",
    "CGCNN_CGCNN_distributions = np.stack(CGCNN_CGCNN_distributions,axis=0)\n",
    "CGCNN_ensemble_CGCNN_distributions = np.stack(CGCNN_ensemble_CGCNN_distributions,axis=0)\n",
    "CGCNN_CGCNN_ensemble_distributions = np.stack(CGCNN_CGCNN_ensemble_distributions,axis=0)\n",
    "CGCNN_ensemble_CGCNN_ensemble_distributions = np.stack(CGCNN_ensemble_CGCNN_ensemble_distributions,axis=0)"
   ]
  },
  {
   "cell_type": "code",
   "execution_count": 36,
   "id": "e1ba9829",
   "metadata": {},
   "outputs": [],
   "source": [
    "from scipy.stats import wasserstein_distance"
   ]
  },
  {
   "cell_type": "code",
   "execution_count": 37,
   "id": "765da137",
   "metadata": {},
   "outputs": [],
   "source": [
    "uniform = []\n",
    "CGCNN = []\n",
    "e3nn = []\n",
    "CGCNN_ensemble = []\n",
    "e3nn_ensemble = []\n",
    "\n",
    "for i in range(100):\n",
    "    uniform.append(wasserstein_distance(uniform_distributions[i],dft_distributions[i]))\n",
    "    CGCNN.append(wasserstein_distance(CGCNN_dft_distributions[i],dft_distributions[i]))\n",
    "    e3nn.append(wasserstein_distance(e3nn_dft_distributions[i],dft_distributions[i]))\n",
    "    CGCNN_ensemble.append(wasserstein_distance(CGCNN_ensemble_dft_distributions[i],dft_distributions[i]))\n",
    "    e3nn_ensemble.append(wasserstein_distance(e3nn_ensemble_dft_distributions[i],dft_distributions[i]))"
   ]
  },
  {
   "cell_type": "code",
   "execution_count": 39,
   "id": "4c08267b",
   "metadata": {},
   "outputs": [
    {
     "data": {
      "text/plain": [
       "0.1661382284145709"
      ]
     },
     "execution_count": 39,
     "metadata": {},
     "output_type": "execute_result"
    }
   ],
   "source": [
    "np.asarray(uniform).mean()"
   ]
  },
  {
   "cell_type": "code",
   "execution_count": 40,
   "id": "0c33f563",
   "metadata": {},
   "outputs": [
    {
     "data": {
      "text/plain": [
       "0.1051663832280671"
      ]
     },
     "execution_count": 40,
     "metadata": {},
     "output_type": "execute_result"
    }
   ],
   "source": [
    "np.asarray(CGCNN).mean()"
   ]
  },
  {
   "cell_type": "code",
   "execution_count": 41,
   "id": "5bcda3a7",
   "metadata": {},
   "outputs": [
    {
     "data": {
      "text/plain": [
       "0.07045467559691715"
      ]
     },
     "execution_count": 41,
     "metadata": {},
     "output_type": "execute_result"
    }
   ],
   "source": [
    "np.asarray(e3nn).mean()"
   ]
  },
  {
   "cell_type": "code",
   "execution_count": 42,
   "id": "17b6c1ad",
   "metadata": {},
   "outputs": [
    {
     "data": {
      "text/plain": [
       "0.10770137123163284"
      ]
     },
     "execution_count": 42,
     "metadata": {},
     "output_type": "execute_result"
    }
   ],
   "source": [
    "np.asarray(CGCNN_ensemble).mean()"
   ]
  },
  {
   "cell_type": "code",
   "execution_count": null,
   "id": "0c9270de",
   "metadata": {},
   "outputs": [],
   "source": [
    "np.asarray(e3nn_ensemble).mean()"
   ]
  },
  {
   "cell_type": "code",
   "execution_count": 33,
   "id": "2049ff77",
   "metadata": {},
   "outputs": [
    {
     "data": {
      "text/plain": [
       "0.21532981317890248"
      ]
     },
     "execution_count": 33,
     "metadata": {},
     "output_type": "execute_result"
    }
   ],
   "source": [
    "np.mean(np.abs(uniform_distributions-dft_distributions))\n"
   ]
  },
  {
   "cell_type": "code",
   "execution_count": 34,
   "id": "51e433f5",
   "metadata": {},
   "outputs": [
    {
     "data": {
      "text/plain": [
       "0.13211904815141753"
      ]
     },
     "execution_count": 34,
     "metadata": {},
     "output_type": "execute_result"
    }
   ],
   "source": [
    "np.mean(np.abs(CGCNN_dft_distributions-dft_distributions))\n"
   ]
  },
  {
   "cell_type": "code",
   "execution_count": 35,
   "id": "7acd74b9",
   "metadata": {},
   "outputs": [
    {
     "data": {
      "text/plain": [
       "0.09849448345114972"
      ]
     },
     "execution_count": 35,
     "metadata": {},
     "output_type": "execute_result"
    }
   ],
   "source": [
    "np.mean(np.abs(e3nn_dft_distributions-dft_distributions))\n"
   ]
  },
  {
   "cell_type": "code",
   "execution_count": 87,
   "id": "f05cc344",
   "metadata": {},
   "outputs": [
    {
     "data": {
      "text/plain": [
       "0.12571272863907149"
      ]
     },
     "execution_count": 87,
     "metadata": {},
     "output_type": "execute_result"
    }
   ],
   "source": [
    "np.mean(np.abs(CGCNN_ensemble_dft_distributions-dft_distributions))\n"
   ]
  },
  {
   "cell_type": "code",
   "execution_count": 88,
   "id": "e6033aeb",
   "metadata": {},
   "outputs": [
    {
     "data": {
      "text/plain": [
       "0.07772933576817566"
      ]
     },
     "execution_count": 88,
     "metadata": {},
     "output_type": "execute_result"
    }
   ],
   "source": [
    "np.mean(np.abs(e3nn_ensemble_dft_distributions-dft_distributions))\n"
   ]
  },
  {
   "cell_type": "code",
   "execution_count": 89,
   "id": "fd4ea332",
   "metadata": {},
   "outputs": [
    {
     "data": {
      "text/plain": [
       "0.23453647441851452"
      ]
     },
     "execution_count": 89,
     "metadata": {},
     "output_type": "execute_result"
    }
   ],
   "source": [
    "np.mean(np.abs(CGCNN_CGCNN_distributions-dft_distributions))\n"
   ]
  },
  {
   "cell_type": "code",
   "execution_count": 90,
   "id": "0a1a1cc4",
   "metadata": {},
   "outputs": [
    {
     "data": {
      "text/plain": [
       "0.23727874187943943"
      ]
     },
     "execution_count": 90,
     "metadata": {},
     "output_type": "execute_result"
    }
   ],
   "source": [
    "np.mean(np.abs(e3nn_e3nn_distributions-dft_distributions))\n"
   ]
  },
  {
   "cell_type": "code",
   "execution_count": 91,
   "id": "90d4f2c2",
   "metadata": {},
   "outputs": [
    {
     "data": {
      "text/plain": [
       "0.23917233732233364"
      ]
     },
     "execution_count": 91,
     "metadata": {},
     "output_type": "execute_result"
    }
   ],
   "source": [
    "np.mean(np.abs(CGCNN_ensemble_CGCNN_ensemble_distributions-dft_distributions))\n"
   ]
  },
  {
   "cell_type": "code",
   "execution_count": 92,
   "id": "e1ea7d59",
   "metadata": {},
   "outputs": [
    {
     "data": {
      "text/plain": [
       "0.22697167291653653"
      ]
     },
     "execution_count": 92,
     "metadata": {},
     "output_type": "execute_result"
    }
   ],
   "source": [
    "np.mean(np.abs(e3nn_ensemble_e3nn_ensemble_distributions-dft_distributions))\n"
   ]
  },
  {
   "cell_type": "code",
   "execution_count": 93,
   "id": "d6465cc7",
   "metadata": {},
   "outputs": [],
   "source": [
    "def plot(index):\n",
    "    dft = dft_distributions[index]\n",
    "    CGCNN = CGCNN_CGCNN_distributions[index]\n",
    "    e3nn = e3nn_e3nn_distributions[index]\n",
    "    \n",
    "    plt.bar(bins_mid,dft.reshape(-1),width=0.1,color='green',alpha=0.3)\n",
    "    plt.bar(bins_mid,CGCNN.reshape(-1),width=0.1,color='red',alpha=0.3)\n",
    "    plt.bar(bins_mid,e3nn.reshape(-1),width=0.1,color='blue',alpha=0.3)\n",
    "    plt.show()"
   ]
  },
  {
   "cell_type": "code",
   "execution_count": 104,
   "id": "71970cc3",
   "metadata": {},
   "outputs": [
    {
     "data": {
      "image/png": "[encoded data removed]",
      "text/plain": [
       "<Figure size 640x480 with 1 Axes>"
      ]
     },
     "metadata": {},
     "output_type": "display_data"
    }
   ],
   "source": [
    "plot(66)"
   ]
  },
  {
   "cell_type": "code",
   "execution_count": 105,
   "id": "6933bbf3",
   "metadata": {},
   "outputs": [
    {
     "data": {
      "text/plain": [
       "5.272727272711792"
      ]
     },
     "execution_count": 105,
     "metadata": {},
     "output_type": "execute_result"
    }
   ],
   "source": [
    "dft_distributions.max()"
   ]
  },
  {
   "cell_type": "code",
   "execution_count": 106,
   "id": "d74e7f2c",
   "metadata": {},
   "outputs": [
    {
     "data": {
      "text/plain": [
       "0.0"
      ]
     },
     "execution_count": 106,
     "metadata": {},
     "output_type": "execute_result"
    }
   ],
   "source": [
    "dft_distributions.min()"
   ]
  },
  {
   "cell_type": "code",
   "execution_count": 117,
   "id": "711606f1",
   "metadata": {},
   "outputs": [],
   "source": [
    "data_targ = []\n",
    "data_pred = []\n",
    "\n",
    "for i in range(len(O2P_e3nn_unrelaxed_held_B_0.ensemble_pred)):\n",
    "    data_targ.append(O2P_e3nn_unrelaxed_held_B_0.iloc[i].ensemble_pred)\n",
    "    data_pred.append(O2P_e3nn_unrelaxed_held_B_0.iloc[i].per_site_Op_band)"
   ]
  },
  {
   "cell_type": "code",
   "execution_count": 119,
   "id": "eead0c04",
   "metadata": {},
   "outputs": [
    {
     "data": {
      "text/plain": [
       "array([-1.51280705, -1.3725098 , -1.51280721, ..., -1.97201045,\n",
       "       -2.0659647 , -1.97201045])"
      ]
     },
     "execution_count": 119,
     "metadata": {},
     "output_type": "execute_result"
    }
   ],
   "source": [
    "np.asarray(data_targ).flatten()"
   ]
  },
  {
   "cell_type": "code",
   "execution_count": 123,
   "id": "84116e5e",
   "metadata": {},
   "outputs": [
    {
     "data": {
      "text/plain": [
       "[<matplotlib.lines.Line2D at 0x7fdd0fd99b40>]"
      ]
     },
     "execution_count": 123,
     "metadata": {},
     "output_type": "execute_result"
    },
    {
     "data": {
      "image/png": "[encoded data removed]",
      "text/plain": [
       "<Figure size 640x480 with 1 Axes>"
      ]
     },
     "metadata": {},
     "output_type": "display_data"
    }
   ],
   "source": [
    "plt.scatter(np.asarray(data_pred).flatten(),np.asarray(data_targ).flatten(),alpha=0.1)\n",
    "plt.plot(np.linspace(-5,0.0,100),np.linspace(-5,0.0,100))"
   ]
  },
  {
   "cell_type": "code",
   "execution_count": 125,
   "id": "55e5625f",
   "metadata": {},
   "outputs": [
    {
     "data": {
      "text/plain": [
       "(array([  88.,  156.,  532., 1164., 2684., 3420., 2958., 1824., 1248.,\n",
       "         326.]),\n",
       " array([-4.92728043, -4.51109454, -4.09490865, -3.67872276, -3.26253688,\n",
       "        -2.84635099, -2.4301651 , -2.01397921, -1.59779332, -1.18160744,\n",
       "        -0.76542155]),\n",
       " <BarContainer object of 10 artists>)"
      ]
     },
     "execution_count": 125,
     "metadata": {},
     "output_type": "execute_result"
    },
    {
     "data": {
      "image/png": "[encoded data removed]",
      "text/plain": [
       "<Figure size 640x480 with 1 Axes>"
      ]
     },
     "metadata": {},
     "output_type": "display_data"
    }
   ],
   "source": [
    "plt.hist(np.asarray(data_targ).flatten())"
   ]
  },
  {
   "cell_type": "code",
   "execution_count": 127,
   "id": "9ff5f01e",
   "metadata": {},
   "outputs": [],
   "source": [
    "O2P_e3nn_unrelaxed_held_series_0 = pd.read_json(\"../../best_models/e3nn/per_site_p_band_data_per_site_unrelaxed_e3nn/1021456/best_0/holdout_set_series_predictions.json\")\n",
    "O2P_CGCNN_unrelaxed_held_series_0 = pd.read_json(\"../../best_models/CGCNN/per_site_p_band_data_per_site_unrelaxed_CGCNN/1021459/best_0/holdout_set_series_predictions.json\")\n",
    "\n",
    "O2P_e3nn_unrelaxed_held_series_1 = pd.read_json(\"../../best_models/e3nn/per_site_p_band_data_per_site_unrelaxed_e3nn/1021456/best_1/holdout_set_series_predictions.json\")\n",
    "O2P_CGCNN_unrelaxed_held_series_1 = pd.read_json(\"../../best_models/CGCNN/per_site_p_band_data_per_site_unrelaxed_CGCNN/1021459/best_1/holdout_set_series_predictions.json\")\n",
    "\n",
    "O2P_e3nn_unrelaxed_held_series_2 = pd.read_json(\"../../best_models/e3nn/per_site_p_band_data_per_site_unrelaxed_e3nn/1021456/best_2/holdout_set_series_predictions.json\")\n",
    "O2P_CGCNN_unrelaxed_held_series_2 = pd.read_json(\"../../best_models/CGCNN/per_site_p_band_data_per_site_unrelaxed_CGCNN/1021459/best_2/holdout_set_series_predictions.json\")\n",
    "\n",
    "ehull_e3nn_unrelaxed_held_series_0 = pd.read_json(\"../../best_models/e3nn/dft_e_hull_htvs_data_unrelaxed_e3nn/837627/best_0/holdout_set_series_predictions.json\")\n",
    "ehull_CGCNN_unrelaxed_held_series_0 = pd.read_json(\"../../best_models/CGCNN/dft_e_hull_htvs_data_unrelaxed_CGCNN/837611/best_0/holdout_set_series_predictions.json\")\n",
    "\n",
    "ehull_e3nn_unrelaxed_held_series_1 = pd.read_json(\"../../best_models/e3nn/dft_e_hull_htvs_data_unrelaxed_e3nn/837627/best_1/holdout_set_series_predictions.json\")\n",
    "ehull_CGCNN_unrelaxed_held_series_1 = pd.read_json(\"../../best_models/CGCNN/dft_e_hull_htvs_data_unrelaxed_CGCNN/837611/best_1/holdout_set_series_predictions.json\")\n",
    "\n",
    "ehull_e3nn_unrelaxed_held_series_2 = pd.read_json(\"../../best_models/e3nn/dft_e_hull_htvs_data_unrelaxed_e3nn/837627/best_2/holdout_set_series_predictions.json\")\n",
    "ehull_CGCNN_unrelaxed_held_series_2 = pd.read_json(\"../../best_models/CGCNN/dft_e_hull_htvs_data_unrelaxed_CGCNN/837611/best_2/holdout_set_series_predictions.json\")\n"
   ]
  },
  {
   "cell_type": "code",
   "execution_count": null,
   "id": "1c8fd578",
   "metadata": {},
   "outputs": [],
   "source": []
  },
  {
   "cell_type": "code",
   "execution_count": 128,
   "id": "10811219",
   "metadata": {},
   "outputs": [
    {
     "ename": "AttributeError",
     "evalue": "'DataFrame' object has no attribute 'predicted_Op_band'",
     "output_type": "error",
     "traceback": [
      "\u001b[0;31m---------------------------------------------------------------------------\u001b[0m",
      "\u001b[0;31mAttributeError\u001b[0m                            Traceback (most recent call last)",
      "\u001b[0;32m/tmp/ipykernel_3742876/35242964.py\u001b[0m in \u001b[0;36m?\u001b[0;34m()\u001b[0m\n\u001b[1;32m      1\u001b[0m \u001b[0me3nn_energy_ensemble\u001b[0m \u001b[0;34m=\u001b[0m \u001b[0;34m(\u001b[0m\u001b[0mehull_e3nn_unrelaxed_held_series_0\u001b[0m\u001b[0;34m.\u001b[0m\u001b[0mpredicted_dft_e_hull\u001b[0m\u001b[0;34m+\u001b[0m\u001b[0mehull_e3nn_unrelaxed_held_series_1\u001b[0m\u001b[0;34m.\u001b[0m\u001b[0mpredicted_dft_e_hull\u001b[0m\u001b[0;34m+\u001b[0m\u001b[0mehull_e3nn_unrelaxed_held_series_2\u001b[0m\u001b[0;34m.\u001b[0m\u001b[0mpredicted_dft_e_hull\u001b[0m\u001b[0;34m)\u001b[0m\u001b[0;34m/\u001b[0m\u001b[0;36m3.0\u001b[0m\u001b[0;34m\u001b[0m\u001b[0;34m\u001b[0m\u001b[0m\n\u001b[1;32m      2\u001b[0m \u001b[0mCGCNN_energy_ensemble\u001b[0m \u001b[0;34m=\u001b[0m \u001b[0;34m(\u001b[0m\u001b[0mehull_CGCNN_unrelaxed_held_series_0\u001b[0m\u001b[0;34m.\u001b[0m\u001b[0mpredicted_dft_e_hull\u001b[0m\u001b[0;34m+\u001b[0m\u001b[0mehull_CGCNN_unrelaxed_held_series_1\u001b[0m\u001b[0;34m.\u001b[0m\u001b[0mpredicted_dft_e_hull\u001b[0m\u001b[0;34m+\u001b[0m\u001b[0mehull_CGCNN_unrelaxed_held_series_2\u001b[0m\u001b[0;34m.\u001b[0m\u001b[0mpredicted_dft_e_hull\u001b[0m\u001b[0;34m)\u001b[0m\u001b[0;34m/\u001b[0m\u001b[0;36m3.0\u001b[0m\u001b[0;34m\u001b[0m\u001b[0;34m\u001b[0m\u001b[0m\n\u001b[1;32m      3\u001b[0m \u001b[0;34m\u001b[0m\u001b[0m\n\u001b[0;32m----> 4\u001b[0;31m \u001b[0mO2P_e3nn_ensemble\u001b[0m \u001b[0;34m=\u001b[0m \u001b[0;34m(\u001b[0m\u001b[0mO2P_e3nn_unrelaxed_held_series_0\u001b[0m\u001b[0;34m.\u001b[0m\u001b[0mpredicted_Op_band\u001b[0m\u001b[0;34m+\u001b[0m\u001b[0mO2P_e3nn_unrelaxed_held_series_1\u001b[0m\u001b[0;34m.\u001b[0m\u001b[0mpredicted_Op_band\u001b[0m\u001b[0;34m+\u001b[0m\u001b[0mO2P_e3nn_unrelaxed_held_series_2\u001b[0m\u001b[0;34m.\u001b[0m\u001b[0mpredicted_Op_band\u001b[0m\u001b[0;34m)\u001b[0m\u001b[0;34m/\u001b[0m\u001b[0;36m3.0\u001b[0m\u001b[0;34m\u001b[0m\u001b[0;34m\u001b[0m\u001b[0m\n\u001b[0m\u001b[1;32m      5\u001b[0m \u001b[0mO2P_CGCNN_ensemble\u001b[0m \u001b[0;34m=\u001b[0m \u001b[0;34m(\u001b[0m\u001b[0mO2P_CGCNN_unrelaxed_held_series_0\u001b[0m\u001b[0;34m.\u001b[0m\u001b[0mpredicted_Op_band\u001b[0m\u001b[0;34m+\u001b[0m\u001b[0mO2P_CGCNN_unrelaxed_held_series_1\u001b[0m\u001b[0;34m.\u001b[0m\u001b[0mpredicted_Op_band\u001b[0m\u001b[0;34m+\u001b[0m\u001b[0mO2P_CGCNN_unrelaxed_held_series_2\u001b[0m\u001b[0;34m.\u001b[0m\u001b[0mpredicted_Op_band\u001b[0m\u001b[0;34m)\u001b[0m\u001b[0;34m/\u001b[0m\u001b[0;36m3.0\u001b[0m\u001b[0;34m\u001b[0m\u001b[0;34m\u001b[0m\u001b[0m\n",
      "\u001b[0;32m~/miniconda3/envs/Perovskite_ML_Environment/lib/python3.10/site-packages/pandas/core/generic.py\u001b[0m in \u001b[0;36m?\u001b[0;34m(self, name)\u001b[0m\n\u001b[1;32m   5898\u001b[0m             \u001b[0;32mand\u001b[0m \u001b[0mname\u001b[0m \u001b[0;32mnot\u001b[0m \u001b[0;32min\u001b[0m \u001b[0mself\u001b[0m\u001b[0;34m.\u001b[0m\u001b[0m_accessors\u001b[0m\u001b[0;34m\u001b[0m\u001b[0;34m\u001b[0m\u001b[0m\n\u001b[1;32m   5899\u001b[0m             \u001b[0;32mand\u001b[0m \u001b[0mself\u001b[0m\u001b[0;34m.\u001b[0m\u001b[0m_info_axis\u001b[0m\u001b[0;34m.\u001b[0m\u001b[0m_can_hold_identifiers_and_holds_name\u001b[0m\u001b[0;34m(\u001b[0m\u001b[0mname\u001b[0m\u001b[0;34m)\u001b[0m\u001b[0;34m\u001b[0m\u001b[0;34m\u001b[0m\u001b[0m\n\u001b[1;32m   5900\u001b[0m         ):\n\u001b[1;32m   5901\u001b[0m             \u001b[0;32mreturn\u001b[0m \u001b[0mself\u001b[0m\u001b[0;34m[\u001b[0m\u001b[0mname\u001b[0m\u001b[0;34m]\u001b[0m\u001b[0;34m\u001b[0m\u001b[0;34m\u001b[0m\u001b[0m\n\u001b[0;32m-> 5902\u001b[0;31m         \u001b[0;32mreturn\u001b[0m \u001b[0mobject\u001b[0m\u001b[0;34m.\u001b[0m\u001b[0m__getattribute__\u001b[0m\u001b[0;34m(\u001b[0m\u001b[0mself\u001b[0m\u001b[0;34m,\u001b[0m \u001b[0mname\u001b[0m\u001b[0;34m)\u001b[0m\u001b[0;34m\u001b[0m\u001b[0;34m\u001b[0m\u001b[0m\n\u001b[0m",
      "\u001b[0;31mAttributeError\u001b[0m: 'DataFrame' object has no attribute 'predicted_Op_band'"
     ]
    }
   ],
   "source": []
  },
  {
   "cell_type": "code",
   "execution_count": 129,
   "id": "47647a6c",
   "metadata": {},
   "outputs": [],
   "source": [
    "O2P_e3nn_unrelaxed_held_series_0 = add_Op_dft_and_predicted(O2P_e3nn_unrelaxed_held_series_0)\n",
    "O2P_CGCNN_unrelaxed_held_series_0 = add_Op_dft_and_predicted(O2P_CGCNN_unrelaxed_held_series_0)\n",
    "\n",
    "O2P_e3nn_unrelaxed_held_series_1 = add_Op_dft_and_predicted(O2P_e3nn_unrelaxed_held_series_1)\n",
    "O2P_CGCNN_unrelaxed_held_series_1 = add_Op_dft_and_predicted(O2P_CGCNN_unrelaxed_held_series_1)\n",
    "\n",
    "O2P_e3nn_unrelaxed_held_series_2 = add_Op_dft_and_predicted(O2P_e3nn_unrelaxed_held_series_2)\n",
    "O2P_CGCNN_unrelaxed_held_series_2 = add_Op_dft_and_predicted(O2P_CGCNN_unrelaxed_held_series_2)"
   ]
  },
  {
   "cell_type": "code",
   "execution_count": 130,
   "id": "9b14e5ff",
   "metadata": {},
   "outputs": [],
   "source": [
    "e3nn_energy_ensemble = (ehull_e3nn_unrelaxed_held_series_0.predicted_dft_e_hull+ehull_e3nn_unrelaxed_held_series_1.predicted_dft_e_hull+ehull_e3nn_unrelaxed_held_series_2.predicted_dft_e_hull)/3.0\n",
    "CGCNN_energy_ensemble = (ehull_CGCNN_unrelaxed_held_series_0.predicted_dft_e_hull+ehull_CGCNN_unrelaxed_held_series_1.predicted_dft_e_hull+ehull_CGCNN_unrelaxed_held_series_2.predicted_dft_e_hull)/3.0\n",
    "\n",
    "O2P_e3nn_ensemble = (O2P_e3nn_unrelaxed_held_series_0.predicted_Op_band+O2P_e3nn_unrelaxed_held_series_1.predicted_Op_band+O2P_e3nn_unrelaxed_held_series_2.predicted_Op_band)/3.0\n",
    "O2P_CGCNN_ensemble = (O2P_CGCNN_unrelaxed_held_series_0.predicted_Op_band+O2P_CGCNN_unrelaxed_held_series_1.predicted_Op_band+O2P_CGCNN_unrelaxed_held_series_2.predicted_Op_band)/3.0\n"
   ]
  },
  {
   "cell_type": "code",
   "execution_count": 131,
   "id": "42bd9748",
   "metadata": {},
   "outputs": [],
   "source": [
    "ehull_e3nn_unrelaxed_held_series_0[\"ensemble_pred\"] = e3nn_energy_ensemble\n",
    "ehull_CGCNN_unrelaxed_held_series_0[\"ensemble_pred\"] = CGCNN_energy_ensemble\n",
    "\n",
    "O2P_e3nn_unrelaxed_held_series_0[\"ensemble_pred\"] = O2P_e3nn_ensemble\n",
    "O2P_CGCNN_unrelaxed_held_series_0[\"ensemble_pred\"] = O2P_CGCNN_ensemble"
   ]
  },
  {
   "cell_type": "code",
   "execution_count": 132,
   "id": "2b450575",
   "metadata": {},
   "outputs": [
    {
     "name": "stdout",
     "output_type": "stream",
     "text": [
      "0.020204470075202784\n",
      "0.017317508108806487\n"
     ]
    }
   ],
   "source": [
    "########### E rel to GS\n",
    "\n",
    "e3nn_best_pred = ehull_e3nn_unrelaxed_held_series_0.predicted_dft_e_hull\n",
    "CGCNN_best_pred = ehull_CGCNN_unrelaxed_held_series_0.predicted_dft_e_hull\n",
    "\n",
    "\n",
    "dft_min_val = {}\n",
    "e3nn_min_val = {}\n",
    "CGCNN_min_val = {}\n",
    "\n",
    "for i in range(len(ehull_e3nn_unrelaxed_held_series_0)):\n",
    "    curr_formula = ehull_e3nn_unrelaxed_held_series_0.iloc[i].formula\n",
    "    if curr_formula in e3nn_min_val:\n",
    "        if e3nn_best_pred[i] < e3nn_min_val[curr_formula]:\n",
    "            e3nn_min_val[curr_formula] = e3nn_best_pred[i]\n",
    "    else:\n",
    "        e3nn_min_val[curr_formula] = e3nn_best_pred[i]\n",
    "        \n",
    "for i in range(len(ehull_CGCNN_unrelaxed_held_series_0)):\n",
    "    curr_formula = ehull_CGCNN_unrelaxed_held_series_0.iloc[i].formula\n",
    "    if curr_formula in CGCNN_min_val:\n",
    "        if CGCNN_best_pred[i] < CGCNN_min_val[curr_formula]:\n",
    "            CGCNN_min_val[curr_formula] = CGCNN_best_pred[i]\n",
    "    else:\n",
    "        CGCNN_min_val[curr_formula] = CGCNN_best_pred[i]\n",
    "        \n",
    "for i in range(len(ehull_CGCNN_unrelaxed_held_series_0)):\n",
    "    curr_formula = ehull_CGCNN_unrelaxed_held_series_0.iloc[i].formula\n",
    "    if curr_formula in dft_min_val:\n",
    "        if ehull_CGCNN_unrelaxed_held_series_0.iloc[i].dft_e_hull < dft_min_val[curr_formula]:\n",
    "            dft_min_val[curr_formula] = ehull_CGCNN_unrelaxed_held_series_0.iloc[i].dft_e_hull\n",
    "    else:\n",
    "        dft_min_val[curr_formula] = ehull_CGCNN_unrelaxed_held_series_0.iloc[i].dft_e_hull\n",
    "        \n",
    "        \n",
    "dft_diffs = []\n",
    "CGCNN_diffs = []\n",
    "e3nn_diffs = []\n",
    "\n",
    "for i in range(len(ehull_e3nn_unrelaxed_held_series_0)):\n",
    "    curr_formula = ehull_e3nn_unrelaxed_held_series_0.iloc[i].formula\n",
    "    #gs_ref = ehull_e3nn_unrelaxed_held_B.iloc[dft_min_val[curr_formula][0]].predicted_dft_e_hull\n",
    "    \n",
    "    curr_val = e3nn_best_pred[i] - e3nn_min_val[curr_formula]\n",
    "    e3nn_diffs.append(curr_val)\n",
    "    \n",
    "for i in range(len(ehull_CGCNN_unrelaxed_held_series_0)):\n",
    "    curr_formula = ehull_CGCNN_unrelaxed_held_series_0.iloc[i].formula\n",
    "    #gs_ref = ehull_CGCNN_unrelaxed_held_B.iloc[dft_min_val[curr_formula][0]].predicted_dft_e_hull\n",
    "    curr_val = CGCNN_best_pred[i] - CGCNN_min_val[curr_formula]\n",
    "    CGCNN_diffs.append(curr_val)\n",
    "    \n",
    "for i in range(len(ehull_CGCNN_unrelaxed_held_series_0)):\n",
    "    curr_formula = ehull_CGCNN_unrelaxed_held_series_0.iloc[i].formula\n",
    "    curr_val = ehull_CGCNN_unrelaxed_held_series_0.iloc[i].dft_e_hull - dft_min_val[curr_formula]\n",
    "    dft_diffs.append(curr_val)\n",
    "    \n",
    "    \n",
    "    \n",
    "dft_diffs = np.asarray(dft_diffs)\n",
    "CGCNN_diffs = np.asarray(CGCNN_diffs)\n",
    "e3nn_diffs = np.asarray(e3nn_diffs)\n",
    "\n",
    "print(np.mean(np.abs(dft_diffs-CGCNN_diffs)))\n",
    "\n",
    "print(np.mean(np.abs(dft_diffs-e3nn_diffs)))   \n",
    "\n"
   ]
  },
  {
   "cell_type": "code",
   "execution_count": 133,
   "id": "cbbb82a1",
   "metadata": {},
   "outputs": [
    {
     "name": "stdout",
     "output_type": "stream",
     "text": [
      "0.020897654701815375\n",
      "0.01863993749007339\n"
     ]
    }
   ],
   "source": [
    "e3nn_mean_pred = (ehull_e3nn_unrelaxed_held_series_0.predicted_dft_e_hull+ehull_e3nn_unrelaxed_held_series_1.predicted_dft_e_hull+ehull_e3nn_unrelaxed_held_series_2.predicted_dft_e_hull)/3.0\n",
    "CGCNN_mean_pred = (ehull_CGCNN_unrelaxed_held_series_0.predicted_dft_e_hull+ehull_CGCNN_unrelaxed_held_series_1.predicted_dft_e_hull+ehull_CGCNN_unrelaxed_held_series_2.predicted_dft_e_hull)/3.0\n",
    "\n",
    "dft_min_val = {}\n",
    "e3nn_min_val = {}\n",
    "CGCNN_min_val = {}\n",
    "\n",
    "for i in range(len(ehull_e3nn_unrelaxed_held_series_0)):\n",
    "    curr_formula = ehull_e3nn_unrelaxed_held_series_0.iloc[i].formula\n",
    "    if curr_formula in e3nn_min_val:\n",
    "        if e3nn_mean_pred[i] < e3nn_min_val[curr_formula]:\n",
    "            e3nn_min_val[curr_formula] = e3nn_mean_pred[i]\n",
    "    else:\n",
    "        e3nn_min_val[curr_formula] = e3nn_mean_pred[i]\n",
    "        \n",
    "for i in range(len(ehull_CGCNN_unrelaxed_held_series_0)):\n",
    "    curr_formula = ehull_CGCNN_unrelaxed_held_series_0.iloc[i].formula\n",
    "    if curr_formula in CGCNN_min_val:\n",
    "        if CGCNN_mean_pred[i] < CGCNN_min_val[curr_formula]:\n",
    "            CGCNN_min_val[curr_formula] = CGCNN_mean_pred[i]\n",
    "    else:\n",
    "        CGCNN_min_val[curr_formula] = CGCNN_mean_pred[i]\n",
    "        \n",
    "for i in range(len(ehull_CGCNN_unrelaxed_held_series_0)):\n",
    "    curr_formula = ehull_CGCNN_unrelaxed_held_series_0.iloc[i].formula\n",
    "    if curr_formula in dft_min_val:\n",
    "        if ehull_CGCNN_unrelaxed_held_series_0.iloc[i].dft_e_hull < dft_min_val[curr_formula]:\n",
    "            dft_min_val[curr_formula] = ehull_CGCNN_unrelaxed_held_series_0.iloc[i].dft_e_hull\n",
    "    else:\n",
    "        dft_min_val[curr_formula] = ehull_CGCNN_unrelaxed_held_series_0.iloc[i].dft_e_hull\n",
    "        \n",
    "        \n",
    "dft_diffs = []\n",
    "CGCNN_diffs = []\n",
    "e3nn_diffs = []\n",
    "\n",
    "for i in range(len(ehull_e3nn_unrelaxed_held_series_0)):\n",
    "    curr_formula = ehull_e3nn_unrelaxed_held_series_0.iloc[i].formula\n",
    "    #gs_ref = ehull_e3nn_unrelaxed_held_B.iloc[dft_min_val[curr_formula][0]].predicted_dft_e_hull\n",
    "    \n",
    "    curr_val = e3nn_mean_pred[i] - e3nn_min_val[curr_formula]\n",
    "    e3nn_diffs.append(curr_val)\n",
    "    \n",
    "for i in range(len(ehull_CGCNN_unrelaxed_held_series_0)):\n",
    "    curr_formula = ehull_CGCNN_unrelaxed_held_series_0.iloc[i].formula\n",
    "    #gs_ref = ehull_CGCNN_unrelaxed_held_B.iloc[dft_min_val[curr_formula][0]].predicted_dft_e_hull\n",
    "    curr_val = CGCNN_mean_pred[i] - CGCNN_min_val[curr_formula]\n",
    "    CGCNN_diffs.append(curr_val)\n",
    "    \n",
    "for i in range(len(ehull_CGCNN_unrelaxed_held_series_0)):\n",
    "    curr_formula = ehull_CGCNN_unrelaxed_held_series_0.iloc[i].formula\n",
    "    curr_val = ehull_CGCNN_unrelaxed_held_series_0.iloc[i].dft_e_hull - dft_min_val[curr_formula]\n",
    "    dft_diffs.append(curr_val)\n",
    "    \n",
    "    \n",
    "    \n",
    "dft_diffs = np.asarray(dft_diffs)\n",
    "CGCNN_diffs = np.asarray(CGCNN_diffs)\n",
    "e3nn_diffs = np.asarray(e3nn_diffs)\n",
    "\n",
    "print(np.mean(np.abs(dft_diffs-CGCNN_diffs)))\n",
    "\n",
    "print(np.mean(np.abs(dft_diffs-e3nn_diffs)))"
   ]
  },
  {
   "cell_type": "code",
   "execution_count": 180,
   "id": "5827fccd",
   "metadata": {},
   "outputs": [
    {
     "data": {
      "text/html": [
       "<div>\n",
       "<style scoped>\n",
       "    .dataframe tbody tr th:only-of-type {\n",
       "        vertical-align: middle;\n",
       "    }\n",
       "\n",
       "    .dataframe tbody tr th {\n",
       "        vertical-align: top;\n",
       "    }\n",
       "\n",
       "    .dataframe thead th {\n",
       "        text-align: right;\n",
       "    }\n",
       "</style>\n",
       "<table border=\"1\" class=\"dataframe\">\n",
       "  <thead>\n",
       "    <tr style=\"text-align: right;\">\n",
       "      <th></th>\n",
       "      <th>formula</th>\n",
       "      <th>framework</th>\n",
       "      <th>composition</th>\n",
       "      <th>n_atoms_unrelaxed</th>\n",
       "      <th>n_atoms_opt</th>\n",
       "      <th>unrelaxed_cryst_id</th>\n",
       "      <th>unrelaxed_struct</th>\n",
       "      <th>opt_cryst_id</th>\n",
       "      <th>opt_struct</th>\n",
       "      <th>es_job_id</th>\n",
       "      <th>dft_energy</th>\n",
       "      <th>dft_energy_per_atom</th>\n",
       "      <th>dft_e_hull</th>\n",
       "      <th>Op_band_center</th>\n",
       "      <th>M3Gnet_relaxed_struct</th>\n",
       "      <th>M3Gnet_relaxed_energy</th>\n",
       "      <th>M3Gnet_relaxed_energy_per_atom</th>\n",
       "      <th>idx</th>\n",
       "      <th>predicted_dft_e_hull</th>\n",
       "      <th>ensemble_pred</th>\n",
       "    </tr>\n",
       "  </thead>\n",
       "  <tbody>\n",
       "    <tr>\n",
       "      <th>0</th>\n",
       "      <td>Bi2Cu4La6Mo4O24</td>\n",
       "      <td>Bi0.250La0.750Cu0.500Mo0.500O3</td>\n",
       "      <td>{'sites': {'A': ['Bi', 'La'], 'B': ['Cu', 'Mo'...</td>\n",
       "      <td>40</td>\n",
       "      <td>40</td>\n",
       "      <td>183674840</td>\n",
       "      <td>{'@module': 'pymatgen.core.structure', '@class...</td>\n",
       "      <td>421255705</td>\n",
       "      <td>{'@module': 'pymatgen.core.structure', '@class...</td>\n",
       "      <td>122946754</td>\n",
       "      <td>-282.924004</td>\n",
       "      <td>-7.073100</td>\n",
       "      <td>0.155643</td>\n",
       "      <td>-3.706086</td>\n",
       "      <td>{'@module': 'pymatgen.core.structure', '@class...</td>\n",
       "      <td>-281.835388</td>\n",
       "      <td>-7.045885</td>\n",
       "      <td>0</td>\n",
       "      <td>0.135469</td>\n",
       "      <td>0.101378</td>\n",
       "    </tr>\n",
       "    <tr>\n",
       "      <th>1</th>\n",
       "      <td>Bi2Cu4La6Mo4O24</td>\n",
       "      <td>Bi0.250La0.750Cu0.500Mo0.500O3</td>\n",
       "      <td>{'sites': {'A': ['Bi', 'La'], 'B': ['Cu', 'Mo'...</td>\n",
       "      <td>40</td>\n",
       "      <td>40</td>\n",
       "      <td>183674829</td>\n",
       "      <td>{'@module': 'pymatgen.core.structure', '@class...</td>\n",
       "      <td>421255754</td>\n",
       "      <td>{'@module': 'pymatgen.core.structure', '@class...</td>\n",
       "      <td>122946790</td>\n",
       "      <td>-282.888155</td>\n",
       "      <td>-7.072204</td>\n",
       "      <td>0.156539</td>\n",
       "      <td>-3.393402</td>\n",
       "      <td>{'@module': 'pymatgen.core.structure', '@class...</td>\n",
       "      <td>-282.413788</td>\n",
       "      <td>-7.060345</td>\n",
       "      <td>1</td>\n",
       "      <td>0.136587</td>\n",
       "      <td>0.101570</td>\n",
       "    </tr>\n",
       "    <tr>\n",
       "      <th>2</th>\n",
       "      <td>Bi2Cu4La6Mo4O24</td>\n",
       "      <td>Bi0.250La0.750Cu0.500Mo0.500O3</td>\n",
       "      <td>{'sites': {'A': ['Bi', 'La'], 'B': ['Cu', 'Mo'...</td>\n",
       "      <td>40</td>\n",
       "      <td>40</td>\n",
       "      <td>183674850</td>\n",
       "      <td>{'@module': 'pymatgen.core.structure', '@class...</td>\n",
       "      <td>423959399</td>\n",
       "      <td>{'@module': 'pymatgen.core.structure', '@class...</td>\n",
       "      <td>123103557</td>\n",
       "      <td>-282.752910</td>\n",
       "      <td>-7.068823</td>\n",
       "      <td>0.159920</td>\n",
       "      <td>-3.692469</td>\n",
       "      <td>{'@module': 'pymatgen.core.structure', '@class...</td>\n",
       "      <td>-281.959564</td>\n",
       "      <td>-7.048989</td>\n",
       "      <td>2</td>\n",
       "      <td>0.118276</td>\n",
       "      <td>0.092101</td>\n",
       "    </tr>\n",
       "    <tr>\n",
       "      <th>3</th>\n",
       "      <td>Bi2Cu4La6Mo4O24</td>\n",
       "      <td>Bi0.250La0.750Cu0.500Mo0.500O3</td>\n",
       "      <td>{'sites': {'A': ['Bi', 'La'], 'B': ['Cu', 'Mo'...</td>\n",
       "      <td>40</td>\n",
       "      <td>40</td>\n",
       "      <td>183674832</td>\n",
       "      <td>{'@module': 'pymatgen.core.structure', '@class...</td>\n",
       "      <td>421255719</td>\n",
       "      <td>{'@module': 'pymatgen.core.structure', '@class...</td>\n",
       "      <td>122946765</td>\n",
       "      <td>-283.967819</td>\n",
       "      <td>-7.099195</td>\n",
       "      <td>0.129547</td>\n",
       "      <td>-3.652090</td>\n",
       "      <td>{'@module': 'pymatgen.core.structure', '@class...</td>\n",
       "      <td>-281.792023</td>\n",
       "      <td>-7.044801</td>\n",
       "      <td>3</td>\n",
       "      <td>0.161031</td>\n",
       "      <td>0.107932</td>\n",
       "    </tr>\n",
       "    <tr>\n",
       "      <th>4</th>\n",
       "      <td>Bi2Cu4La6Mo4O24</td>\n",
       "      <td>Bi0.250La0.750Cu0.500Mo0.500O3</td>\n",
       "      <td>{'sites': {'A': ['Bi', 'La'], 'B': ['Cu', 'Mo'...</td>\n",
       "      <td>40</td>\n",
       "      <td>40</td>\n",
       "      <td>183674834</td>\n",
       "      <td>{'@module': 'pymatgen.core.structure', '@class...</td>\n",
       "      <td>423959434</td>\n",
       "      <td>{'@module': 'pymatgen.core.structure', '@class...</td>\n",
       "      <td>123103586</td>\n",
       "      <td>-283.248998</td>\n",
       "      <td>-7.081225</td>\n",
       "      <td>0.147518</td>\n",
       "      <td>-3.559921</td>\n",
       "      <td>{'@module': 'pymatgen.core.structure', '@class...</td>\n",
       "      <td>-281.422272</td>\n",
       "      <td>-7.035557</td>\n",
       "      <td>4</td>\n",
       "      <td>0.140187</td>\n",
       "      <td>0.098432</td>\n",
       "    </tr>\n",
       "    <tr>\n",
       "      <th>...</th>\n",
       "      <td>...</td>\n",
       "      <td>...</td>\n",
       "      <td>...</td>\n",
       "      <td>...</td>\n",
       "      <td>...</td>\n",
       "      <td>...</td>\n",
       "      <td>...</td>\n",
       "      <td>...</td>\n",
       "      <td>...</td>\n",
       "      <td>...</td>\n",
       "      <td>...</td>\n",
       "      <td>...</td>\n",
       "      <td>...</td>\n",
       "      <td>...</td>\n",
       "      <td>...</td>\n",
       "      <td>...</td>\n",
       "      <td>...</td>\n",
       "      <td>...</td>\n",
       "      <td>...</td>\n",
       "      <td>...</td>\n",
       "    </tr>\n",
       "    <tr>\n",
       "      <th>858</th>\n",
       "      <td>Mg7Ni4O24Pr1V4</td>\n",
       "      <td>Mg0.875Pr0.125Ni0.500V0.500O3</td>\n",
       "      <td>{'sites': {'A': ['Mg', 'Pr'], 'B': ['Ni', 'V']...</td>\n",
       "      <td>40</td>\n",
       "      <td>40</td>\n",
       "      <td>183674255</td>\n",
       "      <td>{'@module': 'pymatgen.core.structure', '@class...</td>\n",
       "      <td>436520773</td>\n",
       "      <td>{'@module': 'pymatgen.core.structure', '@class...</td>\n",
       "      <td>124467329</td>\n",
       "      <td>-250.368584</td>\n",
       "      <td>-6.259215</td>\n",
       "      <td>0.207065</td>\n",
       "      <td>-1.426689</td>\n",
       "      <td>{'@module': 'pymatgen.core.structure', '@class...</td>\n",
       "      <td>-250.886169</td>\n",
       "      <td>-6.272154</td>\n",
       "      <td>858</td>\n",
       "      <td>0.193778</td>\n",
       "      <td>0.203347</td>\n",
       "    </tr>\n",
       "    <tr>\n",
       "      <th>859</th>\n",
       "      <td>Mg7Ni4O24Pr1V4</td>\n",
       "      <td>Mg0.875Pr0.125Ni0.500V0.500O3</td>\n",
       "      <td>{'sites': {'A': ['Mg', 'Pr'], 'B': ['Ni', 'V']...</td>\n",
       "      <td>40</td>\n",
       "      <td>40</td>\n",
       "      <td>183674250</td>\n",
       "      <td>{'@module': 'pymatgen.core.structure', '@class...</td>\n",
       "      <td>438904289</td>\n",
       "      <td>{'@module': 'pymatgen.core.structure', '@class...</td>\n",
       "      <td>124881872</td>\n",
       "      <td>-250.311759</td>\n",
       "      <td>-6.257794</td>\n",
       "      <td>0.208486</td>\n",
       "      <td>-1.767277</td>\n",
       "      <td>{'@module': 'pymatgen.core.structure', '@class...</td>\n",
       "      <td>-250.448029</td>\n",
       "      <td>-6.261201</td>\n",
       "      <td>859</td>\n",
       "      <td>0.227980</td>\n",
       "      <td>0.213993</td>\n",
       "    </tr>\n",
       "    <tr>\n",
       "      <th>860</th>\n",
       "      <td>Mg7Ni4O24Pr1V4</td>\n",
       "      <td>Mg0.875Pr0.125Ni0.500V0.500O3</td>\n",
       "      <td>{'sites': {'A': ['Mg', 'Pr'], 'B': ['Ni', 'V']...</td>\n",
       "      <td>40</td>\n",
       "      <td>40</td>\n",
       "      <td>183674253</td>\n",
       "      <td>{'@module': 'pymatgen.core.structure', '@class...</td>\n",
       "      <td>439756697</td>\n",
       "      <td>{'@module': 'pymatgen.core.structure', '@class...</td>\n",
       "      <td>124917879</td>\n",
       "      <td>-249.768946</td>\n",
       "      <td>-6.244224</td>\n",
       "      <td>0.222056</td>\n",
       "      <td>-1.545788</td>\n",
       "      <td>{'@module': 'pymatgen.core.structure', '@class...</td>\n",
       "      <td>-249.622391</td>\n",
       "      <td>-6.240560</td>\n",
       "      <td>860</td>\n",
       "      <td>0.212941</td>\n",
       "      <td>0.208802</td>\n",
       "    </tr>\n",
       "    <tr>\n",
       "      <th>861</th>\n",
       "      <td>Mg7Ni4O24Pr1V4</td>\n",
       "      <td>Mg0.875Pr0.125Ni0.500V0.500O3</td>\n",
       "      <td>{'sites': {'A': ['Mg', 'Pr'], 'B': ['Ni', 'V']...</td>\n",
       "      <td>40</td>\n",
       "      <td>40</td>\n",
       "      <td>183674254</td>\n",
       "      <td>{'@module': 'pymatgen.core.structure', '@class...</td>\n",
       "      <td>436520728</td>\n",
       "      <td>{'@module': 'pymatgen.core.structure', '@class...</td>\n",
       "      <td>124467292</td>\n",
       "      <td>-249.766908</td>\n",
       "      <td>-6.244173</td>\n",
       "      <td>0.222107</td>\n",
       "      <td>-1.439217</td>\n",
       "      <td>{'@module': 'pymatgen.core.structure', '@class...</td>\n",
       "      <td>-249.717239</td>\n",
       "      <td>-6.242931</td>\n",
       "      <td>861</td>\n",
       "      <td>0.207730</td>\n",
       "      <td>0.206901</td>\n",
       "    </tr>\n",
       "    <tr>\n",
       "      <th>862</th>\n",
       "      <td>Mg7Ni4O24Pr1V4</td>\n",
       "      <td>Mg0.875Pr0.125Ni0.500V0.500O3</td>\n",
       "      <td>{'sites': {'A': ['Mg', 'Pr'], 'B': ['Ni', 'V']...</td>\n",
       "      <td>40</td>\n",
       "      <td>40</td>\n",
       "      <td>183674251</td>\n",
       "      <td>{'@module': 'pymatgen.core.structure', '@class...</td>\n",
       "      <td>440177160</td>\n",
       "      <td>{'@module': 'pymatgen.core.structure', '@class...</td>\n",
       "      <td>124933261</td>\n",
       "      <td>-250.078838</td>\n",
       "      <td>-6.251971</td>\n",
       "      <td>0.214309</td>\n",
       "      <td>-1.690306</td>\n",
       "      <td>{'@module': 'pymatgen.core.structure', '@class...</td>\n",
       "      <td>-250.841400</td>\n",
       "      <td>-6.271035</td>\n",
       "      <td>862</td>\n",
       "      <td>0.225565</td>\n",
       "      <td>0.213085</td>\n",
       "    </tr>\n",
       "  </tbody>\n",
       "</table>\n",
       "<p>863 rows × 20 columns</p>\n",
       "</div>"
      ],
      "text/plain": [
       "             formula                       framework  \\\n",
       "0    Bi2Cu4La6Mo4O24  Bi0.250La0.750Cu0.500Mo0.500O3   \n",
       "1    Bi2Cu4La6Mo4O24  Bi0.250La0.750Cu0.500Mo0.500O3   \n",
       "2    Bi2Cu4La6Mo4O24  Bi0.250La0.750Cu0.500Mo0.500O3   \n",
       "3    Bi2Cu4La6Mo4O24  Bi0.250La0.750Cu0.500Mo0.500O3   \n",
       "4    Bi2Cu4La6Mo4O24  Bi0.250La0.750Cu0.500Mo0.500O3   \n",
       "..               ...                             ...   \n",
       "858   Mg7Ni4O24Pr1V4   Mg0.875Pr0.125Ni0.500V0.500O3   \n",
       "859   Mg7Ni4O24Pr1V4   Mg0.875Pr0.125Ni0.500V0.500O3   \n",
       "860   Mg7Ni4O24Pr1V4   Mg0.875Pr0.125Ni0.500V0.500O3   \n",
       "861   Mg7Ni4O24Pr1V4   Mg0.875Pr0.125Ni0.500V0.500O3   \n",
       "862   Mg7Ni4O24Pr1V4   Mg0.875Pr0.125Ni0.500V0.500O3   \n",
       "\n",
       "                                           composition  n_atoms_unrelaxed  \\\n",
       "0    {'sites': {'A': ['Bi', 'La'], 'B': ['Cu', 'Mo'...                 40   \n",
       "1    {'sites': {'A': ['Bi', 'La'], 'B': ['Cu', 'Mo'...                 40   \n",
       "2    {'sites': {'A': ['Bi', 'La'], 'B': ['Cu', 'Mo'...                 40   \n",
       "3    {'sites': {'A': ['Bi', 'La'], 'B': ['Cu', 'Mo'...                 40   \n",
       "4    {'sites': {'A': ['Bi', 'La'], 'B': ['Cu', 'Mo'...                 40   \n",
       "..                                                 ...                ...   \n",
       "858  {'sites': {'A': ['Mg', 'Pr'], 'B': ['Ni', 'V']...                 40   \n",
       "859  {'sites': {'A': ['Mg', 'Pr'], 'B': ['Ni', 'V']...                 40   \n",
       "860  {'sites': {'A': ['Mg', 'Pr'], 'B': ['Ni', 'V']...                 40   \n",
       "861  {'sites': {'A': ['Mg', 'Pr'], 'B': ['Ni', 'V']...                 40   \n",
       "862  {'sites': {'A': ['Mg', 'Pr'], 'B': ['Ni', 'V']...                 40   \n",
       "\n",
       "     n_atoms_opt  unrelaxed_cryst_id  \\\n",
       "0             40           183674840   \n",
       "1             40           183674829   \n",
       "2             40           183674850   \n",
       "3             40           183674832   \n",
       "4             40           183674834   \n",
       "..           ...                 ...   \n",
       "858           40           183674255   \n",
       "859           40           183674250   \n",
       "860           40           183674253   \n",
       "861           40           183674254   \n",
       "862           40           183674251   \n",
       "\n",
       "                                      unrelaxed_struct  opt_cryst_id  \\\n",
       "0    {'@module': 'pymatgen.core.structure', '@class...     421255705   \n",
       "1    {'@module': 'pymatgen.core.structure', '@class...     421255754   \n",
       "2    {'@module': 'pymatgen.core.structure', '@class...     423959399   \n",
       "3    {'@module': 'pymatgen.core.structure', '@class...     421255719   \n",
       "4    {'@module': 'pymatgen.core.structure', '@class...     423959434   \n",
       "..                                                 ...           ...   \n",
       "858  {'@module': 'pymatgen.core.structure', '@class...     436520773   \n",
       "859  {'@module': 'pymatgen.core.structure', '@class...     438904289   \n",
       "860  {'@module': 'pymatgen.core.structure', '@class...     439756697   \n",
       "861  {'@module': 'pymatgen.core.structure', '@class...     436520728   \n",
       "862  {'@module': 'pymatgen.core.structure', '@class...     440177160   \n",
       "\n",
       "                                            opt_struct  es_job_id  dft_energy  \\\n",
       "0    {'@module': 'pymatgen.core.structure', '@class...  122946754 -282.924004   \n",
       "1    {'@module': 'pymatgen.core.structure', '@class...  122946790 -282.888155   \n",
       "2    {'@module': 'pymatgen.core.structure', '@class...  123103557 -282.752910   \n",
       "3    {'@module': 'pymatgen.core.structure', '@class...  122946765 -283.967819   \n",
       "4    {'@module': 'pymatgen.core.structure', '@class...  123103586 -283.248998   \n",
       "..                                                 ...        ...         ...   \n",
       "858  {'@module': 'pymatgen.core.structure', '@class...  124467329 -250.368584   \n",
       "859  {'@module': 'pymatgen.core.structure', '@class...  124881872 -250.311759   \n",
       "860  {'@module': 'pymatgen.core.structure', '@class...  124917879 -249.768946   \n",
       "861  {'@module': 'pymatgen.core.structure', '@class...  124467292 -249.766908   \n",
       "862  {'@module': 'pymatgen.core.structure', '@class...  124933261 -250.078838   \n",
       "\n",
       "     dft_energy_per_atom  dft_e_hull  Op_band_center  \\\n",
       "0              -7.073100    0.155643       -3.706086   \n",
       "1              -7.072204    0.156539       -3.393402   \n",
       "2              -7.068823    0.159920       -3.692469   \n",
       "3              -7.099195    0.129547       -3.652090   \n",
       "4              -7.081225    0.147518       -3.559921   \n",
       "..                   ...         ...             ...   \n",
       "858            -6.259215    0.207065       -1.426689   \n",
       "859            -6.257794    0.208486       -1.767277   \n",
       "860            -6.244224    0.222056       -1.545788   \n",
       "861            -6.244173    0.222107       -1.439217   \n",
       "862            -6.251971    0.214309       -1.690306   \n",
       "\n",
       "                                 M3Gnet_relaxed_struct  M3Gnet_relaxed_energy  \\\n",
       "0    {'@module': 'pymatgen.core.structure', '@class...            -281.835388   \n",
       "1    {'@module': 'pymatgen.core.structure', '@class...            -282.413788   \n",
       "2    {'@module': 'pymatgen.core.structure', '@class...            -281.959564   \n",
       "3    {'@module': 'pymatgen.core.structure', '@class...            -281.792023   \n",
       "4    {'@module': 'pymatgen.core.structure', '@class...            -281.422272   \n",
       "..                                                 ...                    ...   \n",
       "858  {'@module': 'pymatgen.core.structure', '@class...            -250.886169   \n",
       "859  {'@module': 'pymatgen.core.structure', '@class...            -250.448029   \n",
       "860  {'@module': 'pymatgen.core.structure', '@class...            -249.622391   \n",
       "861  {'@module': 'pymatgen.core.structure', '@class...            -249.717239   \n",
       "862  {'@module': 'pymatgen.core.structure', '@class...            -250.841400   \n",
       "\n",
       "     M3Gnet_relaxed_energy_per_atom  idx  predicted_dft_e_hull  ensemble_pred  \n",
       "0                         -7.045885    0              0.135469       0.101378  \n",
       "1                         -7.060345    1              0.136587       0.101570  \n",
       "2                         -7.048989    2              0.118276       0.092101  \n",
       "3                         -7.044801    3              0.161031       0.107932  \n",
       "4                         -7.035557    4              0.140187       0.098432  \n",
       "..                              ...  ...                   ...            ...  \n",
       "858                       -6.272154  858              0.193778       0.203347  \n",
       "859                       -6.261201  859              0.227980       0.213993  \n",
       "860                       -6.240560  860              0.212941       0.208802  \n",
       "861                       -6.242931  861              0.207730       0.206901  \n",
       "862                       -6.271035  862              0.225565       0.213085  \n",
       "\n",
       "[863 rows x 20 columns]"
      ]
     },
     "execution_count": 180,
     "metadata": {},
     "output_type": "execute_result"
    }
   ],
   "source": [
    "ehull_e3nn_unrelaxed_held_series_0"
   ]
  },
  {
   "cell_type": "code",
   "execution_count": 183,
   "id": "9d26eb3a",
   "metadata": {},
   "outputs": [
    {
     "name": "stdout",
     "output_type": "stream",
     "text": [
      "0.0200385258146002\n",
      "0.0200385258146002\n"
     ]
    }
   ],
   "source": [
    "e3nn_mean_pred = ehull_e3nn_unrelaxed_held_series_0.M3Gnet_relaxed_energy_per_atom\n",
    "CGCNN_mean_pred = ehull_CGCNN_unrelaxed_held_series_0.M3Gnet_relaxed_energy_per_atom\n",
    "dft_min_val = {}\n",
    "e3nn_min_val = {}\n",
    "CGCNN_min_val = {}\n",
    "\n",
    "for i in range(len(ehull_e3nn_unrelaxed_held_series_0)):\n",
    "    curr_formula = ehull_e3nn_unrelaxed_held_series_0.iloc[i].formula\n",
    "    if curr_formula in e3nn_min_val:\n",
    "        if e3nn_mean_pred[i] < e3nn_min_val[curr_formula]:\n",
    "            e3nn_min_val[curr_formula] = e3nn_mean_pred[i]\n",
    "    else:\n",
    "        e3nn_min_val[curr_formula] = e3nn_mean_pred[i]\n",
    "        \n",
    "for i in range(len(ehull_CGCNN_unrelaxed_held_series_0)):\n",
    "    curr_formula = ehull_CGCNN_unrelaxed_held_series_0.iloc[i].formula\n",
    "    if curr_formula in CGCNN_min_val:\n",
    "        if CGCNN_mean_pred[i] < CGCNN_min_val[curr_formula]:\n",
    "            CGCNN_min_val[curr_formula] = CGCNN_mean_pred[i]\n",
    "    else:\n",
    "        CGCNN_min_val[curr_formula] = CGCNN_mean_pred[i]\n",
    "        \n",
    "for i in range(len(ehull_CGCNN_unrelaxed_held_series_0)):\n",
    "    curr_formula = ehull_CGCNN_unrelaxed_held_series_0.iloc[i].formula\n",
    "    if curr_formula in dft_min_val:\n",
    "        if ehull_CGCNN_unrelaxed_held_series_0.iloc[i].dft_e_hull < dft_min_val[curr_formula]:\n",
    "            dft_min_val[curr_formula] = ehull_CGCNN_unrelaxed_held_series_0.iloc[i].dft_e_hull\n",
    "    else:\n",
    "        dft_min_val[curr_formula] = ehull_CGCNN_unrelaxed_held_series_0.iloc[i].dft_e_hull\n",
    "        \n",
    "        \n",
    "dft_diffs = []\n",
    "CGCNN_diffs = []\n",
    "e3nn_diffs = []\n",
    "\n",
    "for i in range(len(ehull_e3nn_unrelaxed_held_series_0)):\n",
    "    curr_formula = ehull_e3nn_unrelaxed_held_series_0.iloc[i].formula\n",
    "    #gs_ref = ehull_e3nn_unrelaxed_held_B.iloc[dft_min_val[curr_formula][0]].predicted_dft_e_hull\n",
    "    \n",
    "    curr_val = e3nn_mean_pred[i] - e3nn_min_val[curr_formula]\n",
    "    e3nn_diffs.append(curr_val)\n",
    "    \n",
    "for i in range(len(ehull_CGCNN_unrelaxed_held_series_0)):\n",
    "    curr_formula = ehull_CGCNN_unrelaxed_held_series_0.iloc[i].formula\n",
    "    #gs_ref = ehull_CGCNN_unrelaxed_held_B.iloc[dft_min_val[curr_formula][0]].predicted_dft_e_hull\n",
    "    curr_val = CGCNN_mean_pred[i] - CGCNN_min_val[curr_formula]\n",
    "    CGCNN_diffs.append(curr_val)\n",
    "    \n",
    "for i in range(len(ehull_CGCNN_unrelaxed_held_series_0)):\n",
    "    curr_formula = ehull_CGCNN_unrelaxed_held_series_0.iloc[i].formula\n",
    "    curr_val = ehull_CGCNN_unrelaxed_held_series_0.iloc[i].dft_e_hull - dft_min_val[curr_formula]\n",
    "    dft_diffs.append(curr_val)\n",
    "    \n",
    "    \n",
    "    \n",
    "dft_diffs = np.asarray(dft_diffs)\n",
    "CGCNN_diffs = np.asarray(CGCNN_diffs)\n",
    "e3nn_diffs = np.asarray(e3nn_diffs)\n",
    "\n",
    "print(np.mean(np.abs(dft_diffs-CGCNN_diffs)))\n",
    "\n",
    "print(np.mean(np.abs(dft_diffs-e3nn_diffs)))"
   ]
  },
  {
   "cell_type": "code",
   "execution_count": 184,
   "id": "5736c373",
   "metadata": {},
   "outputs": [
    {
     "data": {
      "text/plain": [
       "0.04027139067589803"
      ]
     },
     "execution_count": 184,
     "metadata": {},
     "output_type": "execute_result"
    }
   ],
   "source": [
    "np.mean(np.abs(ehull_e3nn_unrelaxed_held_series_1.predicted_dft_e_hull-ehull_e3nn_unrelaxed_held_series_0.dft_e_hull))"
   ]
  },
  {
   "cell_type": "code",
   "execution_count": 185,
   "id": "7a0a8a63",
   "metadata": {},
   "outputs": [
    {
     "data": {
      "text/plain": [
       "0.04414698343893395"
      ]
     },
     "execution_count": 185,
     "metadata": {},
     "output_type": "execute_result"
    }
   ],
   "source": [
    "np.mean(np.abs(ehull_e3nn_unrelaxed_held_series_2.predicted_dft_e_hull-ehull_e3nn_unrelaxed_held_series_0.dft_e_hull))"
   ]
  },
  {
   "cell_type": "code",
   "execution_count": 134,
   "id": "daf9649d",
   "metadata": {},
   "outputs": [
    {
     "data": {
      "text/plain": [
       "0.036664585642101205"
      ]
     },
     "execution_count": 134,
     "metadata": {},
     "output_type": "execute_result"
    }
   ],
   "source": [
    "np.mean(np.abs(ehull_e3nn_unrelaxed_held_series_0.ensemble_pred-ehull_e3nn_unrelaxed_held_series_0.dft_e_hull))"
   ]
  },
  {
   "cell_type": "code",
   "execution_count": 135,
   "id": "f5f381c7",
   "metadata": {},
   "outputs": [
    {
     "data": {
      "text/plain": [
       "0.028555505468250295"
      ]
     },
     "execution_count": 135,
     "metadata": {},
     "output_type": "execute_result"
    }
   ],
   "source": [
    "np.mean(np.abs(ehull_e3nn_unrelaxed_held_series_0.predicted_dft_e_hull-ehull_e3nn_unrelaxed_held_series_0.dft_e_hull))"
   ]
  },
  {
   "cell_type": "code",
   "execution_count": 136,
   "id": "b789280c",
   "metadata": {},
   "outputs": [
    {
     "data": {
      "text/plain": [
       "0.041169519383700275"
      ]
     },
     "execution_count": 136,
     "metadata": {},
     "output_type": "execute_result"
    }
   ],
   "source": [
    "np.mean(np.abs(ehull_CGCNN_unrelaxed_held_series_0.ensemble_pred-ehull_e3nn_unrelaxed_held_series_0.dft_e_hull))"
   ]
  },
  {
   "cell_type": "code",
   "execution_count": 137,
   "id": "f5fdcb61",
   "metadata": {},
   "outputs": [
    {
     "data": {
      "text/plain": [
       "0.04366807349837776"
      ]
     },
     "execution_count": 137,
     "metadata": {},
     "output_type": "execute_result"
    }
   ],
   "source": [
    "np.mean(np.abs(ehull_CGCNN_unrelaxed_held_series_0.predicted_dft_e_hull-ehull_e3nn_unrelaxed_held_series_0.dft_e_hull))"
   ]
  },
  {
   "cell_type": "code",
   "execution_count": 139,
   "id": "bef948f2",
   "metadata": {},
   "outputs": [],
   "source": [
    "import json\n",
    "\n",
    "# Opening JSON file\n",
    "f = open('AABBO3_degeneracy.json',)\n",
    "   \n",
    "# returns JSON object as \n",
    "# a dictionary\n",
    "data = json.load(f)\n",
    "\n",
    "   \n",
    "# Closing file\n",
    "f.close()\n",
    "\n"
   ]
  },
  {
   "cell_type": "code",
   "execution_count": 141,
   "id": "4cc0dcf1",
   "metadata": {},
   "outputs": [
    {
     "data": {
      "text/plain": [
       "{'A(7:1)_B(7:1)_O24': {'0': 64},\n",
       " 'A(7:1)_B(6:2)_O24': {'0': 96, '1': 96, '2': 32},\n",
       " 'A(7:1)_B(5:3)_O24': {'0': 192, '1': 192, '2': 64},\n",
       " 'A(7:1)_B(4:4)_O24': {'0': 48, '1': 64, '2': 192, '3': 192, '4': 48, '5': 16},\n",
       " 'A(6:2)_B(7:1)_O24': {'0': 96, '1': 96, '2': 32},\n",
       " 'A(6:2)_B(6:2)_O24': {'0': 48,\n",
       "  '1': 96,\n",
       "  '2': 96,\n",
       "  '3': 48,\n",
       "  '4': 48,\n",
       "  '5': 96,\n",
       "  '6': 48,\n",
       "  '7': 48,\n",
       "  '8': 96,\n",
       "  '9': 48,\n",
       "  '10': 48,\n",
       "  '11': 48,\n",
       "  '12': 16},\n",
       " 'A(6:2)_B(5:3)_O24': {'0': 192,\n",
       "  '1': 96,\n",
       "  '2': 96,\n",
       "  '3': 192,\n",
       "  '4': 96,\n",
       "  '5': 96,\n",
       "  '6': 192,\n",
       "  '7': 192,\n",
       "  '8': 96,\n",
       "  '9': 96,\n",
       "  '10': 96,\n",
       "  '11': 96,\n",
       "  '12': 32},\n",
       " 'A(6:2)_B(4:4)_O24': {'0': 48,\n",
       "  '1': 96,\n",
       "  '2': 96,\n",
       "  '3': 192,\n",
       "  '4': 192,\n",
       "  '5': 24,\n",
       "  '6': 24,\n",
       "  '7': 96,\n",
       "  '8': 48,\n",
       "  '9': 24,\n",
       "  '10': 24,\n",
       "  '11': 96,\n",
       "  '12': 192,\n",
       "  '13': 96,\n",
       "  '14': 48,\n",
       "  '15': 96,\n",
       "  '16': 192,\n",
       "  '17': 48,\n",
       "  '18': 24,\n",
       "  '19': 24,\n",
       "  '20': 24,\n",
       "  '21': 32,\n",
       "  '22': 96,\n",
       "  '23': 96,\n",
       "  '24': 24,\n",
       "  '25': 8},\n",
       " 'A(5:3)_B(7:1)_O24': {'0': 192, '1': 192, '2': 64},\n",
       " 'A(5:3)_B(6:2)_O24': {'0': 192,\n",
       "  '1': 96,\n",
       "  '2': 96,\n",
       "  '3': 192,\n",
       "  '4': 96,\n",
       "  '5': 96,\n",
       "  '6': 192,\n",
       "  '7': 192,\n",
       "  '8': 96,\n",
       "  '9': 96,\n",
       "  '10': 96,\n",
       "  '11': 96,\n",
       "  '12': 32},\n",
       " 'A(5:3)_B(5:3)_O24': {'0': 192,\n",
       "  '1': 384,\n",
       "  '2': 384,\n",
       "  '3': 192,\n",
       "  '4': 192,\n",
       "  '5': 384,\n",
       "  '6': 192,\n",
       "  '7': 192,\n",
       "  '8': 384,\n",
       "  '9': 192,\n",
       "  '10': 192,\n",
       "  '11': 192,\n",
       "  '12': 64},\n",
       " 'A(5:3)_B(4:4)_O24': {'0': 48,\n",
       "  '1': 192,\n",
       "  '2': 384,\n",
       "  '3': 192,\n",
       "  '4': 96,\n",
       "  '5': 192,\n",
       "  '6': 384,\n",
       "  '7': 96,\n",
       "  '8': 48,\n",
       "  '9': 48,\n",
       "  '10': 96,\n",
       "  '11': 192,\n",
       "  '12': 192,\n",
       "  '13': 384,\n",
       "  '14': 384,\n",
       "  '15': 48,\n",
       "  '16': 48,\n",
       "  '17': 192,\n",
       "  '18': 96,\n",
       "  '19': 48,\n",
       "  '20': 48,\n",
       "  '21': 64,\n",
       "  '22': 192,\n",
       "  '23': 192,\n",
       "  '24': 48,\n",
       "  '25': 16},\n",
       " 'A(4:4)_B(7:1)_O24': {'0': 48, '1': 64, '2': 192, '3': 192, '4': 48, '5': 16},\n",
       " 'A(4:4)_B(6:2)_O24': {'0': 48,\n",
       "  '1': 24,\n",
       "  '2': 24,\n",
       "  '3': 48,\n",
       "  '4': 24,\n",
       "  '5': 96,\n",
       "  '6': 96,\n",
       "  '7': 32,\n",
       "  '8': 96,\n",
       "  '9': 192,\n",
       "  '10': 192,\n",
       "  '11': 96,\n",
       "  '12': 96,\n",
       "  '13': 192,\n",
       "  '14': 96,\n",
       "  '15': 96,\n",
       "  '16': 192,\n",
       "  '17': 96,\n",
       "  '18': 24,\n",
       "  '19': 48,\n",
       "  '20': 48,\n",
       "  '21': 24,\n",
       "  '22': 24,\n",
       "  '23': 24,\n",
       "  '24': 24,\n",
       "  '25': 8},\n",
       " 'A(4:4)_B(5:3)_O24': {'0': 48,\n",
       "  '1': 96,\n",
       "  '2': 96,\n",
       "  '3': 48,\n",
       "  '4': 48,\n",
       "  '5': 192,\n",
       "  '6': 192,\n",
       "  '7': 64,\n",
       "  '8': 384,\n",
       "  '9': 192,\n",
       "  '10': 192,\n",
       "  '11': 384,\n",
       "  '12': 192,\n",
       "  '13': 192,\n",
       "  '14': 384,\n",
       "  '15': 384,\n",
       "  '16': 192,\n",
       "  '17': 192,\n",
       "  '18': 96,\n",
       "  '19': 48,\n",
       "  '20': 48,\n",
       "  '21': 96,\n",
       "  '22': 48,\n",
       "  '23': 48,\n",
       "  '24': 48,\n",
       "  '25': 16},\n",
       " 'A(4:4)_B(4:4)_O24': {'0': 12,\n",
       "  '1': 48,\n",
       "  '2': 96,\n",
       "  '3': 48,\n",
       "  '4': 24,\n",
       "  '5': 48,\n",
       "  '6': 96,\n",
       "  '7': 24,\n",
       "  '8': 12,\n",
       "  '9': 12,\n",
       "  '10': 48,\n",
       "  '11': 64,\n",
       "  '12': 192,\n",
       "  '13': 192,\n",
       "  '14': 48,\n",
       "  '15': 16,\n",
       "  '16': 96,\n",
       "  '17': 192,\n",
       "  '18': 192,\n",
       "  '19': 384,\n",
       "  '20': 384,\n",
       "  '21': 48,\n",
       "  '22': 48,\n",
       "  '23': 192,\n",
       "  '24': 96,\n",
       "  '25': 48,\n",
       "  '26': 48,\n",
       "  '27': 192,\n",
       "  '28': 384,\n",
       "  '29': 192,\n",
       "  '30': 96,\n",
       "  '31': 192,\n",
       "  '32': 384,\n",
       "  '33': 96,\n",
       "  '34': 48,\n",
       "  '35': 48,\n",
       "  '36': 24,\n",
       "  '37': 48,\n",
       "  '38': 48,\n",
       "  '39': 96,\n",
       "  '40': 96,\n",
       "  '41': 12,\n",
       "  '42': 12,\n",
       "  '43': 48,\n",
       "  '44': 24,\n",
       "  '45': 12,\n",
       "  '46': 12,\n",
       "  '47': 16,\n",
       "  '48': 48,\n",
       "  '49': 48,\n",
       "  '50': 12,\n",
       "  '51': 4}}"
      ]
     },
     "execution_count": 141,
     "metadata": {},
     "output_type": "execute_result"
    }
   ],
   "source": [
    "data"
   ]
  },
  {
   "cell_type": "code",
   "execution_count": 163,
   "id": "ab344d44",
   "metadata": {},
   "outputs": [],
   "source": [
    "def get_weighted_distribution(comp,O2Ps,energies,just_min=False):\n",
    "    #print(O2Ps.shape)\n",
    "    #print(comp)\n",
    "    \n",
    "    O2Ps = np.stack(list(O2Ps), axis=0)\n",
    "    if just_min == False:\n",
    "        kbT = 1300*0.0000861733\n",
    "    else:\n",
    "        kbT = 100*0.0000861733\n",
    "        \n",
    "    As = comp[\"sites\"][\"A\"]\n",
    "\n",
    "    A_num_1 = max(int(comp[\"composition\"][As[0]]),int(comp[\"composition\"][As[1]]))\n",
    "    A_num_2 = min(int(comp[\"composition\"][As[0]]),int(comp[\"composition\"][As[1]]))\n",
    "    A_string = \"A(\" + str(A_num_1)+\":\"+str(A_num_2)+\")\"\n",
    "    degen = np.asarray(list(data[A_string+'_B(4:4)_O24'].values()))\n",
    "    \n",
    "   \n",
    "    \n",
    "    energies = np.asarray(energies)\n",
    "    energies -= energies.min()\n",
    "    #print(degen.shape)\n",
    "    #print(energies.shape)\n",
    "    weights = np.exp(-(energies*40.0)/kbT)*degen\n",
    "    weights /= np.sum(weights)\n",
    "    all_weights = []\n",
    "    for i in range(len(weights)):\n",
    "        all_weights.append(np.ones(24)*weights[i])\n",
    "    \n",
    "    \n",
    "    all_weights = np.asarray(all_weights)\n",
    "    O2P_vals = O2Ps.ravel()\n",
    "    flat_weights = all_weights.flatten()\n",
    "    \n",
    "    \n",
    "    #print(flat_weights.shape)\n",
    "    #print(O2P_vals.shape)\n",
    "    \n",
    "    bins = np.linspace(-5.0,0.5,30)\n",
    "    \n",
    "    val,bins,_ = plt.hist(O2P_vals,bins=bins,weights=flat_weights,density=True)\n",
    "    \n",
    "    return val"
   ]
  },
  {
   "cell_type": "code",
   "execution_count": 167,
   "id": "6cedec0c",
   "metadata": {},
   "outputs": [
    {
     "name": "stdout",
     "output_type": "stream",
     "text": [
      "['Mg1Ni4O24Pr7V4', 'Co4Fe4La7O24Sr1', 'Al4Ba7K1O24Ti4', 'In4La1Mg4O24Y7', 'Co4Fe4La4O24Sr4', 'In4La7Mg4O24Y1', 'Mg7Ni4O24Pr1V4', 'In4La5Mg4O24Y3', 'Al4Ba3K5O24Ti4', 'Bi1Cu4La7Mo4O24', 'In4La3Mg4O24Y5', 'Mg6Ni4O24Pr2V4', 'La3Ni4O24Pr5Y4', 'La7Ni4O24Pr1Y4', 'Mg4Ni4O24Pr4V4', 'Bi7Cu4La1Mo4O24', 'Bi3Cu4La5Mo4O24', 'La2Ni4O24Pr6Y4', 'Co4Fe4La5O24Sr3', 'Co4Fe4La3O24Sr5', 'La1Ni4O24Pr7Y4', 'Al4Ba5K3O24Ti4', 'Bi4Cu4La4Mo4O24', 'Mg5Ni4O24Pr3V4', 'La6Ni4O24Pr2Y4', 'Co4Fe4La2O24Sr6', 'Bi5Cu4La3Mo4O24', 'Al4Ba2K6O24Ti4', 'Co4Fe4La6O24Sr2', 'In4La6Mg4O24Y2', 'Bi2Cu4La6Mo4O24', 'Mg2Ni4O24Pr6V4', 'In4La2Mg4O24Y6', 'Al4Ba4K4O24Ti4', 'La5Ni4O24Pr3Y4', 'Mg3Ni4O24Pr5V4', 'Al4Ba1K7O24Ti4', 'La4Ni4O24Pr4Y4', 'Co4Fe4La1O24Sr7', 'In4La4Mg4O24Y4', 'Al4Ba6K2O24Ti4', 'Bi6Cu4La2Mo4O24']\n"
     ]
    },
    {
     "data": {
      "image/png": "[encoded data removed]",
      "text/plain": [
       "<Figure size 640x480 with 1 Axes>"
      ]
     },
     "metadata": {},
     "output_type": "display_data"
    }
   ],
   "source": [
    "dft_distributions = []\n",
    "\n",
    "uniform_distributions = []\n",
    "\n",
    "\n",
    "e3nn_dft_distributions = []\n",
    "e3nn_ensemble_dft_distributions = []\n",
    "\n",
    "e3nn_e3nn_distributions = []\n",
    "e3nn_ensemble_e3nn_distributions = []\n",
    "\n",
    "e3nn_e3nn_ensemble_distributions = []\n",
    "e3nn_ensemble_e3nn_ensemble_distributions = []\n",
    "\n",
    "CGCNN_dft_distributions = []\n",
    "CGCNN_ensemble_dft_distributions = []\n",
    "\n",
    "CGCNN_CGCNN_distributions = []\n",
    "CGCNN_ensemble_CGCNN_distributions = []\n",
    "\n",
    "CGCNN_CGCNN_ensemble_distributions = []\n",
    "CGCNN_ensemble_CGCNN_ensemble_distributions = []\n",
    "\n",
    "\n",
    "formulas = list(set(ehull_e3nn_unrelaxed_held_series_0.formula))\n",
    "print(formulas)\n",
    "for i in range(10,len(formulas)):\n",
    "    curr_formula = formulas[i]\n",
    "    comp = ehull_e3nn_unrelaxed_held_series_0.iloc[i].composition\n",
    "\n",
    "    series_filt_energy_e3nn = ehull_e3nn_unrelaxed_held_series_0[ehull_e3nn_unrelaxed_held_series_0.formula == curr_formula]\n",
    "    series_filt_energy_CGCNN = ehull_CGCNN_unrelaxed_held_series_0[ehull_CGCNN_unrelaxed_held_series_0.formula == curr_formula]\n",
    "\n",
    "    series_filt_O2P_e3nn = O2P_e3nn_unrelaxed_held_series_0[O2P_e3nn_unrelaxed_held_series_0.formula == curr_formula]\n",
    "    series_filt_O2P_CGCNN = O2P_CGCNN_unrelaxed_held_series_0[O2P_CGCNN_unrelaxed_held_series_0.formula == curr_formula]\n",
    "\n",
    "    As = comp[\"sites\"][\"A\"]\n",
    "\n",
    "    A_num_1 = max(int(comp[\"composition\"][As[0]]),int(comp[\"composition\"][As[1]]))\n",
    "    A_num_2 = min(int(comp[\"composition\"][As[0]]),int(comp[\"composition\"][As[1]]))\n",
    "    A_string = \"A(\" + str(A_num_1)+\":\"+str(A_num_2)+\")\"\n",
    "    degen = np.asarray(list(data[A_string+'_B(4:4)_O24'].values()))\n",
    "    \n",
    "    if degen.shape[0] == len(series_filt_energy_e3nn):\n",
    "        #print(len(series_filt_energy_e3nn))\n",
    "\n",
    "        #print(\"HERE\")\n",
    "        #print(B_sites_filt_O2P_e3nn)\n",
    "        #print(\"HERE\")\n",
    "        #print(B_sites_filt_O2P_e3nn)\n",
    "        #print(\"HERE\")\n",
    "        #print(B_sites_filt_O2P_CGCNN)\n",
    "        #print(\"HERE\")\n",
    "\n",
    "        series_filt_energy_e3nn = series_filt_energy_e3nn.sort_values(by=['unrelaxed_cryst_id'])\n",
    "        series_filt_energy_CGCNN = series_filt_energy_CGCNN.sort_values(by=['unrelaxed_cryst_id'])\n",
    "        series_filt_O2P_e3nn = series_filt_O2P_e3nn.sort_values(by=['unrelaxed_cryst_id'])\n",
    "        series_filt_O2P_CGCNN = series_filt_O2P_CGCNN.sort_values(by=['unrelaxed_cryst_id'])\n",
    "\n",
    "            #O2Ps = B_sites_filt.O2P_dist\n",
    "            #e3nn_energies = B_sites_filt.e3nn_energy\n",
    "            #CGCNN_energies = B_sites_filt.CGCNN_energy\n",
    "            #m3gnet_energies = B_sites_filt.m3Gnet_energy\n",
    "            #dft_energies = B_sites_filt.dft_e_hull\n",
    "\n",
    "\n",
    "            #dft_distribution = get_weighted_distribution(O2Ps,dft_energies)\n",
    "            #CGCNN_distribution = get_weighted_distribution(O2Ps,CGCNN_energies)\n",
    "            #e3nn_distribution = get_weighted_distribution(O2Ps,e3nn_energies)\n",
    "            #m3gnet_distribution = get_weighted_distribution(O2Ps,m3gnet_energies)\n",
    "            #uniform_distribution = get_weighted_distribution(O2Ps,np.ones(6))\n",
    "\n",
    "        dft_distribution = get_weighted_distribution(comp,series_filt_O2P_e3nn.per_site_Op_band,series_filt_energy_e3nn.dft_e_hull)\n",
    "        uniform_distribution = get_weighted_distribution(comp,series_filt_O2P_e3nn.per_site_Op_band,np.ones(len(series_filt_energy_e3nn.dft_e_hull)))\n",
    "\n",
    "        e3nn_dft_distribution = get_weighted_distribution(comp,series_filt_O2P_e3nn.per_site_Op_band,series_filt_energy_e3nn.predicted_dft_e_hull)\n",
    "        e3nn_ensemble_dft_distribution = get_weighted_distribution(comp,series_filt_O2P_e3nn.per_site_Op_band,series_filt_energy_e3nn.ensemble_pred)\n",
    "        e3nn_e3nn_distribution = get_weighted_distribution(comp,series_filt_O2P_e3nn.predicted_Op_band,series_filt_energy_e3nn.predicted_dft_e_hull)\n",
    "        e3nn_ensemble_e3nn_distribution = get_weighted_distribution(comp,series_filt_O2P_e3nn.predicted_Op_band,series_filt_energy_e3nn.ensemble_pred)\n",
    "        e3nn_e3nn_ensemble_distribution = get_weighted_distribution(comp,series_filt_O2P_e3nn.ensemble_pred,series_filt_energy_e3nn.predicted_dft_e_hull)\n",
    "        e3nn_ensemble_e3nn_ensemble_distribution = get_weighted_distribution(comp,series_filt_O2P_e3nn.ensemble_pred,series_filt_energy_e3nn.ensemble_pred)\n",
    "\n",
    "        CGCNN_dft_distribution = get_weighted_distribution(comp,series_filt_O2P_e3nn.per_site_Op_band,series_filt_energy_CGCNN.predicted_dft_e_hull)\n",
    "        CGCNN_ensemble_dft_distribution = get_weighted_distribution(comp,series_filt_O2P_e3nn.per_site_Op_band,series_filt_energy_CGCNN.ensemble_pred)\n",
    "        CGCNN_CGCNN_distribution = get_weighted_distribution(comp,series_filt_O2P_CGCNN.predicted_Op_band,series_filt_energy_CGCNN.predicted_dft_e_hull)\n",
    "        CGCNN_ensemble_CGCNN_distribution = get_weighted_distribution(comp,series_filt_O2P_CGCNN.predicted_Op_band,series_filt_energy_CGCNN.ensemble_pred)\n",
    "        CGCNN_CGCNN_ensemble_distribution = get_weighted_distribution(comp,series_filt_O2P_CGCNN.ensemble_pred,series_filt_energy_CGCNN.predicted_dft_e_hull)\n",
    "        CGCNN_ensemble_CGCNN_ensemble_distribution = get_weighted_distribution(comp,series_filt_O2P_CGCNN.ensemble_pred,series_filt_energy_CGCNN.ensemble_pred)\n",
    "\n",
    "        dft_distributions.append(dft_distribution)\n",
    "        uniform_distributions.append(uniform_distribution)\n",
    "\n",
    "        e3nn_dft_distributions.append(e3nn_dft_distribution)\n",
    "        e3nn_ensemble_dft_distributions.append(e3nn_ensemble_dft_distribution)\n",
    "        e3nn_e3nn_distributions.append(e3nn_e3nn_distribution)\n",
    "        e3nn_ensemble_e3nn_distributions.append(e3nn_ensemble_e3nn_distribution)\n",
    "        e3nn_e3nn_ensemble_distributions.append(e3nn_e3nn_ensemble_distribution)\n",
    "        e3nn_ensemble_e3nn_ensemble_distributions.append(e3nn_ensemble_e3nn_ensemble_distribution)\n",
    "\n",
    "        CGCNN_dft_distributions.append(CGCNN_dft_distribution)\n",
    "        CGCNN_ensemble_dft_distributions.append(CGCNN_ensemble_dft_distribution)\n",
    "        CGCNN_CGCNN_distributions.append(CGCNN_CGCNN_distribution)\n",
    "        CGCNN_ensemble_CGCNN_distributions.append(CGCNN_ensemble_CGCNN_distribution)\n",
    "        CGCNN_CGCNN_ensemble_distributions.append(CGCNN_CGCNN_ensemble_distribution)\n",
    "        CGCNN_ensemble_CGCNN_ensemble_distributions.append(CGCNN_ensemble_CGCNN_ensemble_distribution)"
   ]
  },
  {
   "cell_type": "code",
   "execution_count": 179,
   "id": "7a60bd2b",
   "metadata": {},
   "outputs": [
    {
     "data": {
      "text/plain": [
       "(2, 29)"
      ]
     },
     "execution_count": 179,
     "metadata": {},
     "output_type": "execute_result"
    }
   ],
   "source": [
    "dft_distributions.shape"
   ]
  },
  {
   "cell_type": "code",
   "execution_count": 169,
   "id": "c9ed9237",
   "metadata": {},
   "outputs": [],
   "source": [
    "dft_distributions = np.stack(dft_distributions,axis=0)\n",
    "uniform_distributions = np.stack(uniform_distributions,axis=0)\n",
    "\n",
    "e3nn_dft_distributions = np.stack(e3nn_dft_distributions,axis=0)\n",
    "e3nn_ensemble_dft_distributions = np.stack(e3nn_ensemble_dft_distributions,axis=0)\n",
    "e3nn_e3nn_distributions = np.stack(e3nn_e3nn_distributions,axis=0)\n",
    "e3nn_ensemble_e3nn_distributions = np.stack(e3nn_ensemble_e3nn_distributions,axis=0)\n",
    "e3nn_e3nn_ensemble_distributions = np.stack(e3nn_e3nn_ensemble_distributions,axis=0)\n",
    "e3nn_ensemble_e3nn_ensemble_distributions = np.stack(e3nn_ensemble_e3nn_ensemble_distributions,axis=0)\n",
    "\n",
    "\n",
    "CGCNN_dft_distributions = np.stack(CGCNN_dft_distributions,axis=0)\n",
    "CGCNN_ensemble_dft_distributions = np.stack(CGCNN_ensemble_dft_distributions,axis=0)\n",
    "CGCNN_CGCNN_distributions = np.stack(CGCNN_CGCNN_distributions,axis=0)\n",
    "CGCNN_ensemble_CGCNN_distributions = np.stack(CGCNN_ensemble_CGCNN_distributions,axis=0)\n",
    "CGCNN_CGCNN_ensemble_distributions = np.stack(CGCNN_CGCNN_ensemble_distributions,axis=0)\n",
    "CGCNN_ensemble_CGCNN_ensemble_distributions = np.stack(CGCNN_ensemble_CGCNN_ensemble_distributions,axis=0)"
   ]
  },
  {
   "cell_type": "code",
   "execution_count": 170,
   "id": "0c5e07e0",
   "metadata": {},
   "outputs": [
    {
     "data": {
      "text/plain": [
       "0.08403139993831994"
      ]
     },
     "execution_count": 170,
     "metadata": {},
     "output_type": "execute_result"
    }
   ],
   "source": [
    "np.mean(np.abs(uniform_distributions-dft_distributions))\n"
   ]
  },
  {
   "cell_type": "code",
   "execution_count": 171,
   "id": "6a74e600",
   "metadata": {},
   "outputs": [
    {
     "data": {
      "text/plain": [
       "0.08769534221510976"
      ]
     },
     "execution_count": 171,
     "metadata": {},
     "output_type": "execute_result"
    }
   ],
   "source": [
    "np.mean(np.abs(CGCNN_dft_distributions-dft_distributions))\n"
   ]
  },
  {
   "cell_type": "code",
   "execution_count": 172,
   "id": "4b966f2a",
   "metadata": {},
   "outputs": [
    {
     "data": {
      "text/plain": [
       "0.10575930733388275"
      ]
     },
     "execution_count": 172,
     "metadata": {},
     "output_type": "execute_result"
    }
   ],
   "source": [
    "np.mean(np.abs(e3nn_dft_distributions-dft_distributions))\n"
   ]
  },
  {
   "cell_type": "code",
   "execution_count": 173,
   "id": "04c2154c",
   "metadata": {},
   "outputs": [
    {
     "data": {
      "text/plain": [
       "0.08406505850837896"
      ]
     },
     "execution_count": 173,
     "metadata": {},
     "output_type": "execute_result"
    }
   ],
   "source": [
    "np.mean(np.abs(CGCNN_ensemble_dft_distributions-dft_distributions))\n"
   ]
  },
  {
   "cell_type": "code",
   "execution_count": 174,
   "id": "56417dcb",
   "metadata": {},
   "outputs": [
    {
     "data": {
      "text/plain": [
       "0.09580916477658599"
      ]
     },
     "execution_count": 174,
     "metadata": {},
     "output_type": "execute_result"
    }
   ],
   "source": [
    "np.mean(np.abs(e3nn_ensemble_dft_distributions-dft_distributions))\n"
   ]
  },
  {
   "cell_type": "code",
   "execution_count": 175,
   "id": "1a138f12",
   "metadata": {},
   "outputs": [
    {
     "data": {
      "text/plain": [
       "0.1835394729873052"
      ]
     },
     "execution_count": 175,
     "metadata": {},
     "output_type": "execute_result"
    }
   ],
   "source": [
    "np.mean(np.abs(CGCNN_CGCNN_distributions-dft_distributions))\n"
   ]
  },
  {
   "cell_type": "code",
   "execution_count": 176,
   "id": "f07630ce",
   "metadata": {},
   "outputs": [
    {
     "data": {
      "text/plain": [
       "0.16589020546869485"
      ]
     },
     "execution_count": 176,
     "metadata": {},
     "output_type": "execute_result"
    }
   ],
   "source": [
    "np.mean(np.abs(e3nn_e3nn_distributions-dft_distributions))\n"
   ]
  },
  {
   "cell_type": "code",
   "execution_count": 177,
   "id": "541b2206",
   "metadata": {},
   "outputs": [
    {
     "data": {
      "text/plain": [
       "0.14692387504119436"
      ]
     },
     "execution_count": 177,
     "metadata": {},
     "output_type": "execute_result"
    }
   ],
   "source": [
    "np.mean(np.abs(CGCNN_ensemble_CGCNN_ensemble_distributions-dft_distributions))\n"
   ]
  },
  {
   "cell_type": "code",
   "execution_count": 178,
   "id": "46ada49d",
   "metadata": {},
   "outputs": [
    {
     "data": {
      "text/plain": [
       "0.1709444231441441"
      ]
     },
     "execution_count": 178,
     "metadata": {},
     "output_type": "execute_result"
    }
   ],
   "source": [
    "np.mean(np.abs(e3nn_ensemble_e3nn_ensemble_distributions-dft_distributions))\n"
   ]
  },
  {
   "cell_type": "code",
   "execution_count": null,
   "id": "2511814a",
   "metadata": {},
   "outputs": [],
   "source": []
  }
 ],
 "metadata": {
  "kernelspec": {
   "display_name": "Perovskite_ML_Environment",
   "language": "python",
   "name": "perovskite_ml_environment"
  },
  "language_info": {
   "codemirror_mode": {
    "name": "ipython",
    "version": 3
   },
   "file_extension": ".py",
   "mimetype": "text/x-python",
   "name": "python",
   "nbconvert_exporter": "python",
   "pygments_lexer": "ipython3",
   "version": "3.10.11"
  }
 },
 "nbformat": 4,
 "nbformat_minor": 5
}
