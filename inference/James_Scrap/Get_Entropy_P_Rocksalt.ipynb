{
 "cells": [
  {
   "cell_type": "code",
   "execution_count": 56,
   "id": "4ba2b88d",
   "metadata": {},
   "outputs": [],
   "source": [
    "import pandas as pd\n",
    "import matplotlib.pyplot as plt\n",
    "import numpy as np"
   ]
  },
  {
   "cell_type": "code",
   "execution_count": 57,
   "id": "c8e1a6b0",
   "metadata": {},
   "outputs": [],
   "source": [
    "held_out_B_data = pd.read_json(\"../../best_models/e3nn/dft_e_hull_htvs_data_unrelaxed_e3nn/837627/best_0/holdout_set_B_sites_predictions.json\")\n"
   ]
  },
  {
   "cell_type": "code",
   "execution_count": 58,
   "id": "3e09a424",
   "metadata": {},
   "outputs": [
    {
     "data": {
      "text/html": [
       "<div>\n",
       "<style scoped>\n",
       "    .dataframe tbody tr th:only-of-type {\n",
       "        vertical-align: middle;\n",
       "    }\n",
       "\n",
       "    .dataframe tbody tr th {\n",
       "        vertical-align: top;\n",
       "    }\n",
       "\n",
       "    .dataframe thead th {\n",
       "        text-align: right;\n",
       "    }\n",
       "</style>\n",
       "<table border=\"1\" class=\"dataframe\">\n",
       "  <thead>\n",
       "    <tr style=\"text-align: right;\">\n",
       "      <th></th>\n",
       "      <th>formula</th>\n",
       "      <th>framework</th>\n",
       "      <th>composition</th>\n",
       "      <th>n_atoms_unrelaxed</th>\n",
       "      <th>n_atoms_opt</th>\n",
       "      <th>unrelaxed_cryst_id</th>\n",
       "      <th>unrelaxed_struct</th>\n",
       "      <th>opt_cryst_id</th>\n",
       "      <th>opt_struct</th>\n",
       "      <th>es_job_id</th>\n",
       "      <th>dft_energy</th>\n",
       "      <th>dft_energy_per_atom</th>\n",
       "      <th>dft_e_hull</th>\n",
       "      <th>Op_band_center</th>\n",
       "      <th>M3Gnet_relaxed_struct</th>\n",
       "      <th>M3Gnet_relaxed_energy</th>\n",
       "      <th>M3Gnet_relaxed_energy_per_atom</th>\n",
       "      <th>idx</th>\n",
       "      <th>predicted_dft_e_hull</th>\n",
       "    </tr>\n",
       "  </thead>\n",
       "  <tbody>\n",
       "    <tr>\n",
       "      <th>0</th>\n",
       "      <td>Ca8Fe4Mn4O24</td>\n",
       "      <td>CaFe0.500Mn0.500O3</td>\n",
       "      <td>{'sites': {'A': ['Ca'], 'B': ['Mn', 'Fe'], 'X'...</td>\n",
       "      <td>40</td>\n",
       "      <td>40</td>\n",
       "      <td>222998128</td>\n",
       "      <td>{'@module': 'pymatgen.core.structure', '@class...</td>\n",
       "      <td>423959398</td>\n",
       "      <td>{'@module': 'pymatgen.core.structure', '@class...</td>\n",
       "      <td>123103556</td>\n",
       "      <td>-265.489796</td>\n",
       "      <td>-6.637245</td>\n",
       "      <td>0.074200</td>\n",
       "      <td>-1.389153</td>\n",
       "      <td>{'@module': 'pymatgen.core.structure', '@class...</td>\n",
       "      <td>-266.711243</td>\n",
       "      <td>-6.667781</td>\n",
       "      <td>0</td>\n",
       "      <td>0.077370</td>\n",
       "    </tr>\n",
       "    <tr>\n",
       "      <th>1</th>\n",
       "      <td>Ca8Fe4Mn4O24</td>\n",
       "      <td>CaFe0.500Mn0.500O3</td>\n",
       "      <td>{'sites': {'A': ['Ca'], 'B': ['Mn', 'Fe'], 'X'...</td>\n",
       "      <td>40</td>\n",
       "      <td>40</td>\n",
       "      <td>222998125</td>\n",
       "      <td>{'@module': 'pymatgen.core.structure', '@class...</td>\n",
       "      <td>421466237</td>\n",
       "      <td>{'@module': 'pymatgen.core.structure', '@class...</td>\n",
       "      <td>122979400</td>\n",
       "      <td>-265.627054</td>\n",
       "      <td>-6.640676</td>\n",
       "      <td>0.070768</td>\n",
       "      <td>-1.420044</td>\n",
       "      <td>{'@module': 'pymatgen.core.structure', '@class...</td>\n",
       "      <td>-266.456848</td>\n",
       "      <td>-6.661421</td>\n",
       "      <td>1</td>\n",
       "      <td>0.076950</td>\n",
       "    </tr>\n",
       "    <tr>\n",
       "      <th>2</th>\n",
       "      <td>Ca8Fe4Mn4O24</td>\n",
       "      <td>CaFe0.500Mn0.500O3</td>\n",
       "      <td>{'sites': {'A': ['Ca'], 'B': ['Mn', 'Fe'], 'X'...</td>\n",
       "      <td>40</td>\n",
       "      <td>40</td>\n",
       "      <td>222998126</td>\n",
       "      <td>{'@module': 'pymatgen.core.structure', '@class...</td>\n",
       "      <td>421466235</td>\n",
       "      <td>{'@module': 'pymatgen.core.structure', '@class...</td>\n",
       "      <td>122979657</td>\n",
       "      <td>-265.542706</td>\n",
       "      <td>-6.638568</td>\n",
       "      <td>0.072877</td>\n",
       "      <td>-1.424778</td>\n",
       "      <td>{'@module': 'pymatgen.core.structure', '@class...</td>\n",
       "      <td>-266.213867</td>\n",
       "      <td>-6.655347</td>\n",
       "      <td>2</td>\n",
       "      <td>0.076547</td>\n",
       "    </tr>\n",
       "    <tr>\n",
       "      <th>3</th>\n",
       "      <td>Ca8Fe4Mn4O24</td>\n",
       "      <td>CaFe0.500Mn0.500O3</td>\n",
       "      <td>{'sites': {'A': ['Ca'], 'B': ['Mn', 'Fe'], 'X'...</td>\n",
       "      <td>40</td>\n",
       "      <td>40</td>\n",
       "      <td>222998127</td>\n",
       "      <td>{'@module': 'pymatgen.core.structure', '@class...</td>\n",
       "      <td>421466263</td>\n",
       "      <td>{'@module': 'pymatgen.core.structure', '@class...</td>\n",
       "      <td>122979417</td>\n",
       "      <td>-265.631202</td>\n",
       "      <td>-6.640780</td>\n",
       "      <td>0.070665</td>\n",
       "      <td>-1.404994</td>\n",
       "      <td>{'@module': 'pymatgen.core.structure', '@class...</td>\n",
       "      <td>-264.671021</td>\n",
       "      <td>-6.616776</td>\n",
       "      <td>3</td>\n",
       "      <td>0.077123</td>\n",
       "    </tr>\n",
       "    <tr>\n",
       "      <th>4</th>\n",
       "      <td>Ca8Fe4Mn4O24</td>\n",
       "      <td>CaFe0.500Mn0.500O3</td>\n",
       "      <td>{'sites': {'A': ['Ca'], 'B': ['Mn', 'Fe'], 'X'...</td>\n",
       "      <td>40</td>\n",
       "      <td>40</td>\n",
       "      <td>222998129</td>\n",
       "      <td>{'@module': 'pymatgen.core.structure', '@class...</td>\n",
       "      <td>421466289</td>\n",
       "      <td>{'@module': 'pymatgen.core.structure', '@class...</td>\n",
       "      <td>122979438</td>\n",
       "      <td>-265.628562</td>\n",
       "      <td>-6.640714</td>\n",
       "      <td>0.070731</td>\n",
       "      <td>-1.381979</td>\n",
       "      <td>{'@module': 'pymatgen.core.structure', '@class...</td>\n",
       "      <td>-266.308624</td>\n",
       "      <td>-6.657716</td>\n",
       "      <td>4</td>\n",
       "      <td>0.077057</td>\n",
       "    </tr>\n",
       "    <tr>\n",
       "      <th>...</th>\n",
       "      <td>...</td>\n",
       "      <td>...</td>\n",
       "      <td>...</td>\n",
       "      <td>...</td>\n",
       "      <td>...</td>\n",
       "      <td>...</td>\n",
       "      <td>...</td>\n",
       "      <td>...</td>\n",
       "      <td>...</td>\n",
       "      <td>...</td>\n",
       "      <td>...</td>\n",
       "      <td>...</td>\n",
       "      <td>...</td>\n",
       "      <td>...</td>\n",
       "      <td>...</td>\n",
       "      <td>...</td>\n",
       "      <td>...</td>\n",
       "      <td>...</td>\n",
       "      <td>...</td>\n",
       "    </tr>\n",
       "    <tr>\n",
       "      <th>595</th>\n",
       "      <td>Mn4Ni4O24Tb8</td>\n",
       "      <td>TbMn0.500Ni0.500O3</td>\n",
       "      <td>{'sites': {'A': ['Tb'], 'B': ['Ni', 'Mn'], 'X'...</td>\n",
       "      <td>40</td>\n",
       "      <td>40</td>\n",
       "      <td>272062436</td>\n",
       "      <td>{'@module': 'pymatgen.core.structure', '@class...</td>\n",
       "      <td>421446419</td>\n",
       "      <td>{'@module': 'pymatgen.core.structure', '@class...</td>\n",
       "      <td>122979607</td>\n",
       "      <td>-291.947011</td>\n",
       "      <td>-7.298675</td>\n",
       "      <td>0.083433</td>\n",
       "      <td>-1.855526</td>\n",
       "      <td>{'@module': 'pymatgen.core.structure', '@class...</td>\n",
       "      <td>-289.953644</td>\n",
       "      <td>-7.248841</td>\n",
       "      <td>595</td>\n",
       "      <td>0.100901</td>\n",
       "    </tr>\n",
       "    <tr>\n",
       "      <th>596</th>\n",
       "      <td>Mn4Ni4O24Tb8</td>\n",
       "      <td>TbMn0.500Ni0.500O3</td>\n",
       "      <td>{'sites': {'A': ['Tb'], 'B': ['Ni', 'Mn'], 'X'...</td>\n",
       "      <td>40</td>\n",
       "      <td>40</td>\n",
       "      <td>272062439</td>\n",
       "      <td>{'@module': 'pymatgen.core.structure', '@class...</td>\n",
       "      <td>421459053</td>\n",
       "      <td>{'@module': 'pymatgen.core.structure', '@class...</td>\n",
       "      <td>122979241</td>\n",
       "      <td>-293.275698</td>\n",
       "      <td>-7.331892</td>\n",
       "      <td>0.050215</td>\n",
       "      <td>-1.358484</td>\n",
       "      <td>{'@module': 'pymatgen.core.structure', '@class...</td>\n",
       "      <td>-290.115479</td>\n",
       "      <td>-7.252887</td>\n",
       "      <td>596</td>\n",
       "      <td>0.078920</td>\n",
       "    </tr>\n",
       "    <tr>\n",
       "      <th>597</th>\n",
       "      <td>Mn4Ni4O24Tb8</td>\n",
       "      <td>TbMn0.500Ni0.500O3</td>\n",
       "      <td>{'sites': {'A': ['Tb'], 'B': ['Ni', 'Mn'], 'X'...</td>\n",
       "      <td>40</td>\n",
       "      <td>40</td>\n",
       "      <td>272062435</td>\n",
       "      <td>{'@module': 'pymatgen.core.structure', '@class...</td>\n",
       "      <td>421464614</td>\n",
       "      <td>{'@module': 'pymatgen.core.structure', '@class...</td>\n",
       "      <td>122979281</td>\n",
       "      <td>-291.822920</td>\n",
       "      <td>-7.295573</td>\n",
       "      <td>0.086535</td>\n",
       "      <td>-1.938487</td>\n",
       "      <td>{'@module': 'pymatgen.core.structure', '@class...</td>\n",
       "      <td>-291.638702</td>\n",
       "      <td>-7.290968</td>\n",
       "      <td>597</td>\n",
       "      <td>0.100350</td>\n",
       "    </tr>\n",
       "    <tr>\n",
       "      <th>598</th>\n",
       "      <td>Mn4Ni4O24Tb8</td>\n",
       "      <td>TbMn0.500Ni0.500O3</td>\n",
       "      <td>{'sites': {'A': ['Tb'], 'B': ['Ni', 'Mn'], 'X'...</td>\n",
       "      <td>40</td>\n",
       "      <td>40</td>\n",
       "      <td>272062438</td>\n",
       "      <td>{'@module': 'pymatgen.core.structure', '@class...</td>\n",
       "      <td>421446230</td>\n",
       "      <td>{'@module': 'pymatgen.core.structure', '@class...</td>\n",
       "      <td>122979130</td>\n",
       "      <td>-292.317225</td>\n",
       "      <td>-7.307931</td>\n",
       "      <td>0.074177</td>\n",
       "      <td>-1.890348</td>\n",
       "      <td>{'@module': 'pymatgen.core.structure', '@class...</td>\n",
       "      <td>-292.125397</td>\n",
       "      <td>-7.303135</td>\n",
       "      <td>598</td>\n",
       "      <td>0.089636</td>\n",
       "    </tr>\n",
       "    <tr>\n",
       "      <th>599</th>\n",
       "      <td>Mn4Ni4O24Tb8</td>\n",
       "      <td>TbMn0.500Ni0.500O3</td>\n",
       "      <td>{'sites': {'A': ['Tb'], 'B': ['Ni', 'Mn'], 'X'...</td>\n",
       "      <td>40</td>\n",
       "      <td>40</td>\n",
       "      <td>272062434</td>\n",
       "      <td>{'@module': 'pymatgen.core.structure', '@class...</td>\n",
       "      <td>421466265</td>\n",
       "      <td>{'@module': 'pymatgen.core.structure', '@class...</td>\n",
       "      <td>122979419</td>\n",
       "      <td>-291.589413</td>\n",
       "      <td>-7.289735</td>\n",
       "      <td>0.092373</td>\n",
       "      <td>-1.874410</td>\n",
       "      <td>{'@module': 'pymatgen.core.structure', '@class...</td>\n",
       "      <td>-291.543457</td>\n",
       "      <td>-7.288586</td>\n",
       "      <td>599</td>\n",
       "      <td>0.110649</td>\n",
       "    </tr>\n",
       "  </tbody>\n",
       "</table>\n",
       "<p>600 rows × 19 columns</p>\n",
       "</div>"
      ],
      "text/plain": [
       "          formula           framework  \\\n",
       "0    Ca8Fe4Mn4O24  CaFe0.500Mn0.500O3   \n",
       "1    Ca8Fe4Mn4O24  CaFe0.500Mn0.500O3   \n",
       "2    Ca8Fe4Mn4O24  CaFe0.500Mn0.500O3   \n",
       "3    Ca8Fe4Mn4O24  CaFe0.500Mn0.500O3   \n",
       "4    Ca8Fe4Mn4O24  CaFe0.500Mn0.500O3   \n",
       "..            ...                 ...   \n",
       "595  Mn4Ni4O24Tb8  TbMn0.500Ni0.500O3   \n",
       "596  Mn4Ni4O24Tb8  TbMn0.500Ni0.500O3   \n",
       "597  Mn4Ni4O24Tb8  TbMn0.500Ni0.500O3   \n",
       "598  Mn4Ni4O24Tb8  TbMn0.500Ni0.500O3   \n",
       "599  Mn4Ni4O24Tb8  TbMn0.500Ni0.500O3   \n",
       "\n",
       "                                           composition  n_atoms_unrelaxed  \\\n",
       "0    {'sites': {'A': ['Ca'], 'B': ['Mn', 'Fe'], 'X'...                 40   \n",
       "1    {'sites': {'A': ['Ca'], 'B': ['Mn', 'Fe'], 'X'...                 40   \n",
       "2    {'sites': {'A': ['Ca'], 'B': ['Mn', 'Fe'], 'X'...                 40   \n",
       "3    {'sites': {'A': ['Ca'], 'B': ['Mn', 'Fe'], 'X'...                 40   \n",
       "4    {'sites': {'A': ['Ca'], 'B': ['Mn', 'Fe'], 'X'...                 40   \n",
       "..                                                 ...                ...   \n",
       "595  {'sites': {'A': ['Tb'], 'B': ['Ni', 'Mn'], 'X'...                 40   \n",
       "596  {'sites': {'A': ['Tb'], 'B': ['Ni', 'Mn'], 'X'...                 40   \n",
       "597  {'sites': {'A': ['Tb'], 'B': ['Ni', 'Mn'], 'X'...                 40   \n",
       "598  {'sites': {'A': ['Tb'], 'B': ['Ni', 'Mn'], 'X'...                 40   \n",
       "599  {'sites': {'A': ['Tb'], 'B': ['Ni', 'Mn'], 'X'...                 40   \n",
       "\n",
       "     n_atoms_opt  unrelaxed_cryst_id  \\\n",
       "0             40           222998128   \n",
       "1             40           222998125   \n",
       "2             40           222998126   \n",
       "3             40           222998127   \n",
       "4             40           222998129   \n",
       "..           ...                 ...   \n",
       "595           40           272062436   \n",
       "596           40           272062439   \n",
       "597           40           272062435   \n",
       "598           40           272062438   \n",
       "599           40           272062434   \n",
       "\n",
       "                                      unrelaxed_struct  opt_cryst_id  \\\n",
       "0    {'@module': 'pymatgen.core.structure', '@class...     423959398   \n",
       "1    {'@module': 'pymatgen.core.structure', '@class...     421466237   \n",
       "2    {'@module': 'pymatgen.core.structure', '@class...     421466235   \n",
       "3    {'@module': 'pymatgen.core.structure', '@class...     421466263   \n",
       "4    {'@module': 'pymatgen.core.structure', '@class...     421466289   \n",
       "..                                                 ...           ...   \n",
       "595  {'@module': 'pymatgen.core.structure', '@class...     421446419   \n",
       "596  {'@module': 'pymatgen.core.structure', '@class...     421459053   \n",
       "597  {'@module': 'pymatgen.core.structure', '@class...     421464614   \n",
       "598  {'@module': 'pymatgen.core.structure', '@class...     421446230   \n",
       "599  {'@module': 'pymatgen.core.structure', '@class...     421466265   \n",
       "\n",
       "                                            opt_struct  es_job_id  dft_energy  \\\n",
       "0    {'@module': 'pymatgen.core.structure', '@class...  123103556 -265.489796   \n",
       "1    {'@module': 'pymatgen.core.structure', '@class...  122979400 -265.627054   \n",
       "2    {'@module': 'pymatgen.core.structure', '@class...  122979657 -265.542706   \n",
       "3    {'@module': 'pymatgen.core.structure', '@class...  122979417 -265.631202   \n",
       "4    {'@module': 'pymatgen.core.structure', '@class...  122979438 -265.628562   \n",
       "..                                                 ...        ...         ...   \n",
       "595  {'@module': 'pymatgen.core.structure', '@class...  122979607 -291.947011   \n",
       "596  {'@module': 'pymatgen.core.structure', '@class...  122979241 -293.275698   \n",
       "597  {'@module': 'pymatgen.core.structure', '@class...  122979281 -291.822920   \n",
       "598  {'@module': 'pymatgen.core.structure', '@class...  122979130 -292.317225   \n",
       "599  {'@module': 'pymatgen.core.structure', '@class...  122979419 -291.589413   \n",
       "\n",
       "     dft_energy_per_atom  dft_e_hull  Op_band_center  \\\n",
       "0              -6.637245    0.074200       -1.389153   \n",
       "1              -6.640676    0.070768       -1.420044   \n",
       "2              -6.638568    0.072877       -1.424778   \n",
       "3              -6.640780    0.070665       -1.404994   \n",
       "4              -6.640714    0.070731       -1.381979   \n",
       "..                   ...         ...             ...   \n",
       "595            -7.298675    0.083433       -1.855526   \n",
       "596            -7.331892    0.050215       -1.358484   \n",
       "597            -7.295573    0.086535       -1.938487   \n",
       "598            -7.307931    0.074177       -1.890348   \n",
       "599            -7.289735    0.092373       -1.874410   \n",
       "\n",
       "                                 M3Gnet_relaxed_struct  M3Gnet_relaxed_energy  \\\n",
       "0    {'@module': 'pymatgen.core.structure', '@class...            -266.711243   \n",
       "1    {'@module': 'pymatgen.core.structure', '@class...            -266.456848   \n",
       "2    {'@module': 'pymatgen.core.structure', '@class...            -266.213867   \n",
       "3    {'@module': 'pymatgen.core.structure', '@class...            -264.671021   \n",
       "4    {'@module': 'pymatgen.core.structure', '@class...            -266.308624   \n",
       "..                                                 ...                    ...   \n",
       "595  {'@module': 'pymatgen.core.structure', '@class...            -289.953644   \n",
       "596  {'@module': 'pymatgen.core.structure', '@class...            -290.115479   \n",
       "597  {'@module': 'pymatgen.core.structure', '@class...            -291.638702   \n",
       "598  {'@module': 'pymatgen.core.structure', '@class...            -292.125397   \n",
       "599  {'@module': 'pymatgen.core.structure', '@class...            -291.543457   \n",
       "\n",
       "     M3Gnet_relaxed_energy_per_atom  idx  predicted_dft_e_hull  \n",
       "0                         -6.667781    0              0.077370  \n",
       "1                         -6.661421    1              0.076950  \n",
       "2                         -6.655347    2              0.076547  \n",
       "3                         -6.616776    3              0.077123  \n",
       "4                         -6.657716    4              0.077057  \n",
       "..                              ...  ...                   ...  \n",
       "595                       -7.248841  595              0.100901  \n",
       "596                       -7.252887  596              0.078920  \n",
       "597                       -7.290968  597              0.100350  \n",
       "598                       -7.303135  598              0.089636  \n",
       "599                       -7.288586  599              0.110649  \n",
       "\n",
       "[600 rows x 19 columns]"
      ]
     },
     "execution_count": 58,
     "metadata": {},
     "output_type": "execute_result"
    }
   ],
   "source": [
    "held_out_B_data"
   ]
  },
  {
   "cell_type": "code",
   "execution_count": null,
   "id": "99ed5ff9",
   "metadata": {},
   "outputs": [],
   "source": []
  },
  {
   "cell_type": "code",
   "execution_count": 59,
   "id": "d29a3092",
   "metadata": {},
   "outputs": [],
   "source": [
    "e3nn_ensemble = np.load(\"e3nn_mean_pred.npy\")\n",
    "CGCNN_ensemble = np.load(\"CGCNN_mean_pred.npy\")"
   ]
  },
  {
   "cell_type": "code",
   "execution_count": 60,
   "id": "7c0a50cb",
   "metadata": {},
   "outputs": [],
   "source": [
    "held_out_B_data[\"e3nn_ensemble\"] = e3nn_ensemble\n",
    "held_out_B_data[\"CGCNN_ensemble\"] = CGCNN_ensemble"
   ]
  },
  {
   "cell_type": "code",
   "execution_count": 61,
   "id": "f7aa58c9",
   "metadata": {},
   "outputs": [],
   "source": [
    "import json \n",
    "   \n",
    "# Opening JSON file \n",
    "f = open('ABBO3_degeneracy.json',) \n",
    "   \n",
    "# returns JSON object as  \n",
    "# a dictionary \n",
    "degen = json.load(f) \n",
    "   \n",
    "f.close() "
   ]
  },
  {
   "cell_type": "code",
   "execution_count": 62,
   "id": "7f87118a",
   "metadata": {},
   "outputs": [],
   "source": [
    "degen = np.asarray(list(degen['A8_B(4:4)_O24'].values()))"
   ]
  },
  {
   "cell_type": "code",
   "execution_count": 63,
   "id": "77511b64",
   "metadata": {},
   "outputs": [
    {
     "data": {
      "text/plain": [
       "array([ 6,  8, 24, 24,  6,  2])"
      ]
     },
     "execution_count": 63,
     "metadata": {},
     "output_type": "execute_result"
    }
   ],
   "source": [
    "degen"
   ]
  },
  {
   "cell_type": "code",
   "execution_count": 67,
   "id": "7aa54052",
   "metadata": {},
   "outputs": [],
   "source": [
    "formula_to_entropy_dft = {}\n",
    "formula_to_entropy_CGCNN = {}\n",
    "formula_to_entropy_e3nn = {}\n",
    "formula_to_entropy_m3gnet = {}\n",
    "\n",
    "\n",
    "formula_to_Prs_dft = {}\n",
    "formula_to_Prs_CGCNN = {}\n",
    "formula_to_Prs_e3nn = {}\n",
    "formula_to_Prs_m3gnet = {}\n",
    "\n",
    "formulas = set(held_out_B_data.formula)"
   ]
  },
  {
   "cell_type": "code",
   "execution_count": 74,
   "id": "6ecd38e2",
   "metadata": {},
   "outputs": [],
   "source": [
    "T = 1300\n",
    "kb = 0.0000861733326\n",
    "\n",
    "\n",
    "def get_Prs(data,formula,energies):\n",
    "    data_form = data[data.formula==formula].copy()\n",
    "    data_form_sorted = data_form.sort_values(by=[\"unrelaxed_cryst_id\"],axis=0)\n",
    "    energies = np.asarray(data_form_sorted[energies])*40.0\n",
    "    energies -= energies.min()\n",
    "    probs = np.exp(-energies/(kb*T))*degen\n",
    "    probs = probs / probs.sum()\n",
    "    \n",
    "    return probs[-1]\n",
    "    \n",
    "    \n",
    "    \n",
    "def get_entropy(data,formula,energies):\n",
    "    \n",
    "    data_form = data[data.formula==formula].copy()\n",
    "    data_form_sorted = data_form.sort_values(by=[\"unrelaxed_cryst_id\"],axis=0)\n",
    "    energies = np.asarray(data_form_sorted[energies])*40.0\n",
    "    energies -= energies.min()\n",
    "    Bolzmann_terms = np.exp(-energies/(kb*T))\n",
    "    weighted_probs = Bolzmann_terms*degen / np.sum(Bolzmann_terms*degen)\n",
    "    \n",
    "    entropy = 0\n",
    "    entropy_norm = 0\n",
    "    \n",
    "    Z = np.sum(Bolzmann_terms*degen)\n",
    "    \n",
    "    uniform_Bolzmann_terms = np.ones(Bolzmann_terms.shape)\n",
    "    uniform_Z = np.sum(degen*uniform_Bolzmann_terms)\n",
    "    uniform_weighted_probs = uniform_Bolzmann_terms*degen / uniform_Z\n",
    "\n",
    "    for i in range(Bolzmann_terms.shape[0]):\n",
    "        entropy += weighted_probs[i]*np.log(Bolzmann_terms[i]/Z)\n",
    "        \n",
    "        entropy_norm += uniform_weighted_probs[i]*np.log(uniform_Bolzmann_terms[i]/uniform_Z)\n",
    "\n",
    "    return entropy/entropy_norm"
   ]
  },
  {
   "cell_type": "code",
   "execution_count": null,
   "id": "28854d27",
   "metadata": {},
   "outputs": [],
   "source": []
  },
  {
   "cell_type": "code",
   "execution_count": 75,
   "id": "9d897bc9",
   "metadata": {},
   "outputs": [],
   "source": [
    "for formula in formulas:\n",
    "    formula_to_entropy_dft[formula] = get_entropy(held_out_B_data.copy(),formula,\"dft_e_hull\")\n",
    "    formula_to_entropy_CGCNN[formula] = get_entropy(held_out_B_data.copy(),formula,\"CGCNN_ensemble\")\n",
    "    formula_to_entropy_e3nn[formula] = get_entropy(held_out_B_data.copy(),formula,\"e3nn_ensemble\")\n",
    "    formula_to_entropy_m3gnet[formula] = get_entropy(held_out_B_data.copy(),formula,\"M3Gnet_relaxed_energy_per_atom\")\n",
    "    formula_to_Prs_dft[formula]  = get_Prs(held_out_B_data.copy(),formula,\"dft_e_hull\")\n",
    "    formula_to_Prs_CGCNN[formula] = get_Prs(held_out_B_data.copy(),formula,\"CGCNN_ensemble\")\n",
    "    formula_to_Prs_e3nn[formula] = get_Prs(held_out_B_data.copy(),formula,\"e3nn_ensemble\")\n",
    "    formula_to_Prs_m3gnet[formula] = get_Prs(held_out_B_data.copy(),formula,\"M3Gnet_relaxed_energy_per_atom\")\n"
   ]
  },
  {
   "cell_type": "code",
   "execution_count": 76,
   "id": "cf01f3ac",
   "metadata": {},
   "outputs": [],
   "source": [
    "entropy_dft = list(formula_to_entropy_dft.values())\n",
    "entropy_CGCNN = list(formula_to_entropy_CGCNN.values())\n",
    "entropy_e3nn = list(formula_to_entropy_e3nn.values())\n",
    "entropy_m3gnet = list(formula_to_entropy_m3gnet.values())\n",
    "\n",
    "Prs_dft = list(formula_to_Prs_dft.values())\n",
    "Prs_CGCNN = list(formula_to_Prs_CGCNN.values())\n",
    "Prs_e3nn = list(formula_to_Prs_e3nn.values())\n",
    "Prs_m3gnet = list(formula_to_Prs_m3gnet.values())\n"
   ]
  },
  {
   "cell_type": "code",
   "execution_count": 77,
   "id": "7850d943",
   "metadata": {},
   "outputs": [],
   "source": [
    "import matplotlib.pyplot as plt"
   ]
  },
  {
   "cell_type": "code",
   "execution_count": 78,
   "id": "cc88c236",
   "metadata": {},
   "outputs": [
    {
     "data": {
      "text/plain": [
       "<matplotlib.collections.PathCollection at 0x7fe751171100>"
      ]
     },
     "execution_count": 78,
     "metadata": {},
     "output_type": "execute_result"
    },
    {
     "data": {
      "image/png": "[encoded data removed]",
      "text/plain": [
       "<Figure size 432x288 with 1 Axes>"
      ]
     },
     "metadata": {
      "needs_background": "light"
     },
     "output_type": "display_data"
    }
   ],
   "source": [
    "plt.scatter(entropy_dft,entropy_CGCNN,alpha=0.2)"
   ]
  },
  {
   "cell_type": "code",
   "execution_count": 79,
   "id": "09106f6d",
   "metadata": {},
   "outputs": [
    {
     "data": {
      "text/plain": [
       "array([[1.        , 0.46509296],\n",
       "       [0.46509296, 1.        ]])"
      ]
     },
     "execution_count": 79,
     "metadata": {},
     "output_type": "execute_result"
    }
   ],
   "source": [
    "np.corrcoef(entropy_dft,entropy_CGCNN)"
   ]
  },
  {
   "cell_type": "code",
   "execution_count": 80,
   "id": "6eae8dbb",
   "metadata": {},
   "outputs": [
    {
     "data": {
      "text/plain": [
       "0.16315121970519145"
      ]
     },
     "execution_count": 80,
     "metadata": {},
     "output_type": "execute_result"
    }
   ],
   "source": [
    "min(entropy_dft)"
   ]
  },
  {
   "cell_type": "code",
   "execution_count": null,
   "id": "e914375d",
   "metadata": {},
   "outputs": [],
   "source": []
  },
  {
   "cell_type": "code",
   "execution_count": 81,
   "id": "e939a6bb",
   "metadata": {},
   "outputs": [
    {
     "data": {
      "text/plain": [
       "<matplotlib.collections.PathCollection at 0x7fe749b1e3a0>"
      ]
     },
     "execution_count": 81,
     "metadata": {},
     "output_type": "execute_result"
    },
    {
     "data": {
      "image/png": "[encoded data removed]",
      "text/plain": [
       "<Figure size 432x288 with 1 Axes>"
      ]
     },
     "metadata": {
      "needs_background": "light"
     },
     "output_type": "display_data"
    }
   ],
   "source": [
    "plt.scatter(entropy_dft,entropy_e3nn,alpha=0.2)"
   ]
  },
  {
   "cell_type": "code",
   "execution_count": 82,
   "id": "dbdeeecb",
   "metadata": {},
   "outputs": [
    {
     "data": {
      "text/plain": [
       "array([[1.        , 0.45126334],\n",
       "       [0.45126334, 1.        ]])"
      ]
     },
     "execution_count": 82,
     "metadata": {},
     "output_type": "execute_result"
    }
   ],
   "source": [
    "np.corrcoef(entropy_dft,entropy_e3nn)"
   ]
  },
  {
   "cell_type": "code",
   "execution_count": 86,
   "id": "9dd58ba1",
   "metadata": {},
   "outputs": [
    {
     "data": {
      "text/plain": [
       "<matplotlib.collections.PathCollection at 0x7fe749b05280>"
      ]
     },
     "execution_count": 86,
     "metadata": {},
     "output_type": "execute_result"
    },
    {
     "data": {
      "image/png": "[encoded data removed]",
      "text/plain": [
       "<Figure size 432x288 with 1 Axes>"
      ]
     },
     "metadata": {
      "needs_background": "light"
     },
     "output_type": "display_data"
    }
   ],
   "source": [
    "plt.scatter(entropy_dft,entropy_m3gnet,alpha=0.2)"
   ]
  },
  {
   "cell_type": "code",
   "execution_count": 87,
   "id": "af8eb7d5",
   "metadata": {},
   "outputs": [
    {
     "data": {
      "text/plain": [
       "array([[1.      , 0.635142],\n",
       "       [0.635142, 1.      ]])"
      ]
     },
     "execution_count": 87,
     "metadata": {},
     "output_type": "execute_result"
    }
   ],
   "source": [
    "np.corrcoef(entropy_dft,entropy_m3gnet)"
   ]
  },
  {
   "cell_type": "code",
   "execution_count": 88,
   "id": "7a740ba7",
   "metadata": {},
   "outputs": [],
   "source": [
    "from sklearn import metrics"
   ]
  },
  {
   "cell_type": "code",
   "execution_count": 89,
   "id": "f74b3c83",
   "metadata": {},
   "outputs": [
    {
     "data": {
      "text/plain": [
       "-1.3138959269483248"
      ]
     },
     "execution_count": 89,
     "metadata": {},
     "output_type": "execute_result"
    }
   ],
   "source": [
    "metrics.r2_score(entropy_dft,entropy_CGCNN)"
   ]
  },
  {
   "cell_type": "code",
   "execution_count": 90,
   "id": "80c34b3c",
   "metadata": {},
   "outputs": [
    {
     "data": {
      "text/plain": [
       "-0.09501308517065943"
      ]
     },
     "execution_count": 90,
     "metadata": {},
     "output_type": "execute_result"
    }
   ],
   "source": [
    "metrics.r2_score(entropy_dft,entropy_e3nn)"
   ]
  },
  {
   "cell_type": "code",
   "execution_count": 91,
   "id": "0b6a5b1d",
   "metadata": {},
   "outputs": [
    {
     "data": {
      "text/plain": [
       "0.320270742712345"
      ]
     },
     "execution_count": 91,
     "metadata": {},
     "output_type": "execute_result"
    }
   ],
   "source": [
    "metrics.r2_score(entropy_dft,entropy_m3gnet)"
   ]
  },
  {
   "cell_type": "code",
   "execution_count": 40,
   "id": "05302416",
   "metadata": {},
   "outputs": [
    {
     "name": "stdout",
     "output_type": "stream",
     "text": [
      "100\n"
     ]
    }
   ],
   "source": [
    "print(len(entropy_dft))"
   ]
  },
  {
   "cell_type": "code",
   "execution_count": 92,
   "id": "b9765d66",
   "metadata": {},
   "outputs": [
    {
     "data": {
      "text/plain": [
       "<matplotlib.collections.PathCollection at 0x7fe749a76550>"
      ]
     },
     "execution_count": 92,
     "metadata": {},
     "output_type": "execute_result"
    },
    {
     "data": {
      "image/png": "[encoded data removed]",
      "text/plain": [
       "<Figure size 432x288 with 1 Axes>"
      ]
     },
     "metadata": {
      "needs_background": "light"
     },
     "output_type": "display_data"
    }
   ],
   "source": [
    "plt.scatter(Prs_dft,Prs_CGCNN,alpha=0.2)"
   ]
  },
  {
   "cell_type": "code",
   "execution_count": 93,
   "id": "26074a48",
   "metadata": {},
   "outputs": [
    {
     "data": {
      "text/plain": [
       "<matplotlib.collections.PathCollection at 0x7fe749a54790>"
      ]
     },
     "execution_count": 93,
     "metadata": {},
     "output_type": "execute_result"
    },
    {
     "data": {
      "image/png": "[encoded data removed]",
      "text/plain": [
       "<Figure size 432x288 with 1 Axes>"
      ]
     },
     "metadata": {
      "needs_background": "light"
     },
     "output_type": "display_data"
    }
   ],
   "source": [
    "plt.scatter(Prs_dft,Prs_e3nn,alpha=0.2)"
   ]
  },
  {
   "cell_type": "code",
   "execution_count": 94,
   "id": "2163a036",
   "metadata": {},
   "outputs": [
    {
     "data": {
      "text/plain": [
       "<matplotlib.collections.PathCollection at 0x7fe7499b1a00>"
      ]
     },
     "execution_count": 94,
     "metadata": {},
     "output_type": "execute_result"
    },
    {
     "data": {
      "image/png": "[encoded data removed]",
      "text/plain": [
       "<Figure size 432x288 with 1 Axes>"
      ]
     },
     "metadata": {
      "needs_background": "light"
     },
     "output_type": "display_data"
    }
   ],
   "source": [
    "plt.scatter(Prs_dft,Prs_m3gnet,alpha=0.2)"
   ]
  },
  {
   "cell_type": "code",
   "execution_count": 95,
   "id": "ce8b85aa",
   "metadata": {},
   "outputs": [
    {
     "data": {
      "text/plain": [
       "-0.4845345371765506"
      ]
     },
     "execution_count": 95,
     "metadata": {},
     "output_type": "execute_result"
    }
   ],
   "source": [
    "metrics.r2_score(Prs_dft,Prs_CGCNN)"
   ]
  },
  {
   "cell_type": "code",
   "execution_count": 96,
   "id": "c6767674",
   "metadata": {},
   "outputs": [
    {
     "data": {
      "text/plain": [
       "-0.006759561829188465"
      ]
     },
     "execution_count": 96,
     "metadata": {},
     "output_type": "execute_result"
    }
   ],
   "source": [
    "metrics.r2_score(Prs_dft,Prs_e3nn)"
   ]
  },
  {
   "cell_type": "code",
   "execution_count": 97,
   "id": "ce699f64",
   "metadata": {},
   "outputs": [
    {
     "data": {
      "text/plain": [
       "0.2663014785523644"
      ]
     },
     "execution_count": 97,
     "metadata": {},
     "output_type": "execute_result"
    }
   ],
   "source": [
    "metrics.r2_score(Prs_dft,Prs_m3gnet)"
   ]
  },
  {
   "cell_type": "code",
   "execution_count": 45,
   "id": "74115898",
   "metadata": {},
   "outputs": [
    {
     "data": {
      "text/plain": [
       "<matplotlib.collections.PathCollection at 0x7fe7513ca850>"
      ]
     },
     "execution_count": 45,
     "metadata": {},
     "output_type": "execute_result"
    },
    {
     "data": {
      "image/png": "[encoded data removed]",
      "text/plain": [
       "<Figure size 432x288 with 1 Axes>"
      ]
     },
     "metadata": {
      "needs_background": "light"
     },
     "output_type": "display_data"
    }
   ],
   "source": [
    "plt.scatter(entropy_dft,Prs_dft,alpha=0.8)"
   ]
  },
  {
   "cell_type": "code",
   "execution_count": 46,
   "id": "dc355950",
   "metadata": {},
   "outputs": [
    {
     "data": {
      "text/plain": [
       "100"
      ]
     },
     "execution_count": 46,
     "metadata": {},
     "output_type": "execute_result"
    }
   ],
   "source": [
    "len(entropy_dft)"
   ]
  },
  {
   "cell_type": "code",
   "execution_count": 98,
   "id": "bfebf48f",
   "metadata": {},
   "outputs": [],
   "source": [
    "import json\n",
    "\n",
    "with open('entropy_dft_held_out.json', 'w') as fp:\n",
    "    json.dump(formula_to_entropy_dft, fp)"
   ]
  },
  {
   "cell_type": "code",
   "execution_count": 99,
   "id": "5ffcfe68",
   "metadata": {},
   "outputs": [],
   "source": [
    "with open('entropy_CGCNN_held_out.json', 'w') as fp:\n",
    "    json.dump(formula_to_entropy_CGCNN, fp)\n",
    "    \n",
    "with open('entropy_e3nn_held_out.json', 'w') as fp:\n",
    "    json.dump(formula_to_entropy_e3nn, fp)\n",
    "    \n",
    "with open('entropy_m3gnet_held_out.json', 'w') as fp:\n",
    "    json.dump(formula_to_entropy_m3gnet, fp)\n",
    "    \n",
    "with open('Prs_dft_held_out.json', 'w') as fp:\n",
    "    json.dump(formula_to_Prs_dft, fp)\n",
    "    \n",
    "with open('Prs_CGCNN_held_out.json', 'w') as fp:\n",
    "    json.dump(formula_to_Prs_CGCNN, fp)\n",
    "    \n",
    "with open('Prs_e3nn_held_out.json', 'w') as fp:\n",
    "    json.dump(formula_to_Prs_e3nn, fp)\n",
    "    \n",
    "with open('Prs_m3gnet_held_out.json', 'w') as fp:\n",
    "    json.dump(formula_to_Prs_m3gnet, fp)"
   ]
  },
  {
   "cell_type": "code",
   "execution_count": 32,
   "id": "1c501656",
   "metadata": {},
   "outputs": [],
   "source": [
    "tmp_df = held_out_B_data[held_out_B_data.formula == \"La8Mn4O24Ti4\"].copy()\n",
    "tmp_df = tmp_df.sort_values(by=['unrelaxed_cryst_id'])"
   ]
  },
  {
   "cell_type": "code",
   "execution_count": 33,
   "id": "360d0837",
   "metadata": {},
   "outputs": [
    {
     "data": {
      "text/html": [
       "<div>\n",
       "<style scoped>\n",
       "    .dataframe tbody tr th:only-of-type {\n",
       "        vertical-align: middle;\n",
       "    }\n",
       "\n",
       "    .dataframe tbody tr th {\n",
       "        vertical-align: top;\n",
       "    }\n",
       "\n",
       "    .dataframe thead th {\n",
       "        text-align: right;\n",
       "    }\n",
       "</style>\n",
       "<table border=\"1\" class=\"dataframe\">\n",
       "  <thead>\n",
       "    <tr style=\"text-align: right;\">\n",
       "      <th></th>\n",
       "      <th>formula</th>\n",
       "      <th>framework</th>\n",
       "      <th>composition</th>\n",
       "      <th>n_atoms_unrelaxed</th>\n",
       "      <th>n_atoms_opt</th>\n",
       "      <th>unrelaxed_cryst_id</th>\n",
       "      <th>unrelaxed_struct</th>\n",
       "      <th>opt_cryst_id</th>\n",
       "      <th>opt_struct</th>\n",
       "      <th>es_job_id</th>\n",
       "      <th>...</th>\n",
       "      <th>dft_energy_per_atom</th>\n",
       "      <th>dft_e_hull</th>\n",
       "      <th>Op_band_center</th>\n",
       "      <th>M3Gnet_relaxed_struct</th>\n",
       "      <th>M3Gnet_relaxed_energy</th>\n",
       "      <th>M3Gnet_relaxed_energy_per_atom</th>\n",
       "      <th>idx</th>\n",
       "      <th>predicted_dft_e_hull</th>\n",
       "      <th>e3nn_ensemble</th>\n",
       "      <th>CGCNN_ensemble</th>\n",
       "    </tr>\n",
       "  </thead>\n",
       "  <tbody>\n",
       "    <tr>\n",
       "      <th>108</th>\n",
       "      <td>La8Mn4O24Ti4</td>\n",
       "      <td>LaMn0.500Ti0.500O3</td>\n",
       "      <td>{'sites': {'A': ['La'], 'B': ['Mn', 'Ti'], 'X'...</td>\n",
       "      <td>40</td>\n",
       "      <td>40</td>\n",
       "      <td>261448093</td>\n",
       "      <td>{'@module': 'pymatgen.core.structure', '@class...</td>\n",
       "      <td>423433904</td>\n",
       "      <td>{'@module': 'pymatgen.core.structure', '@class...</td>\n",
       "      <td>123030273</td>\n",
       "      <td>...</td>\n",
       "      <td>-8.471108</td>\n",
       "      <td>0.091005</td>\n",
       "      <td>-4.017920</td>\n",
       "      <td>{'@module': 'pymatgen.core.structure', '@class...</td>\n",
       "      <td>-338.521973</td>\n",
       "      <td>-8.463049</td>\n",
       "      <td>108</td>\n",
       "      <td>0.106126</td>\n",
       "      <td>0.114892</td>\n",
       "      <td>0.109591</td>\n",
       "    </tr>\n",
       "    <tr>\n",
       "      <th>109</th>\n",
       "      <td>La8Mn4O24Ti4</td>\n",
       "      <td>LaMn0.500Ti0.500O3</td>\n",
       "      <td>{'sites': {'A': ['La'], 'B': ['Mn', 'Ti'], 'X'...</td>\n",
       "      <td>40</td>\n",
       "      <td>40</td>\n",
       "      <td>261448094</td>\n",
       "      <td>{'@module': 'pymatgen.core.structure', '@class...</td>\n",
       "      <td>423481860</td>\n",
       "      <td>{'@module': 'pymatgen.core.structure', '@class...</td>\n",
       "      <td>123052560</td>\n",
       "      <td>...</td>\n",
       "      <td>-8.481154</td>\n",
       "      <td>0.080959</td>\n",
       "      <td>-3.903905</td>\n",
       "      <td>{'@module': 'pymatgen.core.structure', '@class...</td>\n",
       "      <td>-338.719513</td>\n",
       "      <td>-8.467988</td>\n",
       "      <td>109</td>\n",
       "      <td>0.108132</td>\n",
       "      <td>0.116005</td>\n",
       "      <td>0.107263</td>\n",
       "    </tr>\n",
       "    <tr>\n",
       "      <th>113</th>\n",
       "      <td>La8Mn4O24Ti4</td>\n",
       "      <td>LaMn0.500Ti0.500O3</td>\n",
       "      <td>{'sites': {'A': ['La'], 'B': ['Mn', 'Ti'], 'X'...</td>\n",
       "      <td>40</td>\n",
       "      <td>40</td>\n",
       "      <td>261448095</td>\n",
       "      <td>{'@module': 'pymatgen.core.structure', '@class...</td>\n",
       "      <td>423463125</td>\n",
       "      <td>{'@module': 'pymatgen.core.structure', '@class...</td>\n",
       "      <td>123051962</td>\n",
       "      <td>...</td>\n",
       "      <td>-8.482461</td>\n",
       "      <td>0.079652</td>\n",
       "      <td>-4.067067</td>\n",
       "      <td>{'@module': 'pymatgen.core.structure', '@class...</td>\n",
       "      <td>-338.483093</td>\n",
       "      <td>-8.462077</td>\n",
       "      <td>113</td>\n",
       "      <td>0.105094</td>\n",
       "      <td>0.110735</td>\n",
       "      <td>0.107783</td>\n",
       "    </tr>\n",
       "    <tr>\n",
       "      <th>112</th>\n",
       "      <td>La8Mn4O24Ti4</td>\n",
       "      <td>LaMn0.500Ti0.500O3</td>\n",
       "      <td>{'sites': {'A': ['La'], 'B': ['Mn', 'Ti'], 'X'...</td>\n",
       "      <td>40</td>\n",
       "      <td>40</td>\n",
       "      <td>261448096</td>\n",
       "      <td>{'@module': 'pymatgen.core.structure', '@class...</td>\n",
       "      <td>423464028</td>\n",
       "      <td>{'@module': 'pymatgen.core.structure', '@class...</td>\n",
       "      <td>123052031</td>\n",
       "      <td>...</td>\n",
       "      <td>-8.495993</td>\n",
       "      <td>0.066120</td>\n",
       "      <td>-3.850542</td>\n",
       "      <td>{'@module': 'pymatgen.core.structure', '@class...</td>\n",
       "      <td>-339.700989</td>\n",
       "      <td>-8.492525</td>\n",
       "      <td>112</td>\n",
       "      <td>0.104549</td>\n",
       "      <td>0.110231</td>\n",
       "      <td>0.108565</td>\n",
       "    </tr>\n",
       "    <tr>\n",
       "      <th>111</th>\n",
       "      <td>La8Mn4O24Ti4</td>\n",
       "      <td>LaMn0.500Ti0.500O3</td>\n",
       "      <td>{'sites': {'A': ['La'], 'B': ['Mn', 'Ti'], 'X'...</td>\n",
       "      <td>40</td>\n",
       "      <td>40</td>\n",
       "      <td>261448097</td>\n",
       "      <td>{'@module': 'pymatgen.core.structure', '@class...</td>\n",
       "      <td>423434558</td>\n",
       "      <td>{'@module': 'pymatgen.core.structure', '@class...</td>\n",
       "      <td>123030337</td>\n",
       "      <td>...</td>\n",
       "      <td>-8.499932</td>\n",
       "      <td>0.062180</td>\n",
       "      <td>-3.642347</td>\n",
       "      <td>{'@module': 'pymatgen.core.structure', '@class...</td>\n",
       "      <td>-338.833038</td>\n",
       "      <td>-8.470826</td>\n",
       "      <td>111</td>\n",
       "      <td>0.099608</td>\n",
       "      <td>0.105433</td>\n",
       "      <td>0.108132</td>\n",
       "    </tr>\n",
       "    <tr>\n",
       "      <th>110</th>\n",
       "      <td>La8Mn4O24Ti4</td>\n",
       "      <td>LaMn0.500Ti0.500O3</td>\n",
       "      <td>{'sites': {'A': ['La'], 'B': ['Mn', 'Ti'], 'X'...</td>\n",
       "      <td>40</td>\n",
       "      <td>40</td>\n",
       "      <td>261448098</td>\n",
       "      <td>{'@module': 'pymatgen.core.structure', '@class...</td>\n",
       "      <td>423481534</td>\n",
       "      <td>{'@module': 'pymatgen.core.structure', '@class...</td>\n",
       "      <td>123052488</td>\n",
       "      <td>...</td>\n",
       "      <td>-8.516502</td>\n",
       "      <td>0.045610</td>\n",
       "      <td>-2.894603</td>\n",
       "      <td>{'@module': 'pymatgen.core.structure', '@class...</td>\n",
       "      <td>-340.560577</td>\n",
       "      <td>-8.514014</td>\n",
       "      <td>110</td>\n",
       "      <td>0.104897</td>\n",
       "      <td>0.114081</td>\n",
       "      <td>0.108680</td>\n",
       "    </tr>\n",
       "  </tbody>\n",
       "</table>\n",
       "<p>6 rows × 21 columns</p>\n",
       "</div>"
      ],
      "text/plain": [
       "          formula           framework  \\\n",
       "108  La8Mn4O24Ti4  LaMn0.500Ti0.500O3   \n",
       "109  La8Mn4O24Ti4  LaMn0.500Ti0.500O3   \n",
       "113  La8Mn4O24Ti4  LaMn0.500Ti0.500O3   \n",
       "112  La8Mn4O24Ti4  LaMn0.500Ti0.500O3   \n",
       "111  La8Mn4O24Ti4  LaMn0.500Ti0.500O3   \n",
       "110  La8Mn4O24Ti4  LaMn0.500Ti0.500O3   \n",
       "\n",
       "                                           composition  n_atoms_unrelaxed  \\\n",
       "108  {'sites': {'A': ['La'], 'B': ['Mn', 'Ti'], 'X'...                 40   \n",
       "109  {'sites': {'A': ['La'], 'B': ['Mn', 'Ti'], 'X'...                 40   \n",
       "113  {'sites': {'A': ['La'], 'B': ['Mn', 'Ti'], 'X'...                 40   \n",
       "112  {'sites': {'A': ['La'], 'B': ['Mn', 'Ti'], 'X'...                 40   \n",
       "111  {'sites': {'A': ['La'], 'B': ['Mn', 'Ti'], 'X'...                 40   \n",
       "110  {'sites': {'A': ['La'], 'B': ['Mn', 'Ti'], 'X'...                 40   \n",
       "\n",
       "     n_atoms_opt  unrelaxed_cryst_id  \\\n",
       "108           40           261448093   \n",
       "109           40           261448094   \n",
       "113           40           261448095   \n",
       "112           40           261448096   \n",
       "111           40           261448097   \n",
       "110           40           261448098   \n",
       "\n",
       "                                      unrelaxed_struct  opt_cryst_id  \\\n",
       "108  {'@module': 'pymatgen.core.structure', '@class...     423433904   \n",
       "109  {'@module': 'pymatgen.core.structure', '@class...     423481860   \n",
       "113  {'@module': 'pymatgen.core.structure', '@class...     423463125   \n",
       "112  {'@module': 'pymatgen.core.structure', '@class...     423464028   \n",
       "111  {'@module': 'pymatgen.core.structure', '@class...     423434558   \n",
       "110  {'@module': 'pymatgen.core.structure', '@class...     423481534   \n",
       "\n",
       "                                            opt_struct  es_job_id  ...  \\\n",
       "108  {'@module': 'pymatgen.core.structure', '@class...  123030273  ...   \n",
       "109  {'@module': 'pymatgen.core.structure', '@class...  123052560  ...   \n",
       "113  {'@module': 'pymatgen.core.structure', '@class...  123051962  ...   \n",
       "112  {'@module': 'pymatgen.core.structure', '@class...  123052031  ...   \n",
       "111  {'@module': 'pymatgen.core.structure', '@class...  123030337  ...   \n",
       "110  {'@module': 'pymatgen.core.structure', '@class...  123052488  ...   \n",
       "\n",
       "     dft_energy_per_atom  dft_e_hull  Op_band_center  \\\n",
       "108            -8.471108    0.091005       -4.017920   \n",
       "109            -8.481154    0.080959       -3.903905   \n",
       "113            -8.482461    0.079652       -4.067067   \n",
       "112            -8.495993    0.066120       -3.850542   \n",
       "111            -8.499932    0.062180       -3.642347   \n",
       "110            -8.516502    0.045610       -2.894603   \n",
       "\n",
       "                                 M3Gnet_relaxed_struct M3Gnet_relaxed_energy  \\\n",
       "108  {'@module': 'pymatgen.core.structure', '@class...           -338.521973   \n",
       "109  {'@module': 'pymatgen.core.structure', '@class...           -338.719513   \n",
       "113  {'@module': 'pymatgen.core.structure', '@class...           -338.483093   \n",
       "112  {'@module': 'pymatgen.core.structure', '@class...           -339.700989   \n",
       "111  {'@module': 'pymatgen.core.structure', '@class...           -338.833038   \n",
       "110  {'@module': 'pymatgen.core.structure', '@class...           -340.560577   \n",
       "\n",
       "     M3Gnet_relaxed_energy_per_atom  idx  predicted_dft_e_hull  e3nn_ensemble  \\\n",
       "108                       -8.463049  108              0.106126       0.114892   \n",
       "109                       -8.467988  109              0.108132       0.116005   \n",
       "113                       -8.462077  113              0.105094       0.110735   \n",
       "112                       -8.492525  112              0.104549       0.110231   \n",
       "111                       -8.470826  111              0.099608       0.105433   \n",
       "110                       -8.514014  110              0.104897       0.114081   \n",
       "\n",
       "     CGCNN_ensemble  \n",
       "108        0.109591  \n",
       "109        0.107263  \n",
       "113        0.107783  \n",
       "112        0.108565  \n",
       "111        0.108132  \n",
       "110        0.108680  \n",
       "\n",
       "[6 rows x 21 columns]"
      ]
     },
     "execution_count": 33,
     "metadata": {},
     "output_type": "execute_result"
    }
   ],
   "source": [
    "tmp_df"
   ]
  },
  {
   "cell_type": "code",
   "execution_count": 34,
   "id": "038a5eba",
   "metadata": {},
   "outputs": [
    {
     "data": {
      "text/plain": [
       "0.9043740497961864"
      ]
     },
     "execution_count": 34,
     "metadata": {},
     "output_type": "execute_result"
    }
   ],
   "source": [
    "formula_to_entropy_dft[\"La8Mn4O24Ti4\"]"
   ]
  },
  {
   "cell_type": "code",
   "execution_count": 35,
   "id": "e4ae5fb4",
   "metadata": {},
   "outputs": [
    {
     "data": {
      "text/plain": [
       "0.020494103589247265"
      ]
     },
     "execution_count": 35,
     "metadata": {},
     "output_type": "execute_result"
    }
   ],
   "source": [
    "formula_to_Prs_dft[\"La8Mn4O24Ti4\"]"
   ]
  },
  {
   "cell_type": "code",
   "execution_count": 100,
   "id": "f0794a36",
   "metadata": {},
   "outputs": [],
   "source": [
    "discrete_dft_entropy = []\n",
    "discrete_CGCNN_entropy = []\n",
    "discrete_e3nn_entropy = []\n",
    "discrete_m3gnet_entropy = []\n",
    "\n",
    "discrete_dft_Prs = []\n",
    "discrete_CGCNN_Prs = []\n",
    "discrete_e3nn_Prs = []\n",
    "discrete_m3gnet_Prs = []\n",
    "\n",
    "for i in range(100):\n",
    "    \n",
    "    if entropy_dft[i] >0.5:\n",
    "        discrete_dft_entropy.append(1.0)\n",
    "    else:\n",
    "        discrete_dft_entropy.append(0.0)\n",
    "        \n",
    "    if entropy_CGCNN[i] >0.5:\n",
    "        discrete_CGCNN_entropy.append(1.0)\n",
    "    else:\n",
    "        discrete_CGCNN_entropy.append(0.0)\n",
    "        \n",
    "    if entropy_e3nn[i] >0.5:\n",
    "        discrete_e3nn_entropy.append(1.0)\n",
    "    else:\n",
    "        discrete_e3nn_entropy.append(0.0)\n",
    "        \n",
    "    if entropy_m3gnet[i] >0.5:\n",
    "        discrete_m3gnet_entropy.append(1.0)\n",
    "    else:\n",
    "        discrete_m3gnet_entropy.append(0.0)\n",
    "        \n",
    "        \n",
    "        \n",
    "    if Prs_dft[i] >0.5:\n",
    "        discrete_dft_Prs.append(1.0)\n",
    "    else:\n",
    "        discrete_dft_Prs.append(0.0)\n",
    "        \n",
    "    if Prs_CGCNN[i] >0.5:\n",
    "        discrete_CGCNN_Prs.append(1.0)\n",
    "    else:\n",
    "        discrete_CGCNN_Prs.append(0.0)\n",
    "        \n",
    "    if Prs_e3nn[i] >0.5:\n",
    "        discrete_e3nn_Prs.append(1.0)\n",
    "    else:\n",
    "        discrete_e3nn_Prs.append(0.0)\n",
    "        \n",
    "    if Prs_m3gnet[i] >0.5:\n",
    "        discrete_m3gnet_Prs.append(1.0)\n",
    "    else:\n",
    "        discrete_m3gnet_Prs.append(0.0)"
   ]
  },
  {
   "cell_type": "code",
   "execution_count": 101,
   "id": "1084472a",
   "metadata": {},
   "outputs": [],
   "source": [
    "from sklearn.metrics import confusion_matrix"
   ]
  },
  {
   "cell_type": "code",
   "execution_count": 102,
   "id": "399ea145",
   "metadata": {},
   "outputs": [
    {
     "data": {
      "text/plain": [
       "array([[17, 48],\n",
       "       [ 1, 34]])"
      ]
     },
     "execution_count": 102,
     "metadata": {},
     "output_type": "execute_result"
    }
   ],
   "source": [
    "confusion_matrix(discrete_dft_entropy,discrete_CGCNN_entropy)"
   ]
  },
  {
   "cell_type": "code",
   "execution_count": 103,
   "id": "0f13a66d",
   "metadata": {},
   "outputs": [
    {
     "data": {
      "text/plain": [
       "array([[47, 18],\n",
       "       [11, 24]])"
      ]
     },
     "execution_count": 103,
     "metadata": {},
     "output_type": "execute_result"
    }
   ],
   "source": [
    "confusion_matrix(discrete_dft_entropy,discrete_e3nn_entropy)"
   ]
  },
  {
   "cell_type": "code",
   "execution_count": 104,
   "id": "c287ad7a",
   "metadata": {},
   "outputs": [
    {
     "data": {
      "text/plain": [
       "array([[47, 18],\n",
       "       [ 6, 29]])"
      ]
     },
     "execution_count": 104,
     "metadata": {},
     "output_type": "execute_result"
    }
   ],
   "source": [
    "confusion_matrix(discrete_dft_entropy,discrete_m3gnet_entropy)"
   ]
  },
  {
   "cell_type": "code",
   "execution_count": 105,
   "id": "5cd02931",
   "metadata": {},
   "outputs": [
    {
     "data": {
      "text/plain": [
       "array([[34,  3],\n",
       "       [39, 24]])"
      ]
     },
     "execution_count": 105,
     "metadata": {},
     "output_type": "execute_result"
    }
   ],
   "source": [
    "confusion_matrix(discrete_dft_Prs,discrete_CGCNN_Prs)"
   ]
  },
  {
   "cell_type": "code",
   "execution_count": 106,
   "id": "e14aad01",
   "metadata": {},
   "outputs": [
    {
     "data": {
      "text/plain": [
       "array([[24, 13],\n",
       "       [14, 49]])"
      ]
     },
     "execution_count": 106,
     "metadata": {},
     "output_type": "execute_result"
    }
   ],
   "source": [
    "confusion_matrix(discrete_dft_Prs,discrete_e3nn_Prs)"
   ]
  },
  {
   "cell_type": "code",
   "execution_count": 107,
   "id": "6033305f",
   "metadata": {},
   "outputs": [
    {
     "data": {
      "text/plain": [
       "array([[32,  5],\n",
       "       [17, 46]])"
      ]
     },
     "execution_count": 107,
     "metadata": {},
     "output_type": "execute_result"
    }
   ],
   "source": [
    "confusion_matrix(discrete_dft_Prs,discrete_m3gnet_Prs)"
   ]
  },
  {
   "cell_type": "code",
   "execution_count": 111,
   "id": "c65efcee",
   "metadata": {},
   "outputs": [],
   "source": [
    "from scipy.stats import spearmanr"
   ]
  },
  {
   "cell_type": "code",
   "execution_count": 127,
   "id": "00daf43b",
   "metadata": {},
   "outputs": [
    {
     "data": {
      "text/html": [
       "<div>\n",
       "<style scoped>\n",
       "    .dataframe tbody tr th:only-of-type {\n",
       "        vertical-align: middle;\n",
       "    }\n",
       "\n",
       "    .dataframe tbody tr th {\n",
       "        vertical-align: top;\n",
       "    }\n",
       "\n",
       "    .dataframe thead th {\n",
       "        text-align: right;\n",
       "    }\n",
       "</style>\n",
       "<table border=\"1\" class=\"dataframe\">\n",
       "  <thead>\n",
       "    <tr style=\"text-align: right;\">\n",
       "      <th></th>\n",
       "      <th>formula</th>\n",
       "      <th>framework</th>\n",
       "      <th>composition</th>\n",
       "      <th>n_atoms_unrelaxed</th>\n",
       "      <th>n_atoms_opt</th>\n",
       "      <th>unrelaxed_cryst_id</th>\n",
       "      <th>unrelaxed_struct</th>\n",
       "      <th>opt_cryst_id</th>\n",
       "      <th>opt_struct</th>\n",
       "      <th>es_job_id</th>\n",
       "      <th>...</th>\n",
       "      <th>dft_energy_per_atom</th>\n",
       "      <th>dft_e_hull</th>\n",
       "      <th>Op_band_center</th>\n",
       "      <th>M3Gnet_relaxed_struct</th>\n",
       "      <th>M3Gnet_relaxed_energy</th>\n",
       "      <th>M3Gnet_relaxed_energy_per_atom</th>\n",
       "      <th>idx</th>\n",
       "      <th>predicted_dft_e_hull</th>\n",
       "      <th>e3nn_ensemble</th>\n",
       "      <th>CGCNN_ensemble</th>\n",
       "    </tr>\n",
       "  </thead>\n",
       "  <tbody>\n",
       "    <tr>\n",
       "      <th>0</th>\n",
       "      <td>Ca8Fe4Mn4O24</td>\n",
       "      <td>CaFe0.500Mn0.500O3</td>\n",
       "      <td>{'sites': {'A': ['Ca'], 'B': ['Mn', 'Fe'], 'X'...</td>\n",
       "      <td>40</td>\n",
       "      <td>40</td>\n",
       "      <td>222998128</td>\n",
       "      <td>{'@module': 'pymatgen.core.structure', '@class...</td>\n",
       "      <td>423959398</td>\n",
       "      <td>{'@module': 'pymatgen.core.structure', '@class...</td>\n",
       "      <td>123103556</td>\n",
       "      <td>...</td>\n",
       "      <td>-6.637245</td>\n",
       "      <td>0.074200</td>\n",
       "      <td>-1.389153</td>\n",
       "      <td>{'@module': 'pymatgen.core.structure', '@class...</td>\n",
       "      <td>-266.711243</td>\n",
       "      <td>-6.667781</td>\n",
       "      <td>0</td>\n",
       "      <td>0.077370</td>\n",
       "      <td>0.075139</td>\n",
       "      <td>0.074035</td>\n",
       "    </tr>\n",
       "    <tr>\n",
       "      <th>1</th>\n",
       "      <td>Ca8Fe4Mn4O24</td>\n",
       "      <td>CaFe0.500Mn0.500O3</td>\n",
       "      <td>{'sites': {'A': ['Ca'], 'B': ['Mn', 'Fe'], 'X'...</td>\n",
       "      <td>40</td>\n",
       "      <td>40</td>\n",
       "      <td>222998125</td>\n",
       "      <td>{'@module': 'pymatgen.core.structure', '@class...</td>\n",
       "      <td>421466237</td>\n",
       "      <td>{'@module': 'pymatgen.core.structure', '@class...</td>\n",
       "      <td>122979400</td>\n",
       "      <td>...</td>\n",
       "      <td>-6.640676</td>\n",
       "      <td>0.070768</td>\n",
       "      <td>-1.420044</td>\n",
       "      <td>{'@module': 'pymatgen.core.structure', '@class...</td>\n",
       "      <td>-266.456848</td>\n",
       "      <td>-6.661421</td>\n",
       "      <td>1</td>\n",
       "      <td>0.076950</td>\n",
       "      <td>0.074992</td>\n",
       "      <td>0.077533</td>\n",
       "    </tr>\n",
       "    <tr>\n",
       "      <th>2</th>\n",
       "      <td>Ca8Fe4Mn4O24</td>\n",
       "      <td>CaFe0.500Mn0.500O3</td>\n",
       "      <td>{'sites': {'A': ['Ca'], 'B': ['Mn', 'Fe'], 'X'...</td>\n",
       "      <td>40</td>\n",
       "      <td>40</td>\n",
       "      <td>222998126</td>\n",
       "      <td>{'@module': 'pymatgen.core.structure', '@class...</td>\n",
       "      <td>421466235</td>\n",
       "      <td>{'@module': 'pymatgen.core.structure', '@class...</td>\n",
       "      <td>122979657</td>\n",
       "      <td>...</td>\n",
       "      <td>-6.638568</td>\n",
       "      <td>0.072877</td>\n",
       "      <td>-1.424778</td>\n",
       "      <td>{'@module': 'pymatgen.core.structure', '@class...</td>\n",
       "      <td>-266.213867</td>\n",
       "      <td>-6.655347</td>\n",
       "      <td>2</td>\n",
       "      <td>0.076547</td>\n",
       "      <td>0.074540</td>\n",
       "      <td>0.072869</td>\n",
       "    </tr>\n",
       "    <tr>\n",
       "      <th>3</th>\n",
       "      <td>Ca8Fe4Mn4O24</td>\n",
       "      <td>CaFe0.500Mn0.500O3</td>\n",
       "      <td>{'sites': {'A': ['Ca'], 'B': ['Mn', 'Fe'], 'X'...</td>\n",
       "      <td>40</td>\n",
       "      <td>40</td>\n",
       "      <td>222998127</td>\n",
       "      <td>{'@module': 'pymatgen.core.structure', '@class...</td>\n",
       "      <td>421466263</td>\n",
       "      <td>{'@module': 'pymatgen.core.structure', '@class...</td>\n",
       "      <td>122979417</td>\n",
       "      <td>...</td>\n",
       "      <td>-6.640780</td>\n",
       "      <td>0.070665</td>\n",
       "      <td>-1.404994</td>\n",
       "      <td>{'@module': 'pymatgen.core.structure', '@class...</td>\n",
       "      <td>-264.671021</td>\n",
       "      <td>-6.616776</td>\n",
       "      <td>3</td>\n",
       "      <td>0.077123</td>\n",
       "      <td>0.074982</td>\n",
       "      <td>0.073774</td>\n",
       "    </tr>\n",
       "    <tr>\n",
       "      <th>4</th>\n",
       "      <td>Ca8Fe4Mn4O24</td>\n",
       "      <td>CaFe0.500Mn0.500O3</td>\n",
       "      <td>{'sites': {'A': ['Ca'], 'B': ['Mn', 'Fe'], 'X'...</td>\n",
       "      <td>40</td>\n",
       "      <td>40</td>\n",
       "      <td>222998129</td>\n",
       "      <td>{'@module': 'pymatgen.core.structure', '@class...</td>\n",
       "      <td>421466289</td>\n",
       "      <td>{'@module': 'pymatgen.core.structure', '@class...</td>\n",
       "      <td>122979438</td>\n",
       "      <td>...</td>\n",
       "      <td>-6.640714</td>\n",
       "      <td>0.070731</td>\n",
       "      <td>-1.381979</td>\n",
       "      <td>{'@module': 'pymatgen.core.structure', '@class...</td>\n",
       "      <td>-266.308624</td>\n",
       "      <td>-6.657716</td>\n",
       "      <td>4</td>\n",
       "      <td>0.077057</td>\n",
       "      <td>0.074879</td>\n",
       "      <td>0.072979</td>\n",
       "    </tr>\n",
       "    <tr>\n",
       "      <th>...</th>\n",
       "      <td>...</td>\n",
       "      <td>...</td>\n",
       "      <td>...</td>\n",
       "      <td>...</td>\n",
       "      <td>...</td>\n",
       "      <td>...</td>\n",
       "      <td>...</td>\n",
       "      <td>...</td>\n",
       "      <td>...</td>\n",
       "      <td>...</td>\n",
       "      <td>...</td>\n",
       "      <td>...</td>\n",
       "      <td>...</td>\n",
       "      <td>...</td>\n",
       "      <td>...</td>\n",
       "      <td>...</td>\n",
       "      <td>...</td>\n",
       "      <td>...</td>\n",
       "      <td>...</td>\n",
       "      <td>...</td>\n",
       "      <td>...</td>\n",
       "    </tr>\n",
       "    <tr>\n",
       "      <th>595</th>\n",
       "      <td>Mn4Ni4O24Tb8</td>\n",
       "      <td>TbMn0.500Ni0.500O3</td>\n",
       "      <td>{'sites': {'A': ['Tb'], 'B': ['Ni', 'Mn'], 'X'...</td>\n",
       "      <td>40</td>\n",
       "      <td>40</td>\n",
       "      <td>272062436</td>\n",
       "      <td>{'@module': 'pymatgen.core.structure', '@class...</td>\n",
       "      <td>421446419</td>\n",
       "      <td>{'@module': 'pymatgen.core.structure', '@class...</td>\n",
       "      <td>122979607</td>\n",
       "      <td>...</td>\n",
       "      <td>-7.298675</td>\n",
       "      <td>0.083433</td>\n",
       "      <td>-1.855526</td>\n",
       "      <td>{'@module': 'pymatgen.core.structure', '@class...</td>\n",
       "      <td>-289.953644</td>\n",
       "      <td>-7.248841</td>\n",
       "      <td>595</td>\n",
       "      <td>0.100901</td>\n",
       "      <td>0.105014</td>\n",
       "      <td>0.099033</td>\n",
       "    </tr>\n",
       "    <tr>\n",
       "      <th>596</th>\n",
       "      <td>Mn4Ni4O24Tb8</td>\n",
       "      <td>TbMn0.500Ni0.500O3</td>\n",
       "      <td>{'sites': {'A': ['Tb'], 'B': ['Ni', 'Mn'], 'X'...</td>\n",
       "      <td>40</td>\n",
       "      <td>40</td>\n",
       "      <td>272062439</td>\n",
       "      <td>{'@module': 'pymatgen.core.structure', '@class...</td>\n",
       "      <td>421459053</td>\n",
       "      <td>{'@module': 'pymatgen.core.structure', '@class...</td>\n",
       "      <td>122979241</td>\n",
       "      <td>...</td>\n",
       "      <td>-7.331892</td>\n",
       "      <td>0.050215</td>\n",
       "      <td>-1.358484</td>\n",
       "      <td>{'@module': 'pymatgen.core.structure', '@class...</td>\n",
       "      <td>-290.115479</td>\n",
       "      <td>-7.252887</td>\n",
       "      <td>596</td>\n",
       "      <td>0.078920</td>\n",
       "      <td>0.079022</td>\n",
       "      <td>0.093835</td>\n",
       "    </tr>\n",
       "    <tr>\n",
       "      <th>597</th>\n",
       "      <td>Mn4Ni4O24Tb8</td>\n",
       "      <td>TbMn0.500Ni0.500O3</td>\n",
       "      <td>{'sites': {'A': ['Tb'], 'B': ['Ni', 'Mn'], 'X'...</td>\n",
       "      <td>40</td>\n",
       "      <td>40</td>\n",
       "      <td>272062435</td>\n",
       "      <td>{'@module': 'pymatgen.core.structure', '@class...</td>\n",
       "      <td>421464614</td>\n",
       "      <td>{'@module': 'pymatgen.core.structure', '@class...</td>\n",
       "      <td>122979281</td>\n",
       "      <td>...</td>\n",
       "      <td>-7.295573</td>\n",
       "      <td>0.086535</td>\n",
       "      <td>-1.938487</td>\n",
       "      <td>{'@module': 'pymatgen.core.structure', '@class...</td>\n",
       "      <td>-291.638702</td>\n",
       "      <td>-7.290968</td>\n",
       "      <td>597</td>\n",
       "      <td>0.100350</td>\n",
       "      <td>0.108635</td>\n",
       "      <td>0.098116</td>\n",
       "    </tr>\n",
       "    <tr>\n",
       "      <th>598</th>\n",
       "      <td>Mn4Ni4O24Tb8</td>\n",
       "      <td>TbMn0.500Ni0.500O3</td>\n",
       "      <td>{'sites': {'A': ['Tb'], 'B': ['Ni', 'Mn'], 'X'...</td>\n",
       "      <td>40</td>\n",
       "      <td>40</td>\n",
       "      <td>272062438</td>\n",
       "      <td>{'@module': 'pymatgen.core.structure', '@class...</td>\n",
       "      <td>421446230</td>\n",
       "      <td>{'@module': 'pymatgen.core.structure', '@class...</td>\n",
       "      <td>122979130</td>\n",
       "      <td>...</td>\n",
       "      <td>-7.307931</td>\n",
       "      <td>0.074177</td>\n",
       "      <td>-1.890348</td>\n",
       "      <td>{'@module': 'pymatgen.core.structure', '@class...</td>\n",
       "      <td>-292.125397</td>\n",
       "      <td>-7.303135</td>\n",
       "      <td>598</td>\n",
       "      <td>0.089636</td>\n",
       "      <td>0.089832</td>\n",
       "      <td>0.098087</td>\n",
       "    </tr>\n",
       "    <tr>\n",
       "      <th>599</th>\n",
       "      <td>Mn4Ni4O24Tb8</td>\n",
       "      <td>TbMn0.500Ni0.500O3</td>\n",
       "      <td>{'sites': {'A': ['Tb'], 'B': ['Ni', 'Mn'], 'X'...</td>\n",
       "      <td>40</td>\n",
       "      <td>40</td>\n",
       "      <td>272062434</td>\n",
       "      <td>{'@module': 'pymatgen.core.structure', '@class...</td>\n",
       "      <td>421466265</td>\n",
       "      <td>{'@module': 'pymatgen.core.structure', '@class...</td>\n",
       "      <td>122979419</td>\n",
       "      <td>...</td>\n",
       "      <td>-7.289735</td>\n",
       "      <td>0.092373</td>\n",
       "      <td>-1.874410</td>\n",
       "      <td>{'@module': 'pymatgen.core.structure', '@class...</td>\n",
       "      <td>-291.543457</td>\n",
       "      <td>-7.288586</td>\n",
       "      <td>599</td>\n",
       "      <td>0.110649</td>\n",
       "      <td>0.118514</td>\n",
       "      <td>0.101217</td>\n",
       "    </tr>\n",
       "  </tbody>\n",
       "</table>\n",
       "<p>600 rows × 21 columns</p>\n",
       "</div>"
      ],
      "text/plain": [
       "          formula           framework  \\\n",
       "0    Ca8Fe4Mn4O24  CaFe0.500Mn0.500O3   \n",
       "1    Ca8Fe4Mn4O24  CaFe0.500Mn0.500O3   \n",
       "2    Ca8Fe4Mn4O24  CaFe0.500Mn0.500O3   \n",
       "3    Ca8Fe4Mn4O24  CaFe0.500Mn0.500O3   \n",
       "4    Ca8Fe4Mn4O24  CaFe0.500Mn0.500O3   \n",
       "..            ...                 ...   \n",
       "595  Mn4Ni4O24Tb8  TbMn0.500Ni0.500O3   \n",
       "596  Mn4Ni4O24Tb8  TbMn0.500Ni0.500O3   \n",
       "597  Mn4Ni4O24Tb8  TbMn0.500Ni0.500O3   \n",
       "598  Mn4Ni4O24Tb8  TbMn0.500Ni0.500O3   \n",
       "599  Mn4Ni4O24Tb8  TbMn0.500Ni0.500O3   \n",
       "\n",
       "                                           composition  n_atoms_unrelaxed  \\\n",
       "0    {'sites': {'A': ['Ca'], 'B': ['Mn', 'Fe'], 'X'...                 40   \n",
       "1    {'sites': {'A': ['Ca'], 'B': ['Mn', 'Fe'], 'X'...                 40   \n",
       "2    {'sites': {'A': ['Ca'], 'B': ['Mn', 'Fe'], 'X'...                 40   \n",
       "3    {'sites': {'A': ['Ca'], 'B': ['Mn', 'Fe'], 'X'...                 40   \n",
       "4    {'sites': {'A': ['Ca'], 'B': ['Mn', 'Fe'], 'X'...                 40   \n",
       "..                                                 ...                ...   \n",
       "595  {'sites': {'A': ['Tb'], 'B': ['Ni', 'Mn'], 'X'...                 40   \n",
       "596  {'sites': {'A': ['Tb'], 'B': ['Ni', 'Mn'], 'X'...                 40   \n",
       "597  {'sites': {'A': ['Tb'], 'B': ['Ni', 'Mn'], 'X'...                 40   \n",
       "598  {'sites': {'A': ['Tb'], 'B': ['Ni', 'Mn'], 'X'...                 40   \n",
       "599  {'sites': {'A': ['Tb'], 'B': ['Ni', 'Mn'], 'X'...                 40   \n",
       "\n",
       "     n_atoms_opt  unrelaxed_cryst_id  \\\n",
       "0             40           222998128   \n",
       "1             40           222998125   \n",
       "2             40           222998126   \n",
       "3             40           222998127   \n",
       "4             40           222998129   \n",
       "..           ...                 ...   \n",
       "595           40           272062436   \n",
       "596           40           272062439   \n",
       "597           40           272062435   \n",
       "598           40           272062438   \n",
       "599           40           272062434   \n",
       "\n",
       "                                      unrelaxed_struct  opt_cryst_id  \\\n",
       "0    {'@module': 'pymatgen.core.structure', '@class...     423959398   \n",
       "1    {'@module': 'pymatgen.core.structure', '@class...     421466237   \n",
       "2    {'@module': 'pymatgen.core.structure', '@class...     421466235   \n",
       "3    {'@module': 'pymatgen.core.structure', '@class...     421466263   \n",
       "4    {'@module': 'pymatgen.core.structure', '@class...     421466289   \n",
       "..                                                 ...           ...   \n",
       "595  {'@module': 'pymatgen.core.structure', '@class...     421446419   \n",
       "596  {'@module': 'pymatgen.core.structure', '@class...     421459053   \n",
       "597  {'@module': 'pymatgen.core.structure', '@class...     421464614   \n",
       "598  {'@module': 'pymatgen.core.structure', '@class...     421446230   \n",
       "599  {'@module': 'pymatgen.core.structure', '@class...     421466265   \n",
       "\n",
       "                                            opt_struct  es_job_id  ...  \\\n",
       "0    {'@module': 'pymatgen.core.structure', '@class...  123103556  ...   \n",
       "1    {'@module': 'pymatgen.core.structure', '@class...  122979400  ...   \n",
       "2    {'@module': 'pymatgen.core.structure', '@class...  122979657  ...   \n",
       "3    {'@module': 'pymatgen.core.structure', '@class...  122979417  ...   \n",
       "4    {'@module': 'pymatgen.core.structure', '@class...  122979438  ...   \n",
       "..                                                 ...        ...  ...   \n",
       "595  {'@module': 'pymatgen.core.structure', '@class...  122979607  ...   \n",
       "596  {'@module': 'pymatgen.core.structure', '@class...  122979241  ...   \n",
       "597  {'@module': 'pymatgen.core.structure', '@class...  122979281  ...   \n",
       "598  {'@module': 'pymatgen.core.structure', '@class...  122979130  ...   \n",
       "599  {'@module': 'pymatgen.core.structure', '@class...  122979419  ...   \n",
       "\n",
       "     dft_energy_per_atom  dft_e_hull  Op_band_center  \\\n",
       "0              -6.637245    0.074200       -1.389153   \n",
       "1              -6.640676    0.070768       -1.420044   \n",
       "2              -6.638568    0.072877       -1.424778   \n",
       "3              -6.640780    0.070665       -1.404994   \n",
       "4              -6.640714    0.070731       -1.381979   \n",
       "..                   ...         ...             ...   \n",
       "595            -7.298675    0.083433       -1.855526   \n",
       "596            -7.331892    0.050215       -1.358484   \n",
       "597            -7.295573    0.086535       -1.938487   \n",
       "598            -7.307931    0.074177       -1.890348   \n",
       "599            -7.289735    0.092373       -1.874410   \n",
       "\n",
       "                                 M3Gnet_relaxed_struct M3Gnet_relaxed_energy  \\\n",
       "0    {'@module': 'pymatgen.core.structure', '@class...           -266.711243   \n",
       "1    {'@module': 'pymatgen.core.structure', '@class...           -266.456848   \n",
       "2    {'@module': 'pymatgen.core.structure', '@class...           -266.213867   \n",
       "3    {'@module': 'pymatgen.core.structure', '@class...           -264.671021   \n",
       "4    {'@module': 'pymatgen.core.structure', '@class...           -266.308624   \n",
       "..                                                 ...                   ...   \n",
       "595  {'@module': 'pymatgen.core.structure', '@class...           -289.953644   \n",
       "596  {'@module': 'pymatgen.core.structure', '@class...           -290.115479   \n",
       "597  {'@module': 'pymatgen.core.structure', '@class...           -291.638702   \n",
       "598  {'@module': 'pymatgen.core.structure', '@class...           -292.125397   \n",
       "599  {'@module': 'pymatgen.core.structure', '@class...           -291.543457   \n",
       "\n",
       "     M3Gnet_relaxed_energy_per_atom  idx  predicted_dft_e_hull  e3nn_ensemble  \\\n",
       "0                         -6.667781    0              0.077370       0.075139   \n",
       "1                         -6.661421    1              0.076950       0.074992   \n",
       "2                         -6.655347    2              0.076547       0.074540   \n",
       "3                         -6.616776    3              0.077123       0.074982   \n",
       "4                         -6.657716    4              0.077057       0.074879   \n",
       "..                              ...  ...                   ...            ...   \n",
       "595                       -7.248841  595              0.100901       0.105014   \n",
       "596                       -7.252887  596              0.078920       0.079022   \n",
       "597                       -7.290968  597              0.100350       0.108635   \n",
       "598                       -7.303135  598              0.089636       0.089832   \n",
       "599                       -7.288586  599              0.110649       0.118514   \n",
       "\n",
       "     CGCNN_ensemble  \n",
       "0          0.074035  \n",
       "1          0.077533  \n",
       "2          0.072869  \n",
       "3          0.073774  \n",
       "4          0.072979  \n",
       "..              ...  \n",
       "595        0.099033  \n",
       "596        0.093835  \n",
       "597        0.098116  \n",
       "598        0.098087  \n",
       "599        0.101217  \n",
       "\n",
       "[600 rows x 21 columns]"
      ]
     },
     "execution_count": 127,
     "metadata": {},
     "output_type": "execute_result"
    }
   ],
   "source": [
    "held_out_B_data"
   ]
  },
  {
   "cell_type": "code",
   "execution_count": 138,
   "id": "ca609996",
   "metadata": {},
   "outputs": [],
   "source": [
    "def get_spearmans(energy):\n",
    "    spearmans = []\n",
    "    for curr_form in held_out_B_data.formula:\n",
    "        tmp_df = held_out_B_data[held_out_B_data.formula == curr_form].copy()\n",
    "        dft_energies = np.asarray(tmp_df.dft_e_hull)\n",
    "        model_energies = np.asarray(tmp_df[energy])\n",
    "        spearmans.append(spearmanr(dft_energies,model_energies)[0])\n",
    "        \n",
    "    return np.asarray(spearmans)"
   ]
  },
  {
   "cell_type": "code",
   "execution_count": 139,
   "id": "e384d5e6",
   "metadata": {},
   "outputs": [],
   "source": [
    "CGCNN_spears = get_spearmans(\"CGCNN_ensemble\")\n",
    "e3nn_spears = get_spearmans(\"e3nn_ensemble\")\n",
    "m3gnet_spears = get_spearmans(\"M3Gnet_relaxed_energy_per_atom\")"
   ]
  },
  {
   "cell_type": "code",
   "execution_count": 141,
   "id": "e21c36e7",
   "metadata": {},
   "outputs": [
    {
     "name": "stdout",
     "output_type": "stream",
     "text": [
      "0.4314285714285715\n"
     ]
    }
   ],
   "source": [
    "print(np.mean(CGCNN_spears))"
   ]
  },
  {
   "cell_type": "code",
   "execution_count": 142,
   "id": "ec59c705",
   "metadata": {},
   "outputs": [
    {
     "name": "stdout",
     "output_type": "stream",
     "text": [
      "0.5691428571428572\n"
     ]
    }
   ],
   "source": [
    "print(np.mean(e3nn_spears))"
   ]
  },
  {
   "cell_type": "code",
   "execution_count": 143,
   "id": "69672a7f",
   "metadata": {},
   "outputs": [
    {
     "name": "stdout",
     "output_type": "stream",
     "text": [
      "0.5308571428571429\n"
     ]
    }
   ],
   "source": [
    "print(np.mean(m3gnet_spears))"
   ]
  },
  {
   "cell_type": "code",
   "execution_count": 150,
   "id": "bf6254d8",
   "metadata": {},
   "outputs": [],
   "source": [
    "held_out_series_e3nn_best = pd.read_json(\"../../best_models/e3nn/dft_e_hull_htvs_data_unrelaxed_e3nn/837627/best_0/holdout_set_series_predictions.json\")\n",
    "held_out_series_e3nn_best_2 = pd.read_json(\"../../best_models/e3nn/dft_e_hull_htvs_data_unrelaxed_e3nn/837627/best_1/holdout_set_series_predictions.json\")\n",
    "held_out_series_e3nn_best_3 = pd.read_json(\"../../best_models/e3nn/dft_e_hull_htvs_data_unrelaxed_e3nn/837627/best_2/holdout_set_series_predictions.json\")\n",
    "\n"
   ]
  },
  {
   "cell_type": "code",
   "execution_count": 146,
   "id": "c07a1cf5",
   "metadata": {},
   "outputs": [
    {
     "data": {
      "text/html": [
       "<div>\n",
       "<style scoped>\n",
       "    .dataframe tbody tr th:only-of-type {\n",
       "        vertical-align: middle;\n",
       "    }\n",
       "\n",
       "    .dataframe tbody tr th {\n",
       "        vertical-align: top;\n",
       "    }\n",
       "\n",
       "    .dataframe thead th {\n",
       "        text-align: right;\n",
       "    }\n",
       "</style>\n",
       "<table border=\"1\" class=\"dataframe\">\n",
       "  <thead>\n",
       "    <tr style=\"text-align: right;\">\n",
       "      <th></th>\n",
       "      <th>formula</th>\n",
       "      <th>framework</th>\n",
       "      <th>composition</th>\n",
       "      <th>n_atoms_unrelaxed</th>\n",
       "      <th>n_atoms_opt</th>\n",
       "      <th>unrelaxed_cryst_id</th>\n",
       "      <th>unrelaxed_struct</th>\n",
       "      <th>opt_cryst_id</th>\n",
       "      <th>opt_struct</th>\n",
       "      <th>es_job_id</th>\n",
       "      <th>dft_energy</th>\n",
       "      <th>dft_energy_per_atom</th>\n",
       "      <th>dft_e_hull</th>\n",
       "      <th>Op_band_center</th>\n",
       "      <th>M3Gnet_relaxed_struct</th>\n",
       "      <th>M3Gnet_relaxed_energy</th>\n",
       "      <th>M3Gnet_relaxed_energy_per_atom</th>\n",
       "      <th>idx</th>\n",
       "      <th>predicted_dft_e_hull</th>\n",
       "    </tr>\n",
       "  </thead>\n",
       "  <tbody>\n",
       "    <tr>\n",
       "      <th>0</th>\n",
       "      <td>Bi2Cu4La6Mo4O24</td>\n",
       "      <td>Bi0.250La0.750Cu0.500Mo0.500O3</td>\n",
       "      <td>{'sites': {'A': ['Bi', 'La'], 'B': ['Cu', 'Mo'...</td>\n",
       "      <td>40</td>\n",
       "      <td>40</td>\n",
       "      <td>183674840</td>\n",
       "      <td>{'@module': 'pymatgen.core.structure', '@class...</td>\n",
       "      <td>421255705</td>\n",
       "      <td>{'@module': 'pymatgen.core.structure', '@class...</td>\n",
       "      <td>122946754</td>\n",
       "      <td>-282.924004</td>\n",
       "      <td>-7.073100</td>\n",
       "      <td>0.155643</td>\n",
       "      <td>-3.706086</td>\n",
       "      <td>{'@module': 'pymatgen.core.structure', '@class...</td>\n",
       "      <td>-281.835388</td>\n",
       "      <td>-7.045885</td>\n",
       "      <td>0</td>\n",
       "      <td>0.135469</td>\n",
       "    </tr>\n",
       "    <tr>\n",
       "      <th>1</th>\n",
       "      <td>Bi2Cu4La6Mo4O24</td>\n",
       "      <td>Bi0.250La0.750Cu0.500Mo0.500O3</td>\n",
       "      <td>{'sites': {'A': ['Bi', 'La'], 'B': ['Cu', 'Mo'...</td>\n",
       "      <td>40</td>\n",
       "      <td>40</td>\n",
       "      <td>183674829</td>\n",
       "      <td>{'@module': 'pymatgen.core.structure', '@class...</td>\n",
       "      <td>421255754</td>\n",
       "      <td>{'@module': 'pymatgen.core.structure', '@class...</td>\n",
       "      <td>122946790</td>\n",
       "      <td>-282.888155</td>\n",
       "      <td>-7.072204</td>\n",
       "      <td>0.156539</td>\n",
       "      <td>-3.393402</td>\n",
       "      <td>{'@module': 'pymatgen.core.structure', '@class...</td>\n",
       "      <td>-282.413788</td>\n",
       "      <td>-7.060345</td>\n",
       "      <td>1</td>\n",
       "      <td>0.136587</td>\n",
       "    </tr>\n",
       "    <tr>\n",
       "      <th>2</th>\n",
       "      <td>Bi2Cu4La6Mo4O24</td>\n",
       "      <td>Bi0.250La0.750Cu0.500Mo0.500O3</td>\n",
       "      <td>{'sites': {'A': ['Bi', 'La'], 'B': ['Cu', 'Mo'...</td>\n",
       "      <td>40</td>\n",
       "      <td>40</td>\n",
       "      <td>183674850</td>\n",
       "      <td>{'@module': 'pymatgen.core.structure', '@class...</td>\n",
       "      <td>423959399</td>\n",
       "      <td>{'@module': 'pymatgen.core.structure', '@class...</td>\n",
       "      <td>123103557</td>\n",
       "      <td>-282.752910</td>\n",
       "      <td>-7.068823</td>\n",
       "      <td>0.159920</td>\n",
       "      <td>-3.692469</td>\n",
       "      <td>{'@module': 'pymatgen.core.structure', '@class...</td>\n",
       "      <td>-281.959564</td>\n",
       "      <td>-7.048989</td>\n",
       "      <td>2</td>\n",
       "      <td>0.118276</td>\n",
       "    </tr>\n",
       "    <tr>\n",
       "      <th>3</th>\n",
       "      <td>Bi2Cu4La6Mo4O24</td>\n",
       "      <td>Bi0.250La0.750Cu0.500Mo0.500O3</td>\n",
       "      <td>{'sites': {'A': ['Bi', 'La'], 'B': ['Cu', 'Mo'...</td>\n",
       "      <td>40</td>\n",
       "      <td>40</td>\n",
       "      <td>183674832</td>\n",
       "      <td>{'@module': 'pymatgen.core.structure', '@class...</td>\n",
       "      <td>421255719</td>\n",
       "      <td>{'@module': 'pymatgen.core.structure', '@class...</td>\n",
       "      <td>122946765</td>\n",
       "      <td>-283.967819</td>\n",
       "      <td>-7.099195</td>\n",
       "      <td>0.129547</td>\n",
       "      <td>-3.652090</td>\n",
       "      <td>{'@module': 'pymatgen.core.structure', '@class...</td>\n",
       "      <td>-281.792023</td>\n",
       "      <td>-7.044801</td>\n",
       "      <td>3</td>\n",
       "      <td>0.161031</td>\n",
       "    </tr>\n",
       "    <tr>\n",
       "      <th>4</th>\n",
       "      <td>Bi2Cu4La6Mo4O24</td>\n",
       "      <td>Bi0.250La0.750Cu0.500Mo0.500O3</td>\n",
       "      <td>{'sites': {'A': ['Bi', 'La'], 'B': ['Cu', 'Mo'...</td>\n",
       "      <td>40</td>\n",
       "      <td>40</td>\n",
       "      <td>183674834</td>\n",
       "      <td>{'@module': 'pymatgen.core.structure', '@class...</td>\n",
       "      <td>423959434</td>\n",
       "      <td>{'@module': 'pymatgen.core.structure', '@class...</td>\n",
       "      <td>123103586</td>\n",
       "      <td>-283.248998</td>\n",
       "      <td>-7.081225</td>\n",
       "      <td>0.147518</td>\n",
       "      <td>-3.559921</td>\n",
       "      <td>{'@module': 'pymatgen.core.structure', '@class...</td>\n",
       "      <td>-281.422272</td>\n",
       "      <td>-7.035557</td>\n",
       "      <td>4</td>\n",
       "      <td>0.140187</td>\n",
       "    </tr>\n",
       "    <tr>\n",
       "      <th>...</th>\n",
       "      <td>...</td>\n",
       "      <td>...</td>\n",
       "      <td>...</td>\n",
       "      <td>...</td>\n",
       "      <td>...</td>\n",
       "      <td>...</td>\n",
       "      <td>...</td>\n",
       "      <td>...</td>\n",
       "      <td>...</td>\n",
       "      <td>...</td>\n",
       "      <td>...</td>\n",
       "      <td>...</td>\n",
       "      <td>...</td>\n",
       "      <td>...</td>\n",
       "      <td>...</td>\n",
       "      <td>...</td>\n",
       "      <td>...</td>\n",
       "      <td>...</td>\n",
       "      <td>...</td>\n",
       "    </tr>\n",
       "    <tr>\n",
       "      <th>858</th>\n",
       "      <td>Mg7Ni4O24Pr1V4</td>\n",
       "      <td>Mg0.875Pr0.125Ni0.500V0.500O3</td>\n",
       "      <td>{'sites': {'A': ['Mg', 'Pr'], 'B': ['Ni', 'V']...</td>\n",
       "      <td>40</td>\n",
       "      <td>40</td>\n",
       "      <td>183674255</td>\n",
       "      <td>{'@module': 'pymatgen.core.structure', '@class...</td>\n",
       "      <td>436520773</td>\n",
       "      <td>{'@module': 'pymatgen.core.structure', '@class...</td>\n",
       "      <td>124467329</td>\n",
       "      <td>-250.368584</td>\n",
       "      <td>-6.259215</td>\n",
       "      <td>0.207065</td>\n",
       "      <td>-1.426689</td>\n",
       "      <td>{'@module': 'pymatgen.core.structure', '@class...</td>\n",
       "      <td>-250.886169</td>\n",
       "      <td>-6.272154</td>\n",
       "      <td>858</td>\n",
       "      <td>0.193778</td>\n",
       "    </tr>\n",
       "    <tr>\n",
       "      <th>859</th>\n",
       "      <td>Mg7Ni4O24Pr1V4</td>\n",
       "      <td>Mg0.875Pr0.125Ni0.500V0.500O3</td>\n",
       "      <td>{'sites': {'A': ['Mg', 'Pr'], 'B': ['Ni', 'V']...</td>\n",
       "      <td>40</td>\n",
       "      <td>40</td>\n",
       "      <td>183674250</td>\n",
       "      <td>{'@module': 'pymatgen.core.structure', '@class...</td>\n",
       "      <td>438904289</td>\n",
       "      <td>{'@module': 'pymatgen.core.structure', '@class...</td>\n",
       "      <td>124881872</td>\n",
       "      <td>-250.311759</td>\n",
       "      <td>-6.257794</td>\n",
       "      <td>0.208486</td>\n",
       "      <td>-1.767277</td>\n",
       "      <td>{'@module': 'pymatgen.core.structure', '@class...</td>\n",
       "      <td>-250.448029</td>\n",
       "      <td>-6.261201</td>\n",
       "      <td>859</td>\n",
       "      <td>0.227980</td>\n",
       "    </tr>\n",
       "    <tr>\n",
       "      <th>860</th>\n",
       "      <td>Mg7Ni4O24Pr1V4</td>\n",
       "      <td>Mg0.875Pr0.125Ni0.500V0.500O3</td>\n",
       "      <td>{'sites': {'A': ['Mg', 'Pr'], 'B': ['Ni', 'V']...</td>\n",
       "      <td>40</td>\n",
       "      <td>40</td>\n",
       "      <td>183674253</td>\n",
       "      <td>{'@module': 'pymatgen.core.structure', '@class...</td>\n",
       "      <td>439756697</td>\n",
       "      <td>{'@module': 'pymatgen.core.structure', '@class...</td>\n",
       "      <td>124917879</td>\n",
       "      <td>-249.768946</td>\n",
       "      <td>-6.244224</td>\n",
       "      <td>0.222056</td>\n",
       "      <td>-1.545788</td>\n",
       "      <td>{'@module': 'pymatgen.core.structure', '@class...</td>\n",
       "      <td>-249.622391</td>\n",
       "      <td>-6.240560</td>\n",
       "      <td>860</td>\n",
       "      <td>0.212941</td>\n",
       "    </tr>\n",
       "    <tr>\n",
       "      <th>861</th>\n",
       "      <td>Mg7Ni4O24Pr1V4</td>\n",
       "      <td>Mg0.875Pr0.125Ni0.500V0.500O3</td>\n",
       "      <td>{'sites': {'A': ['Mg', 'Pr'], 'B': ['Ni', 'V']...</td>\n",
       "      <td>40</td>\n",
       "      <td>40</td>\n",
       "      <td>183674254</td>\n",
       "      <td>{'@module': 'pymatgen.core.structure', '@class...</td>\n",
       "      <td>436520728</td>\n",
       "      <td>{'@module': 'pymatgen.core.structure', '@class...</td>\n",
       "      <td>124467292</td>\n",
       "      <td>-249.766908</td>\n",
       "      <td>-6.244173</td>\n",
       "      <td>0.222107</td>\n",
       "      <td>-1.439217</td>\n",
       "      <td>{'@module': 'pymatgen.core.structure', '@class...</td>\n",
       "      <td>-249.717239</td>\n",
       "      <td>-6.242931</td>\n",
       "      <td>861</td>\n",
       "      <td>0.207730</td>\n",
       "    </tr>\n",
       "    <tr>\n",
       "      <th>862</th>\n",
       "      <td>Mg7Ni4O24Pr1V4</td>\n",
       "      <td>Mg0.875Pr0.125Ni0.500V0.500O3</td>\n",
       "      <td>{'sites': {'A': ['Mg', 'Pr'], 'B': ['Ni', 'V']...</td>\n",
       "      <td>40</td>\n",
       "      <td>40</td>\n",
       "      <td>183674251</td>\n",
       "      <td>{'@module': 'pymatgen.core.structure', '@class...</td>\n",
       "      <td>440177160</td>\n",
       "      <td>{'@module': 'pymatgen.core.structure', '@class...</td>\n",
       "      <td>124933261</td>\n",
       "      <td>-250.078838</td>\n",
       "      <td>-6.251971</td>\n",
       "      <td>0.214309</td>\n",
       "      <td>-1.690306</td>\n",
       "      <td>{'@module': 'pymatgen.core.structure', '@class...</td>\n",
       "      <td>-250.841400</td>\n",
       "      <td>-6.271035</td>\n",
       "      <td>862</td>\n",
       "      <td>0.225565</td>\n",
       "    </tr>\n",
       "  </tbody>\n",
       "</table>\n",
       "<p>863 rows × 19 columns</p>\n",
       "</div>"
      ],
      "text/plain": [
       "             formula                       framework  \\\n",
       "0    Bi2Cu4La6Mo4O24  Bi0.250La0.750Cu0.500Mo0.500O3   \n",
       "1    Bi2Cu4La6Mo4O24  Bi0.250La0.750Cu0.500Mo0.500O3   \n",
       "2    Bi2Cu4La6Mo4O24  Bi0.250La0.750Cu0.500Mo0.500O3   \n",
       "3    Bi2Cu4La6Mo4O24  Bi0.250La0.750Cu0.500Mo0.500O3   \n",
       "4    Bi2Cu4La6Mo4O24  Bi0.250La0.750Cu0.500Mo0.500O3   \n",
       "..               ...                             ...   \n",
       "858   Mg7Ni4O24Pr1V4   Mg0.875Pr0.125Ni0.500V0.500O3   \n",
       "859   Mg7Ni4O24Pr1V4   Mg0.875Pr0.125Ni0.500V0.500O3   \n",
       "860   Mg7Ni4O24Pr1V4   Mg0.875Pr0.125Ni0.500V0.500O3   \n",
       "861   Mg7Ni4O24Pr1V4   Mg0.875Pr0.125Ni0.500V0.500O3   \n",
       "862   Mg7Ni4O24Pr1V4   Mg0.875Pr0.125Ni0.500V0.500O3   \n",
       "\n",
       "                                           composition  n_atoms_unrelaxed  \\\n",
       "0    {'sites': {'A': ['Bi', 'La'], 'B': ['Cu', 'Mo'...                 40   \n",
       "1    {'sites': {'A': ['Bi', 'La'], 'B': ['Cu', 'Mo'...                 40   \n",
       "2    {'sites': {'A': ['Bi', 'La'], 'B': ['Cu', 'Mo'...                 40   \n",
       "3    {'sites': {'A': ['Bi', 'La'], 'B': ['Cu', 'Mo'...                 40   \n",
       "4    {'sites': {'A': ['Bi', 'La'], 'B': ['Cu', 'Mo'...                 40   \n",
       "..                                                 ...                ...   \n",
       "858  {'sites': {'A': ['Mg', 'Pr'], 'B': ['Ni', 'V']...                 40   \n",
       "859  {'sites': {'A': ['Mg', 'Pr'], 'B': ['Ni', 'V']...                 40   \n",
       "860  {'sites': {'A': ['Mg', 'Pr'], 'B': ['Ni', 'V']...                 40   \n",
       "861  {'sites': {'A': ['Mg', 'Pr'], 'B': ['Ni', 'V']...                 40   \n",
       "862  {'sites': {'A': ['Mg', 'Pr'], 'B': ['Ni', 'V']...                 40   \n",
       "\n",
       "     n_atoms_opt  unrelaxed_cryst_id  \\\n",
       "0             40           183674840   \n",
       "1             40           183674829   \n",
       "2             40           183674850   \n",
       "3             40           183674832   \n",
       "4             40           183674834   \n",
       "..           ...                 ...   \n",
       "858           40           183674255   \n",
       "859           40           183674250   \n",
       "860           40           183674253   \n",
       "861           40           183674254   \n",
       "862           40           183674251   \n",
       "\n",
       "                                      unrelaxed_struct  opt_cryst_id  \\\n",
       "0    {'@module': 'pymatgen.core.structure', '@class...     421255705   \n",
       "1    {'@module': 'pymatgen.core.structure', '@class...     421255754   \n",
       "2    {'@module': 'pymatgen.core.structure', '@class...     423959399   \n",
       "3    {'@module': 'pymatgen.core.structure', '@class...     421255719   \n",
       "4    {'@module': 'pymatgen.core.structure', '@class...     423959434   \n",
       "..                                                 ...           ...   \n",
       "858  {'@module': 'pymatgen.core.structure', '@class...     436520773   \n",
       "859  {'@module': 'pymatgen.core.structure', '@class...     438904289   \n",
       "860  {'@module': 'pymatgen.core.structure', '@class...     439756697   \n",
       "861  {'@module': 'pymatgen.core.structure', '@class...     436520728   \n",
       "862  {'@module': 'pymatgen.core.structure', '@class...     440177160   \n",
       "\n",
       "                                            opt_struct  es_job_id  dft_energy  \\\n",
       "0    {'@module': 'pymatgen.core.structure', '@class...  122946754 -282.924004   \n",
       "1    {'@module': 'pymatgen.core.structure', '@class...  122946790 -282.888155   \n",
       "2    {'@module': 'pymatgen.core.structure', '@class...  123103557 -282.752910   \n",
       "3    {'@module': 'pymatgen.core.structure', '@class...  122946765 -283.967819   \n",
       "4    {'@module': 'pymatgen.core.structure', '@class...  123103586 -283.248998   \n",
       "..                                                 ...        ...         ...   \n",
       "858  {'@module': 'pymatgen.core.structure', '@class...  124467329 -250.368584   \n",
       "859  {'@module': 'pymatgen.core.structure', '@class...  124881872 -250.311759   \n",
       "860  {'@module': 'pymatgen.core.structure', '@class...  124917879 -249.768946   \n",
       "861  {'@module': 'pymatgen.core.structure', '@class...  124467292 -249.766908   \n",
       "862  {'@module': 'pymatgen.core.structure', '@class...  124933261 -250.078838   \n",
       "\n",
       "     dft_energy_per_atom  dft_e_hull  Op_band_center  \\\n",
       "0              -7.073100    0.155643       -3.706086   \n",
       "1              -7.072204    0.156539       -3.393402   \n",
       "2              -7.068823    0.159920       -3.692469   \n",
       "3              -7.099195    0.129547       -3.652090   \n",
       "4              -7.081225    0.147518       -3.559921   \n",
       "..                   ...         ...             ...   \n",
       "858            -6.259215    0.207065       -1.426689   \n",
       "859            -6.257794    0.208486       -1.767277   \n",
       "860            -6.244224    0.222056       -1.545788   \n",
       "861            -6.244173    0.222107       -1.439217   \n",
       "862            -6.251971    0.214309       -1.690306   \n",
       "\n",
       "                                 M3Gnet_relaxed_struct  M3Gnet_relaxed_energy  \\\n",
       "0    {'@module': 'pymatgen.core.structure', '@class...            -281.835388   \n",
       "1    {'@module': 'pymatgen.core.structure', '@class...            -282.413788   \n",
       "2    {'@module': 'pymatgen.core.structure', '@class...            -281.959564   \n",
       "3    {'@module': 'pymatgen.core.structure', '@class...            -281.792023   \n",
       "4    {'@module': 'pymatgen.core.structure', '@class...            -281.422272   \n",
       "..                                                 ...                    ...   \n",
       "858  {'@module': 'pymatgen.core.structure', '@class...            -250.886169   \n",
       "859  {'@module': 'pymatgen.core.structure', '@class...            -250.448029   \n",
       "860  {'@module': 'pymatgen.core.structure', '@class...            -249.622391   \n",
       "861  {'@module': 'pymatgen.core.structure', '@class...            -249.717239   \n",
       "862  {'@module': 'pymatgen.core.structure', '@class...            -250.841400   \n",
       "\n",
       "     M3Gnet_relaxed_energy_per_atom  idx  predicted_dft_e_hull  \n",
       "0                         -7.045885    0              0.135469  \n",
       "1                         -7.060345    1              0.136587  \n",
       "2                         -7.048989    2              0.118276  \n",
       "3                         -7.044801    3              0.161031  \n",
       "4                         -7.035557    4              0.140187  \n",
       "..                              ...  ...                   ...  \n",
       "858                       -6.272154  858              0.193778  \n",
       "859                       -6.261201  859              0.227980  \n",
       "860                       -6.240560  860              0.212941  \n",
       "861                       -6.242931  861              0.207730  \n",
       "862                       -6.271035  862              0.225565  \n",
       "\n",
       "[863 rows x 19 columns]"
      ]
     },
     "execution_count": 146,
     "metadata": {},
     "output_type": "execute_result"
    }
   ],
   "source": [
    "held_out_series"
   ]
  },
  {
   "cell_type": "code",
   "execution_count": 147,
   "id": "39cb7d02",
   "metadata": {},
   "outputs": [],
   "source": [
    "formula_count = {}\n",
    "for curr_formula in held_out_series.formula:\n",
    "    if curr_formula in formula_count:\n",
    "        formula_count[curr_formula]+=1\n",
    "    else:\n",
    "        formula_count[curr_formula]=1"
   ]
  },
  {
   "cell_type": "code",
   "execution_count": 148,
   "id": "4ec115e9",
   "metadata": {},
   "outputs": [
    {
     "data": {
      "text/plain": [
       "{'Bi2Cu4La6Mo4O24': 19,\n",
       " 'Bi4Cu4La4Mo4O24': 41,\n",
       " 'Bi7Cu4La1Mo4O24': 6,\n",
       " 'Co4Fe4La2O24Sr6': 25,\n",
       " 'Co4Fe4La3O24Sr5': 24,\n",
       " 'Co4Fe4La5O24Sr3': 12,\n",
       " 'Co4Fe4La6O24Sr2': 17,\n",
       " 'Co4Fe4La7O24Sr1': 3,\n",
       " 'Co4Fe4La4O24Sr4': 30,\n",
       " 'Bi3Cu4La5Mo4O24': 21,\n",
       " 'Bi5Cu4La3Mo4O24': 16,\n",
       " 'Bi6Cu4La2Mo4O24': 25,\n",
       " 'Bi1Cu4La7Mo4O24': 4,\n",
       " 'Co4Fe4La1O24Sr7': 6,\n",
       " 'Al4Ba1K7O24Ti4': 5,\n",
       " 'Al4Ba2K6O24Ti4': 26,\n",
       " 'Al4Ba3K5O24Ti4': 24,\n",
       " 'Al4Ba4K4O24Ti4': 50,\n",
       " 'Al4Ba5K3O24Ti4': 26,\n",
       " 'Al4Ba6K2O24Ti4': 26,\n",
       " 'Al4Ba7K1O24Ti4': 6,\n",
       " 'La1Ni4O24Pr7Y4': 6,\n",
       " 'In4La1Mg4O24Y7': 6,\n",
       " 'La2Ni4O24Pr6Y4': 24,\n",
       " 'In4La2Mg4O24Y6': 24,\n",
       " 'La3Ni4O24Pr5Y4': 24,\n",
       " 'In4La3Mg4O24Y5': 26,\n",
       " 'La4Ni4O24Pr4Y4': 43,\n",
       " 'In4La4Mg4O24Y4': 51,\n",
       " 'La5Ni4O24Pr3Y4': 7,\n",
       " 'In4La5Mg4O24Y3': 26,\n",
       " 'La6Ni4O24Pr2Y4': 18,\n",
       " 'In4La6Mg4O24Y2': 24,\n",
       " 'La7Ni4O24Pr1Y4': 2,\n",
       " 'In4La7Mg4O24Y1': 6,\n",
       " 'Mg1Ni4O24Pr7V4': 6,\n",
       " 'Mg2Ni4O24Pr6V4': 25,\n",
       " 'Mg3Ni4O24Pr5V4': 24,\n",
       " 'Mg4Ni4O24Pr4V4': 51,\n",
       " 'Mg5Ni4O24Pr3V4': 26,\n",
       " 'Mg6Ni4O24Pr2V4': 26,\n",
       " 'Mg7Ni4O24Pr1V4': 6}"
      ]
     },
     "execution_count": 148,
     "metadata": {},
     "output_type": "execute_result"
    }
   ],
   "source": [
    "formula_count"
   ]
  },
  {
   "cell_type": "code",
   "execution_count": null,
   "id": "ae7af62a",
   "metadata": {},
   "outputs": [],
   "source": [
    "T = 1300\n",
    "kb = 0.0000861733326\n",
    "\n",
    "\n",
    "def get_Prs(data,formula,energies):\n",
    "    data_form = data[data.formula==formula].copy()\n",
    "    data_form_sorted = data_form.sort_values(by=[\"unrelaxed_cryst_id\"],axis=0)\n",
    "    energies = np.asarray(data_form_sorted[energies])*40.0\n",
    "    energies -= energies.min()\n",
    "    probs = np.exp(-energies/(kb*T))*degen\n",
    "    probs = probs / probs.sum()\n",
    "    \n",
    "    return probs[-1]\n",
    "    \n",
    "    \n",
    "    \n",
    "def get_entropy(data,formula,energies):\n",
    "    \n",
    "    data_form = data[data.formula==formula].copy()\n",
    "    data_form_sorted = data_form.sort_values(by=[\"unrelaxed_cryst_id\"],axis=0)\n",
    "    energies = np.asarray(data_form_sorted[energies])*40.0\n",
    "    energies -= energies.min()\n",
    "    Bolzmann_terms = np.exp(-energies/(kb*T))\n",
    "    weighted_probs = Bolzmann_terms*degen / np.sum(Bolzmann_terms*degen)\n",
    "    \n",
    "    entropy = 0\n",
    "    entropy_norm = 0\n",
    "    \n",
    "    Z = np.sum(Bolzmann_terms*degen)\n",
    "    \n",
    "    uniform_Bolzmann_terms = np.ones(Bolzmann_terms.shape)\n",
    "    uniform_Z = np.sum(degen*uniform_Bolzmann_terms)\n",
    "    uniform_weighted_probs = uniform_Bolzmann_terms*degen / uniform_Z\n",
    "\n",
    "    for i in range(Bolzmann_terms.shape[0]):\n",
    "        entropy += weighted_probs[i]*np.log(Bolzmann_terms[i]/Z)\n",
    "        \n",
    "        entropy_norm += uniform_weighted_probs[i]*np.log(uniform_Bolzmann_terms[i]/uniform_Z)\n",
    "\n",
    "    return entropy/entropy_norm"
   ]
  },
  {
   "cell_type": "code",
   "execution_count": 149,
   "id": "ab75aa78",
   "metadata": {},
   "outputs": [],
   "source": [
    "def get_spearmans(energy):\n",
    "    spearmans = []\n",
    "    for curr_form in held_out_series.formula:\n",
    "        tmp_df = held_out_series[held_out_series.formula == curr_form].copy()\n",
    "        dft_energies = np.asarray(tmp_df.dft_e_hull)\n",
    "        model_energies = np.asarray(tmp_df[energy])\n",
    "        spearmans.append(spearmanr(dft_energies,model_energies)[0])\n",
    "        \n",
    "    return np.asarray(spearmans)"
   ]
  },
  {
   "cell_type": "code",
   "execution_count": 151,
   "id": "a0715134",
   "metadata": {},
   "outputs": [],
   "source": [
    "held_out_series_CGCNN_best = pd.read_json(\"../../best_models/CGCNN/dft_e_hull_htvs_data_unrelaxed_CGCNN/837611/best_0/holdout_set_series_predictions.json\")\n",
    "held_out_series_CGCNN_best_2 = pd.read_json(\"../../best_models/CGCNN/dft_e_hull_htvs_data_unrelaxed_CGCNN/837611/best_1/holdout_set_series_predictions.json\")\n",
    "held_out_series_CGCNN_best_3 = pd.read_json(\"../../best_models/CGCNN/dft_e_hull_htvs_data_unrelaxed_CGCNN/837611/best_2/holdout_set_series_predictions.json\")\n"
   ]
  },
  {
   "cell_type": "code",
   "execution_count": 152,
   "id": "86898eb2",
   "metadata": {},
   "outputs": [],
   "source": [
    "held_out_series = held_out_series_e3nn_best.copy()"
   ]
  },
  {
   "cell_type": "code",
   "execution_count": 153,
   "id": "180e1497",
   "metadata": {},
   "outputs": [
    {
     "data": {
      "text/html": [
       "<div>\n",
       "<style scoped>\n",
       "    .dataframe tbody tr th:only-of-type {\n",
       "        vertical-align: middle;\n",
       "    }\n",
       "\n",
       "    .dataframe tbody tr th {\n",
       "        vertical-align: top;\n",
       "    }\n",
       "\n",
       "    .dataframe thead th {\n",
       "        text-align: right;\n",
       "    }\n",
       "</style>\n",
       "<table border=\"1\" class=\"dataframe\">\n",
       "  <thead>\n",
       "    <tr style=\"text-align: right;\">\n",
       "      <th></th>\n",
       "      <th>formula</th>\n",
       "      <th>framework</th>\n",
       "      <th>composition</th>\n",
       "      <th>n_atoms_unrelaxed</th>\n",
       "      <th>n_atoms_opt</th>\n",
       "      <th>unrelaxed_cryst_id</th>\n",
       "      <th>unrelaxed_struct</th>\n",
       "      <th>opt_cryst_id</th>\n",
       "      <th>opt_struct</th>\n",
       "      <th>es_job_id</th>\n",
       "      <th>dft_energy</th>\n",
       "      <th>dft_energy_per_atom</th>\n",
       "      <th>dft_e_hull</th>\n",
       "      <th>Op_band_center</th>\n",
       "      <th>M3Gnet_relaxed_struct</th>\n",
       "      <th>M3Gnet_relaxed_energy</th>\n",
       "      <th>M3Gnet_relaxed_energy_per_atom</th>\n",
       "      <th>idx</th>\n",
       "      <th>predicted_dft_e_hull</th>\n",
       "    </tr>\n",
       "  </thead>\n",
       "  <tbody>\n",
       "    <tr>\n",
       "      <th>0</th>\n",
       "      <td>Bi2Cu4La6Mo4O24</td>\n",
       "      <td>Bi0.250La0.750Cu0.500Mo0.500O3</td>\n",
       "      <td>{'sites': {'A': ['Bi', 'La'], 'B': ['Cu', 'Mo'...</td>\n",
       "      <td>40</td>\n",
       "      <td>40</td>\n",
       "      <td>183674840</td>\n",
       "      <td>{'@module': 'pymatgen.core.structure', '@class...</td>\n",
       "      <td>421255705</td>\n",
       "      <td>{'@module': 'pymatgen.core.structure', '@class...</td>\n",
       "      <td>122946754</td>\n",
       "      <td>-282.924004</td>\n",
       "      <td>-7.073100</td>\n",
       "      <td>0.155643</td>\n",
       "      <td>-3.706086</td>\n",
       "      <td>{'@module': 'pymatgen.core.structure', '@class...</td>\n",
       "      <td>-281.835388</td>\n",
       "      <td>-7.045885</td>\n",
       "      <td>0</td>\n",
       "      <td>0.056025</td>\n",
       "    </tr>\n",
       "    <tr>\n",
       "      <th>1</th>\n",
       "      <td>Bi2Cu4La6Mo4O24</td>\n",
       "      <td>Bi0.250La0.750Cu0.500Mo0.500O3</td>\n",
       "      <td>{'sites': {'A': ['Bi', 'La'], 'B': ['Cu', 'Mo'...</td>\n",
       "      <td>40</td>\n",
       "      <td>40</td>\n",
       "      <td>183674829</td>\n",
       "      <td>{'@module': 'pymatgen.core.structure', '@class...</td>\n",
       "      <td>421255754</td>\n",
       "      <td>{'@module': 'pymatgen.core.structure', '@class...</td>\n",
       "      <td>122946790</td>\n",
       "      <td>-282.888155</td>\n",
       "      <td>-7.072204</td>\n",
       "      <td>0.156539</td>\n",
       "      <td>-3.393402</td>\n",
       "      <td>{'@module': 'pymatgen.core.structure', '@class...</td>\n",
       "      <td>-282.413788</td>\n",
       "      <td>-7.060345</td>\n",
       "      <td>1</td>\n",
       "      <td>0.059529</td>\n",
       "    </tr>\n",
       "    <tr>\n",
       "      <th>2</th>\n",
       "      <td>Bi2Cu4La6Mo4O24</td>\n",
       "      <td>Bi0.250La0.750Cu0.500Mo0.500O3</td>\n",
       "      <td>{'sites': {'A': ['Bi', 'La'], 'B': ['Cu', 'Mo'...</td>\n",
       "      <td>40</td>\n",
       "      <td>40</td>\n",
       "      <td>183674850</td>\n",
       "      <td>{'@module': 'pymatgen.core.structure', '@class...</td>\n",
       "      <td>423959399</td>\n",
       "      <td>{'@module': 'pymatgen.core.structure', '@class...</td>\n",
       "      <td>123103557</td>\n",
       "      <td>-282.752910</td>\n",
       "      <td>-7.068823</td>\n",
       "      <td>0.159920</td>\n",
       "      <td>-3.692469</td>\n",
       "      <td>{'@module': 'pymatgen.core.structure', '@class...</td>\n",
       "      <td>-281.959564</td>\n",
       "      <td>-7.048989</td>\n",
       "      <td>2</td>\n",
       "      <td>0.056567</td>\n",
       "    </tr>\n",
       "    <tr>\n",
       "      <th>3</th>\n",
       "      <td>Bi2Cu4La6Mo4O24</td>\n",
       "      <td>Bi0.250La0.750Cu0.500Mo0.500O3</td>\n",
       "      <td>{'sites': {'A': ['Bi', 'La'], 'B': ['Cu', 'Mo'...</td>\n",
       "      <td>40</td>\n",
       "      <td>40</td>\n",
       "      <td>183674832</td>\n",
       "      <td>{'@module': 'pymatgen.core.structure', '@class...</td>\n",
       "      <td>421255719</td>\n",
       "      <td>{'@module': 'pymatgen.core.structure', '@class...</td>\n",
       "      <td>122946765</td>\n",
       "      <td>-283.967819</td>\n",
       "      <td>-7.099195</td>\n",
       "      <td>0.129547</td>\n",
       "      <td>-3.652090</td>\n",
       "      <td>{'@module': 'pymatgen.core.structure', '@class...</td>\n",
       "      <td>-281.792023</td>\n",
       "      <td>-7.044801</td>\n",
       "      <td>3</td>\n",
       "      <td>0.063143</td>\n",
       "    </tr>\n",
       "    <tr>\n",
       "      <th>4</th>\n",
       "      <td>Bi2Cu4La6Mo4O24</td>\n",
       "      <td>Bi0.250La0.750Cu0.500Mo0.500O3</td>\n",
       "      <td>{'sites': {'A': ['Bi', 'La'], 'B': ['Cu', 'Mo'...</td>\n",
       "      <td>40</td>\n",
       "      <td>40</td>\n",
       "      <td>183674834</td>\n",
       "      <td>{'@module': 'pymatgen.core.structure', '@class...</td>\n",
       "      <td>423959434</td>\n",
       "      <td>{'@module': 'pymatgen.core.structure', '@class...</td>\n",
       "      <td>123103586</td>\n",
       "      <td>-283.248998</td>\n",
       "      <td>-7.081225</td>\n",
       "      <td>0.147518</td>\n",
       "      <td>-3.559921</td>\n",
       "      <td>{'@module': 'pymatgen.core.structure', '@class...</td>\n",
       "      <td>-281.422272</td>\n",
       "      <td>-7.035557</td>\n",
       "      <td>4</td>\n",
       "      <td>0.054509</td>\n",
       "    </tr>\n",
       "    <tr>\n",
       "      <th>...</th>\n",
       "      <td>...</td>\n",
       "      <td>...</td>\n",
       "      <td>...</td>\n",
       "      <td>...</td>\n",
       "      <td>...</td>\n",
       "      <td>...</td>\n",
       "      <td>...</td>\n",
       "      <td>...</td>\n",
       "      <td>...</td>\n",
       "      <td>...</td>\n",
       "      <td>...</td>\n",
       "      <td>...</td>\n",
       "      <td>...</td>\n",
       "      <td>...</td>\n",
       "      <td>...</td>\n",
       "      <td>...</td>\n",
       "      <td>...</td>\n",
       "      <td>...</td>\n",
       "      <td>...</td>\n",
       "    </tr>\n",
       "    <tr>\n",
       "      <th>858</th>\n",
       "      <td>Mg7Ni4O24Pr1V4</td>\n",
       "      <td>Mg0.875Pr0.125Ni0.500V0.500O3</td>\n",
       "      <td>{'sites': {'A': ['Mg', 'Pr'], 'B': ['Ni', 'V']...</td>\n",
       "      <td>40</td>\n",
       "      <td>40</td>\n",
       "      <td>183674255</td>\n",
       "      <td>{'@module': 'pymatgen.core.structure', '@class...</td>\n",
       "      <td>436520773</td>\n",
       "      <td>{'@module': 'pymatgen.core.structure', '@class...</td>\n",
       "      <td>124467329</td>\n",
       "      <td>-250.368584</td>\n",
       "      <td>-6.259215</td>\n",
       "      <td>0.207065</td>\n",
       "      <td>-1.426689</td>\n",
       "      <td>{'@module': 'pymatgen.core.structure', '@class...</td>\n",
       "      <td>-250.886169</td>\n",
       "      <td>-6.272154</td>\n",
       "      <td>858</td>\n",
       "      <td>0.185309</td>\n",
       "    </tr>\n",
       "    <tr>\n",
       "      <th>859</th>\n",
       "      <td>Mg7Ni4O24Pr1V4</td>\n",
       "      <td>Mg0.875Pr0.125Ni0.500V0.500O3</td>\n",
       "      <td>{'sites': {'A': ['Mg', 'Pr'], 'B': ['Ni', 'V']...</td>\n",
       "      <td>40</td>\n",
       "      <td>40</td>\n",
       "      <td>183674250</td>\n",
       "      <td>{'@module': 'pymatgen.core.structure', '@class...</td>\n",
       "      <td>438904289</td>\n",
       "      <td>{'@module': 'pymatgen.core.structure', '@class...</td>\n",
       "      <td>124881872</td>\n",
       "      <td>-250.311759</td>\n",
       "      <td>-6.257794</td>\n",
       "      <td>0.208486</td>\n",
       "      <td>-1.767277</td>\n",
       "      <td>{'@module': 'pymatgen.core.structure', '@class...</td>\n",
       "      <td>-250.448029</td>\n",
       "      <td>-6.261201</td>\n",
       "      <td>859</td>\n",
       "      <td>0.186397</td>\n",
       "    </tr>\n",
       "    <tr>\n",
       "      <th>860</th>\n",
       "      <td>Mg7Ni4O24Pr1V4</td>\n",
       "      <td>Mg0.875Pr0.125Ni0.500V0.500O3</td>\n",
       "      <td>{'sites': {'A': ['Mg', 'Pr'], 'B': ['Ni', 'V']...</td>\n",
       "      <td>40</td>\n",
       "      <td>40</td>\n",
       "      <td>183674253</td>\n",
       "      <td>{'@module': 'pymatgen.core.structure', '@class...</td>\n",
       "      <td>439756697</td>\n",
       "      <td>{'@module': 'pymatgen.core.structure', '@class...</td>\n",
       "      <td>124917879</td>\n",
       "      <td>-249.768946</td>\n",
       "      <td>-6.244224</td>\n",
       "      <td>0.222056</td>\n",
       "      <td>-1.545788</td>\n",
       "      <td>{'@module': 'pymatgen.core.structure', '@class...</td>\n",
       "      <td>-249.622391</td>\n",
       "      <td>-6.240560</td>\n",
       "      <td>860</td>\n",
       "      <td>0.185592</td>\n",
       "    </tr>\n",
       "    <tr>\n",
       "      <th>861</th>\n",
       "      <td>Mg7Ni4O24Pr1V4</td>\n",
       "      <td>Mg0.875Pr0.125Ni0.500V0.500O3</td>\n",
       "      <td>{'sites': {'A': ['Mg', 'Pr'], 'B': ['Ni', 'V']...</td>\n",
       "      <td>40</td>\n",
       "      <td>40</td>\n",
       "      <td>183674254</td>\n",
       "      <td>{'@module': 'pymatgen.core.structure', '@class...</td>\n",
       "      <td>436520728</td>\n",
       "      <td>{'@module': 'pymatgen.core.structure', '@class...</td>\n",
       "      <td>124467292</td>\n",
       "      <td>-249.766908</td>\n",
       "      <td>-6.244173</td>\n",
       "      <td>0.222107</td>\n",
       "      <td>-1.439217</td>\n",
       "      <td>{'@module': 'pymatgen.core.structure', '@class...</td>\n",
       "      <td>-249.717239</td>\n",
       "      <td>-6.242931</td>\n",
       "      <td>861</td>\n",
       "      <td>0.184355</td>\n",
       "    </tr>\n",
       "    <tr>\n",
       "      <th>862</th>\n",
       "      <td>Mg7Ni4O24Pr1V4</td>\n",
       "      <td>Mg0.875Pr0.125Ni0.500V0.500O3</td>\n",
       "      <td>{'sites': {'A': ['Mg', 'Pr'], 'B': ['Ni', 'V']...</td>\n",
       "      <td>40</td>\n",
       "      <td>40</td>\n",
       "      <td>183674251</td>\n",
       "      <td>{'@module': 'pymatgen.core.structure', '@class...</td>\n",
       "      <td>440177160</td>\n",
       "      <td>{'@module': 'pymatgen.core.structure', '@class...</td>\n",
       "      <td>124933261</td>\n",
       "      <td>-250.078838</td>\n",
       "      <td>-6.251971</td>\n",
       "      <td>0.214309</td>\n",
       "      <td>-1.690306</td>\n",
       "      <td>{'@module': 'pymatgen.core.structure', '@class...</td>\n",
       "      <td>-250.841400</td>\n",
       "      <td>-6.271035</td>\n",
       "      <td>862</td>\n",
       "      <td>0.185993</td>\n",
       "    </tr>\n",
       "  </tbody>\n",
       "</table>\n",
       "<p>863 rows × 19 columns</p>\n",
       "</div>"
      ],
      "text/plain": [
       "             formula                       framework  \\\n",
       "0    Bi2Cu4La6Mo4O24  Bi0.250La0.750Cu0.500Mo0.500O3   \n",
       "1    Bi2Cu4La6Mo4O24  Bi0.250La0.750Cu0.500Mo0.500O3   \n",
       "2    Bi2Cu4La6Mo4O24  Bi0.250La0.750Cu0.500Mo0.500O3   \n",
       "3    Bi2Cu4La6Mo4O24  Bi0.250La0.750Cu0.500Mo0.500O3   \n",
       "4    Bi2Cu4La6Mo4O24  Bi0.250La0.750Cu0.500Mo0.500O3   \n",
       "..               ...                             ...   \n",
       "858   Mg7Ni4O24Pr1V4   Mg0.875Pr0.125Ni0.500V0.500O3   \n",
       "859   Mg7Ni4O24Pr1V4   Mg0.875Pr0.125Ni0.500V0.500O3   \n",
       "860   Mg7Ni4O24Pr1V4   Mg0.875Pr0.125Ni0.500V0.500O3   \n",
       "861   Mg7Ni4O24Pr1V4   Mg0.875Pr0.125Ni0.500V0.500O3   \n",
       "862   Mg7Ni4O24Pr1V4   Mg0.875Pr0.125Ni0.500V0.500O3   \n",
       "\n",
       "                                           composition  n_atoms_unrelaxed  \\\n",
       "0    {'sites': {'A': ['Bi', 'La'], 'B': ['Cu', 'Mo'...                 40   \n",
       "1    {'sites': {'A': ['Bi', 'La'], 'B': ['Cu', 'Mo'...                 40   \n",
       "2    {'sites': {'A': ['Bi', 'La'], 'B': ['Cu', 'Mo'...                 40   \n",
       "3    {'sites': {'A': ['Bi', 'La'], 'B': ['Cu', 'Mo'...                 40   \n",
       "4    {'sites': {'A': ['Bi', 'La'], 'B': ['Cu', 'Mo'...                 40   \n",
       "..                                                 ...                ...   \n",
       "858  {'sites': {'A': ['Mg', 'Pr'], 'B': ['Ni', 'V']...                 40   \n",
       "859  {'sites': {'A': ['Mg', 'Pr'], 'B': ['Ni', 'V']...                 40   \n",
       "860  {'sites': {'A': ['Mg', 'Pr'], 'B': ['Ni', 'V']...                 40   \n",
       "861  {'sites': {'A': ['Mg', 'Pr'], 'B': ['Ni', 'V']...                 40   \n",
       "862  {'sites': {'A': ['Mg', 'Pr'], 'B': ['Ni', 'V']...                 40   \n",
       "\n",
       "     n_atoms_opt  unrelaxed_cryst_id  \\\n",
       "0             40           183674840   \n",
       "1             40           183674829   \n",
       "2             40           183674850   \n",
       "3             40           183674832   \n",
       "4             40           183674834   \n",
       "..           ...                 ...   \n",
       "858           40           183674255   \n",
       "859           40           183674250   \n",
       "860           40           183674253   \n",
       "861           40           183674254   \n",
       "862           40           183674251   \n",
       "\n",
       "                                      unrelaxed_struct  opt_cryst_id  \\\n",
       "0    {'@module': 'pymatgen.core.structure', '@class...     421255705   \n",
       "1    {'@module': 'pymatgen.core.structure', '@class...     421255754   \n",
       "2    {'@module': 'pymatgen.core.structure', '@class...     423959399   \n",
       "3    {'@module': 'pymatgen.core.structure', '@class...     421255719   \n",
       "4    {'@module': 'pymatgen.core.structure', '@class...     423959434   \n",
       "..                                                 ...           ...   \n",
       "858  {'@module': 'pymatgen.core.structure', '@class...     436520773   \n",
       "859  {'@module': 'pymatgen.core.structure', '@class...     438904289   \n",
       "860  {'@module': 'pymatgen.core.structure', '@class...     439756697   \n",
       "861  {'@module': 'pymatgen.core.structure', '@class...     436520728   \n",
       "862  {'@module': 'pymatgen.core.structure', '@class...     440177160   \n",
       "\n",
       "                                            opt_struct  es_job_id  dft_energy  \\\n",
       "0    {'@module': 'pymatgen.core.structure', '@class...  122946754 -282.924004   \n",
       "1    {'@module': 'pymatgen.core.structure', '@class...  122946790 -282.888155   \n",
       "2    {'@module': 'pymatgen.core.structure', '@class...  123103557 -282.752910   \n",
       "3    {'@module': 'pymatgen.core.structure', '@class...  122946765 -283.967819   \n",
       "4    {'@module': 'pymatgen.core.structure', '@class...  123103586 -283.248998   \n",
       "..                                                 ...        ...         ...   \n",
       "858  {'@module': 'pymatgen.core.structure', '@class...  124467329 -250.368584   \n",
       "859  {'@module': 'pymatgen.core.structure', '@class...  124881872 -250.311759   \n",
       "860  {'@module': 'pymatgen.core.structure', '@class...  124917879 -249.768946   \n",
       "861  {'@module': 'pymatgen.core.structure', '@class...  124467292 -249.766908   \n",
       "862  {'@module': 'pymatgen.core.structure', '@class...  124933261 -250.078838   \n",
       "\n",
       "     dft_energy_per_atom  dft_e_hull  Op_band_center  \\\n",
       "0              -7.073100    0.155643       -3.706086   \n",
       "1              -7.072204    0.156539       -3.393402   \n",
       "2              -7.068823    0.159920       -3.692469   \n",
       "3              -7.099195    0.129547       -3.652090   \n",
       "4              -7.081225    0.147518       -3.559921   \n",
       "..                   ...         ...             ...   \n",
       "858            -6.259215    0.207065       -1.426689   \n",
       "859            -6.257794    0.208486       -1.767277   \n",
       "860            -6.244224    0.222056       -1.545788   \n",
       "861            -6.244173    0.222107       -1.439217   \n",
       "862            -6.251971    0.214309       -1.690306   \n",
       "\n",
       "                                 M3Gnet_relaxed_struct  M3Gnet_relaxed_energy  \\\n",
       "0    {'@module': 'pymatgen.core.structure', '@class...            -281.835388   \n",
       "1    {'@module': 'pymatgen.core.structure', '@class...            -282.413788   \n",
       "2    {'@module': 'pymatgen.core.structure', '@class...            -281.959564   \n",
       "3    {'@module': 'pymatgen.core.structure', '@class...            -281.792023   \n",
       "4    {'@module': 'pymatgen.core.structure', '@class...            -281.422272   \n",
       "..                                                 ...                    ...   \n",
       "858  {'@module': 'pymatgen.core.structure', '@class...            -250.886169   \n",
       "859  {'@module': 'pymatgen.core.structure', '@class...            -250.448029   \n",
       "860  {'@module': 'pymatgen.core.structure', '@class...            -249.622391   \n",
       "861  {'@module': 'pymatgen.core.structure', '@class...            -249.717239   \n",
       "862  {'@module': 'pymatgen.core.structure', '@class...            -250.841400   \n",
       "\n",
       "     M3Gnet_relaxed_energy_per_atom  idx  predicted_dft_e_hull  \n",
       "0                         -7.045885    0              0.056025  \n",
       "1                         -7.060345    1              0.059529  \n",
       "2                         -7.048989    2              0.056567  \n",
       "3                         -7.044801    3              0.063143  \n",
       "4                         -7.035557    4              0.054509  \n",
       "..                              ...  ...                   ...  \n",
       "858                       -6.272154  858              0.185309  \n",
       "859                       -6.261201  859              0.186397  \n",
       "860                       -6.240560  860              0.185592  \n",
       "861                       -6.242931  861              0.184355  \n",
       "862                       -6.271035  862              0.185993  \n",
       "\n",
       "[863 rows x 19 columns]"
      ]
     },
     "execution_count": 153,
     "metadata": {},
     "output_type": "execute_result"
    }
   ],
   "source": [
    "held_out_series_CGCNN_best"
   ]
  },
  {
   "cell_type": "code",
   "execution_count": 155,
   "id": "1f285916",
   "metadata": {},
   "outputs": [],
   "source": [
    "CGCNN_ensemble = (1/3.0)*(held_out_series_CGCNN_best.predicted_dft_e_hull + held_out_series_CGCNN_best_2.predicted_dft_e_hull+held_out_series_CGCNN_best_3.predicted_dft_e_hull)"
   ]
  },
  {
   "cell_type": "code",
   "execution_count": 154,
   "id": "98aad1f8",
   "metadata": {},
   "outputs": [],
   "source": [
    "e3nn_ensemble = (1/3.0)*(held_out_series_e3nn_best.predicted_dft_e_hull + held_out_series_e3nn_best_2.predicted_dft_e_hull+held_out_series_e3nn_best_3.predicted_dft_e_hull)"
   ]
  },
  {
   "cell_type": "code",
   "execution_count": 156,
   "id": "e840b109",
   "metadata": {},
   "outputs": [],
   "source": [
    "held_out_series[\"CGCNN_ensemble\"]=CGCNN_ensemble\n",
    "held_out_series[\"e3nn_ensemble\"]=e3nn_ensemble\n"
   ]
  },
  {
   "cell_type": "code",
   "execution_count": 157,
   "id": "14d02a18",
   "metadata": {},
   "outputs": [],
   "source": [
    "CGCNN_spears = get_spearmans(\"CGCNN_ensemble\")\n",
    "e3nn_spears = get_spearmans(\"e3nn_ensemble\")\n",
    "m3gnet_spears = get_spearmans(\"M3Gnet_relaxed_energy_per_atom\")"
   ]
  },
  {
   "cell_type": "code",
   "execution_count": 158,
   "id": "c38c8e11",
   "metadata": {},
   "outputs": [
    {
     "name": "stdout",
     "output_type": "stream",
     "text": [
      "-0.0715209841913381\n"
     ]
    }
   ],
   "source": [
    "print(np.mean(CGCNN_spears))"
   ]
  },
  {
   "cell_type": "code",
   "execution_count": 159,
   "id": "9ea7ec7b",
   "metadata": {},
   "outputs": [
    {
     "name": "stdout",
     "output_type": "stream",
     "text": [
      "-0.006170076199353717\n"
     ]
    }
   ],
   "source": [
    "print(np.mean(e3nn_spears))"
   ]
  },
  {
   "cell_type": "code",
   "execution_count": 160,
   "id": "eaa2b4dd",
   "metadata": {},
   "outputs": [
    {
     "name": "stdout",
     "output_type": "stream",
     "text": [
      "0.2658840634921452\n"
     ]
    }
   ],
   "source": [
    "print(np.mean(m3gnet_spears))"
   ]
  },
  {
   "cell_type": "code",
   "execution_count": 168,
   "id": "33be0f2e",
   "metadata": {},
   "outputs": [],
   "source": [
    "import json \n",
    "   \n",
    "# Opening JSON file \n",
    "f = open('AABBO3_degeneracy.json',) \n",
    "   \n",
    "# returns JSON object as  \n",
    "# a dictionary \n",
    "degen_quad = json.load(f) \n",
    "   \n",
    "f.close() "
   ]
  },
  {
   "cell_type": "code",
   "execution_count": 172,
   "id": "0d4f3880",
   "metadata": {},
   "outputs": [
    {
     "data": {
      "text/plain": [
       "{'A(7:1)_B(7:1)_O24': {'0': 64},\n",
       " 'A(7:1)_B(6:2)_O24': {'0': 96, '1': 96, '2': 32},\n",
       " 'A(7:1)_B(5:3)_O24': {'0': 192, '1': 192, '2': 64},\n",
       " 'A(7:1)_B(4:4)_O24': {'0': 48, '1': 64, '2': 192, '3': 192, '4': 48, '5': 16},\n",
       " 'A(6:2)_B(7:1)_O24': {'0': 96, '1': 96, '2': 32},\n",
       " 'A(6:2)_B(6:2)_O24': {'0': 48,\n",
       "  '1': 96,\n",
       "  '2': 96,\n",
       "  '3': 48,\n",
       "  '4': 48,\n",
       "  '5': 96,\n",
       "  '6': 48,\n",
       "  '7': 48,\n",
       "  '8': 96,\n",
       "  '9': 48,\n",
       "  '10': 48,\n",
       "  '11': 48,\n",
       "  '12': 16},\n",
       " 'A(6:2)_B(5:3)_O24': {'0': 192,\n",
       "  '1': 96,\n",
       "  '2': 96,\n",
       "  '3': 192,\n",
       "  '4': 96,\n",
       "  '5': 96,\n",
       "  '6': 192,\n",
       "  '7': 192,\n",
       "  '8': 96,\n",
       "  '9': 96,\n",
       "  '10': 96,\n",
       "  '11': 96,\n",
       "  '12': 32},\n",
       " 'A(6:2)_B(4:4)_O24': {'0': 48,\n",
       "  '1': 96,\n",
       "  '2': 96,\n",
       "  '3': 192,\n",
       "  '4': 192,\n",
       "  '5': 24,\n",
       "  '6': 24,\n",
       "  '7': 96,\n",
       "  '8': 48,\n",
       "  '9': 24,\n",
       "  '10': 24,\n",
       "  '11': 96,\n",
       "  '12': 192,\n",
       "  '13': 96,\n",
       "  '14': 48,\n",
       "  '15': 96,\n",
       "  '16': 192,\n",
       "  '17': 48,\n",
       "  '18': 24,\n",
       "  '19': 24,\n",
       "  '20': 24,\n",
       "  '21': 32,\n",
       "  '22': 96,\n",
       "  '23': 96,\n",
       "  '24': 24,\n",
       "  '25': 8},\n",
       " 'A(5:3)_B(7:1)_O24': {'0': 192, '1': 192, '2': 64},\n",
       " 'A(5:3)_B(6:2)_O24': {'0': 192,\n",
       "  '1': 96,\n",
       "  '2': 96,\n",
       "  '3': 192,\n",
       "  '4': 96,\n",
       "  '5': 96,\n",
       "  '6': 192,\n",
       "  '7': 192,\n",
       "  '8': 96,\n",
       "  '9': 96,\n",
       "  '10': 96,\n",
       "  '11': 96,\n",
       "  '12': 32},\n",
       " 'A(5:3)_B(5:3)_O24': {'0': 192,\n",
       "  '1': 384,\n",
       "  '2': 384,\n",
       "  '3': 192,\n",
       "  '4': 192,\n",
       "  '5': 384,\n",
       "  '6': 192,\n",
       "  '7': 192,\n",
       "  '8': 384,\n",
       "  '9': 192,\n",
       "  '10': 192,\n",
       "  '11': 192,\n",
       "  '12': 64},\n",
       " 'A(5:3)_B(4:4)_O24': {'0': 48,\n",
       "  '1': 192,\n",
       "  '2': 384,\n",
       "  '3': 192,\n",
       "  '4': 96,\n",
       "  '5': 192,\n",
       "  '6': 384,\n",
       "  '7': 96,\n",
       "  '8': 48,\n",
       "  '9': 48,\n",
       "  '10': 96,\n",
       "  '11': 192,\n",
       "  '12': 192,\n",
       "  '13': 384,\n",
       "  '14': 384,\n",
       "  '15': 48,\n",
       "  '16': 48,\n",
       "  '17': 192,\n",
       "  '18': 96,\n",
       "  '19': 48,\n",
       "  '20': 48,\n",
       "  '21': 64,\n",
       "  '22': 192,\n",
       "  '23': 192,\n",
       "  '24': 48,\n",
       "  '25': 16},\n",
       " 'A(4:4)_B(7:1)_O24': {'0': 48, '1': 64, '2': 192, '3': 192, '4': 48, '5': 16},\n",
       " 'A(4:4)_B(6:2)_O24': {'0': 48,\n",
       "  '1': 24,\n",
       "  '2': 24,\n",
       "  '3': 48,\n",
       "  '4': 24,\n",
       "  '5': 96,\n",
       "  '6': 96,\n",
       "  '7': 32,\n",
       "  '8': 96,\n",
       "  '9': 192,\n",
       "  '10': 192,\n",
       "  '11': 96,\n",
       "  '12': 96,\n",
       "  '13': 192,\n",
       "  '14': 96,\n",
       "  '15': 96,\n",
       "  '16': 192,\n",
       "  '17': 96,\n",
       "  '18': 24,\n",
       "  '19': 48,\n",
       "  '20': 48,\n",
       "  '21': 24,\n",
       "  '22': 24,\n",
       "  '23': 24,\n",
       "  '24': 24,\n",
       "  '25': 8},\n",
       " 'A(4:4)_B(5:3)_O24': {'0': 48,\n",
       "  '1': 96,\n",
       "  '2': 96,\n",
       "  '3': 48,\n",
       "  '4': 48,\n",
       "  '5': 192,\n",
       "  '6': 192,\n",
       "  '7': 64,\n",
       "  '8': 384,\n",
       "  '9': 192,\n",
       "  '10': 192,\n",
       "  '11': 384,\n",
       "  '12': 192,\n",
       "  '13': 192,\n",
       "  '14': 384,\n",
       "  '15': 384,\n",
       "  '16': 192,\n",
       "  '17': 192,\n",
       "  '18': 96,\n",
       "  '19': 48,\n",
       "  '20': 48,\n",
       "  '21': 96,\n",
       "  '22': 48,\n",
       "  '23': 48,\n",
       "  '24': 48,\n",
       "  '25': 16},\n",
       " 'A(4:4)_B(4:4)_O24': {'0': 12,\n",
       "  '1': 48,\n",
       "  '2': 96,\n",
       "  '3': 48,\n",
       "  '4': 24,\n",
       "  '5': 48,\n",
       "  '6': 96,\n",
       "  '7': 24,\n",
       "  '8': 12,\n",
       "  '9': 12,\n",
       "  '10': 48,\n",
       "  '11': 64,\n",
       "  '12': 192,\n",
       "  '13': 192,\n",
       "  '14': 48,\n",
       "  '15': 16,\n",
       "  '16': 96,\n",
       "  '17': 192,\n",
       "  '18': 192,\n",
       "  '19': 384,\n",
       "  '20': 384,\n",
       "  '21': 48,\n",
       "  '22': 48,\n",
       "  '23': 192,\n",
       "  '24': 96,\n",
       "  '25': 48,\n",
       "  '26': 48,\n",
       "  '27': 192,\n",
       "  '28': 384,\n",
       "  '29': 192,\n",
       "  '30': 96,\n",
       "  '31': 192,\n",
       "  '32': 384,\n",
       "  '33': 96,\n",
       "  '34': 48,\n",
       "  '35': 48,\n",
       "  '36': 24,\n",
       "  '37': 48,\n",
       "  '38': 48,\n",
       "  '39': 96,\n",
       "  '40': 96,\n",
       "  '41': 12,\n",
       "  '42': 12,\n",
       "  '43': 48,\n",
       "  '44': 24,\n",
       "  '45': 12,\n",
       "  '46': 12,\n",
       "  '47': 16,\n",
       "  '48': 48,\n",
       "  '49': 48,\n",
       "  '50': 12,\n",
       "  '51': 4}}"
      ]
     },
     "execution_count": 172,
     "metadata": {},
     "output_type": "execute_result"
    }
   ],
   "source": [
    "degen_quad"
   ]
  },
  {
   "cell_type": "code",
   "execution_count": 207,
   "id": "4ba9a7fe",
   "metadata": {},
   "outputs": [],
   "source": [
    "from pymatgen.core import Structure\n",
    "\n",
    "from pymatgen.analysis.structure_matcher import StructureMatcher\n",
    "SM = StructureMatcher()\n",
    "\n",
    "from repos.pykite.pykite.structure.builder import PerovskiteBuilder\n",
    "from repos.pykite.pykite.structure.perovskite import Perovskite\n",
    "from pymatgen.core import Composition"
   ]
  },
  {
   "cell_type": "code",
   "execution_count": 228,
   "id": "4d78c4ca",
   "metadata": {},
   "outputs": [],
   "source": [
    "def get_parent_degens(data_form_sorted):\n",
    "    formula = data_form_sorted.formula\n",
    "    \n",
    "    As = data_form_sorted.iloc[0].composition[\"sites\"][\"A\"]\n",
    "    big_num = int(max(data_form_sorted.iloc[0].composition[\"composition\"][As[0]],data_form_sorted.iloc[0].composition[\"composition\"][As[1]]))\n",
    "    small_num = 8 - big_num\n",
    "    big_num = str(big_num)\n",
    "    small_num = str(small_num)\n",
    "    sub_name = big_num+\":\"+small_num\n",
    "    name = 'A(' + sub_name + ')_B(4:4)_O24'\n",
    "    \n",
    "    return list(degen_quad[name].values())\n",
    "\n",
    "def get_parent_structs(data_form_sorted):\n",
    "    \n",
    "    \n",
    "\n",
    "    Acomp = \"\"\n",
    "    As = data_form_sorted.iloc[0].composition[\"sites\"][\"A\"]\n",
    "    \n",
    "    for Asite in As:\n",
    "        Acomp+=Asite\n",
    "        Acomp+=str(data_form_sorted.iloc[0].composition[\"composition\"][Asite])\n",
    "    Acomp = Composition(Acomp)\n",
    "    Bcomp = \"\"\n",
    "    Bs = data_form_sorted.iloc[0].composition[\"sites\"][\"B\"]\n",
    "    for Bsite in Bs:\n",
    "        Bcomp+=Bsite\n",
    "        Bcomp+=str(data_form_sorted.iloc[0].composition[\"composition\"][Bsite])\n",
    "    Bcomp = Composition(Bcomp)\n",
    "    Oxy = Composition(\"O24\")\n",
    "    #print(Acomp)\n",
    "    #print(Bcomp)\n",
    "    perovskite_prototype = Perovskite(Acomp,Bcomp,Oxy)\n",
    "    builder = PerovskiteBuilder(perovskite_prototype)\n",
    "    \n",
    "    \n",
    "    return builder.build_structures()\n",
    "\n",
    "\n",
    "def get_unrelaxed_index(parent_structs,unrelaxed_struct):\n",
    "    \n",
    "    tmp_struct = Structure.from_dict(unrelaxed_struct)\n",
    "    for i in range(len(parent_structs)):\n",
    "        if SM.get_rms_dist(tmp_struct,parent_structs[i]) != None:\n",
    "            return i\n",
    "        \n",
    "        \n",
    "    \n",
    "    \n",
    "    "
   ]
  },
  {
   "cell_type": "code",
   "execution_count": 229,
   "id": "834eeda9",
   "metadata": {},
   "outputs": [],
   "source": [
    "def get_series_entropy(data,formula,energies):\n",
    "    \n",
    "    data_form = data[data.formula==formula].copy()\n",
    "    data_form_sorted = data_form.sort_values(by=[\"unrelaxed_cryst_id\"],axis=0)\n",
    "    #print(formula)\n",
    "    ### Get Parent Degens\n",
    "    parent_degens = get_parent_degens(data_form_sorted)\n",
    "    #print(len(parent_degens))\n",
    "    ### Make Parent Unrelaxed\n",
    "    parent_structs = get_parent_structs(data_form_sorted)\n",
    "    #print(len(parent_structs))\n",
    "    ### Get matching\n",
    "    degen_selected = []\n",
    "    for unrelaxed_struct in data_form_sorted.unrelaxed_struct:\n",
    "        degen_selected.append(parent_degens[get_unrelaxed_index(parent_structs,unrelaxed_struct)])\n",
    "    \n",
    "    degen_selected = np.asarray(degen_selected)\n",
    "\n",
    "    energies = np.asarray(data_form_sorted[energies])*40.0\n",
    "    energies -= energies.min()\n",
    "    Bolzmann_terms = np.exp(-energies/(kb*T))\n",
    "    weighted_probs = Bolzmann_terms*degen_selected / np.sum(Bolzmann_terms*degen_selected)\n",
    "    \n",
    "    entropy = 0\n",
    "    entropy_norm = 0\n",
    "    \n",
    "    Z = np.sum(Bolzmann_terms*degen_selected)\n",
    "    \n",
    "    uniform_Bolzmann_terms = np.ones(Bolzmann_terms.shape)\n",
    "    uniform_Z = np.sum(degen_selected*uniform_Bolzmann_terms)\n",
    "    uniform_weighted_probs = uniform_Bolzmann_terms*degen_selected / uniform_Z\n",
    "\n",
    "    for i in range(Bolzmann_terms.shape[0]):\n",
    "        entropy += weighted_probs[i]*np.log(Bolzmann_terms[i]/Z)\n",
    "        \n",
    "        entropy_norm += uniform_weighted_probs[i]*np.log(uniform_Bolzmann_terms[i]/uniform_Z)\n",
    "\n",
    "    return entropy/entropy_norm"
   ]
  },
  {
   "cell_type": "code",
   "execution_count": 232,
   "id": "6f1f934c",
   "metadata": {},
   "outputs": [],
   "source": [
    "formula_to_entropy_dft_series = {}\n",
    "formula_to_entropy_CGCNN_series = {}\n",
    "formula_to_entropy_e3nn_series = {}\n",
    "formula_to_entropy_m3gnet_series = {}"
   ]
  },
  {
   "cell_type": "code",
   "execution_count": 237,
   "id": "3bf33574",
   "metadata": {},
   "outputs": [],
   "source": [
    "for formula in set(held_out_series.formula):\n",
    "    formula_to_entropy_dft_series[formula] = get_series_entropy(held_out_series.copy(),formula,\"dft_e_hull\")\n",
    "    formula_to_entropy_CGCNN_series[formula] = get_series_entropy(held_out_series.copy(),formula,\"CGCNN_ensemble\")\n",
    "    formula_to_entropy_e3nn_series[formula] = get_series_entropy(held_out_series.copy(),formula,\"e3nn_ensemble\")\n",
    "    formula_to_entropy_m3gnet_series[formula] = get_series_entropy(held_out_series.copy(),formula,\"M3Gnet_relaxed_energy_per_atom\")"
   ]
  },
  {
   "cell_type": "code",
   "execution_count": 238,
   "id": "04ebfa01",
   "metadata": {},
   "outputs": [],
   "source": [
    "entropy_series_dft = list(formula_to_entropy_dft_series.values())\n",
    "entropy_series_CGCNN = list(formula_to_entropy_CGCNN_series.values())\n",
    "entropy_series_e3nn = list(formula_to_entropy_e3nn_series.values())\n",
    "entropy_series_m3gnet = list(formula_to_entropy_m3gnet_series.values())"
   ]
  },
  {
   "cell_type": "code",
   "execution_count": 239,
   "id": "640316b6",
   "metadata": {},
   "outputs": [
    {
     "data": {
      "text/plain": [
       "<matplotlib.collections.PathCollection at 0x7fe73a8eb5b0>"
      ]
     },
     "execution_count": 239,
     "metadata": {},
     "output_type": "execute_result"
    },
    {
     "data": {
      "image/png": "[encoded data removed]",
      "text/plain": [
       "<Figure size 432x288 with 1 Axes>"
      ]
     },
     "metadata": {
      "needs_background": "light"
     },
     "output_type": "display_data"
    }
   ],
   "source": [
    "plt.scatter(entropy_series_CGCNN,entropy_series_dft)"
   ]
  },
  {
   "cell_type": "code",
   "execution_count": 240,
   "id": "d9bcdbc6",
   "metadata": {},
   "outputs": [
    {
     "data": {
      "text/plain": [
       "-66.84756543205033"
      ]
     },
     "execution_count": 240,
     "metadata": {},
     "output_type": "execute_result"
    }
   ],
   "source": [
    "metrics.r2_score(entropy_series_CGCNN,entropy_series_dft)"
   ]
  },
  {
   "cell_type": "code",
   "execution_count": 241,
   "id": "67160a9e",
   "metadata": {},
   "outputs": [
    {
     "data": {
      "text/plain": [
       "<matplotlib.collections.PathCollection at 0x7fe73aa48d60>"
      ]
     },
     "execution_count": 241,
     "metadata": {},
     "output_type": "execute_result"
    },
    {
     "data": {
      "image/png": "[encoded data removed]",
      "text/plain": [
       "<Figure size 432x288 with 1 Axes>"
      ]
     },
     "metadata": {
      "needs_background": "light"
     },
     "output_type": "display_data"
    }
   ],
   "source": [
    "plt.scatter(entropy_series_e3nn,entropy_series_dft)"
   ]
  },
  {
   "cell_type": "code",
   "execution_count": 242,
   "id": "7913c1cf",
   "metadata": {},
   "outputs": [
    {
     "data": {
      "text/plain": [
       "-7.931646970567437"
      ]
     },
     "execution_count": 242,
     "metadata": {},
     "output_type": "execute_result"
    }
   ],
   "source": [
    "metrics.r2_score(entropy_series_e3nn,entropy_series_dft)"
   ]
  },
  {
   "cell_type": "code",
   "execution_count": 243,
   "id": "9eb952de",
   "metadata": {},
   "outputs": [
    {
     "data": {
      "text/plain": [
       "<matplotlib.collections.PathCollection at 0x7fe73bd37fa0>"
      ]
     },
     "execution_count": 243,
     "metadata": {},
     "output_type": "execute_result"
    },
    {
     "data": {
      "image/png": "[encoded data removed]",
      "text/plain": [
       "<Figure size 432x288 with 1 Axes>"
      ]
     },
     "metadata": {
      "needs_background": "light"
     },
     "output_type": "display_data"
    }
   ],
   "source": [
    "plt.scatter(entropy_series_m3gnet,entropy_series_dft)"
   ]
  },
  {
   "cell_type": "code",
   "execution_count": 244,
   "id": "e419c5d0",
   "metadata": {},
   "outputs": [
    {
     "data": {
      "text/plain": [
       "-0.7927463289924193"
      ]
     },
     "execution_count": 244,
     "metadata": {},
     "output_type": "execute_result"
    }
   ],
   "source": [
    "metrics.r2_score(entropy_series_m3gnet,entropy_series_dft)"
   ]
  },
  {
   "cell_type": "code",
   "execution_count": null,
   "id": "c289fc83",
   "metadata": {},
   "outputs": [],
   "source": []
  }
 ],
 "metadata": {
  "kernelspec": {
   "display_name": "Python (htvs)",
   "language": "python",
   "name": "htvs"
  },
  "language_info": {
   "codemirror_mode": {
    "name": "ipython",
    "version": 3
   },
   "file_extension": ".py",
   "mimetype": "text/x-python",
   "name": "python",
   "nbconvert_exporter": "python",
   "pygments_lexer": "ipython3",
   "version": "3.9.12"
  }
 },
 "nbformat": 4,
 "nbformat_minor": 5
}
