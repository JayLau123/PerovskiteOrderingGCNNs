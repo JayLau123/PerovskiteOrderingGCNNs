{
 "cells": [
  {
   "cell_type": "code",
   "execution_count": 1,
   "id": "1393f30b",
   "metadata": {},
   "outputs": [],
   "source": [
    "import pandas as pd\n",
    "import matplotlib.pyplot as plt"
   ]
  },
  {
   "cell_type": "code",
   "execution_count": 3,
   "id": "7701cad2",
   "metadata": {},
   "outputs": [],
   "source": [
    "ehull_e3nn_unrelaxed_held_B_0 = pd.read_json(\"../../best_models/e3nn/dft_e_hull_htvs_data_unrelaxed_e3nn/837627/best_0/holdout_set_B_sites_predictions.json\")\n",
    "ehull_CGCNN_unrelaxed_held_B_0 = pd.read_json(\"../../best_models/CGCNN/dft_e_hull_htvs_data_unrelaxed_CGCNN/837611/best_0/holdout_set_B_sites_predictions.json\")\n",
    "\n",
    "ehull_e3nn_unrelaxed_held_B_1 = pd.read_json(\"../../best_models/e3nn/dft_e_hull_htvs_data_unrelaxed_e3nn/837627/best_1/holdout_set_B_sites_predictions.json\")\n",
    "ehull_CGCNN_unrelaxed_held_B_1 = pd.read_json(\"../../best_models/CGCNN/dft_e_hull_htvs_data_unrelaxed_CGCNN/837611/best_1/holdout_set_B_sites_predictions.json\")\n",
    "\n",
    "ehull_e3nn_unrelaxed_held_B_2 = pd.read_json(\"../../best_models/e3nn/dft_e_hull_htvs_data_unrelaxed_e3nn/837627/best_2/holdout_set_B_sites_predictions.json\")\n",
    "ehull_CGCNN_unrelaxed_held_B_2 = pd.read_json(\"../../best_models/CGCNN/dft_e_hull_htvs_data_unrelaxed_CGCNN/837611/best_2/holdout_set_B_sites_predictions.json\")\n",
    "\n",
    "\n"
   ]
  },
  {
   "cell_type": "code",
   "execution_count": 4,
   "id": "5141c159",
   "metadata": {},
   "outputs": [],
   "source": [
    "m3gnet = ehull_e3nn_unrelaxed_held_B_0.M3Gnet_relaxed_energy_per_atom"
   ]
  },
  {
   "cell_type": "code",
   "execution_count": 5,
   "id": "6c9316ac",
   "metadata": {},
   "outputs": [],
   "source": [
    "import numpy as np\n",
    "\n",
    "np.save(\"m3gnet_pred.npy\",m3gnet)\n"
   ]
  },
  {
   "cell_type": "code",
   "execution_count": 6,
   "id": "8966cb2e",
   "metadata": {},
   "outputs": [],
   "source": [
    "e3nn_mean_pred = (ehull_e3nn_unrelaxed_held_B_0.predicted_dft_e_hull + ehull_e3nn_unrelaxed_held_B_1.predicted_dft_e_hull+ehull_e3nn_unrelaxed_held_B_2.predicted_dft_e_hull)/3.0\n",
    "\n",
    "CGCNN_mean_pred = (ehull_CGCNN_unrelaxed_held_B_0.predicted_dft_e_hull + ehull_CGCNN_unrelaxed_held_B_1.predicted_dft_e_hull+ehull_CGCNN_unrelaxed_held_B_2.predicted_dft_e_hull)/3.0"
   ]
  },
  {
   "cell_type": "code",
   "execution_count": 7,
   "id": "54854a58",
   "metadata": {},
   "outputs": [],
   "source": [
    "e3nn_pred = ehull_e3nn_unrelaxed_held_B_0.predicted_dft_e_hull\n",
    "CGCNN_pred = ehull_CGCNN_unrelaxed_held_B_0.predicted_dft_e_hull"
   ]
  },
  {
   "cell_type": "code",
   "execution_count": 6,
   "id": "9a9ca088",
   "metadata": {},
   "outputs": [
    {
     "data": {
      "text/plain": [
       "(600,)"
      ]
     },
     "execution_count": 6,
     "metadata": {},
     "output_type": "execute_result"
    }
   ],
   "source": [
    "e3nn_mean_pred.shape"
   ]
  },
  {
   "cell_type": "code",
   "execution_count": 8,
   "id": "58efaa1e",
   "metadata": {},
   "outputs": [],
   "source": [
    "dft_min_val = {}\n",
    "e3nn_min_val = {}\n",
    "CGCNN_min_val = {}\n",
    "\n",
    "for i in range(len(ehull_e3nn_unrelaxed_held_B_0)):\n",
    "    curr_formula = ehull_e3nn_unrelaxed_held_B_0.iloc[i].formula\n",
    "    if curr_formula in e3nn_min_val:\n",
    "        if e3nn_mean_pred[i] < e3nn_min_val[curr_formula]:\n",
    "            e3nn_min_val[curr_formula] = e3nn_mean_pred[i]\n",
    "    else:\n",
    "        e3nn_min_val[curr_formula] = e3nn_mean_pred[i]\n",
    "        \n",
    "for i in range(len(ehull_CGCNN_unrelaxed_held_B_0)):\n",
    "    curr_formula = ehull_CGCNN_unrelaxed_held_B_0.iloc[i].formula\n",
    "    if curr_formula in CGCNN_min_val:\n",
    "        if CGCNN_mean_pred[i] < CGCNN_min_val[curr_formula]:\n",
    "            CGCNN_min_val[curr_formula] = CGCNN_mean_pred[i]\n",
    "    else:\n",
    "        CGCNN_min_val[curr_formula] = CGCNN_mean_pred[i]\n",
    "        \n",
    "for i in range(len(ehull_CGCNN_unrelaxed_held_B_0)):\n",
    "    curr_formula = ehull_CGCNN_unrelaxed_held_B_0.iloc[i].formula\n",
    "    if curr_formula in dft_min_val:\n",
    "        if ehull_CGCNN_unrelaxed_held_B_0.iloc[i].dft_e_hull < dft_min_val[curr_formula]:\n",
    "            dft_min_val[curr_formula] = ehull_CGCNN_unrelaxed_held_B_0.iloc[i].dft_e_hull\n",
    "    else:\n",
    "        dft_min_val[curr_formula] = ehull_CGCNN_unrelaxed_held_B_0.iloc[i].dft_e_hull\n",
    "        "
   ]
  },
  {
   "cell_type": "code",
   "execution_count": 9,
   "id": "9089a7a8",
   "metadata": {},
   "outputs": [],
   "source": [
    "dft_diffs = []\n",
    "CGCNN_diffs = []\n",
    "e3nn_diffs = []\n",
    "\n",
    "for i in range(len(ehull_e3nn_unrelaxed_held_B_0)):\n",
    "    curr_formula = ehull_e3nn_unrelaxed_held_B_0.iloc[i].formula\n",
    "    #gs_ref = ehull_e3nn_unrelaxed_held_B.iloc[dft_min_val[curr_formula][0]].predicted_dft_e_hull\n",
    "    \n",
    "    curr_val = e3nn_mean_pred[i] - e3nn_min_val[curr_formula]\n",
    "    e3nn_diffs.append(curr_val)\n",
    "    \n",
    "for i in range(len(ehull_CGCNN_unrelaxed_held_B_0)):\n",
    "    curr_formula = ehull_CGCNN_unrelaxed_held_B_0.iloc[i].formula\n",
    "    #gs_ref = ehull_CGCNN_unrelaxed_held_B.iloc[dft_min_val[curr_formula][0]].predicted_dft_e_hull\n",
    "    curr_val = CGCNN_mean_pred[i] - CGCNN_min_val[curr_formula]\n",
    "    CGCNN_diffs.append(curr_val)\n",
    "    \n",
    "for i in range(len(ehull_CGCNN_unrelaxed_held_B_0)):\n",
    "    curr_formula = ehull_CGCNN_unrelaxed_held_B_0.iloc[i].formula\n",
    "    curr_val = ehull_CGCNN_unrelaxed_held_B_0.iloc[i].dft_e_hull - dft_min_val[curr_formula]\n",
    "    dft_diffs.append(curr_val)"
   ]
  },
  {
   "cell_type": "code",
   "execution_count": 10,
   "id": "715342ee",
   "metadata": {},
   "outputs": [],
   "source": [
    "import numpy as np\n",
    "\n",
    "dft_diffs = np.asarray(dft_diffs)\n",
    "CGCNN_diffs = np.asarray(CGCNN_diffs)\n",
    "e3nn_diffs = np.asarray(e3nn_diffs)"
   ]
  },
  {
   "cell_type": "code",
   "execution_count": 11,
   "id": "9855c322",
   "metadata": {},
   "outputs": [
    {
     "data": {
      "text/plain": [
       "0.018800804512333336"
      ]
     },
     "execution_count": 11,
     "metadata": {},
     "output_type": "execute_result"
    }
   ],
   "source": [
    "np.mean(np.abs(dft_diffs-CGCNN_diffs))"
   ]
  },
  {
   "cell_type": "code",
   "execution_count": 12,
   "id": "9941c510",
   "metadata": {},
   "outputs": [
    {
     "data": {
      "text/plain": [
       "0.014106530182277777"
      ]
     },
     "execution_count": 12,
     "metadata": {},
     "output_type": "execute_result"
    }
   ],
   "source": [
    "np.mean(np.abs(dft_diffs-e3nn_diffs))"
   ]
  },
  {
   "cell_type": "code",
   "execution_count": 13,
   "id": "da894158",
   "metadata": {},
   "outputs": [
    {
     "name": "stderr",
     "output_type": "stream",
     "text": [
      "/tmp/ipykernel_3485911/428992560.py:5: MatplotlibDeprecationWarning: The get_cmap function was deprecated in Matplotlib 3.7 and will be removed two minor releases later. Use ``matplotlib.colormaps[name]`` or ``matplotlib.colormaps.get_cmap(obj)`` instead.\n",
      "  orig_map=plt.cm.get_cmap('inferno')\n"
     ]
    },
    {
     "data": {
      "image/png": "[encoded data removed]",
      "text/plain": [
       "<Figure size 640x480 with 2 Axes>"
      ]
     },
     "metadata": {},
     "output_type": "display_data"
    }
   ],
   "source": [
    "import matplotlib as mpl\n",
    "\n",
    "mpl.rcParams['axes.linewidth'] = 2.0\n",
    "\n",
    "orig_map=plt.cm.get_cmap('inferno')\n",
    "  \n",
    "# reversing the original colormap using reversed() function\n",
    "cmap = orig_map.reversed()\n",
    "im = plt.hexbin(dft_diffs,e3nn_diffs,cmap=cmap,gridsize=25,mincnt=1,vmax = 20)\n",
    "plt.plot(np.linspace(-0.05,0.5,100),np.linspace(-0.05,0.5,100),c=\"black\",linestyle=\"--\")\n",
    "ax = plt.gca()\n",
    "ax.set_aspect('equal', adjustable='box')\n",
    "\n",
    "plt.xlim(-0.01,0.165)\n",
    "plt.ylim(-0.01,0.165)\n",
    "\n",
    "\n",
    "plt.xlabel(\"DFT (eV/atom)\",size=28)\n",
    "plt.ylabel(\"ML (eV/atom)\",size=28)\n",
    "plt.xticks([0.0,0.1],size=26)\n",
    "plt.yticks([0.0,0.1],size=26)\n",
    "#im.figure.axes[0].tick_params(axis=\"both\", labelsize=15)\n",
    "\n",
    "cbar = plt.colorbar()\n",
    "#cbar.set_clim(0.0, 10.0)\n",
    "cbar.set_ticks(ticks = [0,10,20],labels=[0,10,20],fontsize=28)\n",
    "cbar.set_label(label=\"Count\",size=28)\n",
    "plt.savefig(\"Example_two.pdf\",bbox_inches=\"tight\")"
   ]
  },
  {
   "cell_type": "code",
   "execution_count": 14,
   "id": "651817b9",
   "metadata": {},
   "outputs": [],
   "source": [
    "from sklearn import metrics"
   ]
  },
  {
   "cell_type": "code",
   "execution_count": 15,
   "id": "88a0ee89",
   "metadata": {},
   "outputs": [
    {
     "data": {
      "text/plain": [
       "array([[1.        , 0.56827809],\n",
       "       [0.56827809, 1.        ]])"
      ]
     },
     "execution_count": 15,
     "metadata": {},
     "output_type": "execute_result"
    }
   ],
   "source": [
    "np.corrcoef(dft_diffs,CGCNN_diffs)"
   ]
  },
  {
   "cell_type": "code",
   "execution_count": 16,
   "id": "8f07280f",
   "metadata": {},
   "outputs": [
    {
     "data": {
      "text/plain": [
       "array([[1.        , 0.66282153],\n",
       "       [0.66282153, 1.        ]])"
      ]
     },
     "execution_count": 16,
     "metadata": {},
     "output_type": "execute_result"
    }
   ],
   "source": [
    "np.corrcoef(dft_diffs,e3nn_diffs)"
   ]
  },
  {
   "cell_type": "code",
   "execution_count": 17,
   "id": "ef929d6a",
   "metadata": {},
   "outputs": [
    {
     "data": {
      "text/plain": [
       "-0.1508501450624231"
      ]
     },
     "execution_count": 17,
     "metadata": {},
     "output_type": "execute_result"
    }
   ],
   "source": [
    "metrics.r2_score(dft_diffs,CGCNN_diffs)"
   ]
  },
  {
   "cell_type": "code",
   "execution_count": 18,
   "id": "826b72a8",
   "metadata": {},
   "outputs": [
    {
     "data": {
      "text/plain": [
       "0.3727431467273532"
      ]
     },
     "execution_count": 18,
     "metadata": {},
     "output_type": "execute_result"
    }
   ],
   "source": [
    "metrics.r2_score(dft_diffs,e3nn_diffs)"
   ]
  },
  {
   "cell_type": "code",
   "execution_count": 19,
   "id": "cabc7a9c",
   "metadata": {},
   "outputs": [
    {
     "name": "stderr",
     "output_type": "stream",
     "text": [
      "/tmp/ipykernel_3485911/4242663552.py:5: MatplotlibDeprecationWarning: The get_cmap function was deprecated in Matplotlib 3.7 and will be removed two minor releases later. Use ``matplotlib.colormaps[name]`` or ``matplotlib.colormaps.get_cmap(obj)`` instead.\n",
      "  orig_map=plt.cm.get_cmap('inferno')\n"
     ]
    },
    {
     "data": {
      "image/png": "[encoded data removed]",
      "text/plain": [
       "<Figure size 640x480 with 2 Axes>"
      ]
     },
     "metadata": {},
     "output_type": "display_data"
    }
   ],
   "source": [
    "import matplotlib as mpl\n",
    "\n",
    "mpl.rcParams['axes.linewidth'] = 2.0\n",
    "\n",
    "orig_map=plt.cm.get_cmap('inferno')\n",
    "  \n",
    "# reversing the original colormap using reversed() function\n",
    "cmap = orig_map.reversed()\n",
    "im = plt.hexbin(dft_diffs,CGCNN_diffs,cmap=cmap,gridsize=25,mincnt=1,vmax = 20)\n",
    "plt.plot(np.linspace(-0.05,0.5,100),np.linspace(-0.05,0.5,100),c=\"black\",linestyle=\"--\")\n",
    "ax = plt.gca()\n",
    "ax.set_aspect('equal', adjustable='box')\n",
    "\n",
    "plt.xlim(-0.01,0.165)\n",
    "plt.ylim(-0.01,0.165)\n",
    "\n",
    "\n",
    "plt.xlabel(\"DFT (eV/atom)\",size=28)\n",
    "plt.ylabel(\"ML (eV/atom)\",size=28)\n",
    "plt.xticks([0.0,0.1],size=26)\n",
    "plt.yticks([0.0,0.1],size=26)\n",
    "#im.figure.axes[0].tick_params(axis=\"both\", labelsize=15)\n",
    "\n",
    "cbar = plt.colorbar()\n",
    "#cbar.set_clim(0.0, 10.0)\n",
    "cbar.set_ticks(ticks = [0,10,20],labels=[0,10,20],fontsize=28)\n",
    "cbar.set_label(label=\"Count\",size=28)\n",
    "plt.savefig(\"Example_three.pdf\",bbox_inches=\"tight\")"
   ]
  },
  {
   "cell_type": "code",
   "execution_count": 20,
   "id": "f4b4cd7f",
   "metadata": {},
   "outputs": [],
   "source": [
    "np.save(\"e3nn_mean_pred.npy\",e3nn_mean_pred)\n",
    "np.save(\"CGCNN_mean_pred.npy\",CGCNN_mean_pred)\n"
   ]
  },
  {
   "cell_type": "code",
   "execution_count": 21,
   "id": "df06b58c",
   "metadata": {},
   "outputs": [],
   "source": [
    "dft_min_val = {}\n",
    "e3nn_min_val = {}\n",
    "CGCNN_min_val = {}\n",
    "\n",
    "for i in range(len(ehull_e3nn_unrelaxed_held_B_0)):\n",
    "    curr_formula = ehull_e3nn_unrelaxed_held_B_0.iloc[i].formula\n",
    "    if curr_formula in e3nn_min_val:\n",
    "        if e3nn_pred[i] < e3nn_min_val[curr_formula]:\n",
    "            e3nn_min_val[curr_formula] = e3nn_pred[i]\n",
    "    else:\n",
    "        e3nn_min_val[curr_formula] = e3nn_pred[i]\n",
    "        \n",
    "for i in range(len(ehull_CGCNN_unrelaxed_held_B_0)):\n",
    "    curr_formula = ehull_CGCNN_unrelaxed_held_B_0.iloc[i].formula\n",
    "    if curr_formula in CGCNN_min_val:\n",
    "        if CGCNN_pred[i] < CGCNN_min_val[curr_formula]:\n",
    "            CGCNN_min_val[curr_formula] = CGCNN_pred[i]\n",
    "    else:\n",
    "        CGCNN_min_val[curr_formula] = CGCNN_pred[i]\n",
    "        \n",
    "for i in range(len(ehull_CGCNN_unrelaxed_held_B_0)):\n",
    "    curr_formula = ehull_CGCNN_unrelaxed_held_B_0.iloc[i].formula\n",
    "    if curr_formula in dft_min_val:\n",
    "        if ehull_CGCNN_unrelaxed_held_B_0.iloc[i].dft_e_hull < dft_min_val[curr_formula]:\n",
    "            dft_min_val[curr_formula] = ehull_CGCNN_unrelaxed_held_B_0.iloc[i].dft_e_hull\n",
    "    else:\n",
    "        dft_min_val[curr_formula] = ehull_CGCNN_unrelaxed_held_B_0.iloc[i].dft_e_hull"
   ]
  },
  {
   "cell_type": "code",
   "execution_count": 22,
   "id": "59cfb868",
   "metadata": {},
   "outputs": [],
   "source": [
    "dft_diffs = []\n",
    "CGCNN_diffs = []\n",
    "e3nn_diffs = []\n",
    "\n",
    "for i in range(len(ehull_e3nn_unrelaxed_held_B_0)):\n",
    "    curr_formula = ehull_e3nn_unrelaxed_held_B_0.iloc[i].formula\n",
    "    #gs_ref = ehull_e3nn_unrelaxed_held_B.iloc[dft_min_val[curr_formula][0]].predicted_dft_e_hull\n",
    "    \n",
    "    curr_val = e3nn_pred[i] - e3nn_min_val[curr_formula]\n",
    "    e3nn_diffs.append(curr_val)\n",
    "    \n",
    "for i in range(len(ehull_CGCNN_unrelaxed_held_B_0)):\n",
    "    curr_formula = ehull_CGCNN_unrelaxed_held_B_0.iloc[i].formula\n",
    "    #gs_ref = ehull_CGCNN_unrelaxed_held_B.iloc[dft_min_val[curr_formula][0]].predicted_dft_e_hull\n",
    "    curr_val = CGCNN_pred[i] - CGCNN_min_val[curr_formula]\n",
    "    CGCNN_diffs.append(curr_val)\n",
    "    \n",
    "for i in range(len(ehull_CGCNN_unrelaxed_held_B_0)):\n",
    "    curr_formula = ehull_CGCNN_unrelaxed_held_B_0.iloc[i].formula\n",
    "    curr_val = ehull_CGCNN_unrelaxed_held_B_0.iloc[i].dft_e_hull - dft_min_val[curr_formula]\n",
    "    dft_diffs.append(curr_val)"
   ]
  },
  {
   "cell_type": "code",
   "execution_count": 23,
   "id": "0205fec1",
   "metadata": {},
   "outputs": [],
   "source": [
    "\n",
    "dft_diffs = np.asarray(dft_diffs)\n",
    "CGCNN_diffs = np.asarray(CGCNN_diffs)\n",
    "e3nn_diffs = np.asarray(e3nn_diffs)"
   ]
  },
  {
   "cell_type": "code",
   "execution_count": 24,
   "id": "80fc856b",
   "metadata": {},
   "outputs": [
    {
     "data": {
      "text/plain": [
       "0.018218892508"
      ]
     },
     "execution_count": 24,
     "metadata": {},
     "output_type": "execute_result"
    }
   ],
   "source": [
    "np.mean(np.abs(dft_diffs-CGCNN_diffs))"
   ]
  },
  {
   "cell_type": "code",
   "execution_count": 25,
   "id": "e7b2022c",
   "metadata": {},
   "outputs": [
    {
     "data": {
      "text/plain": [
       "0.014817929522666666"
      ]
     },
     "execution_count": 25,
     "metadata": {},
     "output_type": "execute_result"
    }
   ],
   "source": [
    "np.mean(np.abs(dft_diffs-e3nn_diffs))"
   ]
  },
  {
   "cell_type": "code",
   "execution_count": 26,
   "id": "b5a090f7",
   "metadata": {},
   "outputs": [
    {
     "data": {
      "text/plain": [
       "array([[1.        , 0.54330778],\n",
       "       [0.54330778, 1.        ]])"
      ]
     },
     "execution_count": 26,
     "metadata": {},
     "output_type": "execute_result"
    }
   ],
   "source": [
    "np.corrcoef(dft_diffs,CGCNN_diffs)"
   ]
  },
  {
   "cell_type": "code",
   "execution_count": 27,
   "id": "f3c83ec4",
   "metadata": {},
   "outputs": [
    {
     "data": {
      "text/plain": [
       "array([[1.        , 0.59600401],\n",
       "       [0.59600401, 1.        ]])"
      ]
     },
     "execution_count": 27,
     "metadata": {},
     "output_type": "execute_result"
    }
   ],
   "source": [
    "np.corrcoef(dft_diffs,e3nn_diffs)"
   ]
  },
  {
   "cell_type": "code",
   "execution_count": 28,
   "id": "980e6c7c",
   "metadata": {},
   "outputs": [
    {
     "data": {
      "text/plain": [
       "-0.12071377349160461"
      ]
     },
     "execution_count": 28,
     "metadata": {},
     "output_type": "execute_result"
    }
   ],
   "source": [
    "metrics.r2_score(dft_diffs,CGCNN_diffs)"
   ]
  },
  {
   "cell_type": "code",
   "execution_count": 29,
   "id": "c958d1b5",
   "metadata": {},
   "outputs": [
    {
     "data": {
      "text/plain": [
       "0.29704701370943076"
      ]
     },
     "execution_count": 29,
     "metadata": {},
     "output_type": "execute_result"
    }
   ],
   "source": [
    "metrics.r2_score(dft_diffs,e3nn_diffs)"
   ]
  },
  {
   "cell_type": "code",
   "execution_count": 35,
   "id": "4b8efcdc",
   "metadata": {},
   "outputs": [],
   "source": [
    "dft_ensemble = []\n",
    "dft_min = []\n",
    "dft_mean = []\n",
    "dft_weights = []\n",
    "dft_diffs = []\n",
    "\n",
    "CGCNN_ensemble = []\n",
    "CGCNN_min = []\n",
    "CGCNN_mean = []\n",
    "CGCNN_weights = []\n",
    "CGCNN_diffs = []\n",
    "\n",
    "e3nn_ensemble = []\n",
    "e3nn_min = []\n",
    "e3nn_mean = []\n",
    "e3nn_weights = []\n",
    "e3nn_diffs = []\n",
    "\n",
    "for formula in formula_to_data:\n",
    "    dft_ensemble.append(formula_to_data[formula][\"dft_ensemble\"])\n",
    "    dft_min.append(formula_to_data[formula][\"dft_min\"])\n",
    "    dft_mean.append(formula_to_data[formula][\"dft_mean\"])\n",
    "    dft_weights.append(formula_to_data[formula][\"dft_weights\"])\n",
    "    dft_diffs.append(formula_to_data[formula][\"dft_diffs\"])\n",
    "    \n",
    "    CGCNN_ensemble.append(formula_to_data[formula][\"CGCNN_ensemble\"])\n",
    "    CGCNN_min.append(formula_to_data[formula][\"CGCNN_min\"])\n",
    "    CGCNN_mean.append(formula_to_data[formula][\"CGCNN_mean\"])\n",
    "    CGCNN_weights.append(formula_to_data[formula][\"CGCNN_weights\"])\n",
    "    CGCNN_diffs.append(formula_to_data[formula][\"CGCNN_diffs\"])\n",
    "    \n",
    "    e3nn_ensemble.append(formula_to_data[formula][\"e3nn_ensemble\"])\n",
    "    e3nn_min.append(formula_to_data[formula][\"e3nn_min\"])\n",
    "    e3nn_mean.append(formula_to_data[formula][\"e3nn_mean\"])\n",
    "    e3nn_weights.append(formula_to_data[formula][\"e3nn_weights\"])\n",
    "    e3nn_diffs.append(formula_to_data[formula][\"e3nn_diffs\"])"
   ]
  },
  {
   "cell_type": "code",
   "execution_count": 36,
   "id": "5d56e329",
   "metadata": {},
   "outputs": [],
   "source": [
    "def flatten_comprehension(matrix):\n",
    "    return [item for row in matrix for item in row]"
   ]
  },
  {
   "cell_type": "code",
   "execution_count": null,
   "id": "5cb15ae9",
   "metadata": {},
   "outputs": [],
   "source": []
  },
  {
   "cell_type": "code",
   "execution_count": 37,
   "id": "90b0c820",
   "metadata": {},
   "outputs": [],
   "source": [
    "dft_weights = flatten_comprehension(dft_weights)\n",
    "CGCNN_weights = flatten_comprehension(CGCNN_weights)\n",
    "e3nn_weights = flatten_comprehension(e3nn_weights)\n",
    "\n",
    "dft_diffs = flatten_comprehension(dft_diffs)\n",
    "CGCNN_diffs = flatten_comprehension(CGCNN_diffs)\n",
    "e3nn_diffs = flatten_comprehension(e3nn_diffs)\n",
    "\n",
    "dft_ensemble = np.asarray(dft_ensemble)\n",
    "dft_min = np.asarray(dft_min)\n",
    "dft_mean = np.asarray(dft_mean)\n",
    "dft_weights = np.asarray(dft_weights).reshape(-1)\n",
    "dft_diffs = np.asarray(dft_diffs).reshape(-1)\n",
    "\n",
    "CGCNN_ensemble = np.asarray(CGCNN_ensemble)\n",
    "CGCNN_min = np.asarray(CGCNN_min)\n",
    "CGCNN_mean = np.asarray(CGCNN_mean)\n",
    "CGCNN_weights = np.asarray(CGCNN_weights).reshape(-1)\n",
    "CGCNN_diffs = np.asarray(CGCNN_diffs).reshape(-1)\n",
    "\n",
    "\n",
    "e3nn_ensemble = np.asarray(e3nn_ensemble)\n",
    "e3nn_min = np.asarray(e3nn_min)\n",
    "e3nn_mean = np.asarray(e3nn_mean)\n",
    "e3nn_weights = np.asarray(e3nn_weights).reshape(-1)\n",
    "e3nn_diffs = np.asarray(e3nn_diffs).reshape(-1)\n",
    "\n"
   ]
  },
  {
   "cell_type": "code",
   "execution_count": null,
   "id": "1293df40",
   "metadata": {},
   "outputs": [],
   "source": []
  },
  {
   "cell_type": "code",
   "execution_count": 38,
   "id": "5108af52",
   "metadata": {},
   "outputs": [
    {
     "data": {
      "text/plain": [
       "0.028555505468250295"
      ]
     },
     "execution_count": 38,
     "metadata": {},
     "output_type": "execute_result"
    }
   ],
   "source": [
    "np.mean(np.abs(data_ehull_e3nn_unrelaxed_series.predicted_dft_e_hull-data_ehull_e3nn_unrelaxed_series.dft_e_hull))"
   ]
  },
  {
   "cell_type": "code",
   "execution_count": 39,
   "id": "ed878905",
   "metadata": {},
   "outputs": [
    {
     "data": {
      "text/plain": [
       "0.04366807349837776"
      ]
     },
     "execution_count": 39,
     "metadata": {},
     "output_type": "execute_result"
    }
   ],
   "source": [
    "np.mean(np.abs(data_ehull_CGCNN_unrelaxed_series.predicted_dft_e_hull-data_ehull_CGCNN_unrelaxed_series.dft_e_hull))"
   ]
  },
  {
   "cell_type": "code",
   "execution_count": 40,
   "id": "65aefec6",
   "metadata": {},
   "outputs": [
    {
     "data": {
      "text/plain": [
       "0.02020447007520278"
      ]
     },
     "execution_count": 40,
     "metadata": {},
     "output_type": "execute_result"
    }
   ],
   "source": [
    "np.mean(np.abs(dft_diffs-CGCNN_diffs))"
   ]
  },
  {
   "cell_type": "code",
   "execution_count": 41,
   "id": "f22c3477",
   "metadata": {},
   "outputs": [
    {
     "data": {
      "text/plain": [
       "0.017317508108806487"
      ]
     },
     "execution_count": 41,
     "metadata": {},
     "output_type": "execute_result"
    }
   ],
   "source": [
    "np.mean(np.abs(dft_diffs-e3nn_diffs))"
   ]
  },
  {
   "cell_type": "code",
   "execution_count": 42,
   "id": "a7afb66b",
   "metadata": {},
   "outputs": [
    {
     "data": {
      "text/plain": [
       "0.21276556104739278"
      ]
     },
     "execution_count": 42,
     "metadata": {},
     "output_type": "execute_result"
    }
   ],
   "source": [
    "np.mean(np.abs(data_O2P_e3nn_unrelaxed_series.predicted_Op_band_center-data_O2P_e3nn_unrelaxed_series.Op_band_center))"
   ]
  },
  {
   "cell_type": "code",
   "execution_count": 43,
   "id": "0066c861",
   "metadata": {},
   "outputs": [
    {
     "data": {
      "text/plain": [
       "0.1761272755566628"
      ]
     },
     "execution_count": 43,
     "metadata": {},
     "output_type": "execute_result"
    }
   ],
   "source": [
    "np.mean(np.abs(data_O2P_CGCNN_unrelaxed_series.predicted_Op_band_center-data_O2P_CGCNN_unrelaxed_series.Op_band_center))"
   ]
  },
  {
   "cell_type": "code",
   "execution_count": 44,
   "id": "4c3b02ee",
   "metadata": {},
   "outputs": [
    {
     "data": {
      "text/plain": [
       "0.046930531191681966"
      ]
     },
     "execution_count": 44,
     "metadata": {},
     "output_type": "execute_result"
    }
   ],
   "source": [
    "np.mean(np.abs(dft_min-dft_ensemble))"
   ]
  },
  {
   "cell_type": "code",
   "execution_count": 45,
   "id": "59b883cb",
   "metadata": {},
   "outputs": [
    {
     "data": {
      "text/plain": [
       "0.081290704979747"
      ]
     },
     "execution_count": 45,
     "metadata": {},
     "output_type": "execute_result"
    }
   ],
   "source": [
    "np.mean(np.abs(dft_mean-dft_ensemble))"
   ]
  },
  {
   "cell_type": "code",
   "execution_count": 46,
   "id": "c483dce8",
   "metadata": {},
   "outputs": [
    {
     "data": {
      "text/plain": [
       "0.11596709221117212"
      ]
     },
     "execution_count": 46,
     "metadata": {},
     "output_type": "execute_result"
    }
   ],
   "source": [
    "np.mean(np.abs(dft_min-dft_mean))"
   ]
  },
  {
   "cell_type": "code",
   "execution_count": 47,
   "id": "4deb4172",
   "metadata": {},
   "outputs": [
    {
     "data": {
      "text/plain": [
       "0.009718454540708485"
      ]
     },
     "execution_count": 47,
     "metadata": {},
     "output_type": "execute_result"
    }
   ],
   "source": [
    "np.mean(np.abs(CGCNN_min-CGCNN_ensemble))"
   ]
  },
  {
   "cell_type": "code",
   "execution_count": 48,
   "id": "a65ee969",
   "metadata": {},
   "outputs": [
    {
     "data": {
      "text/plain": [
       "0.004120436152188082"
      ]
     },
     "execution_count": 48,
     "metadata": {},
     "output_type": "execute_result"
    }
   ],
   "source": [
    "np.mean(np.abs(CGCNN_mean-CGCNN_ensemble))"
   ]
  },
  {
   "cell_type": "code",
   "execution_count": 49,
   "id": "925b79b1",
   "metadata": {},
   "outputs": [
    {
     "data": {
      "text/plain": [
       "0.012431762654427544"
      ]
     },
     "execution_count": 49,
     "metadata": {},
     "output_type": "execute_result"
    }
   ],
   "source": [
    "np.mean(np.abs(CGCNN_min-CGCNN_mean))"
   ]
  },
  {
   "cell_type": "code",
   "execution_count": 50,
   "id": "5bfbbf85",
   "metadata": {},
   "outputs": [
    {
     "data": {
      "text/plain": [
       "0.028660119104201673"
      ]
     },
     "execution_count": 50,
     "metadata": {},
     "output_type": "execute_result"
    }
   ],
   "source": [
    "np.mean(np.abs(e3nn_min-e3nn_ensemble))"
   ]
  },
  {
   "cell_type": "code",
   "execution_count": 51,
   "id": "85a32968",
   "metadata": {},
   "outputs": [
    {
     "data": {
      "text/plain": [
       "0.03712352212703544"
      ]
     },
     "execution_count": 51,
     "metadata": {},
     "output_type": "execute_result"
    }
   ],
   "source": [
    "np.mean(np.abs(e3nn_mean-e3nn_ensemble))"
   ]
  },
  {
   "cell_type": "code",
   "execution_count": 52,
   "id": "9585fd7a",
   "metadata": {},
   "outputs": [
    {
     "data": {
      "text/plain": [
       "0.06225279223956034"
      ]
     },
     "execution_count": 52,
     "metadata": {},
     "output_type": "execute_result"
    }
   ],
   "source": [
    "np.mean(np.abs(e3nn_min-e3nn_mean))"
   ]
  },
  {
   "cell_type": "code",
   "execution_count": 53,
   "id": "91abba02",
   "metadata": {},
   "outputs": [
    {
     "data": {
      "text/plain": [
       "0.15844127970527444"
      ]
     },
     "execution_count": 53,
     "metadata": {},
     "output_type": "execute_result"
    }
   ],
   "source": [
    "np.mean(np.abs(CGCNN_ensemble-dft_ensemble))"
   ]
  },
  {
   "cell_type": "code",
   "execution_count": 54,
   "id": "90d4b50b",
   "metadata": {},
   "outputs": [
    {
     "data": {
      "text/plain": [
       "0.22588134848209634"
      ]
     },
     "execution_count": 54,
     "metadata": {},
     "output_type": "execute_result"
    }
   ],
   "source": [
    "np.mean(np.abs(e3nn_ensemble-dft_ensemble))"
   ]
  },
  {
   "cell_type": "code",
   "execution_count": null,
   "id": "b1943caa",
   "metadata": {},
   "outputs": [],
   "source": []
  }
 ],
 "metadata": {
  "kernelspec": {
   "display_name": "Perovskite_ML_Environment",
   "language": "python",
   "name": "perovskite_ml_environment"
  },
  "language_info": {
   "codemirror_mode": {
    "name": "ipython",
    "version": 3
   },
   "file_extension": ".py",
   "mimetype": "text/x-python",
   "name": "python",
   "nbconvert_exporter": "python",
   "pygments_lexer": "ipython3",
   "version": "3.10.11"
  }
 },
 "nbformat": 4,
 "nbformat_minor": 5
}
