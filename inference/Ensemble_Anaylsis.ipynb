{
 "cells": [
  {
   "cell_type": "code",
   "execution_count": 1,
   "id": "1393f30b",
   "metadata": {},
   "outputs": [],
   "source": [
    "import pandas as pd"
   ]
  },
  {
   "cell_type": "code",
   "execution_count": 29,
   "id": "7701cad2",
   "metadata": {},
   "outputs": [],
   "source": [
    "data_ehull_e3nn_unrelaxed_series = pd.read_json(\"../best_models/e3nn/dft_e_hull_htvs_data_unrelaxed_e3nn/837627/best_0/holdout_set_series_predictions.json\")\n",
    "data_O2P_e3nn_unrelaxed_series = pd.read_json(\"../best_models/e3nn/Op_band_center_htvs_data_unrelaxed_e3nn/837624/best_0/holdout_set_series_predictions.json\")\n",
    "data_ehull_CGCNN_unrelaxed_series = pd.read_json(\"../best_models/CGCNN/dft_e_hull_htvs_data_unrelaxed_CGCNN/837611/best_0/holdout_set_series_predictions.json\")\n",
    "data_O2P_CGCNN_unrelaxed_series = pd.read_json(\"../best_models/CGCNN/Op_band_center_htvs_data_unrelaxed_CGCNN/837614/best_0/holdout_set_series_predictions.json\")"
   ]
  },
  {
   "cell_type": "code",
   "execution_count": 2,
   "id": "f419d078",
   "metadata": {},
   "outputs": [],
   "source": [
    "data_ehull_e3nn_unrelaxed_series = pd.read_json(\"../best_models/e3nn/dft_e_hull_htvs_data_unrelaxed_e3nn/837627/best_0/holdout_set_B_sites_predictions.json\")\n",
    "data_O2P_e3nn_unrelaxed_series = pd.read_json(\"../best_models/e3nn/Op_band_center_htvs_data_unrelaxed_e3nn/837624/best_0/holdout_set_B_sites_predictions.json\")\n",
    "data_ehull_CGCNN_unrelaxed_series = pd.read_json(\"../best_models/CGCNN/dft_e_hull_htvs_data_unrelaxed_CGCNN/837611/best_0/holdout_set_B_sites_predictions.json\")\n",
    "data_O2P_CGCNN_unrelaxed_series = pd.read_json(\"../best_models/CGCNN/Op_band_center_htvs_data_unrelaxed_CGCNN/837614/best_0/holdout_set_B_sites_predictions.json\")"
   ]
  },
  {
   "cell_type": "code",
   "execution_count": 3,
   "id": "c653e399",
   "metadata": {},
   "outputs": [
    {
     "data": {
      "text/html": [
       "<div>\n",
       "<style scoped>\n",
       "    .dataframe tbody tr th:only-of-type {\n",
       "        vertical-align: middle;\n",
       "    }\n",
       "\n",
       "    .dataframe tbody tr th {\n",
       "        vertical-align: top;\n",
       "    }\n",
       "\n",
       "    .dataframe thead th {\n",
       "        text-align: right;\n",
       "    }\n",
       "</style>\n",
       "<table border=\"1\" class=\"dataframe\">\n",
       "  <thead>\n",
       "    <tr style=\"text-align: right;\">\n",
       "      <th></th>\n",
       "      <th>formula</th>\n",
       "      <th>framework</th>\n",
       "      <th>composition</th>\n",
       "      <th>n_atoms_unrelaxed</th>\n",
       "      <th>n_atoms_opt</th>\n",
       "      <th>unrelaxed_cryst_id</th>\n",
       "      <th>unrelaxed_struct</th>\n",
       "      <th>opt_cryst_id</th>\n",
       "      <th>opt_struct</th>\n",
       "      <th>es_job_id</th>\n",
       "      <th>dft_energy</th>\n",
       "      <th>dft_energy_per_atom</th>\n",
       "      <th>dft_e_hull</th>\n",
       "      <th>Op_band_center</th>\n",
       "      <th>M3Gnet_relaxed_struct</th>\n",
       "      <th>M3Gnet_relaxed_energy</th>\n",
       "      <th>M3Gnet_relaxed_energy_per_atom</th>\n",
       "      <th>idx</th>\n",
       "      <th>predicted_Op_band_center</th>\n",
       "    </tr>\n",
       "  </thead>\n",
       "  <tbody>\n",
       "    <tr>\n",
       "      <th>0</th>\n",
       "      <td>Ca8Fe4Mn4O24</td>\n",
       "      <td>CaFe0.500Mn0.500O3</td>\n",
       "      <td>{'sites': {'A': ['Ca'], 'B': ['Mn', 'Fe'], 'X'...</td>\n",
       "      <td>40</td>\n",
       "      <td>40</td>\n",
       "      <td>222998128</td>\n",
       "      <td>{'@module': 'pymatgen.core.structure', '@class...</td>\n",
       "      <td>423959398</td>\n",
       "      <td>{'@module': 'pymatgen.core.structure', '@class...</td>\n",
       "      <td>123103556</td>\n",
       "      <td>-265.489796</td>\n",
       "      <td>-6.637245</td>\n",
       "      <td>0.074200</td>\n",
       "      <td>-1.389153</td>\n",
       "      <td>{'@module': 'pymatgen.core.structure', '@class...</td>\n",
       "      <td>-266.711243</td>\n",
       "      <td>-6.667781</td>\n",
       "      <td>0</td>\n",
       "      <td>-1.414473</td>\n",
       "    </tr>\n",
       "    <tr>\n",
       "      <th>1</th>\n",
       "      <td>Ca8Fe4Mn4O24</td>\n",
       "      <td>CaFe0.500Mn0.500O3</td>\n",
       "      <td>{'sites': {'A': ['Ca'], 'B': ['Mn', 'Fe'], 'X'...</td>\n",
       "      <td>40</td>\n",
       "      <td>40</td>\n",
       "      <td>222998125</td>\n",
       "      <td>{'@module': 'pymatgen.core.structure', '@class...</td>\n",
       "      <td>421466237</td>\n",
       "      <td>{'@module': 'pymatgen.core.structure', '@class...</td>\n",
       "      <td>122979400</td>\n",
       "      <td>-265.627054</td>\n",
       "      <td>-6.640676</td>\n",
       "      <td>0.070768</td>\n",
       "      <td>-1.420044</td>\n",
       "      <td>{'@module': 'pymatgen.core.structure', '@class...</td>\n",
       "      <td>-266.456848</td>\n",
       "      <td>-6.661421</td>\n",
       "      <td>1</td>\n",
       "      <td>-1.421062</td>\n",
       "    </tr>\n",
       "    <tr>\n",
       "      <th>2</th>\n",
       "      <td>Ca8Fe4Mn4O24</td>\n",
       "      <td>CaFe0.500Mn0.500O3</td>\n",
       "      <td>{'sites': {'A': ['Ca'], 'B': ['Mn', 'Fe'], 'X'...</td>\n",
       "      <td>40</td>\n",
       "      <td>40</td>\n",
       "      <td>222998126</td>\n",
       "      <td>{'@module': 'pymatgen.core.structure', '@class...</td>\n",
       "      <td>421466235</td>\n",
       "      <td>{'@module': 'pymatgen.core.structure', '@class...</td>\n",
       "      <td>122979657</td>\n",
       "      <td>-265.542706</td>\n",
       "      <td>-6.638568</td>\n",
       "      <td>0.072877</td>\n",
       "      <td>-1.424778</td>\n",
       "      <td>{'@module': 'pymatgen.core.structure', '@class...</td>\n",
       "      <td>-266.213867</td>\n",
       "      <td>-6.655347</td>\n",
       "      <td>2</td>\n",
       "      <td>-1.421519</td>\n",
       "    </tr>\n",
       "    <tr>\n",
       "      <th>3</th>\n",
       "      <td>Ca8Fe4Mn4O24</td>\n",
       "      <td>CaFe0.500Mn0.500O3</td>\n",
       "      <td>{'sites': {'A': ['Ca'], 'B': ['Mn', 'Fe'], 'X'...</td>\n",
       "      <td>40</td>\n",
       "      <td>40</td>\n",
       "      <td>222998127</td>\n",
       "      <td>{'@module': 'pymatgen.core.structure', '@class...</td>\n",
       "      <td>421466263</td>\n",
       "      <td>{'@module': 'pymatgen.core.structure', '@class...</td>\n",
       "      <td>122979417</td>\n",
       "      <td>-265.631202</td>\n",
       "      <td>-6.640780</td>\n",
       "      <td>0.070665</td>\n",
       "      <td>-1.404994</td>\n",
       "      <td>{'@module': 'pymatgen.core.structure', '@class...</td>\n",
       "      <td>-264.671021</td>\n",
       "      <td>-6.616776</td>\n",
       "      <td>3</td>\n",
       "      <td>-1.419894</td>\n",
       "    </tr>\n",
       "    <tr>\n",
       "      <th>4</th>\n",
       "      <td>Ca8Fe4Mn4O24</td>\n",
       "      <td>CaFe0.500Mn0.500O3</td>\n",
       "      <td>{'sites': {'A': ['Ca'], 'B': ['Mn', 'Fe'], 'X'...</td>\n",
       "      <td>40</td>\n",
       "      <td>40</td>\n",
       "      <td>222998129</td>\n",
       "      <td>{'@module': 'pymatgen.core.structure', '@class...</td>\n",
       "      <td>421466289</td>\n",
       "      <td>{'@module': 'pymatgen.core.structure', '@class...</td>\n",
       "      <td>122979438</td>\n",
       "      <td>-265.628562</td>\n",
       "      <td>-6.640714</td>\n",
       "      <td>0.070731</td>\n",
       "      <td>-1.381979</td>\n",
       "      <td>{'@module': 'pymatgen.core.structure', '@class...</td>\n",
       "      <td>-266.308624</td>\n",
       "      <td>-6.657716</td>\n",
       "      <td>4</td>\n",
       "      <td>-1.415649</td>\n",
       "    </tr>\n",
       "    <tr>\n",
       "      <th>...</th>\n",
       "      <td>...</td>\n",
       "      <td>...</td>\n",
       "      <td>...</td>\n",
       "      <td>...</td>\n",
       "      <td>...</td>\n",
       "      <td>...</td>\n",
       "      <td>...</td>\n",
       "      <td>...</td>\n",
       "      <td>...</td>\n",
       "      <td>...</td>\n",
       "      <td>...</td>\n",
       "      <td>...</td>\n",
       "      <td>...</td>\n",
       "      <td>...</td>\n",
       "      <td>...</td>\n",
       "      <td>...</td>\n",
       "      <td>...</td>\n",
       "      <td>...</td>\n",
       "      <td>...</td>\n",
       "    </tr>\n",
       "    <tr>\n",
       "      <th>595</th>\n",
       "      <td>Mn4Ni4O24Tb8</td>\n",
       "      <td>TbMn0.500Ni0.500O3</td>\n",
       "      <td>{'sites': {'A': ['Tb'], 'B': ['Ni', 'Mn'], 'X'...</td>\n",
       "      <td>40</td>\n",
       "      <td>40</td>\n",
       "      <td>272062436</td>\n",
       "      <td>{'@module': 'pymatgen.core.structure', '@class...</td>\n",
       "      <td>421446419</td>\n",
       "      <td>{'@module': 'pymatgen.core.structure', '@class...</td>\n",
       "      <td>122979607</td>\n",
       "      <td>-291.947011</td>\n",
       "      <td>-7.298675</td>\n",
       "      <td>0.083433</td>\n",
       "      <td>-1.855526</td>\n",
       "      <td>{'@module': 'pymatgen.core.structure', '@class...</td>\n",
       "      <td>-289.953644</td>\n",
       "      <td>-7.248841</td>\n",
       "      <td>595</td>\n",
       "      <td>-2.224214</td>\n",
       "    </tr>\n",
       "    <tr>\n",
       "      <th>596</th>\n",
       "      <td>Mn4Ni4O24Tb8</td>\n",
       "      <td>TbMn0.500Ni0.500O3</td>\n",
       "      <td>{'sites': {'A': ['Tb'], 'B': ['Ni', 'Mn'], 'X'...</td>\n",
       "      <td>40</td>\n",
       "      <td>40</td>\n",
       "      <td>272062439</td>\n",
       "      <td>{'@module': 'pymatgen.core.structure', '@class...</td>\n",
       "      <td>421459053</td>\n",
       "      <td>{'@module': 'pymatgen.core.structure', '@class...</td>\n",
       "      <td>122979241</td>\n",
       "      <td>-293.275698</td>\n",
       "      <td>-7.331892</td>\n",
       "      <td>0.050215</td>\n",
       "      <td>-1.358484</td>\n",
       "      <td>{'@module': 'pymatgen.core.structure', '@class...</td>\n",
       "      <td>-290.115479</td>\n",
       "      <td>-7.252887</td>\n",
       "      <td>596</td>\n",
       "      <td>-2.193398</td>\n",
       "    </tr>\n",
       "    <tr>\n",
       "      <th>597</th>\n",
       "      <td>Mn4Ni4O24Tb8</td>\n",
       "      <td>TbMn0.500Ni0.500O3</td>\n",
       "      <td>{'sites': {'A': ['Tb'], 'B': ['Ni', 'Mn'], 'X'...</td>\n",
       "      <td>40</td>\n",
       "      <td>40</td>\n",
       "      <td>272062435</td>\n",
       "      <td>{'@module': 'pymatgen.core.structure', '@class...</td>\n",
       "      <td>421464614</td>\n",
       "      <td>{'@module': 'pymatgen.core.structure', '@class...</td>\n",
       "      <td>122979281</td>\n",
       "      <td>-291.822920</td>\n",
       "      <td>-7.295573</td>\n",
       "      <td>0.086535</td>\n",
       "      <td>-1.938487</td>\n",
       "      <td>{'@module': 'pymatgen.core.structure', '@class...</td>\n",
       "      <td>-291.638702</td>\n",
       "      <td>-7.290968</td>\n",
       "      <td>597</td>\n",
       "      <td>-2.218283</td>\n",
       "    </tr>\n",
       "    <tr>\n",
       "      <th>598</th>\n",
       "      <td>Mn4Ni4O24Tb8</td>\n",
       "      <td>TbMn0.500Ni0.500O3</td>\n",
       "      <td>{'sites': {'A': ['Tb'], 'B': ['Ni', 'Mn'], 'X'...</td>\n",
       "      <td>40</td>\n",
       "      <td>40</td>\n",
       "      <td>272062438</td>\n",
       "      <td>{'@module': 'pymatgen.core.structure', '@class...</td>\n",
       "      <td>421446230</td>\n",
       "      <td>{'@module': 'pymatgen.core.structure', '@class...</td>\n",
       "      <td>122979130</td>\n",
       "      <td>-292.317225</td>\n",
       "      <td>-7.307931</td>\n",
       "      <td>0.074177</td>\n",
       "      <td>-1.890348</td>\n",
       "      <td>{'@module': 'pymatgen.core.structure', '@class...</td>\n",
       "      <td>-292.125397</td>\n",
       "      <td>-7.303135</td>\n",
       "      <td>598</td>\n",
       "      <td>-2.208880</td>\n",
       "    </tr>\n",
       "    <tr>\n",
       "      <th>599</th>\n",
       "      <td>Mn4Ni4O24Tb8</td>\n",
       "      <td>TbMn0.500Ni0.500O3</td>\n",
       "      <td>{'sites': {'A': ['Tb'], 'B': ['Ni', 'Mn'], 'X'...</td>\n",
       "      <td>40</td>\n",
       "      <td>40</td>\n",
       "      <td>272062434</td>\n",
       "      <td>{'@module': 'pymatgen.core.structure', '@class...</td>\n",
       "      <td>421466265</td>\n",
       "      <td>{'@module': 'pymatgen.core.structure', '@class...</td>\n",
       "      <td>122979419</td>\n",
       "      <td>-291.589413</td>\n",
       "      <td>-7.289735</td>\n",
       "      <td>0.092373</td>\n",
       "      <td>-1.874410</td>\n",
       "      <td>{'@module': 'pymatgen.core.structure', '@class...</td>\n",
       "      <td>-291.543457</td>\n",
       "      <td>-7.288586</td>\n",
       "      <td>599</td>\n",
       "      <td>-2.264902</td>\n",
       "    </tr>\n",
       "  </tbody>\n",
       "</table>\n",
       "<p>600 rows × 19 columns</p>\n",
       "</div>"
      ],
      "text/plain": [
       "          formula           framework  \\\n",
       "0    Ca8Fe4Mn4O24  CaFe0.500Mn0.500O3   \n",
       "1    Ca8Fe4Mn4O24  CaFe0.500Mn0.500O3   \n",
       "2    Ca8Fe4Mn4O24  CaFe0.500Mn0.500O3   \n",
       "3    Ca8Fe4Mn4O24  CaFe0.500Mn0.500O3   \n",
       "4    Ca8Fe4Mn4O24  CaFe0.500Mn0.500O3   \n",
       "..            ...                 ...   \n",
       "595  Mn4Ni4O24Tb8  TbMn0.500Ni0.500O3   \n",
       "596  Mn4Ni4O24Tb8  TbMn0.500Ni0.500O3   \n",
       "597  Mn4Ni4O24Tb8  TbMn0.500Ni0.500O3   \n",
       "598  Mn4Ni4O24Tb8  TbMn0.500Ni0.500O3   \n",
       "599  Mn4Ni4O24Tb8  TbMn0.500Ni0.500O3   \n",
       "\n",
       "                                           composition  n_atoms_unrelaxed  \\\n",
       "0    {'sites': {'A': ['Ca'], 'B': ['Mn', 'Fe'], 'X'...                 40   \n",
       "1    {'sites': {'A': ['Ca'], 'B': ['Mn', 'Fe'], 'X'...                 40   \n",
       "2    {'sites': {'A': ['Ca'], 'B': ['Mn', 'Fe'], 'X'...                 40   \n",
       "3    {'sites': {'A': ['Ca'], 'B': ['Mn', 'Fe'], 'X'...                 40   \n",
       "4    {'sites': {'A': ['Ca'], 'B': ['Mn', 'Fe'], 'X'...                 40   \n",
       "..                                                 ...                ...   \n",
       "595  {'sites': {'A': ['Tb'], 'B': ['Ni', 'Mn'], 'X'...                 40   \n",
       "596  {'sites': {'A': ['Tb'], 'B': ['Ni', 'Mn'], 'X'...                 40   \n",
       "597  {'sites': {'A': ['Tb'], 'B': ['Ni', 'Mn'], 'X'...                 40   \n",
       "598  {'sites': {'A': ['Tb'], 'B': ['Ni', 'Mn'], 'X'...                 40   \n",
       "599  {'sites': {'A': ['Tb'], 'B': ['Ni', 'Mn'], 'X'...                 40   \n",
       "\n",
       "     n_atoms_opt  unrelaxed_cryst_id  \\\n",
       "0             40           222998128   \n",
       "1             40           222998125   \n",
       "2             40           222998126   \n",
       "3             40           222998127   \n",
       "4             40           222998129   \n",
       "..           ...                 ...   \n",
       "595           40           272062436   \n",
       "596           40           272062439   \n",
       "597           40           272062435   \n",
       "598           40           272062438   \n",
       "599           40           272062434   \n",
       "\n",
       "                                      unrelaxed_struct  opt_cryst_id  \\\n",
       "0    {'@module': 'pymatgen.core.structure', '@class...     423959398   \n",
       "1    {'@module': 'pymatgen.core.structure', '@class...     421466237   \n",
       "2    {'@module': 'pymatgen.core.structure', '@class...     421466235   \n",
       "3    {'@module': 'pymatgen.core.structure', '@class...     421466263   \n",
       "4    {'@module': 'pymatgen.core.structure', '@class...     421466289   \n",
       "..                                                 ...           ...   \n",
       "595  {'@module': 'pymatgen.core.structure', '@class...     421446419   \n",
       "596  {'@module': 'pymatgen.core.structure', '@class...     421459053   \n",
       "597  {'@module': 'pymatgen.core.structure', '@class...     421464614   \n",
       "598  {'@module': 'pymatgen.core.structure', '@class...     421446230   \n",
       "599  {'@module': 'pymatgen.core.structure', '@class...     421466265   \n",
       "\n",
       "                                            opt_struct  es_job_id  dft_energy  \\\n",
       "0    {'@module': 'pymatgen.core.structure', '@class...  123103556 -265.489796   \n",
       "1    {'@module': 'pymatgen.core.structure', '@class...  122979400 -265.627054   \n",
       "2    {'@module': 'pymatgen.core.structure', '@class...  122979657 -265.542706   \n",
       "3    {'@module': 'pymatgen.core.structure', '@class...  122979417 -265.631202   \n",
       "4    {'@module': 'pymatgen.core.structure', '@class...  122979438 -265.628562   \n",
       "..                                                 ...        ...         ...   \n",
       "595  {'@module': 'pymatgen.core.structure', '@class...  122979607 -291.947011   \n",
       "596  {'@module': 'pymatgen.core.structure', '@class...  122979241 -293.275698   \n",
       "597  {'@module': 'pymatgen.core.structure', '@class...  122979281 -291.822920   \n",
       "598  {'@module': 'pymatgen.core.structure', '@class...  122979130 -292.317225   \n",
       "599  {'@module': 'pymatgen.core.structure', '@class...  122979419 -291.589413   \n",
       "\n",
       "     dft_energy_per_atom  dft_e_hull  Op_band_center  \\\n",
       "0              -6.637245    0.074200       -1.389153   \n",
       "1              -6.640676    0.070768       -1.420044   \n",
       "2              -6.638568    0.072877       -1.424778   \n",
       "3              -6.640780    0.070665       -1.404994   \n",
       "4              -6.640714    0.070731       -1.381979   \n",
       "..                   ...         ...             ...   \n",
       "595            -7.298675    0.083433       -1.855526   \n",
       "596            -7.331892    0.050215       -1.358484   \n",
       "597            -7.295573    0.086535       -1.938487   \n",
       "598            -7.307931    0.074177       -1.890348   \n",
       "599            -7.289735    0.092373       -1.874410   \n",
       "\n",
       "                                 M3Gnet_relaxed_struct  M3Gnet_relaxed_energy  \\\n",
       "0    {'@module': 'pymatgen.core.structure', '@class...            -266.711243   \n",
       "1    {'@module': 'pymatgen.core.structure', '@class...            -266.456848   \n",
       "2    {'@module': 'pymatgen.core.structure', '@class...            -266.213867   \n",
       "3    {'@module': 'pymatgen.core.structure', '@class...            -264.671021   \n",
       "4    {'@module': 'pymatgen.core.structure', '@class...            -266.308624   \n",
       "..                                                 ...                    ...   \n",
       "595  {'@module': 'pymatgen.core.structure', '@class...            -289.953644   \n",
       "596  {'@module': 'pymatgen.core.structure', '@class...            -290.115479   \n",
       "597  {'@module': 'pymatgen.core.structure', '@class...            -291.638702   \n",
       "598  {'@module': 'pymatgen.core.structure', '@class...            -292.125397   \n",
       "599  {'@module': 'pymatgen.core.structure', '@class...            -291.543457   \n",
       "\n",
       "     M3Gnet_relaxed_energy_per_atom  idx  predicted_Op_band_center  \n",
       "0                         -6.667781    0                 -1.414473  \n",
       "1                         -6.661421    1                 -1.421062  \n",
       "2                         -6.655347    2                 -1.421519  \n",
       "3                         -6.616776    3                 -1.419894  \n",
       "4                         -6.657716    4                 -1.415649  \n",
       "..                              ...  ...                       ...  \n",
       "595                       -7.248841  595                 -2.224214  \n",
       "596                       -7.252887  596                 -2.193398  \n",
       "597                       -7.290968  597                 -2.218283  \n",
       "598                       -7.303135  598                 -2.208880  \n",
       "599                       -7.288586  599                 -2.264902  \n",
       "\n",
       "[600 rows x 19 columns]"
      ]
     },
     "execution_count": 3,
     "metadata": {},
     "output_type": "execute_result"
    }
   ],
   "source": [
    "data_O2P_CGCNN_unrelaxed_series"
   ]
  },
  {
   "cell_type": "code",
   "execution_count": 30,
   "id": "58f15f1c",
   "metadata": {},
   "outputs": [],
   "source": [
    "import numpy as np\n",
    "\n",
    "kT = 0.0000861733*1300\n",
    "\n",
    "def get_ensemble_prediction(formula,energies_data,energies_name,O2P_data,O2P_name):\n",
    "    data_energies = []\n",
    "    data_O2P = []\n",
    "    \n",
    "    \n",
    "    for i in range(len(energies_data)):\n",
    "        #print(energies_data.iloc[i].formula)\n",
    "        if energies_data.iloc[i].formula == formula:\n",
    "            data_energies.append(energies_data.iloc[i][energies_name])\n",
    "            data_O2P.append(O2P_data.iloc[i][O2P_name])\n",
    "            \n",
    "    \n",
    "    data_energies = np.asarray(data_energies)*40\n",
    "    data_O2P = np.asarray(data_O2P)\n",
    "    \n",
    "    weights = np.exp(-data_energies/(kT))/np.sum(np.exp(-data_energies/(kT)))\n",
    "    diffs = (data_energies - data_energies.min())/40.0\n",
    "    O2P_ensemble = np.sum(data_O2P*weights)\n",
    "    \n",
    "    O2P_min = data_O2P[np.argmax(weights)]\n",
    "    \n",
    "    O2P_mean = data_O2P.mean()\n",
    "    \n",
    "    return O2P_ensemble,O2P_min,O2P_mean,np.log10(weights),diffs"
   ]
  },
  {
   "cell_type": "code",
   "execution_count": 31,
   "id": "69057ad5",
   "metadata": {},
   "outputs": [],
   "source": [
    "formulas = set(data_O2P_CGCNN_unrelaxed_series.formula)"
   ]
  },
  {
   "cell_type": "code",
   "execution_count": 32,
   "id": "3c086e4b",
   "metadata": {},
   "outputs": [
    {
     "data": {
      "text/plain": [
       "42"
      ]
     },
     "execution_count": 32,
     "metadata": {},
     "output_type": "execute_result"
    }
   ],
   "source": [
    "len(formulas)"
   ]
  },
  {
   "cell_type": "code",
   "execution_count": 33,
   "id": "a93e520c",
   "metadata": {},
   "outputs": [],
   "source": [
    "formula_to_data = {}\n",
    "\n",
    "for formula in formulas:\n",
    "    formula_to_data[formula] = {}\n",
    "    \n",
    "    \n",
    "for formula in formulas:\n",
    "    \n",
    "    \n",
    "    dft_ensemble,dft_min,dft_mean,dft_weights,dft_diffs = get_ensemble_prediction(formula,data_ehull_e3nn_unrelaxed_series,\"dft_e_hull\",data_ehull_e3nn_unrelaxed_series,\"Op_band_center\")\n",
    "    CGCNN_ensemble,CGCNN_min,CGCNN_mean,CGCNN_weights,CGCNN_diffs, = get_ensemble_prediction(formula,data_ehull_CGCNN_unrelaxed_series,\"predicted_dft_e_hull\",data_O2P_CGCNN_unrelaxed_series,\"predicted_Op_band_center\")\n",
    "    e3nn_ensemble,e3nn_min,e3nn_mean,e3nn_weights,e3nn_diffs = get_ensemble_prediction(formula,data_ehull_e3nn_unrelaxed_series,\"predicted_dft_e_hull\",data_O2P_e3nn_unrelaxed_series,\"predicted_Op_band_center\")\n",
    "    \n",
    "    formula_to_data[formula][\"dft_ensemble\"]=dft_ensemble\n",
    "    formula_to_data[formula][\"dft_min\"]=dft_min\n",
    "    formula_to_data[formula][\"dft_mean\"]=dft_mean\n",
    "    formula_to_data[formula][\"dft_weights\"]=dft_weights\n",
    "    formula_to_data[formula][\"dft_diffs\"]=dft_diffs\n",
    "        \n",
    "    formula_to_data[formula][\"CGCNN_ensemble\"]=CGCNN_ensemble\n",
    "    formula_to_data[formula][\"CGCNN_min\"]=CGCNN_min\n",
    "    formula_to_data[formula][\"CGCNN_mean\"]=CGCNN_mean\n",
    "    formula_to_data[formula][\"CGCNN_weights\"]=CGCNN_weights\n",
    "    formula_to_data[formula][\"CGCNN_diffs\"]=CGCNN_diffs\n",
    "    \n",
    "    formula_to_data[formula][\"e3nn_ensemble\"]=e3nn_ensemble\n",
    "    formula_to_data[formula][\"e3nn_min\"]=e3nn_min\n",
    "    formula_to_data[formula][\"e3nn_mean\"]=e3nn_mean\n",
    "    formula_to_data[formula][\"e3nn_weights\"]=e3nn_weights\n",
    "    formula_to_data[formula][\"e3nn_diffs\"]=e3nn_diffs"
   ]
  },
  {
   "cell_type": "code",
   "execution_count": 34,
   "id": "6ff8652b",
   "metadata": {},
   "outputs": [
    {
     "data": {
      "text/plain": [
       "42"
      ]
     },
     "execution_count": 34,
     "metadata": {},
     "output_type": "execute_result"
    }
   ],
   "source": [
    "len(formula_to_data)"
   ]
  },
  {
   "cell_type": "code",
   "execution_count": 35,
   "id": "4b8efcdc",
   "metadata": {},
   "outputs": [],
   "source": [
    "dft_ensemble = []\n",
    "dft_min = []\n",
    "dft_mean = []\n",
    "dft_weights = []\n",
    "dft_diffs = []\n",
    "\n",
    "CGCNN_ensemble = []\n",
    "CGCNN_min = []\n",
    "CGCNN_mean = []\n",
    "CGCNN_weights = []\n",
    "CGCNN_diffs = []\n",
    "\n",
    "e3nn_ensemble = []\n",
    "e3nn_min = []\n",
    "e3nn_mean = []\n",
    "e3nn_weights = []\n",
    "e3nn_diffs = []\n",
    "\n",
    "for formula in formula_to_data:\n",
    "    dft_ensemble.append(formula_to_data[formula][\"dft_ensemble\"])\n",
    "    dft_min.append(formula_to_data[formula][\"dft_min\"])\n",
    "    dft_mean.append(formula_to_data[formula][\"dft_mean\"])\n",
    "    dft_weights.append(formula_to_data[formula][\"dft_weights\"])\n",
    "    dft_diffs.append(formula_to_data[formula][\"dft_diffs\"])\n",
    "    \n",
    "    CGCNN_ensemble.append(formula_to_data[formula][\"CGCNN_ensemble\"])\n",
    "    CGCNN_min.append(formula_to_data[formula][\"CGCNN_min\"])\n",
    "    CGCNN_mean.append(formula_to_data[formula][\"CGCNN_mean\"])\n",
    "    CGCNN_weights.append(formula_to_data[formula][\"CGCNN_weights\"])\n",
    "    CGCNN_diffs.append(formula_to_data[formula][\"CGCNN_diffs\"])\n",
    "    \n",
    "    e3nn_ensemble.append(formula_to_data[formula][\"e3nn_ensemble\"])\n",
    "    e3nn_min.append(formula_to_data[formula][\"e3nn_min\"])\n",
    "    e3nn_mean.append(formula_to_data[formula][\"e3nn_mean\"])\n",
    "    e3nn_weights.append(formula_to_data[formula][\"e3nn_weights\"])\n",
    "    e3nn_diffs.append(formula_to_data[formula][\"e3nn_diffs\"])"
   ]
  },
  {
   "cell_type": "code",
   "execution_count": 36,
   "id": "5d56e329",
   "metadata": {},
   "outputs": [],
   "source": [
    "def flatten_comprehension(matrix):\n",
    "    return [item for row in matrix for item in row]"
   ]
  },
  {
   "cell_type": "code",
   "execution_count": null,
   "id": "5cb15ae9",
   "metadata": {},
   "outputs": [],
   "source": []
  },
  {
   "cell_type": "code",
   "execution_count": 37,
   "id": "90b0c820",
   "metadata": {},
   "outputs": [],
   "source": [
    "dft_weights = flatten_comprehension(dft_weights)\n",
    "CGCNN_weights = flatten_comprehension(CGCNN_weights)\n",
    "e3nn_weights = flatten_comprehension(e3nn_weights)\n",
    "\n",
    "dft_diffs = flatten_comprehension(dft_diffs)\n",
    "CGCNN_diffs = flatten_comprehension(CGCNN_diffs)\n",
    "e3nn_diffs = flatten_comprehension(e3nn_diffs)\n",
    "\n",
    "dft_ensemble = np.asarray(dft_ensemble)\n",
    "dft_min = np.asarray(dft_min)\n",
    "dft_mean = np.asarray(dft_mean)\n",
    "dft_weights = np.asarray(dft_weights).reshape(-1)\n",
    "dft_diffs = np.asarray(dft_diffs).reshape(-1)\n",
    "\n",
    "CGCNN_ensemble = np.asarray(CGCNN_ensemble)\n",
    "CGCNN_min = np.asarray(CGCNN_min)\n",
    "CGCNN_mean = np.asarray(CGCNN_mean)\n",
    "CGCNN_weights = np.asarray(CGCNN_weights).reshape(-1)\n",
    "CGCNN_diffs = np.asarray(CGCNN_diffs).reshape(-1)\n",
    "\n",
    "\n",
    "e3nn_ensemble = np.asarray(e3nn_ensemble)\n",
    "e3nn_min = np.asarray(e3nn_min)\n",
    "e3nn_mean = np.asarray(e3nn_mean)\n",
    "e3nn_weights = np.asarray(e3nn_weights).reshape(-1)\n",
    "e3nn_diffs = np.asarray(e3nn_diffs).reshape(-1)\n",
    "\n"
   ]
  },
  {
   "cell_type": "code",
   "execution_count": null,
   "id": "1293df40",
   "metadata": {},
   "outputs": [],
   "source": []
  },
  {
   "cell_type": "code",
   "execution_count": 38,
   "id": "5108af52",
   "metadata": {},
   "outputs": [
    {
     "data": {
      "text/plain": [
       "0.028555505468250295"
      ]
     },
     "execution_count": 38,
     "metadata": {},
     "output_type": "execute_result"
    }
   ],
   "source": [
    "np.mean(np.abs(data_ehull_e3nn_unrelaxed_series.predicted_dft_e_hull-data_ehull_e3nn_unrelaxed_series.dft_e_hull))"
   ]
  },
  {
   "cell_type": "code",
   "execution_count": 39,
   "id": "ed878905",
   "metadata": {},
   "outputs": [
    {
     "data": {
      "text/plain": [
       "0.04366807349837776"
      ]
     },
     "execution_count": 39,
     "metadata": {},
     "output_type": "execute_result"
    }
   ],
   "source": [
    "np.mean(np.abs(data_ehull_CGCNN_unrelaxed_series.predicted_dft_e_hull-data_ehull_CGCNN_unrelaxed_series.dft_e_hull))"
   ]
  },
  {
   "cell_type": "code",
   "execution_count": 40,
   "id": "65aefec6",
   "metadata": {},
   "outputs": [
    {
     "data": {
      "text/plain": [
       "0.02020447007520278"
      ]
     },
     "execution_count": 40,
     "metadata": {},
     "output_type": "execute_result"
    }
   ],
   "source": [
    "np.mean(np.abs(dft_diffs-CGCNN_diffs))"
   ]
  },
  {
   "cell_type": "code",
   "execution_count": 41,
   "id": "f22c3477",
   "metadata": {},
   "outputs": [
    {
     "data": {
      "text/plain": [
       "0.017317508108806487"
      ]
     },
     "execution_count": 41,
     "metadata": {},
     "output_type": "execute_result"
    }
   ],
   "source": [
    "np.mean(np.abs(dft_diffs-e3nn_diffs))"
   ]
  },
  {
   "cell_type": "code",
   "execution_count": 42,
   "id": "a7afb66b",
   "metadata": {},
   "outputs": [
    {
     "data": {
      "text/plain": [
       "0.21276556104739278"
      ]
     },
     "execution_count": 42,
     "metadata": {},
     "output_type": "execute_result"
    }
   ],
   "source": [
    "np.mean(np.abs(data_O2P_e3nn_unrelaxed_series.predicted_Op_band_center-data_O2P_e3nn_unrelaxed_series.Op_band_center))"
   ]
  },
  {
   "cell_type": "code",
   "execution_count": 43,
   "id": "0066c861",
   "metadata": {},
   "outputs": [
    {
     "data": {
      "text/plain": [
       "0.1761272755566628"
      ]
     },
     "execution_count": 43,
     "metadata": {},
     "output_type": "execute_result"
    }
   ],
   "source": [
    "np.mean(np.abs(data_O2P_CGCNN_unrelaxed_series.predicted_Op_band_center-data_O2P_CGCNN_unrelaxed_series.Op_band_center))"
   ]
  },
  {
   "cell_type": "code",
   "execution_count": 44,
   "id": "4c3b02ee",
   "metadata": {},
   "outputs": [
    {
     "data": {
      "text/plain": [
       "0.046930531191681966"
      ]
     },
     "execution_count": 44,
     "metadata": {},
     "output_type": "execute_result"
    }
   ],
   "source": [
    "np.mean(np.abs(dft_min-dft_ensemble))"
   ]
  },
  {
   "cell_type": "code",
   "execution_count": 45,
   "id": "59b883cb",
   "metadata": {},
   "outputs": [
    {
     "data": {
      "text/plain": [
       "0.081290704979747"
      ]
     },
     "execution_count": 45,
     "metadata": {},
     "output_type": "execute_result"
    }
   ],
   "source": [
    "np.mean(np.abs(dft_mean-dft_ensemble))"
   ]
  },
  {
   "cell_type": "code",
   "execution_count": 46,
   "id": "c483dce8",
   "metadata": {},
   "outputs": [
    {
     "data": {
      "text/plain": [
       "0.11596709221117212"
      ]
     },
     "execution_count": 46,
     "metadata": {},
     "output_type": "execute_result"
    }
   ],
   "source": [
    "np.mean(np.abs(dft_min-dft_mean))"
   ]
  },
  {
   "cell_type": "code",
   "execution_count": 47,
   "id": "4deb4172",
   "metadata": {},
   "outputs": [
    {
     "data": {
      "text/plain": [
       "0.009718454540708485"
      ]
     },
     "execution_count": 47,
     "metadata": {},
     "output_type": "execute_result"
    }
   ],
   "source": [
    "np.mean(np.abs(CGCNN_min-CGCNN_ensemble))"
   ]
  },
  {
   "cell_type": "code",
   "execution_count": 48,
   "id": "a65ee969",
   "metadata": {},
   "outputs": [
    {
     "data": {
      "text/plain": [
       "0.004120436152188082"
      ]
     },
     "execution_count": 48,
     "metadata": {},
     "output_type": "execute_result"
    }
   ],
   "source": [
    "np.mean(np.abs(CGCNN_mean-CGCNN_ensemble))"
   ]
  },
  {
   "cell_type": "code",
   "execution_count": 49,
   "id": "925b79b1",
   "metadata": {},
   "outputs": [
    {
     "data": {
      "text/plain": [
       "0.012431762654427544"
      ]
     },
     "execution_count": 49,
     "metadata": {},
     "output_type": "execute_result"
    }
   ],
   "source": [
    "np.mean(np.abs(CGCNN_min-CGCNN_mean))"
   ]
  },
  {
   "cell_type": "code",
   "execution_count": 50,
   "id": "5bfbbf85",
   "metadata": {},
   "outputs": [
    {
     "data": {
      "text/plain": [
       "0.028660119104201673"
      ]
     },
     "execution_count": 50,
     "metadata": {},
     "output_type": "execute_result"
    }
   ],
   "source": [
    "np.mean(np.abs(e3nn_min-e3nn_ensemble))"
   ]
  },
  {
   "cell_type": "code",
   "execution_count": 51,
   "id": "85a32968",
   "metadata": {},
   "outputs": [
    {
     "data": {
      "text/plain": [
       "0.03712352212703544"
      ]
     },
     "execution_count": 51,
     "metadata": {},
     "output_type": "execute_result"
    }
   ],
   "source": [
    "np.mean(np.abs(e3nn_mean-e3nn_ensemble))"
   ]
  },
  {
   "cell_type": "code",
   "execution_count": 52,
   "id": "9585fd7a",
   "metadata": {},
   "outputs": [
    {
     "data": {
      "text/plain": [
       "0.06225279223956034"
      ]
     },
     "execution_count": 52,
     "metadata": {},
     "output_type": "execute_result"
    }
   ],
   "source": [
    "np.mean(np.abs(e3nn_min-e3nn_mean))"
   ]
  },
  {
   "cell_type": "code",
   "execution_count": 53,
   "id": "91abba02",
   "metadata": {},
   "outputs": [
    {
     "data": {
      "text/plain": [
       "0.15844127970527444"
      ]
     },
     "execution_count": 53,
     "metadata": {},
     "output_type": "execute_result"
    }
   ],
   "source": [
    "np.mean(np.abs(CGCNN_ensemble-dft_ensemble))"
   ]
  },
  {
   "cell_type": "code",
   "execution_count": 54,
   "id": "90d4b50b",
   "metadata": {},
   "outputs": [
    {
     "data": {
      "text/plain": [
       "0.22588134848209634"
      ]
     },
     "execution_count": 54,
     "metadata": {},
     "output_type": "execute_result"
    }
   ],
   "source": [
    "np.mean(np.abs(e3nn_ensemble-dft_ensemble))"
   ]
  },
  {
   "cell_type": "code",
   "execution_count": null,
   "id": "b1943caa",
   "metadata": {},
   "outputs": [],
   "source": []
  }
 ],
 "metadata": {
  "kernelspec": {
   "display_name": "Perovskite_ML_Environment",
   "language": "python",
   "name": "perovskite_ml_environment"
  },
  "language_info": {
   "codemirror_mode": {
    "name": "ipython",
    "version": 3
   },
   "file_extension": ".py",
   "mimetype": "text/x-python",
   "name": "python",
   "nbconvert_exporter": "python",
   "pygments_lexer": "ipython3",
   "version": "3.10.11"
  }
 },
 "nbformat": 4,
 "nbformat_minor": 5
}
