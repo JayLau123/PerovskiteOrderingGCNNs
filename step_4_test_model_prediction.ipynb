{
 "cells": [
  {
   "cell_type": "code",
   "execution_count": 1,
   "metadata": {},
   "outputs": [
    {
     "name": "stderr",
     "output_type": "stream",
     "text": [
      "/home/jypeng/miniconda3/envs/Perovskite_ML_Environment/lib/python3.10/site-packages/tqdm/auto.py:21: TqdmWarning: IProgress not found. Please update jupyter and ipywidgets. See https://ipywidgets.readthedocs.io/en/stable/user_install.html\n",
      "  from .autonotebook import tqdm as notebook_tqdm\n"
     ]
    }
   ],
   "source": [
    "from inference.test_model_prediction import *"
   ]
  },
  {
   "cell_type": "code",
   "execution_count": 2,
   "metadata": {
    "scrolled": true
   },
   "outputs": [
    {
     "name": "stdout",
     "output_type": "stream",
     "text": [
      "Loaded data\n",
      "Completed data processing\n"
     ]
    },
    {
     "name": "stderr",
     "output_type": "stream",
     "text": [
      "100%|██████████████████████████████████████████████████████| 6276/6276 [00:02<00:00, 2867.72it/s]\n",
      "100%|██████████████████████████████████████████████████████| 1261/1261 [00:00<00:00, 2898.56it/s]\n",
      "100%|████████████████████████████████████████████████████████| 6276/6276 [03:48<00:00, 27.43it/s]\n",
      "100%|██████████████████████████████████████████████████████| 6276/6276 [00:00<00:00, 8331.25it/s]\n",
      "100%|██████████████████████████████████████████████████████| 6276/6276 [00:00<00:00, 8574.84it/s]\n"
     ]
    },
    {
     "name": "stdout",
     "output_type": "stream",
     "text": [
      "Completed model prediction for test_set\n",
      "Loaded data\n",
      "Completed data processing\n"
     ]
    },
    {
     "name": "stderr",
     "output_type": "stream",
     "text": [
      "100%|██████████████████████████████████████████████████████| 6276/6276 [00:02<00:00, 2413.58it/s]\n",
      "100%|████████████████████████████████████████████████████████| 600/600 [00:00<00:00, 2937.13it/s]\n",
      "100%|████████████████████████████████████████████████████████| 6276/6276 [03:50<00:00, 27.19it/s]\n",
      "100%|██████████████████████████████████████████████████████| 6276/6276 [00:00<00:00, 8193.68it/s]\n",
      "100%|██████████████████████████████████████████████████████| 6276/6276 [00:00<00:00, 8084.02it/s]\n"
     ]
    },
    {
     "name": "stdout",
     "output_type": "stream",
     "text": [
      "Completed model prediction for holdout_set_B_sites\n",
      "Loaded data\n",
      "Completed data processing\n"
     ]
    },
    {
     "name": "stderr",
     "output_type": "stream",
     "text": [
      "100%|██████████████████████████████████████████████████████| 6276/6276 [00:02<00:00, 2546.78it/s]\n",
      "100%|████████████████████████████████████████████████████████| 863/863 [00:00<00:00, 2796.90it/s]\n",
      "100%|████████████████████████████████████████████████████████| 6276/6276 [04:06<00:00, 25.44it/s]\n",
      "100%|██████████████████████████████████████████████████████| 6276/6276 [00:00<00:00, 8696.07it/s]\n",
      "100%|██████████████████████████████████████████████████████| 6276/6276 [00:00<00:00, 7668.52it/s]\n"
     ]
    },
    {
     "name": "stdout",
     "output_type": "stream",
     "text": [
      "Completed model prediction for holdout_set_series\n"
     ]
    }
   ],
   "source": [
    "gpu_num=1\n",
    "target_prop=\"dft_e_hull\"\n",
    "\n",
    "model_params = {\n",
    "    \"model_type\": \"CGCNN\",\n",
    "    \"interpolation\": False,\n",
    "    \"struct_type\": \"unrelaxed\",\n",
    "}\n",
    "\n",
    "get_all_model_predictions(model_params, gpu_num, target_prop)"
   ]
  },
  {
   "cell_type": "code",
   "execution_count": 3,
   "metadata": {
    "scrolled": true
   },
   "outputs": [
    {
     "name": "stdout",
     "output_type": "stream",
     "text": [
      "Loaded data\n",
      "Completed data processing\n"
     ]
    },
    {
     "name": "stderr",
     "output_type": "stream",
     "text": [
      "100%|██████████████████████████████████████████████████████| 6276/6276 [00:02<00:00, 2191.55it/s]\n",
      "100%|██████████████████████████████████████████████████████| 1261/1261 [00:00<00:00, 2612.22it/s]\n",
      "100%|████████████████████████████████████████████████████████| 6276/6276 [04:01<00:00, 26.03it/s]\n",
      "100%|██████████████████████████████████████████████████████| 6276/6276 [00:00<00:00, 8486.16it/s]\n",
      "100%|██████████████████████████████████████████████████████| 6276/6276 [00:01<00:00, 5418.27it/s]\n"
     ]
    },
    {
     "name": "stdout",
     "output_type": "stream",
     "text": [
      "Completed model prediction for test_set\n",
      "Loaded data\n",
      "Completed data processing\n"
     ]
    },
    {
     "name": "stderr",
     "output_type": "stream",
     "text": [
      "100%|██████████████████████████████████████████████████████| 6276/6276 [00:02<00:00, 2451.28it/s]\n",
      "100%|████████████████████████████████████████████████████████| 600/600 [00:00<00:00, 2673.83it/s]\n",
      "100%|████████████████████████████████████████████████████████| 6276/6276 [03:18<00:00, 31.55it/s]\n",
      "100%|██████████████████████████████████████████████████████| 6276/6276 [00:00<00:00, 8900.67it/s]\n",
      "100%|██████████████████████████████████████████████████████| 6276/6276 [00:00<00:00, 8997.98it/s]\n"
     ]
    },
    {
     "name": "stdout",
     "output_type": "stream",
     "text": [
      "Completed model prediction for holdout_set_B_sites\n",
      "Loaded data\n",
      "Completed data processing\n"
     ]
    },
    {
     "name": "stderr",
     "output_type": "stream",
     "text": [
      "100%|██████████████████████████████████████████████████████| 6276/6276 [00:02<00:00, 2966.76it/s]\n",
      "100%|████████████████████████████████████████████████████████| 863/863 [00:00<00:00, 2985.07it/s]\n",
      "100%|████████████████████████████████████████████████████████| 6276/6276 [03:19<00:00, 31.54it/s]\n",
      "100%|██████████████████████████████████████████████████████| 6276/6276 [00:00<00:00, 9140.72it/s]\n",
      "100%|██████████████████████████████████████████████████████| 6276/6276 [00:00<00:00, 8543.09it/s]\n"
     ]
    },
    {
     "name": "stdout",
     "output_type": "stream",
     "text": [
      "Completed model prediction for holdout_set_series\n"
     ]
    }
   ],
   "source": [
    "gpu_num=1\n",
    "target_prop=\"dft_e_hull\"\n",
    "\n",
    "model_params = {\n",
    "    \"model_type\": \"CGCNN\",\n",
    "    \"interpolation\": False,\n",
    "    \"struct_type\": \"relaxed\",\n",
    "}\n",
    "\n",
    "get_all_model_predictions(model_params, gpu_num, target_prop)"
   ]
  },
  {
   "cell_type": "code",
   "execution_count": 4,
   "metadata": {
    "scrolled": true
   },
   "outputs": [
    {
     "name": "stdout",
     "output_type": "stream",
     "text": [
      "Loaded data\n",
      "Completed data processing\n"
     ]
    },
    {
     "name": "stderr",
     "output_type": "stream",
     "text": [
      "100%|██████████████████████████████████████████████████████| 6276/6276 [00:01<00:00, 3262.40it/s]\n",
      "100%|██████████████████████████████████████████████████████| 1261/1261 [00:00<00:00, 3315.56it/s]\n",
      "100%|████████████████████████████████████████████████████████| 6276/6276 [03:22<00:00, 31.02it/s]\n",
      "100%|██████████████████████████████████████████████████████| 6276/6276 [00:00<00:00, 9117.05it/s]\n",
      "100%|██████████████████████████████████████████████████████| 6276/6276 [00:00<00:00, 9109.89it/s]\n"
     ]
    },
    {
     "name": "stdout",
     "output_type": "stream",
     "text": [
      "Completed model prediction for test_set\n",
      "Loaded data\n",
      "Completed data processing\n"
     ]
    },
    {
     "name": "stderr",
     "output_type": "stream",
     "text": [
      "100%|██████████████████████████████████████████████████████| 6276/6276 [00:01<00:00, 3226.36it/s]\n",
      "100%|████████████████████████████████████████████████████████| 600/600 [00:00<00:00, 3263.76it/s]\n",
      "100%|████████████████████████████████████████████████████████| 6276/6276 [03:29<00:00, 29.90it/s]\n",
      "100%|██████████████████████████████████████████████████████| 6276/6276 [00:00<00:00, 7785.98it/s]\n",
      "100%|██████████████████████████████████████████████████████| 6276/6276 [00:00<00:00, 8202.57it/s]\n"
     ]
    },
    {
     "name": "stdout",
     "output_type": "stream",
     "text": [
      "Completed model prediction for holdout_set_B_sites\n",
      "Loaded data\n",
      "Completed data processing\n"
     ]
    },
    {
     "name": "stderr",
     "output_type": "stream",
     "text": [
      "100%|██████████████████████████████████████████████████████| 6276/6276 [00:01<00:00, 3221.29it/s]\n",
      "100%|████████████████████████████████████████████████████████| 863/863 [00:00<00:00, 3279.31it/s]\n",
      "100%|████████████████████████████████████████████████████████| 6276/6276 [03:29<00:00, 29.99it/s]\n",
      "100%|██████████████████████████████████████████████████████| 6276/6276 [00:00<00:00, 8296.11it/s]\n",
      "100%|██████████████████████████████████████████████████████| 6276/6276 [00:00<00:00, 8252.70it/s]\n"
     ]
    },
    {
     "name": "stdout",
     "output_type": "stream",
     "text": [
      "Completed model prediction for holdout_set_series\n"
     ]
    }
   ],
   "source": [
    "gpu_num=1\n",
    "target_prop=\"dft_e_hull\"\n",
    "\n",
    "model_params = {\n",
    "    \"model_type\": \"CGCNN\",\n",
    "    \"interpolation\": False,\n",
    "    \"struct_type\": \"M3Gnet_relaxed\",\n",
    "}\n",
    "\n",
    "get_all_model_predictions(model_params, gpu_num, target_prop)"
   ]
  },
  {
   "cell_type": "code",
   "execution_count": 5,
   "metadata": {
    "scrolled": true
   },
   "outputs": [
    {
     "name": "stdout",
     "output_type": "stream",
     "text": [
      "Loaded data\n",
      "Completed data processing\n"
     ]
    },
    {
     "name": "stderr",
     "output_type": "stream",
     "text": [
      "100%|██████████████████████████████████████████████████████| 6276/6276 [00:01<00:00, 3154.21it/s]\n",
      "100%|██████████████████████████████████████████████████████| 1261/1261 [00:00<00:00, 3228.89it/s]\n",
      "100%|████████████████████████████████████████████████████████| 6276/6276 [03:24<00:00, 30.74it/s]\n",
      "100%|█████████████████████████████████████████████████████| 6276/6276 [00:00<00:00, 10086.06it/s]\n",
      "100%|█████████████████████████████████████████████████████| 6276/6276 [00:00<00:00, 10336.20it/s]\n"
     ]
    },
    {
     "name": "stdout",
     "output_type": "stream",
     "text": [
      "Completed model prediction for test_set\n",
      "Loaded data\n",
      "Completed data processing\n"
     ]
    },
    {
     "name": "stderr",
     "output_type": "stream",
     "text": [
      "100%|██████████████████████████████████████████████████████| 6276/6276 [00:01<00:00, 3931.62it/s]\n",
      "100%|████████████████████████████████████████████████████████| 600/600 [00:00<00:00, 3924.94it/s]\n",
      "100%|████████████████████████████████████████████████████████| 6276/6276 [02:55<00:00, 35.77it/s]\n",
      "100%|█████████████████████████████████████████████████████| 6276/6276 [00:00<00:00, 10297.60it/s]\n",
      "100%|██████████████████████████████████████████████████████| 6276/6276 [00:00<00:00, 9950.93it/s]\n"
     ]
    },
    {
     "name": "stdout",
     "output_type": "stream",
     "text": [
      "Completed model prediction for holdout_set_B_sites\n",
      "Loaded data\n",
      "Completed data processing\n"
     ]
    },
    {
     "name": "stderr",
     "output_type": "stream",
     "text": [
      "100%|██████████████████████████████████████████████████████| 6276/6276 [00:01<00:00, 3822.36it/s]\n",
      "100%|████████████████████████████████████████████████████████| 863/863 [00:00<00:00, 4005.29it/s]\n",
      "100%|████████████████████████████████████████████████████████| 6276/6276 [02:43<00:00, 38.34it/s]\n",
      "100%|█████████████████████████████████████████████████████| 6276/6276 [00:00<00:00, 10254.47it/s]\n",
      "100%|█████████████████████████████████████████████████████| 6276/6276 [00:00<00:00, 10045.05it/s]\n"
     ]
    },
    {
     "name": "stdout",
     "output_type": "stream",
     "text": [
      "Completed model prediction for holdout_set_series\n"
     ]
    }
   ],
   "source": [
    "gpu_num=1\n",
    "target_prop=\"Op_band_center\"\n",
    "\n",
    "model_params = {\n",
    "    \"model_type\": \"CGCNN\",\n",
    "    \"interpolation\": False,\n",
    "    \"struct_type\": \"unrelaxed\",\n",
    "}\n",
    "\n",
    "get_all_model_predictions(model_params, gpu_num, target_prop)"
   ]
  },
  {
   "cell_type": "code",
   "execution_count": 6,
   "metadata": {
    "scrolled": true
   },
   "outputs": [
    {
     "name": "stdout",
     "output_type": "stream",
     "text": [
      "Loaded data\n",
      "Completed data processing\n"
     ]
    },
    {
     "name": "stderr",
     "output_type": "stream",
     "text": [
      "100%|██████████████████████████████████████████████████████| 6276/6276 [00:01<00:00, 3516.90it/s]\n",
      "100%|██████████████████████████████████████████████████████| 1261/1261 [00:00<00:00, 3204.47it/s]\n",
      "100%|████████████████████████████████████████████████████████| 6276/6276 [02:49<00:00, 37.04it/s]\n",
      "100%|██████████████████████████████████████████████████████| 6276/6276 [00:00<00:00, 9931.10it/s]\n",
      "100%|██████████████████████████████████████████████████████| 6276/6276 [00:00<00:00, 9386.30it/s]\n"
     ]
    },
    {
     "name": "stdout",
     "output_type": "stream",
     "text": [
      "Completed model prediction for test_set\n",
      "Loaded data\n",
      "Completed data processing\n"
     ]
    },
    {
     "name": "stderr",
     "output_type": "stream",
     "text": [
      "100%|██████████████████████████████████████████████████████| 6276/6276 [00:01<00:00, 3482.78it/s]\n",
      "100%|████████████████████████████████████████████████████████| 600/600 [00:00<00:00, 3505.97it/s]\n",
      "100%|████████████████████████████████████████████████████████| 6276/6276 [02:49<00:00, 37.06it/s]\n",
      "100%|██████████████████████████████████████████████████████| 6276/6276 [00:00<00:00, 9782.01it/s]\n",
      "100%|██████████████████████████████████████████████████████| 6276/6276 [00:00<00:00, 9985.57it/s]\n"
     ]
    },
    {
     "name": "stdout",
     "output_type": "stream",
     "text": [
      "Completed model prediction for holdout_set_B_sites\n",
      "Loaded data\n",
      "Completed data processing\n"
     ]
    },
    {
     "name": "stderr",
     "output_type": "stream",
     "text": [
      "100%|██████████████████████████████████████████████████████| 6276/6276 [00:01<00:00, 3489.88it/s]\n",
      "100%|████████████████████████████████████████████████████████| 863/863 [00:00<00:00, 3545.65it/s]\n",
      "100%|████████████████████████████████████████████████████████| 6276/6276 [02:54<00:00, 36.03it/s]\n",
      "100%|█████████████████████████████████████████████████████| 6276/6276 [00:00<00:00, 10129.66it/s]\n",
      "100%|█████████████████████████████████████████████████████| 6276/6276 [00:00<00:00, 10566.04it/s]\n"
     ]
    },
    {
     "name": "stdout",
     "output_type": "stream",
     "text": [
      "Completed model prediction for holdout_set_series\n"
     ]
    }
   ],
   "source": [
    "gpu_num=1\n",
    "target_prop=\"Op_band_center\"\n",
    "\n",
    "model_params = {\n",
    "    \"model_type\": \"CGCNN\",\n",
    "    \"interpolation\": False,\n",
    "    \"struct_type\": \"relaxed\",\n",
    "}\n",
    "\n",
    "get_all_model_predictions(model_params, gpu_num, target_prop)"
   ]
  },
  {
   "cell_type": "code",
   "execution_count": 7,
   "metadata": {
    "scrolled": true
   },
   "outputs": [
    {
     "name": "stdout",
     "output_type": "stream",
     "text": [
      "Loaded data\n",
      "Completed data processing\n"
     ]
    },
    {
     "name": "stderr",
     "output_type": "stream",
     "text": [
      "100%|██████████████████████████████████████████████████████| 6276/6276 [00:01<00:00, 4051.67it/s]\n",
      "100%|██████████████████████████████████████████████████████| 1261/1261 [00:00<00:00, 4090.85it/s]\n",
      "100%|████████████████████████████████████████████████████████| 6276/6276 [02:55<00:00, 35.79it/s]\n",
      "100%|█████████████████████████████████████████████████████| 6276/6276 [00:00<00:00, 10419.57it/s]\n",
      "100%|█████████████████████████████████████████████████████| 6276/6276 [00:00<00:00, 10462.70it/s]\n"
     ]
    },
    {
     "name": "stdout",
     "output_type": "stream",
     "text": [
      "Completed model prediction for test_set\n",
      "Loaded data\n",
      "Completed data processing\n"
     ]
    },
    {
     "name": "stderr",
     "output_type": "stream",
     "text": [
      "100%|██████████████████████████████████████████████████████| 6276/6276 [00:01<00:00, 4061.64it/s]\n",
      "100%|████████████████████████████████████████████████████████| 600/600 [00:00<00:00, 4010.21it/s]\n",
      "100%|████████████████████████████████████████████████████████| 6276/6276 [02:36<00:00, 39.99it/s]\n",
      "100%|█████████████████████████████████████████████████████| 6276/6276 [00:00<00:00, 10290.66it/s]\n",
      "100%|█████████████████████████████████████████████████████| 6276/6276 [00:00<00:00, 10451.23it/s]\n"
     ]
    },
    {
     "name": "stdout",
     "output_type": "stream",
     "text": [
      "Completed model prediction for holdout_set_B_sites\n",
      "Loaded data\n",
      "Completed data processing\n"
     ]
    },
    {
     "name": "stderr",
     "output_type": "stream",
     "text": [
      "100%|██████████████████████████████████████████████████████| 6276/6276 [00:01<00:00, 4011.26it/s]\n",
      "100%|████████████████████████████████████████████████████████| 863/863 [00:00<00:00, 4049.80it/s]\n",
      "100%|████████████████████████████████████████████████████████| 6276/6276 [02:40<00:00, 39.19it/s]\n",
      "100%|█████████████████████████████████████████████████████| 6276/6276 [00:00<00:00, 10546.73it/s]\n",
      "100%|█████████████████████████████████████████████████████| 6276/6276 [00:00<00:00, 10079.65it/s]\n"
     ]
    },
    {
     "name": "stdout",
     "output_type": "stream",
     "text": [
      "Completed model prediction for holdout_set_series\n"
     ]
    }
   ],
   "source": [
    "gpu_num=1\n",
    "target_prop=\"Op_band_center\"\n",
    "\n",
    "model_params = {\n",
    "    \"model_type\": \"CGCNN\",\n",
    "    \"interpolation\": False,\n",
    "    \"struct_type\": \"M3Gnet_relaxed\",\n",
    "}\n",
    "\n",
    "get_all_model_predictions(model_params, gpu_num, target_prop)"
   ]
  },
  {
   "cell_type": "code",
   "execution_count": 8,
   "metadata": {
    "scrolled": true
   },
   "outputs": [
    {
     "name": "stdout",
     "output_type": "stream",
     "text": [
      "Loaded data\n",
      "Completed data processing\n"
     ]
    },
    {
     "name": "stderr",
     "output_type": "stream",
     "text": [
      "100%|██████████████████████████████████████████████████████| 6276/6276 [00:01<00:00, 4096.44it/s]\n",
      "100%|████████████████████████████████████████████████████████| 6276/6276 [03:10<00:00, 32.95it/s]\n",
      "100%|█████████████████████████████████████████████████████| 6276/6276 [00:00<00:00, 11329.26it/s]\n",
      "100%|██████████████████████████████████████████████████████| 1261/1261 [00:00<00:00, 4015.84it/s]\n",
      "100%|████████████████████████████████████████████████████████| 1261/1261 [00:38<00:00, 33.09it/s]\n",
      "100%|█████████████████████████████████████████████████████| 1261/1261 [00:00<00:00, 11711.73it/s]\n",
      "100%|████████████████████████████████████████████████████████| 1261/1261 [00:13<00:00, 94.99it/s]\n",
      "100%|███████████████████████████████████████████████████████| 1261/1261 [00:10<00:00, 122.98it/s]\n",
      "100%|███████████████████████████████████████████████████████| 1261/1261 [00:05<00:00, 248.84it/s]\n"
     ]
    },
    {
     "name": "stdout",
     "output_type": "stream",
     "text": [
      "Completed model prediction for test_set\n",
      "Loaded data\n",
      "Completed data processing\n"
     ]
    },
    {
     "name": "stderr",
     "output_type": "stream",
     "text": [
      "100%|██████████████████████████████████████████████████████| 6276/6276 [00:01<00:00, 4048.20it/s]\n",
      "100%|████████████████████████████████████████████████████████| 6276/6276 [03:22<00:00, 31.02it/s]\n",
      "100%|█████████████████████████████████████████████████████| 6276/6276 [00:00<00:00, 11226.24it/s]\n",
      "100%|████████████████████████████████████████████████████████| 600/600 [00:00<00:00, 3680.42it/s]\n",
      "100%|██████████████████████████████████████████████████████████| 600/600 [00:19<00:00, 31.41it/s]\n",
      "100%|███████████████████████████████████████████████████████| 600/600 [00:00<00:00, 11356.73it/s]\n",
      "100%|██████████████████████████████████████████████████████████| 600/600 [00:06<00:00, 87.97it/s]\n",
      "100%|██████████████████████████████████████████████████████████| 600/600 [00:06<00:00, 99.90it/s]\n",
      "100%|█████████████████████████████████████████████████████████| 600/600 [00:02<00:00, 214.28it/s]\n"
     ]
    },
    {
     "name": "stdout",
     "output_type": "stream",
     "text": [
      "Completed model prediction for holdout_set_B_sites\n",
      "Loaded data\n",
      "Completed data processing\n"
     ]
    },
    {
     "name": "stderr",
     "output_type": "stream",
     "text": [
      "100%|██████████████████████████████████████████████████████| 6276/6276 [00:01<00:00, 3908.60it/s]\n",
      "100%|████████████████████████████████████████████████████████| 6276/6276 [03:11<00:00, 32.77it/s]\n",
      "100%|█████████████████████████████████████████████████████| 6276/6276 [00:00<00:00, 12171.71it/s]\n",
      "100%|████████████████████████████████████████████████████████| 863/863 [00:00<00:00, 4037.07it/s]\n",
      "100%|██████████████████████████████████████████████████████████| 863/863 [00:26<00:00, 33.15it/s]\n",
      "100%|███████████████████████████████████████████████████████| 863/863 [00:00<00:00, 12060.55it/s]\n",
      "100%|██████████████████████████████████████████████████████████| 863/863 [00:08<00:00, 96.35it/s]\n",
      "100%|█████████████████████████████████████████████████████████| 863/863 [00:06<00:00, 126.71it/s]\n",
      "100%|█████████████████████████████████████████████████████████| 863/863 [00:03<00:00, 234.95it/s]\n"
     ]
    },
    {
     "name": "stdout",
     "output_type": "stream",
     "text": [
      "Completed model prediction for holdout_set_series\n"
     ]
    }
   ],
   "source": [
    "gpu_num=1\n",
    "target_prop=\"dft_e_hull\"\n",
    "\n",
    "model_params = {\n",
    "    \"model_type\": \"Painn\",\n",
    "    \"interpolation\": False,\n",
    "    \"struct_type\": \"unrelaxed\",\n",
    "}\n",
    "\n",
    "get_all_model_predictions(model_params, gpu_num, target_prop)"
   ]
  },
  {
   "cell_type": "code",
   "execution_count": 9,
   "metadata": {
    "scrolled": true
   },
   "outputs": [
    {
     "name": "stdout",
     "output_type": "stream",
     "text": [
      "Loaded data\n",
      "Completed data processing\n"
     ]
    },
    {
     "name": "stderr",
     "output_type": "stream",
     "text": [
      "100%|██████████████████████████████████████████████████████| 6276/6276 [00:01<00:00, 4041.76it/s]\n",
      "100%|████████████████████████████████████████████████████████| 6276/6276 [03:10<00:00, 32.94it/s]\n",
      "100%|█████████████████████████████████████████████████████| 6276/6276 [00:00<00:00, 12073.45it/s]\n",
      "100%|██████████████████████████████████████████████████████| 1261/1261 [00:00<00:00, 4011.54it/s]\n",
      "100%|████████████████████████████████████████████████████████| 1261/1261 [00:38<00:00, 32.85it/s]\n",
      "100%|█████████████████████████████████████████████████████| 1261/1261 [00:00<00:00, 11743.14it/s]\n",
      "100%|███████████████████████████████████████████████████████| 1261/1261 [00:05<00:00, 244.24it/s]\n",
      "100%|███████████████████████████████████████████████████████| 1261/1261 [00:07<00:00, 169.73it/s]\n",
      "100%|███████████████████████████████████████████████████████| 1261/1261 [00:05<00:00, 245.66it/s]\n"
     ]
    },
    {
     "name": "stdout",
     "output_type": "stream",
     "text": [
      "Completed model prediction for test_set\n",
      "Loaded data\n",
      "Completed data processing\n"
     ]
    },
    {
     "name": "stderr",
     "output_type": "stream",
     "text": [
      "100%|██████████████████████████████████████████████████████| 6276/6276 [00:01<00:00, 4001.29it/s]\n",
      "100%|████████████████████████████████████████████████████████| 6276/6276 [03:11<00:00, 32.81it/s]\n",
      "100%|█████████████████████████████████████████████████████| 6276/6276 [00:00<00:00, 12076.91it/s]\n",
      "100%|████████████████████████████████████████████████████████| 600/600 [00:00<00:00, 3987.87it/s]\n",
      "100%|██████████████████████████████████████████████████████████| 600/600 [00:18<00:00, 33.07it/s]\n",
      "100%|███████████████████████████████████████████████████████| 600/600 [00:00<00:00, 12010.72it/s]\n",
      "100%|█████████████████████████████████████████████████████████| 600/600 [00:02<00:00, 244.80it/s]\n",
      "100%|█████████████████████████████████████████████████████████| 600/600 [00:03<00:00, 171.15it/s]\n",
      "100%|█████████████████████████████████████████████████████████| 600/600 [00:02<00:00, 256.63it/s]\n"
     ]
    },
    {
     "name": "stdout",
     "output_type": "stream",
     "text": [
      "Completed model prediction for holdout_set_B_sites\n",
      "Loaded data\n",
      "Completed data processing\n"
     ]
    },
    {
     "name": "stderr",
     "output_type": "stream",
     "text": [
      "100%|██████████████████████████████████████████████████████| 6276/6276 [00:01<00:00, 4043.39it/s]\n",
      "100%|████████████████████████████████████████████████████████| 6276/6276 [03:11<00:00, 32.77it/s]\n",
      "100%|█████████████████████████████████████████████████████| 6276/6276 [00:00<00:00, 11828.27it/s]\n",
      "100%|████████████████████████████████████████████████████████| 863/863 [00:00<00:00, 3948.16it/s]\n",
      "100%|██████████████████████████████████████████████████████████| 863/863 [00:26<00:00, 33.06it/s]\n",
      "100%|███████████████████████████████████████████████████████| 863/863 [00:00<00:00, 11978.93it/s]\n",
      "100%|█████████████████████████████████████████████████████████| 863/863 [00:03<00:00, 246.82it/s]\n",
      "100%|█████████████████████████████████████████████████████████| 863/863 [00:05<00:00, 171.76it/s]\n",
      "100%|█████████████████████████████████████████████████████████| 863/863 [00:03<00:00, 230.22it/s]\n"
     ]
    },
    {
     "name": "stdout",
     "output_type": "stream",
     "text": [
      "Completed model prediction for holdout_set_series\n"
     ]
    }
   ],
   "source": [
    "gpu_num=1\n",
    "target_prop=\"Op_band_center\"\n",
    "\n",
    "model_params = {\n",
    "    \"model_type\": \"Painn\",\n",
    "    \"interpolation\": False,\n",
    "    \"struct_type\": \"unrelaxed\",\n",
    "}\n",
    "\n",
    "get_all_model_predictions(model_params, gpu_num, target_prop)"
   ]
  },
  {
   "cell_type": "code",
   "execution_count": 10,
   "metadata": {
    "scrolled": true
   },
   "outputs": [
    {
     "name": "stdout",
     "output_type": "stream",
     "text": [
      "Loaded data\n",
      "Completed data processing\n"
     ]
    },
    {
     "name": "stderr",
     "output_type": "stream",
     "text": [
      "100%|██████████████████████████████████████████████████████| 6276/6276 [00:01<00:00, 4021.74it/s]\n",
      "100%|████████████████████████████████████████████████████████| 6276/6276 [03:22<00:00, 30.94it/s]\n",
      "100%|██████████████████████████████████████████████████████| 1261/1261 [00:00<00:00, 3935.77it/s]\n",
      "100%|████████████████████████████████████████████████████████| 1261/1261 [00:40<00:00, 31.45it/s]\n",
      "/home/jypeng/miniconda3/envs/Perovskite_ML_Environment/lib/python3.10/site-packages/torch/jit/_check.py:181: UserWarning: The TorchScript type system doesn't support instance-level annotations on empty non-base types in `__init__`. Instead, either 1) use a type annotation in the class body, or 2) wrap the type in `torch.jit.Attribute`.\n",
      "  warnings.warn(\"The TorchScript type system doesn't support \"\n",
      "/home/jypeng/miniconda3/envs/Perovskite_ML_Environment/lib/python3.10/site-packages/torch/jit/_check.py:181: UserWarning: The TorchScript type system doesn't support instance-level annotations on empty non-base types in `__init__`. Instead, either 1) use a type annotation in the class body, or 2) wrap the type in `torch.jit.Attribute`.\n",
      "  warnings.warn(\"The TorchScript type system doesn't support \"\n",
      "/home/jypeng/miniconda3/envs/Perovskite_ML_Environment/lib/python3.10/site-packages/torch/jit/_check.py:181: UserWarning: The TorchScript type system doesn't support instance-level annotations on empty non-base types in `__init__`. Instead, either 1) use a type annotation in the class body, or 2) wrap the type in `torch.jit.Attribute`.\n",
      "  warnings.warn(\"The TorchScript type system doesn't support \"\n"
     ]
    },
    {
     "name": "stdout",
     "output_type": "stream",
     "text": [
      "Completed model prediction for test_set\n",
      "Loaded data\n",
      "Completed data processing\n"
     ]
    },
    {
     "name": "stderr",
     "output_type": "stream",
     "text": [
      "100%|██████████████████████████████████████████████████████| 6276/6276 [00:01<00:00, 4061.43it/s]\n",
      "100%|████████████████████████████████████████████████████████| 6276/6276 [03:13<00:00, 32.46it/s]\n",
      "100%|████████████████████████████████████████████████████████| 600/600 [00:00<00:00, 4014.76it/s]\n",
      "100%|██████████████████████████████████████████████████████████| 600/600 [00:18<00:00, 32.75it/s]\n",
      "/home/jypeng/miniconda3/envs/Perovskite_ML_Environment/lib/python3.10/site-packages/torch/jit/_check.py:181: UserWarning: The TorchScript type system doesn't support instance-level annotations on empty non-base types in `__init__`. Instead, either 1) use a type annotation in the class body, or 2) wrap the type in `torch.jit.Attribute`.\n",
      "  warnings.warn(\"The TorchScript type system doesn't support \"\n",
      "/home/jypeng/miniconda3/envs/Perovskite_ML_Environment/lib/python3.10/site-packages/torch/jit/_check.py:181: UserWarning: The TorchScript type system doesn't support instance-level annotations on empty non-base types in `__init__`. Instead, either 1) use a type annotation in the class body, or 2) wrap the type in `torch.jit.Attribute`.\n",
      "  warnings.warn(\"The TorchScript type system doesn't support \"\n",
      "/home/jypeng/miniconda3/envs/Perovskite_ML_Environment/lib/python3.10/site-packages/torch/jit/_check.py:181: UserWarning: The TorchScript type system doesn't support instance-level annotations on empty non-base types in `__init__`. Instead, either 1) use a type annotation in the class body, or 2) wrap the type in `torch.jit.Attribute`.\n",
      "  warnings.warn(\"The TorchScript type system doesn't support \"\n"
     ]
    },
    {
     "name": "stdout",
     "output_type": "stream",
     "text": [
      "Completed model prediction for holdout_set_B_sites\n",
      "Loaded data\n",
      "Completed data processing\n"
     ]
    },
    {
     "name": "stderr",
     "output_type": "stream",
     "text": [
      "100%|██████████████████████████████████████████████████████| 6276/6276 [00:01<00:00, 4006.40it/s]\n",
      "100%|████████████████████████████████████████████████████████| 6276/6276 [03:15<00:00, 32.04it/s]\n",
      "100%|████████████████████████████████████████████████████████| 863/863 [00:00<00:00, 3938.34it/s]\n",
      "100%|██████████████████████████████████████████████████████████| 863/863 [00:26<00:00, 32.12it/s]\n",
      "/home/jypeng/miniconda3/envs/Perovskite_ML_Environment/lib/python3.10/site-packages/torch/jit/_check.py:181: UserWarning: The TorchScript type system doesn't support instance-level annotations on empty non-base types in `__init__`. Instead, either 1) use a type annotation in the class body, or 2) wrap the type in `torch.jit.Attribute`.\n",
      "  warnings.warn(\"The TorchScript type system doesn't support \"\n",
      "/home/jypeng/miniconda3/envs/Perovskite_ML_Environment/lib/python3.10/site-packages/torch/jit/_check.py:181: UserWarning: The TorchScript type system doesn't support instance-level annotations on empty non-base types in `__init__`. Instead, either 1) use a type annotation in the class body, or 2) wrap the type in `torch.jit.Attribute`.\n",
      "  warnings.warn(\"The TorchScript type system doesn't support \"\n",
      "/home/jypeng/miniconda3/envs/Perovskite_ML_Environment/lib/python3.10/site-packages/torch/jit/_check.py:181: UserWarning: The TorchScript type system doesn't support instance-level annotations on empty non-base types in `__init__`. Instead, either 1) use a type annotation in the class body, or 2) wrap the type in `torch.jit.Attribute`.\n",
      "  warnings.warn(\"The TorchScript type system doesn't support \"\n"
     ]
    },
    {
     "name": "stdout",
     "output_type": "stream",
     "text": [
      "Completed model prediction for holdout_set_series\n"
     ]
    }
   ],
   "source": [
    "gpu_num=1\n",
    "target_prop=\"dft_e_hull\"\n",
    "\n",
    "model_params = {\n",
    "    \"model_type\": \"e3nn\",\n",
    "    \"interpolation\": False,\n",
    "    \"struct_type\": \"unrelaxed\",\n",
    "}\n",
    "\n",
    "get_all_model_predictions(model_params, gpu_num, target_prop)"
   ]
  },
  {
   "cell_type": "code",
   "execution_count": 11,
   "metadata": {
    "scrolled": true
   },
   "outputs": [
    {
     "name": "stdout",
     "output_type": "stream",
     "text": [
      "Loaded data\n",
      "Completed data processing\n"
     ]
    },
    {
     "name": "stderr",
     "output_type": "stream",
     "text": [
      "100%|██████████████████████████████████████████████████████| 6276/6276 [00:01<00:00, 3536.39it/s]\n",
      "100%|████████████████████████████████████████████████████████| 6276/6276 [03:07<00:00, 33.48it/s]\n",
      "100%|██████████████████████████████████████████████████████| 1261/1261 [00:00<00:00, 3525.75it/s]\n",
      "100%|████████████████████████████████████████████████████████| 1261/1261 [00:38<00:00, 32.58it/s]\n",
      "/home/jypeng/miniconda3/envs/Perovskite_ML_Environment/lib/python3.10/site-packages/torch/jit/_check.py:181: UserWarning: The TorchScript type system doesn't support instance-level annotations on empty non-base types in `__init__`. Instead, either 1) use a type annotation in the class body, or 2) wrap the type in `torch.jit.Attribute`.\n",
      "  warnings.warn(\"The TorchScript type system doesn't support \"\n",
      "/home/jypeng/miniconda3/envs/Perovskite_ML_Environment/lib/python3.10/site-packages/torch/jit/_check.py:181: UserWarning: The TorchScript type system doesn't support instance-level annotations on empty non-base types in `__init__`. Instead, either 1) use a type annotation in the class body, or 2) wrap the type in `torch.jit.Attribute`.\n",
      "  warnings.warn(\"The TorchScript type system doesn't support \"\n",
      "/home/jypeng/miniconda3/envs/Perovskite_ML_Environment/lib/python3.10/site-packages/torch/jit/_check.py:181: UserWarning: The TorchScript type system doesn't support instance-level annotations on empty non-base types in `__init__`. Instead, either 1) use a type annotation in the class body, or 2) wrap the type in `torch.jit.Attribute`.\n",
      "  warnings.warn(\"The TorchScript type system doesn't support \"\n"
     ]
    },
    {
     "name": "stdout",
     "output_type": "stream",
     "text": [
      "Completed model prediction for test_set\n",
      "Loaded data\n",
      "Completed data processing\n"
     ]
    },
    {
     "name": "stderr",
     "output_type": "stream",
     "text": [
      "100%|██████████████████████████████████████████████████████| 6276/6276 [00:01<00:00, 3341.84it/s]\n",
      "100%|████████████████████████████████████████████████████████| 6276/6276 [03:18<00:00, 31.69it/s]\n",
      "100%|████████████████████████████████████████████████████████| 600/600 [00:00<00:00, 3483.39it/s]\n",
      "100%|██████████████████████████████████████████████████████████| 600/600 [00:19<00:00, 31.17it/s]\n",
      "/home/jypeng/miniconda3/envs/Perovskite_ML_Environment/lib/python3.10/site-packages/torch/jit/_check.py:181: UserWarning: The TorchScript type system doesn't support instance-level annotations on empty non-base types in `__init__`. Instead, either 1) use a type annotation in the class body, or 2) wrap the type in `torch.jit.Attribute`.\n",
      "  warnings.warn(\"The TorchScript type system doesn't support \"\n",
      "/home/jypeng/miniconda3/envs/Perovskite_ML_Environment/lib/python3.10/site-packages/torch/jit/_check.py:181: UserWarning: The TorchScript type system doesn't support instance-level annotations on empty non-base types in `__init__`. Instead, either 1) use a type annotation in the class body, or 2) wrap the type in `torch.jit.Attribute`.\n",
      "  warnings.warn(\"The TorchScript type system doesn't support \"\n",
      "/home/jypeng/miniconda3/envs/Perovskite_ML_Environment/lib/python3.10/site-packages/torch/jit/_check.py:181: UserWarning: The TorchScript type system doesn't support instance-level annotations on empty non-base types in `__init__`. Instead, either 1) use a type annotation in the class body, or 2) wrap the type in `torch.jit.Attribute`.\n",
      "  warnings.warn(\"The TorchScript type system doesn't support \"\n"
     ]
    },
    {
     "name": "stdout",
     "output_type": "stream",
     "text": [
      "Completed model prediction for holdout_set_B_sites\n",
      "Loaded data\n",
      "Completed data processing\n"
     ]
    },
    {
     "name": "stderr",
     "output_type": "stream",
     "text": [
      "100%|██████████████████████████████████████████████████████| 6276/6276 [00:01<00:00, 3478.80it/s]\n",
      "100%|████████████████████████████████████████████████████████| 6276/6276 [03:08<00:00, 33.28it/s]\n",
      "100%|████████████████████████████████████████████████████████| 863/863 [00:00<00:00, 3495.89it/s]\n",
      "100%|██████████████████████████████████████████████████████████| 863/863 [00:26<00:00, 32.64it/s]\n",
      "/home/jypeng/miniconda3/envs/Perovskite_ML_Environment/lib/python3.10/site-packages/torch/jit/_check.py:181: UserWarning: The TorchScript type system doesn't support instance-level annotations on empty non-base types in `__init__`. Instead, either 1) use a type annotation in the class body, or 2) wrap the type in `torch.jit.Attribute`.\n",
      "  warnings.warn(\"The TorchScript type system doesn't support \"\n",
      "/home/jypeng/miniconda3/envs/Perovskite_ML_Environment/lib/python3.10/site-packages/torch/jit/_check.py:181: UserWarning: The TorchScript type system doesn't support instance-level annotations on empty non-base types in `__init__`. Instead, either 1) use a type annotation in the class body, or 2) wrap the type in `torch.jit.Attribute`.\n",
      "  warnings.warn(\"The TorchScript type system doesn't support \"\n",
      "/home/jypeng/miniconda3/envs/Perovskite_ML_Environment/lib/python3.10/site-packages/torch/jit/_check.py:181: UserWarning: The TorchScript type system doesn't support instance-level annotations on empty non-base types in `__init__`. Instead, either 1) use a type annotation in the class body, or 2) wrap the type in `torch.jit.Attribute`.\n",
      "  warnings.warn(\"The TorchScript type system doesn't support \"\n"
     ]
    },
    {
     "name": "stdout",
     "output_type": "stream",
     "text": [
      "Completed model prediction for holdout_set_series\n"
     ]
    }
   ],
   "source": [
    "gpu_num=1\n",
    "target_prop=\"dft_e_hull\"\n",
    "\n",
    "model_params = {\n",
    "    \"model_type\": \"e3nn\",\n",
    "    \"interpolation\": False,\n",
    "    \"struct_type\": \"relaxed\",\n",
    "}\n",
    "\n",
    "get_all_model_predictions(model_params, gpu_num, target_prop)"
   ]
  },
  {
   "cell_type": "code",
   "execution_count": 12,
   "metadata": {
    "scrolled": true
   },
   "outputs": [
    {
     "name": "stdout",
     "output_type": "stream",
     "text": [
      "Loaded data\n",
      "Completed data processing\n"
     ]
    },
    {
     "name": "stderr",
     "output_type": "stream",
     "text": [
      "100%|██████████████████████████████████████████████████████| 6276/6276 [00:01<00:00, 3987.48it/s]\n",
      "100%|████████████████████████████████████████████████████████| 6276/6276 [03:09<00:00, 33.12it/s]\n",
      "100%|██████████████████████████████████████████████████████| 1261/1261 [00:00<00:00, 3883.82it/s]\n",
      "100%|████████████████████████████████████████████████████████| 1261/1261 [00:38<00:00, 33.02it/s]\n",
      "/home/jypeng/miniconda3/envs/Perovskite_ML_Environment/lib/python3.10/site-packages/torch/jit/_check.py:181: UserWarning: The TorchScript type system doesn't support instance-level annotations on empty non-base types in `__init__`. Instead, either 1) use a type annotation in the class body, or 2) wrap the type in `torch.jit.Attribute`.\n",
      "  warnings.warn(\"The TorchScript type system doesn't support \"\n",
      "/home/jypeng/miniconda3/envs/Perovskite_ML_Environment/lib/python3.10/site-packages/torch/jit/_check.py:181: UserWarning: The TorchScript type system doesn't support instance-level annotations on empty non-base types in `__init__`. Instead, either 1) use a type annotation in the class body, or 2) wrap the type in `torch.jit.Attribute`.\n",
      "  warnings.warn(\"The TorchScript type system doesn't support \"\n",
      "/home/jypeng/miniconda3/envs/Perovskite_ML_Environment/lib/python3.10/site-packages/torch/jit/_check.py:181: UserWarning: The TorchScript type system doesn't support instance-level annotations on empty non-base types in `__init__`. Instead, either 1) use a type annotation in the class body, or 2) wrap the type in `torch.jit.Attribute`.\n",
      "  warnings.warn(\"The TorchScript type system doesn't support \"\n"
     ]
    },
    {
     "name": "stdout",
     "output_type": "stream",
     "text": [
      "Completed model prediction for test_set\n",
      "Loaded data\n",
      "Completed data processing\n"
     ]
    },
    {
     "name": "stderr",
     "output_type": "stream",
     "text": [
      "100%|██████████████████████████████████████████████████████| 6276/6276 [00:01<00:00, 4003.45it/s]\n",
      "100%|████████████████████████████████████████████████████████| 6276/6276 [03:09<00:00, 33.15it/s]\n",
      "100%|████████████████████████████████████████████████████████| 600/600 [00:00<00:00, 3875.59it/s]\n",
      "100%|██████████████████████████████████████████████████████████| 600/600 [00:18<00:00, 32.27it/s]\n",
      "/home/jypeng/miniconda3/envs/Perovskite_ML_Environment/lib/python3.10/site-packages/torch/jit/_check.py:181: UserWarning: The TorchScript type system doesn't support instance-level annotations on empty non-base types in `__init__`. Instead, either 1) use a type annotation in the class body, or 2) wrap the type in `torch.jit.Attribute`.\n",
      "  warnings.warn(\"The TorchScript type system doesn't support \"\n",
      "/home/jypeng/miniconda3/envs/Perovskite_ML_Environment/lib/python3.10/site-packages/torch/jit/_check.py:181: UserWarning: The TorchScript type system doesn't support instance-level annotations on empty non-base types in `__init__`. Instead, either 1) use a type annotation in the class body, or 2) wrap the type in `torch.jit.Attribute`.\n",
      "  warnings.warn(\"The TorchScript type system doesn't support \"\n",
      "/home/jypeng/miniconda3/envs/Perovskite_ML_Environment/lib/python3.10/site-packages/torch/jit/_check.py:181: UserWarning: The TorchScript type system doesn't support instance-level annotations on empty non-base types in `__init__`. Instead, either 1) use a type annotation in the class body, or 2) wrap the type in `torch.jit.Attribute`.\n",
      "  warnings.warn(\"The TorchScript type system doesn't support \"\n"
     ]
    },
    {
     "name": "stdout",
     "output_type": "stream",
     "text": [
      "Completed model prediction for holdout_set_B_sites\n",
      "Loaded data\n",
      "Completed data processing\n"
     ]
    },
    {
     "name": "stderr",
     "output_type": "stream",
     "text": [
      "100%|██████████████████████████████████████████████████████| 6276/6276 [00:01<00:00, 3955.05it/s]\n",
      "100%|████████████████████████████████████████████████████████| 6276/6276 [03:17<00:00, 31.72it/s]\n",
      "100%|████████████████████████████████████████████████████████| 863/863 [00:00<00:00, 3681.79it/s]\n",
      "100%|██████████████████████████████████████████████████████████| 863/863 [00:28<00:00, 30.79it/s]\n",
      "/home/jypeng/miniconda3/envs/Perovskite_ML_Environment/lib/python3.10/site-packages/torch/jit/_check.py:181: UserWarning: The TorchScript type system doesn't support instance-level annotations on empty non-base types in `__init__`. Instead, either 1) use a type annotation in the class body, or 2) wrap the type in `torch.jit.Attribute`.\n",
      "  warnings.warn(\"The TorchScript type system doesn't support \"\n",
      "/home/jypeng/miniconda3/envs/Perovskite_ML_Environment/lib/python3.10/site-packages/torch/jit/_check.py:181: UserWarning: The TorchScript type system doesn't support instance-level annotations on empty non-base types in `__init__`. Instead, either 1) use a type annotation in the class body, or 2) wrap the type in `torch.jit.Attribute`.\n",
      "  warnings.warn(\"The TorchScript type system doesn't support \"\n",
      "/home/jypeng/miniconda3/envs/Perovskite_ML_Environment/lib/python3.10/site-packages/torch/jit/_check.py:181: UserWarning: The TorchScript type system doesn't support instance-level annotations on empty non-base types in `__init__`. Instead, either 1) use a type annotation in the class body, or 2) wrap the type in `torch.jit.Attribute`.\n",
      "  warnings.warn(\"The TorchScript type system doesn't support \"\n"
     ]
    },
    {
     "name": "stdout",
     "output_type": "stream",
     "text": [
      "Completed model prediction for holdout_set_series\n"
     ]
    }
   ],
   "source": [
    "gpu_num=1\n",
    "target_prop=\"dft_e_hull\"\n",
    "\n",
    "model_params = {\n",
    "    \"model_type\": \"e3nn\",\n",
    "    \"interpolation\": False,\n",
    "    \"struct_type\": \"M3Gnet_relaxed\",\n",
    "}\n",
    "\n",
    "get_all_model_predictions(model_params, gpu_num, target_prop)"
   ]
  },
  {
   "cell_type": "code",
   "execution_count": 13,
   "metadata": {
    "scrolled": true
   },
   "outputs": [
    {
     "name": "stdout",
     "output_type": "stream",
     "text": [
      "Loaded data\n",
      "Completed data processing\n"
     ]
    },
    {
     "name": "stderr",
     "output_type": "stream",
     "text": [
      "100%|██████████████████████████████████████████████████████| 6276/6276 [00:01<00:00, 3997.93it/s]\n",
      "100%|████████████████████████████████████████████████████████| 6276/6276 [03:14<00:00, 32.32it/s]\n",
      "100%|██████████████████████████████████████████████████████| 1261/1261 [00:00<00:00, 3897.19it/s]\n",
      "100%|████████████████████████████████████████████████████████| 1261/1261 [00:38<00:00, 32.72it/s]\n",
      "/home/jypeng/miniconda3/envs/Perovskite_ML_Environment/lib/python3.10/site-packages/torch/jit/_check.py:181: UserWarning: The TorchScript type system doesn't support instance-level annotations on empty non-base types in `__init__`. Instead, either 1) use a type annotation in the class body, or 2) wrap the type in `torch.jit.Attribute`.\n",
      "  warnings.warn(\"The TorchScript type system doesn't support \"\n",
      "/home/jypeng/miniconda3/envs/Perovskite_ML_Environment/lib/python3.10/site-packages/torch/jit/_check.py:181: UserWarning: The TorchScript type system doesn't support instance-level annotations on empty non-base types in `__init__`. Instead, either 1) use a type annotation in the class body, or 2) wrap the type in `torch.jit.Attribute`.\n",
      "  warnings.warn(\"The TorchScript type system doesn't support \"\n",
      "/home/jypeng/miniconda3/envs/Perovskite_ML_Environment/lib/python3.10/site-packages/torch/jit/_check.py:181: UserWarning: The TorchScript type system doesn't support instance-level annotations on empty non-base types in `__init__`. Instead, either 1) use a type annotation in the class body, or 2) wrap the type in `torch.jit.Attribute`.\n",
      "  warnings.warn(\"The TorchScript type system doesn't support \"\n"
     ]
    },
    {
     "name": "stdout",
     "output_type": "stream",
     "text": [
      "Completed model prediction for test_set\n",
      "Loaded data\n",
      "Completed data processing\n"
     ]
    },
    {
     "name": "stderr",
     "output_type": "stream",
     "text": [
      "100%|██████████████████████████████████████████████████████| 6276/6276 [00:01<00:00, 3996.17it/s]\n",
      "100%|████████████████████████████████████████████████████████| 6276/6276 [03:14<00:00, 32.32it/s]\n",
      "100%|████████████████████████████████████████████████████████| 600/600 [00:00<00:00, 3849.17it/s]\n",
      "100%|██████████████████████████████████████████████████████████| 600/600 [00:18<00:00, 32.62it/s]\n",
      "/home/jypeng/miniconda3/envs/Perovskite_ML_Environment/lib/python3.10/site-packages/torch/jit/_check.py:181: UserWarning: The TorchScript type system doesn't support instance-level annotations on empty non-base types in `__init__`. Instead, either 1) use a type annotation in the class body, or 2) wrap the type in `torch.jit.Attribute`.\n",
      "  warnings.warn(\"The TorchScript type system doesn't support \"\n",
      "/home/jypeng/miniconda3/envs/Perovskite_ML_Environment/lib/python3.10/site-packages/torch/jit/_check.py:181: UserWarning: The TorchScript type system doesn't support instance-level annotations on empty non-base types in `__init__`. Instead, either 1) use a type annotation in the class body, or 2) wrap the type in `torch.jit.Attribute`.\n",
      "  warnings.warn(\"The TorchScript type system doesn't support \"\n",
      "/home/jypeng/miniconda3/envs/Perovskite_ML_Environment/lib/python3.10/site-packages/torch/jit/_check.py:181: UserWarning: The TorchScript type system doesn't support instance-level annotations on empty non-base types in `__init__`. Instead, either 1) use a type annotation in the class body, or 2) wrap the type in `torch.jit.Attribute`.\n",
      "  warnings.warn(\"The TorchScript type system doesn't support \"\n"
     ]
    },
    {
     "name": "stdout",
     "output_type": "stream",
     "text": [
      "Completed model prediction for holdout_set_B_sites\n",
      "Loaded data\n",
      "Completed data processing\n"
     ]
    },
    {
     "name": "stderr",
     "output_type": "stream",
     "text": [
      "100%|██████████████████████████████████████████████████████| 6276/6276 [00:01<00:00, 3982.82it/s]\n",
      "100%|████████████████████████████████████████████████████████| 6276/6276 [03:14<00:00, 32.33it/s]\n",
      "100%|████████████████████████████████████████████████████████| 863/863 [00:00<00:00, 3810.94it/s]\n",
      "100%|██████████████████████████████████████████████████████████| 863/863 [00:26<00:00, 32.84it/s]\n",
      "/home/jypeng/miniconda3/envs/Perovskite_ML_Environment/lib/python3.10/site-packages/torch/jit/_check.py:181: UserWarning: The TorchScript type system doesn't support instance-level annotations on empty non-base types in `__init__`. Instead, either 1) use a type annotation in the class body, or 2) wrap the type in `torch.jit.Attribute`.\n",
      "  warnings.warn(\"The TorchScript type system doesn't support \"\n",
      "/home/jypeng/miniconda3/envs/Perovskite_ML_Environment/lib/python3.10/site-packages/torch/jit/_check.py:181: UserWarning: The TorchScript type system doesn't support instance-level annotations on empty non-base types in `__init__`. Instead, either 1) use a type annotation in the class body, or 2) wrap the type in `torch.jit.Attribute`.\n",
      "  warnings.warn(\"The TorchScript type system doesn't support \"\n",
      "/home/jypeng/miniconda3/envs/Perovskite_ML_Environment/lib/python3.10/site-packages/torch/jit/_check.py:181: UserWarning: The TorchScript type system doesn't support instance-level annotations on empty non-base types in `__init__`. Instead, either 1) use a type annotation in the class body, or 2) wrap the type in `torch.jit.Attribute`.\n",
      "  warnings.warn(\"The TorchScript type system doesn't support \"\n"
     ]
    },
    {
     "name": "stdout",
     "output_type": "stream",
     "text": [
      "Completed model prediction for holdout_set_series\n"
     ]
    }
   ],
   "source": [
    "gpu_num=1\n",
    "target_prop=\"Op_band_center\"\n",
    "\n",
    "model_params = {\n",
    "    \"model_type\": \"e3nn\",\n",
    "    \"interpolation\": False,\n",
    "    \"struct_type\": \"unrelaxed\",\n",
    "}\n",
    "\n",
    "get_all_model_predictions(model_params, gpu_num, target_prop)"
   ]
  },
  {
   "cell_type": "code",
   "execution_count": 14,
   "metadata": {
    "scrolled": true
   },
   "outputs": [
    {
     "name": "stdout",
     "output_type": "stream",
     "text": [
      "Loaded data\n",
      "Completed data processing\n"
     ]
    },
    {
     "name": "stderr",
     "output_type": "stream",
     "text": [
      "100%|██████████████████████████████████████████████████████| 6276/6276 [00:01<00:00, 3523.24it/s]\n",
      "100%|████████████████████████████████████████████████████████| 6276/6276 [03:08<00:00, 33.22it/s]\n",
      "100%|██████████████████████████████████████████████████████| 1261/1261 [00:00<00:00, 3444.21it/s]\n",
      "100%|████████████████████████████████████████████████████████| 1261/1261 [00:40<00:00, 30.82it/s]\n",
      "/home/jypeng/miniconda3/envs/Perovskite_ML_Environment/lib/python3.10/site-packages/torch/jit/_check.py:181: UserWarning: The TorchScript type system doesn't support instance-level annotations on empty non-base types in `__init__`. Instead, either 1) use a type annotation in the class body, or 2) wrap the type in `torch.jit.Attribute`.\n",
      "  warnings.warn(\"The TorchScript type system doesn't support \"\n",
      "/home/jypeng/miniconda3/envs/Perovskite_ML_Environment/lib/python3.10/site-packages/torch/jit/_check.py:181: UserWarning: The TorchScript type system doesn't support instance-level annotations on empty non-base types in `__init__`. Instead, either 1) use a type annotation in the class body, or 2) wrap the type in `torch.jit.Attribute`.\n",
      "  warnings.warn(\"The TorchScript type system doesn't support \"\n",
      "/home/jypeng/miniconda3/envs/Perovskite_ML_Environment/lib/python3.10/site-packages/torch/jit/_check.py:181: UserWarning: The TorchScript type system doesn't support instance-level annotations on empty non-base types in `__init__`. Instead, either 1) use a type annotation in the class body, or 2) wrap the type in `torch.jit.Attribute`.\n",
      "  warnings.warn(\"The TorchScript type system doesn't support \"\n"
     ]
    },
    {
     "name": "stdout",
     "output_type": "stream",
     "text": [
      "Completed model prediction for test_set\n",
      "Loaded data\n",
      "Completed data processing\n"
     ]
    },
    {
     "name": "stderr",
     "output_type": "stream",
     "text": [
      "100%|██████████████████████████████████████████████████████| 6276/6276 [00:01<00:00, 3483.23it/s]\n",
      "100%|████████████████████████████████████████████████████████| 6276/6276 [03:14<00:00, 32.33it/s]\n",
      "100%|████████████████████████████████████████████████████████| 600/600 [00:00<00:00, 3411.79it/s]\n",
      "100%|██████████████████████████████████████████████████████████| 600/600 [00:18<00:00, 32.07it/s]\n",
      "/home/jypeng/miniconda3/envs/Perovskite_ML_Environment/lib/python3.10/site-packages/torch/jit/_check.py:181: UserWarning: The TorchScript type system doesn't support instance-level annotations on empty non-base types in `__init__`. Instead, either 1) use a type annotation in the class body, or 2) wrap the type in `torch.jit.Attribute`.\n",
      "  warnings.warn(\"The TorchScript type system doesn't support \"\n",
      "/home/jypeng/miniconda3/envs/Perovskite_ML_Environment/lib/python3.10/site-packages/torch/jit/_check.py:181: UserWarning: The TorchScript type system doesn't support instance-level annotations on empty non-base types in `__init__`. Instead, either 1) use a type annotation in the class body, or 2) wrap the type in `torch.jit.Attribute`.\n",
      "  warnings.warn(\"The TorchScript type system doesn't support \"\n",
      "/home/jypeng/miniconda3/envs/Perovskite_ML_Environment/lib/python3.10/site-packages/torch/jit/_check.py:181: UserWarning: The TorchScript type system doesn't support instance-level annotations on empty non-base types in `__init__`. Instead, either 1) use a type annotation in the class body, or 2) wrap the type in `torch.jit.Attribute`.\n",
      "  warnings.warn(\"The TorchScript type system doesn't support \"\n"
     ]
    },
    {
     "name": "stdout",
     "output_type": "stream",
     "text": [
      "Completed model prediction for holdout_set_B_sites\n",
      "Loaded data\n",
      "Completed data processing\n"
     ]
    },
    {
     "name": "stderr",
     "output_type": "stream",
     "text": [
      "100%|██████████████████████████████████████████████████████| 6276/6276 [00:01<00:00, 3516.26it/s]\n",
      "100%|████████████████████████████████████████████████████████| 6276/6276 [03:08<00:00, 33.36it/s]\n",
      "100%|████████████████████████████████████████████████████████| 863/863 [00:00<00:00, 3459.81it/s]\n",
      "100%|██████████████████████████████████████████████████████████| 863/863 [00:26<00:00, 32.35it/s]\n",
      "/home/jypeng/miniconda3/envs/Perovskite_ML_Environment/lib/python3.10/site-packages/torch/jit/_check.py:181: UserWarning: The TorchScript type system doesn't support instance-level annotations on empty non-base types in `__init__`. Instead, either 1) use a type annotation in the class body, or 2) wrap the type in `torch.jit.Attribute`.\n",
      "  warnings.warn(\"The TorchScript type system doesn't support \"\n",
      "/home/jypeng/miniconda3/envs/Perovskite_ML_Environment/lib/python3.10/site-packages/torch/jit/_check.py:181: UserWarning: The TorchScript type system doesn't support instance-level annotations on empty non-base types in `__init__`. Instead, either 1) use a type annotation in the class body, or 2) wrap the type in `torch.jit.Attribute`.\n",
      "  warnings.warn(\"The TorchScript type system doesn't support \"\n",
      "/home/jypeng/miniconda3/envs/Perovskite_ML_Environment/lib/python3.10/site-packages/torch/jit/_check.py:181: UserWarning: The TorchScript type system doesn't support instance-level annotations on empty non-base types in `__init__`. Instead, either 1) use a type annotation in the class body, or 2) wrap the type in `torch.jit.Attribute`.\n",
      "  warnings.warn(\"The TorchScript type system doesn't support \"\n"
     ]
    },
    {
     "name": "stdout",
     "output_type": "stream",
     "text": [
      "Completed model prediction for holdout_set_series\n"
     ]
    }
   ],
   "source": [
    "gpu_num=2\n",
    "target_prop=\"Op_band_center\"\n",
    "\n",
    "model_params = {\n",
    "    \"model_type\": \"e3nn\",\n",
    "    \"interpolation\": False,\n",
    "    \"struct_type\": \"relaxed\",\n",
    "}\n",
    "\n",
    "get_all_model_predictions(model_params, gpu_num, target_prop)"
   ]
  },
  {
   "cell_type": "code",
   "execution_count": 16,
   "metadata": {
    "scrolled": true
   },
   "outputs": [
    {
     "name": "stdout",
     "output_type": "stream",
     "text": [
      "Loaded data\n",
      "Completed data processing\n"
     ]
    },
    {
     "name": "stderr",
     "output_type": "stream",
     "text": [
      "100%|██████████████████████████████████████████████████████| 6276/6276 [00:01<00:00, 4053.39it/s]\n",
      "100%|████████████████████████████████████████████████████████| 6276/6276 [03:05<00:00, 33.85it/s]\n",
      "100%|██████████████████████████████████████████████████████| 1261/1261 [00:00<00:00, 3946.07it/s]\n",
      "100%|████████████████████████████████████████████████████████| 1261/1261 [00:38<00:00, 33.17it/s]\n",
      "/home/jypeng/miniconda3/envs/Perovskite_ML_Environment/lib/python3.10/site-packages/torch/jit/_check.py:181: UserWarning: The TorchScript type system doesn't support instance-level annotations on empty non-base types in `__init__`. Instead, either 1) use a type annotation in the class body, or 2) wrap the type in `torch.jit.Attribute`.\n",
      "  warnings.warn(\"The TorchScript type system doesn't support \"\n",
      "/home/jypeng/miniconda3/envs/Perovskite_ML_Environment/lib/python3.10/site-packages/torch/jit/_check.py:181: UserWarning: The TorchScript type system doesn't support instance-level annotations on empty non-base types in `__init__`. Instead, either 1) use a type annotation in the class body, or 2) wrap the type in `torch.jit.Attribute`.\n",
      "  warnings.warn(\"The TorchScript type system doesn't support \"\n",
      "/home/jypeng/miniconda3/envs/Perovskite_ML_Environment/lib/python3.10/site-packages/torch/jit/_check.py:181: UserWarning: The TorchScript type system doesn't support instance-level annotations on empty non-base types in `__init__`. Instead, either 1) use a type annotation in the class body, or 2) wrap the type in `torch.jit.Attribute`.\n",
      "  warnings.warn(\"The TorchScript type system doesn't support \"\n"
     ]
    },
    {
     "name": "stdout",
     "output_type": "stream",
     "text": [
      "Completed model prediction for test_set\n",
      "Loaded data\n",
      "Completed data processing\n"
     ]
    },
    {
     "name": "stderr",
     "output_type": "stream",
     "text": [
      "100%|██████████████████████████████████████████████████████| 6276/6276 [00:01<00:00, 4015.86it/s]\n",
      "100%|████████████████████████████████████████████████████████| 6276/6276 [03:10<00:00, 32.87it/s]\n",
      "100%|████████████████████████████████████████████████████████| 600/600 [00:00<00:00, 3922.54it/s]\n",
      "100%|██████████████████████████████████████████████████████████| 600/600 [00:18<00:00, 32.46it/s]\n",
      "/home/jypeng/miniconda3/envs/Perovskite_ML_Environment/lib/python3.10/site-packages/torch/jit/_check.py:181: UserWarning: The TorchScript type system doesn't support instance-level annotations on empty non-base types in `__init__`. Instead, either 1) use a type annotation in the class body, or 2) wrap the type in `torch.jit.Attribute`.\n",
      "  warnings.warn(\"The TorchScript type system doesn't support \"\n",
      "/home/jypeng/miniconda3/envs/Perovskite_ML_Environment/lib/python3.10/site-packages/torch/jit/_check.py:181: UserWarning: The TorchScript type system doesn't support instance-level annotations on empty non-base types in `__init__`. Instead, either 1) use a type annotation in the class body, or 2) wrap the type in `torch.jit.Attribute`.\n",
      "  warnings.warn(\"The TorchScript type system doesn't support \"\n",
      "/home/jypeng/miniconda3/envs/Perovskite_ML_Environment/lib/python3.10/site-packages/torch/jit/_check.py:181: UserWarning: The TorchScript type system doesn't support instance-level annotations on empty non-base types in `__init__`. Instead, either 1) use a type annotation in the class body, or 2) wrap the type in `torch.jit.Attribute`.\n",
      "  warnings.warn(\"The TorchScript type system doesn't support \"\n"
     ]
    },
    {
     "name": "stdout",
     "output_type": "stream",
     "text": [
      "Completed model prediction for holdout_set_B_sites\n",
      "Loaded data\n",
      "Completed data processing\n"
     ]
    },
    {
     "name": "stderr",
     "output_type": "stream",
     "text": [
      "100%|██████████████████████████████████████████████████████| 6276/6276 [00:01<00:00, 4046.99it/s]\n",
      "100%|████████████████████████████████████████████████████████| 6276/6276 [03:08<00:00, 33.33it/s]\n",
      "100%|████████████████████████████████████████████████████████| 863/863 [00:00<00:00, 3953.98it/s]\n",
      "100%|██████████████████████████████████████████████████████████| 863/863 [00:26<00:00, 33.10it/s]\n",
      "/home/jypeng/miniconda3/envs/Perovskite_ML_Environment/lib/python3.10/site-packages/torch/jit/_check.py:181: UserWarning: The TorchScript type system doesn't support instance-level annotations on empty non-base types in `__init__`. Instead, either 1) use a type annotation in the class body, or 2) wrap the type in `torch.jit.Attribute`.\n",
      "  warnings.warn(\"The TorchScript type system doesn't support \"\n",
      "/home/jypeng/miniconda3/envs/Perovskite_ML_Environment/lib/python3.10/site-packages/torch/jit/_check.py:181: UserWarning: The TorchScript type system doesn't support instance-level annotations on empty non-base types in `__init__`. Instead, either 1) use a type annotation in the class body, or 2) wrap the type in `torch.jit.Attribute`.\n",
      "  warnings.warn(\"The TorchScript type system doesn't support \"\n",
      "/home/jypeng/miniconda3/envs/Perovskite_ML_Environment/lib/python3.10/site-packages/torch/jit/_check.py:181: UserWarning: The TorchScript type system doesn't support instance-level annotations on empty non-base types in `__init__`. Instead, either 1) use a type annotation in the class body, or 2) wrap the type in `torch.jit.Attribute`.\n",
      "  warnings.warn(\"The TorchScript type system doesn't support \"\n"
     ]
    },
    {
     "name": "stdout",
     "output_type": "stream",
     "text": [
      "Completed model prediction for holdout_set_series\n"
     ]
    }
   ],
   "source": [
    "gpu_num=1\n",
    "target_prop=\"Op_band_center\"\n",
    "\n",
    "model_params = {\n",
    "    \"model_type\": \"e3nn\",\n",
    "    \"interpolation\": False,\n",
    "    \"struct_type\": \"M3Gnet_relaxed\",\n",
    "}\n",
    "\n",
    "get_all_model_predictions(model_params, gpu_num, target_prop)"
   ]
  },
  {
   "cell_type": "code",
   "execution_count": null,
   "metadata": {},
   "outputs": [],
   "source": []
  },
  {
   "cell_type": "code",
   "execution_count": null,
   "metadata": {},
   "outputs": [],
   "source": []
  },
  {
   "cell_type": "code",
   "execution_count": null,
   "metadata": {},
   "outputs": [],
   "source": []
  },
  {
   "cell_type": "code",
   "execution_count": null,
   "metadata": {},
   "outputs": [],
   "source": []
  }
 ],
 "metadata": {
  "kernelspec": {
   "display_name": "Perovskite_ML_Environment",
   "language": "python",
   "name": "perovskite_ml_environment"
  },
  "language_info": {
   "codemirror_mode": {
    "name": "ipython",
    "version": 3
   },
   "file_extension": ".py",
   "mimetype": "text/x-python",
   "name": "python",
   "nbconvert_exporter": "python",
   "pygments_lexer": "ipython3",
   "version": "3.10.11"
  }
 },
 "nbformat": 4,
 "nbformat_minor": 2
}
