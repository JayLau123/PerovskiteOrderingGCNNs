{
 "cells": [
  {
   "cell_type": "code",
   "execution_count": null,
   "metadata": {},
   "outputs": [],
   "source": [
    "from inference.test_model_prediction import *"
   ]
  },
  {
   "cell_type": "code",
   "execution_count": null,
   "metadata": {},
   "outputs": [],
   "source": [
    "gpu_num=2\n",
    "target_prop=\"dft_e_hull\"\n",
    "\n",
    "model_params = {\n",
    "    \"model_type\": \"CGCNN\",\n",
    "    \"relaxed\": False,\n",
    "    \"interpolation\": False,\n",
    "}\n",
    "\n",
    "# get_all_model_predictions(model_params, gpu_num, target_prop)"
   ]
  },
  {
   "cell_type": "code",
   "execution_count": null,
   "metadata": {},
   "outputs": [],
   "source": [
    "gpu_num=2\n",
    "target_prop=\"dft_e_hull\"\n",
    "\n",
    "model_params = {\n",
    "    \"model_type\": \"CGCNN\",\n",
    "    \"relaxed\": True,\n",
    "    \"interpolation\": False,\n",
    "}\n",
    "\n",
    "# get_all_model_predictions(model_params, gpu_num, target_prop)"
   ]
  },
  {
   "cell_type": "code",
   "execution_count": null,
   "metadata": {},
   "outputs": [],
   "source": [
    "gpu_num=2\n",
    "target_prop=\"dft_e_hull\"\n",
    "\n",
    "model_params = {\n",
    "    \"model_type\": \"CGCNN\",\n",
    "    \"relaxed\": False,\n",
    "    \"interpolation\": True,\n",
    "}\n",
    "\n",
    "# get_all_model_predictions(model_params, gpu_num, target_prop)"
   ]
  },
  {
   "cell_type": "code",
   "execution_count": null,
   "metadata": {},
   "outputs": [],
   "source": [
    "gpu_num=2\n",
    "target_prop=\"dft_e_hull\"\n",
    "\n",
    "model_params = {\n",
    "    \"model_type\": \"CGCNN\",\n",
    "    \"relaxed\": True,\n",
    "    \"interpolation\": True,\n",
    "}\n",
    "\n",
    "# get_all_model_predictions(model_params, gpu_num, target_prop)"
   ]
  },
  {
   "cell_type": "code",
   "execution_count": null,
   "metadata": {},
   "outputs": [],
   "source": [
    "gpu_num=2\n",
    "target_prop=\"dft_e_hull\"\n",
    "\n",
    "model_params = {\n",
    "    \"model_type\": \"Painn\",\n",
    "    \"relaxed\": False,\n",
    "    \"interpolation\": True,\n",
    "}\n",
    "\n",
    "# get_all_model_predictions(model_params, gpu_num, target_prop)"
   ]
  },
  {
   "cell_type": "code",
   "execution_count": null,
   "metadata": {},
   "outputs": [],
   "source": [
    "gpu_num=2\n",
    "target_prop=\"dft_e_hull\"\n",
    "\n",
    "model_params = {\n",
    "    \"model_type\": \"Painn\",\n",
    "    \"relaxed\": True,\n",
    "    \"interpolation\": True,\n",
    "}\n",
    "\n",
    "# get_all_model_predictions(model_params, gpu_num, target_prop)"
   ]
  },
  {
   "cell_type": "code",
   "execution_count": null,
   "metadata": {
    "scrolled": false
   },
   "outputs": [],
   "source": [
    "gpu_num=2\n",
    "target_prop=\"dft_e_hull\"\n",
    "\n",
    "model_params = {\n",
    "    \"model_type\": \"e3nn\",\n",
    "    \"relaxed\": False,\n",
    "    \"interpolation\": True,\n",
    "}\n",
    "\n",
    "# get_all_model_predictions(model_params, gpu_num, target_prop)"
   ]
  },
  {
   "cell_type": "code",
   "execution_count": null,
   "metadata": {},
   "outputs": [],
   "source": [
    "gpu_num=2\n",
    "target_prop=\"dft_e_hull\"\n",
    "\n",
    "model_params = {\n",
    "    \"model_type\": \"e3nn\",\n",
    "    \"relaxed\": True,\n",
    "    \"interpolation\": True,\n",
    "}\n",
    "\n",
    "# get_all_model_predictions(model_params, gpu_num, target_prop)"
   ]
  },
  {
   "cell_type": "code",
   "execution_count": null,
   "metadata": {},
   "outputs": [],
   "source": [
    "gpu_num=2\n",
    "target_prop=\"dft_e_hull\"\n",
    "\n",
    "model_params = {\n",
    "    \"model_type\": \"e3nn_contrastive\",\n",
    "    \"relaxed\": False,\n",
    "    \"interpolation\": True,\n",
    "}\n",
    "\n",
    "# get_all_model_predictions(model_params, gpu_num, target_prop)"
   ]
  },
  {
   "cell_type": "code",
   "execution_count": null,
   "metadata": {},
   "outputs": [],
   "source": [
    "gpu_num=2\n",
    "target_prop=\"dft_e_hull\"\n",
    "\n",
    "model_params = {\n",
    "    \"model_type\": \"e3nn_contrastive\",\n",
    "    \"relaxed\": True,\n",
    "    \"interpolation\": True,\n",
    "}\n",
    "\n",
    "# get_all_model_predictions(model_params, gpu_num, target_prop)"
   ]
  },
  {
   "cell_type": "code",
   "execution_count": null,
   "metadata": {},
   "outputs": [],
   "source": []
  }
 ],
 "metadata": {
  "kernelspec": {
   "display_name": "Perovskite_ML_Environment",
   "language": "python",
   "name": "perovskite_ml_environment"
  },
  "language_info": {
   "codemirror_mode": {
    "name": "ipython",
    "version": 3
   },
   "file_extension": ".py",
   "mimetype": "text/x-python",
   "name": "python",
   "nbconvert_exporter": "python",
   "pygments_lexer": "ipython3",
   "version": "3.10.11"
  }
 },
 "nbformat": 4,
 "nbformat_minor": 2
}
