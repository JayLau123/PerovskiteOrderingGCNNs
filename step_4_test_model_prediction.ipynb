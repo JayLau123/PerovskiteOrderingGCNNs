{
 "cells": [
  {
   "cell_type": "code",
   "execution_count": 1,
   "metadata": {},
   "outputs": [
    {
     "name": "stderr",
     "output_type": "stream",
     "text": [
      "/home/jypeng/miniconda3/envs/Perovskite_ML_Environment/lib/python3.10/site-packages/tqdm/auto.py:21: TqdmWarning: IProgress not found. Please update jupyter and ipywidgets. See https://ipywidgets.readthedocs.io/en/stable/user_install.html\n",
      "  from .autonotebook import tqdm as notebook_tqdm\n"
     ]
    }
   ],
   "source": [
    "from inference.test_model_prediction import *"
   ]
  },
  {
   "cell_type": "code",
   "execution_count": 2,
   "metadata": {},
   "outputs": [
    {
     "name": "stdout",
     "output_type": "stream",
     "text": [
      "Loaded data\n",
      "Completed data processing\n"
     ]
    },
    {
     "name": "stderr",
     "output_type": "stream",
     "text": [
      "100%|██████████████████████████████████████████████████████| 5064/5064 [00:01<00:00, 3964.18it/s]\n",
      "100%|██████████████████████████████████████████████████████| 1150/1150 [00:00<00:00, 3993.59it/s]\n",
      "100%|████████████████████████████████████████████████████████| 5064/5064 [02:13<00:00, 37.96it/s]\n",
      "100%|█████████████████████████████████████████████████████| 5064/5064 [00:00<00:00, 10841.27it/s]\n",
      "100%|█████████████████████████████████████████████████████| 5064/5064 [00:00<00:00, 10843.00it/s]\n"
     ]
    },
    {
     "name": "stdout",
     "output_type": "stream",
     "text": [
      "Completed model prediction for test_set\n",
      "Loaded data\n",
      "Completed data processing\n"
     ]
    },
    {
     "name": "stderr",
     "output_type": "stream",
     "text": [
      "100%|██████████████████████████████████████████████████████| 5064/5064 [00:01<00:00, 4038.21it/s]\n",
      "100%|████████████████████████████████████████████████████████| 600/600 [00:00<00:00, 4045.39it/s]\n",
      "100%|████████████████████████████████████████████████████████| 5064/5064 [02:12<00:00, 38.27it/s]\n",
      "100%|█████████████████████████████████████████████████████| 5064/5064 [00:00<00:00, 10633.66it/s]\n",
      "100%|█████████████████████████████████████████████████████| 5064/5064 [00:00<00:00, 10655.86it/s]\n"
     ]
    },
    {
     "name": "stdout",
     "output_type": "stream",
     "text": [
      "Completed model prediction for holdout_set_B_sites\n",
      "Loaded data\n",
      "Completed data processing\n"
     ]
    },
    {
     "name": "stderr",
     "output_type": "stream",
     "text": [
      "100%|██████████████████████████████████████████████████████| 5064/5064 [00:01<00:00, 4030.11it/s]\n",
      "100%|████████████████████████████████████████████████████████| 571/571 [00:00<00:00, 4014.35it/s]\n",
      "100%|████████████████████████████████████████████████████████| 5064/5064 [02:15<00:00, 37.47it/s]\n",
      "100%|█████████████████████████████████████████████████████| 5064/5064 [00:00<00:00, 10681.79it/s]\n",
      "100%|█████████████████████████████████████████████████████| 5064/5064 [00:00<00:00, 10713.82it/s]\n"
     ]
    },
    {
     "name": "stdout",
     "output_type": "stream",
     "text": [
      "Completed model prediction for holdout_set_series\n"
     ]
    }
   ],
   "source": [
    "gpu_num=1\n",
    "target_prop=\"dft_e_hull\"\n",
    "\n",
    "model_params = {\n",
    "    \"model_type\": \"CGCNN\",\n",
    "    \"interpolation\": False,\n",
    "    \"struct_type\": \"unrelaxed\",\n",
    "}\n",
    "\n",
    "get_all_model_predictions(model_params, gpu_num, target_prop)"
   ]
  },
  {
   "cell_type": "code",
   "execution_count": 3,
   "metadata": {},
   "outputs": [
    {
     "name": "stdout",
     "output_type": "stream",
     "text": [
      "Loaded data\n",
      "Completed data processing\n"
     ]
    },
    {
     "name": "stderr",
     "output_type": "stream",
     "text": [
      "100%|██████████████████████████████████████████████████████| 5064/5064 [00:01<00:00, 3544.96it/s]\n",
      "100%|██████████████████████████████████████████████████████| 1150/1150 [00:00<00:00, 3571.73it/s]\n",
      "100%|████████████████████████████████████████████████████████| 5064/5064 [02:09<00:00, 38.98it/s]\n",
      "100%|█████████████████████████████████████████████████████| 5064/5064 [00:00<00:00, 10786.94it/s]\n",
      "100%|█████████████████████████████████████████████████████| 5064/5064 [00:00<00:00, 10815.49it/s]\n"
     ]
    },
    {
     "name": "stdout",
     "output_type": "stream",
     "text": [
      "Completed model prediction for test_set\n",
      "Loaded data\n",
      "Completed data processing\n"
     ]
    },
    {
     "name": "stderr",
     "output_type": "stream",
     "text": [
      "100%|██████████████████████████████████████████████████████| 5064/5064 [00:01<00:00, 3574.49it/s]\n",
      "100%|████████████████████████████████████████████████████████| 600/600 [00:00<00:00, 3579.27it/s]\n",
      "100%|████████████████████████████████████████████████████████| 5064/5064 [02:13<00:00, 38.03it/s]\n",
      "100%|█████████████████████████████████████████████████████| 5064/5064 [00:00<00:00, 10747.31it/s]\n",
      "100%|█████████████████████████████████████████████████████| 5064/5064 [00:00<00:00, 10717.29it/s]\n"
     ]
    },
    {
     "name": "stdout",
     "output_type": "stream",
     "text": [
      "Completed model prediction for holdout_set_B_sites\n",
      "Loaded data\n",
      "Completed data processing\n"
     ]
    },
    {
     "name": "stderr",
     "output_type": "stream",
     "text": [
      "100%|██████████████████████████████████████████████████████| 5064/5064 [00:01<00:00, 3619.07it/s]\n",
      "100%|████████████████████████████████████████████████████████| 571/571 [00:00<00:00, 3567.90it/s]\n",
      "100%|████████████████████████████████████████████████████████| 5064/5064 [02:09<00:00, 39.11it/s]\n",
      "100%|█████████████████████████████████████████████████████| 5064/5064 [00:00<00:00, 10611.98it/s]\n",
      "100%|█████████████████████████████████████████████████████| 5064/5064 [00:00<00:00, 10570.55it/s]\n"
     ]
    },
    {
     "name": "stdout",
     "output_type": "stream",
     "text": [
      "Completed model prediction for holdout_set_series\n"
     ]
    }
   ],
   "source": [
    "gpu_num=1\n",
    "target_prop=\"dft_e_hull\"\n",
    "\n",
    "model_params = {\n",
    "    \"model_type\": \"CGCNN\",\n",
    "    \"interpolation\": False,\n",
    "    \"struct_type\": \"relaxed\",\n",
    "}\n",
    "\n",
    "get_all_model_predictions(model_params, gpu_num, target_prop)"
   ]
  },
  {
   "cell_type": "code",
   "execution_count": 2,
   "metadata": {},
   "outputs": [
    {
     "name": "stdout",
     "output_type": "stream",
     "text": [
      "Loaded data\n",
      "Completed data processing\n"
     ]
    },
    {
     "name": "stderr",
     "output_type": "stream",
     "text": [
      "100%|██████████████████████████████████████████████████████| 5064/5064 [00:01<00:00, 4018.65it/s]\n",
      "100%|██████████████████████████████████████████████████████| 1150/1150 [00:00<00:00, 4009.39it/s]\n",
      "100%|████████████████████████████████████████████████████████| 5064/5064 [02:12<00:00, 38.11it/s]\n",
      "100%|█████████████████████████████████████████████████████| 5064/5064 [00:00<00:00, 10265.20it/s]\n",
      "100%|█████████████████████████████████████████████████████| 5064/5064 [00:00<00:00, 10379.05it/s]\n"
     ]
    },
    {
     "name": "stdout",
     "output_type": "stream",
     "text": [
      "Completed model prediction for test_set\n",
      "Loaded data\n",
      "Completed data processing\n"
     ]
    },
    {
     "name": "stderr",
     "output_type": "stream",
     "text": [
      "100%|██████████████████████████████████████████████████████| 5064/5064 [00:01<00:00, 4100.39it/s]\n",
      "100%|████████████████████████████████████████████████████████| 600/600 [00:00<00:00, 4112.96it/s]\n",
      "100%|████████████████████████████████████████████████████████| 5064/5064 [02:10<00:00, 38.71it/s]\n",
      "100%|█████████████████████████████████████████████████████| 5064/5064 [00:00<00:00, 10162.57it/s]\n",
      "100%|█████████████████████████████████████████████████████| 5064/5064 [00:00<00:00, 10352.37it/s]\n"
     ]
    },
    {
     "name": "stdout",
     "output_type": "stream",
     "text": [
      "Completed model prediction for holdout_set_B_sites\n",
      "Loaded data\n",
      "Completed data processing\n"
     ]
    },
    {
     "name": "stderr",
     "output_type": "stream",
     "text": [
      "100%|██████████████████████████████████████████████████████| 5064/5064 [00:01<00:00, 4030.16it/s]\n",
      "100%|████████████████████████████████████████████████████████| 571/571 [00:00<00:00, 4050.27it/s]\n",
      "100%|████████████████████████████████████████████████████████| 5064/5064 [02:14<00:00, 37.61it/s]\n",
      "100%|█████████████████████████████████████████████████████| 5064/5064 [00:00<00:00, 10034.12it/s]\n",
      "100%|█████████████████████████████████████████████████████| 5064/5064 [00:00<00:00, 10002.29it/s]\n"
     ]
    },
    {
     "name": "stdout",
     "output_type": "stream",
     "text": [
      "Completed model prediction for holdout_set_series\n"
     ]
    }
   ],
   "source": [
    "gpu_num=1\n",
    "target_prop=\"dft_e_hull\"\n",
    "\n",
    "model_params = {\n",
    "    \"model_type\": \"CGCNN\",\n",
    "    \"interpolation\": False,\n",
    "    \"struct_type\": \"M3Gnet_relaxed\",\n",
    "}\n",
    "\n",
    "get_all_model_predictions(model_params, gpu_num, target_prop)"
   ]
  },
  {
   "cell_type": "code",
   "execution_count": 3,
   "metadata": {},
   "outputs": [
    {
     "name": "stdout",
     "output_type": "stream",
     "text": [
      "Loaded data\n",
      "Completed data processing\n"
     ]
    },
    {
     "name": "stderr",
     "output_type": "stream",
     "text": [
      "100%|██████████████████████████████████████████████████████| 5064/5064 [00:01<00:00, 4023.85it/s]\n",
      "100%|██████████████████████████████████████████████████████| 1150/1150 [00:00<00:00, 4057.01it/s]\n",
      "100%|████████████████████████████████████████████████████████| 5064/5064 [02:12<00:00, 38.12it/s]\n",
      "100%|█████████████████████████████████████████████████████| 5064/5064 [00:00<00:00, 10528.67it/s]\n",
      "100%|█████████████████████████████████████████████████████| 5064/5064 [00:00<00:00, 10495.94it/s]\n"
     ]
    },
    {
     "name": "stdout",
     "output_type": "stream",
     "text": [
      "Completed model prediction for test_set\n",
      "Loaded data\n",
      "Completed data processing\n"
     ]
    },
    {
     "name": "stderr",
     "output_type": "stream",
     "text": [
      "100%|██████████████████████████████████████████████████████| 5064/5064 [00:01<00:00, 4040.33it/s]\n",
      "100%|████████████████████████████████████████████████████████| 600/600 [00:00<00:00, 4042.40it/s]\n",
      "100%|████████████████████████████████████████████████████████| 5064/5064 [02:13<00:00, 38.00it/s]\n",
      "100%|██████████████████████████████████████████████████████| 5064/5064 [00:00<00:00, 9784.49it/s]\n",
      "100%|██████████████████████████████████████████████████████| 5064/5064 [00:00<00:00, 9632.89it/s]\n"
     ]
    },
    {
     "name": "stdout",
     "output_type": "stream",
     "text": [
      "Completed model prediction for holdout_set_B_sites\n",
      "Loaded data\n",
      "Completed data processing\n"
     ]
    },
    {
     "name": "stderr",
     "output_type": "stream",
     "text": [
      "100%|██████████████████████████████████████████████████████| 5064/5064 [00:01<00:00, 3902.11it/s]\n",
      "100%|████████████████████████████████████████████████████████| 571/571 [00:00<00:00, 3958.92it/s]\n",
      "100%|████████████████████████████████████████████████████████| 5064/5064 [02:16<00:00, 36.97it/s]\n",
      "100%|█████████████████████████████████████████████████████| 5064/5064 [00:00<00:00, 10229.40it/s]\n",
      "100%|█████████████████████████████████████████████████████| 5064/5064 [00:00<00:00, 10203.99it/s]\n"
     ]
    },
    {
     "name": "stdout",
     "output_type": "stream",
     "text": [
      "Completed model prediction for holdout_set_series\n"
     ]
    }
   ],
   "source": [
    "gpu_num=1\n",
    "target_prop=\"Op_band_center\"\n",
    "\n",
    "model_params = {\n",
    "    \"model_type\": \"CGCNN\",\n",
    "    \"interpolation\": False,\n",
    "    \"struct_type\": \"unrelaxed\",\n",
    "}\n",
    "\n",
    "get_all_model_predictions(model_params, gpu_num, target_prop)"
   ]
  },
  {
   "cell_type": "code",
   "execution_count": 4,
   "metadata": {},
   "outputs": [
    {
     "name": "stdout",
     "output_type": "stream",
     "text": [
      "Loaded data\n",
      "Completed data processing\n"
     ]
    },
    {
     "name": "stderr",
     "output_type": "stream",
     "text": [
      "100%|██████████████████████████████████████████████████████| 5064/5064 [00:01<00:00, 3526.79it/s]\n",
      "100%|██████████████████████████████████████████████████████| 1150/1150 [00:00<00:00, 3540.26it/s]\n",
      "100%|████████████████████████████████████████████████████████| 5064/5064 [02:14<00:00, 37.65it/s]\n",
      "100%|█████████████████████████████████████████████████████| 5064/5064 [00:00<00:00, 10560.42it/s]\n",
      "100%|█████████████████████████████████████████████████████| 5064/5064 [00:00<00:00, 10509.30it/s]\n"
     ]
    },
    {
     "name": "stdout",
     "output_type": "stream",
     "text": [
      "Completed model prediction for test_set\n",
      "Loaded data\n",
      "Completed data processing\n"
     ]
    },
    {
     "name": "stderr",
     "output_type": "stream",
     "text": [
      "100%|██████████████████████████████████████████████████████| 5064/5064 [00:01<00:00, 3570.47it/s]\n",
      "100%|████████████████████████████████████████████████████████| 600/600 [00:00<00:00, 3588.08it/s]\n",
      "100%|████████████████████████████████████████████████████████| 5064/5064 [02:12<00:00, 38.35it/s]\n",
      "100%|█████████████████████████████████████████████████████| 5064/5064 [00:00<00:00, 10329.32it/s]\n",
      "100%|█████████████████████████████████████████████████████| 5064/5064 [00:00<00:00, 10303.91it/s]\n"
     ]
    },
    {
     "name": "stdout",
     "output_type": "stream",
     "text": [
      "Completed model prediction for holdout_set_B_sites\n",
      "Loaded data\n",
      "Completed data processing\n"
     ]
    },
    {
     "name": "stderr",
     "output_type": "stream",
     "text": [
      "100%|██████████████████████████████████████████████████████| 5064/5064 [00:01<00:00, 3545.30it/s]\n",
      "100%|████████████████████████████████████████████████████████| 571/571 [00:00<00:00, 3539.23it/s]\n",
      "100%|████████████████████████████████████████████████████████| 5064/5064 [02:17<00:00, 36.80it/s]\n",
      "100%|█████████████████████████████████████████████████████| 5064/5064 [00:00<00:00, 10048.76it/s]\n",
      "100%|█████████████████████████████████████████████████████| 5064/5064 [00:00<00:00, 10389.86it/s]\n"
     ]
    },
    {
     "name": "stdout",
     "output_type": "stream",
     "text": [
      "Completed model prediction for holdout_set_series\n"
     ]
    }
   ],
   "source": [
    "gpu_num=1\n",
    "target_prop=\"Op_band_center\"\n",
    "\n",
    "model_params = {\n",
    "    \"model_type\": \"CGCNN\",\n",
    "    \"interpolation\": False,\n",
    "    \"struct_type\": \"relaxed\",\n",
    "}\n",
    "\n",
    "get_all_model_predictions(model_params, gpu_num, target_prop)"
   ]
  },
  {
   "cell_type": "code",
   "execution_count": 5,
   "metadata": {},
   "outputs": [
    {
     "name": "stdout",
     "output_type": "stream",
     "text": [
      "Loaded data\n",
      "Completed data processing\n"
     ]
    },
    {
     "name": "stderr",
     "output_type": "stream",
     "text": [
      "100%|██████████████████████████████████████████████████████| 5064/5064 [00:01<00:00, 4023.74it/s]\n",
      "100%|██████████████████████████████████████████████████████| 1150/1150 [00:00<00:00, 4035.48it/s]\n",
      "100%|████████████████████████████████████████████████████████| 5064/5064 [02:12<00:00, 38.19it/s]\n",
      "100%|█████████████████████████████████████████████████████| 5064/5064 [00:00<00:00, 10403.09it/s]\n",
      "100%|█████████████████████████████████████████████████████| 5064/5064 [00:00<00:00, 10320.64it/s]\n"
     ]
    },
    {
     "name": "stdout",
     "output_type": "stream",
     "text": [
      "Completed model prediction for test_set\n",
      "Loaded data\n",
      "Completed data processing\n"
     ]
    },
    {
     "name": "stderr",
     "output_type": "stream",
     "text": [
      "100%|██████████████████████████████████████████████████████| 5064/5064 [00:01<00:00, 4052.91it/s]\n",
      "100%|████████████████████████████████████████████████████████| 600/600 [00:00<00:00, 4056.92it/s]\n",
      "100%|████████████████████████████████████████████████████████| 5064/5064 [02:18<00:00, 36.44it/s]\n",
      "100%|█████████████████████████████████████████████████████| 5064/5064 [00:00<00:00, 10010.17it/s]\n",
      "100%|██████████████████████████████████████████████████████| 5064/5064 [00:00<00:00, 9814.47it/s]\n"
     ]
    },
    {
     "name": "stdout",
     "output_type": "stream",
     "text": [
      "Completed model prediction for holdout_set_B_sites\n",
      "Loaded data\n",
      "Completed data processing\n"
     ]
    },
    {
     "name": "stderr",
     "output_type": "stream",
     "text": [
      "100%|██████████████████████████████████████████████████████| 5064/5064 [00:01<00:00, 3986.39it/s]\n",
      "100%|████████████████████████████████████████████████████████| 571/571 [00:00<00:00, 3950.57it/s]\n",
      "100%|████████████████████████████████████████████████████████| 5064/5064 [02:08<00:00, 39.28it/s]\n",
      "100%|██████████████████████████████████████████████████████| 5064/5064 [00:00<00:00, 9856.37it/s]\n",
      "100%|██████████████████████████████████████████████████████| 5064/5064 [00:00<00:00, 9550.54it/s]\n"
     ]
    },
    {
     "name": "stdout",
     "output_type": "stream",
     "text": [
      "Completed model prediction for holdout_set_series\n"
     ]
    }
   ],
   "source": [
    "gpu_num=1\n",
    "target_prop=\"Op_band_center\"\n",
    "\n",
    "model_params = {\n",
    "    \"model_type\": \"CGCNN\",\n",
    "    \"interpolation\": False,\n",
    "    \"struct_type\": \"M3Gnet_relaxed\",\n",
    "}\n",
    "\n",
    "get_all_model_predictions(model_params, gpu_num, target_prop)"
   ]
  },
  {
   "cell_type": "code",
   "execution_count": 6,
   "metadata": {
    "scrolled": false
   },
   "outputs": [
    {
     "name": "stdout",
     "output_type": "stream",
     "text": [
      "Loaded data\n",
      "Completed data processing\n"
     ]
    },
    {
     "name": "stderr",
     "output_type": "stream",
     "text": [
      "100%|██████████████████████████████████████████████████████| 5064/5064 [00:01<00:00, 4063.77it/s]\n",
      "100%|████████████████████████████████████████████████████████| 5064/5064 [02:33<00:00, 32.97it/s]\n",
      "100%|██████████████████████████████████████████████████████| 1150/1150 [00:00<00:00, 3897.79it/s]\n",
      "100%|████████████████████████████████████████████████████████| 1150/1150 [00:34<00:00, 33.27it/s]\n",
      "/home/jypeng/miniconda3/envs/Perovskite_ML_Environment/lib/python3.10/site-packages/torch/jit/_check.py:181: UserWarning: The TorchScript type system doesn't support instance-level annotations on empty non-base types in `__init__`. Instead, either 1) use a type annotation in the class body, or 2) wrap the type in `torch.jit.Attribute`.\n",
      "  warnings.warn(\"The TorchScript type system doesn't support \"\n",
      "/home/jypeng/miniconda3/envs/Perovskite_ML_Environment/lib/python3.10/site-packages/torch/jit/_check.py:181: UserWarning: The TorchScript type system doesn't support instance-level annotations on empty non-base types in `__init__`. Instead, either 1) use a type annotation in the class body, or 2) wrap the type in `torch.jit.Attribute`.\n",
      "  warnings.warn(\"The TorchScript type system doesn't support \"\n",
      "/home/jypeng/miniconda3/envs/Perovskite_ML_Environment/lib/python3.10/site-packages/torch/jit/_check.py:181: UserWarning: The TorchScript type system doesn't support instance-level annotations on empty non-base types in `__init__`. Instead, either 1) use a type annotation in the class body, or 2) wrap the type in `torch.jit.Attribute`.\n",
      "  warnings.warn(\"The TorchScript type system doesn't support \"\n"
     ]
    },
    {
     "name": "stdout",
     "output_type": "stream",
     "text": [
      "Completed model prediction for test_set\n",
      "Loaded data\n",
      "Completed data processing\n"
     ]
    },
    {
     "name": "stderr",
     "output_type": "stream",
     "text": [
      "100%|██████████████████████████████████████████████████████| 5064/5064 [00:01<00:00, 4005.79it/s]\n",
      "100%|████████████████████████████████████████████████████████| 5064/5064 [02:36<00:00, 32.32it/s]\n",
      "100%|████████████████████████████████████████████████████████| 600/600 [00:00<00:00, 3881.04it/s]\n",
      "100%|██████████████████████████████████████████████████████████| 600/600 [00:18<00:00, 32.59it/s]\n",
      "/home/jypeng/miniconda3/envs/Perovskite_ML_Environment/lib/python3.10/site-packages/torch/jit/_check.py:181: UserWarning: The TorchScript type system doesn't support instance-level annotations on empty non-base types in `__init__`. Instead, either 1) use a type annotation in the class body, or 2) wrap the type in `torch.jit.Attribute`.\n",
      "  warnings.warn(\"The TorchScript type system doesn't support \"\n",
      "/home/jypeng/miniconda3/envs/Perovskite_ML_Environment/lib/python3.10/site-packages/torch/jit/_check.py:181: UserWarning: The TorchScript type system doesn't support instance-level annotations on empty non-base types in `__init__`. Instead, either 1) use a type annotation in the class body, or 2) wrap the type in `torch.jit.Attribute`.\n",
      "  warnings.warn(\"The TorchScript type system doesn't support \"\n",
      "/home/jypeng/miniconda3/envs/Perovskite_ML_Environment/lib/python3.10/site-packages/torch/jit/_check.py:181: UserWarning: The TorchScript type system doesn't support instance-level annotations on empty non-base types in `__init__`. Instead, either 1) use a type annotation in the class body, or 2) wrap the type in `torch.jit.Attribute`.\n",
      "  warnings.warn(\"The TorchScript type system doesn't support \"\n"
     ]
    },
    {
     "name": "stdout",
     "output_type": "stream",
     "text": [
      "Completed model prediction for holdout_set_B_sites\n",
      "Loaded data\n",
      "Completed data processing\n"
     ]
    },
    {
     "name": "stderr",
     "output_type": "stream",
     "text": [
      "100%|██████████████████████████████████████████████████████| 5064/5064 [00:01<00:00, 4005.84it/s]\n",
      "100%|████████████████████████████████████████████████████████| 5064/5064 [02:36<00:00, 32.39it/s]\n",
      "100%|████████████████████████████████████████████████████████| 571/571 [00:00<00:00, 3940.77it/s]\n",
      "100%|██████████████████████████████████████████████████████████| 571/571 [00:17<00:00, 32.93it/s]\n",
      "/home/jypeng/miniconda3/envs/Perovskite_ML_Environment/lib/python3.10/site-packages/torch/jit/_check.py:181: UserWarning: The TorchScript type system doesn't support instance-level annotations on empty non-base types in `__init__`. Instead, either 1) use a type annotation in the class body, or 2) wrap the type in `torch.jit.Attribute`.\n",
      "  warnings.warn(\"The TorchScript type system doesn't support \"\n",
      "/home/jypeng/miniconda3/envs/Perovskite_ML_Environment/lib/python3.10/site-packages/torch/jit/_check.py:181: UserWarning: The TorchScript type system doesn't support instance-level annotations on empty non-base types in `__init__`. Instead, either 1) use a type annotation in the class body, or 2) wrap the type in `torch.jit.Attribute`.\n",
      "  warnings.warn(\"The TorchScript type system doesn't support \"\n",
      "/home/jypeng/miniconda3/envs/Perovskite_ML_Environment/lib/python3.10/site-packages/torch/jit/_check.py:181: UserWarning: The TorchScript type system doesn't support instance-level annotations on empty non-base types in `__init__`. Instead, either 1) use a type annotation in the class body, or 2) wrap the type in `torch.jit.Attribute`.\n",
      "  warnings.warn(\"The TorchScript type system doesn't support \"\n"
     ]
    },
    {
     "name": "stdout",
     "output_type": "stream",
     "text": [
      "Completed model prediction for holdout_set_series\n"
     ]
    }
   ],
   "source": [
    "gpu_num=1\n",
    "target_prop=\"dft_e_hull\"\n",
    "\n",
    "model_params = {\n",
    "    \"model_type\": \"e3nn\",\n",
    "    \"interpolation\": False,\n",
    "    \"struct_type\": \"unrelaxed\",\n",
    "}\n",
    "\n",
    "get_all_model_predictions(model_params, gpu_num, target_prop)"
   ]
  },
  {
   "cell_type": "code",
   "execution_count": 7,
   "metadata": {},
   "outputs": [
    {
     "name": "stdout",
     "output_type": "stream",
     "text": [
      "Loaded data\n",
      "Completed data processing\n"
     ]
    },
    {
     "name": "stderr",
     "output_type": "stream",
     "text": [
      "100%|██████████████████████████████████████████████████████| 5064/5064 [00:01<00:00, 3508.24it/s]\n",
      "100%|████████████████████████████████████████████████████████| 5064/5064 [02:38<00:00, 31.91it/s]\n",
      "100%|██████████████████████████████████████████████████████| 1150/1150 [00:00<00:00, 3363.70it/s]\n",
      "100%|████████████████████████████████████████████████████████| 1150/1150 [00:37<00:00, 31.00it/s]\n",
      "/home/jypeng/miniconda3/envs/Perovskite_ML_Environment/lib/python3.10/site-packages/torch/jit/_check.py:181: UserWarning: The TorchScript type system doesn't support instance-level annotations on empty non-base types in `__init__`. Instead, either 1) use a type annotation in the class body, or 2) wrap the type in `torch.jit.Attribute`.\n",
      "  warnings.warn(\"The TorchScript type system doesn't support \"\n",
      "/home/jypeng/miniconda3/envs/Perovskite_ML_Environment/lib/python3.10/site-packages/torch/jit/_check.py:181: UserWarning: The TorchScript type system doesn't support instance-level annotations on empty non-base types in `__init__`. Instead, either 1) use a type annotation in the class body, or 2) wrap the type in `torch.jit.Attribute`.\n",
      "  warnings.warn(\"The TorchScript type system doesn't support \"\n",
      "/home/jypeng/miniconda3/envs/Perovskite_ML_Environment/lib/python3.10/site-packages/torch/jit/_check.py:181: UserWarning: The TorchScript type system doesn't support instance-level annotations on empty non-base types in `__init__`. Instead, either 1) use a type annotation in the class body, or 2) wrap the type in `torch.jit.Attribute`.\n",
      "  warnings.warn(\"The TorchScript type system doesn't support \"\n"
     ]
    },
    {
     "name": "stdout",
     "output_type": "stream",
     "text": [
      "Completed model prediction for test_set\n",
      "Loaded data\n",
      "Completed data processing\n"
     ]
    },
    {
     "name": "stderr",
     "output_type": "stream",
     "text": [
      "100%|██████████████████████████████████████████████████████| 5064/5064 [00:01<00:00, 3436.97it/s]\n",
      "100%|████████████████████████████████████████████████████████| 5064/5064 [02:33<00:00, 32.93it/s]\n",
      "100%|████████████████████████████████████████████████████████| 600/600 [00:00<00:00, 3462.59it/s]\n",
      "100%|██████████████████████████████████████████████████████████| 600/600 [00:18<00:00, 32.41it/s]\n",
      "/home/jypeng/miniconda3/envs/Perovskite_ML_Environment/lib/python3.10/site-packages/torch/jit/_check.py:181: UserWarning: The TorchScript type system doesn't support instance-level annotations on empty non-base types in `__init__`. Instead, either 1) use a type annotation in the class body, or 2) wrap the type in `torch.jit.Attribute`.\n",
      "  warnings.warn(\"The TorchScript type system doesn't support \"\n",
      "/home/jypeng/miniconda3/envs/Perovskite_ML_Environment/lib/python3.10/site-packages/torch/jit/_check.py:181: UserWarning: The TorchScript type system doesn't support instance-level annotations on empty non-base types in `__init__`. Instead, either 1) use a type annotation in the class body, or 2) wrap the type in `torch.jit.Attribute`.\n",
      "  warnings.warn(\"The TorchScript type system doesn't support \"\n",
      "/home/jypeng/miniconda3/envs/Perovskite_ML_Environment/lib/python3.10/site-packages/torch/jit/_check.py:181: UserWarning: The TorchScript type system doesn't support instance-level annotations on empty non-base types in `__init__`. Instead, either 1) use a type annotation in the class body, or 2) wrap the type in `torch.jit.Attribute`.\n",
      "  warnings.warn(\"The TorchScript type system doesn't support \"\n"
     ]
    },
    {
     "name": "stdout",
     "output_type": "stream",
     "text": [
      "Completed model prediction for holdout_set_B_sites\n",
      "Loaded data\n",
      "Completed data processing\n"
     ]
    },
    {
     "name": "stderr",
     "output_type": "stream",
     "text": [
      "100%|██████████████████████████████████████████████████████| 5064/5064 [00:01<00:00, 3490.62it/s]\n",
      "100%|████████████████████████████████████████████████████████| 5064/5064 [02:34<00:00, 32.79it/s]\n",
      "100%|████████████████████████████████████████████████████████| 571/571 [00:00<00:00, 3404.56it/s]\n",
      "100%|██████████████████████████████████████████████████████████| 571/571 [00:17<00:00, 31.87it/s]\n",
      "/home/jypeng/miniconda3/envs/Perovskite_ML_Environment/lib/python3.10/site-packages/torch/jit/_check.py:181: UserWarning: The TorchScript type system doesn't support instance-level annotations on empty non-base types in `__init__`. Instead, either 1) use a type annotation in the class body, or 2) wrap the type in `torch.jit.Attribute`.\n",
      "  warnings.warn(\"The TorchScript type system doesn't support \"\n",
      "/home/jypeng/miniconda3/envs/Perovskite_ML_Environment/lib/python3.10/site-packages/torch/jit/_check.py:181: UserWarning: The TorchScript type system doesn't support instance-level annotations on empty non-base types in `__init__`. Instead, either 1) use a type annotation in the class body, or 2) wrap the type in `torch.jit.Attribute`.\n",
      "  warnings.warn(\"The TorchScript type system doesn't support \"\n",
      "/home/jypeng/miniconda3/envs/Perovskite_ML_Environment/lib/python3.10/site-packages/torch/jit/_check.py:181: UserWarning: The TorchScript type system doesn't support instance-level annotations on empty non-base types in `__init__`. Instead, either 1) use a type annotation in the class body, or 2) wrap the type in `torch.jit.Attribute`.\n",
      "  warnings.warn(\"The TorchScript type system doesn't support \"\n"
     ]
    },
    {
     "name": "stdout",
     "output_type": "stream",
     "text": [
      "Completed model prediction for holdout_set_series\n"
     ]
    }
   ],
   "source": [
    "gpu_num=1\n",
    "target_prop=\"dft_e_hull\"\n",
    "\n",
    "model_params = {\n",
    "    \"model_type\": \"e3nn\",\n",
    "    \"interpolation\": False,\n",
    "    \"struct_type\": \"relaxed\",\n",
    "}\n",
    "\n",
    "get_all_model_predictions(model_params, gpu_num, target_prop)"
   ]
  },
  {
   "cell_type": "code",
   "execution_count": 9,
   "metadata": {},
   "outputs": [
    {
     "name": "stdout",
     "output_type": "stream",
     "text": [
      "Loaded data\n",
      "Completed data processing\n"
     ]
    },
    {
     "name": "stderr",
     "output_type": "stream",
     "text": [
      "100%|██████████████████████████████████████████████████████| 5064/5064 [00:01<00:00, 4025.95it/s]\n",
      "100%|████████████████████████████████████████████████████████| 5064/5064 [02:31<00:00, 33.50it/s]\n",
      "100%|██████████████████████████████████████████████████████| 1150/1150 [00:00<00:00, 3949.90it/s]\n",
      "100%|████████████████████████████████████████████████████████| 1150/1150 [00:34<00:00, 33.06it/s]\n",
      "/home/jypeng/miniconda3/envs/Perovskite_ML_Environment/lib/python3.10/site-packages/torch/jit/_check.py:181: UserWarning: The TorchScript type system doesn't support instance-level annotations on empty non-base types in `__init__`. Instead, either 1) use a type annotation in the class body, or 2) wrap the type in `torch.jit.Attribute`.\n",
      "  warnings.warn(\"The TorchScript type system doesn't support \"\n",
      "/home/jypeng/miniconda3/envs/Perovskite_ML_Environment/lib/python3.10/site-packages/torch/jit/_check.py:181: UserWarning: The TorchScript type system doesn't support instance-level annotations on empty non-base types in `__init__`. Instead, either 1) use a type annotation in the class body, or 2) wrap the type in `torch.jit.Attribute`.\n",
      "  warnings.warn(\"The TorchScript type system doesn't support \"\n",
      "/home/jypeng/miniconda3/envs/Perovskite_ML_Environment/lib/python3.10/site-packages/torch/jit/_check.py:181: UserWarning: The TorchScript type system doesn't support instance-level annotations on empty non-base types in `__init__`. Instead, either 1) use a type annotation in the class body, or 2) wrap the type in `torch.jit.Attribute`.\n",
      "  warnings.warn(\"The TorchScript type system doesn't support \"\n"
     ]
    },
    {
     "name": "stdout",
     "output_type": "stream",
     "text": [
      "Completed model prediction for test_set\n",
      "Loaded data\n",
      "Completed data processing\n"
     ]
    },
    {
     "name": "stderr",
     "output_type": "stream",
     "text": [
      "100%|██████████████████████████████████████████████████████| 5064/5064 [00:01<00:00, 3953.86it/s]\n",
      "100%|████████████████████████████████████████████████████████| 5064/5064 [02:33<00:00, 33.07it/s]\n",
      "100%|████████████████████████████████████████████████████████| 600/600 [00:00<00:00, 3898.47it/s]\n",
      "100%|██████████████████████████████████████████████████████████| 600/600 [00:18<00:00, 32.32it/s]\n",
      "/home/jypeng/miniconda3/envs/Perovskite_ML_Environment/lib/python3.10/site-packages/torch/jit/_check.py:181: UserWarning: The TorchScript type system doesn't support instance-level annotations on empty non-base types in `__init__`. Instead, either 1) use a type annotation in the class body, or 2) wrap the type in `torch.jit.Attribute`.\n",
      "  warnings.warn(\"The TorchScript type system doesn't support \"\n",
      "/home/jypeng/miniconda3/envs/Perovskite_ML_Environment/lib/python3.10/site-packages/torch/jit/_check.py:181: UserWarning: The TorchScript type system doesn't support instance-level annotations on empty non-base types in `__init__`. Instead, either 1) use a type annotation in the class body, or 2) wrap the type in `torch.jit.Attribute`.\n",
      "  warnings.warn(\"The TorchScript type system doesn't support \"\n",
      "/home/jypeng/miniconda3/envs/Perovskite_ML_Environment/lib/python3.10/site-packages/torch/jit/_check.py:181: UserWarning: The TorchScript type system doesn't support instance-level annotations on empty non-base types in `__init__`. Instead, either 1) use a type annotation in the class body, or 2) wrap the type in `torch.jit.Attribute`.\n",
      "  warnings.warn(\"The TorchScript type system doesn't support \"\n"
     ]
    },
    {
     "name": "stdout",
     "output_type": "stream",
     "text": [
      "Completed model prediction for holdout_set_B_sites\n",
      "Loaded data\n",
      "Completed data processing\n"
     ]
    },
    {
     "name": "stderr",
     "output_type": "stream",
     "text": [
      "100%|██████████████████████████████████████████████████████| 5064/5064 [00:01<00:00, 3978.41it/s]\n",
      "100%|████████████████████████████████████████████████████████| 5064/5064 [02:35<00:00, 32.62it/s]\n",
      "100%|████████████████████████████████████████████████████████| 571/571 [00:00<00:00, 3891.59it/s]\n",
      "100%|██████████████████████████████████████████████████████████| 571/571 [00:17<00:00, 32.70it/s]\n",
      "/home/jypeng/miniconda3/envs/Perovskite_ML_Environment/lib/python3.10/site-packages/torch/jit/_check.py:181: UserWarning: The TorchScript type system doesn't support instance-level annotations on empty non-base types in `__init__`. Instead, either 1) use a type annotation in the class body, or 2) wrap the type in `torch.jit.Attribute`.\n",
      "  warnings.warn(\"The TorchScript type system doesn't support \"\n",
      "/home/jypeng/miniconda3/envs/Perovskite_ML_Environment/lib/python3.10/site-packages/torch/jit/_check.py:181: UserWarning: The TorchScript type system doesn't support instance-level annotations on empty non-base types in `__init__`. Instead, either 1) use a type annotation in the class body, or 2) wrap the type in `torch.jit.Attribute`.\n",
      "  warnings.warn(\"The TorchScript type system doesn't support \"\n",
      "/home/jypeng/miniconda3/envs/Perovskite_ML_Environment/lib/python3.10/site-packages/torch/jit/_check.py:181: UserWarning: The TorchScript type system doesn't support instance-level annotations on empty non-base types in `__init__`. Instead, either 1) use a type annotation in the class body, or 2) wrap the type in `torch.jit.Attribute`.\n",
      "  warnings.warn(\"The TorchScript type system doesn't support \"\n"
     ]
    },
    {
     "name": "stdout",
     "output_type": "stream",
     "text": [
      "Completed model prediction for holdout_set_series\n"
     ]
    }
   ],
   "source": [
    "gpu_num=1\n",
    "target_prop=\"dft_e_hull\"\n",
    "\n",
    "model_params = {\n",
    "    \"model_type\": \"e3nn\",\n",
    "    \"interpolation\": False,\n",
    "    \"struct_type\": \"M3Gnet_relaxed\",\n",
    "}\n",
    "\n",
    "get_all_model_predictions(model_params, gpu_num, target_prop)"
   ]
  },
  {
   "cell_type": "code",
   "execution_count": 10,
   "metadata": {},
   "outputs": [
    {
     "name": "stdout",
     "output_type": "stream",
     "text": [
      "Loaded data\n",
      "Completed data processing\n"
     ]
    },
    {
     "name": "stderr",
     "output_type": "stream",
     "text": [
      "100%|██████████████████████████████████████████████████████| 5064/5064 [00:01<00:00, 3964.26it/s]\n",
      "100%|████████████████████████████████████████████████████████| 5064/5064 [02:44<00:00, 30.69it/s]\n",
      "100%|██████████████████████████████████████████████████████| 1150/1150 [00:00<00:00, 3862.53it/s]\n",
      "100%|████████████████████████████████████████████████████████| 1150/1150 [00:36<00:00, 31.14it/s]\n",
      "/home/jypeng/miniconda3/envs/Perovskite_ML_Environment/lib/python3.10/site-packages/torch/jit/_check.py:181: UserWarning: The TorchScript type system doesn't support instance-level annotations on empty non-base types in `__init__`. Instead, either 1) use a type annotation in the class body, or 2) wrap the type in `torch.jit.Attribute`.\n",
      "  warnings.warn(\"The TorchScript type system doesn't support \"\n",
      "/home/jypeng/miniconda3/envs/Perovskite_ML_Environment/lib/python3.10/site-packages/torch/jit/_check.py:181: UserWarning: The TorchScript type system doesn't support instance-level annotations on empty non-base types in `__init__`. Instead, either 1) use a type annotation in the class body, or 2) wrap the type in `torch.jit.Attribute`.\n",
      "  warnings.warn(\"The TorchScript type system doesn't support \"\n",
      "/home/jypeng/miniconda3/envs/Perovskite_ML_Environment/lib/python3.10/site-packages/torch/jit/_check.py:181: UserWarning: The TorchScript type system doesn't support instance-level annotations on empty non-base types in `__init__`. Instead, either 1) use a type annotation in the class body, or 2) wrap the type in `torch.jit.Attribute`.\n",
      "  warnings.warn(\"The TorchScript type system doesn't support \"\n"
     ]
    },
    {
     "name": "stdout",
     "output_type": "stream",
     "text": [
      "Completed model prediction for test_set\n",
      "Loaded data\n",
      "Completed data processing\n"
     ]
    },
    {
     "name": "stderr",
     "output_type": "stream",
     "text": [
      "100%|██████████████████████████████████████████████████████| 5064/5064 [00:01<00:00, 3993.78it/s]\n",
      "100%|████████████████████████████████████████████████████████| 5064/5064 [02:37<00:00, 32.21it/s]\n",
      "100%|████████████████████████████████████████████████████████| 600/600 [00:00<00:00, 3762.44it/s]\n",
      "100%|██████████████████████████████████████████████████████████| 600/600 [00:18<00:00, 32.37it/s]\n",
      "/home/jypeng/miniconda3/envs/Perovskite_ML_Environment/lib/python3.10/site-packages/torch/jit/_check.py:181: UserWarning: The TorchScript type system doesn't support instance-level annotations on empty non-base types in `__init__`. Instead, either 1) use a type annotation in the class body, or 2) wrap the type in `torch.jit.Attribute`.\n",
      "  warnings.warn(\"The TorchScript type system doesn't support \"\n",
      "/home/jypeng/miniconda3/envs/Perovskite_ML_Environment/lib/python3.10/site-packages/torch/jit/_check.py:181: UserWarning: The TorchScript type system doesn't support instance-level annotations on empty non-base types in `__init__`. Instead, either 1) use a type annotation in the class body, or 2) wrap the type in `torch.jit.Attribute`.\n",
      "  warnings.warn(\"The TorchScript type system doesn't support \"\n",
      "/home/jypeng/miniconda3/envs/Perovskite_ML_Environment/lib/python3.10/site-packages/torch/jit/_check.py:181: UserWarning: The TorchScript type system doesn't support instance-level annotations on empty non-base types in `__init__`. Instead, either 1) use a type annotation in the class body, or 2) wrap the type in `torch.jit.Attribute`.\n",
      "  warnings.warn(\"The TorchScript type system doesn't support \"\n"
     ]
    },
    {
     "name": "stdout",
     "output_type": "stream",
     "text": [
      "Completed model prediction for holdout_set_B_sites\n",
      "Loaded data\n",
      "Completed data processing\n"
     ]
    },
    {
     "name": "stderr",
     "output_type": "stream",
     "text": [
      "100%|██████████████████████████████████████████████████████| 5064/5064 [00:01<00:00, 3930.50it/s]\n",
      "100%|████████████████████████████████████████████████████████| 5064/5064 [02:35<00:00, 32.55it/s]\n",
      "100%|████████████████████████████████████████████████████████| 571/571 [00:00<00:00, 3826.56it/s]\n",
      "100%|██████████████████████████████████████████████████████████| 571/571 [00:17<00:00, 32.98it/s]\n",
      "/home/jypeng/miniconda3/envs/Perovskite_ML_Environment/lib/python3.10/site-packages/torch/jit/_check.py:181: UserWarning: The TorchScript type system doesn't support instance-level annotations on empty non-base types in `__init__`. Instead, either 1) use a type annotation in the class body, or 2) wrap the type in `torch.jit.Attribute`.\n",
      "  warnings.warn(\"The TorchScript type system doesn't support \"\n",
      "/home/jypeng/miniconda3/envs/Perovskite_ML_Environment/lib/python3.10/site-packages/torch/jit/_check.py:181: UserWarning: The TorchScript type system doesn't support instance-level annotations on empty non-base types in `__init__`. Instead, either 1) use a type annotation in the class body, or 2) wrap the type in `torch.jit.Attribute`.\n",
      "  warnings.warn(\"The TorchScript type system doesn't support \"\n",
      "/home/jypeng/miniconda3/envs/Perovskite_ML_Environment/lib/python3.10/site-packages/torch/jit/_check.py:181: UserWarning: The TorchScript type system doesn't support instance-level annotations on empty non-base types in `__init__`. Instead, either 1) use a type annotation in the class body, or 2) wrap the type in `torch.jit.Attribute`.\n",
      "  warnings.warn(\"The TorchScript type system doesn't support \"\n"
     ]
    },
    {
     "name": "stdout",
     "output_type": "stream",
     "text": [
      "Completed model prediction for holdout_set_series\n"
     ]
    }
   ],
   "source": [
    "gpu_num=1\n",
    "target_prop=\"Op_band_center\"\n",
    "\n",
    "model_params = {\n",
    "    \"model_type\": \"e3nn\",\n",
    "    \"interpolation\": False,\n",
    "    \"struct_type\": \"unrelaxed\",\n",
    "}\n",
    "\n",
    "get_all_model_predictions(model_params, gpu_num, target_prop)"
   ]
  },
  {
   "cell_type": "code",
   "execution_count": 11,
   "metadata": {},
   "outputs": [
    {
     "name": "stdout",
     "output_type": "stream",
     "text": [
      "Loaded data\n",
      "Completed data processing\n"
     ]
    },
    {
     "name": "stderr",
     "output_type": "stream",
     "text": [
      "100%|██████████████████████████████████████████████████████| 5064/5064 [00:01<00:00, 3434.83it/s]\n",
      "100%|████████████████████████████████████████████████████████| 5064/5064 [02:36<00:00, 32.28it/s]\n",
      "100%|██████████████████████████████████████████████████████| 1150/1150 [00:00<00:00, 3460.23it/s]\n",
      "100%|████████████████████████████████████████████████████████| 1150/1150 [00:35<00:00, 32.63it/s]\n",
      "/home/jypeng/miniconda3/envs/Perovskite_ML_Environment/lib/python3.10/site-packages/torch/jit/_check.py:181: UserWarning: The TorchScript type system doesn't support instance-level annotations on empty non-base types in `__init__`. Instead, either 1) use a type annotation in the class body, or 2) wrap the type in `torch.jit.Attribute`.\n",
      "  warnings.warn(\"The TorchScript type system doesn't support \"\n",
      "/home/jypeng/miniconda3/envs/Perovskite_ML_Environment/lib/python3.10/site-packages/torch/jit/_check.py:181: UserWarning: The TorchScript type system doesn't support instance-level annotations on empty non-base types in `__init__`. Instead, either 1) use a type annotation in the class body, or 2) wrap the type in `torch.jit.Attribute`.\n",
      "  warnings.warn(\"The TorchScript type system doesn't support \"\n",
      "/home/jypeng/miniconda3/envs/Perovskite_ML_Environment/lib/python3.10/site-packages/torch/jit/_check.py:181: UserWarning: The TorchScript type system doesn't support instance-level annotations on empty non-base types in `__init__`. Instead, either 1) use a type annotation in the class body, or 2) wrap the type in `torch.jit.Attribute`.\n",
      "  warnings.warn(\"The TorchScript type system doesn't support \"\n"
     ]
    },
    {
     "name": "stdout",
     "output_type": "stream",
     "text": [
      "Completed model prediction for test_set\n",
      "Loaded data\n",
      "Completed data processing\n"
     ]
    },
    {
     "name": "stderr",
     "output_type": "stream",
     "text": [
      "100%|██████████████████████████████████████████████████████| 5064/5064 [00:01<00:00, 3479.00it/s]\n",
      "100%|████████████████████████████████████████████████████████| 5064/5064 [02:32<00:00, 33.15it/s]\n",
      "100%|████████████████████████████████████████████████████████| 600/600 [00:00<00:00, 3385.49it/s]\n",
      "100%|██████████████████████████████████████████████████████████| 600/600 [00:18<00:00, 32.48it/s]\n",
      "/home/jypeng/miniconda3/envs/Perovskite_ML_Environment/lib/python3.10/site-packages/torch/jit/_check.py:181: UserWarning: The TorchScript type system doesn't support instance-level annotations on empty non-base types in `__init__`. Instead, either 1) use a type annotation in the class body, or 2) wrap the type in `torch.jit.Attribute`.\n",
      "  warnings.warn(\"The TorchScript type system doesn't support \"\n",
      "/home/jypeng/miniconda3/envs/Perovskite_ML_Environment/lib/python3.10/site-packages/torch/jit/_check.py:181: UserWarning: The TorchScript type system doesn't support instance-level annotations on empty non-base types in `__init__`. Instead, either 1) use a type annotation in the class body, or 2) wrap the type in `torch.jit.Attribute`.\n",
      "  warnings.warn(\"The TorchScript type system doesn't support \"\n",
      "/home/jypeng/miniconda3/envs/Perovskite_ML_Environment/lib/python3.10/site-packages/torch/jit/_check.py:181: UserWarning: The TorchScript type system doesn't support instance-level annotations on empty non-base types in `__init__`. Instead, either 1) use a type annotation in the class body, or 2) wrap the type in `torch.jit.Attribute`.\n",
      "  warnings.warn(\"The TorchScript type system doesn't support \"\n"
     ]
    },
    {
     "name": "stdout",
     "output_type": "stream",
     "text": [
      "Completed model prediction for holdout_set_B_sites\n",
      "Loaded data\n",
      "Completed data processing\n"
     ]
    },
    {
     "name": "stderr",
     "output_type": "stream",
     "text": [
      "100%|██████████████████████████████████████████████████████| 5064/5064 [00:01<00:00, 3486.80it/s]\n",
      "100%|████████████████████████████████████████████████████████| 5064/5064 [02:33<00:00, 33.10it/s]\n",
      "100%|████████████████████████████████████████████████████████| 571/571 [00:00<00:00, 3358.63it/s]\n",
      "100%|██████████████████████████████████████████████████████████| 571/571 [00:17<00:00, 32.10it/s]\n",
      "/home/jypeng/miniconda3/envs/Perovskite_ML_Environment/lib/python3.10/site-packages/torch/jit/_check.py:181: UserWarning: The TorchScript type system doesn't support instance-level annotations on empty non-base types in `__init__`. Instead, either 1) use a type annotation in the class body, or 2) wrap the type in `torch.jit.Attribute`.\n",
      "  warnings.warn(\"The TorchScript type system doesn't support \"\n",
      "/home/jypeng/miniconda3/envs/Perovskite_ML_Environment/lib/python3.10/site-packages/torch/jit/_check.py:181: UserWarning: The TorchScript type system doesn't support instance-level annotations on empty non-base types in `__init__`. Instead, either 1) use a type annotation in the class body, or 2) wrap the type in `torch.jit.Attribute`.\n",
      "  warnings.warn(\"The TorchScript type system doesn't support \"\n",
      "/home/jypeng/miniconda3/envs/Perovskite_ML_Environment/lib/python3.10/site-packages/torch/jit/_check.py:181: UserWarning: The TorchScript type system doesn't support instance-level annotations on empty non-base types in `__init__`. Instead, either 1) use a type annotation in the class body, or 2) wrap the type in `torch.jit.Attribute`.\n",
      "  warnings.warn(\"The TorchScript type system doesn't support \"\n"
     ]
    },
    {
     "name": "stdout",
     "output_type": "stream",
     "text": [
      "Completed model prediction for holdout_set_series\n"
     ]
    }
   ],
   "source": [
    "gpu_num=2\n",
    "target_prop=\"Op_band_center\"\n",
    "\n",
    "model_params = {\n",
    "    \"model_type\": \"e3nn\",\n",
    "    \"interpolation\": False,\n",
    "    \"struct_type\": \"relaxed\",\n",
    "}\n",
    "\n",
    "get_all_model_predictions(model_params, gpu_num, target_prop)"
   ]
  },
  {
   "cell_type": "code",
   "execution_count": 12,
   "metadata": {},
   "outputs": [
    {
     "name": "stdout",
     "output_type": "stream",
     "text": [
      "Loaded data\n",
      "Completed data processing\n"
     ]
    },
    {
     "name": "stderr",
     "output_type": "stream",
     "text": [
      "100%|██████████████████████████████████████████████████████| 5064/5064 [00:01<00:00, 3981.69it/s]\n",
      "100%|████████████████████████████████████████████████████████| 5064/5064 [02:32<00:00, 33.21it/s]\n",
      "100%|██████████████████████████████████████████████████████| 1150/1150 [00:00<00:00, 3902.71it/s]\n",
      "100%|████████████████████████████████████████████████████████| 1150/1150 [00:34<00:00, 33.26it/s]\n",
      "/home/jypeng/miniconda3/envs/Perovskite_ML_Environment/lib/python3.10/site-packages/torch/jit/_check.py:181: UserWarning: The TorchScript type system doesn't support instance-level annotations on empty non-base types in `__init__`. Instead, either 1) use a type annotation in the class body, or 2) wrap the type in `torch.jit.Attribute`.\n",
      "  warnings.warn(\"The TorchScript type system doesn't support \"\n",
      "/home/jypeng/miniconda3/envs/Perovskite_ML_Environment/lib/python3.10/site-packages/torch/jit/_check.py:181: UserWarning: The TorchScript type system doesn't support instance-level annotations on empty non-base types in `__init__`. Instead, either 1) use a type annotation in the class body, or 2) wrap the type in `torch.jit.Attribute`.\n",
      "  warnings.warn(\"The TorchScript type system doesn't support \"\n",
      "/home/jypeng/miniconda3/envs/Perovskite_ML_Environment/lib/python3.10/site-packages/torch/jit/_check.py:181: UserWarning: The TorchScript type system doesn't support instance-level annotations on empty non-base types in `__init__`. Instead, either 1) use a type annotation in the class body, or 2) wrap the type in `torch.jit.Attribute`.\n",
      "  warnings.warn(\"The TorchScript type system doesn't support \"\n"
     ]
    },
    {
     "name": "stdout",
     "output_type": "stream",
     "text": [
      "Completed model prediction for test_set\n",
      "Loaded data\n",
      "Completed data processing\n"
     ]
    },
    {
     "name": "stderr",
     "output_type": "stream",
     "text": [
      "100%|██████████████████████████████████████████████████████| 5064/5064 [00:01<00:00, 3964.56it/s]\n",
      "100%|████████████████████████████████████████████████████████| 5064/5064 [02:31<00:00, 33.38it/s]\n",
      "100%|████████████████████████████████████████████████████████| 600/600 [00:00<00:00, 3795.05it/s]\n",
      "100%|██████████████████████████████████████████████████████████| 600/600 [00:18<00:00, 33.23it/s]\n",
      "/home/jypeng/miniconda3/envs/Perovskite_ML_Environment/lib/python3.10/site-packages/torch/jit/_check.py:181: UserWarning: The TorchScript type system doesn't support instance-level annotations on empty non-base types in `__init__`. Instead, either 1) use a type annotation in the class body, or 2) wrap the type in `torch.jit.Attribute`.\n",
      "  warnings.warn(\"The TorchScript type system doesn't support \"\n",
      "/home/jypeng/miniconda3/envs/Perovskite_ML_Environment/lib/python3.10/site-packages/torch/jit/_check.py:181: UserWarning: The TorchScript type system doesn't support instance-level annotations on empty non-base types in `__init__`. Instead, either 1) use a type annotation in the class body, or 2) wrap the type in `torch.jit.Attribute`.\n",
      "  warnings.warn(\"The TorchScript type system doesn't support \"\n",
      "/home/jypeng/miniconda3/envs/Perovskite_ML_Environment/lib/python3.10/site-packages/torch/jit/_check.py:181: UserWarning: The TorchScript type system doesn't support instance-level annotations on empty non-base types in `__init__`. Instead, either 1) use a type annotation in the class body, or 2) wrap the type in `torch.jit.Attribute`.\n",
      "  warnings.warn(\"The TorchScript type system doesn't support \"\n"
     ]
    },
    {
     "name": "stdout",
     "output_type": "stream",
     "text": [
      "Completed model prediction for holdout_set_B_sites\n",
      "Loaded data\n",
      "Completed data processing\n"
     ]
    },
    {
     "name": "stderr",
     "output_type": "stream",
     "text": [
      "100%|██████████████████████████████████████████████████████| 5064/5064 [00:01<00:00, 3958.68it/s]\n",
      "100%|████████████████████████████████████████████████████████| 5064/5064 [02:33<00:00, 32.90it/s]\n",
      "100%|████████████████████████████████████████████████████████| 571/571 [00:00<00:00, 3840.45it/s]\n",
      "100%|██████████████████████████████████████████████████████████| 571/571 [00:17<00:00, 33.00it/s]\n",
      "/home/jypeng/miniconda3/envs/Perovskite_ML_Environment/lib/python3.10/site-packages/torch/jit/_check.py:181: UserWarning: The TorchScript type system doesn't support instance-level annotations on empty non-base types in `__init__`. Instead, either 1) use a type annotation in the class body, or 2) wrap the type in `torch.jit.Attribute`.\n",
      "  warnings.warn(\"The TorchScript type system doesn't support \"\n",
      "/home/jypeng/miniconda3/envs/Perovskite_ML_Environment/lib/python3.10/site-packages/torch/jit/_check.py:181: UserWarning: The TorchScript type system doesn't support instance-level annotations on empty non-base types in `__init__`. Instead, either 1) use a type annotation in the class body, or 2) wrap the type in `torch.jit.Attribute`.\n",
      "  warnings.warn(\"The TorchScript type system doesn't support \"\n",
      "/home/jypeng/miniconda3/envs/Perovskite_ML_Environment/lib/python3.10/site-packages/torch/jit/_check.py:181: UserWarning: The TorchScript type system doesn't support instance-level annotations on empty non-base types in `__init__`. Instead, either 1) use a type annotation in the class body, or 2) wrap the type in `torch.jit.Attribute`.\n",
      "  warnings.warn(\"The TorchScript type system doesn't support \"\n"
     ]
    },
    {
     "name": "stdout",
     "output_type": "stream",
     "text": [
      "Completed model prediction for holdout_set_series\n"
     ]
    }
   ],
   "source": [
    "gpu_num=1\n",
    "target_prop=\"Op_band_center\"\n",
    "\n",
    "model_params = {\n",
    "    \"model_type\": \"e3nn\",\n",
    "    \"interpolation\": False,\n",
    "    \"struct_type\": \"M3Gnet_relaxed\",\n",
    "}\n",
    "\n",
    "get_all_model_predictions(model_params, gpu_num, target_prop)"
   ]
  },
  {
   "cell_type": "code",
   "execution_count": null,
   "metadata": {},
   "outputs": [],
   "source": []
  },
  {
   "cell_type": "code",
   "execution_count": null,
   "metadata": {},
   "outputs": [],
   "source": []
  },
  {
   "cell_type": "code",
   "execution_count": null,
   "metadata": {},
   "outputs": [],
   "source": []
  },
  {
   "cell_type": "code",
   "execution_count": null,
   "metadata": {},
   "outputs": [],
   "source": []
  }
 ],
 "metadata": {
  "kernelspec": {
   "display_name": "Perovskite_ML_Environment",
   "language": "python",
   "name": "perovskite_ml_environment"
  },
  "language_info": {
   "codemirror_mode": {
    "name": "ipython",
    "version": 3
   },
   "file_extension": ".py",
   "mimetype": "text/x-python",
   "name": "python",
   "nbconvert_exporter": "python",
   "pygments_lexer": "ipython3",
   "version": "3.10.11"
  }
 },
 "nbformat": 4,
 "nbformat_minor": 2
}
