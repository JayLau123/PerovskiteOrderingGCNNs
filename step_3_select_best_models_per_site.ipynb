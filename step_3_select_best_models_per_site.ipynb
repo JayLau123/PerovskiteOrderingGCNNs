{
 "cells": [
  {
   "cell_type": "code",
   "execution_count": 1,
   "id": "22f00ae4",
   "metadata": {},
   "outputs": [
    {
     "name": "stderr",
     "output_type": "stream",
     "text": [
      "/home/jypeng/miniconda3/envs/Perovskite_ML_Environment/lib/python3.10/site-packages/tqdm/auto.py:21: TqdmWarning: IProgress not found. Please update jupyter and ipywidgets. See https://ipywidgets.readthedocs.io/en/stable/user_install.html\n",
      "  from .autonotebook import tqdm as notebook_tqdm\n"
     ]
    }
   ],
   "source": [
    "from inference.select_best_models import *\n",
    "# tar cf best_models.tar best_models\n",
    "# tar cf saved_models.tar saved_models"
   ]
  },
  {
   "cell_type": "code",
   "execution_count": null,
   "id": "f19fb3da",
   "metadata": {},
   "outputs": [
    {
     "name": "stdout",
     "output_type": "stream",
     "text": [
      "Loaded data\n",
      "Completed data processing\n"
     ]
    },
    {
     "name": "stderr",
     "output_type": "stream",
     "text": [
      "100%|██████████| 6276/6276 [00:02<00:00, 2208.93it/s]\n",
      " 49%|████▊     | 3058/6276 [31:32<35:02,  1.53it/s]  "
     ]
    }
   ],
   "source": [
    "gpu_num=0\n",
    "target_prop=\"per_site_p_band\"\n",
    "\n",
    "model_params = {\n",
    "    \"data\":\"data_per_site/\",\n",
    "    \"struct_type\": \"unrelaxed\",\n",
    "    \"interpolation\": False,\n",
    "    \"model_type\": \"e3nn\",\n",
    "    \"contrastive_weight\":1.0,\n",
    "    \"training_fraction\":1.0,\n",
    "    \"long_range\":False,\n",
    "}\n",
    "\n",
    "reverify_sigopt_models(model_params, gpu_num, target_prop)\n",
    "keep_the_best_few_models(model_params, target_prop)"
   ]
  },
  {
   "cell_type": "code",
   "execution_count": null,
   "id": "cbb5b72d",
   "metadata": {},
   "outputs": [],
   "source": [
    "gpu_num=0\n",
    "target_prop=\"per_site_p_band\"\n",
    "\n",
    "model_params = {\n",
    "    \"data\":\"data_per_site/\",\n",
    "    \"struct_type\": \"unrelaxed\",\n",
    "    \"interpolation\": False,\n",
    "    \"model_type\": \"CGCNN\",\n",
    "    \"contrastive_weight\":1.0,\n",
    "    \"training_fraction\":1.0,\n",
    "    \"long_range\":False,\n",
    "}\n",
    "\n",
    "reverify_sigopt_models(model_params, gpu_num, target_prop)\n",
    "keep_the_best_few_models(model_params, target_prop)"
   ]
  },
  {
   "cell_type": "code",
   "execution_count": null,
   "id": "12687128",
   "metadata": {},
   "outputs": [],
   "source": []
  }
 ],
 "metadata": {
  "kernelspec": {
   "display_name": "Perovskite_ML_Environment",
   "language": "python",
   "name": "perovskite_ml_environment"
  },
  "language_info": {
   "codemirror_mode": {
    "name": "ipython",
    "version": 3
   },
   "file_extension": ".py",
   "mimetype": "text/x-python",
   "name": "python",
   "nbconvert_exporter": "python",
   "pygments_lexer": "ipython3",
   "version": "3.10.11"
  }
 },
 "nbformat": 4,
 "nbformat_minor": 5
}
