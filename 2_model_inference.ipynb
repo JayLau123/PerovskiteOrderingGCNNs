{
 "cells": [
  {
   "cell_type": "markdown",
   "metadata": {},
   "source": [
    "**This notebook provides examples of how to verify the performance of GCNNs on the validation set (function: reverify_sigopt_models), select the top-performing models accordingly (function: keep_the_best_few_models), compute the prediction on the test and holdout sets (function: get_all_model_predictions), and extract the latent embeddings of CGCNN and e3nn after all message passing and graph convolution layers (function: get_all_embeddings).**\n",
    "\n",
    "Parameters:\n",
    "- struct_type: the structure representation to use (options: unrelaxed, relaxed, M3Gnet_relaxed)\n",
    "- model_type: the model architechture to use (options: CGCNN, e3nn, Painn)\n",
    "- gpu_num: the GPU to use\n",
    "- training_fraction: if not trained on the entire training set, the fraction of the training set to use\n",
    "- num_best_models: the number of top-performing models to use"
   ]
  },
  {
   "cell_type": "code",
   "execution_count": 1,
   "metadata": {},
   "outputs": [
    {
     "name": "stderr",
     "output_type": "stream",
     "text": [
      "/data/users/kritarth/.conda/envs/Perovskite_ML_Environment/lib/python3.10/site-packages/tqdm/auto.py:21: TqdmWarning: IProgress not found. Please update jupyter and ipywidgets. See https://ipywidgets.readthedocs.io/en/stable/user_install.html\n",
      "  from .autonotebook import tqdm as notebook_tqdm\n"
     ]
    }
   ],
   "source": [
    "from inference.select_best_models import reverify_wandb_models, keep_the_best_few_models\n",
    "from inference.test_model_prediction import get_all_model_predictions\n",
    "from inference.embedding_extraction import get_all_embeddings"
   ]
  },
  {
   "cell_type": "markdown",
   "metadata": {},
   "source": [
    "# CGCNN"
   ]
  },
  {
   "cell_type": "code",
   "execution_count": 2,
   "metadata": {},
   "outputs": [
    {
     "name": "stdout",
     "output_type": "stream",
     "text": [
      "Loaded data\n",
      "Completed data processing\n"
     ]
    },
    {
     "name": "stderr",
     "output_type": "stream",
     "text": [
      "100%|██████████| 6276/6276 [00:00<00:00, 8605.95it/s]\n",
      "100%|██████████| 1277/1277 [00:00<00:00, 8486.59it/s]\n"
     ]
    },
    {
     "name": "stdout",
     "output_type": "stream",
     "text": [
      "Reverifying wandb model #0 (observ_09b2uh9s)\n"
     ]
    },
    {
     "name": "stderr",
     "output_type": "stream",
     "text": [
      "100%|██████████| 6276/6276 [01:27<00:00, 71.89it/s] \n"
     ]
    },
    {
     "name": "stdout",
     "output_type": "stream",
     "text": [
      "Reverifying wandb model #1 (observ_2bwzbm4a)\n"
     ]
    },
    {
     "name": "stderr",
     "output_type": "stream",
     "text": [
      "100%|██████████| 6276/6276 [00:00<00:00, 28012.25it/s]\n"
     ]
    },
    {
     "name": "stdout",
     "output_type": "stream",
     "text": [
      "Reverifying wandb model #2 (observ_2jcubzj4)\n"
     ]
    },
    {
     "name": "stderr",
     "output_type": "stream",
     "text": [
      "100%|██████████| 6276/6276 [00:00<00:00, 29388.66it/s]\n"
     ]
    },
    {
     "name": "stdout",
     "output_type": "stream",
     "text": [
      "Reverifying wandb model #3 (observ_2s73ddgv)\n"
     ]
    },
    {
     "name": "stderr",
     "output_type": "stream",
     "text": [
      "100%|██████████| 6276/6276 [00:00<00:00, 28516.61it/s]\n"
     ]
    },
    {
     "name": "stdout",
     "output_type": "stream",
     "text": [
      "Reverifying wandb model #4 (observ_3oiczxq2)\n"
     ]
    },
    {
     "name": "stderr",
     "output_type": "stream",
     "text": [
      "100%|██████████| 6276/6276 [00:00<00:00, 29691.78it/s]\n"
     ]
    },
    {
     "name": "stdout",
     "output_type": "stream",
     "text": [
      "Reverifying wandb model #5 (observ_49tl4l12)\n"
     ]
    },
    {
     "name": "stderr",
     "output_type": "stream",
     "text": [
      "100%|██████████| 6276/6276 [00:00<00:00, 29821.48it/s]\n"
     ]
    },
    {
     "name": "stdout",
     "output_type": "stream",
     "text": [
      "Reverifying wandb model #6 (observ_4p8z3i0m)\n"
     ]
    },
    {
     "name": "stderr",
     "output_type": "stream",
     "text": [
      "100%|██████████| 6276/6276 [00:00<00:00, 29761.03it/s]\n"
     ]
    },
    {
     "name": "stdout",
     "output_type": "stream",
     "text": [
      "Reverifying wandb model #7 (observ_54cqu9ml)\n"
     ]
    },
    {
     "name": "stderr",
     "output_type": "stream",
     "text": [
      "100%|██████████| 6276/6276 [00:00<00:00, 29479.43it/s]\n"
     ]
    },
    {
     "name": "stdout",
     "output_type": "stream",
     "text": [
      "Reverifying wandb model #8 (observ_5d1b1xg1)\n"
     ]
    },
    {
     "name": "stderr",
     "output_type": "stream",
     "text": [
      "100%|██████████| 6276/6276 [00:00<00:00, 29624.24it/s]\n"
     ]
    },
    {
     "name": "stdout",
     "output_type": "stream",
     "text": [
      "Reverifying wandb model #9 (observ_5p8h9jh5)\n"
     ]
    },
    {
     "name": "stderr",
     "output_type": "stream",
     "text": [
      "100%|██████████| 6276/6276 [00:00<00:00, 29662.33it/s]\n"
     ]
    },
    {
     "name": "stdout",
     "output_type": "stream",
     "text": [
      "Reverifying wandb model #10 (observ_6plr3lcq)\n"
     ]
    },
    {
     "name": "stderr",
     "output_type": "stream",
     "text": [
      "100%|██████████| 6276/6276 [00:00<00:00, 29276.42it/s]\n"
     ]
    },
    {
     "name": "stdout",
     "output_type": "stream",
     "text": [
      "Reverifying wandb model #11 (observ_80rmxv0j)\n"
     ]
    },
    {
     "name": "stderr",
     "output_type": "stream",
     "text": [
      "100%|██████████| 6276/6276 [00:00<00:00, 29411.02it/s]\n"
     ]
    },
    {
     "name": "stdout",
     "output_type": "stream",
     "text": [
      "Reverifying wandb model #12 (observ_8ba9sw4k)\n"
     ]
    },
    {
     "name": "stderr",
     "output_type": "stream",
     "text": [
      "100%|██████████| 6276/6276 [00:00<00:00, 29457.56it/s]\n"
     ]
    },
    {
     "name": "stdout",
     "output_type": "stream",
     "text": [
      "Reverifying wandb model #13 (observ_8bhrm4hf)\n"
     ]
    },
    {
     "name": "stderr",
     "output_type": "stream",
     "text": [
      "100%|██████████| 6276/6276 [00:00<00:00, 29433.71it/s]\n"
     ]
    },
    {
     "name": "stdout",
     "output_type": "stream",
     "text": [
      "Reverifying wandb model #14 (observ_9u97mm6a)\n"
     ]
    },
    {
     "name": "stderr",
     "output_type": "stream",
     "text": [
      "100%|██████████| 6276/6276 [00:00<00:00, 29421.74it/s]\n"
     ]
    },
    {
     "name": "stdout",
     "output_type": "stream",
     "text": [
      "Reverifying wandb model #15 (observ_a45136sx)\n"
     ]
    },
    {
     "name": "stderr",
     "output_type": "stream",
     "text": [
      "100%|██████████| 6276/6276 [00:00<00:00, 29636.25it/s]\n"
     ]
    },
    {
     "name": "stdout",
     "output_type": "stream",
     "text": [
      "Reverifying wandb model #16 (observ_adi6wl92)\n"
     ]
    },
    {
     "name": "stderr",
     "output_type": "stream",
     "text": [
      "100%|██████████| 6276/6276 [00:00<00:00, 29522.54it/s]\n"
     ]
    },
    {
     "name": "stdout",
     "output_type": "stream",
     "text": [
      "Reverifying wandb model #17 (observ_augud3u4)\n"
     ]
    },
    {
     "name": "stderr",
     "output_type": "stream",
     "text": [
      "100%|██████████| 6276/6276 [00:00<00:00, 29413.45it/s]\n"
     ]
    },
    {
     "name": "stdout",
     "output_type": "stream",
     "text": [
      "Reverifying wandb model #18 (observ_bcwl2zpk)\n"
     ]
    },
    {
     "name": "stderr",
     "output_type": "stream",
     "text": [
      "100%|██████████| 6276/6276 [00:00<00:00, 29637.65it/s]\n"
     ]
    },
    {
     "name": "stdout",
     "output_type": "stream",
     "text": [
      "Reverifying wandb model #19 (observ_cdccpbp8)\n"
     ]
    },
    {
     "name": "stderr",
     "output_type": "stream",
     "text": [
      "100%|██████████| 6276/6276 [00:00<00:00, 29391.42it/s]\n"
     ]
    },
    {
     "name": "stdout",
     "output_type": "stream",
     "text": [
      "Reverifying wandb model #20 (observ_ckylh4ug)\n"
     ]
    },
    {
     "name": "stderr",
     "output_type": "stream",
     "text": [
      "100%|██████████| 6276/6276 [00:00<00:00, 29807.97it/s]\n"
     ]
    },
    {
     "name": "stdout",
     "output_type": "stream",
     "text": [
      "Reverifying wandb model #21 (observ_cwcwhkko)\n"
     ]
    },
    {
     "name": "stderr",
     "output_type": "stream",
     "text": [
      "100%|██████████| 6276/6276 [00:00<00:00, 28697.98it/s]\n"
     ]
    },
    {
     "name": "stdout",
     "output_type": "stream",
     "text": [
      "Reverifying wandb model #22 (observ_d5v1z4ej)\n"
     ]
    },
    {
     "name": "stderr",
     "output_type": "stream",
     "text": [
      "100%|██████████| 6276/6276 [00:00<00:00, 29584.49it/s]\n"
     ]
    },
    {
     "name": "stdout",
     "output_type": "stream",
     "text": [
      "Reverifying wandb model #23 (observ_du222f4z)\n"
     ]
    },
    {
     "name": "stderr",
     "output_type": "stream",
     "text": [
      "100%|██████████| 6276/6276 [00:00<00:00, 29658.46it/s]\n"
     ]
    },
    {
     "name": "stdout",
     "output_type": "stream",
     "text": [
      "Reverifying wandb model #24 (observ_dvpqu60a)\n"
     ]
    },
    {
     "name": "stderr",
     "output_type": "stream",
     "text": [
      "100%|██████████| 6276/6276 [00:00<00:00, 29495.91it/s]\n"
     ]
    },
    {
     "name": "stdout",
     "output_type": "stream",
     "text": [
      "Reverifying wandb model #25 (observ_enpygz6a)\n"
     ]
    },
    {
     "name": "stderr",
     "output_type": "stream",
     "text": [
      "100%|██████████| 6276/6276 [00:00<00:00, 29322.04it/s]\n"
     ]
    },
    {
     "name": "stdout",
     "output_type": "stream",
     "text": [
      "Reverifying wandb model #26 (observ_f9v9jrkm)\n"
     ]
    },
    {
     "name": "stderr",
     "output_type": "stream",
     "text": [
      "100%|██████████| 6276/6276 [00:00<00:00, 29694.39it/s]\n"
     ]
    },
    {
     "name": "stdout",
     "output_type": "stream",
     "text": [
      "Reverifying wandb model #27 (observ_hi3k26oe)\n"
     ]
    },
    {
     "name": "stderr",
     "output_type": "stream",
     "text": [
      "100%|██████████| 6276/6276 [00:00<00:00, 29463.53it/s]\n"
     ]
    },
    {
     "name": "stdout",
     "output_type": "stream",
     "text": [
      "Reverifying wandb model #28 (observ_hyr6xdjg)\n"
     ]
    },
    {
     "name": "stderr",
     "output_type": "stream",
     "text": [
      "100%|██████████| 6276/6276 [00:00<00:00, 28107.61it/s]\n"
     ]
    },
    {
     "name": "stdout",
     "output_type": "stream",
     "text": [
      "Reverifying wandb model #29 (observ_imb9ao61)\n"
     ]
    },
    {
     "name": "stderr",
     "output_type": "stream",
     "text": [
      "100%|██████████| 6276/6276 [00:00<00:00, 6368.81it/s]\n"
     ]
    },
    {
     "name": "stdout",
     "output_type": "stream",
     "text": [
      "Reverifying wandb model #30 (observ_jisd1e8m)\n"
     ]
    },
    {
     "name": "stderr",
     "output_type": "stream",
     "text": [
      "100%|██████████| 6276/6276 [00:00<00:00, 29735.21it/s]\n"
     ]
    },
    {
     "name": "stdout",
     "output_type": "stream",
     "text": [
      "Reverifying wandb model #31 (observ_jyjgs8ey)\n"
     ]
    },
    {
     "name": "stderr",
     "output_type": "stream",
     "text": [
      "100%|██████████| 6276/6276 [00:00<00:00, 29546.77it/s]\n"
     ]
    },
    {
     "name": "stdout",
     "output_type": "stream",
     "text": [
      "Reverifying wandb model #32 (observ_kfkaui6j)\n"
     ]
    },
    {
     "name": "stderr",
     "output_type": "stream",
     "text": [
      "100%|██████████| 6276/6276 [00:00<00:00, 29387.05it/s]\n"
     ]
    },
    {
     "name": "stdout",
     "output_type": "stream",
     "text": [
      "Reverifying wandb model #33 (observ_km814edf)\n"
     ]
    },
    {
     "name": "stderr",
     "output_type": "stream",
     "text": [
      "100%|██████████| 6276/6276 [00:00<00:00, 29381.97it/s]\n"
     ]
    },
    {
     "name": "stdout",
     "output_type": "stream",
     "text": [
      "Reverifying wandb model #34 (observ_l4gxd8lw)\n"
     ]
    },
    {
     "name": "stderr",
     "output_type": "stream",
     "text": [
      "100%|██████████| 6276/6276 [00:00<00:00, 27695.87it/s]\n"
     ]
    },
    {
     "name": "stdout",
     "output_type": "stream",
     "text": [
      "Reverifying wandb model #35 (observ_lm0yimqa)\n"
     ]
    },
    {
     "name": "stderr",
     "output_type": "stream",
     "text": [
      "100%|██████████| 6276/6276 [00:00<00:00, 29639.82it/s]\n"
     ]
    },
    {
     "name": "stdout",
     "output_type": "stream",
     "text": [
      "Reverifying wandb model #36 (observ_mhickp7v)\n"
     ]
    },
    {
     "name": "stderr",
     "output_type": "stream",
     "text": [
      "100%|██████████| 6276/6276 [00:00<00:00, 29755.18it/s]\n"
     ]
    },
    {
     "name": "stdout",
     "output_type": "stream",
     "text": [
      "Reverifying wandb model #37 (observ_n2phdmek)\n"
     ]
    },
    {
     "name": "stderr",
     "output_type": "stream",
     "text": [
      "100%|██████████| 6276/6276 [00:00<00:00, 29677.38it/s]\n"
     ]
    },
    {
     "name": "stdout",
     "output_type": "stream",
     "text": [
      "Reverifying wandb model #38 (observ_npavtj6h)\n"
     ]
    },
    {
     "name": "stderr",
     "output_type": "stream",
     "text": [
      "100%|██████████| 6276/6276 [00:00<00:00, 29506.10it/s]\n"
     ]
    },
    {
     "name": "stdout",
     "output_type": "stream",
     "text": [
      "Reverifying wandb model #39 (observ_nsu2734z)\n"
     ]
    },
    {
     "name": "stderr",
     "output_type": "stream",
     "text": [
      "100%|██████████| 6276/6276 [00:00<00:00, 28249.50it/s]\n"
     ]
    },
    {
     "name": "stdout",
     "output_type": "stream",
     "text": [
      "Reverifying wandb model #40 (observ_qf9pdl27)\n"
     ]
    },
    {
     "name": "stderr",
     "output_type": "stream",
     "text": [
      "100%|██████████| 6276/6276 [00:00<00:00, 29341.82it/s]\n"
     ]
    },
    {
     "name": "stdout",
     "output_type": "stream",
     "text": [
      "Reverifying wandb model #41 (observ_r7yaxfue)\n"
     ]
    },
    {
     "name": "stderr",
     "output_type": "stream",
     "text": [
      "100%|██████████| 6276/6276 [00:00<00:00, 28644.02it/s]\n"
     ]
    },
    {
     "name": "stdout",
     "output_type": "stream",
     "text": [
      "Reverifying wandb model #42 (observ_reblty69)\n"
     ]
    },
    {
     "name": "stderr",
     "output_type": "stream",
     "text": [
      "100%|██████████| 6276/6276 [00:00<00:00, 29670.22it/s]\n"
     ]
    },
    {
     "name": "stdout",
     "output_type": "stream",
     "text": [
      "Reverifying wandb model #43 (observ_s1dx510i)\n"
     ]
    },
    {
     "name": "stderr",
     "output_type": "stream",
     "text": [
      "100%|██████████| 6276/6276 [00:00<00:00, 29651.01it/s]\n"
     ]
    },
    {
     "name": "stdout",
     "output_type": "stream",
     "text": [
      "Reverifying wandb model #44 (observ_vfu3r9k7)\n"
     ]
    },
    {
     "name": "stderr",
     "output_type": "stream",
     "text": [
      "100%|██████████| 6276/6276 [00:00<00:00, 29556.89it/s]\n"
     ]
    },
    {
     "name": "stdout",
     "output_type": "stream",
     "text": [
      "Reverifying wandb model #45 (observ_w3yiycgl)\n"
     ]
    },
    {
     "name": "stderr",
     "output_type": "stream",
     "text": [
      "100%|██████████| 6276/6276 [00:00<00:00, 29596.80it/s]\n"
     ]
    },
    {
     "name": "stdout",
     "output_type": "stream",
     "text": [
      "Reverifying wandb model #46 (observ_x8g0t2zu)\n"
     ]
    },
    {
     "name": "stderr",
     "output_type": "stream",
     "text": [
      "100%|██████████| 6276/6276 [00:00<00:00, 28785.44it/s]\n"
     ]
    },
    {
     "name": "stdout",
     "output_type": "stream",
     "text": [
      "Reverifying wandb model #47 (observ_x9qeeoja)\n"
     ]
    },
    {
     "name": "stderr",
     "output_type": "stream",
     "text": [
      "100%|██████████| 6276/6276 [00:00<00:00, 29661.36it/s]\n"
     ]
    },
    {
     "name": "stdout",
     "output_type": "stream",
     "text": [
      "Reverifying wandb model #48 (observ_xbnsp9u1)\n"
     ]
    },
    {
     "name": "stderr",
     "output_type": "stream",
     "text": [
      "100%|██████████| 6276/6276 [00:00<00:00, 28617.05it/s]\n"
     ]
    },
    {
     "name": "stdout",
     "output_type": "stream",
     "text": [
      "Reverifying wandb model #49 (observ_zg25g5s9)\n"
     ]
    },
    {
     "name": "stderr",
     "output_type": "stream",
     "text": [
      "100%|██████████| 6276/6276 [00:00<00:00, 29693.22it/s]\n"
     ]
    }
   ],
   "source": [
    "reverify_wandb_models(\n",
    "    model_params={\n",
    "        \"struct_type\": \"unrelaxed\",\n",
    "        \"model_type\": \"CGCNN\",\n",
    "        \"training_fraction\":1.0,\n",
    "    },\n",
    "    gpu_num=0\n",
    ")"
   ]
  },
  {
   "cell_type": "code",
   "execution_count": 4,
   "metadata": {},
   "outputs": [
    {
     "name": "stdout",
     "output_type": "stream",
     "text": [
      "Copied model observ_du222f4z to best_0\n",
      "Copied model observ_augud3u4 to best_1\n",
      "Copied model observ_jisd1e8m to best_2\n",
      "Kept the best 3 models in ./best_models/CGCNN/dft_e_hull_htvs_data_unrelaxed_CGCNN\n"
     ]
    }
   ],
   "source": [
    "keep_the_best_few_models(\n",
    "    model_params={\n",
    "        \"struct_type\": \"unrelaxed\",\n",
    "        \"model_type\": \"CGCNN\",\n",
    "        \"training_fraction\":1.0,\n",
    "    },\n",
    "    num_best_models=3\n",
    ")"
   ]
  },
  {
   "cell_type": "code",
   "execution_count": 5,
   "metadata": {},
   "outputs": [
    {
     "name": "stdout",
     "output_type": "stream",
     "text": [
      "Loaded data\n",
      "Completed data processing\n"
     ]
    },
    {
     "name": "stderr",
     "output_type": "stream",
     "text": [
      "100%|██████████| 6276/6276 [00:00<00:00, 8582.70it/s]\n",
      "100%|██████████| 1261/1261 [00:00<00:00, 8386.20it/s]\n",
      "100%|██████████| 6276/6276 [01:28<00:00, 70.77it/s] \n"
     ]
    },
    {
     "name": "stdout",
     "output_type": "stream",
     "text": [
      "Timing...\n",
      "19.374361753463745\n",
      "19.77317476272583\n"
     ]
    },
    {
     "name": "stderr",
     "output_type": "stream",
     "text": [
      "100%|██████████| 6276/6276 [00:00<00:00, 28517.56it/s]\n"
     ]
    },
    {
     "name": "stdout",
     "output_type": "stream",
     "text": [
      "Timing...\n",
      "0.6810338497161865\n",
      "1.0798468589782715\n"
     ]
    },
    {
     "name": "stderr",
     "output_type": "stream",
     "text": [
      "100%|██████████| 6276/6276 [00:00<00:00, 28278.88it/s]\n"
     ]
    },
    {
     "name": "stdout",
     "output_type": "stream",
     "text": [
      "Timing...\n",
      "0.6692249774932861\n",
      "1.068037986755371\n",
      "Completed model prediction for test_set\n",
      "Loaded data\n",
      "Completed data processing\n"
     ]
    },
    {
     "name": "stderr",
     "output_type": "stream",
     "text": [
      "100%|██████████| 6276/6276 [00:00<00:00, 8342.05it/s]\n",
      "100%|██████████| 600/600 [00:00<00:00, 8581.52it/s]\n",
      "100%|██████████| 6276/6276 [01:29<00:00, 70.27it/s] \n"
     ]
    },
    {
     "name": "stdout",
     "output_type": "stream",
     "text": [
      "Timing...\n",
      "10.09644889831543\n",
      "10.2840576171875\n"
     ]
    },
    {
     "name": "stderr",
     "output_type": "stream",
     "text": [
      "100%|██████████| 6276/6276 [00:00<00:00, 26744.11it/s]\n"
     ]
    },
    {
     "name": "stdout",
     "output_type": "stream",
     "text": [
      "Timing...\n",
      "0.3335995674133301\n",
      "0.5212082862854004\n"
     ]
    },
    {
     "name": "stderr",
     "output_type": "stream",
     "text": [
      "100%|██████████| 6276/6276 [00:00<00:00, 28275.02it/s]\n"
     ]
    },
    {
     "name": "stdout",
     "output_type": "stream",
     "text": [
      "Timing...\n",
      "0.32080578804016113\n",
      "0.5084145069122314\n",
      "Completed model prediction for holdout_set_B_sites\n",
      "Loaded data\n",
      "Completed data processing\n"
     ]
    },
    {
     "name": "stderr",
     "output_type": "stream",
     "text": [
      "100%|██████████| 6276/6276 [00:00<00:00, 8295.12it/s]\n",
      "100%|██████████| 863/863 [00:00<00:00, 8340.32it/s]\n",
      "100%|██████████| 6276/6276 [01:28<00:00, 71.31it/s] \n"
     ]
    },
    {
     "name": "stdout",
     "output_type": "stream",
     "text": [
      "Timing...\n",
      "13.80959701538086\n",
      "14.086063623428345\n"
     ]
    },
    {
     "name": "stderr",
     "output_type": "stream",
     "text": [
      "100%|██████████| 6276/6276 [00:00<00:00, 28615.84it/s]\n"
     ]
    },
    {
     "name": "stdout",
     "output_type": "stream",
     "text": [
      "Timing...\n",
      "0.4729421138763428\n",
      "0.7494087219238281\n"
     ]
    },
    {
     "name": "stderr",
     "output_type": "stream",
     "text": [
      "100%|██████████| 6276/6276 [00:00<00:00, 28612.60it/s]\n"
     ]
    },
    {
     "name": "stdout",
     "output_type": "stream",
     "text": [
      "Timing...\n",
      "0.4615757465362549\n",
      "0.7380423545837402\n",
      "Completed model prediction for holdout_set_series\n"
     ]
    }
   ],
   "source": [
    "get_all_model_predictions(\n",
    "    model_params={\n",
    "        \"struct_type\": \"unrelaxed\",\n",
    "        \"model_type\": \"CGCNN\",\n",
    "        \"training_fraction\":1.0,\n",
    "    },\n",
    "    gpu_num=0,\n",
    "    num_best_models=3\n",
    ")"
   ]
  },
  {
   "cell_type": "code",
   "execution_count": 2,
   "metadata": {},
   "outputs": [
    {
     "name": "stdout",
     "output_type": "stream",
     "text": [
      "Loaded data\n",
      "Completed data processing\n"
     ]
    },
    {
     "name": "stderr",
     "output_type": "stream",
     "text": [
      "100%|██████████| 6276/6276 [00:00<00:00, 8348.79it/s]\n",
      "100%|██████████| 1261/1261 [00:00<00:00, 8336.74it/s]\n",
      "100%|██████████| 6276/6276 [01:28<00:00, 71.25it/s] \n",
      "100%|██████████| 6276/6276 [00:00<00:00, 30239.53it/s]\n",
      "100%|██████████| 6276/6276 [00:00<00:00, 29867.30it/s]\n"
     ]
    },
    {
     "name": "stdout",
     "output_type": "stream",
     "text": [
      "Completed embedding extraction for test_set\n",
      "Loaded data\n",
      "Completed data processing\n"
     ]
    },
    {
     "name": "stderr",
     "output_type": "stream",
     "text": [
      "100%|██████████| 6276/6276 [00:00<00:00, 8359.19it/s]\n",
      "100%|██████████| 600/600 [00:00<00:00, 8386.85it/s]\n",
      "100%|██████████| 6276/6276 [01:29<00:00, 70.25it/s] \n",
      "100%|██████████| 6276/6276 [00:00<00:00, 29880.65it/s]\n",
      "100%|██████████| 6276/6276 [00:00<00:00, 29005.38it/s]\n"
     ]
    },
    {
     "name": "stdout",
     "output_type": "stream",
     "text": [
      "Completed embedding extraction for holdout_set_B_sites\n",
      "Loaded data\n",
      "Completed data processing\n"
     ]
    },
    {
     "name": "stderr",
     "output_type": "stream",
     "text": [
      "100%|██████████| 6276/6276 [00:00<00:00, 8363.62it/s]\n",
      "100%|██████████| 863/863 [00:00<00:00, 8363.10it/s]\n",
      "100%|██████████| 6276/6276 [01:31<00:00, 68.90it/s] \n",
      "100%|██████████| 6276/6276 [00:00<00:00, 30298.95it/s]\n",
      "100%|██████████| 6276/6276 [00:00<00:00, 29643.19it/s]\n"
     ]
    },
    {
     "name": "stdout",
     "output_type": "stream",
     "text": [
      "Completed embedding extraction for holdout_set_series\n"
     ]
    }
   ],
   "source": [
    "get_all_embeddings(\n",
    "    model_params={\n",
    "        \"struct_type\": \"unrelaxed\",\n",
    "        \"model_type\": \"CGCNN\",\n",
    "        \"training_fraction\":1.0,\n",
    "    },\n",
    "    gpu_num=0,\n",
    "    num_best_models=3\n",
    ")"
   ]
  },
  {
   "cell_type": "markdown",
   "metadata": {},
   "source": [
    "# e3nn"
   ]
  },
  {
   "cell_type": "code",
   "execution_count": null,
   "metadata": {},
   "outputs": [],
   "source": [
    "reverify_wandb_models(\n",
    "    model_params={\n",
    "        \"struct_type\": \"relaxed\",\n",
    "        \"model_type\": \"e3nn\",\n",
    "        \"training_fraction\":0.5,\n",
    "    },\n",
    "    gpu_num=0\n",
    ")"
   ]
  },
  {
   "cell_type": "code",
   "execution_count": null,
   "metadata": {},
   "outputs": [],
   "source": [
    "keep_the_best_few_models(\n",
    "    model_params={\n",
    "        \"struct_type\": \"relaxed\",\n",
    "        \"model_type\": \"e3nn\",\n",
    "        \"training_fraction\":0.5,\n",
    "    },\n",
    "    num_best_models=3\n",
    ")"
   ]
  },
  {
   "cell_type": "code",
   "execution_count": null,
   "metadata": {},
   "outputs": [],
   "source": [
    "get_all_model_predictions(\n",
    "    model_params={\n",
    "        \"struct_type\": \"relaxed\",\n",
    "        \"model_type\": \"e3nn\",\n",
    "        \"training_fraction\":0.5,\n",
    "    },\n",
    "    gpu_num=0,\n",
    "    num_best_models=3\n",
    ")"
   ]
  },
  {
   "cell_type": "code",
   "execution_count": null,
   "metadata": {},
   "outputs": [],
   "source": [
    "get_all_embeddings(\n",
    "    model_params={\n",
    "        \"struct_type\": \"relaxed\",\n",
    "        \"model_type\": \"e3nn\",\n",
    "        \"training_fraction\":0.5,\n",
    "    },\n",
    "    gpu_num=0,\n",
    "    num_best_models=3\n",
    ")"
   ]
  },
  {
   "cell_type": "markdown",
   "metadata": {},
   "source": [
    "# Painn"
   ]
  },
  {
   "cell_type": "code",
   "execution_count": null,
   "metadata": {},
   "outputs": [],
   "source": [
    "reverify_wandb_models(\n",
    "    model_params={\n",
    "        \"struct_type\": \"unrelaxed\",\n",
    "        \"model_type\": \"Painn\",\n",
    "        \"training_fraction\":1.0,\n",
    "    },\n",
    "    gpu_num=0\n",
    ")\n"
   ]
  },
  {
   "cell_type": "code",
   "execution_count": null,
   "metadata": {},
   "outputs": [],
   "source": [
    "keep_the_best_few_models(\n",
    "    model_params={\n",
    "        \"struct_type\": \"unrelaxed\",\n",
    "        \"model_type\": \"Painn\",\n",
    "        \"training_fraction\":1.0,\n",
    "    },\n",
    "    num_best_models=3\n",
    ")"
   ]
  },
  {
   "cell_type": "code",
   "execution_count": null,
   "metadata": {},
   "outputs": [],
   "source": [
    "get_all_model_predictions(\n",
    "    model_params={\n",
    "        \"struct_type\": \"unrelaxed\",\n",
    "        \"model_type\": \"Painn\",\n",
    "        \"training_fraction\":1.0,\n",
    "    },\n",
    "    gpu_num=0,\n",
    "    num_best_models=3\n",
    ")"
   ]
  },
  {
   "cell_type": "code",
   "execution_count": null,
   "metadata": {},
   "outputs": [],
   "source": []
  },
  {
   "cell_type": "code",
   "execution_count": null,
   "metadata": {},
   "outputs": [],
   "source": []
  },
  {
   "cell_type": "code",
   "execution_count": null,
   "metadata": {},
   "outputs": [],
   "source": []
  }
 ],
 "metadata": {
  "kernelspec": {
   "display_name": "Python 3",
   "language": "python",
   "name": "python3"
  },
  "language_info": {
   "codemirror_mode": {
    "name": "ipython",
    "version": 3
   },
   "file_extension": ".py",
   "mimetype": "text/x-python",
   "name": "python",
   "nbconvert_exporter": "python",
   "pygments_lexer": "ipython3",
   "version": "3.10.11"
  }
 },
 "nbformat": 4,
 "nbformat_minor": 2
}
