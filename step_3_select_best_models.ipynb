{
 "cells": [
  {
   "cell_type": "code",
   "execution_count": null,
   "id": "22f00ae4",
   "metadata": {},
   "outputs": [],
   "source": [
    "from inference.select_best_models import *\n",
    "# tar cf best_models.tar best_models\n",
    "# tar cf saved_models.tar saved_models"
   ]
  },
  {
   "cell_type": "code",
   "execution_count": null,
   "id": "1d936f4b",
   "metadata": {
    "scrolled": false
   },
   "outputs": [],
   "source": [
    "gpu_num=2\n",
    "target_prop=\"dft_e_hull\"\n",
    "\n",
    "model_params = {\n",
    "    \"model_type\": \"CGCNN\",\n",
    "    \"relaxed\": False,\n",
    "    \"interpolation\": False,\n",
    "}\n",
    "\n",
    "# reverify_sigopt_models(model_params, gpu_num, target_prop)\n",
    "# keep_the_best_few_models(model_params, target_prop)"
   ]
  },
  {
   "cell_type": "code",
   "execution_count": null,
   "id": "12d278d7",
   "metadata": {},
   "outputs": [],
   "source": [
    "gpu_num=2\n",
    "target_prop=\"dft_e_hull\"\n",
    "\n",
    "model_params = {\n",
    "    \"model_type\": \"CGCNN\",\n",
    "    \"relaxed\": True,\n",
    "    \"interpolation\": False,\n",
    "}\n",
    "\n",
    "# reverify_sigopt_models(model_params, gpu_num, target_prop)\n",
    "# keep_the_best_few_models(model_params, target_prop)"
   ]
  },
  {
   "cell_type": "code",
   "execution_count": null,
   "id": "8a81307b",
   "metadata": {},
   "outputs": [],
   "source": [
    "gpu_num=2\n",
    "target_prop=\"dft_e_hull\"\n",
    "\n",
    "model_params = {\n",
    "    \"model_type\": \"CGCNN\",\n",
    "    \"relaxed\": False,\n",
    "    \"interpolation\": True,\n",
    "}\n",
    "\n",
    "# reverify_sigopt_models(model_params, gpu_num, target_prop)\n",
    "# keep_the_best_few_models(model_params, target_prop)"
   ]
  },
  {
   "cell_type": "code",
   "execution_count": null,
   "id": "4817621a",
   "metadata": {},
   "outputs": [],
   "source": [
    "gpu_num=2\n",
    "target_prop=\"dft_e_hull\"\n",
    "\n",
    "model_params = {\n",
    "    \"model_type\": \"CGCNN\",\n",
    "    \"relaxed\": True,\n",
    "    \"interpolation\": True,\n",
    "}\n",
    "\n",
    "# reverify_sigopt_models(model_params, gpu_num, target_prop)\n",
    "# keep_the_best_few_models(model_params, target_prop)"
   ]
  },
  {
   "cell_type": "code",
   "execution_count": null,
   "id": "22d042b4",
   "metadata": {},
   "outputs": [],
   "source": [
    "gpu_num=2\n",
    "target_prop=\"dft_e_hull\"\n",
    "\n",
    "model_params = {\n",
    "    \"model_type\": \"Painn\",\n",
    "    \"relaxed\": False,\n",
    "    \"interpolation\": True,\n",
    "}\n",
    "\n",
    "# reverify_sigopt_models(model_params, gpu_num, target_prop)\n",
    "# keep_the_best_few_models(model_params, target_prop)"
   ]
  },
  {
   "cell_type": "code",
   "execution_count": null,
   "id": "a69022a2",
   "metadata": {},
   "outputs": [],
   "source": [
    "gpu_num=2\n",
    "target_prop=\"dft_e_hull\"\n",
    "\n",
    "model_params = {\n",
    "    \"model_type\": \"Painn\",\n",
    "    \"relaxed\": True,\n",
    "    \"interpolation\": True,\n",
    "}\n",
    "\n",
    "# reverify_sigopt_models(model_params, gpu_num, target_prop)\n",
    "# keep_the_best_few_models(model_params, target_prop)"
   ]
  },
  {
   "cell_type": "code",
   "execution_count": null,
   "id": "40183c75",
   "metadata": {},
   "outputs": [],
   "source": [
    "gpu_num=2\n",
    "target_prop=\"dft_e_hull\"\n",
    "\n",
    "model_params = {\n",
    "    \"model_type\": \"e3nn\",\n",
    "    \"relaxed\": False,\n",
    "    \"interpolation\": True,\n",
    "}\n",
    "\n",
    "# reverify_sigopt_models(model_params, gpu_num, target_prop)\n",
    "# keep_the_best_few_models(model_params, target_prop)"
   ]
  },
  {
   "cell_type": "code",
   "execution_count": null,
   "id": "ae8810d2",
   "metadata": {},
   "outputs": [],
   "source": [
    "gpu_num=2\n",
    "target_prop=\"dft_e_hull\"\n",
    "\n",
    "model_params = {\n",
    "    \"model_type\": \"e3nn\",\n",
    "    \"relaxed\": True,\n",
    "    \"interpolation\": True,\n",
    "}\n",
    "\n",
    "# reverify_sigopt_models(model_params, gpu_num, target_prop)\n",
    "# keep_the_best_few_models(model_params, target_prop)"
   ]
  },
  {
   "cell_type": "code",
   "execution_count": null,
   "id": "d5932678",
   "metadata": {},
   "outputs": [],
   "source": [
    "gpu_num=0\n",
    "target_prop=\"dft_e_hull\"\n",
    "\n",
    "model_params = {\n",
    "    \"model_type\": \"e3nn_contrastive\",\n",
    "    \"relaxed\": False,\n",
    "    \"interpolation\": True,\n",
    "}\n",
    "\n",
    "# reverify_sigopt_models(model_params, gpu_num, target_prop)\n",
    "# keep_the_best_few_models(model_params, target_prop)"
   ]
  },
  {
   "cell_type": "code",
   "execution_count": null,
   "id": "72b41c69",
   "metadata": {
    "scrolled": true
   },
   "outputs": [],
   "source": [
    "gpu_num=0\n",
    "target_prop=\"dft_e_hull\"\n",
    "\n",
    "model_params = {\n",
    "    \"model_type\": \"e3nn_contrastive\",\n",
    "    \"relaxed\": True,\n",
    "    \"interpolation\": True,\n",
    "}\n",
    "\n",
    "reverify_sigopt_models(model_params, gpu_num, target_prop)\n",
    "keep_the_best_few_models(model_params, target_prop)"
   ]
  },
  {
   "cell_type": "code",
   "execution_count": null,
   "id": "02a6f2cd",
   "metadata": {},
   "outputs": [],
   "source": []
  }
 ],
 "metadata": {
  "kernelspec": {
   "display_name": "Python 3 (ipykernel)",
   "language": "python",
   "name": "python3"
  },
  "language_info": {
   "codemirror_mode": {
    "name": "ipython",
    "version": 3
   },
   "file_extension": ".py",
   "mimetype": "text/x-python",
   "name": "python",
   "nbconvert_exporter": "python",
   "pygments_lexer": "ipython3",
   "version": "3.9.12"
  }
 },
 "nbformat": 4,
 "nbformat_minor": 5
}
