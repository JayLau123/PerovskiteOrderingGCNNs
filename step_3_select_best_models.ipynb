{
 "cells": [
  {
   "cell_type": "code",
   "execution_count": 1,
   "id": "22f00ae4",
   "metadata": {},
   "outputs": [
    {
     "name": "stderr",
     "output_type": "stream",
     "text": [
      "/home/jypeng/miniconda3/envs/Perovskite_ML_Environment/lib/python3.10/site-packages/tqdm/auto.py:21: TqdmWarning: IProgress not found. Please update jupyter and ipywidgets. See https://ipywidgets.readthedocs.io/en/stable/user_install.html\n",
      "  from .autonotebook import tqdm as notebook_tqdm\n"
     ]
    },
    {
     "ename": "ImportError",
     "evalue": "cannot import name 'PerSiteCGCNet' from 'models.PerovskiteOrderingGCNNs_cgcnn.cgcnn.model' (/home/jypeng/publication_repos/PerovskiteOrderingGCNNs/models/PerovskiteOrderingGCNNs_cgcnn/cgcnn/model.py)",
     "output_type": "error",
     "traceback": [
      "\u001b[0;31m---------------------------------------------------------------------------\u001b[0m",
      "\u001b[0;31mImportError\u001b[0m                               Traceback (most recent call last)",
      "Cell \u001b[0;32mIn[1], line 1\u001b[0m\n\u001b[0;32m----> 1\u001b[0m \u001b[38;5;28;01mfrom\u001b[39;00m \u001b[38;5;21;01minference\u001b[39;00m\u001b[38;5;21;01m.\u001b[39;00m\u001b[38;5;21;01mselect_best_models\u001b[39;00m \u001b[38;5;28;01mimport\u001b[39;00m \u001b[38;5;241m*\u001b[39m\n\u001b[1;32m      2\u001b[0m \u001b[38;5;66;03m# tar cf best_models.tar best_models\u001b[39;00m\n\u001b[1;32m      3\u001b[0m \u001b[38;5;66;03m# tar cf saved_models.tar saved_models\u001b[39;00m\n",
      "File \u001b[0;32m~/publication_repos/PerovskiteOrderingGCNNs/inference/select_best_models.py:14\u001b[0m\n\u001b[1;32m     12\u001b[0m \u001b[38;5;28;01mfrom\u001b[39;00m \u001b[38;5;21;01mtraining\u001b[39;00m\u001b[38;5;21;01m.\u001b[39;00m\u001b[38;5;21;01mloss\u001b[39;00m \u001b[38;5;28;01mimport\u001b[39;00m contrastive_loss\n\u001b[1;32m     13\u001b[0m \u001b[38;5;28;01mfrom\u001b[39;00m \u001b[38;5;21;01mtraining\u001b[39;00m\u001b[38;5;21;01m.\u001b[39;00m\u001b[38;5;21;01msigopt_utils\u001b[39;00m \u001b[38;5;28;01mimport\u001b[39;00m build_sigopt_name\n\u001b[0;32m---> 14\u001b[0m \u001b[38;5;28;01mfrom\u001b[39;00m \u001b[38;5;21;01mprocessing\u001b[39;00m\u001b[38;5;21;01m.\u001b[39;00m\u001b[38;5;21;01mcreate_model\u001b[39;00m\u001b[38;5;21;01m.\u001b[39;00m\u001b[38;5;21;01mcreate_model\u001b[39;00m \u001b[38;5;28;01mimport\u001b[39;00m create_model\n\u001b[1;32m     16\u001b[0m saved_models_path \u001b[38;5;241m=\u001b[39m \u001b[38;5;124m\"\u001b[39m\u001b[38;5;124m/data/jypeng/PerovskiteOrderingGCNNs/saved_models_ver_Aug_23/saved_models/\u001b[39m\u001b[38;5;124m\"\u001b[39m\n\u001b[1;32m     18\u001b[0m \u001b[38;5;28;01mdef\u001b[39;00m \u001b[38;5;21mget_experiment_id\u001b[39m(model_params, target_prop):\n",
      "File \u001b[0;32m~/publication_repos/PerovskiteOrderingGCNNs/processing/create_model/create_model.py:1\u001b[0m\n\u001b[0;32m----> 1\u001b[0m \u001b[38;5;28;01mfrom\u001b[39;00m \u001b[38;5;21;01mprocessing\u001b[39;00m\u001b[38;5;21;01m.\u001b[39;00m\u001b[38;5;21;01mcreate_model\u001b[39;00m\u001b[38;5;21;01m.\u001b[39;00m\u001b[38;5;21;01mcreate_cgcnn_model\u001b[39;00m \u001b[38;5;28;01mimport\u001b[39;00m get_cgcnn_model\n\u001b[1;32m      2\u001b[0m \u001b[38;5;28;01mfrom\u001b[39;00m \u001b[38;5;21;01mprocessing\u001b[39;00m\u001b[38;5;21;01m.\u001b[39;00m\u001b[38;5;21;01mcreate_model\u001b[39;00m\u001b[38;5;21;01m.\u001b[39;00m\u001b[38;5;21;01mcreate_painn_model\u001b[39;00m \u001b[38;5;28;01mimport\u001b[39;00m get_painn_model\n\u001b[1;32m      3\u001b[0m \u001b[38;5;28;01mfrom\u001b[39;00m \u001b[38;5;21;01mprocessing\u001b[39;00m\u001b[38;5;21;01m.\u001b[39;00m\u001b[38;5;21;01mcreate_model\u001b[39;00m\u001b[38;5;21;01m.\u001b[39;00m\u001b[38;5;21;01mcreate_e3nn_model\u001b[39;00m \u001b[38;5;28;01mimport\u001b[39;00m get_e3nn_model\n",
      "File \u001b[0;32m~/publication_repos/PerovskiteOrderingGCNNs/processing/create_model/create_cgcnn_model.py:1\u001b[0m\n\u001b[0;32m----> 1\u001b[0m \u001b[38;5;28;01mfrom\u001b[39;00m \u001b[38;5;21;01mmodels\u001b[39;00m\u001b[38;5;21;01m.\u001b[39;00m\u001b[38;5;21;01mPerovskiteOrderingGCNNs_cgcnn\u001b[39;00m\u001b[38;5;21;01m.\u001b[39;00m\u001b[38;5;21;01mcgcnn\u001b[39;00m\u001b[38;5;21;01m.\u001b[39;00m\u001b[38;5;21;01mmodel\u001b[39;00m \u001b[38;5;28;01mimport\u001b[39;00m CrystalGraphConvNet, PerSiteCGCNet, Normalizer\n\u001b[1;32m      2\u001b[0m \u001b[38;5;28;01mfrom\u001b[39;00m \u001b[38;5;21;01mtraining\u001b[39;00m\u001b[38;5;21;01m.\u001b[39;00m\u001b[38;5;21;01mhyperparameters\u001b[39;00m\u001b[38;5;21;01m.\u001b[39;00m\u001b[38;5;21;01mdefault\u001b[39;00m \u001b[38;5;28;01mimport\u001b[39;00m get_default_cgcnn_hyperparameters\n\u001b[1;32m      3\u001b[0m \u001b[38;5;28;01mimport\u001b[39;00m \u001b[38;5;21;01mnumpy\u001b[39;00m \u001b[38;5;28;01mas\u001b[39;00m \u001b[38;5;21;01mnp\u001b[39;00m\n",
      "\u001b[0;31mImportError\u001b[0m: cannot import name 'PerSiteCGCNet' from 'models.PerovskiteOrderingGCNNs_cgcnn.cgcnn.model' (/home/jypeng/publication_repos/PerovskiteOrderingGCNNs/models/PerovskiteOrderingGCNNs_cgcnn/cgcnn/model.py)"
     ]
    }
   ],
   "source": [
    "from inference.select_best_models import *\n",
    "# tar cf best_models.tar best_models\n",
    "# tar cf saved_models.tar saved_models"
   ]
  },
  {
   "cell_type": "code",
   "execution_count": 2,
   "id": "1d936f4b",
   "metadata": {
    "scrolled": true
   },
   "outputs": [
    {
     "name": "stdout",
     "output_type": "stream",
     "text": [
      "Loaded data\n",
      "Completed data processing\n"
     ]
    },
    {
     "name": "stderr",
     "output_type": "stream",
     "text": [
      "100%|██████████████████████████████████████████████████████| 6276/6276 [00:01<00:00, 4110.21it/s]\n",
      "100%|██████████████████████████████████████████████████████| 1277/1277 [00:00<00:00, 4112.79it/s]\n",
      "/home/jypeng/miniconda3/envs/Perovskite_ML_Environment/lib/python3.10/site-packages/sigopt/objects.py:342: RuntimeWarning: The .data field only contains a single page of results, which may be incomplete for large responses. Prefer to use the `.iterate_pages() to ensure that you iterate through all elements in the response.\n",
      "  warnings.warn(\n"
     ]
    },
    {
     "name": "stdout",
     "output_type": "stream",
     "text": [
      "Reverifying sigopt model #0\n"
     ]
    },
    {
     "name": "stderr",
     "output_type": "stream",
     "text": [
      "100%|████████████████████████████████████████████████████████| 6276/6276 [02:44<00:00, 38.22it/s]\n",
      "/home/jypeng/miniconda3/envs/Perovskite_ML_Environment/lib/python3.10/site-packages/sigopt/objects.py:342: RuntimeWarning: The .data field only contains a single page of results, which may be incomplete for large responses. Prefer to use the `.iterate_pages() to ensure that you iterate through all elements in the response.\n",
      "  warnings.warn(\n"
     ]
    },
    {
     "name": "stdout",
     "output_type": "stream",
     "text": [
      "Reverifying sigopt model #1\n"
     ]
    },
    {
     "name": "stderr",
     "output_type": "stream",
     "text": [
      "100%|█████████████████████████████████████████████████████| 6276/6276 [00:00<00:00, 10458.91it/s]\n",
      "/home/jypeng/miniconda3/envs/Perovskite_ML_Environment/lib/python3.10/site-packages/sigopt/objects.py:342: RuntimeWarning: The .data field only contains a single page of results, which may be incomplete for large responses. Prefer to use the `.iterate_pages() to ensure that you iterate through all elements in the response.\n",
      "  warnings.warn(\n"
     ]
    },
    {
     "name": "stdout",
     "output_type": "stream",
     "text": [
      "Reverifying sigopt model #2\n"
     ]
    },
    {
     "name": "stderr",
     "output_type": "stream",
     "text": [
      "100%|█████████████████████████████████████████████████████| 6276/6276 [00:00<00:00, 10026.09it/s]\n",
      "/home/jypeng/miniconda3/envs/Perovskite_ML_Environment/lib/python3.10/site-packages/sigopt/objects.py:342: RuntimeWarning: The .data field only contains a single page of results, which may be incomplete for large responses. Prefer to use the `.iterate_pages() to ensure that you iterate through all elements in the response.\n",
      "  warnings.warn(\n"
     ]
    },
    {
     "name": "stdout",
     "output_type": "stream",
     "text": [
      "Reverifying sigopt model #3\n"
     ]
    },
    {
     "name": "stderr",
     "output_type": "stream",
     "text": [
      "100%|██████████████████████████████████████████████████████| 6276/6276 [00:00<00:00, 9863.81it/s]\n",
      "/home/jypeng/miniconda3/envs/Perovskite_ML_Environment/lib/python3.10/site-packages/sigopt/objects.py:342: RuntimeWarning: The .data field only contains a single page of results, which may be incomplete for large responses. Prefer to use the `.iterate_pages() to ensure that you iterate through all elements in the response.\n",
      "  warnings.warn(\n"
     ]
    },
    {
     "name": "stdout",
     "output_type": "stream",
     "text": [
      "Reverifying sigopt model #4\n"
     ]
    },
    {
     "name": "stderr",
     "output_type": "stream",
     "text": [
      "100%|█████████████████████████████████████████████████████| 6276/6276 [00:00<00:00, 10487.23it/s]\n",
      "/home/jypeng/miniconda3/envs/Perovskite_ML_Environment/lib/python3.10/site-packages/sigopt/objects.py:342: RuntimeWarning: The .data field only contains a single page of results, which may be incomplete for large responses. Prefer to use the `.iterate_pages() to ensure that you iterate through all elements in the response.\n",
      "  warnings.warn(\n"
     ]
    },
    {
     "name": "stdout",
     "output_type": "stream",
     "text": [
      "Reverifying sigopt model #5\n"
     ]
    },
    {
     "name": "stderr",
     "output_type": "stream",
     "text": [
      "100%|██████████████████████████████████████████████████████| 6276/6276 [00:00<00:00, 9921.06it/s]\n",
      "/home/jypeng/miniconda3/envs/Perovskite_ML_Environment/lib/python3.10/site-packages/sigopt/objects.py:342: RuntimeWarning: The .data field only contains a single page of results, which may be incomplete for large responses. Prefer to use the `.iterate_pages() to ensure that you iterate through all elements in the response.\n",
      "  warnings.warn(\n"
     ]
    },
    {
     "name": "stdout",
     "output_type": "stream",
     "text": [
      "Reverifying sigopt model #6\n"
     ]
    },
    {
     "name": "stderr",
     "output_type": "stream",
     "text": [
      "100%|█████████████████████████████████████████████████████| 6276/6276 [00:00<00:00, 10552.44it/s]\n",
      "/home/jypeng/miniconda3/envs/Perovskite_ML_Environment/lib/python3.10/site-packages/sigopt/objects.py:342: RuntimeWarning: The .data field only contains a single page of results, which may be incomplete for large responses. Prefer to use the `.iterate_pages() to ensure that you iterate through all elements in the response.\n",
      "  warnings.warn(\n"
     ]
    },
    {
     "name": "stdout",
     "output_type": "stream",
     "text": [
      "Reverifying sigopt model #7\n"
     ]
    },
    {
     "name": "stderr",
     "output_type": "stream",
     "text": [
      "100%|██████████████████████████████████████████████████████| 6276/6276 [00:00<00:00, 9900.38it/s]\n",
      "/home/jypeng/miniconda3/envs/Perovskite_ML_Environment/lib/python3.10/site-packages/sigopt/objects.py:342: RuntimeWarning: The .data field only contains a single page of results, which may be incomplete for large responses. Prefer to use the `.iterate_pages() to ensure that you iterate through all elements in the response.\n",
      "  warnings.warn(\n"
     ]
    },
    {
     "name": "stdout",
     "output_type": "stream",
     "text": [
      "Reverifying sigopt model #8\n"
     ]
    },
    {
     "name": "stderr",
     "output_type": "stream",
     "text": [
      "100%|█████████████████████████████████████████████████████| 6276/6276 [00:00<00:00, 10042.85it/s]\n",
      "/home/jypeng/miniconda3/envs/Perovskite_ML_Environment/lib/python3.10/site-packages/sigopt/objects.py:342: RuntimeWarning: The .data field only contains a single page of results, which may be incomplete for large responses. Prefer to use the `.iterate_pages() to ensure that you iterate through all elements in the response.\n",
      "  warnings.warn(\n"
     ]
    },
    {
     "name": "stdout",
     "output_type": "stream",
     "text": [
      "Reverifying sigopt model #9\n"
     ]
    },
    {
     "name": "stderr",
     "output_type": "stream",
     "text": [
      "100%|██████████████████████████████████████████████████████| 6276/6276 [00:00<00:00, 9894.80it/s]\n",
      "/home/jypeng/miniconda3/envs/Perovskite_ML_Environment/lib/python3.10/site-packages/sigopt/objects.py:342: RuntimeWarning: The .data field only contains a single page of results, which may be incomplete for large responses. Prefer to use the `.iterate_pages() to ensure that you iterate through all elements in the response.\n",
      "  warnings.warn(\n"
     ]
    },
    {
     "name": "stdout",
     "output_type": "stream",
     "text": [
      "Reverifying sigopt model #10\n"
     ]
    },
    {
     "name": "stderr",
     "output_type": "stream",
     "text": [
      "100%|██████████████████████████████████████████████████████| 6276/6276 [00:00<00:00, 9901.99it/s]\n",
      "/home/jypeng/miniconda3/envs/Perovskite_ML_Environment/lib/python3.10/site-packages/sigopt/objects.py:342: RuntimeWarning: The .data field only contains a single page of results, which may be incomplete for large responses. Prefer to use the `.iterate_pages() to ensure that you iterate through all elements in the response.\n",
      "  warnings.warn(\n"
     ]
    },
    {
     "name": "stdout",
     "output_type": "stream",
     "text": [
      "Reverifying sigopt model #11\n"
     ]
    },
    {
     "name": "stderr",
     "output_type": "stream",
     "text": [
      "100%|██████████████████████████████████████████████████████| 6276/6276 [00:00<00:00, 9869.87it/s]\n",
      "/home/jypeng/miniconda3/envs/Perovskite_ML_Environment/lib/python3.10/site-packages/sigopt/objects.py:342: RuntimeWarning: The .data field only contains a single page of results, which may be incomplete for large responses. Prefer to use the `.iterate_pages() to ensure that you iterate through all elements in the response.\n",
      "  warnings.warn(\n"
     ]
    },
    {
     "name": "stdout",
     "output_type": "stream",
     "text": [
      "Reverifying sigopt model #12\n"
     ]
    },
    {
     "name": "stderr",
     "output_type": "stream",
     "text": [
      "100%|██████████████████████████████████████████████████████| 6276/6276 [00:00<00:00, 9881.14it/s]\n",
      "/home/jypeng/miniconda3/envs/Perovskite_ML_Environment/lib/python3.10/site-packages/sigopt/objects.py:342: RuntimeWarning: The .data field only contains a single page of results, which may be incomplete for large responses. Prefer to use the `.iterate_pages() to ensure that you iterate through all elements in the response.\n",
      "  warnings.warn(\n"
     ]
    },
    {
     "name": "stdout",
     "output_type": "stream",
     "text": [
      "Reverifying sigopt model #13\n"
     ]
    },
    {
     "name": "stderr",
     "output_type": "stream",
     "text": [
      "100%|█████████████████████████████████████████████████████| 6276/6276 [00:00<00:00, 10541.52it/s]\n",
      "/home/jypeng/miniconda3/envs/Perovskite_ML_Environment/lib/python3.10/site-packages/sigopt/objects.py:342: RuntimeWarning: The .data field only contains a single page of results, which may be incomplete for large responses. Prefer to use the `.iterate_pages() to ensure that you iterate through all elements in the response.\n",
      "  warnings.warn(\n"
     ]
    },
    {
     "name": "stdout",
     "output_type": "stream",
     "text": [
      "Reverifying sigopt model #14\n"
     ]
    },
    {
     "name": "stderr",
     "output_type": "stream",
     "text": [
      "100%|█████████████████████████████████████████████████████| 6276/6276 [00:00<00:00, 10291.48it/s]\n",
      "/home/jypeng/miniconda3/envs/Perovskite_ML_Environment/lib/python3.10/site-packages/sigopt/objects.py:342: RuntimeWarning: The .data field only contains a single page of results, which may be incomplete for large responses. Prefer to use the `.iterate_pages() to ensure that you iterate through all elements in the response.\n",
      "  warnings.warn(\n"
     ]
    },
    {
     "name": "stdout",
     "output_type": "stream",
     "text": [
      "Reverifying sigopt model #15\n"
     ]
    },
    {
     "name": "stderr",
     "output_type": "stream",
     "text": [
      "100%|█████████████████████████████████████████████████████| 6276/6276 [00:00<00:00, 10534.15it/s]\n",
      "/home/jypeng/miniconda3/envs/Perovskite_ML_Environment/lib/python3.10/site-packages/sigopt/objects.py:342: RuntimeWarning: The .data field only contains a single page of results, which may be incomplete for large responses. Prefer to use the `.iterate_pages() to ensure that you iterate through all elements in the response.\n",
      "  warnings.warn(\n"
     ]
    },
    {
     "name": "stdout",
     "output_type": "stream",
     "text": [
      "Reverifying sigopt model #16\n"
     ]
    },
    {
     "name": "stderr",
     "output_type": "stream",
     "text": [
      "100%|██████████████████████████████████████████████████████| 6276/6276 [00:00<00:00, 9872.57it/s]\n",
      "/home/jypeng/miniconda3/envs/Perovskite_ML_Environment/lib/python3.10/site-packages/sigopt/objects.py:342: RuntimeWarning: The .data field only contains a single page of results, which may be incomplete for large responses. Prefer to use the `.iterate_pages() to ensure that you iterate through all elements in the response.\n",
      "  warnings.warn(\n"
     ]
    },
    {
     "name": "stdout",
     "output_type": "stream",
     "text": [
      "Reverifying sigopt model #17\n"
     ]
    },
    {
     "name": "stderr",
     "output_type": "stream",
     "text": [
      "100%|█████████████████████████████████████████████████████| 6276/6276 [00:00<00:00, 10105.45it/s]\n",
      "/home/jypeng/miniconda3/envs/Perovskite_ML_Environment/lib/python3.10/site-packages/sigopt/objects.py:342: RuntimeWarning: The .data field only contains a single page of results, which may be incomplete for large responses. Prefer to use the `.iterate_pages() to ensure that you iterate through all elements in the response.\n",
      "  warnings.warn(\n"
     ]
    },
    {
     "name": "stdout",
     "output_type": "stream",
     "text": [
      "Reverifying sigopt model #18\n"
     ]
    },
    {
     "name": "stderr",
     "output_type": "stream",
     "text": [
      "100%|█████████████████████████████████████████████████████| 6276/6276 [00:00<00:00, 10516.95it/s]\n",
      "/home/jypeng/miniconda3/envs/Perovskite_ML_Environment/lib/python3.10/site-packages/sigopt/objects.py:342: RuntimeWarning: The .data field only contains a single page of results, which may be incomplete for large responses. Prefer to use the `.iterate_pages() to ensure that you iterate through all elements in the response.\n",
      "  warnings.warn(\n"
     ]
    },
    {
     "name": "stdout",
     "output_type": "stream",
     "text": [
      "Reverifying sigopt model #19\n"
     ]
    },
    {
     "name": "stderr",
     "output_type": "stream",
     "text": [
      "100%|██████████████████████████████████████████████████████| 6276/6276 [00:00<00:00, 9908.87it/s]\n",
      "/home/jypeng/miniconda3/envs/Perovskite_ML_Environment/lib/python3.10/site-packages/sigopt/objects.py:342: RuntimeWarning: The .data field only contains a single page of results, which may be incomplete for large responses. Prefer to use the `.iterate_pages() to ensure that you iterate through all elements in the response.\n",
      "  warnings.warn(\n"
     ]
    },
    {
     "name": "stdout",
     "output_type": "stream",
     "text": [
      "Reverifying sigopt model #20\n"
     ]
    },
    {
     "name": "stderr",
     "output_type": "stream",
     "text": [
      "100%|█████████████████████████████████████████████████████| 6276/6276 [00:00<00:00, 10538.68it/s]\n",
      "/home/jypeng/miniconda3/envs/Perovskite_ML_Environment/lib/python3.10/site-packages/sigopt/objects.py:342: RuntimeWarning: The .data field only contains a single page of results, which may be incomplete for large responses. Prefer to use the `.iterate_pages() to ensure that you iterate through all elements in the response.\n",
      "  warnings.warn(\n"
     ]
    },
    {
     "name": "stdout",
     "output_type": "stream",
     "text": [
      "Reverifying sigopt model #21\n"
     ]
    },
    {
     "name": "stderr",
     "output_type": "stream",
     "text": [
      "100%|██████████████████████████████████████████████████████| 6276/6276 [00:00<00:00, 9917.23it/s]\n",
      "/home/jypeng/miniconda3/envs/Perovskite_ML_Environment/lib/python3.10/site-packages/sigopt/objects.py:342: RuntimeWarning: The .data field only contains a single page of results, which may be incomplete for large responses. Prefer to use the `.iterate_pages() to ensure that you iterate through all elements in the response.\n",
      "  warnings.warn(\n"
     ]
    },
    {
     "name": "stdout",
     "output_type": "stream",
     "text": [
      "Reverifying sigopt model #22\n"
     ]
    },
    {
     "name": "stderr",
     "output_type": "stream",
     "text": [
      "100%|██████████████████████████████████████████████████████| 6276/6276 [00:00<00:00, 9863.05it/s]\n",
      "/home/jypeng/miniconda3/envs/Perovskite_ML_Environment/lib/python3.10/site-packages/sigopt/objects.py:342: RuntimeWarning: The .data field only contains a single page of results, which may be incomplete for large responses. Prefer to use the `.iterate_pages() to ensure that you iterate through all elements in the response.\n",
      "  warnings.warn(\n"
     ]
    },
    {
     "name": "stdout",
     "output_type": "stream",
     "text": [
      "Reverifying sigopt model #23\n"
     ]
    },
    {
     "name": "stderr",
     "output_type": "stream",
     "text": [
      "100%|██████████████████████████████████████████████████████| 6276/6276 [00:00<00:00, 9852.92it/s]\n",
      "/home/jypeng/miniconda3/envs/Perovskite_ML_Environment/lib/python3.10/site-packages/sigopt/objects.py:342: RuntimeWarning: The .data field only contains a single page of results, which may be incomplete for large responses. Prefer to use the `.iterate_pages() to ensure that you iterate through all elements in the response.\n",
      "  warnings.warn(\n"
     ]
    },
    {
     "name": "stdout",
     "output_type": "stream",
     "text": [
      "Reverifying sigopt model #24\n"
     ]
    },
    {
     "name": "stderr",
     "output_type": "stream",
     "text": [
      "100%|██████████████████████████████████████████████████████| 6276/6276 [00:00<00:00, 9831.75it/s]\n",
      "/home/jypeng/miniconda3/envs/Perovskite_ML_Environment/lib/python3.10/site-packages/sigopt/objects.py:342: RuntimeWarning: The .data field only contains a single page of results, which may be incomplete for large responses. Prefer to use the `.iterate_pages() to ensure that you iterate through all elements in the response.\n",
      "  warnings.warn(\n"
     ]
    },
    {
     "name": "stdout",
     "output_type": "stream",
     "text": [
      "Reverifying sigopt model #25\n"
     ]
    },
    {
     "name": "stderr",
     "output_type": "stream",
     "text": [
      "100%|██████████████████████████████████████████████████████| 6276/6276 [00:00<00:00, 9870.11it/s]\n",
      "/home/jypeng/miniconda3/envs/Perovskite_ML_Environment/lib/python3.10/site-packages/sigopt/objects.py:342: RuntimeWarning: The .data field only contains a single page of results, which may be incomplete for large responses. Prefer to use the `.iterate_pages() to ensure that you iterate through all elements in the response.\n",
      "  warnings.warn(\n"
     ]
    },
    {
     "name": "stdout",
     "output_type": "stream",
     "text": [
      "Reverifying sigopt model #26\n"
     ]
    },
    {
     "name": "stderr",
     "output_type": "stream",
     "text": [
      "100%|██████████████████████████████████████████████████████| 6276/6276 [00:00<00:00, 9821.81it/s]\n",
      "/home/jypeng/miniconda3/envs/Perovskite_ML_Environment/lib/python3.10/site-packages/sigopt/objects.py:342: RuntimeWarning: The .data field only contains a single page of results, which may be incomplete for large responses. Prefer to use the `.iterate_pages() to ensure that you iterate through all elements in the response.\n",
      "  warnings.warn(\n"
     ]
    },
    {
     "name": "stdout",
     "output_type": "stream",
     "text": [
      "Reverifying sigopt model #27\n"
     ]
    },
    {
     "name": "stderr",
     "output_type": "stream",
     "text": [
      "100%|█████████████████████████████████████████████████████| 6276/6276 [00:00<00:00, 10081.86it/s]\n",
      "/home/jypeng/miniconda3/envs/Perovskite_ML_Environment/lib/python3.10/site-packages/sigopt/objects.py:342: RuntimeWarning: The .data field only contains a single page of results, which may be incomplete for large responses. Prefer to use the `.iterate_pages() to ensure that you iterate through all elements in the response.\n",
      "  warnings.warn(\n"
     ]
    },
    {
     "name": "stdout",
     "output_type": "stream",
     "text": [
      "Reverifying sigopt model #28\n"
     ]
    },
    {
     "name": "stderr",
     "output_type": "stream",
     "text": [
      "100%|██████████████████████████████████████████████████████| 6276/6276 [00:00<00:00, 9872.19it/s]\n",
      "/home/jypeng/miniconda3/envs/Perovskite_ML_Environment/lib/python3.10/site-packages/sigopt/objects.py:342: RuntimeWarning: The .data field only contains a single page of results, which may be incomplete for large responses. Prefer to use the `.iterate_pages() to ensure that you iterate through all elements in the response.\n",
      "  warnings.warn(\n"
     ]
    },
    {
     "name": "stdout",
     "output_type": "stream",
     "text": [
      "Reverifying sigopt model #29\n"
     ]
    },
    {
     "name": "stderr",
     "output_type": "stream",
     "text": [
      "100%|██████████████████████████████████████████████████████| 6276/6276 [00:00<00:00, 9901.84it/s]\n",
      "/home/jypeng/miniconda3/envs/Perovskite_ML_Environment/lib/python3.10/site-packages/sigopt/objects.py:342: RuntimeWarning: The .data field only contains a single page of results, which may be incomplete for large responses. Prefer to use the `.iterate_pages() to ensure that you iterate through all elements in the response.\n",
      "  warnings.warn(\n"
     ]
    },
    {
     "name": "stdout",
     "output_type": "stream",
     "text": [
      "Reverifying sigopt model #30\n"
     ]
    },
    {
     "name": "stderr",
     "output_type": "stream",
     "text": [
      "100%|██████████████████████████████████████████████████████| 6276/6276 [00:00<00:00, 9935.41it/s]\n",
      "/home/jypeng/miniconda3/envs/Perovskite_ML_Environment/lib/python3.10/site-packages/sigopt/objects.py:342: RuntimeWarning: The .data field only contains a single page of results, which may be incomplete for large responses. Prefer to use the `.iterate_pages() to ensure that you iterate through all elements in the response.\n",
      "  warnings.warn(\n"
     ]
    },
    {
     "name": "stdout",
     "output_type": "stream",
     "text": [
      "Reverifying sigopt model #31\n"
     ]
    },
    {
     "name": "stderr",
     "output_type": "stream",
     "text": [
      "100%|██████████████████████████████████████████████████████| 6276/6276 [00:00<00:00, 9910.07it/s]\n",
      "/home/jypeng/miniconda3/envs/Perovskite_ML_Environment/lib/python3.10/site-packages/sigopt/objects.py:342: RuntimeWarning: The .data field only contains a single page of results, which may be incomplete for large responses. Prefer to use the `.iterate_pages() to ensure that you iterate through all elements in the response.\n",
      "  warnings.warn(\n"
     ]
    },
    {
     "name": "stdout",
     "output_type": "stream",
     "text": [
      "Reverifying sigopt model #32\n"
     ]
    },
    {
     "name": "stderr",
     "output_type": "stream",
     "text": [
      "100%|█████████████████████████████████████████████████████| 6276/6276 [00:00<00:00, 10561.45it/s]\n",
      "/home/jypeng/miniconda3/envs/Perovskite_ML_Environment/lib/python3.10/site-packages/sigopt/objects.py:342: RuntimeWarning: The .data field only contains a single page of results, which may be incomplete for large responses. Prefer to use the `.iterate_pages() to ensure that you iterate through all elements in the response.\n",
      "  warnings.warn(\n"
     ]
    },
    {
     "name": "stdout",
     "output_type": "stream",
     "text": [
      "Reverifying sigopt model #33\n"
     ]
    },
    {
     "name": "stderr",
     "output_type": "stream",
     "text": [
      "100%|█████████████████████████████████████████████████████| 6276/6276 [00:00<00:00, 10540.94it/s]\n",
      "/home/jypeng/miniconda3/envs/Perovskite_ML_Environment/lib/python3.10/site-packages/sigopt/objects.py:342: RuntimeWarning: The .data field only contains a single page of results, which may be incomplete for large responses. Prefer to use the `.iterate_pages() to ensure that you iterate through all elements in the response.\n",
      "  warnings.warn(\n"
     ]
    },
    {
     "name": "stdout",
     "output_type": "stream",
     "text": [
      "Reverifying sigopt model #34\n"
     ]
    },
    {
     "name": "stderr",
     "output_type": "stream",
     "text": [
      "100%|██████████████████████████████████████████████████████| 6276/6276 [00:00<00:00, 9857.79it/s]\n",
      "/home/jypeng/miniconda3/envs/Perovskite_ML_Environment/lib/python3.10/site-packages/sigopt/objects.py:342: RuntimeWarning: The .data field only contains a single page of results, which may be incomplete for large responses. Prefer to use the `.iterate_pages() to ensure that you iterate through all elements in the response.\n",
      "  warnings.warn(\n"
     ]
    },
    {
     "name": "stdout",
     "output_type": "stream",
     "text": [
      "Reverifying sigopt model #35\n"
     ]
    },
    {
     "name": "stderr",
     "output_type": "stream",
     "text": [
      "100%|█████████████████████████████████████████████████████| 6276/6276 [00:00<00:00, 10467.06it/s]\n",
      "/home/jypeng/miniconda3/envs/Perovskite_ML_Environment/lib/python3.10/site-packages/sigopt/objects.py:342: RuntimeWarning: The .data field only contains a single page of results, which may be incomplete for large responses. Prefer to use the `.iterate_pages() to ensure that you iterate through all elements in the response.\n",
      "  warnings.warn(\n"
     ]
    },
    {
     "name": "stdout",
     "output_type": "stream",
     "text": [
      "Reverifying sigopt model #36\n"
     ]
    },
    {
     "name": "stderr",
     "output_type": "stream",
     "text": [
      "100%|█████████████████████████████████████████████████████| 6276/6276 [00:00<00:00, 10549.14it/s]\n",
      "/home/jypeng/miniconda3/envs/Perovskite_ML_Environment/lib/python3.10/site-packages/sigopt/objects.py:342: RuntimeWarning: The .data field only contains a single page of results, which may be incomplete for large responses. Prefer to use the `.iterate_pages() to ensure that you iterate through all elements in the response.\n",
      "  warnings.warn(\n"
     ]
    },
    {
     "name": "stdout",
     "output_type": "stream",
     "text": [
      "Reverifying sigopt model #37\n"
     ]
    },
    {
     "name": "stderr",
     "output_type": "stream",
     "text": [
      "100%|██████████████████████████████████████████████████████| 6276/6276 [00:00<00:00, 9761.15it/s]\n",
      "/home/jypeng/miniconda3/envs/Perovskite_ML_Environment/lib/python3.10/site-packages/sigopt/objects.py:342: RuntimeWarning: The .data field only contains a single page of results, which may be incomplete for large responses. Prefer to use the `.iterate_pages() to ensure that you iterate through all elements in the response.\n",
      "  warnings.warn(\n"
     ]
    },
    {
     "name": "stdout",
     "output_type": "stream",
     "text": [
      "Reverifying sigopt model #38\n"
     ]
    },
    {
     "name": "stderr",
     "output_type": "stream",
     "text": [
      "100%|█████████████████████████████████████████████████████| 6276/6276 [00:00<00:00, 10510.19it/s]\n",
      "/home/jypeng/miniconda3/envs/Perovskite_ML_Environment/lib/python3.10/site-packages/sigopt/objects.py:342: RuntimeWarning: The .data field only contains a single page of results, which may be incomplete for large responses. Prefer to use the `.iterate_pages() to ensure that you iterate through all elements in the response.\n",
      "  warnings.warn(\n"
     ]
    },
    {
     "name": "stdout",
     "output_type": "stream",
     "text": [
      "Reverifying sigopt model #39\n"
     ]
    },
    {
     "name": "stderr",
     "output_type": "stream",
     "text": [
      "100%|█████████████████████████████████████████████████████| 6276/6276 [00:00<00:00, 10489.16it/s]\n",
      "/home/jypeng/miniconda3/envs/Perovskite_ML_Environment/lib/python3.10/site-packages/sigopt/objects.py:342: RuntimeWarning: The .data field only contains a single page of results, which may be incomplete for large responses. Prefer to use the `.iterate_pages() to ensure that you iterate through all elements in the response.\n",
      "  warnings.warn(\n"
     ]
    },
    {
     "name": "stdout",
     "output_type": "stream",
     "text": [
      "Reverifying sigopt model #40\n"
     ]
    },
    {
     "name": "stderr",
     "output_type": "stream",
     "text": [
      "100%|██████████████████████████████████████████████████████| 6276/6276 [00:00<00:00, 9868.43it/s]\n",
      "/home/jypeng/miniconda3/envs/Perovskite_ML_Environment/lib/python3.10/site-packages/sigopt/objects.py:342: RuntimeWarning: The .data field only contains a single page of results, which may be incomplete for large responses. Prefer to use the `.iterate_pages() to ensure that you iterate through all elements in the response.\n",
      "  warnings.warn(\n"
     ]
    },
    {
     "name": "stdout",
     "output_type": "stream",
     "text": [
      "Reverifying sigopt model #41\n"
     ]
    },
    {
     "name": "stderr",
     "output_type": "stream",
     "text": [
      "100%|██████████████████████████████████████████████████████| 6276/6276 [00:00<00:00, 9662.61it/s]\n",
      "/home/jypeng/miniconda3/envs/Perovskite_ML_Environment/lib/python3.10/site-packages/sigopt/objects.py:342: RuntimeWarning: The .data field only contains a single page of results, which may be incomplete for large responses. Prefer to use the `.iterate_pages() to ensure that you iterate through all elements in the response.\n",
      "  warnings.warn(\n"
     ]
    },
    {
     "name": "stdout",
     "output_type": "stream",
     "text": [
      "Reverifying sigopt model #42\n"
     ]
    },
    {
     "name": "stderr",
     "output_type": "stream",
     "text": [
      "100%|██████████████████████████████████████████████████████| 6276/6276 [00:00<00:00, 9802.53it/s]\n",
      "/home/jypeng/miniconda3/envs/Perovskite_ML_Environment/lib/python3.10/site-packages/sigopt/objects.py:342: RuntimeWarning: The .data field only contains a single page of results, which may be incomplete for large responses. Prefer to use the `.iterate_pages() to ensure that you iterate through all elements in the response.\n",
      "  warnings.warn(\n"
     ]
    },
    {
     "name": "stdout",
     "output_type": "stream",
     "text": [
      "Reverifying sigopt model #43\n"
     ]
    },
    {
     "name": "stderr",
     "output_type": "stream",
     "text": [
      "100%|██████████████████████████████████████████████████████| 6276/6276 [00:02<00:00, 2914.12it/s]\n",
      "/home/jypeng/miniconda3/envs/Perovskite_ML_Environment/lib/python3.10/site-packages/sigopt/objects.py:342: RuntimeWarning: The .data field only contains a single page of results, which may be incomplete for large responses. Prefer to use the `.iterate_pages() to ensure that you iterate through all elements in the response.\n",
      "  warnings.warn(\n"
     ]
    },
    {
     "name": "stdout",
     "output_type": "stream",
     "text": [
      "Reverifying sigopt model #44\n"
     ]
    },
    {
     "name": "stderr",
     "output_type": "stream",
     "text": [
      "100%|██████████████████████████████████████████████████████| 6276/6276 [00:00<00:00, 9756.43it/s]\n",
      "/home/jypeng/miniconda3/envs/Perovskite_ML_Environment/lib/python3.10/site-packages/sigopt/objects.py:342: RuntimeWarning: The .data field only contains a single page of results, which may be incomplete for large responses. Prefer to use the `.iterate_pages() to ensure that you iterate through all elements in the response.\n",
      "  warnings.warn(\n"
     ]
    },
    {
     "name": "stdout",
     "output_type": "stream",
     "text": [
      "Reverifying sigopt model #45\n"
     ]
    },
    {
     "name": "stderr",
     "output_type": "stream",
     "text": [
      "100%|██████████████████████████████████████████████████████| 6276/6276 [00:00<00:00, 9811.89it/s]\n",
      "/home/jypeng/miniconda3/envs/Perovskite_ML_Environment/lib/python3.10/site-packages/sigopt/objects.py:342: RuntimeWarning: The .data field only contains a single page of results, which may be incomplete for large responses. Prefer to use the `.iterate_pages() to ensure that you iterate through all elements in the response.\n",
      "  warnings.warn(\n"
     ]
    },
    {
     "name": "stdout",
     "output_type": "stream",
     "text": [
      "Reverifying sigopt model #46\n"
     ]
    },
    {
     "name": "stderr",
     "output_type": "stream",
     "text": [
      "100%|█████████████████████████████████████████████████████| 6276/6276 [00:00<00:00, 10076.19it/s]\n",
      "/home/jypeng/miniconda3/envs/Perovskite_ML_Environment/lib/python3.10/site-packages/sigopt/objects.py:342: RuntimeWarning: The .data field only contains a single page of results, which may be incomplete for large responses. Prefer to use the `.iterate_pages() to ensure that you iterate through all elements in the response.\n",
      "  warnings.warn(\n"
     ]
    },
    {
     "name": "stdout",
     "output_type": "stream",
     "text": [
      "Reverifying sigopt model #47\n"
     ]
    },
    {
     "name": "stderr",
     "output_type": "stream",
     "text": [
      "100%|█████████████████████████████████████████████████████| 6276/6276 [00:00<00:00, 10545.49it/s]\n",
      "/home/jypeng/miniconda3/envs/Perovskite_ML_Environment/lib/python3.10/site-packages/sigopt/objects.py:342: RuntimeWarning: The .data field only contains a single page of results, which may be incomplete for large responses. Prefer to use the `.iterate_pages() to ensure that you iterate through all elements in the response.\n",
      "  warnings.warn(\n"
     ]
    },
    {
     "name": "stdout",
     "output_type": "stream",
     "text": [
      "Reverifying sigopt model #48\n"
     ]
    },
    {
     "name": "stderr",
     "output_type": "stream",
     "text": [
      "100%|██████████████████████████████████████████████████████| 6276/6276 [00:00<00:00, 9845.83it/s]\n",
      "/home/jypeng/miniconda3/envs/Perovskite_ML_Environment/lib/python3.10/site-packages/sigopt/objects.py:342: RuntimeWarning: The .data field only contains a single page of results, which may be incomplete for large responses. Prefer to use the `.iterate_pages() to ensure that you iterate through all elements in the response.\n",
      "  warnings.warn(\n"
     ]
    },
    {
     "name": "stdout",
     "output_type": "stream",
     "text": [
      "Reverifying sigopt model #49\n"
     ]
    },
    {
     "name": "stderr",
     "output_type": "stream",
     "text": [
      "100%|██████████████████████████████████████████████████████| 6276/6276 [00:00<00:00, 9875.70it/s]\n"
     ]
    },
    {
     "name": "stdout",
     "output_type": "stream",
     "text": [
      "Best models #0 found and saved\n",
      "Best models #1 found and saved\n",
      "Best models #2 found and saved\n"
     ]
    }
   ],
   "source": [
    "gpu_num=0\n",
    "target_prop=\"dft_e_hull\"\n",
    "\n",
    "model_params = {\n",
    "    \"data\":\"data/\",\n",
    "    \"struct_type\": \"unrelaxed\",\n",
    "    \"interpolation\": False,\n",
    "    \"model_type\": \"CGCNN\",\n",
    "    \"contrastive_weight\":1.0,\n",
    "    \"training_fraction\":1.0\n",
    "}\n",
    "\n",
    "reverify_sigopt_models(model_params, gpu_num, target_prop)\n",
    "keep_the_best_few_models(model_params, target_prop)"
   ]
  },
  {
   "cell_type": "code",
   "execution_count": null,
   "id": "7525e9e0",
   "metadata": {},
   "outputs": [],
   "source": [
    "gpu_num=0\n",
    "target_prop=\"dft_e_hull\"\n",
    "\n",
    "model_params = {\n",
    "    \"data\":\"data/\",\n",
    "    \"struct_type\": \"relaxed\",\n",
    "    \"interpolation\": False,\n",
    "    \"model_type\": \"CGCNN\",\n",
    "    \"contrastive_weight\":1.0,\n",
    "    \"training_fraction\":1.0\n",
    "}\n",
    "\n",
    "reverify_sigopt_models(model_params, gpu_num, target_prop)\n",
    "keep_the_best_few_models(model_params, target_prop)"
   ]
  },
  {
   "cell_type": "code",
   "execution_count": null,
   "id": "c489c31a",
   "metadata": {},
   "outputs": [],
   "source": [
    "gpu_num=0\n",
    "target_prop=\"dft_e_hull\"\n",
    "\n",
    "model_params = {\n",
    "    \"data\":\"data/\",\n",
    "    \"struct_type\": \"M3Gnet_relaxed\",\n",
    "    \"interpolation\": False,\n",
    "    \"model_type\": \"CGCNN\",\n",
    "    \"contrastive_weight\":1.0,\n",
    "    \"training_fraction\":1.0\n",
    "}\n",
    "\n",
    "reverify_sigopt_models(model_params, gpu_num, target_prop)\n",
    "keep_the_best_few_models(model_params, target_prop)"
   ]
  },
  {
   "cell_type": "code",
   "execution_count": null,
   "id": "24204c3b",
   "metadata": {},
   "outputs": [],
   "source": [
    "gpu_num=0\n",
    "target_prop=\"Op_band_center\"\n",
    "\n",
    "model_params = {\n",
    "    \"data\":\"data/\",\n",
    "    \"struct_type\": \"unrelaxed\",\n",
    "    \"interpolation\": False,\n",
    "    \"model_type\": \"CGCNN\",\n",
    "    \"contrastive_weight\":1.0,\n",
    "    \"training_fraction\":1.0\n",
    "}\n",
    "\n",
    "reverify_sigopt_models(model_params, gpu_num, target_prop)\n",
    "keep_the_best_few_models(model_params, target_prop)"
   ]
  },
  {
   "cell_type": "code",
   "execution_count": null,
   "id": "d60bd03b",
   "metadata": {},
   "outputs": [],
   "source": [
    "gpu_num=0\n",
    "target_prop=\"Op_band_center\"\n",
    "\n",
    "model_params = {\n",
    "    \"data\":\"data/\",\n",
    "    \"struct_type\": \"relaxed\",\n",
    "    \"interpolation\": False,\n",
    "    \"model_type\": \"CGCNN\",\n",
    "    \"contrastive_weight\":1.0,\n",
    "    \"training_fraction\":1.0\n",
    "}\n",
    "\n",
    "reverify_sigopt_models(model_params, gpu_num, target_prop)\n",
    "keep_the_best_few_models(model_params, target_prop)"
   ]
  },
  {
   "cell_type": "code",
   "execution_count": null,
   "id": "3de1b524",
   "metadata": {},
   "outputs": [],
   "source": [
    "gpu_num=0\n",
    "target_prop=\"Op_band_center\"\n",
    "\n",
    "model_params = {\n",
    "    \"data\":\"data/\",\n",
    "    \"struct_type\": \"M3Gnet_relaxed\",\n",
    "    \"interpolation\": False,\n",
    "    \"model_type\": \"CGCNN\",\n",
    "    \"contrastive_weight\":1.0,\n",
    "    \"training_fraction\":1.0\n",
    "}\n",
    "\n",
    "reverify_sigopt_models(model_params, gpu_num, target_prop)\n",
    "keep_the_best_few_models(model_params, target_prop)"
   ]
  },
  {
   "cell_type": "code",
   "execution_count": null,
   "id": "194d93b9",
   "metadata": {},
   "outputs": [],
   "source": [
    "gpu_num=0\n",
    "target_prop=\"dft_e_hull\"\n",
    "\n",
    "model_params = {\n",
    "    \"data\":\"data/\",\n",
    "    \"struct_type\": \"unrelaxed\",\n",
    "    \"interpolation\": False,\n",
    "    \"model_type\": \"Painn\",\n",
    "    \"contrastive_weight\":1.0,\n",
    "    \"training_fraction\":1.0\n",
    "}\n",
    "\n",
    "reverify_sigopt_models(model_params, gpu_num, target_prop)\n",
    "keep_the_best_few_models(model_params, target_prop)"
   ]
  },
  {
   "cell_type": "code",
   "execution_count": null,
   "id": "ed2ae482",
   "metadata": {},
   "outputs": [],
   "source": [
    "gpu_num=0\n",
    "target_prop=\"Op_band_center\"\n",
    "\n",
    "model_params = {\n",
    "    \"data\":\"data/\",\n",
    "    \"struct_type\": \"unrelaxed\",\n",
    "    \"interpolation\": False,\n",
    "    \"model_type\": \"Painn\",\n",
    "    \"contrastive_weight\":1.0,\n",
    "    \"training_fraction\":1.0\n",
    "}\n",
    "\n",
    "reverify_sigopt_models(model_params, gpu_num, target_prop)\n",
    "keep_the_best_few_models(model_params, target_prop)"
   ]
  },
  {
   "cell_type": "code",
   "execution_count": null,
   "id": "d18e1902",
   "metadata": {},
   "outputs": [],
   "source": [
    "gpu_num=0\n",
    "target_prop=\"dft_e_hull\"\n",
    "\n",
    "model_params = {\n",
    "    \"data\":\"data/\",\n",
    "    \"struct_type\": \"unrelaxed\",\n",
    "    \"interpolation\": False,\n",
    "    \"model_type\": \"e3nn\",\n",
    "    \"contrastive_weight\":1.0,\n",
    "    \"training_fraction\":1.0\n",
    "}\n",
    "\n",
    "reverify_sigopt_models(model_params, gpu_num, target_prop)\n",
    "keep_the_best_few_models(model_params, target_prop)"
   ]
  },
  {
   "cell_type": "code",
   "execution_count": null,
   "id": "6bf1e5da",
   "metadata": {},
   "outputs": [],
   "source": [
    "gpu_num=0\n",
    "target_prop=\"dft_e_hull\"\n",
    "\n",
    "model_params = {\n",
    "    \"data\":\"data/\",\n",
    "    \"struct_type\": \"relaxed\",\n",
    "    \"interpolation\": False,\n",
    "    \"model_type\": \"e3nn\",\n",
    "    \"contrastive_weight\":1.0,\n",
    "    \"training_fraction\":1.0\n",
    "}\n",
    "\n",
    "reverify_sigopt_models(model_params, gpu_num, target_prop)\n",
    "keep_the_best_few_models(model_params, target_prop)"
   ]
  },
  {
   "cell_type": "code",
   "execution_count": null,
   "id": "460a7201",
   "metadata": {},
   "outputs": [],
   "source": [
    "gpu_num=0\n",
    "target_prop=\"dft_e_hull\"\n",
    "\n",
    "model_params = {\n",
    "    \"data\":\"data/\",\n",
    "    \"struct_type\": \"M3Gnet_relaxed\",\n",
    "    \"interpolation\": False,\n",
    "    \"model_type\": \"e3nn\",\n",
    "    \"contrastive_weight\":1.0,\n",
    "    \"training_fraction\":1.0\n",
    "}\n",
    "\n",
    "reverify_sigopt_models(model_params, gpu_num, target_prop)\n",
    "keep_the_best_few_models(model_params, target_prop)"
   ]
  },
  {
   "cell_type": "code",
   "execution_count": null,
   "id": "a29d73dc",
   "metadata": {},
   "outputs": [],
   "source": [
    "gpu_num=0\n",
    "target_prop=\"Op_band_center\"\n",
    "\n",
    "model_params = {\n",
    "    \"data\":\"data/\",\n",
    "    \"struct_type\": \"unrelaxed\",\n",
    "    \"interpolation\": False,\n",
    "    \"model_type\": \"e3nn\",\n",
    "    \"contrastive_weight\":1.0,\n",
    "    \"training_fraction\":1.0\n",
    "}\n",
    "\n",
    "reverify_sigopt_models(model_params, gpu_num, target_prop)\n",
    "keep_the_best_few_models(model_params, target_prop)"
   ]
  },
  {
   "cell_type": "code",
   "execution_count": null,
   "id": "c4746697",
   "metadata": {},
   "outputs": [],
   "source": [
    "gpu_num=0\n",
    "target_prop=\"Op_band_center\"\n",
    "\n",
    "model_params = {\n",
    "    \"data\":\"data/\",\n",
    "    \"struct_type\": \"relaxed\",\n",
    "    \"interpolation\": False,\n",
    "    \"model_type\": \"e3nn\",\n",
    "    \"contrastive_weight\":1.0,\n",
    "    \"training_fraction\":1.0\n",
    "}\n",
    "\n",
    "reverify_sigopt_models(model_params, gpu_num, target_prop)\n",
    "keep_the_best_few_models(model_params, target_prop)"
   ]
  },
  {
   "cell_type": "code",
   "execution_count": null,
   "id": "160a50a0",
   "metadata": {},
   "outputs": [],
   "source": [
    "gpu_num=0\n",
    "target_prop=\"Op_band_center\"\n",
    "\n",
    "model_params = {\n",
    "    \"data\":\"data/\",\n",
    "    \"struct_type\": \"M3Gnet_relaxed\",\n",
    "    \"interpolation\": False,\n",
    "    \"model_type\": \"e3nn\",\n",
    "    \"contrastive_weight\":1.0,\n",
    "    \"training_fraction\":1.0\n",
    "}\n",
    "\n",
    "reverify_sigopt_models(model_params, gpu_num, target_prop)\n",
    "keep_the_best_few_models(model_params, target_prop)"
   ]
  },
  {
   "cell_type": "code",
   "execution_count": null,
   "id": "23f9ebd7",
   "metadata": {},
   "outputs": [],
   "source": [
    "gpu_num=0\n",
    "target_prop=\"dft_e_hull\"\n",
    "\n",
    "model_params = {\n",
    "    \"data\":\"data/\",\n",
    "    \"struct_type\": \"relaxed\",\n",
    "    \"interpolation\": False,\n",
    "    \"model_type\": \"CGCNN\",\n",
    "    \"contrastive_weight\":1.0,\n",
    "    \"training_fraction\":0.5\n",
    "}\n",
    "\n",
    "reverify_sigopt_models(model_params, gpu_num, target_prop)\n",
    "keep_the_best_few_models(model_params, target_prop)"
   ]
  },
  {
   "cell_type": "code",
   "execution_count": null,
   "id": "b5e6496c",
   "metadata": {},
   "outputs": [],
   "source": [
    "gpu_num=0\n",
    "target_prop=\"dft_e_hull\"\n",
    "\n",
    "model_params = {\n",
    "    \"data\":\"data/\",\n",
    "    \"struct_type\": \"relaxed\",\n",
    "    \"interpolation\": False,\n",
    "    \"model_type\": \"CGCNN\",\n",
    "    \"contrastive_weight\":1.0,\n",
    "    \"training_fraction\":0.25\n",
    "}\n",
    "\n",
    "reverify_sigopt_models(model_params, gpu_num, target_prop)\n",
    "keep_the_best_few_models(model_params, target_prop)"
   ]
  },
  {
   "cell_type": "code",
   "execution_count": null,
   "id": "5731ca1c",
   "metadata": {},
   "outputs": [],
   "source": [
    "gpu_num=0\n",
    "target_prop=\"dft_e_hull\"\n",
    "\n",
    "model_params = {\n",
    "    \"data\":\"data/\",\n",
    "    \"struct_type\": \"relaxed\",\n",
    "    \"interpolation\": False,\n",
    "    \"model_type\": \"CGCNN\",\n",
    "    \"contrastive_weight\":1.0,\n",
    "    \"training_fraction\":0.125\n",
    "}\n",
    "\n",
    "reverify_sigopt_models(model_params, gpu_num, target_prop)\n",
    "keep_the_best_few_models(model_params, target_prop)"
   ]
  },
  {
   "cell_type": "code",
   "execution_count": null,
   "id": "11fb6e83",
   "metadata": {},
   "outputs": [],
   "source": [
    "gpu_num=0\n",
    "target_prop=\"dft_e_hull\"\n",
    "\n",
    "model_params = {\n",
    "    \"data\":\"data/\",\n",
    "    \"struct_type\": \"relaxed\",\n",
    "    \"interpolation\": False,\n",
    "    \"model_type\": \"e3nn\",\n",
    "    \"contrastive_weight\":1.0,\n",
    "    \"training_fraction\":0.5\n",
    "}\n",
    "\n",
    "reverify_sigopt_models(model_params, gpu_num, target_prop)\n",
    "keep_the_best_few_models(model_params, target_prop)"
   ]
  },
  {
   "cell_type": "code",
   "execution_count": null,
   "id": "def1ef2c",
   "metadata": {},
   "outputs": [],
   "source": [
    "gpu_num=0\n",
    "target_prop=\"dft_e_hull\"\n",
    "\n",
    "model_params = {\n",
    "    \"data\":\"data/\",\n",
    "    \"struct_type\": \"relaxed\",\n",
    "    \"interpolation\": False,\n",
    "    \"model_type\": \"e3nn\",\n",
    "    \"contrastive_weight\":1.0,\n",
    "    \"training_fraction\":0.25\n",
    "}\n",
    "\n",
    "reverify_sigopt_models(model_params, gpu_num, target_prop)\n",
    "keep_the_best_few_models(model_params, target_prop)"
   ]
  },
  {
   "cell_type": "code",
   "execution_count": null,
   "id": "1d48812a",
   "metadata": {},
   "outputs": [],
   "source": [
    "gpu_num=0\n",
    "target_prop=\"dft_e_hull\"\n",
    "\n",
    "model_params = {\n",
    "    \"data\":\"data/\",\n",
    "    \"struct_type\": \"relaxed\",\n",
    "    \"interpolation\": False,\n",
    "    \"model_type\": \"e3nn\",\n",
    "    \"contrastive_weight\":1.0,\n",
    "    \"training_fraction\":0.125\n",
    "}\n",
    "\n",
    "reverify_sigopt_models(model_params, gpu_num, target_prop)\n",
    "keep_the_best_few_models(model_params, target_prop)"
   ]
  },
  {
   "cell_type": "code",
   "execution_count": null,
   "id": "0df76961",
   "metadata": {},
   "outputs": [],
   "source": [
    "gpu_num=0\n",
    "target_prop=\"dft_e_hull\"\n",
    "\n",
    "model_params = {\n",
    "    \"data\":\"data/\",\n",
    "    \"struct_type\": \"unrelaxed\",\n",
    "    \"interpolation\": False,\n",
    "    \"model_type\": \"CGCNN\",\n",
    "    \"contrastive_weight\":1.0,\n",
    "    \"training_fraction\":0.5\n",
    "}\n",
    "\n",
    "reverify_sigopt_models(model_params, gpu_num, target_prop)\n",
    "keep_the_best_few_models(model_params, target_prop)"
   ]
  },
  {
   "cell_type": "code",
   "execution_count": null,
   "id": "095aabcf",
   "metadata": {},
   "outputs": [],
   "source": [
    "gpu_num=0\n",
    "target_prop=\"dft_e_hull\"\n",
    "\n",
    "model_params = {\n",
    "    \"data\":\"data/\",\n",
    "    \"struct_type\": \"unrelaxed\",\n",
    "    \"interpolation\": False,\n",
    "    \"model_type\": \"CGCNN\",\n",
    "    \"contrastive_weight\":1.0,\n",
    "    \"training_fraction\":0.25\n",
    "}\n",
    "\n",
    "reverify_sigopt_models(model_params, gpu_num, target_prop)\n",
    "keep_the_best_few_models(model_params, target_prop)"
   ]
  },
  {
   "cell_type": "code",
   "execution_count": null,
   "id": "9c2b8daf",
   "metadata": {},
   "outputs": [],
   "source": [
    "gpu_num=0\n",
    "target_prop=\"dft_e_hull\"\n",
    "\n",
    "model_params = {\n",
    "    \"data\":\"data/\",\n",
    "    \"struct_type\": \"unrelaxed\",\n",
    "    \"interpolation\": False,\n",
    "    \"model_type\": \"e3nn\",\n",
    "    \"contrastive_weight\":1.0,\n",
    "    \"training_fraction\":0.5\n",
    "}\n",
    "\n",
    "reverify_sigopt_models(model_params, gpu_num, target_prop)\n",
    "keep_the_best_few_models(model_params, target_prop)"
   ]
  },
  {
   "cell_type": "code",
   "execution_count": null,
   "id": "322e3d1f",
   "metadata": {},
   "outputs": [],
   "source": [
    "gpu_num=0\n",
    "target_prop=\"dft_e_hull\"\n",
    "\n",
    "model_params = {\n",
    "    \"data\":\"data/\",\n",
    "    \"struct_type\": \"unrelaxed\",\n",
    "    \"interpolation\": False,\n",
    "    \"model_type\": \"e3nn\",\n",
    "    \"contrastive_weight\":1.0,\n",
    "    \"training_fraction\":0.25\n",
    "}\n",
    "\n",
    "reverify_sigopt_models(model_params, gpu_num, target_prop)\n",
    "keep_the_best_few_models(model_params, target_prop)"
   ]
  },
  {
   "cell_type": "code",
   "execution_count": null,
   "id": "1f285261",
   "metadata": {},
   "outputs": [],
   "source": [
    "gpu_num=0\n",
    "target_prop=\"dft_e_hull\"\n",
    "\n",
    "model_params = {\n",
    "    \"data\":\"data/\",\n",
    "    \"struct_type\": \"unrelaxed\",\n",
    "    \"interpolation\": False,\n",
    "    \"model_type\": \"e3nn\",\n",
    "    \"contrastive_weight\":1.0,\n",
    "    \"training_fraction\":0.125\n",
    "}\n",
    "\n",
    "reverify_sigopt_models(model_params, gpu_num, target_prop)\n",
    "keep_the_best_few_models(model_params, target_prop)"
   ]
  },
  {
   "cell_type": "code",
   "execution_count": null,
   "id": "0892781d",
   "metadata": {},
   "outputs": [],
   "source": [
    "gpu_num=0\n",
    "target_prop=\"Op_band_center\"\n",
    "\n",
    "model_params = {\n",
    "    \"data\":\"data/\",\n",
    "    \"struct_type\": \"relaxed\",\n",
    "    \"interpolation\": False,\n",
    "    \"model_type\": \"CGCNN\",\n",
    "    \"contrastive_weight\":1.0,\n",
    "    \"training_fraction\":0.5\n",
    "}\n",
    "\n",
    "reverify_sigopt_models(model_params, gpu_num, target_prop)\n",
    "keep_the_best_few_models(model_params, target_prop)"
   ]
  },
  {
   "cell_type": "code",
   "execution_count": null,
   "id": "daba3b86",
   "metadata": {},
   "outputs": [],
   "source": [
    "gpu_num=0\n",
    "target_prop=\"Op_band_center\"\n",
    "\n",
    "model_params = {\n",
    "    \"data\":\"data/\",\n",
    "    \"struct_type\": \"relaxed\",\n",
    "    \"interpolation\": False,\n",
    "    \"model_type\": \"CGCNN\",\n",
    "    \"contrastive_weight\":1.0,\n",
    "    \"training_fraction\":0.25\n",
    "}\n",
    "\n",
    "reverify_sigopt_models(model_params, gpu_num, target_prop)\n",
    "keep_the_best_few_models(model_params, target_prop)"
   ]
  },
  {
   "cell_type": "code",
   "execution_count": null,
   "id": "e4094e0e",
   "metadata": {},
   "outputs": [],
   "source": [
    "gpu_num=0\n",
    "target_prop=\"Op_band_center\"\n",
    "\n",
    "model_params = {\n",
    "    \"data\":\"data/\",\n",
    "    \"struct_type\": \"relaxed\",\n",
    "    \"interpolation\": False,\n",
    "    \"model_type\": \"CGCNN\",\n",
    "    \"contrastive_weight\":1.0,\n",
    "    \"training_fraction\":0.125\n",
    "}\n",
    "\n",
    "reverify_sigopt_models(model_params, gpu_num, target_prop)\n",
    "keep_the_best_few_models(model_params, target_prop)"
   ]
  },
  {
   "cell_type": "code",
   "execution_count": null,
   "id": "41a72373",
   "metadata": {},
   "outputs": [],
   "source": [
    "gpu_num=0\n",
    "target_prop=\"Op_band_center\"\n",
    "\n",
    "model_params = {\n",
    "    \"data\":\"data/\",\n",
    "    \"struct_type\": \"relaxed\",\n",
    "    \"interpolation\": False,\n",
    "    \"model_type\": \"e3nn\",\n",
    "    \"contrastive_weight\":1.0,\n",
    "    \"training_fraction\":0.5\n",
    "}\n",
    "\n",
    "reverify_sigopt_models(model_params, gpu_num, target_prop)\n",
    "keep_the_best_few_models(model_params, target_prop)"
   ]
  },
  {
   "cell_type": "code",
   "execution_count": null,
   "id": "26c5f170",
   "metadata": {},
   "outputs": [],
   "source": [
    "gpu_num=0\n",
    "target_prop=\"Op_band_center\"\n",
    "\n",
    "model_params = {\n",
    "    \"data\":\"data/\",\n",
    "    \"struct_type\": \"relaxed\",\n",
    "    \"interpolation\": False,\n",
    "    \"model_type\": \"e3nn\",\n",
    "    \"contrastive_weight\":1.0,\n",
    "    \"training_fraction\":0.25\n",
    "}\n",
    "\n",
    "reverify_sigopt_models(model_params, gpu_num, target_prop)\n",
    "keep_the_best_few_models(model_params, target_prop)"
   ]
  },
  {
   "cell_type": "code",
   "execution_count": null,
   "id": "44a64edf",
   "metadata": {},
   "outputs": [],
   "source": [
    "gpu_num=0\n",
    "target_prop=\"Op_band_center\"\n",
    "\n",
    "model_params = {\n",
    "    \"data\":\"data/\",\n",
    "    \"struct_type\": \"relaxed\",\n",
    "    \"interpolation\": False,\n",
    "    \"model_type\": \"e3nn\",\n",
    "    \"contrastive_weight\":1.0,\n",
    "    \"training_fraction\":0.125\n",
    "}\n",
    "\n",
    "reverify_sigopt_models(model_params, gpu_num, target_prop)\n",
    "keep_the_best_few_models(model_params, target_prop)"
   ]
  },
  {
   "cell_type": "code",
   "execution_count": null,
   "id": "26a33b78",
   "metadata": {},
   "outputs": [],
   "source": [
    "gpu_num=0\n",
    "target_prop=\"Op_band_center\"\n",
    "\n",
    "model_params = {\n",
    "    \"data\":\"data/\",\n",
    "    \"struct_type\": \"unrelaxed\",\n",
    "    \"interpolation\": False,\n",
    "    \"model_type\": \"CGCNN\",\n",
    "    \"contrastive_weight\":1.0,\n",
    "    \"training_fraction\":0.5\n",
    "}\n",
    "\n",
    "reverify_sigopt_models(model_params, gpu_num, target_prop)\n",
    "keep_the_best_few_models(model_params, target_prop)"
   ]
  },
  {
   "cell_type": "code",
   "execution_count": null,
   "id": "6e89b747",
   "metadata": {},
   "outputs": [],
   "source": [
    "gpu_num=0\n",
    "target_prop=\"Op_band_center\"\n",
    "\n",
    "model_params = {\n",
    "    \"data\":\"data/\",\n",
    "    \"struct_type\": \"unrelaxed\",\n",
    "    \"interpolation\": False,\n",
    "    \"model_type\": \"CGCNN\",\n",
    "    \"contrastive_weight\":1.0,\n",
    "    \"training_fraction\":0.25\n",
    "}\n",
    "\n",
    "reverify_sigopt_models(model_params, gpu_num, target_prop)\n",
    "keep_the_best_few_models(model_params, target_prop)"
   ]
  },
  {
   "cell_type": "code",
   "execution_count": null,
   "id": "7f062cc4",
   "metadata": {},
   "outputs": [],
   "source": [
    "gpu_num=0\n",
    "target_prop=\"Op_band_center\"\n",
    "\n",
    "model_params = {\n",
    "    \"data\":\"data/\",\n",
    "    \"struct_type\": \"unrelaxed\",\n",
    "    \"interpolation\": False,\n",
    "    \"model_type\": \"e3nn\",\n",
    "    \"contrastive_weight\":1.0,\n",
    "    \"training_fraction\":0.5\n",
    "}\n",
    "\n",
    "reverify_sigopt_models(model_params, gpu_num, target_prop)\n",
    "keep_the_best_few_models(model_params, target_prop)"
   ]
  },
  {
   "cell_type": "code",
   "execution_count": null,
   "id": "9216cdd0",
   "metadata": {},
   "outputs": [],
   "source": [
    "gpu_num=0\n",
    "target_prop=\"Op_band_center\"\n",
    "\n",
    "model_params = {\n",
    "    \"data\":\"data/\",\n",
    "    \"struct_type\": \"unrelaxed\",\n",
    "    \"interpolation\": False,\n",
    "    \"model_type\": \"e3nn\",\n",
    "    \"contrastive_weight\":1.0,\n",
    "    \"training_fraction\":0.25\n",
    "}\n",
    "\n",
    "reverify_sigopt_models(model_params, gpu_num, target_prop)\n",
    "keep_the_best_few_models(model_params, target_prop)"
   ]
  },
  {
   "cell_type": "code",
   "execution_count": null,
   "id": "c6b2d110",
   "metadata": {},
   "outputs": [],
   "source": [
    "gpu_num=0\n",
    "target_prop=\"Op_band_center\"\n",
    "\n",
    "model_params = {\n",
    "    \"data\":\"data/\",\n",
    "    \"struct_type\": \"unrelaxed\",\n",
    "    \"interpolation\": False,\n",
    "    \"model_type\": \"e3nn\",\n",
    "    \"contrastive_weight\":1.0,\n",
    "    \"training_fraction\":0.125\n",
    "}\n",
    "\n",
    "reverify_sigopt_models(model_params, gpu_num, target_prop)\n",
    "keep_the_best_few_models(model_params, target_prop)"
   ]
  },
  {
   "cell_type": "code",
   "execution_count": null,
   "id": "e17abf37",
   "metadata": {},
   "outputs": [],
   "source": [
    "gpu_num=0\n",
    "target_prop=\"dft_e_hull\"\n",
    "\n",
    "model_params = {\n",
    "    \"data\":\"data/\",\n",
    "    \"struct_type\": \"relaxed\",\n",
    "    \"interpolation\": True,\n",
    "    \"model_type\": \"CGCNN\",\n",
    "    \"contrastive_weight\":1.0,\n",
    "    \"training_fraction\":0.5\n",
    "}\n",
    "\n",
    "reverify_sigopt_models(model_params, gpu_num, target_prop)\n",
    "keep_the_best_few_models(model_params, target_prop)"
   ]
  },
  {
   "cell_type": "code",
   "execution_count": null,
   "id": "62b824ee",
   "metadata": {},
   "outputs": [],
   "source": [
    "gpu_num=0\n",
    "target_prop=\"dft_e_hull\"\n",
    "\n",
    "model_params = {\n",
    "    \"data\":\"data/\",\n",
    "    \"struct_type\": \"relaxed\",\n",
    "    \"interpolation\": True,\n",
    "    \"model_type\": \"CGCNN\",\n",
    "    \"contrastive_weight\":1.0,\n",
    "    \"training_fraction\":0.25\n",
    "}\n",
    "\n",
    "reverify_sigopt_models(model_params, gpu_num, target_prop)\n",
    "keep_the_best_few_models(model_params, target_prop)"
   ]
  },
  {
   "cell_type": "code",
   "execution_count": null,
   "id": "90329b33",
   "metadata": {},
   "outputs": [],
   "source": [
    "gpu_num=0\n",
    "target_prop=\"dft_e_hull\"\n",
    "\n",
    "model_params = {\n",
    "    \"data\":\"data/\",\n",
    "    \"struct_type\": \"relaxed\",\n",
    "    \"interpolation\": True,\n",
    "    \"model_type\": \"CGCNN\",\n",
    "    \"contrastive_weight\":1.0,\n",
    "    \"training_fraction\":0.125\n",
    "}\n",
    "\n",
    "reverify_sigopt_models(model_params, gpu_num, target_prop)\n",
    "keep_the_best_few_models(model_params, target_prop)"
   ]
  },
  {
   "cell_type": "code",
   "execution_count": null,
   "id": "b36ba211",
   "metadata": {},
   "outputs": [],
   "source": [
    "gpu_num=0\n",
    "target_prop=\"dft_e_hull\"\n",
    "\n",
    "model_params = {\n",
    "    \"data\":\"data/\",\n",
    "    \"struct_type\": \"relaxed\",\n",
    "    \"interpolation\": True,\n",
    "    \"model_type\": \"e3nn\",\n",
    "    \"contrastive_weight\":1.0,\n",
    "    \"training_fraction\":0.5\n",
    "}\n",
    "\n",
    "reverify_sigopt_models(model_params, gpu_num, target_prop)\n",
    "keep_the_best_few_models(model_params, target_prop)"
   ]
  },
  {
   "cell_type": "code",
   "execution_count": null,
   "id": "6e8448ea",
   "metadata": {},
   "outputs": [],
   "source": [
    "gpu_num=0\n",
    "target_prop=\"dft_e_hull\"\n",
    "\n",
    "model_params = {\n",
    "    \"data\":\"data/\",\n",
    "    \"struct_type\": \"relaxed\",\n",
    "    \"interpolation\": True,\n",
    "    \"model_type\": \"e3nn\",\n",
    "    \"contrastive_weight\":1.0,\n",
    "    \"training_fraction\":0.25\n",
    "}\n",
    "\n",
    "reverify_sigopt_models(model_params, gpu_num, target_prop)\n",
    "keep_the_best_few_models(model_params, target_prop)"
   ]
  },
  {
   "cell_type": "code",
   "execution_count": null,
   "id": "283c4c18",
   "metadata": {},
   "outputs": [],
   "source": [
    "gpu_num=0\n",
    "target_prop=\"dft_e_hull\"\n",
    "\n",
    "model_params = {\n",
    "    \"data\":\"data/\",\n",
    "    \"struct_type\": \"relaxed\",\n",
    "    \"interpolation\": True,\n",
    "    \"model_type\": \"e3nn\",\n",
    "    \"contrastive_weight\":1.0,\n",
    "    \"training_fraction\":0.125\n",
    "}\n",
    "\n",
    "reverify_sigopt_models(model_params, gpu_num, target_prop)\n",
    "keep_the_best_few_models(model_params, target_prop)"
   ]
  },
  {
   "cell_type": "code",
   "execution_count": null,
   "id": "507c626e",
   "metadata": {},
   "outputs": [],
   "source": [
    "gpu_num=0\n",
    "target_prop=\"dft_e_hull\"\n",
    "\n",
    "model_params = {\n",
    "    \"data\":\"data/\",\n",
    "    \"struct_type\": \"unrelaxed\",\n",
    "    \"interpolation\": True,\n",
    "    \"model_type\": \"CGCNN\",\n",
    "    \"contrastive_weight\":1.0,\n",
    "    \"training_fraction\":0.5\n",
    "}\n",
    "\n",
    "reverify_sigopt_models(model_params, gpu_num, target_prop)\n",
    "keep_the_best_few_models(model_params, target_prop)"
   ]
  },
  {
   "cell_type": "code",
   "execution_count": null,
   "id": "60da2c38",
   "metadata": {},
   "outputs": [],
   "source": [
    "gpu_num=0\n",
    "target_prop=\"dft_e_hull\"\n",
    "\n",
    "model_params = {\n",
    "    \"data\":\"data/\",\n",
    "    \"struct_type\": \"unrelaxed\",\n",
    "    \"interpolation\": True,\n",
    "    \"model_type\": \"CGCNN\",\n",
    "    \"contrastive_weight\":1.0,\n",
    "    \"training_fraction\":0.25\n",
    "}\n",
    "\n",
    "reverify_sigopt_models(model_params, gpu_num, target_prop)\n",
    "keep_the_best_few_models(model_params, target_prop)"
   ]
  },
  {
   "cell_type": "code",
   "execution_count": null,
   "id": "ce897bbd",
   "metadata": {},
   "outputs": [],
   "source": [
    "gpu_num=0\n",
    "target_prop=\"dft_e_hull\"\n",
    "\n",
    "model_params = {\n",
    "    \"data\":\"data/\",\n",
    "    \"struct_type\": \"unrelaxed\",\n",
    "    \"interpolation\": True,\n",
    "    \"model_type\": \"CGCNN\",\n",
    "    \"contrastive_weight\":1.0,\n",
    "    \"training_fraction\":0.125\n",
    "}\n",
    "\n",
    "reverify_sigopt_models(model_params, gpu_num, target_prop)\n",
    "keep_the_best_few_models(model_params, target_prop)"
   ]
  },
  {
   "cell_type": "code",
   "execution_count": null,
   "id": "31c0f7a8",
   "metadata": {},
   "outputs": [],
   "source": [
    "gpu_num=0\n",
    "target_prop=\"dft_e_hull\"\n",
    "\n",
    "model_params = {\n",
    "    \"data\":\"data/\",\n",
    "    \"struct_type\": \"unrelaxed\",\n",
    "    \"interpolation\": True,\n",
    "    \"model_type\": \"e3nn\",\n",
    "    \"contrastive_weight\":1.0,\n",
    "    \"training_fraction\":0.5\n",
    "}\n",
    "\n",
    "reverify_sigopt_models(model_params, gpu_num, target_prop)\n",
    "keep_the_best_few_models(model_params, target_prop)"
   ]
  },
  {
   "cell_type": "code",
   "execution_count": null,
   "id": "77508acb",
   "metadata": {},
   "outputs": [],
   "source": [
    "gpu_num=0\n",
    "target_prop=\"dft_e_hull\"\n",
    "\n",
    "model_params = {\n",
    "    \"data\":\"data/\",\n",
    "    \"struct_type\": \"unrelaxed\",\n",
    "    \"interpolation\": True,\n",
    "    \"model_type\": \"e3nn\",\n",
    "    \"contrastive_weight\":1.0,\n",
    "    \"training_fraction\":0.25\n",
    "}\n",
    "\n",
    "reverify_sigopt_models(model_params, gpu_num, target_prop)\n",
    "keep_the_best_few_models(model_params, target_prop)"
   ]
  },
  {
   "cell_type": "code",
   "execution_count": null,
   "id": "3b17fc98",
   "metadata": {},
   "outputs": [],
   "source": [
    "gpu_num=0\n",
    "target_prop=\"dft_e_hull\"\n",
    "\n",
    "model_params = {\n",
    "    \"data\":\"data/\",\n",
    "    \"struct_type\": \"unrelaxed\",\n",
    "    \"interpolation\": True,\n",
    "    \"model_type\": \"e3nn\",\n",
    "    \"contrastive_weight\":1.0,\n",
    "    \"training_fraction\":0.125\n",
    "}\n",
    "\n",
    "reverify_sigopt_models(model_params, gpu_num, target_prop)\n",
    "keep_the_best_few_models(model_params, target_prop)"
   ]
  },
  {
   "cell_type": "code",
   "execution_count": null,
   "id": "bb6f4fdd",
   "metadata": {},
   "outputs": [],
   "source": [
    "gpu_num=0\n",
    "target_prop=\"Op_band_center\"\n",
    "\n",
    "model_params = {\n",
    "    \"data\":\"data/\",\n",
    "    \"struct_type\": \"relaxed\",\n",
    "    \"interpolation\": True,\n",
    "    \"model_type\": \"CGCNN\",\n",
    "    \"contrastive_weight\":1.0,\n",
    "    \"training_fraction\":0.5\n",
    "}\n",
    "\n",
    "reverify_sigopt_models(model_params, gpu_num, target_prop)\n",
    "keep_the_best_few_models(model_params, target_prop)"
   ]
  },
  {
   "cell_type": "code",
   "execution_count": null,
   "id": "66178458",
   "metadata": {},
   "outputs": [],
   "source": [
    "gpu_num=0\n",
    "target_prop=\"Op_band_center\"\n",
    "\n",
    "model_params = {\n",
    "    \"data\":\"data/\",\n",
    "    \"struct_type\": \"relaxed\",\n",
    "    \"interpolation\": True,\n",
    "    \"model_type\": \"CGCNN\",\n",
    "    \"contrastive_weight\":1.0,\n",
    "    \"training_fraction\":0.25\n",
    "}\n",
    "\n",
    "reverify_sigopt_models(model_params, gpu_num, target_prop)\n",
    "keep_the_best_few_models(model_params, target_prop)"
   ]
  },
  {
   "cell_type": "code",
   "execution_count": null,
   "id": "fbdda94e",
   "metadata": {},
   "outputs": [],
   "source": [
    "gpu_num=0\n",
    "target_prop=\"Op_band_center\"\n",
    "\n",
    "model_params = {\n",
    "    \"data\":\"data/\",\n",
    "    \"struct_type\": \"relaxed\",\n",
    "    \"interpolation\": True,\n",
    "    \"model_type\": \"CGCNN\",\n",
    "    \"contrastive_weight\":1.0,\n",
    "    \"training_fraction\":0.125\n",
    "}\n",
    "\n",
    "reverify_sigopt_models(model_params, gpu_num, target_prop)\n",
    "keep_the_best_few_models(model_params, target_prop)"
   ]
  },
  {
   "cell_type": "code",
   "execution_count": null,
   "id": "23e79b6b",
   "metadata": {},
   "outputs": [],
   "source": [
    "gpu_num=0\n",
    "target_prop=\"Op_band_center\"\n",
    "\n",
    "model_params = {\n",
    "    \"data\":\"data/\",\n",
    "    \"struct_type\": \"relaxed\",\n",
    "    \"interpolation\": True,\n",
    "    \"model_type\": \"e3nn\",\n",
    "    \"contrastive_weight\":1.0,\n",
    "    \"training_fraction\":0.5\n",
    "}\n",
    "\n",
    "reverify_sigopt_models(model_params, gpu_num, target_prop)\n",
    "keep_the_best_few_models(model_params, target_prop)"
   ]
  },
  {
   "cell_type": "code",
   "execution_count": null,
   "id": "62917928",
   "metadata": {},
   "outputs": [],
   "source": [
    "gpu_num=0\n",
    "target_prop=\"Op_band_center\"\n",
    "\n",
    "model_params = {\n",
    "    \"data\":\"data/\",\n",
    "    \"struct_type\": \"relaxed\",\n",
    "    \"interpolation\": True,\n",
    "    \"model_type\": \"e3nn\",\n",
    "    \"contrastive_weight\":1.0,\n",
    "    \"training_fraction\":0.25\n",
    "}\n",
    "\n",
    "reverify_sigopt_models(model_params, gpu_num, target_prop)\n",
    "keep_the_best_few_models(model_params, target_prop)"
   ]
  },
  {
   "cell_type": "code",
   "execution_count": null,
   "id": "c8b118eb",
   "metadata": {},
   "outputs": [],
   "source": [
    "gpu_num=0\n",
    "target_prop=\"Op_band_center\"\n",
    "\n",
    "model_params = {\n",
    "    \"data\":\"data/\",\n",
    "    \"struct_type\": \"relaxed\",\n",
    "    \"interpolation\": True,\n",
    "    \"model_type\": \"e3nn\",\n",
    "    \"contrastive_weight\":1.0,\n",
    "    \"training_fraction\":0.125\n",
    "}\n",
    "\n",
    "reverify_sigopt_models(model_params, gpu_num, target_prop)\n",
    "keep_the_best_few_models(model_params, target_prop)"
   ]
  },
  {
   "cell_type": "code",
   "execution_count": null,
   "id": "a1988e8f",
   "metadata": {},
   "outputs": [],
   "source": [
    "gpu_num=0\n",
    "target_prop=\"Op_band_center\"\n",
    "\n",
    "model_params = {\n",
    "    \"data\":\"data/\",\n",
    "    \"struct_type\": \"unrelaxed\",\n",
    "    \"interpolation\": True,\n",
    "    \"model_type\": \"CGCNN\",\n",
    "    \"contrastive_weight\":1.0,\n",
    "    \"training_fraction\":0.5\n",
    "}\n",
    "\n",
    "reverify_sigopt_models(model_params, gpu_num, target_prop)\n",
    "keep_the_best_few_models(model_params, target_prop)"
   ]
  },
  {
   "cell_type": "code",
   "execution_count": null,
   "id": "50ade485",
   "metadata": {},
   "outputs": [],
   "source": [
    "gpu_num=0\n",
    "target_prop=\"Op_band_center\"\n",
    "\n",
    "model_params = {\n",
    "    \"data\":\"data/\",\n",
    "    \"struct_type\": \"unrelaxed\",\n",
    "    \"interpolation\": True,\n",
    "    \"model_type\": \"CGCNN\",\n",
    "    \"contrastive_weight\":1.0,\n",
    "    \"training_fraction\":0.25\n",
    "}\n",
    "\n",
    "reverify_sigopt_models(model_params, gpu_num, target_prop)\n",
    "keep_the_best_few_models(model_params, target_prop)"
   ]
  },
  {
   "cell_type": "code",
   "execution_count": null,
   "id": "68924f98",
   "metadata": {},
   "outputs": [],
   "source": [
    "gpu_num=0\n",
    "target_prop=\"Op_band_center\"\n",
    "\n",
    "model_params = {\n",
    "    \"data\":\"data/\",\n",
    "    \"struct_type\": \"unrelaxed\",\n",
    "    \"interpolation\": True,\n",
    "    \"model_type\": \"CGCNN\",\n",
    "    \"contrastive_weight\":1.0,\n",
    "    \"training_fraction\":0.125\n",
    "}\n",
    "\n",
    "reverify_sigopt_models(model_params, gpu_num, target_prop)\n",
    "keep_the_best_few_models(model_params, target_prop)"
   ]
  },
  {
   "cell_type": "code",
   "execution_count": null,
   "id": "cbd74054",
   "metadata": {},
   "outputs": [],
   "source": [
    "gpu_num=0\n",
    "target_prop=\"Op_band_center\"\n",
    "\n",
    "model_params = {\n",
    "    \"data\":\"data/\",\n",
    "    \"struct_type\": \"unrelaxed\",\n",
    "    \"interpolation\": True,\n",
    "    \"model_type\": \"e3nn\",\n",
    "    \"contrastive_weight\":1.0,\n",
    "    \"training_fraction\":0.5\n",
    "}\n",
    "\n",
    "reverify_sigopt_models(model_params, gpu_num, target_prop)\n",
    "keep_the_best_few_models(model_params, target_prop)"
   ]
  },
  {
   "cell_type": "code",
   "execution_count": null,
   "id": "931cd63e",
   "metadata": {},
   "outputs": [],
   "source": [
    "gpu_num=0\n",
    "target_prop=\"Op_band_center\"\n",
    "\n",
    "model_params = {\n",
    "    \"data\":\"data/\",\n",
    "    \"struct_type\": \"unrelaxed\",\n",
    "    \"interpolation\": True,\n",
    "    \"model_type\": \"e3nn\",\n",
    "    \"contrastive_weight\":1.0,\n",
    "    \"training_fraction\":0.25\n",
    "}\n",
    "\n",
    "reverify_sigopt_models(model_params, gpu_num, target_prop)\n",
    "keep_the_best_few_models(model_params, target_prop)"
   ]
  },
  {
   "cell_type": "code",
   "execution_count": null,
   "id": "05f9ab6e",
   "metadata": {},
   "outputs": [],
   "source": [
    "gpu_num=0\n",
    "target_prop=\"Op_band_center\"\n",
    "\n",
    "model_params = {\n",
    "    \"data\":\"data/\",\n",
    "    \"struct_type\": \"unrelaxed\",\n",
    "    \"interpolation\": True,\n",
    "    \"model_type\": \"e3nn\",\n",
    "    \"contrastive_weight\":1.0,\n",
    "    \"training_fraction\":0.125\n",
    "}\n",
    "\n",
    "reverify_sigopt_models(model_params, gpu_num, target_prop)\n",
    "keep_the_best_few_models(model_params, target_prop)"
   ]
  }
 ],
 "metadata": {
  "kernelspec": {
   "display_name": "Perovskite_ML_Environment",
   "language": "python",
   "name": "perovskite_ml_environment"
  },
  "language_info": {
   "codemirror_mode": {
    "name": "ipython",
    "version": 3
   },
   "file_extension": ".py",
   "mimetype": "text/x-python",
   "name": "python",
   "nbconvert_exporter": "python",
   "pygments_lexer": "ipython3",
   "version": "3.10.11"
  }
 },
 "nbformat": 4,
 "nbformat_minor": 5
}
