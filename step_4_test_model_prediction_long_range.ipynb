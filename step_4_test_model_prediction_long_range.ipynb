{
 "cells": [
  {
   "cell_type": "code",
   "execution_count": 1,
   "metadata": {},
   "outputs": [
    {
     "name": "stderr",
     "output_type": "stream",
     "text": [
      "/home/jypeng/miniconda3/envs/Perovskite_ML_Environment/lib/python3.10/site-packages/tqdm/auto.py:21: TqdmWarning: IProgress not found. Please update jupyter and ipywidgets. See https://ipywidgets.readthedocs.io/en/stable/user_install.html\n",
      "  from .autonotebook import tqdm as notebook_tqdm\n"
     ]
    }
   ],
   "source": [
    "from inference.test_model_prediction import *"
   ]
  },
  {
   "cell_type": "code",
   "execution_count": 2,
   "metadata": {
    "scrolled": true
   },
   "outputs": [
    {
     "name": "stdout",
     "output_type": "stream",
     "text": [
      "Loaded data\n",
      "Completed data processing\n"
     ]
    },
    {
     "name": "stderr",
     "output_type": "stream",
     "text": [
      "100%|██████████| 6276/6276 [00:01<00:00, 3414.58it/s]\n",
      "100%|██████████| 1261/1261 [00:00<00:00, 3436.12it/s]\n"
     ]
    },
    {
     "name": "stdout",
     "output_type": "stream",
     "text": [
      "dft_e_hull_htvs_data_unrelaxed_CGCNN_Long_Range\n"
     ]
    },
    {
     "name": "stderr",
     "output_type": "stream",
     "text": [
      "100%|██████████| 6276/6276 [03:03<00:00, 34.12it/s]\n",
      "100%|██████████| 6276/6276 [00:00<00:00, 8591.47it/s]\n",
      "100%|██████████| 6276/6276 [00:00<00:00, 8313.11it/s]\n"
     ]
    },
    {
     "name": "stdout",
     "output_type": "stream",
     "text": [
      "Completed model prediction for test_set\n",
      "Loaded data\n",
      "Completed data processing\n"
     ]
    },
    {
     "name": "stderr",
     "output_type": "stream",
     "text": [
      "100%|██████████| 6276/6276 [00:01<00:00, 3445.11it/s]\n",
      "100%|██████████| 600/600 [00:00<00:00, 3480.92it/s]\n"
     ]
    },
    {
     "name": "stdout",
     "output_type": "stream",
     "text": [
      "dft_e_hull_htvs_data_unrelaxed_CGCNN_Long_Range\n"
     ]
    },
    {
     "name": "stderr",
     "output_type": "stream",
     "text": [
      "100%|██████████| 6276/6276 [03:04<00:00, 34.00it/s]\n",
      "100%|██████████| 6276/6276 [00:00<00:00, 8271.88it/s]\n",
      "100%|██████████| 6276/6276 [00:00<00:00, 7713.56it/s]\n"
     ]
    },
    {
     "name": "stdout",
     "output_type": "stream",
     "text": [
      "Completed model prediction for holdout_set_B_sites\n",
      "Loaded data\n",
      "Completed data processing\n"
     ]
    },
    {
     "name": "stderr",
     "output_type": "stream",
     "text": [
      "100%|██████████| 6276/6276 [00:01<00:00, 3424.64it/s]\n",
      "100%|██████████| 863/863 [00:00<00:00, 3426.71it/s]\n"
     ]
    },
    {
     "name": "stdout",
     "output_type": "stream",
     "text": [
      "dft_e_hull_htvs_data_unrelaxed_CGCNN_Long_Range\n"
     ]
    },
    {
     "name": "stderr",
     "output_type": "stream",
     "text": [
      "100%|██████████| 6276/6276 [03:35<00:00, 29.18it/s]\n",
      "100%|██████████| 6276/6276 [00:00<00:00, 8041.42it/s]\n",
      "100%|██████████| 6276/6276 [00:00<00:00, 8028.96it/s]\n"
     ]
    },
    {
     "name": "stdout",
     "output_type": "stream",
     "text": [
      "Completed model prediction for holdout_set_series\n"
     ]
    }
   ],
   "source": [
    "gpu_num=0\n",
    "target_prop=\"dft_e_hull\"\n",
    "\n",
    "model_params = {\n",
    "    \"data\":\"data/\",\n",
    "    \"struct_type\": \"unrelaxed\",\n",
    "    \"interpolation\": False,\n",
    "    \"model_type\": \"CGCNN\",\n",
    "    \"contrastive_weight\":1.0,\n",
    "    \"training_fraction\":1.0,\n",
    "    \"long_range\":True\n",
    "}\n",
    "\n",
    "\n",
    "\n",
    "get_all_model_predictions(model_params, gpu_num, target_prop)"
   ]
  },
  {
   "cell_type": "code",
   "execution_count": null,
   "metadata": {},
   "outputs": [],
   "source": []
  }
 ],
 "metadata": {
  "kernelspec": {
   "display_name": "Perovskite_ML_Environment",
   "language": "python",
   "name": "perovskite_ml_environment"
  },
  "language_info": {
   "codemirror_mode": {
    "name": "ipython",
    "version": 3
   },
   "file_extension": ".py",
   "mimetype": "text/x-python",
   "name": "python",
   "nbconvert_exporter": "python",
   "pygments_lexer": "ipython3",
   "version": "3.10.11"
  }
 },
 "nbformat": 4,
 "nbformat_minor": 2
}
