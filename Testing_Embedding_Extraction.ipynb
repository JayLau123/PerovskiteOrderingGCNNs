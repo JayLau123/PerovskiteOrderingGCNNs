{
 "cells": [
  {
   "cell_type": "code",
   "execution_count": 1,
   "id": "f7bfced5",
   "metadata": {},
   "outputs": [
    {
     "name": "stderr",
     "output_type": "stream",
     "text": [
      "/home/jypeng/miniconda3/envs/Perovskite_ML_Environment/lib/python3.10/site-packages/tqdm/auto.py:21: TqdmWarning: IProgress not found. Please update jupyter and ipywidgets. See https://ipywidgets.readthedocs.io/en/stable/user_install.html\n",
      "  from .autonotebook import tqdm as notebook_tqdm\n"
     ]
    }
   ],
   "source": [
    "from inference.embedding_extraction import get_model_embedding"
   ]
  },
  {
   "cell_type": "code",
   "execution_count": 2,
   "id": "79ae28bb",
   "metadata": {},
   "outputs": [],
   "source": [
    "all_params = [\n",
    "{\n",
    "    \"data\":\"data/\",\n",
    "    \"struct_type\": \"unrelaxed\",\n",
    "    \"interpolation\": False,\n",
    "    \"model_type\": \"CGCNN\",\n",
    "    \"contrastive_weight\":1.0,\n",
    "    \"training_fraction\":1.0,\n",
    "    \"long_range\":False\n",
    "},\n",
    "    \n",
    "{\n",
    "    \"data\":\"data/\",\n",
    "    \"struct_type\": \"relaxed\",\n",
    "    \"interpolation\": False,\n",
    "    \"model_type\": \"CGCNN\",\n",
    "    \"contrastive_weight\":1.0,\n",
    "    \"training_fraction\":1.0,\n",
    "    \"long_range\":False\n",
    "},\n",
    "    \n",
    "{\n",
    "    \"data\":\"data/\",\n",
    "    \"struct_type\": \"M3Gnet_relaxed\",\n",
    "    \"interpolation\": False,\n",
    "    \"model_type\": \"CGCNN\",\n",
    "    \"contrastive_weight\":1.0,\n",
    "    \"training_fraction\":1.0,\n",
    "    \"long_range\":False\n",
    "},\n",
    "\n",
    "{\n",
    "    \"data\":\"data/\",\n",
    "    \"struct_type\": \"unrelaxed\",\n",
    "    \"interpolation\": False,\n",
    "    \"model_type\": \"e3nn\",\n",
    "    \"contrastive_weight\":1.0,\n",
    "    \"training_fraction\":1.0,\n",
    "    \"long_range\":False\n",
    "},\n",
    "    \n",
    "{\n",
    "    \"data\":\"data/\",\n",
    "    \"struct_type\": \"relaxed\",\n",
    "    \"interpolation\": False,\n",
    "    \"model_type\": \"e3nn\",\n",
    "    \"contrastive_weight\":1.0,\n",
    "    \"training_fraction\":1.0,\n",
    "    \"long_range\":False\n",
    "},\n",
    "    \n",
    "\n",
    "{\n",
    "    \"data\":\"data/\",\n",
    "    \"struct_type\": \"M3Gnet_relaxed\",\n",
    "    \"interpolation\": False,\n",
    "    \"model_type\": \"e3nn\",\n",
    "    \"contrastive_weight\":1.0,\n",
    "    \"training_fraction\":1.0,\n",
    "    \"long_range\":False\n",
    "}\n",
    "]\n"
   ]
  },
  {
   "cell_type": "code",
   "execution_count": 3,
   "id": "16dfde8a",
   "metadata": {},
   "outputs": [],
   "source": [
    "all_tests = [\"test_set\",\"holdout_set_series\",\"holdout_set_B_sites\"]"
   ]
  },
  {
   "cell_type": "code",
   "execution_count": null,
   "id": "e3ad8be8",
   "metadata": {},
   "outputs": [
    {
     "name": "stdout",
     "output_type": "stream",
     "text": [
      "Loaded data\n",
      "Completed data processing\n"
     ]
    },
    {
     "name": "stderr",
     "output_type": "stream",
     "text": [
      "100%|██████████| 6276/6276 [00:01<00:00, 3562.30it/s]\n",
      "100%|██████████| 1261/1261 [00:00<00:00, 3816.59it/s]\n"
     ]
    },
    {
     "name": "stdout",
     "output_type": "stream",
     "text": [
      "dft_e_hull_htvs_data_unrelaxed_CGCNN\n"
     ]
    },
    {
     "name": "stderr",
     "output_type": "stream",
     "text": [
      "100%|██████████| 6276/6276 [02:47<00:00, 37.39it/s]\n",
      "100%|██████████| 6276/6276 [00:00<00:00, 10324.68it/s]\n",
      "100%|██████████| 6276/6276 [02:47<00:00, 37.52it/s]\n",
      "100%|██████████| 6276/6276 [00:00<00:00, 10335.80it/s]\n",
      "100%|██████████| 6276/6276 [00:00<00:00, 10461.26it/s]\n"
     ]
    },
    {
     "name": "stdout",
     "output_type": "stream",
     "text": [
      "Loaded data\n",
      "Completed data processing\n"
     ]
    },
    {
     "name": "stderr",
     "output_type": "stream",
     "text": [
      "100%|██████████| 6276/6276 [00:01<00:00, 3835.33it/s]\n"
     ]
    }
   ],
   "source": [
    "for param in all_params:\n",
    "    for test in all_tests:\n",
    "        get_model_embedding(test,param,1,\"dft_e_hull\",3,depth=0)"
   ]
  },
  {
   "cell_type": "code",
   "execution_count": null,
   "id": "719b7d36",
   "metadata": {},
   "outputs": [],
   "source": []
  }
 ],
 "metadata": {
  "kernelspec": {
   "display_name": "Perovskite_ML_Environment",
   "language": "python",
   "name": "perovskite_ml_environment"
  },
  "language_info": {
   "codemirror_mode": {
    "name": "ipython",
    "version": 3
   },
   "file_extension": ".py",
   "mimetype": "text/x-python",
   "name": "python",
   "nbconvert_exporter": "python",
   "pygments_lexer": "ipython3",
   "version": "3.10.11"
  }
 },
 "nbformat": 4,
 "nbformat_minor": 5
}
