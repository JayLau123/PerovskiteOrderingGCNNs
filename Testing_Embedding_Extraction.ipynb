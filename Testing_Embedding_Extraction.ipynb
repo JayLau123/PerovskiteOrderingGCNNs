{
 "cells": [
  {
   "cell_type": "code",
   "execution_count": 1,
   "id": "f7bfced5",
   "metadata": {},
   "outputs": [
    {
     "name": "stderr",
     "output_type": "stream",
     "text": [
      "/home/jypeng/miniconda3/envs/Perovskite_ML_Environment/lib/python3.10/site-packages/tqdm/auto.py:21: TqdmWarning: IProgress not found. Please update jupyter and ipywidgets. See https://ipywidgets.readthedocs.io/en/stable/user_install.html\n",
      "  from .autonotebook import tqdm as notebook_tqdm\n"
     ]
    }
   ],
   "source": [
    "from inference.embedding_extraction import get_model_embedding"
   ]
  },
  {
   "cell_type": "code",
   "execution_count": 2,
   "id": "79ae28bb",
   "metadata": {},
   "outputs": [],
   "source": [
    "all_params = [\n",
    "{\n",
    "    \"data\":\"data/\",\n",
    "    \"struct_type\": \"unrelaxed\",\n",
    "    \"interpolation\": False,\n",
    "    \"model_type\": \"CGCNN\",\n",
    "    \"contrastive_weight\":1.0,\n",
    "    \"training_fraction\":1.0\n",
    "},\n",
    "    \n",
    "{\n",
    "    \"data\":\"data/\",\n",
    "    \"struct_type\": \"relaxed\",\n",
    "    \"interpolation\": False,\n",
    "    \"model_type\": \"CGCNN\",\n",
    "    \"contrastive_weight\":1.0,\n",
    "    \"training_fraction\":1.0\n",
    "},\n",
    "    \n",
    "{\n",
    "    \"data\":\"data/\",\n",
    "    \"struct_type\": \"M3Gnet_relaxed\",\n",
    "    \"interpolation\": False,\n",
    "    \"model_type\": \"CGCNN\",\n",
    "    \"contrastive_weight\":1.0,\n",
    "    \"training_fraction\":1.0\n",
    "},\n",
    "\n",
    "{\n",
    "    \"data\":\"data/\",\n",
    "    \"struct_type\": \"unrelaxed\",\n",
    "    \"interpolation\": False,\n",
    "    \"model_type\": \"e3nn\",\n",
    "    \"contrastive_weight\":1.0,\n",
    "    \"training_fraction\":1.0\n",
    "},\n",
    "    \n",
    "{\n",
    "    \"data\":\"data/\",\n",
    "    \"struct_type\": \"relaxed\",\n",
    "    \"interpolation\": False,\n",
    "    \"model_type\": \"e3nn\",\n",
    "    \"contrastive_weight\":1.0,\n",
    "    \"training_fraction\":1.0\n",
    "},\n",
    "    \n",
    "\n",
    "{\n",
    "    \"data\":\"data/\",\n",
    "    \"struct_type\": \"M3Gnet_relaxed\",\n",
    "    \"interpolation\": False,\n",
    "    \"model_type\": \"e3nn\",\n",
    "    \"contrastive_weight\":1.0,\n",
    "    \"training_fraction\":1.0\n",
    "}\n",
    "]\n"
   ]
  },
  {
   "cell_type": "code",
   "execution_count": 3,
   "id": "16dfde8a",
   "metadata": {},
   "outputs": [],
   "source": [
    "all_tests = [\"test_set\",\"holdout_set_series\",\"holdout_set_B_sites\"]"
   ]
  },
  {
   "cell_type": "code",
   "execution_count": 4,
   "id": "e3ad8be8",
   "metadata": {},
   "outputs": [
    {
     "name": "stdout",
     "output_type": "stream",
     "text": [
      "Loaded data\n",
      "Completed data processing\n"
     ]
    },
    {
     "name": "stderr",
     "output_type": "stream",
     "text": [
      "100%|██████████| 6276/6276 [00:01<00:00, 3869.87it/s]\n",
      "100%|██████████| 1261/1261 [00:00<00:00, 3896.23it/s]\n",
      "100%|██████████| 6276/6276 [02:45<00:00, 37.91it/s]\n"
     ]
    },
    {
     "name": "stdout",
     "output_type": "stream",
     "text": [
      "Loaded data\n",
      "Completed data processing\n"
     ]
    },
    {
     "name": "stderr",
     "output_type": "stream",
     "text": [
      "100%|██████████| 6276/6276 [00:03<00:00, 1616.21it/s]\n",
      "100%|██████████| 863/863 [00:00<00:00, 4023.83it/s]\n",
      "100%|██████████| 6276/6276 [02:45<00:00, 37.89it/s]\n"
     ]
    },
    {
     "name": "stdout",
     "output_type": "stream",
     "text": [
      "Loaded data\n",
      "Completed data processing\n"
     ]
    },
    {
     "name": "stderr",
     "output_type": "stream",
     "text": [
      "100%|██████████| 6276/6276 [00:01<00:00, 3872.25it/s]\n",
      "100%|██████████| 600/600 [00:00<00:00, 3892.02it/s]\n",
      "100%|██████████| 6276/6276 [02:44<00:00, 38.13it/s]\n"
     ]
    },
    {
     "name": "stdout",
     "output_type": "stream",
     "text": [
      "Loaded data\n",
      "Completed data processing\n"
     ]
    },
    {
     "name": "stderr",
     "output_type": "stream",
     "text": [
      "100%|██████████| 6276/6276 [00:01<00:00, 3543.06it/s]\n",
      "100%|██████████| 1261/1261 [00:00<00:00, 3543.26it/s]\n",
      "100%|██████████| 6276/6276 [02:44<00:00, 38.15it/s]\n"
     ]
    },
    {
     "name": "stdout",
     "output_type": "stream",
     "text": [
      "Loaded data\n",
      "Completed data processing\n"
     ]
    },
    {
     "name": "stderr",
     "output_type": "stream",
     "text": [
      "100%|██████████| 6276/6276 [00:01<00:00, 3454.90it/s]\n",
      "100%|██████████| 863/863 [00:00<00:00, 3428.39it/s]\n",
      "100%|██████████| 6276/6276 [02:44<00:00, 38.09it/s]\n"
     ]
    },
    {
     "name": "stdout",
     "output_type": "stream",
     "text": [
      "Loaded data\n",
      "Completed data processing\n"
     ]
    },
    {
     "name": "stderr",
     "output_type": "stream",
     "text": [
      "100%|██████████| 6276/6276 [00:01<00:00, 3448.46it/s]\n",
      "100%|██████████| 600/600 [00:00<00:00, 3457.77it/s]\n",
      "100%|██████████| 6276/6276 [02:46<00:00, 37.61it/s]\n"
     ]
    },
    {
     "name": "stdout",
     "output_type": "stream",
     "text": [
      "Loaded data\n",
      "Completed data processing\n"
     ]
    },
    {
     "name": "stderr",
     "output_type": "stream",
     "text": [
      "100%|██████████| 6276/6276 [00:01<00:00, 3892.30it/s]\n",
      "100%|██████████| 1261/1261 [00:00<00:00, 3872.26it/s]\n",
      "100%|██████████| 6276/6276 [02:47<00:00, 37.37it/s]\n"
     ]
    },
    {
     "name": "stdout",
     "output_type": "stream",
     "text": [
      "Loaded data\n",
      "Completed data processing\n"
     ]
    },
    {
     "name": "stderr",
     "output_type": "stream",
     "text": [
      "100%|██████████| 6276/6276 [00:01<00:00, 3899.65it/s]\n",
      "100%|██████████| 863/863 [00:00<00:00, 3845.65it/s]\n",
      "100%|██████████| 6276/6276 [02:45<00:00, 37.90it/s]\n"
     ]
    },
    {
     "name": "stdout",
     "output_type": "stream",
     "text": [
      "Loaded data\n",
      "Completed data processing\n"
     ]
    },
    {
     "name": "stderr",
     "output_type": "stream",
     "text": [
      "100%|██████████| 6276/6276 [00:01<00:00, 3885.57it/s]\n",
      "100%|██████████| 600/600 [00:00<00:00, 3899.86it/s]\n",
      "100%|██████████| 6276/6276 [02:52<00:00, 36.49it/s] \n"
     ]
    },
    {
     "name": "stdout",
     "output_type": "stream",
     "text": [
      "Loaded data\n",
      "Completed data processing\n"
     ]
    },
    {
     "name": "stderr",
     "output_type": "stream",
     "text": [
      "100%|██████████| 6276/6276 [00:01<00:00, 3910.14it/s]\n",
      "100%|██████████| 6276/6276 [03:08<00:00, 33.26it/s]\n",
      "100%|██████████| 1261/1261 [00:00<00:00, 3829.76it/s]\n",
      "100%|██████████| 1261/1261 [00:37<00:00, 33.54it/s]\n",
      "/home/jypeng/miniconda3/envs/Perovskite_ML_Environment/lib/python3.10/site-packages/torch/jit/_check.py:181: UserWarning: The TorchScript type system doesn't support instance-level annotations on empty non-base types in `__init__`. Instead, either 1) use a type annotation in the class body, or 2) wrap the type in `torch.jit.Attribute`.\n",
      "  warnings.warn(\"The TorchScript type system doesn't support \"\n"
     ]
    },
    {
     "name": "stdout",
     "output_type": "stream",
     "text": [
      "Loaded data\n",
      "Completed data processing\n"
     ]
    },
    {
     "name": "stderr",
     "output_type": "stream",
     "text": [
      "100%|██████████| 6276/6276 [00:01<00:00, 3893.97it/s]\n",
      "100%|██████████| 6276/6276 [03:12<00:00, 32.57it/s]\n",
      "100%|██████████| 863/863 [00:00<00:00, 3774.11it/s]\n",
      "100%|██████████| 863/863 [00:26<00:00, 33.12it/s]\n",
      "/home/jypeng/miniconda3/envs/Perovskite_ML_Environment/lib/python3.10/site-packages/torch/jit/_check.py:181: UserWarning: The TorchScript type system doesn't support instance-level annotations on empty non-base types in `__init__`. Instead, either 1) use a type annotation in the class body, or 2) wrap the type in `torch.jit.Attribute`.\n",
      "  warnings.warn(\"The TorchScript type system doesn't support \"\n"
     ]
    },
    {
     "name": "stdout",
     "output_type": "stream",
     "text": [
      "Loaded data\n",
      "Completed data processing\n"
     ]
    },
    {
     "name": "stderr",
     "output_type": "stream",
     "text": [
      "100%|██████████| 6276/6276 [00:01<00:00, 3873.24it/s]\n",
      "100%|██████████| 6276/6276 [03:12<00:00, 32.60it/s]\n",
      "100%|██████████| 600/600 [00:00<00:00, 3796.51it/s]\n",
      "100%|██████████| 600/600 [00:18<00:00, 32.90it/s]\n",
      "/home/jypeng/miniconda3/envs/Perovskite_ML_Environment/lib/python3.10/site-packages/torch/jit/_check.py:181: UserWarning: The TorchScript type system doesn't support instance-level annotations on empty non-base types in `__init__`. Instead, either 1) use a type annotation in the class body, or 2) wrap the type in `torch.jit.Attribute`.\n",
      "  warnings.warn(\"The TorchScript type system doesn't support \"\n"
     ]
    },
    {
     "name": "stdout",
     "output_type": "stream",
     "text": [
      "Loaded data\n",
      "Completed data processing\n"
     ]
    },
    {
     "name": "stderr",
     "output_type": "stream",
     "text": [
      "100%|██████████| 6276/6276 [00:01<00:00, 3439.97it/s]\n",
      "100%|██████████| 6276/6276 [03:05<00:00, 33.88it/s]\n",
      "100%|██████████| 1261/1261 [00:00<00:00, 3389.57it/s]\n",
      "100%|██████████| 1261/1261 [00:38<00:00, 32.91it/s]\n",
      "/home/jypeng/miniconda3/envs/Perovskite_ML_Environment/lib/python3.10/site-packages/torch/jit/_check.py:181: UserWarning: The TorchScript type system doesn't support instance-level annotations on empty non-base types in `__init__`. Instead, either 1) use a type annotation in the class body, or 2) wrap the type in `torch.jit.Attribute`.\n",
      "  warnings.warn(\"The TorchScript type system doesn't support \"\n"
     ]
    },
    {
     "name": "stdout",
     "output_type": "stream",
     "text": [
      "Loaded data\n",
      "Completed data processing\n"
     ]
    },
    {
     "name": "stderr",
     "output_type": "stream",
     "text": [
      "100%|██████████| 6276/6276 [00:01<00:00, 3433.36it/s]\n",
      "100%|██████████| 6276/6276 [03:06<00:00, 33.70it/s]\n",
      "100%|██████████| 863/863 [00:00<00:00, 3362.58it/s]\n",
      "100%|██████████| 863/863 [00:26<00:00, 32.91it/s]\n",
      "/home/jypeng/miniconda3/envs/Perovskite_ML_Environment/lib/python3.10/site-packages/torch/jit/_check.py:181: UserWarning: The TorchScript type system doesn't support instance-level annotations on empty non-base types in `__init__`. Instead, either 1) use a type annotation in the class body, or 2) wrap the type in `torch.jit.Attribute`.\n",
      "  warnings.warn(\"The TorchScript type system doesn't support \"\n"
     ]
    },
    {
     "name": "stdout",
     "output_type": "stream",
     "text": [
      "Loaded data\n",
      "Completed data processing\n"
     ]
    },
    {
     "name": "stderr",
     "output_type": "stream",
     "text": [
      "100%|██████████| 6276/6276 [00:01<00:00, 3419.06it/s]\n",
      "100%|██████████| 6276/6276 [03:07<00:00, 33.51it/s]\n",
      "100%|██████████| 600/600 [00:00<00:00, 3332.61it/s]\n",
      "100%|██████████| 600/600 [00:18<00:00, 32.97it/s]\n",
      "/home/jypeng/miniconda3/envs/Perovskite_ML_Environment/lib/python3.10/site-packages/torch/jit/_check.py:181: UserWarning: The TorchScript type system doesn't support instance-level annotations on empty non-base types in `__init__`. Instead, either 1) use a type annotation in the class body, or 2) wrap the type in `torch.jit.Attribute`.\n",
      "  warnings.warn(\"The TorchScript type system doesn't support \"\n"
     ]
    },
    {
     "name": "stdout",
     "output_type": "stream",
     "text": [
      "Loaded data\n",
      "Completed data processing\n"
     ]
    },
    {
     "name": "stderr",
     "output_type": "stream",
     "text": [
      "100%|██████████| 6276/6276 [00:01<00:00, 3815.76it/s]\n",
      "100%|██████████| 6276/6276 [03:07<00:00, 33.46it/s]\n",
      "100%|██████████| 1261/1261 [00:00<00:00, 3725.54it/s]\n",
      "100%|██████████| 1261/1261 [00:38<00:00, 32.83it/s]\n",
      "/home/jypeng/miniconda3/envs/Perovskite_ML_Environment/lib/python3.10/site-packages/torch/jit/_check.py:181: UserWarning: The TorchScript type system doesn't support instance-level annotations on empty non-base types in `__init__`. Instead, either 1) use a type annotation in the class body, or 2) wrap the type in `torch.jit.Attribute`.\n",
      "  warnings.warn(\"The TorchScript type system doesn't support \"\n"
     ]
    },
    {
     "name": "stdout",
     "output_type": "stream",
     "text": [
      "Loaded data\n",
      "Completed data processing\n"
     ]
    },
    {
     "name": "stderr",
     "output_type": "stream",
     "text": [
      "100%|██████████| 6276/6276 [00:01<00:00, 3834.09it/s]\n",
      "100%|██████████| 6276/6276 [03:08<00:00, 33.22it/s]\n",
      "100%|██████████| 863/863 [00:00<00:00, 3694.24it/s]\n",
      "100%|██████████| 863/863 [00:28<00:00, 30.26it/s]\n",
      "/home/jypeng/miniconda3/envs/Perovskite_ML_Environment/lib/python3.10/site-packages/torch/jit/_check.py:181: UserWarning: The TorchScript type system doesn't support instance-level annotations on empty non-base types in `__init__`. Instead, either 1) use a type annotation in the class body, or 2) wrap the type in `torch.jit.Attribute`.\n",
      "  warnings.warn(\"The TorchScript type system doesn't support \"\n"
     ]
    },
    {
     "name": "stdout",
     "output_type": "stream",
     "text": [
      "Loaded data\n",
      "Completed data processing\n"
     ]
    },
    {
     "name": "stderr",
     "output_type": "stream",
     "text": [
      "100%|██████████| 6276/6276 [00:01<00:00, 3811.07it/s]\n",
      "100%|██████████| 6276/6276 [03:11<00:00, 32.80it/s]\n",
      "100%|██████████| 600/600 [00:00<00:00, 3695.53it/s]\n",
      "100%|██████████| 600/600 [00:19<00:00, 31.33it/s]\n",
      "/home/jypeng/miniconda3/envs/Perovskite_ML_Environment/lib/python3.10/site-packages/torch/jit/_check.py:181: UserWarning: The TorchScript type system doesn't support instance-level annotations on empty non-base types in `__init__`. Instead, either 1) use a type annotation in the class body, or 2) wrap the type in `torch.jit.Attribute`.\n",
      "  warnings.warn(\"The TorchScript type system doesn't support \"\n"
     ]
    }
   ],
   "source": [
    "for param in all_params:\n",
    "    for test in all_tests:\n",
    "        get_model_embedding(test,param,1,\"dft_e_hull\",1,depth=0)"
   ]
  },
  {
   "cell_type": "code",
   "execution_count": null,
   "id": "719b7d36",
   "metadata": {},
   "outputs": [],
   "source": []
  }
 ],
 "metadata": {
  "kernelspec": {
   "display_name": "Perovskite_ML_Environment",
   "language": "python",
   "name": "perovskite_ml_environment"
  },
  "language_info": {
   "codemirror_mode": {
    "name": "ipython",
    "version": 3
   },
   "file_extension": ".py",
   "mimetype": "text/x-python",
   "name": "python",
   "nbconvert_exporter": "python",
   "pygments_lexer": "ipython3",
   "version": "3.10.11"
  }
 },
 "nbformat": 4,
 "nbformat_minor": 5
}
