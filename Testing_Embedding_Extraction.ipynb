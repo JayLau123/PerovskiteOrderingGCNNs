{
 "cells": [
  {
   "cell_type": "code",
   "execution_count": 1,
   "id": "f7bfced5",
   "metadata": {},
   "outputs": [
    {
     "name": "stderr",
     "output_type": "stream",
     "text": [
      "/home/jkdamewo/miniconda3/envs/Perovskite_ML_Environment/lib/python3.10/site-packages/tqdm/auto.py:21: TqdmWarning: IProgress not found. Please update jupyter and ipywidgets. See https://ipywidgets.readthedocs.io/en/stable/user_install.html\n",
      "  from .autonotebook import tqdm as notebook_tqdm\n"
     ]
    }
   ],
   "source": [
    "from inference.embedding_extraction import get_model_embedding"
   ]
  },
  {
   "cell_type": "code",
   "execution_count": 2,
   "id": "c7bf4b9d",
   "metadata": {},
   "outputs": [
    {
     "name": "stdout",
     "output_type": "stream",
     "text": [
      "Loaded data\n",
      "Completed data processing\n"
     ]
    },
    {
     "name": "stderr",
     "output_type": "stream",
     "text": [
      "100%|██████████| 6276/6276 [00:01<00:00, 3237.82it/s]\n",
      "100%|██████████| 1261/1261 [00:00<00:00, 3264.29it/s]\n",
      "100%|██████████| 6276/6276 [03:16<00:00, 31.94it/s]\n"
     ]
    }
   ],
   "source": [
    "model_params = {\"model_type\": \"CGCNN\", \"interpolation\": False, \"struct_type\": \"unrelaxed\", \"exp_id\": 837611}\n",
    "\n",
    "get_model_embedding(\"test_set\",model_params,1,\"dft_e_hull\",1,depth=0)"
   ]
  },
  {
   "cell_type": "code",
   "execution_count": 3,
   "id": "79ae28bb",
   "metadata": {},
   "outputs": [],
   "source": [
    "all_params = [\n",
    "{\"model_type\": \"CGCNN\", \"interpolation\": False, \"struct_type\": \"unrelaxed\", \"exp_id\": 837611},\n",
    "{\"model_type\": \"CGCNN\", \"interpolation\": False, \"struct_type\": \"relaxed\", \"exp_id\": 837612},\n",
    "{\"model_type\": \"CGCNN\", \"interpolation\": False, \"struct_type\": \"M3Gnet_relaxed\", \"exp_id\": 837613},\n",
    "\n",
    "{\"model_type\": \"e3nn\", \"interpolation\": False, \"struct_type\": \"unrelaxed\", \"exp_id\": 837627},\n",
    "{\"model_type\": \"e3nn\", \"interpolation\": False, \"struct_type\": \"relaxed\", \"exp_id\": 837628},\n",
    "{\"model_type\": \"e3nn\", \"interpolation\": False, \"struct_type\": \"M3Gnet_relaxed\", \"exp_id\": 837629},\n",
    "]\n"
   ]
  },
  {
   "cell_type": "code",
   "execution_count": 4,
   "id": "16dfde8a",
   "metadata": {},
   "outputs": [],
   "source": [
    "all_tests = [\"test_set\",\"holdout_set_series\",\"holdout_set_B_sites\"]"
   ]
  },
  {
   "cell_type": "code",
   "execution_count": null,
   "id": "e3ad8be8",
   "metadata": {},
   "outputs": [
    {
     "name": "stdout",
     "output_type": "stream",
     "text": [
      "Loaded data\n",
      "Completed data processing\n"
     ]
    },
    {
     "name": "stderr",
     "output_type": "stream",
     "text": [
      "100%|██████████| 6276/6276 [00:02<00:00, 2981.40it/s]\n",
      "100%|██████████| 1261/1261 [00:00<00:00, 3195.73it/s]\n",
      "100%|██████████| 6276/6276 [03:31<00:00, 29.73it/s]\n"
     ]
    },
    {
     "name": "stdout",
     "output_type": "stream",
     "text": [
      "Loaded data\n",
      "Completed data processing\n"
     ]
    },
    {
     "name": "stderr",
     "output_type": "stream",
     "text": [
      "100%|██████████| 6276/6276 [00:01<00:00, 3144.94it/s]\n"
     ]
    }
   ],
   "source": [
    "for param in all_params:\n",
    "    for test in all_tests:\n",
    "        get_model_embedding(test,param,1,\"dft_e_hull\",1,depth=0)"
   ]
  },
  {
   "cell_type": "code",
   "execution_count": 5,
   "id": "e1a01e96",
   "metadata": {},
   "outputs": [],
   "source": [
    "all_params =[\n",
    "{\"model_type\": \"e3nn\", \"interpolation\": False, \"struct_type\": \"unrelaxed\", \"exp_id\": 837627},\n",
    "{\"model_type\": \"e3nn\", \"interpolation\": False, \"struct_type\": \"relaxed\", \"exp_id\": 837628},\n",
    "{\"model_type\": \"e3nn\", \"interpolation\": False, \"struct_type\": \"M3Gnet_relaxed\", \"exp_id\": 837629},\n",
    "]"
   ]
  },
  {
   "cell_type": "code",
   "execution_count": null,
   "id": "c483af47",
   "metadata": {},
   "outputs": [
    {
     "name": "stdout",
     "output_type": "stream",
     "text": [
      "Loaded data\n",
      "Completed data processing\n"
     ]
    },
    {
     "name": "stderr",
     "output_type": "stream",
     "text": [
      "100%|██████████| 6276/6276 [00:01<00:00, 3150.44it/s]\n",
      "100%|██████████| 6276/6276 [04:10<00:00, 25.04it/s]\n",
      "100%|██████████| 1261/1261 [00:00<00:00, 2868.18it/s]\n",
      "100%|██████████| 1261/1261 [00:49<00:00, 25.51it/s]\n",
      "/home/jkdamewo/miniconda3/envs/Perovskite_ML_Environment/lib/python3.10/site-packages/torch/jit/_check.py:181: UserWarning: The TorchScript type system doesn't support instance-level annotations on empty non-base types in `__init__`. Instead, either 1) use a type annotation in the class body, or 2) wrap the type in `torch.jit.Attribute`.\n",
      "  warnings.warn(\"The TorchScript type system doesn't support \"\n"
     ]
    },
    {
     "name": "stdout",
     "output_type": "stream",
     "text": [
      "Loaded data\n",
      "Completed data processing\n"
     ]
    },
    {
     "name": "stderr",
     "output_type": "stream",
     "text": [
      "100%|██████████| 6276/6276 [00:01<00:00, 3140.27it/s]\n",
      "  5%|▍         | 298/6276 [00:11<04:34, 21.79it/s]"
     ]
    }
   ],
   "source": [
    "for param in all_params:\n",
    "    for test in all_tests:\n",
    "        get_model_embedding(test,param,1,\"dft_e_hull\",1,depth=0)"
   ]
  },
  {
   "cell_type": "code",
   "execution_count": null,
   "id": "719b7d36",
   "metadata": {},
   "outputs": [],
   "source": []
  }
 ],
 "metadata": {
  "kernelspec": {
   "display_name": "Perovskite ML",
   "language": "python",
   "name": "perovskite_ml_environment"
  },
  "language_info": {
   "codemirror_mode": {
    "name": "ipython",
    "version": 3
   },
   "file_extension": ".py",
   "mimetype": "text/x-python",
   "name": "python",
   "nbconvert_exporter": "python",
   "pygments_lexer": "ipython3",
   "version": "3.10.11"
  }
 },
 "nbformat": 4,
 "nbformat_minor": 5
}
