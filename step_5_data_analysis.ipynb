{
 "cells": [
  {
   "cell_type": "code",
   "execution_count": 5,
   "metadata": {},
   "outputs": [
    {
     "ename": "ModuleNotFoundError",
     "evalue": "No module named 'seaborn'",
     "output_type": "error",
     "traceback": [
      "\u001b[0;31m---------------------------------------------------------------------------\u001b[0m",
      "\u001b[0;31mModuleNotFoundError\u001b[0m                       Traceback (most recent call last)",
      "Cell \u001b[0;32mIn[5], line 1\u001b[0m\n\u001b[0;32m----> 1\u001b[0m \u001b[39mimport\u001b[39;00m \u001b[39mseaborn\u001b[39;00m \u001b[39mas\u001b[39;00m \u001b[39msns\u001b[39;00m\n\u001b[1;32m      2\u001b[0m \u001b[39mimport\u001b[39;00m \u001b[39mnumpy\u001b[39;00m \u001b[39mas\u001b[39;00m \u001b[39mnp\u001b[39;00m\n\u001b[1;32m      3\u001b[0m \u001b[39mimport\u001b[39;00m \u001b[39mpandas\u001b[39;00m \u001b[39mas\u001b[39;00m \u001b[39mpd\u001b[39;00m\n",
      "\u001b[0;31mModuleNotFoundError\u001b[0m: No module named 'seaborn'"
     ]
    }
   ],
   "source": [
    "import seaborn as sns\n",
    "import numpy as np\n",
    "import pandas as pd\n",
    "from matplotlib import pyplot as plt\n",
    "from sklearn.metrics import mean_absolute_error\n",
    "from scipy.stats import pearsonr\n",
    "\n",
    "from training.sigopt_utils import build_sigopt_name\n",
    "\n",
    "plt.rcParams[\"figure.figsize\"] = (13, 8)\n",
    "plt.rcParams['axes.linewidth'] = 1.0\n",
    "plt.rcParams[\"xtick.major.size\"] = 4\n",
    "plt.rcParams[\"ytick.major.size\"] = 4\n",
    "plt.rcParams[\"ytick.major.width\"] = 2\n",
    "plt.rcParams[\"xtick.major.width\"] = 2\n",
    "plt.rcParams['text.usetex'] = False\n",
    "plt.rc('lines', linewidth=3, color='g')\n",
    "plt.rcParams.update({'font.size': 16})\n",
    "plt.rcParams['font.family'] = \"sans-serif\"\n",
    "plt.rcParams['font.sans-serif'] = \"Arial\"\n",
    "plt.rcParams['mathtext.fontset'] = 'dejavusans'"
   ]
  },
  {
   "cell_type": "code",
   "execution_count": 2,
   "metadata": {},
   "outputs": [],
   "source": [
    "target_prop = \"dft_e_hull\"\n",
    "test_set_types = [\"test_set\", \"holdout_set_B_sites\", \"holdout_set_series\"]\n",
    "hex_figsize = (4, 3.2)\n",
    "\n",
    "experimental_settings = [\n",
    "    {\"model_type\": \"CGCNN\", \"interpolation\": False, \"relaxed\": False, \"exp_id\": 596732},\n",
    "    {\"model_type\": \"CGCNN\", \"interpolation\": False, \"relaxed\": True, \"exp_id\": 596731},\n",
    "    {\"model_type\": \"CGCNN\", \"interpolation\": True, \"relaxed\": False, \"exp_id\": 596670},\n",
    "    {\"model_type\": \"CGCNN\", \"interpolation\": True, \"relaxed\": True, \"exp_id\": 596671},\n",
    "    {\"model_type\": \"Painn\", \"interpolation\": True, \"relaxed\": False, \"exp_id\": 596674},\n",
    "    {\"model_type\": \"Painn\", \"interpolation\": True, \"relaxed\": True, \"exp_id\": 596675},\n",
    "    {\"model_type\": \"e3nn\", \"interpolation\": True, \"relaxed\": False, \"exp_id\": 596676},\n",
    "    {\"model_type\": \"e3nn\", \"interpolation\": True, \"relaxed\": True, \"exp_id\": 596677},\n",
    "    {\"model_type\": \"e3nn_contrastive\", \"interpolation\": True, \"relaxed\": False, \"exp_id\": 596672},\n",
    "    {\"model_type\": \"e3nn_contrastive\", \"interpolation\": True, \"relaxed\": False, \"exp_id\": 597227},\n",
    "    {\"model_type\": \"e3nn_contrastive\", \"interpolation\": True, \"relaxed\": True, \"exp_id\": 596673},\n",
    "    {\"model_type\": \"e3nn_contrastive\", \"interpolation\": True, \"relaxed\": True, \"exp_id\": 597288},\n",
    "]\n"
   ]
  },
  {
   "cell_type": "code",
   "execution_count": 3,
   "metadata": {},
   "outputs": [],
   "source": [
    "def plot_hex(true_values, pred_values, test_set_type, sigopt_name, exp_id, pure_interp=False):\n",
    "    if test_set_type == \"test_set\":\n",
    "        hex_xylim = [-0.1, 1.1]\n",
    "    if test_set_type == \"holdout_set_B_sites\":\n",
    "        hex_xylim = [-0.1, 0.6]\n",
    "    else:\n",
    "        hex_xylim = [0, 0.7]\n",
    "    \n",
    "    mae = mean_absolute_error(true_values, pred_values)\n",
    "    r, _ = pearsonr(true_values, pred_values)\n",
    "    fig, ax = plt.subplots(figsize=hex_figsize)\n",
    "    ax.set_xlabel(\"DFT $E_{\\mathrm{hull}}$ (eV/atom)\")\n",
    "    ax.set_ylabel(\"ML $E_{\\mathrm{hull}}$ (eV/atom)\")\n",
    "    ax.axline((hex_xylim[0], hex_xylim[0]), (hex_xylim[1], hex_xylim[1]), color='black', linestyle='--', linewidth=1)\n",
    "\n",
    "    hb = ax.hexbin(\n",
    "        true_values, pred_values,\n",
    "        cmap='viridis', gridsize=50, bins=None, mincnt=1, edgecolors='none',\n",
    "        extent=[hex_xylim[0], hex_xylim[1], hex_xylim[0], hex_xylim[1]]\n",
    "        )\n",
    "\n",
    "    ax.annotate(\"r = %.3f\\nMAE = %.3f\" % (r, mae), xy=(0.05, 0.95), xycoords='axes fraction', ha='left', va='top')\n",
    "    cb = fig.colorbar(hb)\n",
    "    cb.set_label('Count')\n",
    "    plt.tight_layout()\n",
    "    \n",
    "    if pure_interp:\n",
    "        plt.savefig(\"figures/\" + test_set_type + \"_pure_interpolation_hexbin.pdf\")\n",
    "        print(\"Completed pure interpolation\")\n",
    "    else:\n",
    "        plt.savefig(\"figures/\" + test_set_type + \"_\" + sigopt_name + \"_\" + exp_id +  \"_hexbin.pdf\")\n",
    "        print(\"Completed \" + sigopt_name + \" \" + str(exp_id))\n",
    "\n",
    "    plt.close()"
   ]
  },
  {
   "cell_type": "code",
   "execution_count": 4,
   "metadata": {},
   "outputs": [
    {
     "name": "stdout",
     "output_type": "stream",
     "text": [
      "Completed dft_e_hull_unrelaxed_CGCNN 596732\n",
      "Completed dft_e_hull_unrelaxed_CGCNN 596732\n",
      "Completed dft_e_hull_unrelaxed_CGCNN 596732\n",
      "Completed dft_e_hull_relaxed_CGCNN 596731\n",
      "Completed dft_e_hull_relaxed_CGCNN 596731\n",
      "Completed dft_e_hull_relaxed_CGCNN 596731\n",
      "Completed dft_e_hull_unrelaxed_interpolation_CGCNN 596670\n",
      "Completed dft_e_hull_unrelaxed_interpolation_CGCNN 596670\n",
      "Completed dft_e_hull_unrelaxed_interpolation_CGCNN 596670\n",
      "Completed dft_e_hull_relaxed_interpolation_CGCNN 596671\n",
      "Completed dft_e_hull_relaxed_interpolation_CGCNN 596671\n",
      "Completed dft_e_hull_relaxed_interpolation_CGCNN 596671\n",
      "Completed dft_e_hull_unrelaxed_interpolation_Painn 596674\n",
      "Completed dft_e_hull_unrelaxed_interpolation_Painn 596674\n",
      "Completed dft_e_hull_unrelaxed_interpolation_Painn 596674\n",
      "Completed dft_e_hull_relaxed_interpolation_Painn 596675\n",
      "Completed dft_e_hull_relaxed_interpolation_Painn 596675\n",
      "Completed dft_e_hull_relaxed_interpolation_Painn 596675\n",
      "Completed dft_e_hull_unrelaxed_interpolation_e3nn 596676\n",
      "Completed dft_e_hull_unrelaxed_interpolation_e3nn 596676\n",
      "Completed dft_e_hull_unrelaxed_interpolation_e3nn 596676\n",
      "Completed dft_e_hull_relaxed_interpolation_e3nn 596677\n",
      "Completed dft_e_hull_relaxed_interpolation_e3nn 596677\n",
      "Completed dft_e_hull_relaxed_interpolation_e3nn 596677\n",
      "Completed dft_e_hull_unrelaxed_interpolation_e3nn_contrastive 596672\n",
      "Completed dft_e_hull_unrelaxed_interpolation_e3nn_contrastive 596672\n",
      "Completed dft_e_hull_unrelaxed_interpolation_e3nn_contrastive 596672\n",
      "Completed dft_e_hull_unrelaxed_interpolation_e3nn_contrastive 597227\n",
      "Completed dft_e_hull_unrelaxed_interpolation_e3nn_contrastive 597227\n",
      "Completed dft_e_hull_unrelaxed_interpolation_e3nn_contrastive 597227\n",
      "Completed dft_e_hull_relaxed_interpolation_e3nn_contrastive 596673\n",
      "Completed dft_e_hull_relaxed_interpolation_e3nn_contrastive 596673\n",
      "Completed dft_e_hull_relaxed_interpolation_e3nn_contrastive 596673\n",
      "Completed dft_e_hull_relaxed_interpolation_e3nn_contrastive 597288\n",
      "Completed pure interpolation\n",
      "Completed dft_e_hull_relaxed_interpolation_e3nn_contrastive 597288\n",
      "Completed pure interpolation\n",
      "Completed dft_e_hull_relaxed_interpolation_e3nn_contrastive 597288\n",
      "Completed pure interpolation\n"
     ]
    }
   ],
   "source": [
    "for experimental_setting in experimental_settings:\n",
    "    sigopt_name = build_sigopt_name(target_prop, experimental_setting[\"relaxed\"], experimental_setting[\"interpolation\"], experimental_setting[\"model_type\"])\n",
    "    directory = \"./best_models/\" + experimental_setting[\"model_type\"] + \"/\" + sigopt_name + \"/\" +str(experimental_setting[\"exp_id\"])\n",
    "    test_set_dfs = {}\n",
    "\n",
    "    for test_set_type in test_set_types:\n",
    "        test_set_dfs[test_set_type] = []\n",
    "        for i in range(3):\n",
    "            with open(directory + \"/\" + \"best_\" + str(i) + \"/\" + test_set_type + \"_predictions.json\") as f:\n",
    "                test_set_dfs[test_set_type].append(pd.read_json(f))\n",
    "\n",
    "        true_values = test_set_dfs[test_set_type][0][target_prop].to_numpy()\n",
    "    \n",
    "        pred_values_mean = np.mean(np.vstack((\n",
    "            test_set_dfs[test_set_type][0]['predicted_' + target_prop].to_numpy(),\n",
    "            test_set_dfs[test_set_type][1]['predicted_' + target_prop].to_numpy(),\n",
    "            test_set_dfs[test_set_type][2]['predicted_' + target_prop].to_numpy(),\n",
    "        )), axis=0)\n",
    "    \n",
    "        plot_hex(true_values, pred_values_mean, test_set_type, sigopt_name, str(experimental_setting[\"exp_id\"]))\n",
    "    \n",
    "        if experimental_setting == experimental_settings[-1]:\n",
    "            plot_hex(\n",
    "                true_values, test_set_dfs[test_set_type][0][target_prop + '_interp'].to_numpy(),\n",
    "                test_set_type, None, None, pure_interp=True\n",
    "                )"
   ]
  },
  {
   "cell_type": "code",
   "execution_count": null,
   "metadata": {},
   "outputs": [],
   "source": []
  },
  {
   "cell_type": "code",
   "execution_count": null,
   "metadata": {},
   "outputs": [],
   "source": []
  },
  {
   "cell_type": "code",
   "execution_count": null,
   "metadata": {},
   "outputs": [],
   "source": []
  },
  {
   "cell_type": "code",
   "execution_count": null,
   "metadata": {},
   "outputs": [],
   "source": []
  },
  {
   "cell_type": "code",
   "execution_count": null,
   "metadata": {},
   "outputs": [],
   "source": []
  },
  {
   "cell_type": "code",
   "execution_count": null,
   "metadata": {},
   "outputs": [],
   "source": []
  },
  {
   "cell_type": "code",
   "execution_count": null,
   "metadata": {},
   "outputs": [],
   "source": []
  },
  {
   "cell_type": "code",
   "execution_count": null,
   "metadata": {},
   "outputs": [],
   "source": []
  },
  {
   "cell_type": "code",
   "execution_count": null,
   "metadata": {},
   "outputs": [],
   "source": []
  },
  {
   "cell_type": "code",
   "execution_count": null,
   "metadata": {},
   "outputs": [],
   "source": []
  },
  {
   "cell_type": "code",
   "execution_count": null,
   "metadata": {},
   "outputs": [],
   "source": []
  }
 ],
 "metadata": {
  "kernelspec": {
   "display_name": "Perovskite_ML_Environment",
   "language": "python",
   "name": "python3"
  },
  "language_info": {
   "codemirror_mode": {
    "name": "ipython",
    "version": 3
   },
   "file_extension": ".py",
   "mimetype": "text/x-python",
   "name": "python",
   "nbconvert_exporter": "python",
   "pygments_lexer": "ipython3",
   "version": "3.10.11"
  },
  "orig_nbformat": 4
 },
 "nbformat": 4,
 "nbformat_minor": 2
}
