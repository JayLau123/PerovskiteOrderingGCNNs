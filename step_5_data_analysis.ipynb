{
 "cells": [
  {
   "cell_type": "code",
   "execution_count": 1,
   "metadata": {},
   "outputs": [
    {
     "name": "stderr",
     "output_type": "stream",
     "text": [
      "/home/jypeng/miniconda3/envs/Perovskite_ML_Environment/lib/python3.10/site-packages/tqdm/auto.py:21: TqdmWarning: IProgress not found. Please update jupyter and ipywidgets. See https://ipywidgets.readthedocs.io/en/stable/user_install.html\n",
      "  from .autonotebook import tqdm as notebook_tqdm\n"
     ]
    }
   ],
   "source": [
    "from inference.data_analysis import *"
   ]
  },
  {
   "cell_type": "code",
   "execution_count": 2,
   "metadata": {},
   "outputs": [],
   "source": [
    "target_prop = \"dft_e_hull\"\n",
    "test_set_types = [\"test_set\", \"holdout_set_B_sites\", \"holdout_set_series\"]\n",
    "\n",
    "experimental_settings = [\n",
    "    {\"model_type\": \"CGCNN\", \"interpolation\": False, \"relaxed\": False, \"exp_id\": 596732},\n",
    "    {\"model_type\": \"CGCNN\", \"interpolation\": False, \"relaxed\": True, \"exp_id\": 596731},\n",
    "    {\"model_type\": \"CGCNN\", \"interpolation\": True, \"relaxed\": False, \"exp_id\": 596670},\n",
    "    {\"model_type\": \"CGCNN\", \"interpolation\": True, \"relaxed\": True, \"exp_id\": 596671},\n",
    "    {\"model_type\": \"Painn\", \"interpolation\": True, \"relaxed\": False, \"exp_id\": 596674},\n",
    "    {\"model_type\": \"Painn\", \"interpolation\": True, \"relaxed\": True, \"exp_id\": 596675},\n",
    "    {\"model_type\": \"e3nn\", \"interpolation\": True, \"relaxed\": False, \"exp_id\": 596676},\n",
    "    {\"model_type\": \"e3nn\", \"interpolation\": True, \"relaxed\": True, \"exp_id\": 596677},\n",
    "    {\"model_type\": \"e3nn_contrastive\", \"interpolation\": True, \"relaxed\": False, \"exp_id\": 596672},\n",
    "    {\"model_type\": \"e3nn_contrastive\", \"interpolation\": True, \"relaxed\": False, \"exp_id\": 597227},\n",
    "    {\"model_type\": \"e3nn_contrastive\", \"interpolation\": True, \"relaxed\": True, \"exp_id\": 596673},\n",
    "    {\"model_type\": \"e3nn_contrastive\", \"interpolation\": True, \"relaxed\": True, \"exp_id\": 597288},\n",
    "]\n",
    "\n",
    "series = [\n",
    "    [[\"La\", \"Pr\"], [\"Y\", \"Ni\"]],\n",
    "    [[\"K\", \"Ba\"], [\"Ti\", \"Al\"]],\n",
    "    [[\"Y\", \"La\"], [\"In\", \"Mg\"]],\n",
    "    [[\"Mg\", \"Pr\"], [\"Ni\", \"V\"]],\n",
    "]"
   ]
  },
  {
   "cell_type": "code",
   "execution_count": 3,
   "metadata": {},
   "outputs": [
    {
     "name": "stdout",
     "output_type": "stream",
     "text": [
      "Completed dft_e_hull_unrelaxed_CGCNN 596732\n",
      "Completed dft_e_hull_unrelaxed_CGCNN 596732\n",
      "Completed dft_e_hull_unrelaxed_CGCNN 596732\n",
      "Completed dft_e_hull_relaxed_CGCNN 596731\n",
      "Completed dft_e_hull_relaxed_CGCNN 596731\n",
      "Completed dft_e_hull_relaxed_CGCNN 596731\n",
      "Completed dft_e_hull_unrelaxed_interpolation_CGCNN 596670\n",
      "Completed dft_e_hull_unrelaxed_interpolation_CGCNN 596670\n",
      "Completed dft_e_hull_unrelaxed_interpolation_CGCNN 596670\n",
      "Completed dft_e_hull_relaxed_interpolation_CGCNN 596671\n",
      "Completed dft_e_hull_relaxed_interpolation_CGCNN 596671\n",
      "Completed dft_e_hull_relaxed_interpolation_CGCNN 596671\n",
      "Completed dft_e_hull_unrelaxed_interpolation_Painn 596674\n",
      "Completed dft_e_hull_unrelaxed_interpolation_Painn 596674\n",
      "Completed dft_e_hull_unrelaxed_interpolation_Painn 596674\n",
      "Completed dft_e_hull_relaxed_interpolation_Painn 596675\n",
      "Completed dft_e_hull_relaxed_interpolation_Painn 596675\n",
      "Completed dft_e_hull_relaxed_interpolation_Painn 596675\n",
      "Completed dft_e_hull_unrelaxed_interpolation_e3nn 596676\n",
      "Completed dft_e_hull_unrelaxed_interpolation_e3nn 596676\n",
      "Completed dft_e_hull_unrelaxed_interpolation_e3nn 596676\n",
      "Completed dft_e_hull_relaxed_interpolation_e3nn 596677\n",
      "Completed dft_e_hull_relaxed_interpolation_e3nn 596677\n",
      "Completed dft_e_hull_relaxed_interpolation_e3nn 596677\n",
      "Completed dft_e_hull_unrelaxed_interpolation_e3nn_contrastive 596672\n",
      "Completed dft_e_hull_unrelaxed_interpolation_e3nn_contrastive 596672\n",
      "Completed dft_e_hull_unrelaxed_interpolation_e3nn_contrastive 596672\n",
      "Completed dft_e_hull_unrelaxed_interpolation_e3nn_contrastive 597227\n",
      "Completed dft_e_hull_unrelaxed_interpolation_e3nn_contrastive 597227\n",
      "Completed dft_e_hull_unrelaxed_interpolation_e3nn_contrastive 597227\n",
      "Completed dft_e_hull_relaxed_interpolation_e3nn_contrastive 596673\n",
      "Completed dft_e_hull_relaxed_interpolation_e3nn_contrastive 596673\n",
      "Completed dft_e_hull_relaxed_interpolation_e3nn_contrastive 596673\n",
      "Completed dft_e_hull_relaxed_interpolation_e3nn_contrastive 597288\n",
      "Completed pure interpolation\n",
      "Completed dft_e_hull_relaxed_interpolation_e3nn_contrastive 597288\n",
      "Completed pure interpolation\n",
      "Completed dft_e_hull_relaxed_interpolation_e3nn_contrastive 597288\n",
      "Completed pure interpolation\n"
     ]
    }
   ],
   "source": [
    "plot_hex_all(target_prop, test_set_types, experimental_settings)"
   ]
  },
  {
   "cell_type": "code",
   "execution_count": 4,
   "metadata": {},
   "outputs": [],
   "source": [
    "# plot_violin_all(target_prop, experimental_settings, series)"
   ]
  },
  {
   "cell_type": "code",
   "execution_count": 5,
   "metadata": {},
   "outputs": [],
   "source": [
    "# plot_training_e3nn_contrastive(target_prop, experimental_settings)"
   ]
  },
  {
   "cell_type": "code",
   "execution_count": null,
   "metadata": {},
   "outputs": [],
   "source": []
  },
  {
   "cell_type": "code",
   "execution_count": null,
   "metadata": {},
   "outputs": [],
   "source": []
  }
 ],
 "metadata": {
  "kernelspec": {
   "display_name": "Perovskite_ML_Environment",
   "language": "python",
   "name": "python3"
  },
  "language_info": {
   "codemirror_mode": {
    "name": "ipython",
    "version": 3
   },
   "file_extension": ".py",
   "mimetype": "text/x-python",
   "name": "python",
   "nbconvert_exporter": "python",
   "pygments_lexer": "ipython3",
   "version": "3.10.11"
  },
  "orig_nbformat": 4
 },
 "nbformat": 4,
 "nbformat_minor": 2
}
