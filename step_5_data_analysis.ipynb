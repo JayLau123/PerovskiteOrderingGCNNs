{
 "cells": [
  {
   "cell_type": "code",
   "execution_count": 1,
   "metadata": {},
   "outputs": [
    {
     "name": "stderr",
     "output_type": "stream",
     "text": [
      "/home/jypeng/miniconda3/envs/Perovskite_ML_Environment/lib/python3.10/site-packages/tqdm/auto.py:21: TqdmWarning: IProgress not found. Please update jupyter and ipywidgets. See https://ipywidgets.readthedocs.io/en/stable/user_install.html\n",
      "  from .autonotebook import tqdm as notebook_tqdm\n"
     ]
    }
   ],
   "source": [
    "from inference.data_analysis import *"
   ]
  },
  {
   "cell_type": "code",
   "execution_count": 2,
   "metadata": {},
   "outputs": [],
   "source": [
    "target_prop = \"dft_e_hull\"\n",
    "test_set_types = [\"test_set\", \"holdout_set_B_sites\", \"holdout_set_series\"]\n",
    "\n",
    "experimental_settings = [\n",
    "    {\"model_type\": \"CGCNN\", \"interpolation\": False, \"relaxed\": False, \"exp_id\": 596732},\n",
    "    {\"model_type\": \"CGCNN\", \"interpolation\": False, \"relaxed\": True, \"exp_id\": 596731},\n",
    "    {\"model_type\": \"CGCNN\", \"interpolation\": True, \"relaxed\": False, \"exp_id\": 596670},\n",
    "    {\"model_type\": \"CGCNN\", \"interpolation\": True, \"relaxed\": True, \"exp_id\": 596671},\n",
    "    {\"model_type\": \"Painn\", \"interpolation\": True, \"relaxed\": False, \"exp_id\": 596674},\n",
    "    {\"model_type\": \"Painn\", \"interpolation\": True, \"relaxed\": True, \"exp_id\": 596675},\n",
    "    {\"model_type\": \"e3nn\", \"interpolation\": True, \"relaxed\": False, \"exp_id\": 596676},\n",
    "    {\"model_type\": \"e3nn\", \"interpolation\": True, \"relaxed\": True, \"exp_id\": 596677},\n",
    "    {\"model_type\": \"e3nn_contrastive\", \"interpolation\": True, \"relaxed\": False, \"exp_id\": 596672},\n",
    "    {\"model_type\": \"e3nn_contrastive\", \"interpolation\": True, \"relaxed\": False, \"exp_id\": 597227},\n",
    "    {\"model_type\": \"e3nn_contrastive\", \"interpolation\": True, \"relaxed\": True, \"exp_id\": 596673},\n",
    "    {\"model_type\": \"e3nn_contrastive\", \"interpolation\": True, \"relaxed\": True, \"exp_id\": 597288},\n",
    "]\n",
    "\n",
    "series = [\n",
    "    [[\"La\", \"Pr\"], [\"Y\", \"Ni\"]],\n",
    "    [[\"K\", \"Ba\"], [\"Ti\", \"Al\"]],\n",
    "    [[\"Y\", \"La\"], [\"In\", \"Mg\"]],\n",
    "    [[\"Mg\", \"Pr\"], [\"Ni\", \"V\"]],\n",
    "]"
   ]
  },
  {
   "cell_type": "code",
   "execution_count": 3,
   "metadata": {},
   "outputs": [],
   "source": [
    "# plot_hex_all(target_prop, test_set_types, experimental_settings)"
   ]
  },
  {
   "cell_type": "code",
   "execution_count": 4,
   "metadata": {},
   "outputs": [],
   "source": [
    "# plot_violin_all(target_prop, experimental_settings, series)"
   ]
  },
  {
   "cell_type": "code",
   "execution_count": 5,
   "metadata": {},
   "outputs": [],
   "source": [
    "# plot_training_e3nn_contrastive(target_prop, experimental_settings)"
   ]
  },
  {
   "cell_type": "code",
   "execution_count": 6,
   "metadata": {},
   "outputs": [
    {
     "name": "stdout",
     "output_type": "stream",
     "text": [
      "Completed dft_e_hull_unrelaxed_CGCNN 596732\n",
      "Completed dft_e_hull_relaxed_CGCNN 596731\n",
      "Completed dft_e_hull_unrelaxed_interpolation_CGCNN 596670\n",
      "Completed dft_e_hull_relaxed_interpolation_CGCNN 596671\n",
      "Completed dft_e_hull_unrelaxed_interpolation_Painn 596674\n",
      "Completed dft_e_hull_relaxed_interpolation_Painn 596675\n",
      "Completed dft_e_hull_unrelaxed_interpolation_e3nn 596676\n",
      "Completed dft_e_hull_relaxed_interpolation_e3nn 596677\n",
      "Completed dft_e_hull_unrelaxed_interpolation_e3nn_contrastive 596672\n",
      "Completed dft_e_hull_unrelaxed_interpolation_e3nn_contrastive 597227\n",
      "Completed dft_e_hull_relaxed_interpolation_e3nn_contrastive 596673\n",
      "Completed dft_e_hull_relaxed_interpolation_e3nn_contrastive 597288\n"
     ]
    }
   ],
   "source": [
    "num_best_models = 3\n",
    "test_set_type = \"holdout_set_series\"\n",
    "\n",
    "for experimental_setting in experimental_settings:\n",
    "    sigopt_name = build_sigopt_name(target_prop, experimental_setting[\"relaxed\"], experimental_setting[\"interpolation\"], experimental_setting[\"model_type\"])\n",
    "    directory = \"./best_models/\" + experimental_setting[\"model_type\"] + \"/\" + sigopt_name + \"/\" +str(experimental_setting[\"exp_id\"])\n",
    "    test_set_dfs = []\n",
    "    \n",
    "    for i in range(num_best_models):\n",
    "        with open(directory + \"/\" + \"best_\" + str(i) + \"/\" + test_set_type + \"_predictions.json\") as f:\n",
    "            test_set_dfs.append(pd.read_json(f).sort_values(by=[\"formula\", \"unrelaxed_cryst_id\"]))\n",
    "\n",
    "    compositions = list(set(test_set_dfs[0][\"formula\"]))\n",
    "\n",
    "    # all_predicted_layered_rocksalt_diff = []\n",
    "    # all_true_layered_rocksalt_diff = []\n",
    "    all_predicted_energies_vs_groundstate = []\n",
    "    all_true_energies_vs_groundstate = []\n",
    "\n",
    "    for i in range(num_best_models):\n",
    "        # predicted_layered_rocksalt_diff = []\n",
    "        # true_layered_rocksalt_diff = []\n",
    "        predicted_energies_vs_groundstate = []\n",
    "        true_energies_vs_groundstate = []\n",
    "\n",
    "        for composition in compositions:\n",
    "            selected_df = test_set_dfs[i].loc[test_set_dfs[i][\"formula\"] == composition]\n",
    "            \n",
    "            adjusted_predicted_energies = list(np.array(selected_df[\"predicted_\" + target_prop]) - selected_df[\"predicted_\" + target_prop].min())\n",
    "            predicted_energies_vs_groundstate = predicted_energies_vs_groundstate + adjusted_predicted_energies\n",
    "            adjusted_true_energies = list(np.array(selected_df[target_prop]) - selected_df[target_prop].min())\n",
    "            true_energies_vs_groundstate = true_energies_vs_groundstate + adjusted_true_energies\n",
    "            \n",
    "            ids = list(selected_df[\"unrelaxed_cryst_id\"])\n",
    "            # predicted_layered = selected_df.loc[selected_df[\"unrelaxed_cryst_id\"] == min(ids)][\"predicted_\" + target_prop]\n",
    "            # predicted_rocksalt = selected_df.loc[selected_df[\"unrelaxed_cryst_id\"] == max(ids)][\"predicted_\" + target_prop]\n",
    "            # true_layered = selected_df.loc[selected_df[\"unrelaxed_cryst_id\"] == min(ids)][target_prop]\n",
    "            # true_rocksalt = selected_df.loc[selected_df[\"unrelaxed_cryst_id\"] == max(ids)][target_prop]\n",
    "            # predicted_layered_rocksalt_diff.append(float(predicted_layered) - float(predicted_rocksalt))\n",
    "            # true_layered_rocksalt_diff.append(float(true_layered) - float(true_rocksalt))\n",
    "\n",
    "        # all_predicted_layered_rocksalt_diff.append(predicted_layered_rocksalt_diff)\n",
    "        # all_true_layered_rocksalt_diff.append(true_layered_rocksalt_diff)\n",
    "        all_predicted_energies_vs_groundstate.append(predicted_energies_vs_groundstate)\n",
    "        all_true_energies_vs_groundstate.append(true_energies_vs_groundstate)\n",
    "\n",
    "    # all_predicted_layered_rocksalt_diff = np.array(all_predicted_layered_rocksalt_diff).T\n",
    "    # all_true_layered_rocksalt_diff = np.array(all_true_layered_rocksalt_diff).T\n",
    "    all_predicted_energies_vs_groundstate = np.array(all_predicted_energies_vs_groundstate).T\n",
    "    all_true_energies_vs_groundstate = np.array(all_true_energies_vs_groundstate).T\n",
    "\n",
    "    # all_predicted_layered_rocksalt_diff_mean = np.mean(all_predicted_layered_rocksalt_diff, axis=1)\n",
    "    # all_true_layered_rocksalt_diff_mean = np.mean(all_true_layered_rocksalt_diff, axis=1)\n",
    "\n",
    "    # maes = []\n",
    "    # for i in range(num_best_models):\n",
    "    #     maes.append(mean_absolute_error(all_true_layered_rocksalt_diff[:,i], all_predicted_layered_rocksalt_diff[:,i]))\n",
    "    # mae_mean = np.mean(maes)\n",
    "    # mae_std = np.std(maes)\n",
    "\n",
    "    # plot_hex(\n",
    "    #     all_true_layered_rocksalt_diff_mean, all_predicted_layered_rocksalt_diff_mean, test_set_type, \n",
    "    #     experimental_setting, sigopt_name, str(experimental_setting[\"exp_id\"]), \n",
    "    #     additional_string=\"layered_rocksalt\",mae_mean=mae_mean, mae_std=mae_std\n",
    "    #     )\n",
    "    \n",
    "    all_predicted_energies_vs_groundstate_mean = np.mean(all_predicted_energies_vs_groundstate, axis=1)\n",
    "    all_true_energies_vs_groundstate_mean = np.mean(all_true_energies_vs_groundstate, axis=1)\n",
    "\n",
    "    maes = []\n",
    "    for i in range(num_best_models):\n",
    "        maes.append(mean_absolute_error(all_true_energies_vs_groundstate[:,i], all_predicted_energies_vs_groundstate[:,i]))\n",
    "    mae_mean = np.mean(maes)\n",
    "    mae_std = np.std(maes)\n",
    "\n",
    "    plot_hex(\n",
    "        all_true_energies_vs_groundstate_mean, all_predicted_energies_vs_groundstate_mean, test_set_type,\n",
    "        experimental_setting, sigopt_name, str(experimental_setting[\"exp_id\"]),\n",
    "        additional_string=\"energies_vs_groundstate\", mae_mean=mae_mean, mae_std=mae_std\n",
    "        )"
   ]
  },
  {
   "cell_type": "code",
   "execution_count": null,
   "metadata": {},
   "outputs": [],
   "source": []
  },
  {
   "cell_type": "code",
   "execution_count": null,
   "metadata": {},
   "outputs": [],
   "source": []
  },
  {
   "cell_type": "code",
   "execution_count": null,
   "metadata": {},
   "outputs": [],
   "source": []
  },
  {
   "cell_type": "code",
   "execution_count": null,
   "metadata": {},
   "outputs": [],
   "source": []
  },
  {
   "cell_type": "code",
   "execution_count": null,
   "metadata": {},
   "outputs": [],
   "source": []
  }
 ],
 "metadata": {
  "kernelspec": {
   "display_name": "Perovskite_ML_Environment",
   "language": "python",
   "name": "python3"
  },
  "language_info": {
   "codemirror_mode": {
    "name": "ipython",
    "version": 3
   },
   "file_extension": ".py",
   "mimetype": "text/x-python",
   "name": "python",
   "nbconvert_exporter": "python",
   "pygments_lexer": "ipython3",
   "version": "3.10.11"
  },
  "orig_nbformat": 4
 },
 "nbformat": 4,
 "nbformat_minor": 2
}
